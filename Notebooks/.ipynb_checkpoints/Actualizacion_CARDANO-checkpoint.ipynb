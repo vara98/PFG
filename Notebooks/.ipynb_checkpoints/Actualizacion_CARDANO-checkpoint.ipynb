{
 "cells": [
  {
   "cell_type": "markdown",
   "metadata": {
    "id": "pwpJTbbEbzvN"
   },
   "source": [
    "#### PFG CARGA DE DATOS DE CARDANO"
   ]
  },
  {
   "cell_type": "code",
   "execution_count": 1,
   "metadata": {
    "colab": {
     "base_uri": "https://localhost:8080/"
    },
    "id": "XGrID5rpbzvR",
    "outputId": "9babc5a4-2fb6-4025-dc33-f06ce2a54ee2"
   },
   "outputs": [
    {
     "name": "stdout",
     "output_type": "stream",
     "text": [
      "Once deleted, variables cannot be recovered. Proceed (y/[n])? y\n"
     ]
    }
   ],
   "source": [
    "%reset\n",
    "\n",
    "import numpy as np\n",
    "import pandas as pd\n",
    "import calendar\n",
    "import seaborn as sns\n",
    "from sklearn import linear_model, svm\n",
    "from sklearn.metrics import mean_squared_error, r2_score\n",
    "from sklearn.model_selection import train_test_split\n",
    "import plotly.express as px\n",
    "from matplotlib import pyplot as plt\n",
    "from mpl_toolkits.mplot3d import Axes3D"
   ]
  },
  {
   "cell_type": "markdown",
   "metadata": {
    "id": "2Msx6aPibzvT"
   },
   "source": [
    "## Lectura de los datos "
   ]
  },
  {
   "cell_type": "code",
   "execution_count": 2,
   "metadata": {
    "colab": {
     "base_uri": "https://localhost:8080/",
     "height": 881
    },
    "id": "ZTr1oFzAbzvT",
    "outputId": "45f36c74-46d2-41c3-c64c-202478627943",
    "scrolled": true
   },
   "outputs": [
    {
     "data": {
      "text/html": [
       "<div>\n",
       "<style scoped>\n",
       "    .dataframe tbody tr th:only-of-type {\n",
       "        vertical-align: middle;\n",
       "    }\n",
       "\n",
       "    .dataframe tbody tr th {\n",
       "        vertical-align: top;\n",
       "    }\n",
       "\n",
       "    .dataframe thead th {\n",
       "        text-align: right;\n",
       "    }\n",
       "</style>\n",
       "<table border=\"1\" class=\"dataframe\">\n",
       "  <thead>\n",
       "    <tr style=\"text-align: right;\">\n",
       "      <th></th>\n",
       "      <th>Fecha</th>\n",
       "      <th>Abrir*</th>\n",
       "      <th>Elevar</th>\n",
       "      <th>Disminuir</th>\n",
       "      <th>Cerrar**</th>\n",
       "      <th>Volumen</th>\n",
       "      <th>Cap. de Mercado</th>\n",
       "      <th>Porcentaje Respecto al dia anterior en el abrir del mercado</th>\n",
       "      <th>Porcentaje de Volumen respecto al dia anterior</th>\n",
       "      <th>Porcentaje Cap. De Mercado respecto al día anterior</th>\n",
       "      <th>Ganancia</th>\n",
       "    </tr>\n",
       "  </thead>\n",
       "  <tbody>\n",
       "    <tr>\n",
       "      <th>0</th>\n",
       "      <td>May 31, 2021</td>\n",
       "      <td>1.29</td>\n",
       "      <td>1.44</td>\n",
       "      <td>1.25</td>\n",
       "      <td>1.43</td>\n",
       "      <td>3685276837</td>\n",
       "      <td>45688593288</td>\n",
       "      <td>12.173913</td>\n",
       "      <td>-9.678482</td>\n",
       "      <td>10.546761</td>\n",
       "      <td>SI</td>\n",
       "    </tr>\n",
       "    <tr>\n",
       "      <th>1</th>\n",
       "      <td>May 30, 2021</td>\n",
       "      <td>1.15</td>\n",
       "      <td>1.39</td>\n",
       "      <td>1.11</td>\n",
       "      <td>1.29</td>\n",
       "      <td>4080175939</td>\n",
       "      <td>41329653379</td>\n",
       "      <td>-7.258065</td>\n",
       "      <td>27.473459</td>\n",
       "      <td>12.163446</td>\n",
       "      <td>NO</td>\n",
       "    </tr>\n",
       "    <tr>\n",
       "      <th>2</th>\n",
       "      <td>May 29, 2021</td>\n",
       "      <td>1.24</td>\n",
       "      <td>1.28</td>\n",
       "      <td>1.10</td>\n",
       "      <td>1.15</td>\n",
       "      <td>3200804278</td>\n",
       "      <td>36847702894</td>\n",
       "      <td>-8.148148</td>\n",
       "      <td>-27.387997</td>\n",
       "      <td>-7.019925</td>\n",
       "      <td>NO</td>\n",
       "    </tr>\n",
       "    <tr>\n",
       "      <th>3</th>\n",
       "      <td>May 28, 2021</td>\n",
       "      <td>1.35</td>\n",
       "      <td>1.38</td>\n",
       "      <td>1.19</td>\n",
       "      <td>1.24</td>\n",
       "      <td>4408092521</td>\n",
       "      <td>39629676579</td>\n",
       "      <td>-7.534247</td>\n",
       "      <td>25.953349</td>\n",
       "      <td>-8.122345</td>\n",
       "      <td>NO</td>\n",
       "    </tr>\n",
       "    <tr>\n",
       "      <th>4</th>\n",
       "      <td>May 27, 2021</td>\n",
       "      <td>1.46</td>\n",
       "      <td>1.47</td>\n",
       "      <td>1.32</td>\n",
       "      <td>1.35</td>\n",
       "      <td>3499781916</td>\n",
       "      <td>43133095187</td>\n",
       "      <td>14.960630</td>\n",
       "      <td>-35.417047</td>\n",
       "      <td>-7.219788</td>\n",
       "      <td>SI</td>\n",
       "    </tr>\n",
       "    <tr>\n",
       "      <th>...</th>\n",
       "      <td>...</td>\n",
       "      <td>...</td>\n",
       "      <td>...</td>\n",
       "      <td>...</td>\n",
       "      <td>...</td>\n",
       "      <td>...</td>\n",
       "      <td>...</td>\n",
       "      <td>...</td>\n",
       "      <td>...</td>\n",
       "      <td>...</td>\n",
       "      <td>...</td>\n",
       "    </tr>\n",
       "    <tr>\n",
       "      <th>1334</th>\n",
       "      <td>Oct 05, 2017</td>\n",
       "      <td>0.02</td>\n",
       "      <td>0.02</td>\n",
       "      <td>0.02</td>\n",
       "      <td>0.02</td>\n",
       "      <td>4732440</td>\n",
       "      <td>473999524</td>\n",
       "      <td>0.000000</td>\n",
       "      <td>-38.226226</td>\n",
       "      <td>-2.069030</td>\n",
       "      <td>SI</td>\n",
       "    </tr>\n",
       "    <tr>\n",
       "      <th>1335</th>\n",
       "      <td>Oct 04, 2017</td>\n",
       "      <td>0.02</td>\n",
       "      <td>0.02</td>\n",
       "      <td>0.02</td>\n",
       "      <td>0.02</td>\n",
       "      <td>7660921</td>\n",
       "      <td>484013915</td>\n",
       "      <td>0.000000</td>\n",
       "      <td>-47.132803</td>\n",
       "      <td>5.198441</td>\n",
       "      <td>SI</td>\n",
       "    </tr>\n",
       "    <tr>\n",
       "      <th>1336</th>\n",
       "      <td>Oct 03, 2017</td>\n",
       "      <td>0.02</td>\n",
       "      <td>0.02</td>\n",
       "      <td>0.02</td>\n",
       "      <td>0.02</td>\n",
       "      <td>14490878</td>\n",
       "      <td>460096091</td>\n",
       "      <td>0.000000</td>\n",
       "      <td>-70.330068</td>\n",
       "      <td>-13.657779</td>\n",
       "      <td>SI</td>\n",
       "    </tr>\n",
       "    <tr>\n",
       "      <th>1337</th>\n",
       "      <td>Oct 02, 2017</td>\n",
       "      <td>0.02</td>\n",
       "      <td>0.03</td>\n",
       "      <td>0.02</td>\n",
       "      <td>0.02</td>\n",
       "      <td>48840281</td>\n",
       "      <td>532874980</td>\n",
       "      <td>0.000000</td>\n",
       "      <td>15.221966</td>\n",
       "      <td>0.000000</td>\n",
       "      <td>SI</td>\n",
       "    </tr>\n",
       "    <tr>\n",
       "      <th>1338</th>\n",
       "      <td>Oct 01, 2017</td>\n",
       "      <td>0.02</td>\n",
       "      <td>0.03</td>\n",
       "      <td>0.01</td>\n",
       "      <td>0.02</td>\n",
       "      <td>42387995</td>\n",
       "      <td>0</td>\n",
       "      <td>0.000000</td>\n",
       "      <td>0.000000</td>\n",
       "      <td>0.000000</td>\n",
       "      <td>SI</td>\n",
       "    </tr>\n",
       "  </tbody>\n",
       "</table>\n",
       "<p>1339 rows × 11 columns</p>\n",
       "</div>"
      ],
      "text/plain": [
       "             Fecha  Abrir*  Elevar  Disminuir  Cerrar**     Volumen  \\\n",
       "0     May 31, 2021    1.29    1.44       1.25      1.43  3685276837   \n",
       "1     May 30, 2021    1.15    1.39       1.11      1.29  4080175939   \n",
       "2     May 29, 2021    1.24    1.28       1.10      1.15  3200804278   \n",
       "3     May 28, 2021    1.35    1.38       1.19      1.24  4408092521   \n",
       "4     May 27, 2021    1.46    1.47       1.32      1.35  3499781916   \n",
       "...            ...     ...     ...        ...       ...         ...   \n",
       "1334  Oct 05, 2017    0.02    0.02       0.02      0.02     4732440   \n",
       "1335  Oct 04, 2017    0.02    0.02       0.02      0.02     7660921   \n",
       "1336  Oct 03, 2017    0.02    0.02       0.02      0.02    14490878   \n",
       "1337  Oct 02, 2017    0.02    0.03       0.02      0.02    48840281   \n",
       "1338  Oct 01, 2017    0.02    0.03       0.01      0.02    42387995   \n",
       "\n",
       "      Cap. de Mercado  \\\n",
       "0         45688593288   \n",
       "1         41329653379   \n",
       "2         36847702894   \n",
       "3         39629676579   \n",
       "4         43133095187   \n",
       "...               ...   \n",
       "1334        473999524   \n",
       "1335        484013915   \n",
       "1336        460096091   \n",
       "1337        532874980   \n",
       "1338                0   \n",
       "\n",
       "      Porcentaje Respecto al dia anterior en el abrir del mercado  \\\n",
       "0                                             12.173913             \n",
       "1                                             -7.258065             \n",
       "2                                             -8.148148             \n",
       "3                                             -7.534247             \n",
       "4                                             14.960630             \n",
       "...                                                 ...             \n",
       "1334                                           0.000000             \n",
       "1335                                           0.000000             \n",
       "1336                                           0.000000             \n",
       "1337                                           0.000000             \n",
       "1338                                           0.000000             \n",
       "\n",
       "      Porcentaje de Volumen respecto al dia anterior  \\\n",
       "0                                          -9.678482   \n",
       "1                                          27.473459   \n",
       "2                                         -27.387997   \n",
       "3                                          25.953349   \n",
       "4                                         -35.417047   \n",
       "...                                              ...   \n",
       "1334                                      -38.226226   \n",
       "1335                                      -47.132803   \n",
       "1336                                      -70.330068   \n",
       "1337                                       15.221966   \n",
       "1338                                        0.000000   \n",
       "\n",
       "      Porcentaje Cap. De Mercado respecto al día anterior Ganancia  \n",
       "0                                             10.546761         SI  \n",
       "1                                             12.163446         NO  \n",
       "2                                             -7.019925         NO  \n",
       "3                                             -8.122345         NO  \n",
       "4                                             -7.219788         SI  \n",
       "...                                                 ...        ...  \n",
       "1334                                          -2.069030         SI  \n",
       "1335                                           5.198441         SI  \n",
       "1336                                         -13.657779         SI  \n",
       "1337                                           0.000000         SI  \n",
       "1338                                           0.000000         SI  \n",
       "\n",
       "[1339 rows x 11 columns]"
      ]
     },
     "execution_count": 2,
     "metadata": {},
     "output_type": "execute_result"
    }
   ],
   "source": [
    "df = pd.read_excel('Datos_finanzas/CARDANO.xlsx')\n",
    "#df = pd.read_excel('CARDANO.xlsx')\n",
    "df"
   ]
  },
  {
   "cell_type": "markdown",
   "metadata": {
    "id": "FmajOTXAbzvU"
   },
   "source": [
    "#### Creación de una nueva columan para investigar correlación en funcion del dia de la semana"
   ]
  },
  {
   "cell_type": "code",
   "execution_count": 3,
   "metadata": {
    "colab": {
     "base_uri": "https://localhost:8080/",
     "height": 881
    },
    "id": "4551fS5vbzvU",
    "outputId": "677b07ed-88ac-407b-a82e-9e21177ee4a0"
   },
   "outputs": [
    {
     "data": {
      "text/html": [
       "<div>\n",
       "<style scoped>\n",
       "    .dataframe tbody tr th:only-of-type {\n",
       "        vertical-align: middle;\n",
       "    }\n",
       "\n",
       "    .dataframe tbody tr th {\n",
       "        vertical-align: top;\n",
       "    }\n",
       "\n",
       "    .dataframe thead th {\n",
       "        text-align: right;\n",
       "    }\n",
       "</style>\n",
       "<table border=\"1\" class=\"dataframe\">\n",
       "  <thead>\n",
       "    <tr style=\"text-align: right;\">\n",
       "      <th></th>\n",
       "      <th>Fecha</th>\n",
       "      <th>Abrir*</th>\n",
       "      <th>Elevar</th>\n",
       "      <th>Disminuir</th>\n",
       "      <th>Cerrar**</th>\n",
       "      <th>Volumen</th>\n",
       "      <th>Cap. de Mercado</th>\n",
       "      <th>Porcentaje Respecto al dia anterior en el abrir del mercado</th>\n",
       "      <th>Porcentaje de Volumen respecto al dia anterior</th>\n",
       "      <th>Porcentaje Cap. De Mercado respecto al día anterior</th>\n",
       "      <th>Ganancia</th>\n",
       "      <th>Dia_semana</th>\n",
       "    </tr>\n",
       "  </thead>\n",
       "  <tbody>\n",
       "    <tr>\n",
       "      <th>0</th>\n",
       "      <td>May 31, 2021</td>\n",
       "      <td>1.29</td>\n",
       "      <td>1.44</td>\n",
       "      <td>1.25</td>\n",
       "      <td>1.43</td>\n",
       "      <td>3685276837</td>\n",
       "      <td>45688593288</td>\n",
       "      <td>12.173913</td>\n",
       "      <td>-9.678482</td>\n",
       "      <td>10.546761</td>\n",
       "      <td>SI</td>\n",
       "      <td>Monday</td>\n",
       "    </tr>\n",
       "    <tr>\n",
       "      <th>1</th>\n",
       "      <td>May 30, 2021</td>\n",
       "      <td>1.15</td>\n",
       "      <td>1.39</td>\n",
       "      <td>1.11</td>\n",
       "      <td>1.29</td>\n",
       "      <td>4080175939</td>\n",
       "      <td>41329653379</td>\n",
       "      <td>-7.258065</td>\n",
       "      <td>27.473459</td>\n",
       "      <td>12.163446</td>\n",
       "      <td>NO</td>\n",
       "      <td>Sunday</td>\n",
       "    </tr>\n",
       "    <tr>\n",
       "      <th>2</th>\n",
       "      <td>May 29, 2021</td>\n",
       "      <td>1.24</td>\n",
       "      <td>1.28</td>\n",
       "      <td>1.10</td>\n",
       "      <td>1.15</td>\n",
       "      <td>3200804278</td>\n",
       "      <td>36847702894</td>\n",
       "      <td>-8.148148</td>\n",
       "      <td>-27.387997</td>\n",
       "      <td>-7.019925</td>\n",
       "      <td>NO</td>\n",
       "      <td>Saturday</td>\n",
       "    </tr>\n",
       "    <tr>\n",
       "      <th>3</th>\n",
       "      <td>May 28, 2021</td>\n",
       "      <td>1.35</td>\n",
       "      <td>1.38</td>\n",
       "      <td>1.19</td>\n",
       "      <td>1.24</td>\n",
       "      <td>4408092521</td>\n",
       "      <td>39629676579</td>\n",
       "      <td>-7.534247</td>\n",
       "      <td>25.953349</td>\n",
       "      <td>-8.122345</td>\n",
       "      <td>NO</td>\n",
       "      <td>Friday</td>\n",
       "    </tr>\n",
       "    <tr>\n",
       "      <th>4</th>\n",
       "      <td>May 27, 2021</td>\n",
       "      <td>1.46</td>\n",
       "      <td>1.47</td>\n",
       "      <td>1.32</td>\n",
       "      <td>1.35</td>\n",
       "      <td>3499781916</td>\n",
       "      <td>43133095187</td>\n",
       "      <td>14.960630</td>\n",
       "      <td>-35.417047</td>\n",
       "      <td>-7.219788</td>\n",
       "      <td>SI</td>\n",
       "      <td>Thursday</td>\n",
       "    </tr>\n",
       "    <tr>\n",
       "      <th>...</th>\n",
       "      <td>...</td>\n",
       "      <td>...</td>\n",
       "      <td>...</td>\n",
       "      <td>...</td>\n",
       "      <td>...</td>\n",
       "      <td>...</td>\n",
       "      <td>...</td>\n",
       "      <td>...</td>\n",
       "      <td>...</td>\n",
       "      <td>...</td>\n",
       "      <td>...</td>\n",
       "      <td>...</td>\n",
       "    </tr>\n",
       "    <tr>\n",
       "      <th>1334</th>\n",
       "      <td>Oct 05, 2017</td>\n",
       "      <td>0.02</td>\n",
       "      <td>0.02</td>\n",
       "      <td>0.02</td>\n",
       "      <td>0.02</td>\n",
       "      <td>4732440</td>\n",
       "      <td>473999524</td>\n",
       "      <td>0.000000</td>\n",
       "      <td>-38.226226</td>\n",
       "      <td>-2.069030</td>\n",
       "      <td>SI</td>\n",
       "      <td>Thursday</td>\n",
       "    </tr>\n",
       "    <tr>\n",
       "      <th>1335</th>\n",
       "      <td>Oct 04, 2017</td>\n",
       "      <td>0.02</td>\n",
       "      <td>0.02</td>\n",
       "      <td>0.02</td>\n",
       "      <td>0.02</td>\n",
       "      <td>7660921</td>\n",
       "      <td>484013915</td>\n",
       "      <td>0.000000</td>\n",
       "      <td>-47.132803</td>\n",
       "      <td>5.198441</td>\n",
       "      <td>SI</td>\n",
       "      <td>Wednesday</td>\n",
       "    </tr>\n",
       "    <tr>\n",
       "      <th>1336</th>\n",
       "      <td>Oct 03, 2017</td>\n",
       "      <td>0.02</td>\n",
       "      <td>0.02</td>\n",
       "      <td>0.02</td>\n",
       "      <td>0.02</td>\n",
       "      <td>14490878</td>\n",
       "      <td>460096091</td>\n",
       "      <td>0.000000</td>\n",
       "      <td>-70.330068</td>\n",
       "      <td>-13.657779</td>\n",
       "      <td>SI</td>\n",
       "      <td>Tuesday</td>\n",
       "    </tr>\n",
       "    <tr>\n",
       "      <th>1337</th>\n",
       "      <td>Oct 02, 2017</td>\n",
       "      <td>0.02</td>\n",
       "      <td>0.03</td>\n",
       "      <td>0.02</td>\n",
       "      <td>0.02</td>\n",
       "      <td>48840281</td>\n",
       "      <td>532874980</td>\n",
       "      <td>0.000000</td>\n",
       "      <td>15.221966</td>\n",
       "      <td>0.000000</td>\n",
       "      <td>SI</td>\n",
       "      <td>Monday</td>\n",
       "    </tr>\n",
       "    <tr>\n",
       "      <th>1338</th>\n",
       "      <td>Oct 01, 2017</td>\n",
       "      <td>0.02</td>\n",
       "      <td>0.03</td>\n",
       "      <td>0.01</td>\n",
       "      <td>0.02</td>\n",
       "      <td>42387995</td>\n",
       "      <td>0</td>\n",
       "      <td>0.000000</td>\n",
       "      <td>0.000000</td>\n",
       "      <td>0.000000</td>\n",
       "      <td>SI</td>\n",
       "      <td>Sunday</td>\n",
       "    </tr>\n",
       "  </tbody>\n",
       "</table>\n",
       "<p>1339 rows × 12 columns</p>\n",
       "</div>"
      ],
      "text/plain": [
       "             Fecha  Abrir*  Elevar  Disminuir  Cerrar**     Volumen  \\\n",
       "0     May 31, 2021    1.29    1.44       1.25      1.43  3685276837   \n",
       "1     May 30, 2021    1.15    1.39       1.11      1.29  4080175939   \n",
       "2     May 29, 2021    1.24    1.28       1.10      1.15  3200804278   \n",
       "3     May 28, 2021    1.35    1.38       1.19      1.24  4408092521   \n",
       "4     May 27, 2021    1.46    1.47       1.32      1.35  3499781916   \n",
       "...            ...     ...     ...        ...       ...         ...   \n",
       "1334  Oct 05, 2017    0.02    0.02       0.02      0.02     4732440   \n",
       "1335  Oct 04, 2017    0.02    0.02       0.02      0.02     7660921   \n",
       "1336  Oct 03, 2017    0.02    0.02       0.02      0.02    14490878   \n",
       "1337  Oct 02, 2017    0.02    0.03       0.02      0.02    48840281   \n",
       "1338  Oct 01, 2017    0.02    0.03       0.01      0.02    42387995   \n",
       "\n",
       "      Cap. de Mercado  \\\n",
       "0         45688593288   \n",
       "1         41329653379   \n",
       "2         36847702894   \n",
       "3         39629676579   \n",
       "4         43133095187   \n",
       "...               ...   \n",
       "1334        473999524   \n",
       "1335        484013915   \n",
       "1336        460096091   \n",
       "1337        532874980   \n",
       "1338                0   \n",
       "\n",
       "      Porcentaje Respecto al dia anterior en el abrir del mercado  \\\n",
       "0                                             12.173913             \n",
       "1                                             -7.258065             \n",
       "2                                             -8.148148             \n",
       "3                                             -7.534247             \n",
       "4                                             14.960630             \n",
       "...                                                 ...             \n",
       "1334                                           0.000000             \n",
       "1335                                           0.000000             \n",
       "1336                                           0.000000             \n",
       "1337                                           0.000000             \n",
       "1338                                           0.000000             \n",
       "\n",
       "      Porcentaje de Volumen respecto al dia anterior  \\\n",
       "0                                          -9.678482   \n",
       "1                                          27.473459   \n",
       "2                                         -27.387997   \n",
       "3                                          25.953349   \n",
       "4                                         -35.417047   \n",
       "...                                              ...   \n",
       "1334                                      -38.226226   \n",
       "1335                                      -47.132803   \n",
       "1336                                      -70.330068   \n",
       "1337                                       15.221966   \n",
       "1338                                        0.000000   \n",
       "\n",
       "      Porcentaje Cap. De Mercado respecto al día anterior Ganancia Dia_semana  \n",
       "0                                             10.546761         SI     Monday  \n",
       "1                                             12.163446         NO     Sunday  \n",
       "2                                             -7.019925         NO   Saturday  \n",
       "3                                             -8.122345         NO     Friday  \n",
       "4                                             -7.219788         SI   Thursday  \n",
       "...                                                 ...        ...        ...  \n",
       "1334                                          -2.069030         SI   Thursday  \n",
       "1335                                           5.198441         SI  Wednesday  \n",
       "1336                                         -13.657779         SI    Tuesday  \n",
       "1337                                           0.000000         SI     Monday  \n",
       "1338                                           0.000000         SI     Sunday  \n",
       "\n",
       "[1339 rows x 12 columns]"
      ]
     },
     "execution_count": 3,
     "metadata": {},
     "output_type": "execute_result"
    }
   ],
   "source": [
    "temp=pd.DataFrame(df['Fecha'])\n",
    "nuevacolumna = []\n",
    "for i in range(0, len(df['Fecha'])):\n",
    "    nuevacolumna=pd.Timestamp(temp['Fecha'][i]).day_name()\n",
    "    temp['Fecha'][i]=nuevacolumna \n",
    "df=df.assign(Dia_semana=temp)\n",
    "df   "
   ]
  },
  {
   "cell_type": "markdown",
   "metadata": {
    "id": "VqnuyO7dbzvV"
   },
   "source": [
    "#### Voy a transformar la fecha para poder tratarla mejor"
   ]
  },
  {
   "cell_type": "code",
   "execution_count": 4,
   "metadata": {
    "id": "OH5HeIeabzvV",
    "scrolled": true
   },
   "outputs": [],
   "source": [
    "#Nuevas columnas Dia, Mes y Año\n",
    "df['Dia'] = pd.DatetimeIndex(df['Fecha']).day\n",
    "df['Mes'] = pd.DatetimeIndex(df['Fecha']).month\n",
    "df['Año'] = pd.DatetimeIndex(df['Fecha']).year"
   ]
  },
  {
   "cell_type": "code",
   "execution_count": 5,
   "metadata": {
    "id": "o8N047TmbzvW"
   },
   "outputs": [],
   "source": [
    "#Transformación de la fecha\n",
    "df['fecha']=df['Año'].apply(str) + \"-\" + df['Mes'].apply(str) + \"-\" + df['Dia'].apply(str)\n",
    "df['fecha'] = pd.to_datetime(df['fecha']) "
   ]
  },
  {
   "cell_type": "code",
   "execution_count": 6,
   "metadata": {
    "colab": {
     "base_uri": "https://localhost:8080/",
     "height": 273
    },
    "id": "XFBDlrUgbzvW",
    "outputId": "0ae8e76f-0fb2-4bf5-a3fa-2409fa208d0b"
   },
   "outputs": [
    {
     "data": {
      "image/png": "[encoded data removed]",
      "text/plain": [
       "<Figure size 1152x432 with 1 Axes>"
      ]
     },
     "metadata": {
      "needs_background": "light"
     },
     "output_type": "display_data"
    }
   ],
   "source": [
    "#Grafica del cierre de Cardano hasta el día 31 de Mayo de 2021\n",
    "df.index = df['fecha']\n",
    "plt.figure(figsize=(16,6))\n",
    "plt.title('Cierre del precio en función de la fecha')\n",
    "plt.xlabel('Fecha')\n",
    "plt.ylabel('Cierra')\n",
    "plt.plot(df['Cerrar**'], color='red')\n",
    "plt.grid()"
   ]
  },
  {
   "cell_type": "code",
   "execution_count": 7,
   "metadata": {
    "colab": {
     "base_uri": "https://localhost:8080/",
     "height": 273
    },
    "id": "MVBmOH_h9zvS",
    "outputId": "2b0521e5-6aeb-4c02-c114-d93c74cfc262"
   },
   "outputs": [
    {
     "data": {
      "image/png": "[encoded data removed]",
      "text/plain": [
       "<Figure size 1152x432 with 1 Axes>"
      ]
     },
     "metadata": {
      "needs_background": "light"
     },
     "output_type": "display_data"
    }
   ],
   "source": [
    "df.index = df['fecha']\n",
    "plt.figure(figsize=(16,6))\n",
    "plt.title('Apertura del precio en función de la fecha')\n",
    "plt.xlabel('Fecha')\n",
    "plt.ylabel('Abrir')\n",
    "plt.plot(df['Abrir*'], color='blue')\n",
    "plt.grid()"
   ]
  },
  {
   "cell_type": "code",
   "execution_count": 8,
   "metadata": {
    "colab": {
     "base_uri": "https://localhost:8080/",
     "height": 275
    },
    "id": "UBOJjrh3bzvX",
    "outputId": "c15f3b4e-0b2b-460f-e982-eaa54a4d492f"
   },
   "outputs": [
    {
     "data": {
      "image/png": "[encoded data removed]",
      "text/plain": [
       "<Figure size 1152x432 with 1 Axes>"
      ]
     },
     "metadata": {
      "needs_background": "light"
     },
     "output_type": "display_data"
    }
   ],
   "source": [
    "#Grafica\n",
    "df.index = df['fecha']\n",
    "plt.figure(figsize=(16,6))\n",
    "plt.title('Volumne en función de la fecha')\n",
    "plt.xlabel('Fecha')\n",
    "plt.ylabel('Volumen')\n",
    "plt.plot(df['Volumen'], color='green')\n",
    "plt.grid()"
   ]
  },
  {
   "cell_type": "code",
   "execution_count": 9,
   "metadata": {
    "colab": {
     "base_uri": "https://localhost:8080/",
     "height": 912
    },
    "id": "MusKH1hPbzvX",
    "outputId": "24819256-a758-4749-80f9-6ef099c1ca73"
   },
   "outputs": [
    {
     "data": {
      "text/html": [
       "<div>\n",
       "<style scoped>\n",
       "    .dataframe tbody tr th:only-of-type {\n",
       "        vertical-align: middle;\n",
       "    }\n",
       "\n",
       "    .dataframe tbody tr th {\n",
       "        vertical-align: top;\n",
       "    }\n",
       "\n",
       "    .dataframe thead th {\n",
       "        text-align: right;\n",
       "    }\n",
       "</style>\n",
       "<table border=\"1\" class=\"dataframe\">\n",
       "  <thead>\n",
       "    <tr style=\"text-align: right;\">\n",
       "      <th></th>\n",
       "      <th>Fecha</th>\n",
       "      <th>Abrir*</th>\n",
       "      <th>Elevar</th>\n",
       "      <th>Disminuir</th>\n",
       "      <th>Cerrar**</th>\n",
       "      <th>Volumen</th>\n",
       "      <th>Cap. de Mercado</th>\n",
       "      <th>Porcentaje Respecto al dia anterior en el abrir del mercado</th>\n",
       "      <th>Porcentaje de Volumen respecto al dia anterior</th>\n",
       "      <th>Porcentaje Cap. De Mercado respecto al día anterior</th>\n",
       "      <th>Ganancia</th>\n",
       "      <th>Dia_semana</th>\n",
       "      <th>Dia</th>\n",
       "      <th>Mes</th>\n",
       "      <th>Año</th>\n",
       "      <th>fecha</th>\n",
       "    </tr>\n",
       "    <tr>\n",
       "      <th>fecha</th>\n",
       "      <th></th>\n",
       "      <th></th>\n",
       "      <th></th>\n",
       "      <th></th>\n",
       "      <th></th>\n",
       "      <th></th>\n",
       "      <th></th>\n",
       "      <th></th>\n",
       "      <th></th>\n",
       "      <th></th>\n",
       "      <th></th>\n",
       "      <th></th>\n",
       "      <th></th>\n",
       "      <th></th>\n",
       "      <th></th>\n",
       "      <th></th>\n",
       "    </tr>\n",
       "  </thead>\n",
       "  <tbody>\n",
       "    <tr>\n",
       "      <th>2021-05-31</th>\n",
       "      <td>May 31, 2021</td>\n",
       "      <td>1.29</td>\n",
       "      <td>1.44</td>\n",
       "      <td>1.25</td>\n",
       "      <td>1.43</td>\n",
       "      <td>3685276837</td>\n",
       "      <td>45688593288</td>\n",
       "      <td>12.173913</td>\n",
       "      <td>-9.678482</td>\n",
       "      <td>10.546761</td>\n",
       "      <td>0</td>\n",
       "      <td>0</td>\n",
       "      <td>31</td>\n",
       "      <td>5</td>\n",
       "      <td>2021</td>\n",
       "      <td>2021-05-31</td>\n",
       "    </tr>\n",
       "    <tr>\n",
       "      <th>2021-05-30</th>\n",
       "      <td>May 30, 2021</td>\n",
       "      <td>1.15</td>\n",
       "      <td>1.39</td>\n",
       "      <td>1.11</td>\n",
       "      <td>1.29</td>\n",
       "      <td>4080175939</td>\n",
       "      <td>41329653379</td>\n",
       "      <td>-7.258065</td>\n",
       "      <td>27.473459</td>\n",
       "      <td>12.163446</td>\n",
       "      <td>1</td>\n",
       "      <td>1</td>\n",
       "      <td>30</td>\n",
       "      <td>5</td>\n",
       "      <td>2021</td>\n",
       "      <td>2021-05-30</td>\n",
       "    </tr>\n",
       "    <tr>\n",
       "      <th>2021-05-29</th>\n",
       "      <td>May 29, 2021</td>\n",
       "      <td>1.24</td>\n",
       "      <td>1.28</td>\n",
       "      <td>1.10</td>\n",
       "      <td>1.15</td>\n",
       "      <td>3200804278</td>\n",
       "      <td>36847702894</td>\n",
       "      <td>-8.148148</td>\n",
       "      <td>-27.387997</td>\n",
       "      <td>-7.019925</td>\n",
       "      <td>1</td>\n",
       "      <td>2</td>\n",
       "      <td>29</td>\n",
       "      <td>5</td>\n",
       "      <td>2021</td>\n",
       "      <td>2021-05-29</td>\n",
       "    </tr>\n",
       "    <tr>\n",
       "      <th>2021-05-28</th>\n",
       "      <td>May 28, 2021</td>\n",
       "      <td>1.35</td>\n",
       "      <td>1.38</td>\n",
       "      <td>1.19</td>\n",
       "      <td>1.24</td>\n",
       "      <td>4408092521</td>\n",
       "      <td>39629676579</td>\n",
       "      <td>-7.534247</td>\n",
       "      <td>25.953349</td>\n",
       "      <td>-8.122345</td>\n",
       "      <td>1</td>\n",
       "      <td>3</td>\n",
       "      <td>28</td>\n",
       "      <td>5</td>\n",
       "      <td>2021</td>\n",
       "      <td>2021-05-28</td>\n",
       "    </tr>\n",
       "    <tr>\n",
       "      <th>2021-05-27</th>\n",
       "      <td>May 27, 2021</td>\n",
       "      <td>1.46</td>\n",
       "      <td>1.47</td>\n",
       "      <td>1.32</td>\n",
       "      <td>1.35</td>\n",
       "      <td>3499781916</td>\n",
       "      <td>43133095187</td>\n",
       "      <td>14.960630</td>\n",
       "      <td>-35.417047</td>\n",
       "      <td>-7.219788</td>\n",
       "      <td>0</td>\n",
       "      <td>4</td>\n",
       "      <td>27</td>\n",
       "      <td>5</td>\n",
       "      <td>2021</td>\n",
       "      <td>2021-05-27</td>\n",
       "    </tr>\n",
       "    <tr>\n",
       "      <th>...</th>\n",
       "      <td>...</td>\n",
       "      <td>...</td>\n",
       "      <td>...</td>\n",
       "      <td>...</td>\n",
       "      <td>...</td>\n",
       "      <td>...</td>\n",
       "      <td>...</td>\n",
       "      <td>...</td>\n",
       "      <td>...</td>\n",
       "      <td>...</td>\n",
       "      <td>...</td>\n",
       "      <td>...</td>\n",
       "      <td>...</td>\n",
       "      <td>...</td>\n",
       "      <td>...</td>\n",
       "      <td>...</td>\n",
       "    </tr>\n",
       "    <tr>\n",
       "      <th>2017-10-05</th>\n",
       "      <td>Oct 05, 2017</td>\n",
       "      <td>0.02</td>\n",
       "      <td>0.02</td>\n",
       "      <td>0.02</td>\n",
       "      <td>0.02</td>\n",
       "      <td>4732440</td>\n",
       "      <td>473999524</td>\n",
       "      <td>0.000000</td>\n",
       "      <td>-38.226226</td>\n",
       "      <td>-2.069030</td>\n",
       "      <td>0</td>\n",
       "      <td>4</td>\n",
       "      <td>5</td>\n",
       "      <td>10</td>\n",
       "      <td>2017</td>\n",
       "      <td>2017-10-05</td>\n",
       "    </tr>\n",
       "    <tr>\n",
       "      <th>2017-10-04</th>\n",
       "      <td>Oct 04, 2017</td>\n",
       "      <td>0.02</td>\n",
       "      <td>0.02</td>\n",
       "      <td>0.02</td>\n",
       "      <td>0.02</td>\n",
       "      <td>7660921</td>\n",
       "      <td>484013915</td>\n",
       "      <td>0.000000</td>\n",
       "      <td>-47.132803</td>\n",
       "      <td>5.198441</td>\n",
       "      <td>0</td>\n",
       "      <td>5</td>\n",
       "      <td>4</td>\n",
       "      <td>10</td>\n",
       "      <td>2017</td>\n",
       "      <td>2017-10-04</td>\n",
       "    </tr>\n",
       "    <tr>\n",
       "      <th>2017-10-03</th>\n",
       "      <td>Oct 03, 2017</td>\n",
       "      <td>0.02</td>\n",
       "      <td>0.02</td>\n",
       "      <td>0.02</td>\n",
       "      <td>0.02</td>\n",
       "      <td>14490878</td>\n",
       "      <td>460096091</td>\n",
       "      <td>0.000000</td>\n",
       "      <td>-70.330068</td>\n",
       "      <td>-13.657779</td>\n",
       "      <td>0</td>\n",
       "      <td>6</td>\n",
       "      <td>3</td>\n",
       "      <td>10</td>\n",
       "      <td>2017</td>\n",
       "      <td>2017-10-03</td>\n",
       "    </tr>\n",
       "    <tr>\n",
       "      <th>2017-10-02</th>\n",
       "      <td>Oct 02, 2017</td>\n",
       "      <td>0.02</td>\n",
       "      <td>0.03</td>\n",
       "      <td>0.02</td>\n",
       "      <td>0.02</td>\n",
       "      <td>48840281</td>\n",
       "      <td>532874980</td>\n",
       "      <td>0.000000</td>\n",
       "      <td>15.221966</td>\n",
       "      <td>0.000000</td>\n",
       "      <td>0</td>\n",
       "      <td>0</td>\n",
       "      <td>2</td>\n",
       "      <td>10</td>\n",
       "      <td>2017</td>\n",
       "      <td>2017-10-02</td>\n",
       "    </tr>\n",
       "    <tr>\n",
       "      <th>2017-10-01</th>\n",
       "      <td>Oct 01, 2017</td>\n",
       "      <td>0.02</td>\n",
       "      <td>0.03</td>\n",
       "      <td>0.01</td>\n",
       "      <td>0.02</td>\n",
       "      <td>42387995</td>\n",
       "      <td>0</td>\n",
       "      <td>0.000000</td>\n",
       "      <td>0.000000</td>\n",
       "      <td>0.000000</td>\n",
       "      <td>0</td>\n",
       "      <td>1</td>\n",
       "      <td>1</td>\n",
       "      <td>10</td>\n",
       "      <td>2017</td>\n",
       "      <td>2017-10-01</td>\n",
       "    </tr>\n",
       "  </tbody>\n",
       "</table>\n",
       "<p>1339 rows × 16 columns</p>\n",
       "</div>"
      ],
      "text/plain": [
       "                   Fecha  Abrir*  Elevar  Disminuir  Cerrar**     Volumen  \\\n",
       "fecha                                                                       \n",
       "2021-05-31  May 31, 2021    1.29    1.44       1.25      1.43  3685276837   \n",
       "2021-05-30  May 30, 2021    1.15    1.39       1.11      1.29  4080175939   \n",
       "2021-05-29  May 29, 2021    1.24    1.28       1.10      1.15  3200804278   \n",
       "2021-05-28  May 28, 2021    1.35    1.38       1.19      1.24  4408092521   \n",
       "2021-05-27  May 27, 2021    1.46    1.47       1.32      1.35  3499781916   \n",
       "...                  ...     ...     ...        ...       ...         ...   \n",
       "2017-10-05  Oct 05, 2017    0.02    0.02       0.02      0.02     4732440   \n",
       "2017-10-04  Oct 04, 2017    0.02    0.02       0.02      0.02     7660921   \n",
       "2017-10-03  Oct 03, 2017    0.02    0.02       0.02      0.02    14490878   \n",
       "2017-10-02  Oct 02, 2017    0.02    0.03       0.02      0.02    48840281   \n",
       "2017-10-01  Oct 01, 2017    0.02    0.03       0.01      0.02    42387995   \n",
       "\n",
       "            Cap. de Mercado  \\\n",
       "fecha                         \n",
       "2021-05-31      45688593288   \n",
       "2021-05-30      41329653379   \n",
       "2021-05-29      36847702894   \n",
       "2021-05-28      39629676579   \n",
       "2021-05-27      43133095187   \n",
       "...                     ...   \n",
       "2017-10-05        473999524   \n",
       "2017-10-04        484013915   \n",
       "2017-10-03        460096091   \n",
       "2017-10-02        532874980   \n",
       "2017-10-01                0   \n",
       "\n",
       "            Porcentaje Respecto al dia anterior en el abrir del mercado  \\\n",
       "fecha                                                                     \n",
       "2021-05-31                                          12.173913             \n",
       "2021-05-30                                          -7.258065             \n",
       "2021-05-29                                          -8.148148             \n",
       "2021-05-28                                          -7.534247             \n",
       "2021-05-27                                          14.960630             \n",
       "...                                                       ...             \n",
       "2017-10-05                                           0.000000             \n",
       "2017-10-04                                           0.000000             \n",
       "2017-10-03                                           0.000000             \n",
       "2017-10-02                                           0.000000             \n",
       "2017-10-01                                           0.000000             \n",
       "\n",
       "            Porcentaje de Volumen respecto al dia anterior  \\\n",
       "fecha                                                        \n",
       "2021-05-31                                       -9.678482   \n",
       "2021-05-30                                       27.473459   \n",
       "2021-05-29                                      -27.387997   \n",
       "2021-05-28                                       25.953349   \n",
       "2021-05-27                                      -35.417047   \n",
       "...                                                    ...   \n",
       "2017-10-05                                      -38.226226   \n",
       "2017-10-04                                      -47.132803   \n",
       "2017-10-03                                      -70.330068   \n",
       "2017-10-02                                       15.221966   \n",
       "2017-10-01                                        0.000000   \n",
       "\n",
       "            Porcentaje Cap. De Mercado respecto al día anterior  Ganancia  \\\n",
       "fecha                                                                       \n",
       "2021-05-31                                          10.546761           0   \n",
       "2021-05-30                                          12.163446           1   \n",
       "2021-05-29                                          -7.019925           1   \n",
       "2021-05-28                                          -8.122345           1   \n",
       "2021-05-27                                          -7.219788           0   \n",
       "...                                                       ...         ...   \n",
       "2017-10-05                                          -2.069030           0   \n",
       "2017-10-04                                           5.198441           0   \n",
       "2017-10-03                                         -13.657779           0   \n",
       "2017-10-02                                           0.000000           0   \n",
       "2017-10-01                                           0.000000           0   \n",
       "\n",
       "            Dia_semana  Dia  Mes   Año      fecha  \n",
       "fecha                                              \n",
       "2021-05-31           0   31    5  2021 2021-05-31  \n",
       "2021-05-30           1   30    5  2021 2021-05-30  \n",
       "2021-05-29           2   29    5  2021 2021-05-29  \n",
       "2021-05-28           3   28    5  2021 2021-05-28  \n",
       "2021-05-27           4   27    5  2021 2021-05-27  \n",
       "...                ...  ...  ...   ...        ...  \n",
       "2017-10-05           4    5   10  2017 2017-10-05  \n",
       "2017-10-04           5    4   10  2017 2017-10-04  \n",
       "2017-10-03           6    3   10  2017 2017-10-03  \n",
       "2017-10-02           0    2   10  2017 2017-10-02  \n",
       "2017-10-01           1    1   10  2017 2017-10-01  \n",
       "\n",
       "[1339 rows x 16 columns]"
      ]
     },
     "execution_count": 9,
     "metadata": {},
     "output_type": "execute_result"
    }
   ],
   "source": [
    "datos=df\n",
    "dictionaries = []\n",
    "\n",
    "for columna in ['Ganancia','Dia_semana']:\n",
    "    datos[columna], uniques = pd.factorize(datos[columna])\n",
    "    values = list(range(len(uniques)))\n",
    "    dictionaries.append(dict(zip(values, uniques)))\n",
    "datos"
   ]
  },
  {
   "cell_type": "code",
   "execution_count": 10,
   "metadata": {
    "colab": {
     "base_uri": "https://localhost:8080/",
     "height": 742
    },
    "id": "JrkdkEtWbzvX",
    "outputId": "d8f2d0cc-2bf3-467c-ec5e-e583167ac9c5"
   },
   "outputs": [
    {
     "data": {
      "text/html": [
       "<div>\n",
       "<style scoped>\n",
       "    .dataframe tbody tr th:only-of-type {\n",
       "        vertical-align: middle;\n",
       "    }\n",
       "\n",
       "    .dataframe tbody tr th {\n",
       "        vertical-align: top;\n",
       "    }\n",
       "\n",
       "    .dataframe thead th {\n",
       "        text-align: right;\n",
       "    }\n",
       "</style>\n",
       "<table border=\"1\" class=\"dataframe\">\n",
       "  <thead>\n",
       "    <tr style=\"text-align: right;\">\n",
       "      <th></th>\n",
       "      <th>Abrir*</th>\n",
       "      <th>Elevar</th>\n",
       "      <th>Disminuir</th>\n",
       "      <th>Cerrar**</th>\n",
       "      <th>Volumen</th>\n",
       "      <th>Cap. de Mercado</th>\n",
       "      <th>Porcentaje Respecto al dia anterior en el abrir del mercado</th>\n",
       "      <th>Porcentaje de Volumen respecto al dia anterior</th>\n",
       "      <th>Porcentaje Cap. De Mercado respecto al día anterior</th>\n",
       "      <th>Ganancia</th>\n",
       "      <th>Dia_semana</th>\n",
       "      <th>Dia</th>\n",
       "      <th>Mes</th>\n",
       "      <th>Año</th>\n",
       "    </tr>\n",
       "    <tr>\n",
       "      <th>fecha</th>\n",
       "      <th></th>\n",
       "      <th></th>\n",
       "      <th></th>\n",
       "      <th></th>\n",
       "      <th></th>\n",
       "      <th></th>\n",
       "      <th></th>\n",
       "      <th></th>\n",
       "      <th></th>\n",
       "      <th></th>\n",
       "      <th></th>\n",
       "      <th></th>\n",
       "      <th></th>\n",
       "      <th></th>\n",
       "    </tr>\n",
       "  </thead>\n",
       "  <tbody>\n",
       "    <tr>\n",
       "      <th>2021-05-31</th>\n",
       "      <td>1.29</td>\n",
       "      <td>1.44</td>\n",
       "      <td>1.25</td>\n",
       "      <td>1.43</td>\n",
       "      <td>3685276837</td>\n",
       "      <td>45688593288</td>\n",
       "      <td>12.173913</td>\n",
       "      <td>-9.678482</td>\n",
       "      <td>10.546761</td>\n",
       "      <td>0</td>\n",
       "      <td>0</td>\n",
       "      <td>31</td>\n",
       "      <td>5</td>\n",
       "      <td>2021</td>\n",
       "    </tr>\n",
       "    <tr>\n",
       "      <th>2021-05-30</th>\n",
       "      <td>1.15</td>\n",
       "      <td>1.39</td>\n",
       "      <td>1.11</td>\n",
       "      <td>1.29</td>\n",
       "      <td>4080175939</td>\n",
       "      <td>41329653379</td>\n",
       "      <td>-7.258065</td>\n",
       "      <td>27.473459</td>\n",
       "      <td>12.163446</td>\n",
       "      <td>1</td>\n",
       "      <td>1</td>\n",
       "      <td>30</td>\n",
       "      <td>5</td>\n",
       "      <td>2021</td>\n",
       "    </tr>\n",
       "    <tr>\n",
       "      <th>2021-05-29</th>\n",
       "      <td>1.24</td>\n",
       "      <td>1.28</td>\n",
       "      <td>1.10</td>\n",
       "      <td>1.15</td>\n",
       "      <td>3200804278</td>\n",
       "      <td>36847702894</td>\n",
       "      <td>-8.148148</td>\n",
       "      <td>-27.387997</td>\n",
       "      <td>-7.019925</td>\n",
       "      <td>1</td>\n",
       "      <td>2</td>\n",
       "      <td>29</td>\n",
       "      <td>5</td>\n",
       "      <td>2021</td>\n",
       "    </tr>\n",
       "    <tr>\n",
       "      <th>2021-05-28</th>\n",
       "      <td>1.35</td>\n",
       "      <td>1.38</td>\n",
       "      <td>1.19</td>\n",
       "      <td>1.24</td>\n",
       "      <td>4408092521</td>\n",
       "      <td>39629676579</td>\n",
       "      <td>-7.534247</td>\n",
       "      <td>25.953349</td>\n",
       "      <td>-8.122345</td>\n",
       "      <td>1</td>\n",
       "      <td>3</td>\n",
       "      <td>28</td>\n",
       "      <td>5</td>\n",
       "      <td>2021</td>\n",
       "    </tr>\n",
       "    <tr>\n",
       "      <th>2021-05-27</th>\n",
       "      <td>1.46</td>\n",
       "      <td>1.47</td>\n",
       "      <td>1.32</td>\n",
       "      <td>1.35</td>\n",
       "      <td>3499781916</td>\n",
       "      <td>43133095187</td>\n",
       "      <td>14.960630</td>\n",
       "      <td>-35.417047</td>\n",
       "      <td>-7.219788</td>\n",
       "      <td>0</td>\n",
       "      <td>4</td>\n",
       "      <td>27</td>\n",
       "      <td>5</td>\n",
       "      <td>2021</td>\n",
       "    </tr>\n",
       "    <tr>\n",
       "      <th>...</th>\n",
       "      <td>...</td>\n",
       "      <td>...</td>\n",
       "      <td>...</td>\n",
       "      <td>...</td>\n",
       "      <td>...</td>\n",
       "      <td>...</td>\n",
       "      <td>...</td>\n",
       "      <td>...</td>\n",
       "      <td>...</td>\n",
       "      <td>...</td>\n",
       "      <td>...</td>\n",
       "      <td>...</td>\n",
       "      <td>...</td>\n",
       "      <td>...</td>\n",
       "    </tr>\n",
       "    <tr>\n",
       "      <th>2017-10-05</th>\n",
       "      <td>0.02</td>\n",
       "      <td>0.02</td>\n",
       "      <td>0.02</td>\n",
       "      <td>0.02</td>\n",
       "      <td>4732440</td>\n",
       "      <td>473999524</td>\n",
       "      <td>0.000000</td>\n",
       "      <td>-38.226226</td>\n",
       "      <td>-2.069030</td>\n",
       "      <td>0</td>\n",
       "      <td>4</td>\n",
       "      <td>5</td>\n",
       "      <td>10</td>\n",
       "      <td>2017</td>\n",
       "    </tr>\n",
       "    <tr>\n",
       "      <th>2017-10-04</th>\n",
       "      <td>0.02</td>\n",
       "      <td>0.02</td>\n",
       "      <td>0.02</td>\n",
       "      <td>0.02</td>\n",
       "      <td>7660921</td>\n",
       "      <td>484013915</td>\n",
       "      <td>0.000000</td>\n",
       "      <td>-47.132803</td>\n",
       "      <td>5.198441</td>\n",
       "      <td>0</td>\n",
       "      <td>5</td>\n",
       "      <td>4</td>\n",
       "      <td>10</td>\n",
       "      <td>2017</td>\n",
       "    </tr>\n",
       "    <tr>\n",
       "      <th>2017-10-03</th>\n",
       "      <td>0.02</td>\n",
       "      <td>0.02</td>\n",
       "      <td>0.02</td>\n",
       "      <td>0.02</td>\n",
       "      <td>14490878</td>\n",
       "      <td>460096091</td>\n",
       "      <td>0.000000</td>\n",
       "      <td>-70.330068</td>\n",
       "      <td>-13.657779</td>\n",
       "      <td>0</td>\n",
       "      <td>6</td>\n",
       "      <td>3</td>\n",
       "      <td>10</td>\n",
       "      <td>2017</td>\n",
       "    </tr>\n",
       "    <tr>\n",
       "      <th>2017-10-02</th>\n",
       "      <td>0.02</td>\n",
       "      <td>0.03</td>\n",
       "      <td>0.02</td>\n",
       "      <td>0.02</td>\n",
       "      <td>48840281</td>\n",
       "      <td>532874980</td>\n",
       "      <td>0.000000</td>\n",
       "      <td>15.221966</td>\n",
       "      <td>0.000000</td>\n",
       "      <td>0</td>\n",
       "      <td>0</td>\n",
       "      <td>2</td>\n",
       "      <td>10</td>\n",
       "      <td>2017</td>\n",
       "    </tr>\n",
       "    <tr>\n",
       "      <th>2017-10-01</th>\n",
       "      <td>0.02</td>\n",
       "      <td>0.03</td>\n",
       "      <td>0.01</td>\n",
       "      <td>0.02</td>\n",
       "      <td>42387995</td>\n",
       "      <td>0</td>\n",
       "      <td>0.000000</td>\n",
       "      <td>0.000000</td>\n",
       "      <td>0.000000</td>\n",
       "      <td>0</td>\n",
       "      <td>1</td>\n",
       "      <td>1</td>\n",
       "      <td>10</td>\n",
       "      <td>2017</td>\n",
       "    </tr>\n",
       "  </tbody>\n",
       "</table>\n",
       "<p>1339 rows × 14 columns</p>\n",
       "</div>"
      ],
      "text/plain": [
       "            Abrir*  Elevar  Disminuir  Cerrar**     Volumen  Cap. de Mercado  \\\n",
       "fecha                                                                          \n",
       "2021-05-31    1.29    1.44       1.25      1.43  3685276837      45688593288   \n",
       "2021-05-30    1.15    1.39       1.11      1.29  4080175939      41329653379   \n",
       "2021-05-29    1.24    1.28       1.10      1.15  3200804278      36847702894   \n",
       "2021-05-28    1.35    1.38       1.19      1.24  4408092521      39629676579   \n",
       "2021-05-27    1.46    1.47       1.32      1.35  3499781916      43133095187   \n",
       "...            ...     ...        ...       ...         ...              ...   \n",
       "2017-10-05    0.02    0.02       0.02      0.02     4732440        473999524   \n",
       "2017-10-04    0.02    0.02       0.02      0.02     7660921        484013915   \n",
       "2017-10-03    0.02    0.02       0.02      0.02    14490878        460096091   \n",
       "2017-10-02    0.02    0.03       0.02      0.02    48840281        532874980   \n",
       "2017-10-01    0.02    0.03       0.01      0.02    42387995                0   \n",
       "\n",
       "            Porcentaje Respecto al dia anterior en el abrir del mercado  \\\n",
       "fecha                                                                     \n",
       "2021-05-31                                          12.173913             \n",
       "2021-05-30                                          -7.258065             \n",
       "2021-05-29                                          -8.148148             \n",
       "2021-05-28                                          -7.534247             \n",
       "2021-05-27                                          14.960630             \n",
       "...                                                       ...             \n",
       "2017-10-05                                           0.000000             \n",
       "2017-10-04                                           0.000000             \n",
       "2017-10-03                                           0.000000             \n",
       "2017-10-02                                           0.000000             \n",
       "2017-10-01                                           0.000000             \n",
       "\n",
       "            Porcentaje de Volumen respecto al dia anterior  \\\n",
       "fecha                                                        \n",
       "2021-05-31                                       -9.678482   \n",
       "2021-05-30                                       27.473459   \n",
       "2021-05-29                                      -27.387997   \n",
       "2021-05-28                                       25.953349   \n",
       "2021-05-27                                      -35.417047   \n",
       "...                                                    ...   \n",
       "2017-10-05                                      -38.226226   \n",
       "2017-10-04                                      -47.132803   \n",
       "2017-10-03                                      -70.330068   \n",
       "2017-10-02                                       15.221966   \n",
       "2017-10-01                                        0.000000   \n",
       "\n",
       "            Porcentaje Cap. De Mercado respecto al día anterior  Ganancia  \\\n",
       "fecha                                                                       \n",
       "2021-05-31                                          10.546761           0   \n",
       "2021-05-30                                          12.163446           1   \n",
       "2021-05-29                                          -7.019925           1   \n",
       "2021-05-28                                          -8.122345           1   \n",
       "2021-05-27                                          -7.219788           0   \n",
       "...                                                       ...         ...   \n",
       "2017-10-05                                          -2.069030           0   \n",
       "2017-10-04                                           5.198441           0   \n",
       "2017-10-03                                         -13.657779           0   \n",
       "2017-10-02                                           0.000000           0   \n",
       "2017-10-01                                           0.000000           0   \n",
       "\n",
       "            Dia_semana  Dia  Mes   Año  \n",
       "fecha                                   \n",
       "2021-05-31           0   31    5  2021  \n",
       "2021-05-30           1   30    5  2021  \n",
       "2021-05-29           2   29    5  2021  \n",
       "2021-05-28           3   28    5  2021  \n",
       "2021-05-27           4   27    5  2021  \n",
       "...                ...  ...  ...   ...  \n",
       "2017-10-05           4    5   10  2017  \n",
       "2017-10-04           5    4   10  2017  \n",
       "2017-10-03           6    3   10  2017  \n",
       "2017-10-02           0    2   10  2017  \n",
       "2017-10-01           1    1   10  2017  \n",
       "\n",
       "[1339 rows x 14 columns]"
      ]
     },
     "execution_count": 10,
     "metadata": {},
     "output_type": "execute_result"
    }
   ],
   "source": [
    "datos=datos.drop(columns=['fecha','Fecha'])\n",
    "datos"
   ]
  },
  {
   "cell_type": "code",
   "execution_count": 11,
   "metadata": {
    "id": "0DJtIX_qbzvY"
   },
   "outputs": [],
   "source": [
    "datos=df"
   ]
  },
  {
   "cell_type": "markdown",
   "metadata": {
    "id": "xoh9ggJQbzvY"
   },
   "source": [
    "# Media Movil"
   ]
  },
  {
   "cell_type": "markdown",
   "metadata": {
    "id": "u3flcczObzvY"
   },
   "source": [
    "Tecnica muy usada en trading basada en un valor que se calcula de manera continua \n",
    "de la media aritmética del precio durante un determinado tiempo.\n",
    "\n",
    "El objetivo es suavizar las fluctuaciones de los precios para poder observar las tendencias a largo plazo del mercado"
   ]
  },
  {
   "cell_type": "code",
   "execution_count": 12,
   "metadata": {
    "id": "T4DPhqzBbzvZ"
   },
   "outputs": [],
   "source": [
    "#El primer paso consiste en filtrar las columnas necesarias para nuestro analisis"
   ]
  },
  {
   "cell_type": "code",
   "execution_count": 13,
   "metadata": {
    "colab": {
     "base_uri": "https://localhost:8080/",
     "height": 912
    },
    "id": "a-TlVT4pbzvZ",
    "outputId": "dc697d9d-6da1-45da-bc0c-1eac8476e991"
   },
   "outputs": [
    {
     "data": {
      "text/html": [
       "<div>\n",
       "<style scoped>\n",
       "    .dataframe tbody tr th:only-of-type {\n",
       "        vertical-align: middle;\n",
       "    }\n",
       "\n",
       "    .dataframe tbody tr th {\n",
       "        vertical-align: top;\n",
       "    }\n",
       "\n",
       "    .dataframe thead th {\n",
       "        text-align: right;\n",
       "    }\n",
       "</style>\n",
       "<table border=\"1\" class=\"dataframe\">\n",
       "  <thead>\n",
       "    <tr style=\"text-align: right;\">\n",
       "      <th></th>\n",
       "      <th>Fecha</th>\n",
       "      <th>Abrir*</th>\n",
       "      <th>Elevar</th>\n",
       "      <th>Disminuir</th>\n",
       "      <th>Cerrar**</th>\n",
       "      <th>Volumen</th>\n",
       "      <th>Cap. de Mercado</th>\n",
       "      <th>Porcentaje Respecto al dia anterior en el abrir del mercado</th>\n",
       "      <th>Porcentaje de Volumen respecto al dia anterior</th>\n",
       "      <th>Porcentaje Cap. De Mercado respecto al día anterior</th>\n",
       "      <th>Ganancia</th>\n",
       "      <th>Dia_semana</th>\n",
       "      <th>Dia</th>\n",
       "      <th>Mes</th>\n",
       "      <th>Año</th>\n",
       "      <th>fecha</th>\n",
       "    </tr>\n",
       "    <tr>\n",
       "      <th>fecha</th>\n",
       "      <th></th>\n",
       "      <th></th>\n",
       "      <th></th>\n",
       "      <th></th>\n",
       "      <th></th>\n",
       "      <th></th>\n",
       "      <th></th>\n",
       "      <th></th>\n",
       "      <th></th>\n",
       "      <th></th>\n",
       "      <th></th>\n",
       "      <th></th>\n",
       "      <th></th>\n",
       "      <th></th>\n",
       "      <th></th>\n",
       "      <th></th>\n",
       "    </tr>\n",
       "  </thead>\n",
       "  <tbody>\n",
       "    <tr>\n",
       "      <th>2017-10-01</th>\n",
       "      <td>Oct 01, 2017</td>\n",
       "      <td>0.02</td>\n",
       "      <td>0.03</td>\n",
       "      <td>0.01</td>\n",
       "      <td>0.02</td>\n",
       "      <td>42387995</td>\n",
       "      <td>0</td>\n",
       "      <td>0.000000</td>\n",
       "      <td>0.000000</td>\n",
       "      <td>0.000000</td>\n",
       "      <td>0</td>\n",
       "      <td>1</td>\n",
       "      <td>1</td>\n",
       "      <td>10</td>\n",
       "      <td>2017</td>\n",
       "      <td>2017-10-01</td>\n",
       "    </tr>\n",
       "    <tr>\n",
       "      <th>2017-10-02</th>\n",
       "      <td>Oct 02, 2017</td>\n",
       "      <td>0.02</td>\n",
       "      <td>0.03</td>\n",
       "      <td>0.02</td>\n",
       "      <td>0.02</td>\n",
       "      <td>48840281</td>\n",
       "      <td>532874980</td>\n",
       "      <td>0.000000</td>\n",
       "      <td>15.221966</td>\n",
       "      <td>0.000000</td>\n",
       "      <td>0</td>\n",
       "      <td>0</td>\n",
       "      <td>2</td>\n",
       "      <td>10</td>\n",
       "      <td>2017</td>\n",
       "      <td>2017-10-02</td>\n",
       "    </tr>\n",
       "    <tr>\n",
       "      <th>2017-10-03</th>\n",
       "      <td>Oct 03, 2017</td>\n",
       "      <td>0.02</td>\n",
       "      <td>0.02</td>\n",
       "      <td>0.02</td>\n",
       "      <td>0.02</td>\n",
       "      <td>14490878</td>\n",
       "      <td>460096091</td>\n",
       "      <td>0.000000</td>\n",
       "      <td>-70.330068</td>\n",
       "      <td>-13.657779</td>\n",
       "      <td>0</td>\n",
       "      <td>6</td>\n",
       "      <td>3</td>\n",
       "      <td>10</td>\n",
       "      <td>2017</td>\n",
       "      <td>2017-10-03</td>\n",
       "    </tr>\n",
       "    <tr>\n",
       "      <th>2017-10-04</th>\n",
       "      <td>Oct 04, 2017</td>\n",
       "      <td>0.02</td>\n",
       "      <td>0.02</td>\n",
       "      <td>0.02</td>\n",
       "      <td>0.02</td>\n",
       "      <td>7660921</td>\n",
       "      <td>484013915</td>\n",
       "      <td>0.000000</td>\n",
       "      <td>-47.132803</td>\n",
       "      <td>5.198441</td>\n",
       "      <td>0</td>\n",
       "      <td>5</td>\n",
       "      <td>4</td>\n",
       "      <td>10</td>\n",
       "      <td>2017</td>\n",
       "      <td>2017-10-04</td>\n",
       "    </tr>\n",
       "    <tr>\n",
       "      <th>2017-10-05</th>\n",
       "      <td>Oct 05, 2017</td>\n",
       "      <td>0.02</td>\n",
       "      <td>0.02</td>\n",
       "      <td>0.02</td>\n",
       "      <td>0.02</td>\n",
       "      <td>4732440</td>\n",
       "      <td>473999524</td>\n",
       "      <td>0.000000</td>\n",
       "      <td>-38.226226</td>\n",
       "      <td>-2.069030</td>\n",
       "      <td>0</td>\n",
       "      <td>4</td>\n",
       "      <td>5</td>\n",
       "      <td>10</td>\n",
       "      <td>2017</td>\n",
       "      <td>2017-10-05</td>\n",
       "    </tr>\n",
       "    <tr>\n",
       "      <th>...</th>\n",
       "      <td>...</td>\n",
       "      <td>...</td>\n",
       "      <td>...</td>\n",
       "      <td>...</td>\n",
       "      <td>...</td>\n",
       "      <td>...</td>\n",
       "      <td>...</td>\n",
       "      <td>...</td>\n",
       "      <td>...</td>\n",
       "      <td>...</td>\n",
       "      <td>...</td>\n",
       "      <td>...</td>\n",
       "      <td>...</td>\n",
       "      <td>...</td>\n",
       "      <td>...</td>\n",
       "      <td>...</td>\n",
       "    </tr>\n",
       "    <tr>\n",
       "      <th>2021-05-27</th>\n",
       "      <td>May 27, 2021</td>\n",
       "      <td>1.46</td>\n",
       "      <td>1.47</td>\n",
       "      <td>1.32</td>\n",
       "      <td>1.35</td>\n",
       "      <td>3499781916</td>\n",
       "      <td>43133095187</td>\n",
       "      <td>14.960630</td>\n",
       "      <td>-35.417047</td>\n",
       "      <td>-7.219788</td>\n",
       "      <td>0</td>\n",
       "      <td>4</td>\n",
       "      <td>27</td>\n",
       "      <td>5</td>\n",
       "      <td>2021</td>\n",
       "      <td>2021-05-27</td>\n",
       "    </tr>\n",
       "    <tr>\n",
       "      <th>2021-05-28</th>\n",
       "      <td>May 28, 2021</td>\n",
       "      <td>1.35</td>\n",
       "      <td>1.38</td>\n",
       "      <td>1.19</td>\n",
       "      <td>1.24</td>\n",
       "      <td>4408092521</td>\n",
       "      <td>39629676579</td>\n",
       "      <td>-7.534247</td>\n",
       "      <td>25.953349</td>\n",
       "      <td>-8.122345</td>\n",
       "      <td>1</td>\n",
       "      <td>3</td>\n",
       "      <td>28</td>\n",
       "      <td>5</td>\n",
       "      <td>2021</td>\n",
       "      <td>2021-05-28</td>\n",
       "    </tr>\n",
       "    <tr>\n",
       "      <th>2021-05-29</th>\n",
       "      <td>May 29, 2021</td>\n",
       "      <td>1.24</td>\n",
       "      <td>1.28</td>\n",
       "      <td>1.10</td>\n",
       "      <td>1.15</td>\n",
       "      <td>3200804278</td>\n",
       "      <td>36847702894</td>\n",
       "      <td>-8.148148</td>\n",
       "      <td>-27.387997</td>\n",
       "      <td>-7.019925</td>\n",
       "      <td>1</td>\n",
       "      <td>2</td>\n",
       "      <td>29</td>\n",
       "      <td>5</td>\n",
       "      <td>2021</td>\n",
       "      <td>2021-05-29</td>\n",
       "    </tr>\n",
       "    <tr>\n",
       "      <th>2021-05-30</th>\n",
       "      <td>May 30, 2021</td>\n",
       "      <td>1.15</td>\n",
       "      <td>1.39</td>\n",
       "      <td>1.11</td>\n",
       "      <td>1.29</td>\n",
       "      <td>4080175939</td>\n",
       "      <td>41329653379</td>\n",
       "      <td>-7.258065</td>\n",
       "      <td>27.473459</td>\n",
       "      <td>12.163446</td>\n",
       "      <td>1</td>\n",
       "      <td>1</td>\n",
       "      <td>30</td>\n",
       "      <td>5</td>\n",
       "      <td>2021</td>\n",
       "      <td>2021-05-30</td>\n",
       "    </tr>\n",
       "    <tr>\n",
       "      <th>2021-05-31</th>\n",
       "      <td>May 31, 2021</td>\n",
       "      <td>1.29</td>\n",
       "      <td>1.44</td>\n",
       "      <td>1.25</td>\n",
       "      <td>1.43</td>\n",
       "      <td>3685276837</td>\n",
       "      <td>45688593288</td>\n",
       "      <td>12.173913</td>\n",
       "      <td>-9.678482</td>\n",
       "      <td>10.546761</td>\n",
       "      <td>0</td>\n",
       "      <td>0</td>\n",
       "      <td>31</td>\n",
       "      <td>5</td>\n",
       "      <td>2021</td>\n",
       "      <td>2021-05-31</td>\n",
       "    </tr>\n",
       "  </tbody>\n",
       "</table>\n",
       "<p>1339 rows × 16 columns</p>\n",
       "</div>"
      ],
      "text/plain": [
       "                   Fecha  Abrir*  Elevar  Disminuir  Cerrar**     Volumen  \\\n",
       "fecha                                                                       \n",
       "2017-10-01  Oct 01, 2017    0.02    0.03       0.01      0.02    42387995   \n",
       "2017-10-02  Oct 02, 2017    0.02    0.03       0.02      0.02    48840281   \n",
       "2017-10-03  Oct 03, 2017    0.02    0.02       0.02      0.02    14490878   \n",
       "2017-10-04  Oct 04, 2017    0.02    0.02       0.02      0.02     7660921   \n",
       "2017-10-05  Oct 05, 2017    0.02    0.02       0.02      0.02     4732440   \n",
       "...                  ...     ...     ...        ...       ...         ...   \n",
       "2021-05-27  May 27, 2021    1.46    1.47       1.32      1.35  3499781916   \n",
       "2021-05-28  May 28, 2021    1.35    1.38       1.19      1.24  4408092521   \n",
       "2021-05-29  May 29, 2021    1.24    1.28       1.10      1.15  3200804278   \n",
       "2021-05-30  May 30, 2021    1.15    1.39       1.11      1.29  4080175939   \n",
       "2021-05-31  May 31, 2021    1.29    1.44       1.25      1.43  3685276837   \n",
       "\n",
       "            Cap. de Mercado  \\\n",
       "fecha                         \n",
       "2017-10-01                0   \n",
       "2017-10-02        532874980   \n",
       "2017-10-03        460096091   \n",
       "2017-10-04        484013915   \n",
       "2017-10-05        473999524   \n",
       "...                     ...   \n",
       "2021-05-27      43133095187   \n",
       "2021-05-28      39629676579   \n",
       "2021-05-29      36847702894   \n",
       "2021-05-30      41329653379   \n",
       "2021-05-31      45688593288   \n",
       "\n",
       "            Porcentaje Respecto al dia anterior en el abrir del mercado  \\\n",
       "fecha                                                                     \n",
       "2017-10-01                                           0.000000             \n",
       "2017-10-02                                           0.000000             \n",
       "2017-10-03                                           0.000000             \n",
       "2017-10-04                                           0.000000             \n",
       "2017-10-05                                           0.000000             \n",
       "...                                                       ...             \n",
       "2021-05-27                                          14.960630             \n",
       "2021-05-28                                          -7.534247             \n",
       "2021-05-29                                          -8.148148             \n",
       "2021-05-30                                          -7.258065             \n",
       "2021-05-31                                          12.173913             \n",
       "\n",
       "            Porcentaje de Volumen respecto al dia anterior  \\\n",
       "fecha                                                        \n",
       "2017-10-01                                        0.000000   \n",
       "2017-10-02                                       15.221966   \n",
       "2017-10-03                                      -70.330068   \n",
       "2017-10-04                                      -47.132803   \n",
       "2017-10-05                                      -38.226226   \n",
       "...                                                    ...   \n",
       "2021-05-27                                      -35.417047   \n",
       "2021-05-28                                       25.953349   \n",
       "2021-05-29                                      -27.387997   \n",
       "2021-05-30                                       27.473459   \n",
       "2021-05-31                                       -9.678482   \n",
       "\n",
       "            Porcentaje Cap. De Mercado respecto al día anterior  Ganancia  \\\n",
       "fecha                                                                       \n",
       "2017-10-01                                           0.000000           0   \n",
       "2017-10-02                                           0.000000           0   \n",
       "2017-10-03                                         -13.657779           0   \n",
       "2017-10-04                                           5.198441           0   \n",
       "2017-10-05                                          -2.069030           0   \n",
       "...                                                       ...         ...   \n",
       "2021-05-27                                          -7.219788           0   \n",
       "2021-05-28                                          -8.122345           1   \n",
       "2021-05-29                                          -7.019925           1   \n",
       "2021-05-30                                          12.163446           1   \n",
       "2021-05-31                                          10.546761           0   \n",
       "\n",
       "            Dia_semana  Dia  Mes   Año      fecha  \n",
       "fecha                                              \n",
       "2017-10-01           1    1   10  2017 2017-10-01  \n",
       "2017-10-02           0    2   10  2017 2017-10-02  \n",
       "2017-10-03           6    3   10  2017 2017-10-03  \n",
       "2017-10-04           5    4   10  2017 2017-10-04  \n",
       "2017-10-05           4    5   10  2017 2017-10-05  \n",
       "...                ...  ...  ...   ...        ...  \n",
       "2021-05-27           4   27    5  2021 2021-05-27  \n",
       "2021-05-28           3   28    5  2021 2021-05-28  \n",
       "2021-05-29           2   29    5  2021 2021-05-29  \n",
       "2021-05-30           1   30    5  2021 2021-05-30  \n",
       "2021-05-31           0   31    5  2021 2021-05-31  \n",
       "\n",
       "[1339 rows x 16 columns]"
      ]
     },
     "execution_count": 13,
     "metadata": {},
     "output_type": "execute_result"
    }
   ],
   "source": [
    "#Ordeno las fechas\n",
    "datos = datos.sort_index(ascending=True, axis=0)\n",
    "datos"
   ]
  },
  {
   "cell_type": "code",
   "execution_count": 14,
   "metadata": {
    "colab": {
     "base_uri": "https://localhost:8080/"
    },
    "id": "gPl59Un5bzvZ",
    "outputId": "796fe35f-52d4-4efd-d23a-1ed1379b9cfc"
   },
   "outputs": [
    {
     "data": {
      "text/html": [
       "<div>\n",
       "<style scoped>\n",
       "    .dataframe tbody tr th:only-of-type {\n",
       "        vertical-align: middle;\n",
       "    }\n",
       "\n",
       "    .dataframe tbody tr th {\n",
       "        vertical-align: top;\n",
       "    }\n",
       "\n",
       "    .dataframe thead th {\n",
       "        text-align: right;\n",
       "    }\n",
       "</style>\n",
       "<table border=\"1\" class=\"dataframe\">\n",
       "  <thead>\n",
       "    <tr style=\"text-align: right;\">\n",
       "      <th></th>\n",
       "      <th>Cerrar**</th>\n",
       "      <th>fecha</th>\n",
       "    </tr>\n",
       "    <tr>\n",
       "      <th>fecha</th>\n",
       "      <th></th>\n",
       "      <th></th>\n",
       "    </tr>\n",
       "  </thead>\n",
       "  <tbody>\n",
       "    <tr>\n",
       "      <th>2017-10-01</th>\n",
       "      <td>0.02</td>\n",
       "      <td>2017-10-01</td>\n",
       "    </tr>\n",
       "    <tr>\n",
       "      <th>2017-10-02</th>\n",
       "      <td>0.02</td>\n",
       "      <td>2017-10-02</td>\n",
       "    </tr>\n",
       "    <tr>\n",
       "      <th>2017-10-03</th>\n",
       "      <td>0.02</td>\n",
       "      <td>2017-10-03</td>\n",
       "    </tr>\n",
       "    <tr>\n",
       "      <th>2017-10-04</th>\n",
       "      <td>0.02</td>\n",
       "      <td>2017-10-04</td>\n",
       "    </tr>\n",
       "    <tr>\n",
       "      <th>2017-10-05</th>\n",
       "      <td>0.02</td>\n",
       "      <td>2017-10-05</td>\n",
       "    </tr>\n",
       "    <tr>\n",
       "      <th>...</th>\n",
       "      <td>...</td>\n",
       "      <td>...</td>\n",
       "    </tr>\n",
       "    <tr>\n",
       "      <th>2021-05-27</th>\n",
       "      <td>1.35</td>\n",
       "      <td>2021-05-27</td>\n",
       "    </tr>\n",
       "    <tr>\n",
       "      <th>2021-05-28</th>\n",
       "      <td>1.24</td>\n",
       "      <td>2021-05-28</td>\n",
       "    </tr>\n",
       "    <tr>\n",
       "      <th>2021-05-29</th>\n",
       "      <td>1.15</td>\n",
       "      <td>2021-05-29</td>\n",
       "    </tr>\n",
       "    <tr>\n",
       "      <th>2021-05-30</th>\n",
       "      <td>1.29</td>\n",
       "      <td>2021-05-30</td>\n",
       "    </tr>\n",
       "    <tr>\n",
       "      <th>2021-05-31</th>\n",
       "      <td>1.43</td>\n",
       "      <td>2021-05-31</td>\n",
       "    </tr>\n",
       "  </tbody>\n",
       "</table>\n",
       "<p>1339 rows × 2 columns</p>\n",
       "</div>"
      ],
      "text/plain": [
       "            Cerrar**      fecha\n",
       "fecha                          \n",
       "2017-10-01      0.02 2017-10-01\n",
       "2017-10-02      0.02 2017-10-02\n",
       "2017-10-03      0.02 2017-10-03\n",
       "2017-10-04      0.02 2017-10-04\n",
       "2017-10-05      0.02 2017-10-05\n",
       "...              ...        ...\n",
       "2021-05-27      1.35 2021-05-27\n",
       "2021-05-28      1.24 2021-05-28\n",
       "2021-05-29      1.15 2021-05-29\n",
       "2021-05-30      1.29 2021-05-30\n",
       "2021-05-31      1.43 2021-05-31\n",
       "\n",
       "[1339 rows x 2 columns]"
      ]
     },
     "execution_count": 14,
     "metadata": {},
     "output_type": "execute_result"
    }
   ],
   "source": [
    "#Obtengo los datos para media movil (en este caso utilizo el cierre del mercado y la fecha)\n",
    "MediaMovil=datos.iloc[:,[4,15]]\n",
    "MediaMovil"
   ]
  },
  {
   "cell_type": "code",
   "execution_count": 93,
   "metadata": {
    "id": "UyRRUiJWbzvZ"
   },
   "outputs": [],
   "source": [
    "#no puedo utilizar train_test_split porque quiero seguir el orden de las fechas"
   ]
  },
  {
   "cell_type": "code",
   "execution_count": 94,
   "metadata": {
    "id": "MiexHrbRbzva"
   },
   "outputs": [],
   "source": [
    "#Cantidad de datos por año"
   ]
  },
  {
   "cell_type": "code",
   "execution_count": 95,
   "metadata": {
    "colab": {
     "base_uri": "https://localhost:8080/",
     "height": 204
    },
    "id": "iGIX78h8bzva",
    "outputId": "3f7aeb9a-8f11-4020-d6d5-8a732522a428"
   },
   "outputs": [
    {
     "data": {
      "text/html": [
       "<div>\n",
       "<style scoped>\n",
       "    .dataframe tbody tr th:only-of-type {\n",
       "        vertical-align: middle;\n",
       "    }\n",
       "\n",
       "    .dataframe tbody tr th {\n",
       "        vertical-align: top;\n",
       "    }\n",
       "\n",
       "    .dataframe thead th {\n",
       "        text-align: right;\n",
       "    }\n",
       "</style>\n",
       "<table border=\"1\" class=\"dataframe\">\n",
       "  <thead>\n",
       "    <tr style=\"text-align: right;\">\n",
       "      <th></th>\n",
       "      <th>Año</th>\n",
       "      <th>count</th>\n",
       "    </tr>\n",
       "  </thead>\n",
       "  <tbody>\n",
       "    <tr>\n",
       "      <th>0</th>\n",
       "      <td>2017</td>\n",
       "      <td>92</td>\n",
       "    </tr>\n",
       "    <tr>\n",
       "      <th>1</th>\n",
       "      <td>2018</td>\n",
       "      <td>365</td>\n",
       "    </tr>\n",
       "    <tr>\n",
       "      <th>2</th>\n",
       "      <td>2019</td>\n",
       "      <td>365</td>\n",
       "    </tr>\n",
       "    <tr>\n",
       "      <th>3</th>\n",
       "      <td>2020</td>\n",
       "      <td>366</td>\n",
       "    </tr>\n",
       "    <tr>\n",
       "      <th>4</th>\n",
       "      <td>2021</td>\n",
       "      <td>151</td>\n",
       "    </tr>\n",
       "  </tbody>\n",
       "</table>\n",
       "</div>"
      ],
      "text/plain": [
       "    Año  count\n",
       "0  2017     92\n",
       "1  2018    365\n",
       "2  2019    365\n",
       "3  2020    366\n",
       "4  2021    151"
      ]
     },
     "execution_count": 95,
     "metadata": {},
     "output_type": "execute_result"
    }
   ],
   "source": [
    "caño=datos.groupby('Año')['Año'].count().reset_index(name = 'count')\n",
    "caño"
   ]
  },
  {
   "cell_type": "code",
   "execution_count": 96,
   "metadata": {
    "colab": {
     "base_uri": "https://localhost:8080/",
     "height": 542
    },
    "id": "yPm3wJRPbzva",
    "outputId": "54aabef8-6eb1-40da-ad12-03a8948d2a7c"
   },
   "outputs": [
    {
     "data": {
      "application/vnd.plotly.v1+json": {
       "config": {
        "plotlyServerURL": "https://plot.ly"
       },
       "data": [
        {
         "domain": {
          "x": [
           0,
           1
          ],
          "y": [
           0,
           1
          ]
         },
         "hovertemplate": "Año=%{label}<br>count=%{value}<extra></extra>",
         "labels": [
          2017,
          2018,
          2019,
          2020,
          2021
         ],
         "legendgroup": "",
         "name": "",
         "showlegend": true,
         "type": "pie",
         "values": [
          92,
          365,
          365,
          366,
          151
         ]
        }
       ],
       "layout": {
        "legend": {
         "tracegroupgap": 0
        },
        "template": {
         "data": {
          "bar": [
           {
            "error_x": {
             "color": "#2a3f5f"
            },
            "error_y": {
             "color": "#2a3f5f"
            },
            "marker": {
             "line": {
              "color": "#E5ECF6",
              "width": 0.5
             }
            },
            "type": "bar"
           }
          ],
          "barpolar": [
           {
            "marker": {
             "line": {
              "color": "#E5ECF6",
              "width": 0.5
             }
            },
            "type": "barpolar"
           }
          ],
          "carpet": [
           {
            "aaxis": {
             "endlinecolor": "#2a3f5f",
             "gridcolor": "white",
             "linecolor": "white",
             "minorgridcolor": "white",
             "startlinecolor": "#2a3f5f"
            },
            "baxis": {
             "endlinecolor": "#2a3f5f",
             "gridcolor": "white",
             "linecolor": "white",
             "minorgridcolor": "white",
             "startlinecolor": "#2a3f5f"
            },
            "type": "carpet"
           }
          ],
          "choropleth": [
           {
            "colorbar": {
             "outlinewidth": 0,
             "ticks": ""
            },
            "type": "choropleth"
           }
          ],
          "contour": [
           {
            "colorbar": {
             "outlinewidth": 0,
             "ticks": ""
            },
            "colorscale": [
             [
              0,
              "#0d0887"
             ],
             [
              0.1111111111111111,
              "#46039f"
             ],
             [
              0.2222222222222222,
              "#7201a8"
             ],
             [
              0.3333333333333333,
              "#9c179e"
             ],
             [
              0.4444444444444444,
              "#bd3786"
             ],
             [
              0.5555555555555556,
              "#d8576b"
             ],
             [
              0.6666666666666666,
              "#ed7953"
             ],
             [
              0.7777777777777778,
              "#fb9f3a"
             ],
             [
              0.8888888888888888,
              "#fdca26"
             ],
             [
              1,
              "#f0f921"
             ]
            ],
            "type": "contour"
           }
          ],
          "contourcarpet": [
           {
            "colorbar": {
             "outlinewidth": 0,
             "ticks": ""
            },
            "type": "contourcarpet"
           }
          ],
          "heatmap": [
           {
            "colorbar": {
             "outlinewidth": 0,
             "ticks": ""
            },
            "colorscale": [
             [
              0,
              "#0d0887"
             ],
             [
              0.1111111111111111,
              "#46039f"
             ],
             [
              0.2222222222222222,
              "#7201a8"
             ],
             [
              0.3333333333333333,
              "#9c179e"
             ],
             [
              0.4444444444444444,
              "#bd3786"
             ],
             [
              0.5555555555555556,
              "#d8576b"
             ],
             [
              0.6666666666666666,
              "#ed7953"
             ],
             [
              0.7777777777777778,
              "#fb9f3a"
             ],
             [
              0.8888888888888888,
              "#fdca26"
             ],
             [
              1,
              "#f0f921"
             ]
            ],
            "type": "heatmap"
           }
          ],
          "heatmapgl": [
           {
            "colorbar": {
             "outlinewidth": 0,
             "ticks": ""
            },
            "colorscale": [
             [
              0,
              "#0d0887"
             ],
             [
              0.1111111111111111,
              "#46039f"
             ],
             [
              0.2222222222222222,
              "#7201a8"
             ],
             [
              0.3333333333333333,
              "#9c179e"
             ],
             [
              0.4444444444444444,
              "#bd3786"
             ],
             [
              0.5555555555555556,
              "#d8576b"
             ],
             [
              0.6666666666666666,
              "#ed7953"
             ],
             [
              0.7777777777777778,
              "#fb9f3a"
             ],
             [
              0.8888888888888888,
              "#fdca26"
             ],
             [
              1,
              "#f0f921"
             ]
            ],
            "type": "heatmapgl"
           }
          ],
          "histogram": [
           {
            "marker": {
             "colorbar": {
              "outlinewidth": 0,
              "ticks": ""
             }
            },
            "type": "histogram"
           }
          ],
          "histogram2d": [
           {
            "colorbar": {
             "outlinewidth": 0,
             "ticks": ""
            },
            "colorscale": [
             [
              0,
              "#0d0887"
             ],
             [
              0.1111111111111111,
              "#46039f"
             ],
             [
              0.2222222222222222,
              "#7201a8"
             ],
             [
              0.3333333333333333,
              "#9c179e"
             ],
             [
              0.4444444444444444,
              "#bd3786"
             ],
             [
              0.5555555555555556,
              "#d8576b"
             ],
             [
              0.6666666666666666,
              "#ed7953"
             ],
             [
              0.7777777777777778,
              "#fb9f3a"
             ],
             [
              0.8888888888888888,
              "#fdca26"
             ],
             [
              1,
              "#f0f921"
             ]
            ],
            "type": "histogram2d"
           }
          ],
          "histogram2dcontour": [
           {
            "colorbar": {
             "outlinewidth": 0,
             "ticks": ""
            },
            "colorscale": [
             [
              0,
              "#0d0887"
             ],
             [
              0.1111111111111111,
              "#46039f"
             ],
             [
              0.2222222222222222,
              "#7201a8"
             ],
             [
              0.3333333333333333,
              "#9c179e"
             ],
             [
              0.4444444444444444,
              "#bd3786"
             ],
             [
              0.5555555555555556,
              "#d8576b"
             ],
             [
              0.6666666666666666,
              "#ed7953"
             ],
             [
              0.7777777777777778,
              "#fb9f3a"
             ],
             [
              0.8888888888888888,
              "#fdca26"
             ],
             [
              1,
              "#f0f921"
             ]
            ],
            "type": "histogram2dcontour"
           }
          ],
          "mesh3d": [
           {
            "colorbar": {
             "outlinewidth": 0,
             "ticks": ""
            },
            "type": "mesh3d"
           }
          ],
          "parcoords": [
           {
            "line": {
             "colorbar": {
              "outlinewidth": 0,
              "ticks": ""
             }
            },
            "type": "parcoords"
           }
          ],
          "pie": [
           {
            "automargin": true,
            "type": "pie"
           }
          ],
          "scatter": [
           {
            "marker": {
             "colorbar": {
              "outlinewidth": 0,
              "ticks": ""
             }
            },
            "type": "scatter"
           }
          ],
          "scatter3d": [
           {
            "line": {
             "colorbar": {
              "outlinewidth": 0,
              "ticks": ""
             }
            },
            "marker": {
             "colorbar": {
              "outlinewidth": 0,
              "ticks": ""
             }
            },
            "type": "scatter3d"
           }
          ],
          "scattercarpet": [
           {
            "marker": {
             "colorbar": {
              "outlinewidth": 0,
              "ticks": ""
             }
            },
            "type": "scattercarpet"
           }
          ],
          "scattergeo": [
           {
            "marker": {
             "colorbar": {
              "outlinewidth": 0,
              "ticks": ""
             }
            },
            "type": "scattergeo"
           }
          ],
          "scattergl": [
           {
            "marker": {
             "colorbar": {
              "outlinewidth": 0,
              "ticks": ""
             }
            },
            "type": "scattergl"
           }
          ],
          "scattermapbox": [
           {
            "marker": {
             "colorbar": {
              "outlinewidth": 0,
              "ticks": ""
             }
            },
            "type": "scattermapbox"
           }
          ],
          "scatterpolar": [
           {
            "marker": {
             "colorbar": {
              "outlinewidth": 0,
              "ticks": ""
             }
            },
            "type": "scatterpolar"
           }
          ],
          "scatterpolargl": [
           {
            "marker": {
             "colorbar": {
              "outlinewidth": 0,
              "ticks": ""
             }
            },
            "type": "scatterpolargl"
           }
          ],
          "scatterternary": [
           {
            "marker": {
             "colorbar": {
              "outlinewidth": 0,
              "ticks": ""
             }
            },
            "type": "scatterternary"
           }
          ],
          "surface": [
           {
            "colorbar": {
             "outlinewidth": 0,
             "ticks": ""
            },
            "colorscale": [
             [
              0,
              "#0d0887"
             ],
             [
              0.1111111111111111,
              "#46039f"
             ],
             [
              0.2222222222222222,
              "#7201a8"
             ],
             [
              0.3333333333333333,
              "#9c179e"
             ],
             [
              0.4444444444444444,
              "#bd3786"
             ],
             [
              0.5555555555555556,
              "#d8576b"
             ],
             [
              0.6666666666666666,
              "#ed7953"
             ],
             [
              0.7777777777777778,
              "#fb9f3a"
             ],
             [
              0.8888888888888888,
              "#fdca26"
             ],
             [
              1,
              "#f0f921"
             ]
            ],
            "type": "surface"
           }
          ],
          "table": [
           {
            "cells": {
             "fill": {
              "color": "#EBF0F8"
             },
             "line": {
              "color": "white"
             }
            },
            "header": {
             "fill": {
              "color": "#C8D4E3"
             },
             "line": {
              "color": "white"
             }
            },
            "type": "table"
           }
          ]
         },
         "layout": {
          "annotationdefaults": {
           "arrowcolor": "#2a3f5f",
           "arrowhead": 0,
           "arrowwidth": 1
          },
          "autotypenumbers": "strict",
          "coloraxis": {
           "colorbar": {
            "outlinewidth": 0,
            "ticks": ""
           }
          },
          "colorscale": {
           "diverging": [
            [
             0,
             "#8e0152"
            ],
            [
             0.1,
             "#c51b7d"
            ],
            [
             0.2,
             "#de77ae"
            ],
            [
             0.3,
             "#f1b6da"
            ],
            [
             0.4,
             "#fde0ef"
            ],
            [
             0.5,
             "#f7f7f7"
            ],
            [
             0.6,
             "#e6f5d0"
            ],
            [
             0.7,
             "#b8e186"
            ],
            [
             0.8,
             "#7fbc41"
            ],
            [
             0.9,
             "#4d9221"
            ],
            [
             1,
             "#276419"
            ]
           ],
           "sequential": [
            [
             0,
             "#0d0887"
            ],
            [
             0.1111111111111111,
             "#46039f"
            ],
            [
             0.2222222222222222,
             "#7201a8"
            ],
            [
             0.3333333333333333,
             "#9c179e"
            ],
            [
             0.4444444444444444,
             "#bd3786"
            ],
            [
             0.5555555555555556,
             "#d8576b"
            ],
            [
             0.6666666666666666,
             "#ed7953"
            ],
            [
             0.7777777777777778,
             "#fb9f3a"
            ],
            [
             0.8888888888888888,
             "#fdca26"
            ],
            [
             1,
             "#f0f921"
            ]
           ],
           "sequentialminus": [
            [
             0,
             "#0d0887"
            ],
            [
             0.1111111111111111,
             "#46039f"
            ],
            [
             0.2222222222222222,
             "#7201a8"
            ],
            [
             0.3333333333333333,
             "#9c179e"
            ],
            [
             0.4444444444444444,
             "#bd3786"
            ],
            [
             0.5555555555555556,
             "#d8576b"
            ],
            [
             0.6666666666666666,
             "#ed7953"
            ],
            [
             0.7777777777777778,
             "#fb9f3a"
            ],
            [
             0.8888888888888888,
             "#fdca26"
            ],
            [
             1,
             "#f0f921"
            ]
           ]
          },
          "colorway": [
           "#636efa",
           "#EF553B",
           "#00cc96",
           "#ab63fa",
           "#FFA15A",
           "#19d3f3",
           "#FF6692",
           "#B6E880",
           "#FF97FF",
           "#FECB52"
          ],
          "font": {
           "color": "#2a3f5f"
          },
          "geo": {
           "bgcolor": "white",
           "lakecolor": "white",
           "landcolor": "#E5ECF6",
           "showlakes": true,
           "showland": true,
           "subunitcolor": "white"
          },
          "hoverlabel": {
           "align": "left"
          },
          "hovermode": "closest",
          "mapbox": {
           "style": "light"
          },
          "paper_bgcolor": "white",
          "plot_bgcolor": "#E5ECF6",
          "polar": {
           "angularaxis": {
            "gridcolor": "white",
            "linecolor": "white",
            "ticks": ""
           },
           "bgcolor": "#E5ECF6",
           "radialaxis": {
            "gridcolor": "white",
            "linecolor": "white",
            "ticks": ""
           }
          },
          "scene": {
           "xaxis": {
            "backgroundcolor": "#E5ECF6",
            "gridcolor": "white",
            "gridwidth": 2,
            "linecolor": "white",
            "showbackground": true,
            "ticks": "",
            "zerolinecolor": "white"
           },
           "yaxis": {
            "backgroundcolor": "#E5ECF6",
            "gridcolor": "white",
            "gridwidth": 2,
            "linecolor": "white",
            "showbackground": true,
            "ticks": "",
            "zerolinecolor": "white"
           },
           "zaxis": {
            "backgroundcolor": "#E5ECF6",
            "gridcolor": "white",
            "gridwidth": 2,
            "linecolor": "white",
            "showbackground": true,
            "ticks": "",
            "zerolinecolor": "white"
           }
          },
          "shapedefaults": {
           "line": {
            "color": "#2a3f5f"
           }
          },
          "ternary": {
           "aaxis": {
            "gridcolor": "white",
            "linecolor": "white",
            "ticks": ""
           },
           "baxis": {
            "gridcolor": "white",
            "linecolor": "white",
            "ticks": ""
           },
           "bgcolor": "#E5ECF6",
           "caxis": {
            "gridcolor": "white",
            "linecolor": "white",
            "ticks": ""
           }
          },
          "title": {
           "x": 0.05
          },
          "xaxis": {
           "automargin": true,
           "gridcolor": "white",
           "linecolor": "white",
           "ticks": "",
           "title": {
            "standoff": 15
           },
           "zerolinecolor": "white",
           "zerolinewidth": 2
          },
          "yaxis": {
           "automargin": true,
           "gridcolor": "white",
           "linecolor": "white",
           "ticks": "",
           "title": {
            "standoff": 15
           },
           "zerolinecolor": "white",
           "zerolinewidth": 2
          }
         }
        },
        "title": {
         "text": "Año"
        }
       }
      },
      "text/html": [
       "<div>                            <div id=\"da82ba87-94a5-480c-9bea-490c97fac5e0\" class=\"plotly-graph-div\" style=\"height:525px; width:100%;\"></div>            <script type=\"text/javascript\">                require([\"plotly\"], function(Plotly) {                    window.PLOTLYENV=window.PLOTLYENV || {};                                    if (document.getElementById(\"da82ba87-94a5-480c-9bea-490c97fac5e0\")) {                    Plotly.newPlot(                        \"da82ba87-94a5-480c-9bea-490c97fac5e0\",                        [{\"domain\": {\"x\": [0.0, 1.0], \"y\": [0.0, 1.0]}, \"hovertemplate\": \"A\\u00f1o=%{label}<br>count=%{value}<extra></extra>\", \"labels\": [2017, 2018, 2019, 2020, 2021], \"legendgroup\": \"\", \"name\": \"\", \"showlegend\": true, \"type\": \"pie\", \"values\": [92, 365, 365, 366, 151]}],                        {\"legend\": {\"tracegroupgap\": 0}, \"template\": {\"data\": {\"bar\": [{\"error_x\": {\"color\": \"#2a3f5f\"}, \"error_y\": {\"color\": \"#2a3f5f\"}, \"marker\": {\"line\": {\"color\": \"#E5ECF6\", \"width\": 0.5}}, \"type\": \"bar\"}], \"barpolar\": [{\"marker\": {\"line\": {\"color\": \"#E5ECF6\", \"width\": 0.5}}, \"type\": \"barpolar\"}], \"carpet\": [{\"aaxis\": {\"endlinecolor\": \"#2a3f5f\", \"gridcolor\": \"white\", \"linecolor\": \"white\", \"minorgridcolor\": \"white\", \"startlinecolor\": \"#2a3f5f\"}, \"baxis\": {\"endlinecolor\": \"#2a3f5f\", \"gridcolor\": \"white\", \"linecolor\": \"white\", \"minorgridcolor\": \"white\", \"startlinecolor\": \"#2a3f5f\"}, \"type\": \"carpet\"}], \"choropleth\": [{\"colorbar\": {\"outlinewidth\": 0, \"ticks\": \"\"}, \"type\": \"choropleth\"}], \"contour\": [{\"colorbar\": {\"outlinewidth\": 0, \"ticks\": \"\"}, \"colorscale\": [[0.0, \"#0d0887\"], [0.1111111111111111, \"#46039f\"], [0.2222222222222222, \"#7201a8\"], [0.3333333333333333, \"#9c179e\"], [0.4444444444444444, \"#bd3786\"], [0.5555555555555556, \"#d8576b\"], [0.6666666666666666, \"#ed7953\"], [0.7777777777777778, \"#fb9f3a\"], [0.8888888888888888, \"#fdca26\"], [1.0, \"#f0f921\"]], \"type\": \"contour\"}], \"contourcarpet\": [{\"colorbar\": {\"outlinewidth\": 0, \"ticks\": \"\"}, \"type\": \"contourcarpet\"}], \"heatmap\": [{\"colorbar\": {\"outlinewidth\": 0, \"ticks\": \"\"}, \"colorscale\": [[0.0, \"#0d0887\"], [0.1111111111111111, \"#46039f\"], [0.2222222222222222, \"#7201a8\"], [0.3333333333333333, \"#9c179e\"], [0.4444444444444444, \"#bd3786\"], [0.5555555555555556, \"#d8576b\"], [0.6666666666666666, \"#ed7953\"], [0.7777777777777778, \"#fb9f3a\"], [0.8888888888888888, \"#fdca26\"], [1.0, \"#f0f921\"]], \"type\": \"heatmap\"}], \"heatmapgl\": [{\"colorbar\": {\"outlinewidth\": 0, \"ticks\": \"\"}, \"colorscale\": [[0.0, \"#0d0887\"], [0.1111111111111111, \"#46039f\"], [0.2222222222222222, \"#7201a8\"], [0.3333333333333333, \"#9c179e\"], [0.4444444444444444, \"#bd3786\"], [0.5555555555555556, \"#d8576b\"], [0.6666666666666666, \"#ed7953\"], [0.7777777777777778, \"#fb9f3a\"], [0.8888888888888888, \"#fdca26\"], [1.0, \"#f0f921\"]], \"type\": \"heatmapgl\"}], \"histogram\": [{\"marker\": {\"colorbar\": {\"outlinewidth\": 0, \"ticks\": \"\"}}, \"type\": \"histogram\"}], \"histogram2d\": [{\"colorbar\": {\"outlinewidth\": 0, \"ticks\": \"\"}, \"colorscale\": [[0.0, \"#0d0887\"], [0.1111111111111111, \"#46039f\"], [0.2222222222222222, \"#7201a8\"], [0.3333333333333333, \"#9c179e\"], [0.4444444444444444, \"#bd3786\"], [0.5555555555555556, \"#d8576b\"], [0.6666666666666666, \"#ed7953\"], [0.7777777777777778, \"#fb9f3a\"], [0.8888888888888888, \"#fdca26\"], [1.0, \"#f0f921\"]], \"type\": \"histogram2d\"}], \"histogram2dcontour\": [{\"colorbar\": {\"outlinewidth\": 0, \"ticks\": \"\"}, \"colorscale\": [[0.0, \"#0d0887\"], [0.1111111111111111, \"#46039f\"], [0.2222222222222222, \"#7201a8\"], [0.3333333333333333, \"#9c179e\"], [0.4444444444444444, \"#bd3786\"], [0.5555555555555556, \"#d8576b\"], [0.6666666666666666, \"#ed7953\"], [0.7777777777777778, \"#fb9f3a\"], [0.8888888888888888, \"#fdca26\"], [1.0, \"#f0f921\"]], \"type\": \"histogram2dcontour\"}], \"mesh3d\": [{\"colorbar\": {\"outlinewidth\": 0, \"ticks\": \"\"}, \"type\": \"mesh3d\"}], \"parcoords\": [{\"line\": {\"colorbar\": {\"outlinewidth\": 0, \"ticks\": \"\"}}, \"type\": \"parcoords\"}], \"pie\": [{\"automargin\": true, \"type\": \"pie\"}], \"scatter\": [{\"marker\": {\"colorbar\": {\"outlinewidth\": 0, \"ticks\": \"\"}}, \"type\": \"scatter\"}], \"scatter3d\": [{\"line\": {\"colorbar\": {\"outlinewidth\": 0, \"ticks\": \"\"}}, \"marker\": {\"colorbar\": {\"outlinewidth\": 0, \"ticks\": \"\"}}, \"type\": \"scatter3d\"}], \"scattercarpet\": [{\"marker\": {\"colorbar\": {\"outlinewidth\": 0, \"ticks\": \"\"}}, \"type\": \"scattercarpet\"}], \"scattergeo\": [{\"marker\": {\"colorbar\": {\"outlinewidth\": 0, \"ticks\": \"\"}}, \"type\": \"scattergeo\"}], \"scattergl\": [{\"marker\": {\"colorbar\": {\"outlinewidth\": 0, \"ticks\": \"\"}}, \"type\": \"scattergl\"}], \"scattermapbox\": [{\"marker\": {\"colorbar\": {\"outlinewidth\": 0, \"ticks\": \"\"}}, \"type\": \"scattermapbox\"}], \"scatterpolar\": [{\"marker\": {\"colorbar\": {\"outlinewidth\": 0, \"ticks\": \"\"}}, \"type\": \"scatterpolar\"}], \"scatterpolargl\": [{\"marker\": {\"colorbar\": {\"outlinewidth\": 0, \"ticks\": \"\"}}, \"type\": \"scatterpolargl\"}], \"scatterternary\": [{\"marker\": {\"colorbar\": {\"outlinewidth\": 0, \"ticks\": \"\"}}, \"type\": \"scatterternary\"}], \"surface\": [{\"colorbar\": {\"outlinewidth\": 0, \"ticks\": \"\"}, \"colorscale\": [[0.0, \"#0d0887\"], [0.1111111111111111, \"#46039f\"], [0.2222222222222222, \"#7201a8\"], [0.3333333333333333, \"#9c179e\"], [0.4444444444444444, \"#bd3786\"], [0.5555555555555556, \"#d8576b\"], [0.6666666666666666, \"#ed7953\"], [0.7777777777777778, \"#fb9f3a\"], [0.8888888888888888, \"#fdca26\"], [1.0, \"#f0f921\"]], \"type\": \"surface\"}], \"table\": [{\"cells\": {\"fill\": {\"color\": \"#EBF0F8\"}, \"line\": {\"color\": \"white\"}}, \"header\": {\"fill\": {\"color\": \"#C8D4E3\"}, \"line\": {\"color\": \"white\"}}, \"type\": \"table\"}]}, \"layout\": {\"annotationdefaults\": {\"arrowcolor\": \"#2a3f5f\", \"arrowhead\": 0, \"arrowwidth\": 1}, \"autotypenumbers\": \"strict\", \"coloraxis\": {\"colorbar\": {\"outlinewidth\": 0, \"ticks\": \"\"}}, \"colorscale\": {\"diverging\": [[0, \"#8e0152\"], [0.1, \"#c51b7d\"], [0.2, \"#de77ae\"], [0.3, \"#f1b6da\"], [0.4, \"#fde0ef\"], [0.5, \"#f7f7f7\"], [0.6, \"#e6f5d0\"], [0.7, \"#b8e186\"], [0.8, \"#7fbc41\"], [0.9, \"#4d9221\"], [1, \"#276419\"]], \"sequential\": [[0.0, \"#0d0887\"], [0.1111111111111111, \"#46039f\"], [0.2222222222222222, \"#7201a8\"], [0.3333333333333333, \"#9c179e\"], [0.4444444444444444, \"#bd3786\"], [0.5555555555555556, \"#d8576b\"], [0.6666666666666666, \"#ed7953\"], [0.7777777777777778, \"#fb9f3a\"], [0.8888888888888888, \"#fdca26\"], [1.0, \"#f0f921\"]], \"sequentialminus\": [[0.0, \"#0d0887\"], [0.1111111111111111, \"#46039f\"], [0.2222222222222222, \"#7201a8\"], [0.3333333333333333, \"#9c179e\"], [0.4444444444444444, \"#bd3786\"], [0.5555555555555556, \"#d8576b\"], [0.6666666666666666, \"#ed7953\"], [0.7777777777777778, \"#fb9f3a\"], [0.8888888888888888, \"#fdca26\"], [1.0, \"#f0f921\"]]}, \"colorway\": [\"#636efa\", \"#EF553B\", \"#00cc96\", \"#ab63fa\", \"#FFA15A\", \"#19d3f3\", \"#FF6692\", \"#B6E880\", \"#FF97FF\", \"#FECB52\"], \"font\": {\"color\": \"#2a3f5f\"}, \"geo\": {\"bgcolor\": \"white\", \"lakecolor\": \"white\", \"landcolor\": \"#E5ECF6\", \"showlakes\": true, \"showland\": true, \"subunitcolor\": \"white\"}, \"hoverlabel\": {\"align\": \"left\"}, \"hovermode\": \"closest\", \"mapbox\": {\"style\": \"light\"}, \"paper_bgcolor\": \"white\", \"plot_bgcolor\": \"#E5ECF6\", \"polar\": {\"angularaxis\": {\"gridcolor\": \"white\", \"linecolor\": \"white\", \"ticks\": \"\"}, \"bgcolor\": \"#E5ECF6\", \"radialaxis\": {\"gridcolor\": \"white\", \"linecolor\": \"white\", \"ticks\": \"\"}}, \"scene\": {\"xaxis\": {\"backgroundcolor\": \"#E5ECF6\", \"gridcolor\": \"white\", \"gridwidth\": 2, \"linecolor\": \"white\", \"showbackground\": true, \"ticks\": \"\", \"zerolinecolor\": \"white\"}, \"yaxis\": {\"backgroundcolor\": \"#E5ECF6\", \"gridcolor\": \"white\", \"gridwidth\": 2, \"linecolor\": \"white\", \"showbackground\": true, \"ticks\": \"\", \"zerolinecolor\": \"white\"}, \"zaxis\": {\"backgroundcolor\": \"#E5ECF6\", \"gridcolor\": \"white\", \"gridwidth\": 2, \"linecolor\": \"white\", \"showbackground\": true, \"ticks\": \"\", \"zerolinecolor\": \"white\"}}, \"shapedefaults\": {\"line\": {\"color\": \"#2a3f5f\"}}, \"ternary\": {\"aaxis\": {\"gridcolor\": \"white\", \"linecolor\": \"white\", \"ticks\": \"\"}, \"baxis\": {\"gridcolor\": \"white\", \"linecolor\": \"white\", \"ticks\": \"\"}, \"bgcolor\": \"#E5ECF6\", \"caxis\": {\"gridcolor\": \"white\", \"linecolor\": \"white\", \"ticks\": \"\"}}, \"title\": {\"x\": 0.05}, \"xaxis\": {\"automargin\": true, \"gridcolor\": \"white\", \"linecolor\": \"white\", \"ticks\": \"\", \"title\": {\"standoff\": 15}, \"zerolinecolor\": \"white\", \"zerolinewidth\": 2}, \"yaxis\": {\"automargin\": true, \"gridcolor\": \"white\", \"linecolor\": \"white\", \"ticks\": \"\", \"title\": {\"standoff\": 15}, \"zerolinecolor\": \"white\", \"zerolinewidth\": 2}}}, \"title\": {\"text\": \"A\\u00f1o\"}},                        {\"responsive\": true}                    ).then(function(){\n",
       "                            \n",
       "var gd = document.getElementById('da82ba87-94a5-480c-9bea-490c97fac5e0');\n",
       "var x = new MutationObserver(function (mutations, observer) {{\n",
       "        var display = window.getComputedStyle(gd).display;\n",
       "        if (!display || display === 'none') {{\n",
       "            console.log([gd, 'removed!']);\n",
       "            Plotly.purge(gd);\n",
       "            observer.disconnect();\n",
       "        }}\n",
       "}});\n",
       "\n",
       "// Listen for the removal of the full notebook cells\n",
       "var notebookContainer = gd.closest('#notebook-container');\n",
       "if (notebookContainer) {{\n",
       "    x.observe(notebookContainer, {childList: true});\n",
       "}}\n",
       "\n",
       "// Listen for the clearing of the current output cell\n",
       "var outputEl = gd.closest('.output');\n",
       "if (outputEl) {{\n",
       "    x.observe(outputEl, {childList: true});\n",
       "}}\n",
       "\n",
       "                        })                };                });            </script>        </div>"
      ]
     },
     "metadata": {},
     "output_type": "display_data"
    }
   ],
   "source": [
    "fig = px.pie(caño, values='count', names='Año', title='Año')\n",
    "fig.show()"
   ]
  },
  {
   "cell_type": "markdown",
   "metadata": {
    "id": "syrEp5Wpbzve"
   },
   "source": [
    "#### Como el total son 1339 voy a dividir 1071 para entrenar y 268 para validacion, es decir,(80,20)\n"
   ]
  },
  {
   "cell_type": "code",
   "execution_count": 97,
   "metadata": {
    "id": "59hqQLEZ-5CO"
   },
   "outputs": [],
   "source": [
    "#round(len(MediaMovil)*0.8)"
   ]
  },
  {
   "cell_type": "code",
   "execution_count": 98,
   "metadata": {
    "id": "Z2AuO7imbzvf"
   },
   "outputs": [],
   "source": [
    "entrenamiento = MediaMovil[:round(len(MediaMovil)*0.8)]\n",
    "validacion = MediaMovil[round(len(MediaMovil)*0.8):]"
   ]
  },
  {
   "cell_type": "code",
   "execution_count": 99,
   "metadata": {
    "colab": {
     "base_uri": "https://localhost:8080/"
    },
    "id": "10SEUWIVbzvf",
    "outputId": "c557217e-b1d6-41d6-ee92-923ca15ef924"
   },
   "outputs": [
    {
     "data": {
      "text/plain": [
       "(1071, 2)"
      ]
     },
     "execution_count": 99,
     "metadata": {},
     "output_type": "execute_result"
    }
   ],
   "source": [
    "#comprobación de las dimensiones de los datos de entrenamiento\n",
    "entrenamiento.shape"
   ]
  },
  {
   "cell_type": "code",
   "execution_count": 100,
   "metadata": {
    "colab": {
     "base_uri": "https://localhost:8080/"
    },
    "id": "iUGWjg_6bzvf",
    "outputId": "bc227ae3-a523-4704-d825-e5aa462bed47"
   },
   "outputs": [
    {
     "data": {
      "text/plain": [
       "(268, 2)"
      ]
     },
     "execution_count": 100,
     "metadata": {},
     "output_type": "execute_result"
    }
   ],
   "source": [
    "#comprobación de las dimensiones de los datos de validacion\n",
    "validacion.shape"
   ]
  },
  {
   "cell_type": "markdown",
   "metadata": {
    "id": "-3py35rSbzvf"
   },
   "source": [
    "#### Se va a utilizar el RMSE o raiz del error cuadratico medio para verificar los valores"
   ]
  },
  {
   "cell_type": "code",
   "execution_count": 101,
   "metadata": {
    "id": "2zLkC0yBbzvg"
   },
   "outputs": [],
   "source": [
    "#Prediccion\n",
    "PrediccionMM = []"
   ]
  },
  {
   "cell_type": "code",
   "execution_count": 103,
   "metadata": {
    "id": "QjZ_rceqbzvg"
   },
   "outputs": [],
   "source": [
    "\n",
    "#len(validacion) = 268\n",
    "for i in range(0,validacion.shape[0]):\n",
    "    #1070-267+i:\n",
    "    #tiene que ser uno menos porque estoy usando la media movil\n",
    "    a = entrenamiento['Cerrar**'][len(entrenamiento)-(len(validacion)-1)+i:].sum() + sum(PrediccionMM)\n",
    "    b = a/(len(validacion)-1)\n",
    "    PrediccionMM.append(b)\n",
    "#Comprobacion de RMSE\n",
    "rmse=np.sqrt(np.mean(np.power((np.array(validacion['Cerrar**'])-PrediccionMM),2)))\n"
   ]
  },
  {
   "cell_type": "markdown",
   "metadata": {
    "id": "GeR-UqD9bzvg"
   },
   "source": [
    "<img src=\"https://miro.medium.com/max/700/1*qYxwsMuaYfhINbq3EteRYQ.png\">"
   ]
  },
  {
   "cell_type": "code",
   "execution_count": 104,
   "metadata": {
    "colab": {
     "base_uri": "https://localhost:8080/"
    },
    "id": "zimvguwbbzvg",
    "outputId": "ed0a99e7-4f70-4f2e-c57c-ae2e66f268bf"
   },
   "outputs": [
    {
     "name": "stdout",
     "output_type": "stream",
     "text": [
      "\n",
      " RMSE value on validation set:\n",
      "0.670973878735047\n"
     ]
    }
   ],
   "source": [
    "print('\\n RMSE value on validation set:')\n",
    "print(rmse)"
   ]
  },
  {
   "cell_type": "code",
   "execution_count": 105,
   "metadata": {
    "colab": {
     "base_uri": "https://localhost:8080/",
     "height": 565
    },
    "id": "A7wX8UOhbzvh",
    "outputId": "ed38ddba-6cc6-42ea-9f84-c4cf40209e5d"
   },
   "outputs": [
    {
     "name": "stderr",
     "output_type": "stream",
     "text": [
      "C:\\Users\\mivar\\Anaconda2\\envs\\py36\\lib\\site-packages\\ipykernel_launcher.py:4: SettingWithCopyWarning:\n",
      "\n",
      "\n",
      "A value is trying to be set on a copy of a slice from a DataFrame.\n",
      "Try using .loc[row_indexer,col_indexer] = value instead\n",
      "\n",
      "See the caveats in the documentation: https://pandas.pydata.org/pandas-docs/stable/user_guide/indexing.html#returning-a-view-versus-a-copy\n",
      "\n",
      "C:\\Users\\mivar\\Anaconda2\\envs\\py36\\lib\\site-packages\\ipykernel_launcher.py:5: SettingWithCopyWarning:\n",
      "\n",
      "\n",
      "A value is trying to be set on a copy of a slice from a DataFrame.\n",
      "Try using .loc[row_indexer,col_indexer] = value instead\n",
      "\n",
      "See the caveats in the documentation: https://pandas.pydata.org/pandas-docs/stable/user_guide/indexing.html#returning-a-view-versus-a-copy\n",
      "\n"
     ]
    },
    {
     "data": {
      "image/png": "[encoded data removed]",
      "text/plain": [
       "<Figure size 1152x432 with 1 Axes>"
      ]
     },
     "metadata": {
      "needs_background": "light"
     },
     "output_type": "display_data"
    }
   ],
   "source": [
    "#Visualización del resultado\n",
    "plt.figure(figsize=(16,6))\n",
    "plt.title('Media Movil')\n",
    "validacion['Predicion'] = 0\n",
    "validacion['Predicion'] = PrediccionMM\n",
    "plt.plot(entrenamiento['Cerrar**'],color='blue')\n",
    "plt.plot(validacion[['Cerrar**', 'Predicion']],color='red')\n",
    "plt.xlabel('Fecha')\n",
    "plt.ylabel('Cierre')\n",
    "\n",
    "plt.grid()"
   ]
  },
  {
   "cell_type": "code",
   "execution_count": 106,
   "metadata": {
    "id": "oyDf5H3ebzvh"
   },
   "outputs": [],
   "source": [
    "#TENDENDCIA ALCISTA"
   ]
  },
  {
   "cell_type": "markdown",
   "metadata": {
    "id": "QKsd2lNMbzvh"
   },
   "source": [
    "# Regresión lineal simple"
   ]
  },
  {
   "cell_type": "markdown",
   "metadata": {
    "id": "usArzBTqbzvi"
   },
   "source": [
    "El objetivo es tratar de explicar la relación que existe entre una variable dependiente (Y - variable respuesta) y una variable independiente (X - variable explicativa)\n",
    "\n",
    "El modelo de regresión lineal simple tiene la siguiente expresión:\n",
    "                    \n",
    "                    Y = a + bX\n",
    "\n",
    "En donde:\n",
    "- a es la ordenada en el origen \n",
    "- b es la pendiente de la recta \n",
    "\n",
    "Usaremos para resolverlo el método de mínimos cuadrados, que consiste en minimizar la suma de los cuadrados de los errores."
   ]
  },
  {
   "cell_type": "markdown",
   "metadata": {
    "id": "cDFW-Y9Mbzvi"
   },
   "source": [
    "#### Como entrada usaremos el Dia de la semana"
   ]
  },
  {
   "cell_type": "code",
   "execution_count": 107,
   "metadata": {
    "colab": {
     "base_uri": "https://localhost:8080/",
     "height": 390
    },
    "id": "3BBaxD9Ybzvi",
    "outputId": "b63ce56b-80b4-489a-db2d-5225c7ce7f5f"
   },
   "outputs": [
    {
     "data": {
      "text/html": [
       "<div>\n",
       "<style scoped>\n",
       "    .dataframe tbody tr th:only-of-type {\n",
       "        vertical-align: middle;\n",
       "    }\n",
       "\n",
       "    .dataframe tbody tr th {\n",
       "        vertical-align: top;\n",
       "    }\n",
       "\n",
       "    .dataframe thead th {\n",
       "        text-align: right;\n",
       "    }\n",
       "</style>\n",
       "<table border=\"1\" class=\"dataframe\">\n",
       "  <thead>\n",
       "    <tr style=\"text-align: right;\">\n",
       "      <th></th>\n",
       "      <th>Dia_semana</th>\n",
       "    </tr>\n",
       "    <tr>\n",
       "      <th>fecha</th>\n",
       "      <th></th>\n",
       "    </tr>\n",
       "  </thead>\n",
       "  <tbody>\n",
       "    <tr>\n",
       "      <th>2017-10-01</th>\n",
       "      <td>1</td>\n",
       "    </tr>\n",
       "    <tr>\n",
       "      <th>2017-10-02</th>\n",
       "      <td>0</td>\n",
       "    </tr>\n",
       "    <tr>\n",
       "      <th>2017-10-03</th>\n",
       "      <td>6</td>\n",
       "    </tr>\n",
       "    <tr>\n",
       "      <th>2017-10-04</th>\n",
       "      <td>5</td>\n",
       "    </tr>\n",
       "    <tr>\n",
       "      <th>2017-10-05</th>\n",
       "      <td>4</td>\n",
       "    </tr>\n",
       "    <tr>\n",
       "      <th>2017-10-06</th>\n",
       "      <td>3</td>\n",
       "    </tr>\n",
       "    <tr>\n",
       "      <th>2017-10-07</th>\n",
       "      <td>2</td>\n",
       "    </tr>\n",
       "    <tr>\n",
       "      <th>2017-10-08</th>\n",
       "      <td>1</td>\n",
       "    </tr>\n",
       "    <tr>\n",
       "      <th>2017-10-09</th>\n",
       "      <td>0</td>\n",
       "    </tr>\n",
       "    <tr>\n",
       "      <th>2017-10-10</th>\n",
       "      <td>6</td>\n",
       "    </tr>\n",
       "  </tbody>\n",
       "</table>\n",
       "</div>"
      ],
      "text/plain": [
       "            Dia_semana\n",
       "fecha                 \n",
       "2017-10-01           1\n",
       "2017-10-02           0\n",
       "2017-10-03           6\n",
       "2017-10-04           5\n",
       "2017-10-05           4\n",
       "2017-10-06           3\n",
       "2017-10-07           2\n",
       "2017-10-08           1\n",
       "2017-10-09           0\n",
       "2017-10-10           6"
      ]
     },
     "execution_count": 107,
     "metadata": {},
     "output_type": "execute_result"
    }
   ],
   "source": [
    "#ENTRADAS\n",
    "X = datos.iloc[:,[11]]\n",
    "X.head(10)"
   ]
  },
  {
   "cell_type": "code",
   "execution_count": 108,
   "metadata": {
    "colab": {
     "base_uri": "https://localhost:8080/",
     "height": 390
    },
    "id": "S9YStx-Nbzvi",
    "outputId": "3b61b0a1-36a6-4ab5-de9a-255af6d69de7",
    "scrolled": true
   },
   "outputs": [
    {
     "data": {
      "text/html": [
       "<div>\n",
       "<style scoped>\n",
       "    .dataframe tbody tr th:only-of-type {\n",
       "        vertical-align: middle;\n",
       "    }\n",
       "\n",
       "    .dataframe tbody tr th {\n",
       "        vertical-align: top;\n",
       "    }\n",
       "\n",
       "    .dataframe thead th {\n",
       "        text-align: right;\n",
       "    }\n",
       "</style>\n",
       "<table border=\"1\" class=\"dataframe\">\n",
       "  <thead>\n",
       "    <tr style=\"text-align: right;\">\n",
       "      <th></th>\n",
       "      <th>Cerrar**</th>\n",
       "    </tr>\n",
       "    <tr>\n",
       "      <th>fecha</th>\n",
       "      <th></th>\n",
       "    </tr>\n",
       "  </thead>\n",
       "  <tbody>\n",
       "    <tr>\n",
       "      <th>2017-10-01</th>\n",
       "      <td>0.02</td>\n",
       "    </tr>\n",
       "    <tr>\n",
       "      <th>2017-10-02</th>\n",
       "      <td>0.02</td>\n",
       "    </tr>\n",
       "    <tr>\n",
       "      <th>2017-10-03</th>\n",
       "      <td>0.02</td>\n",
       "    </tr>\n",
       "    <tr>\n",
       "      <th>2017-10-04</th>\n",
       "      <td>0.02</td>\n",
       "    </tr>\n",
       "    <tr>\n",
       "      <th>2017-10-05</th>\n",
       "      <td>0.02</td>\n",
       "    </tr>\n",
       "    <tr>\n",
       "      <th>2017-10-06</th>\n",
       "      <td>0.02</td>\n",
       "    </tr>\n",
       "    <tr>\n",
       "      <th>2017-10-07</th>\n",
       "      <td>0.02</td>\n",
       "    </tr>\n",
       "    <tr>\n",
       "      <th>2017-10-08</th>\n",
       "      <td>0.02</td>\n",
       "    </tr>\n",
       "    <tr>\n",
       "      <th>2017-10-09</th>\n",
       "      <td>0.02</td>\n",
       "    </tr>\n",
       "    <tr>\n",
       "      <th>2017-10-10</th>\n",
       "      <td>0.02</td>\n",
       "    </tr>\n",
       "  </tbody>\n",
       "</table>\n",
       "</div>"
      ],
      "text/plain": [
       "            Cerrar**\n",
       "fecha               \n",
       "2017-10-01      0.02\n",
       "2017-10-02      0.02\n",
       "2017-10-03      0.02\n",
       "2017-10-04      0.02\n",
       "2017-10-05      0.02\n",
       "2017-10-06      0.02\n",
       "2017-10-07      0.02\n",
       "2017-10-08      0.02\n",
       "2017-10-09      0.02\n",
       "2017-10-10      0.02"
      ]
     },
     "execution_count": 108,
     "metadata": {},
     "output_type": "execute_result"
    }
   ],
   "source": [
    "#SALIDAS\n",
    "y= datos.iloc[:,[4]]\n",
    "y.head(10)"
   ]
  },
  {
   "cell_type": "code",
   "execution_count": 109,
   "metadata": {
    "colab": {
     "base_uri": "https://localhost:8080/",
     "height": 450
    },
    "id": "bLpO6f9-bzvj",
    "outputId": "9728a848-3a19-4cd2-9a56-69fdf3399086"
   },
   "outputs": [
    {
     "data": {
      "text/html": [
       "<div>\n",
       "<style scoped>\n",
       "    .dataframe tbody tr th:only-of-type {\n",
       "        vertical-align: middle;\n",
       "    }\n",
       "\n",
       "    .dataframe tbody tr th {\n",
       "        vertical-align: top;\n",
       "    }\n",
       "\n",
       "    .dataframe thead th {\n",
       "        text-align: right;\n",
       "    }\n",
       "</style>\n",
       "<table border=\"1\" class=\"dataframe\">\n",
       "  <thead>\n",
       "    <tr style=\"text-align: right;\">\n",
       "      <th></th>\n",
       "      <th>Dia_semana</th>\n",
       "      <th>Cerrar**</th>\n",
       "    </tr>\n",
       "    <tr>\n",
       "      <th>fecha</th>\n",
       "      <th></th>\n",
       "      <th></th>\n",
       "    </tr>\n",
       "  </thead>\n",
       "  <tbody>\n",
       "    <tr>\n",
       "      <th>2017-10-01</th>\n",
       "      <td>1</td>\n",
       "      <td>0.02</td>\n",
       "    </tr>\n",
       "    <tr>\n",
       "      <th>2017-10-02</th>\n",
       "      <td>0</td>\n",
       "      <td>0.02</td>\n",
       "    </tr>\n",
       "    <tr>\n",
       "      <th>2017-10-03</th>\n",
       "      <td>6</td>\n",
       "      <td>0.02</td>\n",
       "    </tr>\n",
       "    <tr>\n",
       "      <th>2017-10-04</th>\n",
       "      <td>5</td>\n",
       "      <td>0.02</td>\n",
       "    </tr>\n",
       "    <tr>\n",
       "      <th>2017-10-05</th>\n",
       "      <td>4</td>\n",
       "      <td>0.02</td>\n",
       "    </tr>\n",
       "    <tr>\n",
       "      <th>...</th>\n",
       "      <td>...</td>\n",
       "      <td>...</td>\n",
       "    </tr>\n",
       "    <tr>\n",
       "      <th>2021-05-27</th>\n",
       "      <td>4</td>\n",
       "      <td>1.35</td>\n",
       "    </tr>\n",
       "    <tr>\n",
       "      <th>2021-05-28</th>\n",
       "      <td>3</td>\n",
       "      <td>1.24</td>\n",
       "    </tr>\n",
       "    <tr>\n",
       "      <th>2021-05-29</th>\n",
       "      <td>2</td>\n",
       "      <td>1.15</td>\n",
       "    </tr>\n",
       "    <tr>\n",
       "      <th>2021-05-30</th>\n",
       "      <td>1</td>\n",
       "      <td>1.29</td>\n",
       "    </tr>\n",
       "    <tr>\n",
       "      <th>2021-05-31</th>\n",
       "      <td>0</td>\n",
       "      <td>1.43</td>\n",
       "    </tr>\n",
       "  </tbody>\n",
       "</table>\n",
       "<p>1339 rows × 2 columns</p>\n",
       "</div>"
      ],
      "text/plain": [
       "            Dia_semana  Cerrar**\n",
       "fecha                           \n",
       "2017-10-01           1      0.02\n",
       "2017-10-02           0      0.02\n",
       "2017-10-03           6      0.02\n",
       "2017-10-04           5      0.02\n",
       "2017-10-05           4      0.02\n",
       "...                ...       ...\n",
       "2021-05-27           4      1.35\n",
       "2021-05-28           3      1.24\n",
       "2021-05-29           2      1.15\n",
       "2021-05-30           1      1.29\n",
       "2021-05-31           0      1.43\n",
       "\n",
       "[1339 rows x 2 columns]"
      ]
     },
     "execution_count": 109,
     "metadata": {},
     "output_type": "execute_result"
    }
   ],
   "source": [
    "#Juntamos el nuevo Dataframe\n",
    "datasetmrs = pd.DataFrame()\n",
    "datasetmrs = pd.concat([datos.iloc[:,[11]], datos.iloc[:,[4]]], axis=1)\n",
    "datasetmrs"
   ]
  },
  {
   "cell_type": "code",
   "execution_count": 110,
   "metadata": {
    "colab": {
     "base_uri": "https://localhost:8080/",
     "height": 111
    },
    "id": "-rUNyN4cbzvj",
    "outputId": "b6fc92c1-bec7-479e-cff7-dfde36d15c0c"
   },
   "outputs": [
    {
     "data": {
      "text/html": [
       "<div>\n",
       "<style scoped>\n",
       "    .dataframe tbody tr th:only-of-type {\n",
       "        vertical-align: middle;\n",
       "    }\n",
       "\n",
       "    .dataframe tbody tr th {\n",
       "        vertical-align: top;\n",
       "    }\n",
       "\n",
       "    .dataframe thead th {\n",
       "        text-align: right;\n",
       "    }\n",
       "</style>\n",
       "<table border=\"1\" class=\"dataframe\">\n",
       "  <thead>\n",
       "    <tr style=\"text-align: right;\">\n",
       "      <th></th>\n",
       "      <th>Dia_semana</th>\n",
       "      <th>Cerrar**</th>\n",
       "    </tr>\n",
       "  </thead>\n",
       "  <tbody>\n",
       "    <tr>\n",
       "      <th>Dia_semana</th>\n",
       "      <td>1.000000</td>\n",
       "      <td>-0.006646</td>\n",
       "    </tr>\n",
       "    <tr>\n",
       "      <th>Cerrar**</th>\n",
       "      <td>-0.006646</td>\n",
       "      <td>1.000000</td>\n",
       "    </tr>\n",
       "  </tbody>\n",
       "</table>\n",
       "</div>"
      ],
      "text/plain": [
       "            Dia_semana  Cerrar**\n",
       "Dia_semana    1.000000 -0.006646\n",
       "Cerrar**     -0.006646  1.000000"
      ]
     },
     "execution_count": 110,
     "metadata": {},
     "output_type": "execute_result"
    }
   ],
   "source": [
    "datasetmrs.corr()"
   ]
  },
  {
   "cell_type": "code",
   "execution_count": 111,
   "metadata": {
    "id": "Y2O5-nBybzvj"
   },
   "outputs": [],
   "source": [
    "#Creacción del modelo de regresion lineal\n",
    "modelo1 = linear_model.LinearRegression()\n",
    "#Entrenamiento del modelo\n",
    "modelo1.fit(X, y)\n",
    "#Predicción\n",
    "y_modelo1=modelo1.predict(X)"
   ]
  },
  {
   "cell_type": "markdown",
   "metadata": {
    "id": "XCJzfpuWbzvj"
   },
   "source": [
    "#### Variables significativas"
   ]
  },
  {
   "cell_type": "code",
   "execution_count": 112,
   "metadata": {
    "colab": {
     "base_uri": "https://localhost:8080/"
    },
    "id": "c8Y2CnhIbzvk",
    "outputId": "a7684162-9317-4c75-d1b0-61e8a493feba"
   },
   "outputs": [
    {
     "name": "stdout",
     "output_type": "stream",
     "text": [
      "Pendiente (valor b) es: \n",
      " [[-0.00099452]]\n",
      "\n",
      "Ordenada (valor a) es: \n",
      " [0.19065722]\n",
      "\n",
      "El error cuadrático medio es: 0.09\n",
      "\n",
      "Varianza es: 0.00\n"
     ]
    }
   ],
   "source": [
    "# Pendiente\n",
    "print('Pendiente (valor b) es: \\n', modelo1.coef_)\n",
    "print()\n",
    "# Valor donde corta el eje Y (en X=0) \n",
    "print('Ordenada (valor a) es: \\n', modelo1.intercept_)\n",
    "print()\n",
    "\n",
    "# Error Cuadrado Medio\n",
    "print('El error cuadrático medio es: %.2f' % mean_squared_error(y, y_modelo1))\n",
    "print()\n",
    "# Puntaje de Varianza. El mejor puntaje es un 1.0, Precisión del modelo\n",
    "print('Varianza es: %.2f' % r2_score(y, y_modelo1))"
   ]
  },
  {
   "cell_type": "markdown",
   "metadata": {
    "id": "BE04mz19bzvk"
   },
   "source": [
    "Ecuación de la recta y= a + bX, salen:\n",
    "\n",
    "- b (coeficiente, pendiente) = 0.24237151\n",
    "- a (término independiente) = -0.12453437\n",
    "\n",
    "Como se puede observar el modelo obtenido no es lo suficiente complejo para abordar el problema.\n"
   ]
  },
  {
   "cell_type": "code",
   "execution_count": 113,
   "metadata": {
    "colab": {
     "base_uri": "https://localhost:8080/",
     "height": 442
    },
    "id": "zLh1nuujbzvk",
    "outputId": "7857e747-0ae1-4d92-840e-00a0e7c7ca3f"
   },
   "outputs": [
    {
     "data": {
      "image/png": "[encoded data removed]",
      "text/plain": [
       "<Figure size 720x504 with 1 Axes>"
      ]
     },
     "metadata": {
      "needs_background": "light"
     },
     "output_type": "display_data"
    }
   ],
   "source": [
    "fig = plt.figure(figsize=(10,7))\n",
    "plt.scatter(datasetmrs['Dia_semana'], datasetmrs['Cerrar**'])\n",
    "plt.plot(X, y_modelo1, color='red')\n",
    "plt.xlabel('Días')\n",
    "plt.ylabel('Cerrar**')\n",
    "plt.grid()"
   ]
  },
  {
   "cell_type": "code",
   "execution_count": 114,
   "metadata": {
    "colab": {
     "base_uri": "https://localhost:8080/"
    },
    "id": "qsw0ZzKPbzvl",
    "outputId": "9ecc0bc4-cbab-46b8-e42a-4422289adbb3"
   },
   "outputs": [
    {
     "data": {
      "text/plain": [
       "array([[0.18767366]])"
      ]
     },
     "execution_count": 114,
     "metadata": {},
     "output_type": "execute_result"
    }
   ],
   "source": [
    "#Prediccion para los jueves\n",
    "predictedADA = modelo1.predict([[3]])\n",
    "predictedADA"
   ]
  },
  {
   "cell_type": "markdown",
   "metadata": {
    "id": "2RlE1nV9Dzkb"
   },
   "source": [
    "El problema es demasiado complejo para poder resolverse utilizando una regresion lineal simple,\n",
    " a continuancion se utilizarán técnicas mas complejas para las predicciones"
   ]
  },
  {
   "cell_type": "markdown",
   "metadata": {
    "id": "y77ekPyibzvm"
   },
   "source": [
    "# Regresión lineal multiple "
   ]
  },
  {
   "cell_type": "markdown",
   "metadata": {
    "id": "gcWZ4zidbzvm"
   },
   "source": [
    "## Tres variables de entrada y salida cierre del mercado"
   ]
  },
  {
   "cell_type": "markdown",
   "metadata": {
    "id": "Cs8f9kR2bzvm"
   },
   "source": [
    "En la regresión lineal multiple la ecuación de la recta es de la siguiente manera:\n",
    "\n",
    "                                    Y = b + m1 X1 + m2 X2 + … + m(n) X(n)\n",
    "                       \n",
    "Donde \"b\" es el término independiente y m(n) son los diferentes coeficientes según el número de variables empleadas en nuestra regresión."
   ]
  },
  {
   "cell_type": "code",
   "execution_count": 115,
   "metadata": {
    "colab": {
     "base_uri": "https://localhost:8080/",
     "height": 390
    },
    "id": "AMsMKpHEbzvn",
    "outputId": "622561fd-2d65-401b-eea8-5ba95c76eb07"
   },
   "outputs": [
    {
     "data": {
      "text/html": [
       "<div>\n",
       "<style scoped>\n",
       "    .dataframe tbody tr th:only-of-type {\n",
       "        vertical-align: middle;\n",
       "    }\n",
       "\n",
       "    .dataframe tbody tr th {\n",
       "        vertical-align: top;\n",
       "    }\n",
       "\n",
       "    .dataframe thead th {\n",
       "        text-align: right;\n",
       "    }\n",
       "</style>\n",
       "<table border=\"1\" class=\"dataframe\">\n",
       "  <thead>\n",
       "    <tr style=\"text-align: right;\">\n",
       "      <th></th>\n",
       "      <th>Dia</th>\n",
       "      <th>Mes</th>\n",
       "      <th>Año</th>\n",
       "      <th>Cerrar**</th>\n",
       "    </tr>\n",
       "    <tr>\n",
       "      <th>fecha</th>\n",
       "      <th></th>\n",
       "      <th></th>\n",
       "      <th></th>\n",
       "      <th></th>\n",
       "    </tr>\n",
       "  </thead>\n",
       "  <tbody>\n",
       "    <tr>\n",
       "      <th>2017-10-01</th>\n",
       "      <td>1</td>\n",
       "      <td>10</td>\n",
       "      <td>2017</td>\n",
       "      <td>0.02</td>\n",
       "    </tr>\n",
       "    <tr>\n",
       "      <th>2017-10-02</th>\n",
       "      <td>2</td>\n",
       "      <td>10</td>\n",
       "      <td>2017</td>\n",
       "      <td>0.02</td>\n",
       "    </tr>\n",
       "    <tr>\n",
       "      <th>2017-10-03</th>\n",
       "      <td>3</td>\n",
       "      <td>10</td>\n",
       "      <td>2017</td>\n",
       "      <td>0.02</td>\n",
       "    </tr>\n",
       "    <tr>\n",
       "      <th>2017-10-04</th>\n",
       "      <td>4</td>\n",
       "      <td>10</td>\n",
       "      <td>2017</td>\n",
       "      <td>0.02</td>\n",
       "    </tr>\n",
       "    <tr>\n",
       "      <th>2017-10-05</th>\n",
       "      <td>5</td>\n",
       "      <td>10</td>\n",
       "      <td>2017</td>\n",
       "      <td>0.02</td>\n",
       "    </tr>\n",
       "    <tr>\n",
       "      <th>2017-10-06</th>\n",
       "      <td>6</td>\n",
       "      <td>10</td>\n",
       "      <td>2017</td>\n",
       "      <td>0.02</td>\n",
       "    </tr>\n",
       "    <tr>\n",
       "      <th>2017-10-07</th>\n",
       "      <td>7</td>\n",
       "      <td>10</td>\n",
       "      <td>2017</td>\n",
       "      <td>0.02</td>\n",
       "    </tr>\n",
       "    <tr>\n",
       "      <th>2017-10-08</th>\n",
       "      <td>8</td>\n",
       "      <td>10</td>\n",
       "      <td>2017</td>\n",
       "      <td>0.02</td>\n",
       "    </tr>\n",
       "    <tr>\n",
       "      <th>2017-10-09</th>\n",
       "      <td>9</td>\n",
       "      <td>10</td>\n",
       "      <td>2017</td>\n",
       "      <td>0.02</td>\n",
       "    </tr>\n",
       "    <tr>\n",
       "      <th>2017-10-10</th>\n",
       "      <td>10</td>\n",
       "      <td>10</td>\n",
       "      <td>2017</td>\n",
       "      <td>0.02</td>\n",
       "    </tr>\n",
       "  </tbody>\n",
       "</table>\n",
       "</div>"
      ],
      "text/plain": [
       "            Dia  Mes   Año  Cerrar**\n",
       "fecha                               \n",
       "2017-10-01    1   10  2017      0.02\n",
       "2017-10-02    2   10  2017      0.02\n",
       "2017-10-03    3   10  2017      0.02\n",
       "2017-10-04    4   10  2017      0.02\n",
       "2017-10-05    5   10  2017      0.02\n",
       "2017-10-06    6   10  2017      0.02\n",
       "2017-10-07    7   10  2017      0.02\n",
       "2017-10-08    8   10  2017      0.02\n",
       "2017-10-09    9   10  2017      0.02\n",
       "2017-10-10   10   10  2017      0.02"
      ]
     },
     "execution_count": 115,
     "metadata": {},
     "output_type": "execute_result"
    }
   ],
   "source": [
    "#Dataset para mi estudio\n",
    "RLM = datos.iloc[:,[12,13,14,4]]\n",
    "RLM.head(10)"
   ]
  },
  {
   "cell_type": "code",
   "execution_count": 141,
   "metadata": {
    "colab": {
     "base_uri": "https://localhost:8080/"
    },
    "id": "SvnVAOFjbzvn",
    "outputId": "e6c50421-5a2e-4ac3-a49a-7880c08f7655"
   },
   "outputs": [
    {
     "data": {
      "text/plain": [
       "(1339, 4)"
      ]
     },
     "execution_count": 141,
     "metadata": {},
     "output_type": "execute_result"
    }
   ],
   "source": [
    "RLM.shape"
   ]
  },
  {
   "cell_type": "code",
   "execution_count": 142,
   "metadata": {
    "id": "a_I2IX35bzvn"
   },
   "outputs": [],
   "source": [
    "entrenamientoRLM = RLM[:round(len(RLM)*0.8)]\n",
    "validacionRLM = RLM[round(len(RLM)*0.8):]"
   ]
  },
  {
   "cell_type": "code",
   "execution_count": 143,
   "metadata": {
    "id": "5nYgbGgBbzvo"
   },
   "outputs": [],
   "source": [
    "x_trainRLM = entrenamientoRLM.drop('Cerrar**', axis=1)\n",
    "y_trainRLM = entrenamientoRLM['Cerrar**']\n",
    "x_validRLM = validacionRLM.drop('Cerrar**', axis=1)\n",
    "y_validRLM = validacionRLM['Cerrar**']"
   ]
  },
  {
   "cell_type": "code",
   "execution_count": 144,
   "metadata": {
    "colab": {
     "base_uri": "https://localhost:8080/"
    },
    "id": "hIDfseXubzvo",
    "outputId": "5ff89ed1-6e54-4d62-d397-ac617d7b4fcc"
   },
   "outputs": [
    {
     "name": "stdout",
     "output_type": "stream",
     "text": [
      "Coeficientes: [-0.00020447 -0.01616368 -0.06552914]\n",
      "Intersección :\n",
      "132.49282214508705\n",
      "Precisión del modelo:\n",
      "0.293103076155645\n"
     ]
    }
   ],
   "source": [
    "# Creamos el modelo de regresion lineal\n",
    "modelo2 = linear_model.LinearRegression()\n",
    " \n",
    "# Entrenamos el modelo\n",
    "modelo2.fit(x_trainRLM, y_trainRLM)\n",
    " \n",
    "# Hacemos la prediccion\n",
    "y_modelo2 = modelo2.predict(x_validRLM)\n",
    " \n",
    "# Imprimimos los coeficientes\n",
    "print('Coeficientes:', modelo2.coef_)\n",
    "\n",
    "print('Intersección :')\n",
    "print(modelo2.intercept_)\n",
    "\n",
    "# Precision del modelo\n",
    "print('Precisión del modelo:')\n",
    "print(modelo2.score(x_trainRLM, y_trainRLM))"
   ]
  },
  {
   "cell_type": "code",
   "execution_count": 145,
   "metadata": {
    "colab": {
     "base_uri": "https://localhost:8080/"
    },
    "id": "ZYBWedQfbzvo",
    "outputId": "24311d58-4129-41a7-edb0-48a8f84b4c08"
   },
   "outputs": [
    {
     "data": {
      "text/plain": [
       "0.7326501260779432"
      ]
     },
     "execution_count": 145,
     "metadata": {},
     "output_type": "execute_result"
    }
   ],
   "source": [
    "#RMSE\n",
    "predicionRML = modelo2.predict(x_validRLM)\n",
    "rmse=np.sqrt(np.mean(np.power((np.array(y_validRLM)-np.array(predicionRML)),2)))\n",
    "rmse"
   ]
  },
  {
   "cell_type": "code",
   "execution_count": 122,
   "metadata": {
    "colab": {
     "base_uri": "https://localhost:8080/",
     "height": 565
    },
    "id": "-qIIabSEbzvo",
    "outputId": "abf98239-0b12-4769-80f2-fd8ed024b599"
   },
   "outputs": [
    {
     "name": "stderr",
     "output_type": "stream",
     "text": [
      "C:\\Users\\mivar\\Anaconda2\\envs\\py36\\lib\\site-packages\\ipykernel_launcher.py:4: SettingWithCopyWarning:\n",
      "\n",
      "\n",
      "A value is trying to be set on a copy of a slice from a DataFrame.\n",
      "Try using .loc[row_indexer,col_indexer] = value instead\n",
      "\n",
      "See the caveats in the documentation: https://pandas.pydata.org/pandas-docs/stable/user_guide/indexing.html#returning-a-view-versus-a-copy\n",
      "\n",
      "C:\\Users\\mivar\\Anaconda2\\envs\\py36\\lib\\site-packages\\ipykernel_launcher.py:5: SettingWithCopyWarning:\n",
      "\n",
      "\n",
      "A value is trying to be set on a copy of a slice from a DataFrame.\n",
      "Try using .loc[row_indexer,col_indexer] = value instead\n",
      "\n",
      "See the caveats in the documentation: https://pandas.pydata.org/pandas-docs/stable/user_guide/indexing.html#returning-a-view-versus-a-copy\n",
      "\n"
     ]
    },
    {
     "data": {
      "image/png": "[encoded data removed]",
      "text/plain": [
       "<Figure size 1152x432 with 1 Axes>"
      ]
     },
     "metadata": {
      "needs_background": "light"
     },
     "output_type": "display_data"
    }
   ],
   "source": [
    "#Visualización del resultado\n",
    "plt.figure(figsize=(16,6))\n",
    "plt.title('RLM DIA,MES Y AÑO')\n",
    "validacionRLM['predicionRML'] = 0\n",
    "validacionRLM['predicionRML'] = predicionRML\n",
    "plt.plot(entrenamientoRLM['Cerrar**'],color='blue')\n",
    "plt.plot(validacionRLM['Cerrar**'],color='red')\n",
    "plt.plot(validacionRLM['predicionRML'],color='green')\n",
    "plt.xlabel('Fecha')\n",
    "plt.ylabel('Cierre')\n",
    "\n",
    "plt.grid()"
   ]
  },
  {
   "cell_type": "code",
   "execution_count": 123,
   "metadata": {
    "id": "VyjAkOJZbzvp"
   },
   "outputs": [],
   "source": [
    "#Prediccion basada solo en la futura fecha del dia 16 del 4 de 2021"
   ]
  },
  {
   "cell_type": "code",
   "execution_count": 146,
   "metadata": {
    "colab": {
     "base_uri": "https://localhost:8080/"
    },
    "id": "-bnlhIAvbzvp",
    "outputId": "8d7e9ae1-36ae-45b2-e8f4-647cf20e0331"
   },
   "outputs": [
    {
     "name": "stdout",
     "output_type": "stream",
     "text": [
      "El porcentaje respecto al día anterior será [-0.03875263]\n"
     ]
    }
   ],
   "source": [
    "predictedADA2 = modelo2.predict([[1,6,2021]])\n",
    "print('El porcentaje respecto al día anterior será',predictedADA2)"
   ]
  },
  {
   "cell_type": "markdown",
   "metadata": {
    "id": "zVj7piW9bzvq"
   },
   "source": [
    "## Cuatro variables de entrada y salida cierre del mercado"
   ]
  },
  {
   "cell_type": "code",
   "execution_count": 147,
   "metadata": {
    "colab": {
     "base_uri": "https://localhost:8080/",
     "height": 390
    },
    "id": "gDruNK_ubzvr",
    "outputId": "984f3ff0-d274-4192-9ddf-1a1147462790"
   },
   "outputs": [
    {
     "data": {
      "text/html": [
       "<div>\n",
       "<style scoped>\n",
       "    .dataframe tbody tr th:only-of-type {\n",
       "        vertical-align: middle;\n",
       "    }\n",
       "\n",
       "    .dataframe tbody tr th {\n",
       "        vertical-align: top;\n",
       "    }\n",
       "\n",
       "    .dataframe thead th {\n",
       "        text-align: right;\n",
       "    }\n",
       "</style>\n",
       "<table border=\"1\" class=\"dataframe\">\n",
       "  <thead>\n",
       "    <tr style=\"text-align: right;\">\n",
       "      <th></th>\n",
       "      <th>Abrir*</th>\n",
       "      <th>Dia</th>\n",
       "      <th>Mes</th>\n",
       "      <th>Año</th>\n",
       "      <th>Cerrar**</th>\n",
       "    </tr>\n",
       "    <tr>\n",
       "      <th>fecha</th>\n",
       "      <th></th>\n",
       "      <th></th>\n",
       "      <th></th>\n",
       "      <th></th>\n",
       "      <th></th>\n",
       "    </tr>\n",
       "  </thead>\n",
       "  <tbody>\n",
       "    <tr>\n",
       "      <th>2017-10-01</th>\n",
       "      <td>0.02</td>\n",
       "      <td>1</td>\n",
       "      <td>10</td>\n",
       "      <td>2017</td>\n",
       "      <td>0.02</td>\n",
       "    </tr>\n",
       "    <tr>\n",
       "      <th>2017-10-02</th>\n",
       "      <td>0.02</td>\n",
       "      <td>2</td>\n",
       "      <td>10</td>\n",
       "      <td>2017</td>\n",
       "      <td>0.02</td>\n",
       "    </tr>\n",
       "    <tr>\n",
       "      <th>2017-10-03</th>\n",
       "      <td>0.02</td>\n",
       "      <td>3</td>\n",
       "      <td>10</td>\n",
       "      <td>2017</td>\n",
       "      <td>0.02</td>\n",
       "    </tr>\n",
       "    <tr>\n",
       "      <th>2017-10-04</th>\n",
       "      <td>0.02</td>\n",
       "      <td>4</td>\n",
       "      <td>10</td>\n",
       "      <td>2017</td>\n",
       "      <td>0.02</td>\n",
       "    </tr>\n",
       "    <tr>\n",
       "      <th>2017-10-05</th>\n",
       "      <td>0.02</td>\n",
       "      <td>5</td>\n",
       "      <td>10</td>\n",
       "      <td>2017</td>\n",
       "      <td>0.02</td>\n",
       "    </tr>\n",
       "    <tr>\n",
       "      <th>2017-10-06</th>\n",
       "      <td>0.02</td>\n",
       "      <td>6</td>\n",
       "      <td>10</td>\n",
       "      <td>2017</td>\n",
       "      <td>0.02</td>\n",
       "    </tr>\n",
       "    <tr>\n",
       "      <th>2017-10-07</th>\n",
       "      <td>0.02</td>\n",
       "      <td>7</td>\n",
       "      <td>10</td>\n",
       "      <td>2017</td>\n",
       "      <td>0.02</td>\n",
       "    </tr>\n",
       "    <tr>\n",
       "      <th>2017-10-08</th>\n",
       "      <td>0.02</td>\n",
       "      <td>8</td>\n",
       "      <td>10</td>\n",
       "      <td>2017</td>\n",
       "      <td>0.02</td>\n",
       "    </tr>\n",
       "    <tr>\n",
       "      <th>2017-10-09</th>\n",
       "      <td>0.02</td>\n",
       "      <td>9</td>\n",
       "      <td>10</td>\n",
       "      <td>2017</td>\n",
       "      <td>0.02</td>\n",
       "    </tr>\n",
       "    <tr>\n",
       "      <th>2017-10-10</th>\n",
       "      <td>0.02</td>\n",
       "      <td>10</td>\n",
       "      <td>10</td>\n",
       "      <td>2017</td>\n",
       "      <td>0.02</td>\n",
       "    </tr>\n",
       "  </tbody>\n",
       "</table>\n",
       "</div>"
      ],
      "text/plain": [
       "            Abrir*  Dia  Mes   Año  Cerrar**\n",
       "fecha                                       \n",
       "2017-10-01    0.02    1   10  2017      0.02\n",
       "2017-10-02    0.02    2   10  2017      0.02\n",
       "2017-10-03    0.02    3   10  2017      0.02\n",
       "2017-10-04    0.02    4   10  2017      0.02\n",
       "2017-10-05    0.02    5   10  2017      0.02\n",
       "2017-10-06    0.02    6   10  2017      0.02\n",
       "2017-10-07    0.02    7   10  2017      0.02\n",
       "2017-10-08    0.02    8   10  2017      0.02\n",
       "2017-10-09    0.02    9   10  2017      0.02\n",
       "2017-10-10    0.02   10   10  2017      0.02"
      ]
     },
     "execution_count": 147,
     "metadata": {},
     "output_type": "execute_result"
    }
   ],
   "source": [
    "#Dataset para mi estudio\n",
    "RLM2 = datos.iloc[:,[1,12,13,14,4]]\n",
    "RLM2.head(10)"
   ]
  },
  {
   "cell_type": "code",
   "execution_count": 148,
   "metadata": {
    "colab": {
     "base_uri": "https://localhost:8080/"
    },
    "id": "fgUtqPgubzvr",
    "outputId": "16cf676c-17bb-4a63-f518-a945a0afe15e"
   },
   "outputs": [
    {
     "data": {
      "text/plain": [
       "(1339, 5)"
      ]
     },
     "execution_count": 148,
     "metadata": {},
     "output_type": "execute_result"
    }
   ],
   "source": [
    "RLM2.shape"
   ]
  },
  {
   "cell_type": "code",
   "execution_count": 149,
   "metadata": {
    "id": "d5qblkmEbzvr"
   },
   "outputs": [],
   "source": [
    "entrenamientoRLM2 = RLM2[:round(len(RLM2)*0.8)]\n",
    "validacionRLM2 = RLM2[round(len(RLM2)*0.8):]"
   ]
  },
  {
   "cell_type": "code",
   "execution_count": 150,
   "metadata": {
    "id": "l1RWofX-bzvr"
   },
   "outputs": [],
   "source": [
    "x_trainRLM2 = entrenamientoRLM2.drop('Cerrar**', axis=1)\n",
    "y_trainRLM2 = entrenamientoRLM2['Cerrar**']\n",
    "x_validRLM2 = validacionRLM2.drop('Cerrar**', axis=1)\n",
    "y_validRLM2 = validacionRLM2['Cerrar**']"
   ]
  },
  {
   "cell_type": "code",
   "execution_count": 151,
   "metadata": {
    "colab": {
     "base_uri": "https://localhost:8080/"
    },
    "id": "KYOL4ekobzvs",
    "outputId": "f4029a16-4a69-4832-e399-d9ba89dc4f19"
   },
   "outputs": [
    {
     "name": "stdout",
     "output_type": "stream",
     "text": [
      "Coeficientes: [ 9.86744264e-01  3.50961139e-05  1.46460582e-04 -8.46823261e-04]\n",
      "Intersección :\n",
      "1.7093756751625249\n",
      "Precisión del modelo:\n",
      "0.979134546436275\n"
     ]
    }
   ],
   "source": [
    "# Creamos el modelo de regresion lineal\n",
    "modelo3 = linear_model.LinearRegression()\n",
    " \n",
    "# Entrenamos el modelo\n",
    "modelo3.fit(x_trainRLM2, y_trainRLM2)\n",
    " \n",
    "# Hacemos la prediccion\n",
    "y_modelo3 = modelo3.predict(x_validRLM2)\n",
    " \n",
    "# Imprimimos los coeficientes\n",
    "print('Coeficientes:', modelo3.coef_)\n",
    "\n",
    "print('Intersección :')\n",
    "print(modelo3.intercept_)\n",
    "\n",
    "# Precision del modelo\n",
    "print('Precisión del modelo:')\n",
    "print(modelo3.score(x_trainRLM2, y_trainRLM2))"
   ]
  },
  {
   "cell_type": "code",
   "execution_count": 152,
   "metadata": {
    "colab": {
     "base_uri": "https://localhost:8080/"
    },
    "id": "eQf4M04ebzvs",
    "outputId": "5c0d3879-fe0d-4c70-eab6-b7fa129f56d1"
   },
   "outputs": [
    {
     "data": {
      "text/plain": [
       "0.06532784581944721"
      ]
     },
     "execution_count": 152,
     "metadata": {},
     "output_type": "execute_result"
    }
   ],
   "source": [
    "#RMSE\n",
    "predicionRML2 = modelo3.predict(x_validRLM2)\n",
    "rmse2=np.sqrt(np.mean(np.power((np.array(y_validRLM2)-np.array(predicionRML2)),2)))\n",
    "rmse2"
   ]
  },
  {
   "cell_type": "code",
   "execution_count": 153,
   "metadata": {
    "colab": {
     "base_uri": "https://localhost:8080/",
     "height": 565
    },
    "id": "8Z6-2DBLbzvs",
    "outputId": "17b5ebf6-ea58-4f04-888f-f93b6c11748d"
   },
   "outputs": [
    {
     "name": "stderr",
     "output_type": "stream",
     "text": [
      "C:\\Users\\mivar\\Anaconda2\\envs\\py36\\lib\\site-packages\\ipykernel_launcher.py:4: SettingWithCopyWarning:\n",
      "\n",
      "\n",
      "A value is trying to be set on a copy of a slice from a DataFrame.\n",
      "Try using .loc[row_indexer,col_indexer] = value instead\n",
      "\n",
      "See the caveats in the documentation: https://pandas.pydata.org/pandas-docs/stable/user_guide/indexing.html#returning-a-view-versus-a-copy\n",
      "\n",
      "C:\\Users\\mivar\\Anaconda2\\envs\\py36\\lib\\site-packages\\ipykernel_launcher.py:5: SettingWithCopyWarning:\n",
      "\n",
      "\n",
      "A value is trying to be set on a copy of a slice from a DataFrame.\n",
      "Try using .loc[row_indexer,col_indexer] = value instead\n",
      "\n",
      "See the caveats in the documentation: https://pandas.pydata.org/pandas-docs/stable/user_guide/indexing.html#returning-a-view-versus-a-copy\n",
      "\n"
     ]
    },
    {
     "data": {
      "image/png": "[encoded data removed]",
      "text/plain": [
       "<Figure size 1152x432 with 1 Axes>"
      ]
     },
     "metadata": {
      "needs_background": "light"
     },
     "output_type": "display_data"
    }
   ],
   "source": [
    "#Visualización del resultado\n",
    "plt.figure(figsize=(16,6))\n",
    "plt.title('RLM ABRIR, DIA, MES Y AÑO')\n",
    "validacionRLM2['predicionRML2'] = 0\n",
    "validacionRLM2['predicionRML2'] = predicionRML2\n",
    "plt.plot(entrenamientoRLM2['Cerrar**'],color='blue')\n",
    "plt.plot(validacionRLM2['Cerrar**'],color='red')\n",
    "plt.plot(validacionRLM2['predicionRML2'],color='green')\n",
    "plt.xlabel('Fecha')\n",
    "plt.ylabel('Cierre')\n",
    "\n",
    "plt.grid()"
   ]
  },
  {
   "cell_type": "markdown",
   "metadata": {
    "id": "iM30xBg3bzvt"
   },
   "source": [
    "# Prediccion usando el modelo de regresión lineal multiple"
   ]
  },
  {
   "cell_type": "code",
   "execution_count": 157,
   "metadata": {
    "colab": {
     "base_uri": "https://localhost:8080/"
    },
    "id": "B0eSYeqobzvt",
    "outputId": "ab897e52-d80a-4fcb-8103-51bf24dbe2ef"
   },
   "outputs": [
    {
     "name": "stdout",
     "output_type": "stream",
     "text": [
      "La prediccion es:  [1.40003658]\n"
     ]
    }
   ],
   "source": [
    "predictedADA3 = modelo3.predict([[1.42,1,6,2021]])\n",
    "print('La prediccion es: ',predictedADA3)"
   ]
  },
  {
   "cell_type": "markdown",
   "metadata": {
    "id": "VeEE31F9bzvt"
   },
   "source": [
    "# SUPPORT VECTOR REGRESSION"
   ]
  },
  {
   "cell_type": "code",
   "execution_count": 162,
   "metadata": {
    "colab": {
     "base_uri": "https://localhost:8080/",
     "height": 390
    },
    "id": "oybyS6Uqbzvu",
    "outputId": "7d01fe71-e707-489f-88eb-1db5d0cb3629"
   },
   "outputs": [
    {
     "data": {
      "text/html": [
       "<div>\n",
       "<style scoped>\n",
       "    .dataframe tbody tr th:only-of-type {\n",
       "        vertical-align: middle;\n",
       "    }\n",
       "\n",
       "    .dataframe tbody tr th {\n",
       "        vertical-align: top;\n",
       "    }\n",
       "\n",
       "    .dataframe thead th {\n",
       "        text-align: right;\n",
       "    }\n",
       "</style>\n",
       "<table border=\"1\" class=\"dataframe\">\n",
       "  <thead>\n",
       "    <tr style=\"text-align: right;\">\n",
       "      <th></th>\n",
       "      <th>Abrir*</th>\n",
       "      <th>Dia</th>\n",
       "      <th>Mes</th>\n",
       "      <th>Año</th>\n",
       "      <th>Cerrar**</th>\n",
       "    </tr>\n",
       "    <tr>\n",
       "      <th>fecha</th>\n",
       "      <th></th>\n",
       "      <th></th>\n",
       "      <th></th>\n",
       "      <th></th>\n",
       "      <th></th>\n",
       "    </tr>\n",
       "  </thead>\n",
       "  <tbody>\n",
       "    <tr>\n",
       "      <th>2017-10-01</th>\n",
       "      <td>0.02</td>\n",
       "      <td>1</td>\n",
       "      <td>10</td>\n",
       "      <td>2017</td>\n",
       "      <td>0.02</td>\n",
       "    </tr>\n",
       "    <tr>\n",
       "      <th>2017-10-02</th>\n",
       "      <td>0.02</td>\n",
       "      <td>2</td>\n",
       "      <td>10</td>\n",
       "      <td>2017</td>\n",
       "      <td>0.02</td>\n",
       "    </tr>\n",
       "    <tr>\n",
       "      <th>2017-10-03</th>\n",
       "      <td>0.02</td>\n",
       "      <td>3</td>\n",
       "      <td>10</td>\n",
       "      <td>2017</td>\n",
       "      <td>0.02</td>\n",
       "    </tr>\n",
       "    <tr>\n",
       "      <th>2017-10-04</th>\n",
       "      <td>0.02</td>\n",
       "      <td>4</td>\n",
       "      <td>10</td>\n",
       "      <td>2017</td>\n",
       "      <td>0.02</td>\n",
       "    </tr>\n",
       "    <tr>\n",
       "      <th>2017-10-05</th>\n",
       "      <td>0.02</td>\n",
       "      <td>5</td>\n",
       "      <td>10</td>\n",
       "      <td>2017</td>\n",
       "      <td>0.02</td>\n",
       "    </tr>\n",
       "    <tr>\n",
       "      <th>2017-10-06</th>\n",
       "      <td>0.02</td>\n",
       "      <td>6</td>\n",
       "      <td>10</td>\n",
       "      <td>2017</td>\n",
       "      <td>0.02</td>\n",
       "    </tr>\n",
       "    <tr>\n",
       "      <th>2017-10-07</th>\n",
       "      <td>0.02</td>\n",
       "      <td>7</td>\n",
       "      <td>10</td>\n",
       "      <td>2017</td>\n",
       "      <td>0.02</td>\n",
       "    </tr>\n",
       "    <tr>\n",
       "      <th>2017-10-08</th>\n",
       "      <td>0.02</td>\n",
       "      <td>8</td>\n",
       "      <td>10</td>\n",
       "      <td>2017</td>\n",
       "      <td>0.02</td>\n",
       "    </tr>\n",
       "    <tr>\n",
       "      <th>2017-10-09</th>\n",
       "      <td>0.02</td>\n",
       "      <td>9</td>\n",
       "      <td>10</td>\n",
       "      <td>2017</td>\n",
       "      <td>0.02</td>\n",
       "    </tr>\n",
       "    <tr>\n",
       "      <th>2017-10-10</th>\n",
       "      <td>0.02</td>\n",
       "      <td>10</td>\n",
       "      <td>10</td>\n",
       "      <td>2017</td>\n",
       "      <td>0.02</td>\n",
       "    </tr>\n",
       "  </tbody>\n",
       "</table>\n",
       "</div>"
      ],
      "text/plain": [
       "            Abrir*  Dia  Mes   Año  Cerrar**\n",
       "fecha                                       \n",
       "2017-10-01    0.02    1   10  2017      0.02\n",
       "2017-10-02    0.02    2   10  2017      0.02\n",
       "2017-10-03    0.02    3   10  2017      0.02\n",
       "2017-10-04    0.02    4   10  2017      0.02\n",
       "2017-10-05    0.02    5   10  2017      0.02\n",
       "2017-10-06    0.02    6   10  2017      0.02\n",
       "2017-10-07    0.02    7   10  2017      0.02\n",
       "2017-10-08    0.02    8   10  2017      0.02\n",
       "2017-10-09    0.02    9   10  2017      0.02\n",
       "2017-10-10    0.02   10   10  2017      0.02"
      ]
     },
     "execution_count": 162,
     "metadata": {},
     "output_type": "execute_result"
    }
   ],
   "source": [
    "#ENTRADAS\n",
    "X4 = datos.iloc[:,[1,12,13,14,4]]\n",
    "X4.head(10)"
   ]
  },
  {
   "cell_type": "code",
   "execution_count": 163,
   "metadata": {
    "id": "8Nl2SED8bzvu"
   },
   "outputs": [],
   "source": [
    "entrenamientoSVR = X4[:round(len(X4)*0.8)]\n",
    "validacionSVR = X4[round(len(X4)*0.8):]"
   ]
  },
  {
   "cell_type": "code",
   "execution_count": 164,
   "metadata": {
    "id": "i6VslTtlbzvu"
   },
   "outputs": [],
   "source": [
    "x_trainSVR = entrenamientoSVR.drop('Cerrar**', axis=1)\n",
    "y_trainSVR = entrenamientoSVR['Cerrar**']\n",
    "x_validSVR = validacionSVR.drop('Cerrar**', axis=1)\n",
    "y_validSVR = validacionSVR['Cerrar**']"
   ]
  },
  {
   "cell_type": "markdown",
   "metadata": {},
   "source": [
    "# MAL"
   ]
  },
  {
   "cell_type": "code",
   "execution_count": 170,
   "metadata": {
    "colab": {
     "base_uri": "https://localhost:8080/"
    },
    "id": "mrpok4Zgbzvu",
    "outputId": "03f8338b-d341-4c03-d928-aa5bbdd65e1b"
   },
   "outputs": [
    {
     "name": "stdout",
     "output_type": "stream",
     "text": [
      "Coeficientes: [ 9.86744264e-01  3.50961139e-05  1.46460582e-04 -8.46823261e-04]\n",
      "Intersección :\n",
      "1.7093756751625249\n",
      "Precisión del modelo:\n",
      "0.979134546436275\n"
     ]
    }
   ],
   "source": [
    "# Creamos el modelo de regresion lineal\n",
    "clasificar2 = svm.SVC()\n",
    " \n",
    "# Entrenamos el modelo\n",
    "modelo3.fit(x_trainSVR, y_trainSVR)\n",
    " \n",
    "# Hacemos la prediccion\n",
    "y_modelo3 = modelo3.predict(x_validSVR)\n",
    " \n",
    "# Imprimimos los coeficientes\n",
    "print('Coeficientes:', modelo3.coef_)\n",
    "\n",
    "print('Intersección :')\n",
    "print(modelo3.intercept_)\n",
    "\n",
    "# Precision del modelo\n",
    "print('Precisión del modelo:')\n",
    "print(modelo3.score(x_trainSVR, y_trainSVR))"
   ]
  },
  {
   "cell_type": "code",
   "execution_count": 171,
   "metadata": {
    "colab": {
     "base_uri": "https://localhost:8080/"
    },
    "id": "3hgGG7ldbzvu",
    "outputId": "d93e923c-ae75-4a24-a9e4-8b8a3040e582"
   },
   "outputs": [
    {
     "ename": "NameError",
     "evalue": "name 'modelo4' is not defined",
     "output_type": "error",
     "traceback": [
      "\u001b[1;31m---------------------------------------------------------------------------\u001b[0m",
      "\u001b[1;31mNameError\u001b[0m                                 Traceback (most recent call last)",
      "\u001b[1;32m<ipython-input-171-ff689e55a810>\u001b[0m in \u001b[0;36m<module>\u001b[1;34m\u001b[0m\n\u001b[0;32m      1\u001b[0m \u001b[1;31m#SVM\u001b[0m\u001b[1;33m\u001b[0m\u001b[1;33m\u001b[0m\u001b[1;33m\u001b[0m\u001b[0m\n\u001b[1;32m----> 2\u001b[1;33m \u001b[0mpredicionSVM\u001b[0m \u001b[1;33m=\u001b[0m \u001b[0mmodelo4\u001b[0m\u001b[1;33m.\u001b[0m\u001b[0mpredict\u001b[0m\u001b[1;33m(\u001b[0m\u001b[0mx_validSVR\u001b[0m\u001b[1;33m)\u001b[0m\u001b[1;33m\u001b[0m\u001b[1;33m\u001b[0m\u001b[0m\n\u001b[0m\u001b[0;32m      3\u001b[0m \u001b[0mrmse3\u001b[0m\u001b[1;33m=\u001b[0m\u001b[0mnp\u001b[0m\u001b[1;33m.\u001b[0m\u001b[0msqrt\u001b[0m\u001b[1;33m(\u001b[0m\u001b[0mnp\u001b[0m\u001b[1;33m.\u001b[0m\u001b[0mmean\u001b[0m\u001b[1;33m(\u001b[0m\u001b[0mnp\u001b[0m\u001b[1;33m.\u001b[0m\u001b[0mpower\u001b[0m\u001b[1;33m(\u001b[0m\u001b[1;33m(\u001b[0m\u001b[0mnp\u001b[0m\u001b[1;33m.\u001b[0m\u001b[0marray\u001b[0m\u001b[1;33m(\u001b[0m\u001b[0my_validSVR\u001b[0m\u001b[1;33m)\u001b[0m\u001b[1;33m-\u001b[0m\u001b[0mnp\u001b[0m\u001b[1;33m.\u001b[0m\u001b[0marray\u001b[0m\u001b[1;33m(\u001b[0m\u001b[0mpredicionSVM\u001b[0m\u001b[1;33m)\u001b[0m\u001b[1;33m)\u001b[0m\u001b[1;33m,\u001b[0m\u001b[1;36m2\u001b[0m\u001b[1;33m)\u001b[0m\u001b[1;33m)\u001b[0m\u001b[1;33m)\u001b[0m\u001b[1;33m\u001b[0m\u001b[1;33m\u001b[0m\u001b[0m\n\u001b[0;32m      4\u001b[0m \u001b[0mrmse3\u001b[0m\u001b[1;33m\u001b[0m\u001b[1;33m\u001b[0m\u001b[0m\n",
      "\u001b[1;31mNameError\u001b[0m: name 'modelo4' is not defined"
     ]
    }
   ],
   "source": [
    "#SVM\n",
    "predicionSVM = modelo4.predict(x_validSVR)\n",
    "rmse3=np.sqrt(np.mean(np.power((np.array(y_validSVR)-np.array(predicionSVM)),2)))\n",
    "rmse3"
   ]
  },
  {
   "cell_type": "code",
   "execution_count": 172,
   "metadata": {
    "colab": {
     "base_uri": "https://localhost:8080/",
     "height": 565
    },
    "id": "tMVHvCg9bzvv",
    "outputId": "eba30fb7-673a-4fae-ac09-32eeb1079437"
   },
   "outputs": [
    {
     "name": "stderr",
     "output_type": "stream",
     "text": [
      "C:\\Users\\mivar\\Anaconda2\\envs\\py36\\lib\\site-packages\\ipykernel_launcher.py:4: SettingWithCopyWarning:\n",
      "\n",
      "\n",
      "A value is trying to be set on a copy of a slice from a DataFrame.\n",
      "Try using .loc[row_indexer,col_indexer] = value instead\n",
      "\n",
      "See the caveats in the documentation: https://pandas.pydata.org/pandas-docs/stable/user_guide/indexing.html#returning-a-view-versus-a-copy\n",
      "\n",
      "C:\\Users\\mivar\\Anaconda2\\envs\\py36\\lib\\site-packages\\ipykernel_launcher.py:5: SettingWithCopyWarning:\n",
      "\n",
      "\n",
      "A value is trying to be set on a copy of a slice from a DataFrame.\n",
      "Try using .loc[row_indexer,col_indexer] = value instead\n",
      "\n",
      "See the caveats in the documentation: https://pandas.pydata.org/pandas-docs/stable/user_guide/indexing.html#returning-a-view-versus-a-copy\n",
      "\n"
     ]
    },
    {
     "data": {
      "image/png": "[encoded data removed]",
      "text/plain": [
       "<Figure size 1152x432 with 1 Axes>"
      ]
     },
     "metadata": {
      "needs_background": "light"
     },
     "output_type": "display_data"
    }
   ],
   "source": [
    "#Visualización del resultado\n",
    "plt.figure(figsize=(16,6))\n",
    "plt.title('SVM ABRIR, DIA, MES Y AÑO')\n",
    "validacionSVR['predicionSVM'] = 0\n",
    "validacionSVR['predicionSVM'] = predicionSVM\n",
    "plt.plot(entrenamientoSVR['Cerrar**'],color='blue')\n",
    "plt.plot(validacionSVR['Cerrar**'],color='red')\n",
    "plt.plot(validacionSVR['predicionSVM'],color='green')\n",
    "plt.xlabel('Fecha')\n",
    "plt.ylabel('Cerrar**')\n",
    "\n",
    "plt.grid()"
   ]
  },
  {
   "cell_type": "code",
   "execution_count": 173,
   "metadata": {
    "colab": {
     "base_uri": "https://localhost:8080/"
    },
    "id": "n24owQ7Rbzvv",
    "outputId": "6c008df9-e355-4980-b17a-8e8808403c16"
   },
   "outputs": [
    {
     "name": "stdout",
     "output_type": "stream",
     "text": [
      "El porcentaje respecto al día anterior será [1.27175983]\n"
     ]
    }
   ],
   "source": [
    "predictedADA4 = modelo3.predict([[1.29,1,6,2021]])\n",
    "print('El porcentaje respecto al día anterior será',predictedADA4)"
   ]
  },
  {
   "cell_type": "code",
   "execution_count": 140,
   "metadata": {
    "id": "BjfvxKftbzvv"
   },
   "outputs": [
    {
     "name": "stdout",
     "output_type": "stream",
     "text": [
      "Object `LSTM` not found.\n",
      "Object `XGRB` not found.\n",
      "Object `GA` not found.\n"
     ]
    }
   ],
   "source": [
    "LSTM?\n",
    "XGRB?\n",
    "GA?"
   ]
  }
 ],
 "metadata": {
  "colab": {
   "collapsed_sections": [],
   "name": "PFG_ADA -fecha.ipynb",
   "provenance": []
  },
  "kernelspec": {
   "display_name": "Python 3",
   "language": "python",
   "name": "python3"
  },
  "language_info": {
   "codemirror_mode": {
    "name": "ipython",
    "version": 3
   },
   "file_extension": ".py",
   "mimetype": "text/x-python",
   "name": "python",
   "nbconvert_exporter": "python",
   "pygments_lexer": "ipython3",
   "version": "3.6.10"
  }
 },
 "nbformat": 4,
 "nbformat_minor": 1
}
