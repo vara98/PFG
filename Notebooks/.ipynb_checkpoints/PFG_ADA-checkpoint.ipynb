{
 "cells": [
  {
   "cell_type": "markdown",
   "metadata": {},
   "source": [
    "#### PFG CARGA DE DATOS DE CARDANO"
   ]
  },
  {
   "cell_type": "code",
   "execution_count": 50,
   "metadata": {},
   "outputs": [
    {
     "name": "stdout",
     "output_type": "stream",
     "text": [
      "Once deleted, variables cannot be recovered. Proceed (y/[n])? y\n"
     ]
    }
   ],
   "source": [
    "%reset\n",
    "\n",
    "import numpy as np\n",
    "import pandas as pd\n",
    "import calendar\n",
    "import seaborn as sns\n",
    "from sklearn import linear_model\n",
    "from sklearn.model_selection import train_test_split\n",
    "import plotly.express as px\n",
    "from matplotlib import pyplot as plt"
   ]
  },
  {
   "cell_type": "code",
   "execution_count": 51,
   "metadata": {
    "scrolled": true
   },
   "outputs": [
    {
     "data": {
      "text/html": [
       "<div>\n",
       "<style scoped>\n",
       "    .dataframe tbody tr th:only-of-type {\n",
       "        vertical-align: middle;\n",
       "    }\n",
       "\n",
       "    .dataframe tbody tr th {\n",
       "        vertical-align: top;\n",
       "    }\n",
       "\n",
       "    .dataframe thead th {\n",
       "        text-align: right;\n",
       "    }\n",
       "</style>\n",
       "<table border=\"1\" class=\"dataframe\">\n",
       "  <thead>\n",
       "    <tr style=\"text-align: right;\">\n",
       "      <th></th>\n",
       "      <th>Fecha</th>\n",
       "      <th>Abrir*</th>\n",
       "      <th>Elevar</th>\n",
       "      <th>Disminuir</th>\n",
       "      <th>Cerrar**</th>\n",
       "      <th>Volumen</th>\n",
       "      <th>Cap. de Mercado</th>\n",
       "      <th>Porcentaje Respecto al dia anterior en el abrir del mercado</th>\n",
       "      <th>Porcentaje de Volumen respecto al dia anterior</th>\n",
       "      <th>Porcentaje Cap. De Mercado respecto al día anterior</th>\n",
       "      <th>Ganancia</th>\n",
       "    </tr>\n",
       "  </thead>\n",
       "  <tbody>\n",
       "    <tr>\n",
       "      <th>0</th>\n",
       "      <td>Apr 16, 2021</td>\n",
       "      <td>1.48000</td>\n",
       "      <td>1.52000</td>\n",
       "      <td>1.34000</td>\n",
       "      <td>1.42000</td>\n",
       "      <td>5692183858</td>\n",
       "      <td>45269118282</td>\n",
       "      <td>2.068966</td>\n",
       "      <td>6.647961</td>\n",
       "      <td>-4.362822</td>\n",
       "      <td>NO</td>\n",
       "    </tr>\n",
       "    <tr>\n",
       "      <th>1</th>\n",
       "      <td>Apr 15, 2021</td>\n",
       "      <td>1.45000</td>\n",
       "      <td>1.49000</td>\n",
       "      <td>1.42000</td>\n",
       "      <td>1.48000</td>\n",
       "      <td>5337358369</td>\n",
       "      <td>47334226350</td>\n",
       "      <td>2.836879</td>\n",
       "      <td>-44.379965</td>\n",
       "      <td>1.797949</td>\n",
       "      <td>NO</td>\n",
       "    </tr>\n",
       "    <tr>\n",
       "      <th>2</th>\n",
       "      <td>Apr 14, 2021</td>\n",
       "      <td>1.41000</td>\n",
       "      <td>1.56000</td>\n",
       "      <td>1.35000</td>\n",
       "      <td>1.46000</td>\n",
       "      <td>9596107541</td>\n",
       "      <td>46498212198</td>\n",
       "      <td>7.633588</td>\n",
       "      <td>62.741244</td>\n",
       "      <td>3.090693</td>\n",
       "      <td>SI</td>\n",
       "    </tr>\n",
       "    <tr>\n",
       "      <th>3</th>\n",
       "      <td>Apr 13, 2021</td>\n",
       "      <td>1.31000</td>\n",
       "      <td>1.44000</td>\n",
       "      <td>1.28000</td>\n",
       "      <td>1.41000</td>\n",
       "      <td>5896543066</td>\n",
       "      <td>45104180472</td>\n",
       "      <td>3.149606</td>\n",
       "      <td>19.891123</td>\n",
       "      <td>7.268233</td>\n",
       "      <td>NO</td>\n",
       "    </tr>\n",
       "    <tr>\n",
       "      <th>4</th>\n",
       "      <td>Apr 12, 2021</td>\n",
       "      <td>1.27000</td>\n",
       "      <td>1.35000</td>\n",
       "      <td>1.27000</td>\n",
       "      <td>1.32000</td>\n",
       "      <td>4918248258</td>\n",
       "      <td>42048031658</td>\n",
       "      <td>4.098361</td>\n",
       "      <td>35.236103</td>\n",
       "      <td>3.899182</td>\n",
       "      <td>SI</td>\n",
       "    </tr>\n",
       "    <tr>\n",
       "      <th>...</th>\n",
       "      <td>...</td>\n",
       "      <td>...</td>\n",
       "      <td>...</td>\n",
       "      <td>...</td>\n",
       "      <td>...</td>\n",
       "      <td>...</td>\n",
       "      <td>...</td>\n",
       "      <td>...</td>\n",
       "      <td>...</td>\n",
       "      <td>...</td>\n",
       "      <td>...</td>\n",
       "    </tr>\n",
       "    <tr>\n",
       "      <th>1288</th>\n",
       "      <td>Oct 06, 2017</td>\n",
       "      <td>0.02136</td>\n",
       "      <td>0.02154</td>\n",
       "      <td>0.01836</td>\n",
       "      <td>0.01854</td>\n",
       "      <td>7780710</td>\n",
       "      <td>480664553</td>\n",
       "      <td>-2.687927</td>\n",
       "      <td>39.877681</td>\n",
       "      <td>-13.726284</td>\n",
       "      <td>NO</td>\n",
       "    </tr>\n",
       "    <tr>\n",
       "      <th>1289</th>\n",
       "      <td>Oct 05, 2017</td>\n",
       "      <td>0.02195</td>\n",
       "      <td>0.02215</td>\n",
       "      <td>0.02086</td>\n",
       "      <td>0.02149</td>\n",
       "      <td>5562510</td>\n",
       "      <td>557139041</td>\n",
       "      <td>5.225312</td>\n",
       "      <td>-38.194677</td>\n",
       "      <td>-2.019014</td>\n",
       "      <td>SI</td>\n",
       "    </tr>\n",
       "    <tr>\n",
       "      <th>1290</th>\n",
       "      <td>Oct 04, 2017</td>\n",
       "      <td>0.02086</td>\n",
       "      <td>0.02281</td>\n",
       "      <td>0.02086</td>\n",
       "      <td>0.02193</td>\n",
       "      <td>9000050</td>\n",
       "      <td>568619548</td>\n",
       "      <td>-19.021739</td>\n",
       "      <td>-47.051677</td>\n",
       "      <td>5.359871</td>\n",
       "      <td>NO</td>\n",
       "    </tr>\n",
       "    <tr>\n",
       "      <th>1291</th>\n",
       "      <td>Oct 03, 2017</td>\n",
       "      <td>0.02576</td>\n",
       "      <td>0.02743</td>\n",
       "      <td>0.02069</td>\n",
       "      <td>0.02082</td>\n",
       "      <td>16997800</td>\n",
       "      <td>539692715</td>\n",
       "      <td>4.672897</td>\n",
       "      <td>-70.511075</td>\n",
       "      <td>-14.184524</td>\n",
       "      <td>SI</td>\n",
       "    </tr>\n",
       "    <tr>\n",
       "      <th>1292</th>\n",
       "      <td>Oct 02, 2017</td>\n",
       "      <td>0.02461</td>\n",
       "      <td>0.03009</td>\n",
       "      <td>0.01997</td>\n",
       "      <td>0.02593</td>\n",
       "      <td>57641300</td>\n",
       "      <td>628899052</td>\n",
       "      <td>0.000000</td>\n",
       "      <td>0.000000</td>\n",
       "      <td>0.000000</td>\n",
       "      <td>SI</td>\n",
       "    </tr>\n",
       "  </tbody>\n",
       "</table>\n",
       "<p>1293 rows × 11 columns</p>\n",
       "</div>"
      ],
      "text/plain": [
       "             Fecha   Abrir*   Elevar  Disminuir  Cerrar**     Volumen  \\\n",
       "0     Apr 16, 2021  1.48000  1.52000    1.34000   1.42000  5692183858   \n",
       "1     Apr 15, 2021  1.45000  1.49000    1.42000   1.48000  5337358369   \n",
       "2     Apr 14, 2021  1.41000  1.56000    1.35000   1.46000  9596107541   \n",
       "3     Apr 13, 2021  1.31000  1.44000    1.28000   1.41000  5896543066   \n",
       "4     Apr 12, 2021  1.27000  1.35000    1.27000   1.32000  4918248258   \n",
       "...            ...      ...      ...        ...       ...         ...   \n",
       "1288  Oct 06, 2017  0.02136  0.02154    0.01836   0.01854     7780710   \n",
       "1289  Oct 05, 2017  0.02195  0.02215    0.02086   0.02149     5562510   \n",
       "1290  Oct 04, 2017  0.02086  0.02281    0.02086   0.02193     9000050   \n",
       "1291  Oct 03, 2017  0.02576  0.02743    0.02069   0.02082    16997800   \n",
       "1292  Oct 02, 2017  0.02461  0.03009    0.01997   0.02593    57641300   \n",
       "\n",
       "      Cap. de Mercado  \\\n",
       "0         45269118282   \n",
       "1         47334226350   \n",
       "2         46498212198   \n",
       "3         45104180472   \n",
       "4         42048031658   \n",
       "...               ...   \n",
       "1288        480664553   \n",
       "1289        557139041   \n",
       "1290        568619548   \n",
       "1291        539692715   \n",
       "1292        628899052   \n",
       "\n",
       "      Porcentaje Respecto al dia anterior en el abrir del mercado  \\\n",
       "0                                              2.068966             \n",
       "1                                              2.836879             \n",
       "2                                              7.633588             \n",
       "3                                              3.149606             \n",
       "4                                              4.098361             \n",
       "...                                                 ...             \n",
       "1288                                          -2.687927             \n",
       "1289                                           5.225312             \n",
       "1290                                         -19.021739             \n",
       "1291                                           4.672897             \n",
       "1292                                           0.000000             \n",
       "\n",
       "      Porcentaje de Volumen respecto al dia anterior  \\\n",
       "0                                           6.647961   \n",
       "1                                         -44.379965   \n",
       "2                                          62.741244   \n",
       "3                                          19.891123   \n",
       "4                                          35.236103   \n",
       "...                                              ...   \n",
       "1288                                       39.877681   \n",
       "1289                                      -38.194677   \n",
       "1290                                      -47.051677   \n",
       "1291                                      -70.511075   \n",
       "1292                                        0.000000   \n",
       "\n",
       "      Porcentaje Cap. De Mercado respecto al día anterior Ganancia  \n",
       "0                                             -4.362822         NO  \n",
       "1                                              1.797949         NO  \n",
       "2                                              3.090693         SI  \n",
       "3                                              7.268233         NO  \n",
       "4                                              3.899182         SI  \n",
       "...                                                 ...        ...  \n",
       "1288                                         -13.726284         NO  \n",
       "1289                                          -2.019014         SI  \n",
       "1290                                           5.359871         NO  \n",
       "1291                                         -14.184524         SI  \n",
       "1292                                           0.000000         SI  \n",
       "\n",
       "[1293 rows x 11 columns]"
      ]
     },
     "execution_count": 51,
     "metadata": {},
     "output_type": "execute_result"
    }
   ],
   "source": [
    "df = pd.read_excel('Datos_finanzas/CARDANO.xlsx')\n",
    "df"
   ]
  },
  {
   "cell_type": "code",
   "execution_count": 52,
   "metadata": {
    "scrolled": true
   },
   "outputs": [
    {
     "data": {
      "text/html": [
       "<div>\n",
       "<style scoped>\n",
       "    .dataframe tbody tr th:only-of-type {\n",
       "        vertical-align: middle;\n",
       "    }\n",
       "\n",
       "    .dataframe tbody tr th {\n",
       "        vertical-align: top;\n",
       "    }\n",
       "\n",
       "    .dataframe thead th {\n",
       "        text-align: right;\n",
       "    }\n",
       "</style>\n",
       "<table border=\"1\" class=\"dataframe\">\n",
       "  <thead>\n",
       "    <tr style=\"text-align: right;\">\n",
       "      <th></th>\n",
       "      <th>Abrir*</th>\n",
       "      <th>Elevar</th>\n",
       "      <th>Disminuir</th>\n",
       "      <th>Cerrar**</th>\n",
       "      <th>Volumen</th>\n",
       "      <th>Cap. de Mercado</th>\n",
       "      <th>Porcentaje Respecto al dia anterior en el abrir del mercado</th>\n",
       "      <th>Porcentaje de Volumen respecto al dia anterior</th>\n",
       "      <th>Porcentaje Cap. De Mercado respecto al día anterior</th>\n",
       "    </tr>\n",
       "  </thead>\n",
       "  <tbody>\n",
       "    <tr>\n",
       "      <th>count</th>\n",
       "      <td>1293.000000</td>\n",
       "      <td>1293.000000</td>\n",
       "      <td>1293.000000</td>\n",
       "      <td>1293.000000</td>\n",
       "      <td>1.293000e+03</td>\n",
       "      <td>1.293000e+03</td>\n",
       "      <td>1293.000000</td>\n",
       "      <td>1293.000000</td>\n",
       "      <td>1293.000000</td>\n",
       "    </tr>\n",
       "    <tr>\n",
       "      <th>mean</th>\n",
       "      <td>0.177343</td>\n",
       "      <td>0.187385</td>\n",
       "      <td>0.167568</td>\n",
       "      <td>0.178418</td>\n",
       "      <td>6.484547e+08</td>\n",
       "      <td>5.078285e+09</td>\n",
       "      <td>0.601643</td>\n",
       "      <td>8.965252</td>\n",
       "      <td>0.624016</td>\n",
       "    </tr>\n",
       "    <tr>\n",
       "      <th>std</th>\n",
       "      <td>0.265501</td>\n",
       "      <td>0.282589</td>\n",
       "      <td>0.250418</td>\n",
       "      <td>0.267672</td>\n",
       "      <td>1.745965e+09</td>\n",
       "      <td>8.284038e+09</td>\n",
       "      <td>8.198347</td>\n",
       "      <td>51.567926</td>\n",
       "      <td>8.365558</td>\n",
       "    </tr>\n",
       "    <tr>\n",
       "      <th>min</th>\n",
       "      <td>0.018410</td>\n",
       "      <td>0.021050</td>\n",
       "      <td>0.017620</td>\n",
       "      <td>0.018540</td>\n",
       "      <td>1.739460e+06</td>\n",
       "      <td>4.806646e+08</td>\n",
       "      <td>-39.565985</td>\n",
       "      <td>-74.491297</td>\n",
       "      <td>-39.568054</td>\n",
       "    </tr>\n",
       "    <tr>\n",
       "      <th>25%</th>\n",
       "      <td>0.044930</td>\n",
       "      <td>0.046160</td>\n",
       "      <td>0.043420</td>\n",
       "      <td>0.044960</td>\n",
       "      <td>4.762450e+07</td>\n",
       "      <td>1.165576e+09</td>\n",
       "      <td>-2.947679</td>\n",
       "      <td>-20.949806</td>\n",
       "      <td>-2.895306</td>\n",
       "    </tr>\n",
       "    <tr>\n",
       "      <th>50%</th>\n",
       "      <td>0.083310</td>\n",
       "      <td>0.085380</td>\n",
       "      <td>0.080200</td>\n",
       "      <td>0.083260</td>\n",
       "      <td>1.065957e+08</td>\n",
       "      <td>2.163490e+09</td>\n",
       "      <td>0.134469</td>\n",
       "      <td>-2.387954</td>\n",
       "      <td>0.121130</td>\n",
       "    </tr>\n",
       "    <tr>\n",
       "      <th>75%</th>\n",
       "      <td>0.155100</td>\n",
       "      <td>0.161900</td>\n",
       "      <td>0.148600</td>\n",
       "      <td>0.155400</td>\n",
       "      <td>3.219640e+08</td>\n",
       "      <td>4.242628e+09</td>\n",
       "      <td>3.238168</td>\n",
       "      <td>24.036675</td>\n",
       "      <td>3.272519</td>\n",
       "    </tr>\n",
       "    <tr>\n",
       "      <th>max</th>\n",
       "      <td>1.480000</td>\n",
       "      <td>1.560000</td>\n",
       "      <td>1.420000</td>\n",
       "      <td>1.480000</td>\n",
       "      <td>1.914198e+10</td>\n",
       "      <td>4.733423e+10</td>\n",
       "      <td>133.458424</td>\n",
       "      <td>505.426492</td>\n",
       "      <td>136.680964</td>\n",
       "    </tr>\n",
       "  </tbody>\n",
       "</table>\n",
       "</div>"
      ],
      "text/plain": [
       "            Abrir*       Elevar    Disminuir     Cerrar**       Volumen  \\\n",
       "count  1293.000000  1293.000000  1293.000000  1293.000000  1.293000e+03   \n",
       "mean      0.177343     0.187385     0.167568     0.178418  6.484547e+08   \n",
       "std       0.265501     0.282589     0.250418     0.267672  1.745965e+09   \n",
       "min       0.018410     0.021050     0.017620     0.018540  1.739460e+06   \n",
       "25%       0.044930     0.046160     0.043420     0.044960  4.762450e+07   \n",
       "50%       0.083310     0.085380     0.080200     0.083260  1.065957e+08   \n",
       "75%       0.155100     0.161900     0.148600     0.155400  3.219640e+08   \n",
       "max       1.480000     1.560000     1.420000     1.480000  1.914198e+10   \n",
       "\n",
       "       Cap. de Mercado  \\\n",
       "count     1.293000e+03   \n",
       "mean      5.078285e+09   \n",
       "std       8.284038e+09   \n",
       "min       4.806646e+08   \n",
       "25%       1.165576e+09   \n",
       "50%       2.163490e+09   \n",
       "75%       4.242628e+09   \n",
       "max       4.733423e+10   \n",
       "\n",
       "       Porcentaje Respecto al dia anterior en el abrir del mercado  \\\n",
       "count                                        1293.000000             \n",
       "mean                                            0.601643             \n",
       "std                                             8.198347             \n",
       "min                                           -39.565985             \n",
       "25%                                            -2.947679             \n",
       "50%                                             0.134469             \n",
       "75%                                             3.238168             \n",
       "max                                           133.458424             \n",
       "\n",
       "       Porcentaje de Volumen respecto al dia anterior  \\\n",
       "count                                     1293.000000   \n",
       "mean                                         8.965252   \n",
       "std                                         51.567926   \n",
       "min                                        -74.491297   \n",
       "25%                                        -20.949806   \n",
       "50%                                         -2.387954   \n",
       "75%                                         24.036675   \n",
       "max                                        505.426492   \n",
       "\n",
       "       Porcentaje Cap. De Mercado respecto al día anterior  \n",
       "count                                        1293.000000    \n",
       "mean                                            0.624016    \n",
       "std                                             8.365558    \n",
       "min                                           -39.568054    \n",
       "25%                                            -2.895306    \n",
       "50%                                             0.121130    \n",
       "75%                                             3.272519    \n",
       "max                                           136.680964    "
      ]
     },
     "execution_count": 52,
     "metadata": {},
     "output_type": "execute_result"
    }
   ],
   "source": [
    "#Resumen principal de los datos\n",
    "df.describe()"
   ]
  },
  {
   "cell_type": "code",
   "execution_count": 53,
   "metadata": {},
   "outputs": [
    {
     "data": {
      "application/vnd.plotly.v1+json": {
       "config": {
        "plotlyServerURL": "https://plot.ly"
       },
       "data": [
        {
         "alignmentgroup": "True",
         "hovertemplate": "Atributos=%{x}<br>Numero de NaN=%{y}<extra></extra>",
         "legendgroup": "",
         "marker": {
          "color": "#636efa"
         },
         "name": "",
         "offsetgroup": "",
         "orientation": "v",
         "showlegend": false,
         "textposition": "auto",
         "type": "bar",
         "x": [
          "Fecha",
          "Abrir*",
          "Elevar",
          "Disminuir",
          "Cerrar**",
          "Volumen",
          "Cap. de Mercado",
          "Porcentaje Respecto al dia anterior en el abrir del mercado",
          "Porcentaje de Volumen respecto al dia anterior",
          "Porcentaje Cap. De Mercado respecto al día anterior",
          "Ganancia"
         ],
         "xaxis": "x",
         "y": [
          0,
          0,
          0,
          0,
          0,
          0,
          0,
          0,
          0,
          0,
          0
         ],
         "yaxis": "y"
        }
       ],
       "layout": {
        "barmode": "relative",
        "legend": {
         "tracegroupgap": 0
        },
        "template": {
         "data": {
          "bar": [
           {
            "error_x": {
             "color": "#2a3f5f"
            },
            "error_y": {
             "color": "#2a3f5f"
            },
            "marker": {
             "line": {
              "color": "#E5ECF6",
              "width": 0.5
             }
            },
            "type": "bar"
           }
          ],
          "barpolar": [
           {
            "marker": {
             "line": {
              "color": "#E5ECF6",
              "width": 0.5
             }
            },
            "type": "barpolar"
           }
          ],
          "carpet": [
           {
            "aaxis": {
             "endlinecolor": "#2a3f5f",
             "gridcolor": "white",
             "linecolor": "white",
             "minorgridcolor": "white",
             "startlinecolor": "#2a3f5f"
            },
            "baxis": {
             "endlinecolor": "#2a3f5f",
             "gridcolor": "white",
             "linecolor": "white",
             "minorgridcolor": "white",
             "startlinecolor": "#2a3f5f"
            },
            "type": "carpet"
           }
          ],
          "choropleth": [
           {
            "colorbar": {
             "outlinewidth": 0,
             "ticks": ""
            },
            "type": "choropleth"
           }
          ],
          "contour": [
           {
            "colorbar": {
             "outlinewidth": 0,
             "ticks": ""
            },
            "colorscale": [
             [
              0,
              "#0d0887"
             ],
             [
              0.1111111111111111,
              "#46039f"
             ],
             [
              0.2222222222222222,
              "#7201a8"
             ],
             [
              0.3333333333333333,
              "#9c179e"
             ],
             [
              0.4444444444444444,
              "#bd3786"
             ],
             [
              0.5555555555555556,
              "#d8576b"
             ],
             [
              0.6666666666666666,
              "#ed7953"
             ],
             [
              0.7777777777777778,
              "#fb9f3a"
             ],
             [
              0.8888888888888888,
              "#fdca26"
             ],
             [
              1,
              "#f0f921"
             ]
            ],
            "type": "contour"
           }
          ],
          "contourcarpet": [
           {
            "colorbar": {
             "outlinewidth": 0,
             "ticks": ""
            },
            "type": "contourcarpet"
           }
          ],
          "heatmap": [
           {
            "colorbar": {
             "outlinewidth": 0,
             "ticks": ""
            },
            "colorscale": [
             [
              0,
              "#0d0887"
             ],
             [
              0.1111111111111111,
              "#46039f"
             ],
             [
              0.2222222222222222,
              "#7201a8"
             ],
             [
              0.3333333333333333,
              "#9c179e"
             ],
             [
              0.4444444444444444,
              "#bd3786"
             ],
             [
              0.5555555555555556,
              "#d8576b"
             ],
             [
              0.6666666666666666,
              "#ed7953"
             ],
             [
              0.7777777777777778,
              "#fb9f3a"
             ],
             [
              0.8888888888888888,
              "#fdca26"
             ],
             [
              1,
              "#f0f921"
             ]
            ],
            "type": "heatmap"
           }
          ],
          "heatmapgl": [
           {
            "colorbar": {
             "outlinewidth": 0,
             "ticks": ""
            },
            "colorscale": [
             [
              0,
              "#0d0887"
             ],
             [
              0.1111111111111111,
              "#46039f"
             ],
             [
              0.2222222222222222,
              "#7201a8"
             ],
             [
              0.3333333333333333,
              "#9c179e"
             ],
             [
              0.4444444444444444,
              "#bd3786"
             ],
             [
              0.5555555555555556,
              "#d8576b"
             ],
             [
              0.6666666666666666,
              "#ed7953"
             ],
             [
              0.7777777777777778,
              "#fb9f3a"
             ],
             [
              0.8888888888888888,
              "#fdca26"
             ],
             [
              1,
              "#f0f921"
             ]
            ],
            "type": "heatmapgl"
           }
          ],
          "histogram": [
           {
            "marker": {
             "colorbar": {
              "outlinewidth": 0,
              "ticks": ""
             }
            },
            "type": "histogram"
           }
          ],
          "histogram2d": [
           {
            "colorbar": {
             "outlinewidth": 0,
             "ticks": ""
            },
            "colorscale": [
             [
              0,
              "#0d0887"
             ],
             [
              0.1111111111111111,
              "#46039f"
             ],
             [
              0.2222222222222222,
              "#7201a8"
             ],
             [
              0.3333333333333333,
              "#9c179e"
             ],
             [
              0.4444444444444444,
              "#bd3786"
             ],
             [
              0.5555555555555556,
              "#d8576b"
             ],
             [
              0.6666666666666666,
              "#ed7953"
             ],
             [
              0.7777777777777778,
              "#fb9f3a"
             ],
             [
              0.8888888888888888,
              "#fdca26"
             ],
             [
              1,
              "#f0f921"
             ]
            ],
            "type": "histogram2d"
           }
          ],
          "histogram2dcontour": [
           {
            "colorbar": {
             "outlinewidth": 0,
             "ticks": ""
            },
            "colorscale": [
             [
              0,
              "#0d0887"
             ],
             [
              0.1111111111111111,
              "#46039f"
             ],
             [
              0.2222222222222222,
              "#7201a8"
             ],
             [
              0.3333333333333333,
              "#9c179e"
             ],
             [
              0.4444444444444444,
              "#bd3786"
             ],
             [
              0.5555555555555556,
              "#d8576b"
             ],
             [
              0.6666666666666666,
              "#ed7953"
             ],
             [
              0.7777777777777778,
              "#fb9f3a"
             ],
             [
              0.8888888888888888,
              "#fdca26"
             ],
             [
              1,
              "#f0f921"
             ]
            ],
            "type": "histogram2dcontour"
           }
          ],
          "mesh3d": [
           {
            "colorbar": {
             "outlinewidth": 0,
             "ticks": ""
            },
            "type": "mesh3d"
           }
          ],
          "parcoords": [
           {
            "line": {
             "colorbar": {
              "outlinewidth": 0,
              "ticks": ""
             }
            },
            "type": "parcoords"
           }
          ],
          "pie": [
           {
            "automargin": true,
            "type": "pie"
           }
          ],
          "scatter": [
           {
            "marker": {
             "colorbar": {
              "outlinewidth": 0,
              "ticks": ""
             }
            },
            "type": "scatter"
           }
          ],
          "scatter3d": [
           {
            "line": {
             "colorbar": {
              "outlinewidth": 0,
              "ticks": ""
             }
            },
            "marker": {
             "colorbar": {
              "outlinewidth": 0,
              "ticks": ""
             }
            },
            "type": "scatter3d"
           }
          ],
          "scattercarpet": [
           {
            "marker": {
             "colorbar": {
              "outlinewidth": 0,
              "ticks": ""
             }
            },
            "type": "scattercarpet"
           }
          ],
          "scattergeo": [
           {
            "marker": {
             "colorbar": {
              "outlinewidth": 0,
              "ticks": ""
             }
            },
            "type": "scattergeo"
           }
          ],
          "scattergl": [
           {
            "marker": {
             "colorbar": {
              "outlinewidth": 0,
              "ticks": ""
             }
            },
            "type": "scattergl"
           }
          ],
          "scattermapbox": [
           {
            "marker": {
             "colorbar": {
              "outlinewidth": 0,
              "ticks": ""
             }
            },
            "type": "scattermapbox"
           }
          ],
          "scatterpolar": [
           {
            "marker": {
             "colorbar": {
              "outlinewidth": 0,
              "ticks": ""
             }
            },
            "type": "scatterpolar"
           }
          ],
          "scatterpolargl": [
           {
            "marker": {
             "colorbar": {
              "outlinewidth": 0,
              "ticks": ""
             }
            },
            "type": "scatterpolargl"
           }
          ],
          "scatterternary": [
           {
            "marker": {
             "colorbar": {
              "outlinewidth": 0,
              "ticks": ""
             }
            },
            "type": "scatterternary"
           }
          ],
          "surface": [
           {
            "colorbar": {
             "outlinewidth": 0,
             "ticks": ""
            },
            "colorscale": [
             [
              0,
              "#0d0887"
             ],
             [
              0.1111111111111111,
              "#46039f"
             ],
             [
              0.2222222222222222,
              "#7201a8"
             ],
             [
              0.3333333333333333,
              "#9c179e"
             ],
             [
              0.4444444444444444,
              "#bd3786"
             ],
             [
              0.5555555555555556,
              "#d8576b"
             ],
             [
              0.6666666666666666,
              "#ed7953"
             ],
             [
              0.7777777777777778,
              "#fb9f3a"
             ],
             [
              0.8888888888888888,
              "#fdca26"
             ],
             [
              1,
              "#f0f921"
             ]
            ],
            "type": "surface"
           }
          ],
          "table": [
           {
            "cells": {
             "fill": {
              "color": "#EBF0F8"
             },
             "line": {
              "color": "white"
             }
            },
            "header": {
             "fill": {
              "color": "#C8D4E3"
             },
             "line": {
              "color": "white"
             }
            },
            "type": "table"
           }
          ]
         },
         "layout": {
          "annotationdefaults": {
           "arrowcolor": "#2a3f5f",
           "arrowhead": 0,
           "arrowwidth": 1
          },
          "autotypenumbers": "strict",
          "coloraxis": {
           "colorbar": {
            "outlinewidth": 0,
            "ticks": ""
           }
          },
          "colorscale": {
           "diverging": [
            [
             0,
             "#8e0152"
            ],
            [
             0.1,
             "#c51b7d"
            ],
            [
             0.2,
             "#de77ae"
            ],
            [
             0.3,
             "#f1b6da"
            ],
            [
             0.4,
             "#fde0ef"
            ],
            [
             0.5,
             "#f7f7f7"
            ],
            [
             0.6,
             "#e6f5d0"
            ],
            [
             0.7,
             "#b8e186"
            ],
            [
             0.8,
             "#7fbc41"
            ],
            [
             0.9,
             "#4d9221"
            ],
            [
             1,
             "#276419"
            ]
           ],
           "sequential": [
            [
             0,
             "#0d0887"
            ],
            [
             0.1111111111111111,
             "#46039f"
            ],
            [
             0.2222222222222222,
             "#7201a8"
            ],
            [
             0.3333333333333333,
             "#9c179e"
            ],
            [
             0.4444444444444444,
             "#bd3786"
            ],
            [
             0.5555555555555556,
             "#d8576b"
            ],
            [
             0.6666666666666666,
             "#ed7953"
            ],
            [
             0.7777777777777778,
             "#fb9f3a"
            ],
            [
             0.8888888888888888,
             "#fdca26"
            ],
            [
             1,
             "#f0f921"
            ]
           ],
           "sequentialminus": [
            [
             0,
             "#0d0887"
            ],
            [
             0.1111111111111111,
             "#46039f"
            ],
            [
             0.2222222222222222,
             "#7201a8"
            ],
            [
             0.3333333333333333,
             "#9c179e"
            ],
            [
             0.4444444444444444,
             "#bd3786"
            ],
            [
             0.5555555555555556,
             "#d8576b"
            ],
            [
             0.6666666666666666,
             "#ed7953"
            ],
            [
             0.7777777777777778,
             "#fb9f3a"
            ],
            [
             0.8888888888888888,
             "#fdca26"
            ],
            [
             1,
             "#f0f921"
            ]
           ]
          },
          "colorway": [
           "#636efa",
           "#EF553B",
           "#00cc96",
           "#ab63fa",
           "#FFA15A",
           "#19d3f3",
           "#FF6692",
           "#B6E880",
           "#FF97FF",
           "#FECB52"
          ],
          "font": {
           "color": "#2a3f5f"
          },
          "geo": {
           "bgcolor": "white",
           "lakecolor": "white",
           "landcolor": "#E5ECF6",
           "showlakes": true,
           "showland": true,
           "subunitcolor": "white"
          },
          "hoverlabel": {
           "align": "left"
          },
          "hovermode": "closest",
          "mapbox": {
           "style": "light"
          },
          "paper_bgcolor": "white",
          "plot_bgcolor": "#E5ECF6",
          "polar": {
           "angularaxis": {
            "gridcolor": "white",
            "linecolor": "white",
            "ticks": ""
           },
           "bgcolor": "#E5ECF6",
           "radialaxis": {
            "gridcolor": "white",
            "linecolor": "white",
            "ticks": ""
           }
          },
          "scene": {
           "xaxis": {
            "backgroundcolor": "#E5ECF6",
            "gridcolor": "white",
            "gridwidth": 2,
            "linecolor": "white",
            "showbackground": true,
            "ticks": "",
            "zerolinecolor": "white"
           },
           "yaxis": {
            "backgroundcolor": "#E5ECF6",
            "gridcolor": "white",
            "gridwidth": 2,
            "linecolor": "white",
            "showbackground": true,
            "ticks": "",
            "zerolinecolor": "white"
           },
           "zaxis": {
            "backgroundcolor": "#E5ECF6",
            "gridcolor": "white",
            "gridwidth": 2,
            "linecolor": "white",
            "showbackground": true,
            "ticks": "",
            "zerolinecolor": "white"
           }
          },
          "shapedefaults": {
           "line": {
            "color": "#2a3f5f"
           }
          },
          "ternary": {
           "aaxis": {
            "gridcolor": "white",
            "linecolor": "white",
            "ticks": ""
           },
           "baxis": {
            "gridcolor": "white",
            "linecolor": "white",
            "ticks": ""
           },
           "bgcolor": "#E5ECF6",
           "caxis": {
            "gridcolor": "white",
            "linecolor": "white",
            "ticks": ""
           }
          },
          "title": {
           "x": 0.05
          },
          "xaxis": {
           "automargin": true,
           "gridcolor": "white",
           "linecolor": "white",
           "ticks": "",
           "title": {
            "standoff": 15
           },
           "zerolinecolor": "white",
           "zerolinewidth": 2
          },
          "yaxis": {
           "automargin": true,
           "gridcolor": "white",
           "linecolor": "white",
           "ticks": "",
           "title": {
            "standoff": 15
           },
           "zerolinecolor": "white",
           "zerolinewidth": 2
          }
         }
        },
        "title": {
         "text": "Integridad de los datos"
        },
        "xaxis": {
         "anchor": "y",
         "domain": [
          0,
          1
         ],
         "title": {
          "text": "Atributos"
         }
        },
        "yaxis": {
         "anchor": "x",
         "domain": [
          0,
          1
         ],
         "title": {
          "text": "Numero de NaN"
         }
        }
       }
      },
      "text/html": [
       "<div>                            <div id=\"d18b121c-83a2-442f-852d-a830246465a9\" class=\"plotly-graph-div\" style=\"height:525px; width:100%;\"></div>            <script type=\"text/javascript\">                require([\"plotly\"], function(Plotly) {                    window.PLOTLYENV=window.PLOTLYENV || {};                                    if (document.getElementById(\"d18b121c-83a2-442f-852d-a830246465a9\")) {                    Plotly.newPlot(                        \"d18b121c-83a2-442f-852d-a830246465a9\",                        [{\"alignmentgroup\": \"True\", \"hovertemplate\": \"Atributos=%{x}<br>Numero de NaN=%{y}<extra></extra>\", \"legendgroup\": \"\", \"marker\": {\"color\": \"#636efa\"}, \"name\": \"\", \"offsetgroup\": \"\", \"orientation\": \"v\", \"showlegend\": false, \"textposition\": \"auto\", \"type\": \"bar\", \"x\": [\"Fecha\", \"Abrir*\", \"Elevar\", \"Disminuir\", \"Cerrar**\", \"Volumen\", \"Cap. de Mercado\", \"Porcentaje Respecto al dia anterior en el abrir del mercado\", \"Porcentaje de Volumen respecto al dia anterior\", \"Porcentaje Cap. De Mercado respecto al d\\u00eda anterior\", \"Ganancia\"], \"xaxis\": \"x\", \"y\": [0, 0, 0, 0, 0, 0, 0, 0, 0, 0, 0], \"yaxis\": \"y\"}],                        {\"barmode\": \"relative\", \"legend\": {\"tracegroupgap\": 0}, \"template\": {\"data\": {\"bar\": [{\"error_x\": {\"color\": \"#2a3f5f\"}, \"error_y\": {\"color\": \"#2a3f5f\"}, \"marker\": {\"line\": {\"color\": \"#E5ECF6\", \"width\": 0.5}}, \"type\": \"bar\"}], \"barpolar\": [{\"marker\": {\"line\": {\"color\": \"#E5ECF6\", \"width\": 0.5}}, \"type\": \"barpolar\"}], \"carpet\": [{\"aaxis\": {\"endlinecolor\": \"#2a3f5f\", \"gridcolor\": \"white\", \"linecolor\": \"white\", \"minorgridcolor\": \"white\", \"startlinecolor\": \"#2a3f5f\"}, \"baxis\": {\"endlinecolor\": \"#2a3f5f\", \"gridcolor\": \"white\", \"linecolor\": \"white\", \"minorgridcolor\": \"white\", \"startlinecolor\": \"#2a3f5f\"}, \"type\": \"carpet\"}], \"choropleth\": [{\"colorbar\": {\"outlinewidth\": 0, \"ticks\": \"\"}, \"type\": \"choropleth\"}], \"contour\": [{\"colorbar\": {\"outlinewidth\": 0, \"ticks\": \"\"}, \"colorscale\": [[0.0, \"#0d0887\"], [0.1111111111111111, \"#46039f\"], [0.2222222222222222, \"#7201a8\"], [0.3333333333333333, \"#9c179e\"], [0.4444444444444444, \"#bd3786\"], [0.5555555555555556, \"#d8576b\"], [0.6666666666666666, \"#ed7953\"], [0.7777777777777778, \"#fb9f3a\"], [0.8888888888888888, \"#fdca26\"], [1.0, \"#f0f921\"]], \"type\": \"contour\"}], \"contourcarpet\": [{\"colorbar\": {\"outlinewidth\": 0, \"ticks\": \"\"}, \"type\": \"contourcarpet\"}], \"heatmap\": [{\"colorbar\": {\"outlinewidth\": 0, \"ticks\": \"\"}, \"colorscale\": [[0.0, \"#0d0887\"], [0.1111111111111111, \"#46039f\"], [0.2222222222222222, \"#7201a8\"], [0.3333333333333333, \"#9c179e\"], [0.4444444444444444, \"#bd3786\"], [0.5555555555555556, \"#d8576b\"], [0.6666666666666666, \"#ed7953\"], [0.7777777777777778, \"#fb9f3a\"], [0.8888888888888888, \"#fdca26\"], [1.0, \"#f0f921\"]], \"type\": \"heatmap\"}], \"heatmapgl\": [{\"colorbar\": {\"outlinewidth\": 0, \"ticks\": \"\"}, \"colorscale\": [[0.0, \"#0d0887\"], [0.1111111111111111, \"#46039f\"], [0.2222222222222222, \"#7201a8\"], [0.3333333333333333, \"#9c179e\"], [0.4444444444444444, \"#bd3786\"], [0.5555555555555556, \"#d8576b\"], [0.6666666666666666, \"#ed7953\"], [0.7777777777777778, \"#fb9f3a\"], [0.8888888888888888, \"#fdca26\"], [1.0, \"#f0f921\"]], \"type\": \"heatmapgl\"}], \"histogram\": [{\"marker\": {\"colorbar\": {\"outlinewidth\": 0, \"ticks\": \"\"}}, \"type\": \"histogram\"}], \"histogram2d\": [{\"colorbar\": {\"outlinewidth\": 0, \"ticks\": \"\"}, \"colorscale\": [[0.0, \"#0d0887\"], [0.1111111111111111, \"#46039f\"], [0.2222222222222222, \"#7201a8\"], [0.3333333333333333, \"#9c179e\"], [0.4444444444444444, \"#bd3786\"], [0.5555555555555556, \"#d8576b\"], [0.6666666666666666, \"#ed7953\"], [0.7777777777777778, \"#fb9f3a\"], [0.8888888888888888, \"#fdca26\"], [1.0, \"#f0f921\"]], \"type\": \"histogram2d\"}], \"histogram2dcontour\": [{\"colorbar\": {\"outlinewidth\": 0, \"ticks\": \"\"}, \"colorscale\": [[0.0, \"#0d0887\"], [0.1111111111111111, \"#46039f\"], [0.2222222222222222, \"#7201a8\"], [0.3333333333333333, \"#9c179e\"], [0.4444444444444444, \"#bd3786\"], [0.5555555555555556, \"#d8576b\"], [0.6666666666666666, \"#ed7953\"], [0.7777777777777778, \"#fb9f3a\"], [0.8888888888888888, \"#fdca26\"], [1.0, \"#f0f921\"]], \"type\": \"histogram2dcontour\"}], \"mesh3d\": [{\"colorbar\": {\"outlinewidth\": 0, \"ticks\": \"\"}, \"type\": \"mesh3d\"}], \"parcoords\": [{\"line\": {\"colorbar\": {\"outlinewidth\": 0, \"ticks\": \"\"}}, \"type\": \"parcoords\"}], \"pie\": [{\"automargin\": true, \"type\": \"pie\"}], \"scatter\": [{\"marker\": {\"colorbar\": {\"outlinewidth\": 0, \"ticks\": \"\"}}, \"type\": \"scatter\"}], \"scatter3d\": [{\"line\": {\"colorbar\": {\"outlinewidth\": 0, \"ticks\": \"\"}}, \"marker\": {\"colorbar\": {\"outlinewidth\": 0, \"ticks\": \"\"}}, \"type\": \"scatter3d\"}], \"scattercarpet\": [{\"marker\": {\"colorbar\": {\"outlinewidth\": 0, \"ticks\": \"\"}}, \"type\": \"scattercarpet\"}], \"scattergeo\": [{\"marker\": {\"colorbar\": {\"outlinewidth\": 0, \"ticks\": \"\"}}, \"type\": \"scattergeo\"}], \"scattergl\": [{\"marker\": {\"colorbar\": {\"outlinewidth\": 0, \"ticks\": \"\"}}, \"type\": \"scattergl\"}], \"scattermapbox\": [{\"marker\": {\"colorbar\": {\"outlinewidth\": 0, \"ticks\": \"\"}}, \"type\": \"scattermapbox\"}], \"scatterpolar\": [{\"marker\": {\"colorbar\": {\"outlinewidth\": 0, \"ticks\": \"\"}}, \"type\": \"scatterpolar\"}], \"scatterpolargl\": [{\"marker\": {\"colorbar\": {\"outlinewidth\": 0, \"ticks\": \"\"}}, \"type\": \"scatterpolargl\"}], \"scatterternary\": [{\"marker\": {\"colorbar\": {\"outlinewidth\": 0, \"ticks\": \"\"}}, \"type\": \"scatterternary\"}], \"surface\": [{\"colorbar\": {\"outlinewidth\": 0, \"ticks\": \"\"}, \"colorscale\": [[0.0, \"#0d0887\"], [0.1111111111111111, \"#46039f\"], [0.2222222222222222, \"#7201a8\"], [0.3333333333333333, \"#9c179e\"], [0.4444444444444444, \"#bd3786\"], [0.5555555555555556, \"#d8576b\"], [0.6666666666666666, \"#ed7953\"], [0.7777777777777778, \"#fb9f3a\"], [0.8888888888888888, \"#fdca26\"], [1.0, \"#f0f921\"]], \"type\": \"surface\"}], \"table\": [{\"cells\": {\"fill\": {\"color\": \"#EBF0F8\"}, \"line\": {\"color\": \"white\"}}, \"header\": {\"fill\": {\"color\": \"#C8D4E3\"}, \"line\": {\"color\": \"white\"}}, \"type\": \"table\"}]}, \"layout\": {\"annotationdefaults\": {\"arrowcolor\": \"#2a3f5f\", \"arrowhead\": 0, \"arrowwidth\": 1}, \"autotypenumbers\": \"strict\", \"coloraxis\": {\"colorbar\": {\"outlinewidth\": 0, \"ticks\": \"\"}}, \"colorscale\": {\"diverging\": [[0, \"#8e0152\"], [0.1, \"#c51b7d\"], [0.2, \"#de77ae\"], [0.3, \"#f1b6da\"], [0.4, \"#fde0ef\"], [0.5, \"#f7f7f7\"], [0.6, \"#e6f5d0\"], [0.7, \"#b8e186\"], [0.8, \"#7fbc41\"], [0.9, \"#4d9221\"], [1, \"#276419\"]], \"sequential\": [[0.0, \"#0d0887\"], [0.1111111111111111, \"#46039f\"], [0.2222222222222222, \"#7201a8\"], [0.3333333333333333, \"#9c179e\"], [0.4444444444444444, \"#bd3786\"], [0.5555555555555556, \"#d8576b\"], [0.6666666666666666, \"#ed7953\"], [0.7777777777777778, \"#fb9f3a\"], [0.8888888888888888, \"#fdca26\"], [1.0, \"#f0f921\"]], \"sequentialminus\": [[0.0, \"#0d0887\"], [0.1111111111111111, \"#46039f\"], [0.2222222222222222, \"#7201a8\"], [0.3333333333333333, \"#9c179e\"], [0.4444444444444444, \"#bd3786\"], [0.5555555555555556, \"#d8576b\"], [0.6666666666666666, \"#ed7953\"], [0.7777777777777778, \"#fb9f3a\"], [0.8888888888888888, \"#fdca26\"], [1.0, \"#f0f921\"]]}, \"colorway\": [\"#636efa\", \"#EF553B\", \"#00cc96\", \"#ab63fa\", \"#FFA15A\", \"#19d3f3\", \"#FF6692\", \"#B6E880\", \"#FF97FF\", \"#FECB52\"], \"font\": {\"color\": \"#2a3f5f\"}, \"geo\": {\"bgcolor\": \"white\", \"lakecolor\": \"white\", \"landcolor\": \"#E5ECF6\", \"showlakes\": true, \"showland\": true, \"subunitcolor\": \"white\"}, \"hoverlabel\": {\"align\": \"left\"}, \"hovermode\": \"closest\", \"mapbox\": {\"style\": \"light\"}, \"paper_bgcolor\": \"white\", \"plot_bgcolor\": \"#E5ECF6\", \"polar\": {\"angularaxis\": {\"gridcolor\": \"white\", \"linecolor\": \"white\", \"ticks\": \"\"}, \"bgcolor\": \"#E5ECF6\", \"radialaxis\": {\"gridcolor\": \"white\", \"linecolor\": \"white\", \"ticks\": \"\"}}, \"scene\": {\"xaxis\": {\"backgroundcolor\": \"#E5ECF6\", \"gridcolor\": \"white\", \"gridwidth\": 2, \"linecolor\": \"white\", \"showbackground\": true, \"ticks\": \"\", \"zerolinecolor\": \"white\"}, \"yaxis\": {\"backgroundcolor\": \"#E5ECF6\", \"gridcolor\": \"white\", \"gridwidth\": 2, \"linecolor\": \"white\", \"showbackground\": true, \"ticks\": \"\", \"zerolinecolor\": \"white\"}, \"zaxis\": {\"backgroundcolor\": \"#E5ECF6\", \"gridcolor\": \"white\", \"gridwidth\": 2, \"linecolor\": \"white\", \"showbackground\": true, \"ticks\": \"\", \"zerolinecolor\": \"white\"}}, \"shapedefaults\": {\"line\": {\"color\": \"#2a3f5f\"}}, \"ternary\": {\"aaxis\": {\"gridcolor\": \"white\", \"linecolor\": \"white\", \"ticks\": \"\"}, \"baxis\": {\"gridcolor\": \"white\", \"linecolor\": \"white\", \"ticks\": \"\"}, \"bgcolor\": \"#E5ECF6\", \"caxis\": {\"gridcolor\": \"white\", \"linecolor\": \"white\", \"ticks\": \"\"}}, \"title\": {\"x\": 0.05}, \"xaxis\": {\"automargin\": true, \"gridcolor\": \"white\", \"linecolor\": \"white\", \"ticks\": \"\", \"title\": {\"standoff\": 15}, \"zerolinecolor\": \"white\", \"zerolinewidth\": 2}, \"yaxis\": {\"automargin\": true, \"gridcolor\": \"white\", \"linecolor\": \"white\", \"ticks\": \"\", \"title\": {\"standoff\": 15}, \"zerolinecolor\": \"white\", \"zerolinewidth\": 2}}}, \"title\": {\"text\": \"Integridad de los datos\"}, \"xaxis\": {\"anchor\": \"y\", \"domain\": [0.0, 1.0], \"title\": {\"text\": \"Atributos\"}}, \"yaxis\": {\"anchor\": \"x\", \"domain\": [0.0, 1.0], \"title\": {\"text\": \"Numero de NaN\"}}},                        {\"responsive\": true}                    ).then(function(){\n",
       "                            \n",
       "var gd = document.getElementById('d18b121c-83a2-442f-852d-a830246465a9');\n",
       "var x = new MutationObserver(function (mutations, observer) {{\n",
       "        var display = window.getComputedStyle(gd).display;\n",
       "        if (!display || display === 'none') {{\n",
       "            console.log([gd, 'removed!']);\n",
       "            Plotly.purge(gd);\n",
       "            observer.disconnect();\n",
       "        }}\n",
       "}});\n",
       "\n",
       "// Listen for the removal of the full notebook cells\n",
       "var notebookContainer = gd.closest('#notebook-container');\n",
       "if (notebookContainer) {{\n",
       "    x.observe(notebookContainer, {childList: true});\n",
       "}}\n",
       "\n",
       "// Listen for the clearing of the current output cell\n",
       "var outputEl = gd.closest('.output');\n",
       "if (outputEl) {{\n",
       "    x.observe(outputEl, {childList: true});\n",
       "}}\n",
       "\n",
       "                        })                };                });            </script>        </div>"
      ]
     },
     "metadata": {},
     "output_type": "display_data"
    }
   ],
   "source": [
    "px.bar(x = df.isnull().sum().index,\n",
    "       y = df.isnull().sum().values,\n",
    "       labels = dict(x = \"Atributos\", y = \"Numero de NaN\"), title= 'Integridad de los datos')\n"
   ]
  },
  {
   "cell_type": "code",
   "execution_count": 54,
   "metadata": {},
   "outputs": [
    {
     "data": {
      "text/html": [
       "<div>\n",
       "<style scoped>\n",
       "    .dataframe tbody tr th:only-of-type {\n",
       "        vertical-align: middle;\n",
       "    }\n",
       "\n",
       "    .dataframe tbody tr th {\n",
       "        vertical-align: top;\n",
       "    }\n",
       "\n",
       "    .dataframe thead th {\n",
       "        text-align: right;\n",
       "    }\n",
       "</style>\n",
       "<table border=\"1\" class=\"dataframe\">\n",
       "  <thead>\n",
       "    <tr style=\"text-align: right;\">\n",
       "      <th></th>\n",
       "      <th>Fecha</th>\n",
       "      <th>Abrir*</th>\n",
       "      <th>Elevar</th>\n",
       "      <th>Disminuir</th>\n",
       "      <th>Cerrar**</th>\n",
       "      <th>Volumen</th>\n",
       "      <th>Cap. de Mercado</th>\n",
       "      <th>Porcentaje Respecto al dia anterior en el abrir del mercado</th>\n",
       "      <th>Porcentaje de Volumen respecto al dia anterior</th>\n",
       "      <th>Porcentaje Cap. De Mercado respecto al día anterior</th>\n",
       "      <th>Ganancia</th>\n",
       "      <th>Dia_semana</th>\n",
       "    </tr>\n",
       "  </thead>\n",
       "  <tbody>\n",
       "    <tr>\n",
       "      <th>0</th>\n",
       "      <td>Apr 16, 2021</td>\n",
       "      <td>1.48000</td>\n",
       "      <td>1.52000</td>\n",
       "      <td>1.34000</td>\n",
       "      <td>1.42000</td>\n",
       "      <td>5692183858</td>\n",
       "      <td>45269118282</td>\n",
       "      <td>2.068966</td>\n",
       "      <td>6.647961</td>\n",
       "      <td>-4.362822</td>\n",
       "      <td>NO</td>\n",
       "      <td>Friday</td>\n",
       "    </tr>\n",
       "    <tr>\n",
       "      <th>1</th>\n",
       "      <td>Apr 15, 2021</td>\n",
       "      <td>1.45000</td>\n",
       "      <td>1.49000</td>\n",
       "      <td>1.42000</td>\n",
       "      <td>1.48000</td>\n",
       "      <td>5337358369</td>\n",
       "      <td>47334226350</td>\n",
       "      <td>2.836879</td>\n",
       "      <td>-44.379965</td>\n",
       "      <td>1.797949</td>\n",
       "      <td>NO</td>\n",
       "      <td>Thursday</td>\n",
       "    </tr>\n",
       "    <tr>\n",
       "      <th>2</th>\n",
       "      <td>Apr 14, 2021</td>\n",
       "      <td>1.41000</td>\n",
       "      <td>1.56000</td>\n",
       "      <td>1.35000</td>\n",
       "      <td>1.46000</td>\n",
       "      <td>9596107541</td>\n",
       "      <td>46498212198</td>\n",
       "      <td>7.633588</td>\n",
       "      <td>62.741244</td>\n",
       "      <td>3.090693</td>\n",
       "      <td>SI</td>\n",
       "      <td>Wednesday</td>\n",
       "    </tr>\n",
       "    <tr>\n",
       "      <th>3</th>\n",
       "      <td>Apr 13, 2021</td>\n",
       "      <td>1.31000</td>\n",
       "      <td>1.44000</td>\n",
       "      <td>1.28000</td>\n",
       "      <td>1.41000</td>\n",
       "      <td>5896543066</td>\n",
       "      <td>45104180472</td>\n",
       "      <td>3.149606</td>\n",
       "      <td>19.891123</td>\n",
       "      <td>7.268233</td>\n",
       "      <td>NO</td>\n",
       "      <td>Tuesday</td>\n",
       "    </tr>\n",
       "    <tr>\n",
       "      <th>4</th>\n",
       "      <td>Apr 12, 2021</td>\n",
       "      <td>1.27000</td>\n",
       "      <td>1.35000</td>\n",
       "      <td>1.27000</td>\n",
       "      <td>1.32000</td>\n",
       "      <td>4918248258</td>\n",
       "      <td>42048031658</td>\n",
       "      <td>4.098361</td>\n",
       "      <td>35.236103</td>\n",
       "      <td>3.899182</td>\n",
       "      <td>SI</td>\n",
       "      <td>Monday</td>\n",
       "    </tr>\n",
       "    <tr>\n",
       "      <th>...</th>\n",
       "      <td>...</td>\n",
       "      <td>...</td>\n",
       "      <td>...</td>\n",
       "      <td>...</td>\n",
       "      <td>...</td>\n",
       "      <td>...</td>\n",
       "      <td>...</td>\n",
       "      <td>...</td>\n",
       "      <td>...</td>\n",
       "      <td>...</td>\n",
       "      <td>...</td>\n",
       "      <td>...</td>\n",
       "    </tr>\n",
       "    <tr>\n",
       "      <th>1288</th>\n",
       "      <td>Oct 06, 2017</td>\n",
       "      <td>0.02136</td>\n",
       "      <td>0.02154</td>\n",
       "      <td>0.01836</td>\n",
       "      <td>0.01854</td>\n",
       "      <td>7780710</td>\n",
       "      <td>480664553</td>\n",
       "      <td>-2.687927</td>\n",
       "      <td>39.877681</td>\n",
       "      <td>-13.726284</td>\n",
       "      <td>NO</td>\n",
       "      <td>Friday</td>\n",
       "    </tr>\n",
       "    <tr>\n",
       "      <th>1289</th>\n",
       "      <td>Oct 05, 2017</td>\n",
       "      <td>0.02195</td>\n",
       "      <td>0.02215</td>\n",
       "      <td>0.02086</td>\n",
       "      <td>0.02149</td>\n",
       "      <td>5562510</td>\n",
       "      <td>557139041</td>\n",
       "      <td>5.225312</td>\n",
       "      <td>-38.194677</td>\n",
       "      <td>-2.019014</td>\n",
       "      <td>SI</td>\n",
       "      <td>Thursday</td>\n",
       "    </tr>\n",
       "    <tr>\n",
       "      <th>1290</th>\n",
       "      <td>Oct 04, 2017</td>\n",
       "      <td>0.02086</td>\n",
       "      <td>0.02281</td>\n",
       "      <td>0.02086</td>\n",
       "      <td>0.02193</td>\n",
       "      <td>9000050</td>\n",
       "      <td>568619548</td>\n",
       "      <td>-19.021739</td>\n",
       "      <td>-47.051677</td>\n",
       "      <td>5.359871</td>\n",
       "      <td>NO</td>\n",
       "      <td>Wednesday</td>\n",
       "    </tr>\n",
       "    <tr>\n",
       "      <th>1291</th>\n",
       "      <td>Oct 03, 2017</td>\n",
       "      <td>0.02576</td>\n",
       "      <td>0.02743</td>\n",
       "      <td>0.02069</td>\n",
       "      <td>0.02082</td>\n",
       "      <td>16997800</td>\n",
       "      <td>539692715</td>\n",
       "      <td>4.672897</td>\n",
       "      <td>-70.511075</td>\n",
       "      <td>-14.184524</td>\n",
       "      <td>SI</td>\n",
       "      <td>Tuesday</td>\n",
       "    </tr>\n",
       "    <tr>\n",
       "      <th>1292</th>\n",
       "      <td>Oct 02, 2017</td>\n",
       "      <td>0.02461</td>\n",
       "      <td>0.03009</td>\n",
       "      <td>0.01997</td>\n",
       "      <td>0.02593</td>\n",
       "      <td>57641300</td>\n",
       "      <td>628899052</td>\n",
       "      <td>0.000000</td>\n",
       "      <td>0.000000</td>\n",
       "      <td>0.000000</td>\n",
       "      <td>SI</td>\n",
       "      <td>Monday</td>\n",
       "    </tr>\n",
       "  </tbody>\n",
       "</table>\n",
       "<p>1293 rows × 12 columns</p>\n",
       "</div>"
      ],
      "text/plain": [
       "             Fecha   Abrir*   Elevar  Disminuir  Cerrar**     Volumen  \\\n",
       "0     Apr 16, 2021  1.48000  1.52000    1.34000   1.42000  5692183858   \n",
       "1     Apr 15, 2021  1.45000  1.49000    1.42000   1.48000  5337358369   \n",
       "2     Apr 14, 2021  1.41000  1.56000    1.35000   1.46000  9596107541   \n",
       "3     Apr 13, 2021  1.31000  1.44000    1.28000   1.41000  5896543066   \n",
       "4     Apr 12, 2021  1.27000  1.35000    1.27000   1.32000  4918248258   \n",
       "...            ...      ...      ...        ...       ...         ...   \n",
       "1288  Oct 06, 2017  0.02136  0.02154    0.01836   0.01854     7780710   \n",
       "1289  Oct 05, 2017  0.02195  0.02215    0.02086   0.02149     5562510   \n",
       "1290  Oct 04, 2017  0.02086  0.02281    0.02086   0.02193     9000050   \n",
       "1291  Oct 03, 2017  0.02576  0.02743    0.02069   0.02082    16997800   \n",
       "1292  Oct 02, 2017  0.02461  0.03009    0.01997   0.02593    57641300   \n",
       "\n",
       "      Cap. de Mercado  \\\n",
       "0         45269118282   \n",
       "1         47334226350   \n",
       "2         46498212198   \n",
       "3         45104180472   \n",
       "4         42048031658   \n",
       "...               ...   \n",
       "1288        480664553   \n",
       "1289        557139041   \n",
       "1290        568619548   \n",
       "1291        539692715   \n",
       "1292        628899052   \n",
       "\n",
       "      Porcentaje Respecto al dia anterior en el abrir del mercado  \\\n",
       "0                                              2.068966             \n",
       "1                                              2.836879             \n",
       "2                                              7.633588             \n",
       "3                                              3.149606             \n",
       "4                                              4.098361             \n",
       "...                                                 ...             \n",
       "1288                                          -2.687927             \n",
       "1289                                           5.225312             \n",
       "1290                                         -19.021739             \n",
       "1291                                           4.672897             \n",
       "1292                                           0.000000             \n",
       "\n",
       "      Porcentaje de Volumen respecto al dia anterior  \\\n",
       "0                                           6.647961   \n",
       "1                                         -44.379965   \n",
       "2                                          62.741244   \n",
       "3                                          19.891123   \n",
       "4                                          35.236103   \n",
       "...                                              ...   \n",
       "1288                                       39.877681   \n",
       "1289                                      -38.194677   \n",
       "1290                                      -47.051677   \n",
       "1291                                      -70.511075   \n",
       "1292                                        0.000000   \n",
       "\n",
       "      Porcentaje Cap. De Mercado respecto al día anterior Ganancia Dia_semana  \n",
       "0                                             -4.362822         NO     Friday  \n",
       "1                                              1.797949         NO   Thursday  \n",
       "2                                              3.090693         SI  Wednesday  \n",
       "3                                              7.268233         NO    Tuesday  \n",
       "4                                              3.899182         SI     Monday  \n",
       "...                                                 ...        ...        ...  \n",
       "1288                                         -13.726284         NO     Friday  \n",
       "1289                                          -2.019014         SI   Thursday  \n",
       "1290                                           5.359871         NO  Wednesday  \n",
       "1291                                         -14.184524         SI    Tuesday  \n",
       "1292                                           0.000000         SI     Monday  \n",
       "\n",
       "[1293 rows x 12 columns]"
      ]
     },
     "execution_count": 54,
     "metadata": {},
     "output_type": "execute_result"
    }
   ],
   "source": [
    "#Dia apartir de la fecha\n",
    "temp=pd.DataFrame(df['Fecha'])\n",
    "nuevacolumna = []\n",
    "for i in range(0, len(df['Fecha'])):\n",
    "    nuevacolumna=pd.Timestamp(temp['Fecha'][i]).day_name()\n",
    "    temp['Fecha'][i]=nuevacolumna \n",
    "df=df.assign(Dia_semana=temp)\n",
    "df   "
   ]
  },
  {
   "cell_type": "code",
   "execution_count": 56,
   "metadata": {},
   "outputs": [
    {
     "data": {
      "text/html": [
       "<div>\n",
       "<style scoped>\n",
       "    .dataframe tbody tr th:only-of-type {\n",
       "        vertical-align: middle;\n",
       "    }\n",
       "\n",
       "    .dataframe tbody tr th {\n",
       "        vertical-align: top;\n",
       "    }\n",
       "\n",
       "    .dataframe thead th {\n",
       "        text-align: right;\n",
       "    }\n",
       "</style>\n",
       "<table border=\"1\" class=\"dataframe\">\n",
       "  <thead>\n",
       "    <tr style=\"text-align: right;\">\n",
       "      <th></th>\n",
       "      <th>Fecha</th>\n",
       "      <th>Abrir*</th>\n",
       "      <th>Elevar</th>\n",
       "      <th>Disminuir</th>\n",
       "      <th>Cerrar**</th>\n",
       "      <th>Volumen</th>\n",
       "      <th>Cap. de Mercado</th>\n",
       "      <th>Porcentaje Respecto al dia anterior en el abrir del mercado</th>\n",
       "      <th>Porcentaje de Volumen respecto al dia anterior</th>\n",
       "      <th>Porcentaje Cap. De Mercado respecto al día anterior</th>\n",
       "      <th>Ganancia</th>\n",
       "      <th>Dia_semana</th>\n",
       "      <th>Dia</th>\n",
       "      <th>Mes</th>\n",
       "      <th>Año</th>\n",
       "    </tr>\n",
       "  </thead>\n",
       "  <tbody>\n",
       "    <tr>\n",
       "      <th>0</th>\n",
       "      <td>Apr 16, 2021</td>\n",
       "      <td>1.48000</td>\n",
       "      <td>1.52000</td>\n",
       "      <td>1.34000</td>\n",
       "      <td>1.42000</td>\n",
       "      <td>5692183858</td>\n",
       "      <td>45269118282</td>\n",
       "      <td>2.068966</td>\n",
       "      <td>6.647961</td>\n",
       "      <td>-4.362822</td>\n",
       "      <td>NO</td>\n",
       "      <td>Friday</td>\n",
       "      <td>16</td>\n",
       "      <td>4</td>\n",
       "      <td>2021</td>\n",
       "    </tr>\n",
       "    <tr>\n",
       "      <th>1</th>\n",
       "      <td>Apr 15, 2021</td>\n",
       "      <td>1.45000</td>\n",
       "      <td>1.49000</td>\n",
       "      <td>1.42000</td>\n",
       "      <td>1.48000</td>\n",
       "      <td>5337358369</td>\n",
       "      <td>47334226350</td>\n",
       "      <td>2.836879</td>\n",
       "      <td>-44.379965</td>\n",
       "      <td>1.797949</td>\n",
       "      <td>NO</td>\n",
       "      <td>Thursday</td>\n",
       "      <td>15</td>\n",
       "      <td>4</td>\n",
       "      <td>2021</td>\n",
       "    </tr>\n",
       "    <tr>\n",
       "      <th>2</th>\n",
       "      <td>Apr 14, 2021</td>\n",
       "      <td>1.41000</td>\n",
       "      <td>1.56000</td>\n",
       "      <td>1.35000</td>\n",
       "      <td>1.46000</td>\n",
       "      <td>9596107541</td>\n",
       "      <td>46498212198</td>\n",
       "      <td>7.633588</td>\n",
       "      <td>62.741244</td>\n",
       "      <td>3.090693</td>\n",
       "      <td>SI</td>\n",
       "      <td>Wednesday</td>\n",
       "      <td>14</td>\n",
       "      <td>4</td>\n",
       "      <td>2021</td>\n",
       "    </tr>\n",
       "    <tr>\n",
       "      <th>3</th>\n",
       "      <td>Apr 13, 2021</td>\n",
       "      <td>1.31000</td>\n",
       "      <td>1.44000</td>\n",
       "      <td>1.28000</td>\n",
       "      <td>1.41000</td>\n",
       "      <td>5896543066</td>\n",
       "      <td>45104180472</td>\n",
       "      <td>3.149606</td>\n",
       "      <td>19.891123</td>\n",
       "      <td>7.268233</td>\n",
       "      <td>NO</td>\n",
       "      <td>Tuesday</td>\n",
       "      <td>13</td>\n",
       "      <td>4</td>\n",
       "      <td>2021</td>\n",
       "    </tr>\n",
       "    <tr>\n",
       "      <th>4</th>\n",
       "      <td>Apr 12, 2021</td>\n",
       "      <td>1.27000</td>\n",
       "      <td>1.35000</td>\n",
       "      <td>1.27000</td>\n",
       "      <td>1.32000</td>\n",
       "      <td>4918248258</td>\n",
       "      <td>42048031658</td>\n",
       "      <td>4.098361</td>\n",
       "      <td>35.236103</td>\n",
       "      <td>3.899182</td>\n",
       "      <td>SI</td>\n",
       "      <td>Monday</td>\n",
       "      <td>12</td>\n",
       "      <td>4</td>\n",
       "      <td>2021</td>\n",
       "    </tr>\n",
       "    <tr>\n",
       "      <th>...</th>\n",
       "      <td>...</td>\n",
       "      <td>...</td>\n",
       "      <td>...</td>\n",
       "      <td>...</td>\n",
       "      <td>...</td>\n",
       "      <td>...</td>\n",
       "      <td>...</td>\n",
       "      <td>...</td>\n",
       "      <td>...</td>\n",
       "      <td>...</td>\n",
       "      <td>...</td>\n",
       "      <td>...</td>\n",
       "      <td>...</td>\n",
       "      <td>...</td>\n",
       "      <td>...</td>\n",
       "    </tr>\n",
       "    <tr>\n",
       "      <th>1288</th>\n",
       "      <td>Oct 06, 2017</td>\n",
       "      <td>0.02136</td>\n",
       "      <td>0.02154</td>\n",
       "      <td>0.01836</td>\n",
       "      <td>0.01854</td>\n",
       "      <td>7780710</td>\n",
       "      <td>480664553</td>\n",
       "      <td>-2.687927</td>\n",
       "      <td>39.877681</td>\n",
       "      <td>-13.726284</td>\n",
       "      <td>NO</td>\n",
       "      <td>Friday</td>\n",
       "      <td>6</td>\n",
       "      <td>10</td>\n",
       "      <td>2017</td>\n",
       "    </tr>\n",
       "    <tr>\n",
       "      <th>1289</th>\n",
       "      <td>Oct 05, 2017</td>\n",
       "      <td>0.02195</td>\n",
       "      <td>0.02215</td>\n",
       "      <td>0.02086</td>\n",
       "      <td>0.02149</td>\n",
       "      <td>5562510</td>\n",
       "      <td>557139041</td>\n",
       "      <td>5.225312</td>\n",
       "      <td>-38.194677</td>\n",
       "      <td>-2.019014</td>\n",
       "      <td>SI</td>\n",
       "      <td>Thursday</td>\n",
       "      <td>5</td>\n",
       "      <td>10</td>\n",
       "      <td>2017</td>\n",
       "    </tr>\n",
       "    <tr>\n",
       "      <th>1290</th>\n",
       "      <td>Oct 04, 2017</td>\n",
       "      <td>0.02086</td>\n",
       "      <td>0.02281</td>\n",
       "      <td>0.02086</td>\n",
       "      <td>0.02193</td>\n",
       "      <td>9000050</td>\n",
       "      <td>568619548</td>\n",
       "      <td>-19.021739</td>\n",
       "      <td>-47.051677</td>\n",
       "      <td>5.359871</td>\n",
       "      <td>NO</td>\n",
       "      <td>Wednesday</td>\n",
       "      <td>4</td>\n",
       "      <td>10</td>\n",
       "      <td>2017</td>\n",
       "    </tr>\n",
       "    <tr>\n",
       "      <th>1291</th>\n",
       "      <td>Oct 03, 2017</td>\n",
       "      <td>0.02576</td>\n",
       "      <td>0.02743</td>\n",
       "      <td>0.02069</td>\n",
       "      <td>0.02082</td>\n",
       "      <td>16997800</td>\n",
       "      <td>539692715</td>\n",
       "      <td>4.672897</td>\n",
       "      <td>-70.511075</td>\n",
       "      <td>-14.184524</td>\n",
       "      <td>SI</td>\n",
       "      <td>Tuesday</td>\n",
       "      <td>3</td>\n",
       "      <td>10</td>\n",
       "      <td>2017</td>\n",
       "    </tr>\n",
       "    <tr>\n",
       "      <th>1292</th>\n",
       "      <td>Oct 02, 2017</td>\n",
       "      <td>0.02461</td>\n",
       "      <td>0.03009</td>\n",
       "      <td>0.01997</td>\n",
       "      <td>0.02593</td>\n",
       "      <td>57641300</td>\n",
       "      <td>628899052</td>\n",
       "      <td>0.000000</td>\n",
       "      <td>0.000000</td>\n",
       "      <td>0.000000</td>\n",
       "      <td>SI</td>\n",
       "      <td>Monday</td>\n",
       "      <td>2</td>\n",
       "      <td>10</td>\n",
       "      <td>2017</td>\n",
       "    </tr>\n",
       "  </tbody>\n",
       "</table>\n",
       "<p>1293 rows × 15 columns</p>\n",
       "</div>"
      ],
      "text/plain": [
       "             Fecha   Abrir*   Elevar  Disminuir  Cerrar**     Volumen  \\\n",
       "0     Apr 16, 2021  1.48000  1.52000    1.34000   1.42000  5692183858   \n",
       "1     Apr 15, 2021  1.45000  1.49000    1.42000   1.48000  5337358369   \n",
       "2     Apr 14, 2021  1.41000  1.56000    1.35000   1.46000  9596107541   \n",
       "3     Apr 13, 2021  1.31000  1.44000    1.28000   1.41000  5896543066   \n",
       "4     Apr 12, 2021  1.27000  1.35000    1.27000   1.32000  4918248258   \n",
       "...            ...      ...      ...        ...       ...         ...   \n",
       "1288  Oct 06, 2017  0.02136  0.02154    0.01836   0.01854     7780710   \n",
       "1289  Oct 05, 2017  0.02195  0.02215    0.02086   0.02149     5562510   \n",
       "1290  Oct 04, 2017  0.02086  0.02281    0.02086   0.02193     9000050   \n",
       "1291  Oct 03, 2017  0.02576  0.02743    0.02069   0.02082    16997800   \n",
       "1292  Oct 02, 2017  0.02461  0.03009    0.01997   0.02593    57641300   \n",
       "\n",
       "      Cap. de Mercado  \\\n",
       "0         45269118282   \n",
       "1         47334226350   \n",
       "2         46498212198   \n",
       "3         45104180472   \n",
       "4         42048031658   \n",
       "...               ...   \n",
       "1288        480664553   \n",
       "1289        557139041   \n",
       "1290        568619548   \n",
       "1291        539692715   \n",
       "1292        628899052   \n",
       "\n",
       "      Porcentaje Respecto al dia anterior en el abrir del mercado  \\\n",
       "0                                              2.068966             \n",
       "1                                              2.836879             \n",
       "2                                              7.633588             \n",
       "3                                              3.149606             \n",
       "4                                              4.098361             \n",
       "...                                                 ...             \n",
       "1288                                          -2.687927             \n",
       "1289                                           5.225312             \n",
       "1290                                         -19.021739             \n",
       "1291                                           4.672897             \n",
       "1292                                           0.000000             \n",
       "\n",
       "      Porcentaje de Volumen respecto al dia anterior  \\\n",
       "0                                           6.647961   \n",
       "1                                         -44.379965   \n",
       "2                                          62.741244   \n",
       "3                                          19.891123   \n",
       "4                                          35.236103   \n",
       "...                                              ...   \n",
       "1288                                       39.877681   \n",
       "1289                                      -38.194677   \n",
       "1290                                      -47.051677   \n",
       "1291                                      -70.511075   \n",
       "1292                                        0.000000   \n",
       "\n",
       "      Porcentaje Cap. De Mercado respecto al día anterior Ganancia Dia_semana  \\\n",
       "0                                             -4.362822         NO     Friday   \n",
       "1                                              1.797949         NO   Thursday   \n",
       "2                                              3.090693         SI  Wednesday   \n",
       "3                                              7.268233         NO    Tuesday   \n",
       "4                                              3.899182         SI     Monday   \n",
       "...                                                 ...        ...        ...   \n",
       "1288                                         -13.726284         NO     Friday   \n",
       "1289                                          -2.019014         SI   Thursday   \n",
       "1290                                           5.359871         NO  Wednesday   \n",
       "1291                                         -14.184524         SI    Tuesday   \n",
       "1292                                           0.000000         SI     Monday   \n",
       "\n",
       "      Dia  Mes   Año  \n",
       "0      16    4  2021  \n",
       "1      15    4  2021  \n",
       "2      14    4  2021  \n",
       "3      13    4  2021  \n",
       "4      12    4  2021  \n",
       "...   ...  ...   ...  \n",
       "1288    6   10  2017  \n",
       "1289    5   10  2017  \n",
       "1290    4   10  2017  \n",
       "1291    3   10  2017  \n",
       "1292    2   10  2017  \n",
       "\n",
       "[1293 rows x 15 columns]"
      ]
     },
     "execution_count": 56,
     "metadata": {},
     "output_type": "execute_result"
    }
   ],
   "source": [
    "#Creacción nuevas columnas para descomponer la fecha\n",
    "df['Dia'] = pd.DatetimeIndex(df['Fecha']).day\n",
    "df['Mes'] = pd.DatetimeIndex(df['Fecha']).month\n",
    "df['Año'] = pd.DatetimeIndex(df['Fecha']).year\n",
    "datos=df\n",
    "df"
   ]
  },
  {
   "cell_type": "code",
   "execution_count": 61,
   "metadata": {
    "scrolled": true
   },
   "outputs": [
    {
     "data": {
      "text/html": [
       "<div>\n",
       "<style scoped>\n",
       "    .dataframe tbody tr th:only-of-type {\n",
       "        vertical-align: middle;\n",
       "    }\n",
       "\n",
       "    .dataframe tbody tr th {\n",
       "        vertical-align: top;\n",
       "    }\n",
       "\n",
       "    .dataframe thead th {\n",
       "        text-align: right;\n",
       "    }\n",
       "</style>\n",
       "<table border=\"1\" class=\"dataframe\">\n",
       "  <thead>\n",
       "    <tr style=\"text-align: right;\">\n",
       "      <th></th>\n",
       "      <th>Fecha</th>\n",
       "      <th>Abrir*</th>\n",
       "      <th>Elevar</th>\n",
       "      <th>Disminuir</th>\n",
       "      <th>Cerrar**</th>\n",
       "      <th>Volumen</th>\n",
       "      <th>Cap. de Mercado</th>\n",
       "      <th>Porcentaje Respecto al dia anterior en el abrir del mercado</th>\n",
       "      <th>Porcentaje de Volumen respecto al dia anterior</th>\n",
       "      <th>Porcentaje Cap. De Mercado respecto al día anterior</th>\n",
       "      <th>Ganancia</th>\n",
       "      <th>Dia_semana</th>\n",
       "      <th>Dia</th>\n",
       "      <th>Mes</th>\n",
       "      <th>Año</th>\n",
       "      <th>TEST</th>\n",
       "    </tr>\n",
       "  </thead>\n",
       "  <tbody>\n",
       "    <tr>\n",
       "      <th>0</th>\n",
       "      <td>Apr 16, 2021</td>\n",
       "      <td>1.48000</td>\n",
       "      <td>1.52000</td>\n",
       "      <td>1.34000</td>\n",
       "      <td>1.42000</td>\n",
       "      <td>5692183858</td>\n",
       "      <td>45269118282</td>\n",
       "      <td>2.068966</td>\n",
       "      <td>6.647961</td>\n",
       "      <td>-4.362822</td>\n",
       "      <td>NO</td>\n",
       "      <td>Friday</td>\n",
       "      <td>16</td>\n",
       "      <td>4</td>\n",
       "      <td>2021</td>\n",
       "      <td>2021-4-16</td>\n",
       "    </tr>\n",
       "    <tr>\n",
       "      <th>1</th>\n",
       "      <td>Apr 15, 2021</td>\n",
       "      <td>1.45000</td>\n",
       "      <td>1.49000</td>\n",
       "      <td>1.42000</td>\n",
       "      <td>1.48000</td>\n",
       "      <td>5337358369</td>\n",
       "      <td>47334226350</td>\n",
       "      <td>2.836879</td>\n",
       "      <td>-44.379965</td>\n",
       "      <td>1.797949</td>\n",
       "      <td>NO</td>\n",
       "      <td>Thursday</td>\n",
       "      <td>15</td>\n",
       "      <td>4</td>\n",
       "      <td>2021</td>\n",
       "      <td>2021-4-15</td>\n",
       "    </tr>\n",
       "    <tr>\n",
       "      <th>2</th>\n",
       "      <td>Apr 14, 2021</td>\n",
       "      <td>1.41000</td>\n",
       "      <td>1.56000</td>\n",
       "      <td>1.35000</td>\n",
       "      <td>1.46000</td>\n",
       "      <td>9596107541</td>\n",
       "      <td>46498212198</td>\n",
       "      <td>7.633588</td>\n",
       "      <td>62.741244</td>\n",
       "      <td>3.090693</td>\n",
       "      <td>SI</td>\n",
       "      <td>Wednesday</td>\n",
       "      <td>14</td>\n",
       "      <td>4</td>\n",
       "      <td>2021</td>\n",
       "      <td>2021-4-14</td>\n",
       "    </tr>\n",
       "    <tr>\n",
       "      <th>3</th>\n",
       "      <td>Apr 13, 2021</td>\n",
       "      <td>1.31000</td>\n",
       "      <td>1.44000</td>\n",
       "      <td>1.28000</td>\n",
       "      <td>1.41000</td>\n",
       "      <td>5896543066</td>\n",
       "      <td>45104180472</td>\n",
       "      <td>3.149606</td>\n",
       "      <td>19.891123</td>\n",
       "      <td>7.268233</td>\n",
       "      <td>NO</td>\n",
       "      <td>Tuesday</td>\n",
       "      <td>13</td>\n",
       "      <td>4</td>\n",
       "      <td>2021</td>\n",
       "      <td>2021-4-13</td>\n",
       "    </tr>\n",
       "    <tr>\n",
       "      <th>4</th>\n",
       "      <td>Apr 12, 2021</td>\n",
       "      <td>1.27000</td>\n",
       "      <td>1.35000</td>\n",
       "      <td>1.27000</td>\n",
       "      <td>1.32000</td>\n",
       "      <td>4918248258</td>\n",
       "      <td>42048031658</td>\n",
       "      <td>4.098361</td>\n",
       "      <td>35.236103</td>\n",
       "      <td>3.899182</td>\n",
       "      <td>SI</td>\n",
       "      <td>Monday</td>\n",
       "      <td>12</td>\n",
       "      <td>4</td>\n",
       "      <td>2021</td>\n",
       "      <td>2021-4-12</td>\n",
       "    </tr>\n",
       "    <tr>\n",
       "      <th>...</th>\n",
       "      <td>...</td>\n",
       "      <td>...</td>\n",
       "      <td>...</td>\n",
       "      <td>...</td>\n",
       "      <td>...</td>\n",
       "      <td>...</td>\n",
       "      <td>...</td>\n",
       "      <td>...</td>\n",
       "      <td>...</td>\n",
       "      <td>...</td>\n",
       "      <td>...</td>\n",
       "      <td>...</td>\n",
       "      <td>...</td>\n",
       "      <td>...</td>\n",
       "      <td>...</td>\n",
       "      <td>...</td>\n",
       "    </tr>\n",
       "    <tr>\n",
       "      <th>1288</th>\n",
       "      <td>Oct 06, 2017</td>\n",
       "      <td>0.02136</td>\n",
       "      <td>0.02154</td>\n",
       "      <td>0.01836</td>\n",
       "      <td>0.01854</td>\n",
       "      <td>7780710</td>\n",
       "      <td>480664553</td>\n",
       "      <td>-2.687927</td>\n",
       "      <td>39.877681</td>\n",
       "      <td>-13.726284</td>\n",
       "      <td>NO</td>\n",
       "      <td>Friday</td>\n",
       "      <td>6</td>\n",
       "      <td>10</td>\n",
       "      <td>2017</td>\n",
       "      <td>2017-10-6</td>\n",
       "    </tr>\n",
       "    <tr>\n",
       "      <th>1289</th>\n",
       "      <td>Oct 05, 2017</td>\n",
       "      <td>0.02195</td>\n",
       "      <td>0.02215</td>\n",
       "      <td>0.02086</td>\n",
       "      <td>0.02149</td>\n",
       "      <td>5562510</td>\n",
       "      <td>557139041</td>\n",
       "      <td>5.225312</td>\n",
       "      <td>-38.194677</td>\n",
       "      <td>-2.019014</td>\n",
       "      <td>SI</td>\n",
       "      <td>Thursday</td>\n",
       "      <td>5</td>\n",
       "      <td>10</td>\n",
       "      <td>2017</td>\n",
       "      <td>2017-10-5</td>\n",
       "    </tr>\n",
       "    <tr>\n",
       "      <th>1290</th>\n",
       "      <td>Oct 04, 2017</td>\n",
       "      <td>0.02086</td>\n",
       "      <td>0.02281</td>\n",
       "      <td>0.02086</td>\n",
       "      <td>0.02193</td>\n",
       "      <td>9000050</td>\n",
       "      <td>568619548</td>\n",
       "      <td>-19.021739</td>\n",
       "      <td>-47.051677</td>\n",
       "      <td>5.359871</td>\n",
       "      <td>NO</td>\n",
       "      <td>Wednesday</td>\n",
       "      <td>4</td>\n",
       "      <td>10</td>\n",
       "      <td>2017</td>\n",
       "      <td>2017-10-4</td>\n",
       "    </tr>\n",
       "    <tr>\n",
       "      <th>1291</th>\n",
       "      <td>Oct 03, 2017</td>\n",
       "      <td>0.02576</td>\n",
       "      <td>0.02743</td>\n",
       "      <td>0.02069</td>\n",
       "      <td>0.02082</td>\n",
       "      <td>16997800</td>\n",
       "      <td>539692715</td>\n",
       "      <td>4.672897</td>\n",
       "      <td>-70.511075</td>\n",
       "      <td>-14.184524</td>\n",
       "      <td>SI</td>\n",
       "      <td>Tuesday</td>\n",
       "      <td>3</td>\n",
       "      <td>10</td>\n",
       "      <td>2017</td>\n",
       "      <td>2017-10-3</td>\n",
       "    </tr>\n",
       "    <tr>\n",
       "      <th>1292</th>\n",
       "      <td>Oct 02, 2017</td>\n",
       "      <td>0.02461</td>\n",
       "      <td>0.03009</td>\n",
       "      <td>0.01997</td>\n",
       "      <td>0.02593</td>\n",
       "      <td>57641300</td>\n",
       "      <td>628899052</td>\n",
       "      <td>0.000000</td>\n",
       "      <td>0.000000</td>\n",
       "      <td>0.000000</td>\n",
       "      <td>SI</td>\n",
       "      <td>Monday</td>\n",
       "      <td>2</td>\n",
       "      <td>10</td>\n",
       "      <td>2017</td>\n",
       "      <td>2017-10-2</td>\n",
       "    </tr>\n",
       "  </tbody>\n",
       "</table>\n",
       "<p>1293 rows × 16 columns</p>\n",
       "</div>"
      ],
      "text/plain": [
       "             Fecha   Abrir*   Elevar  Disminuir  Cerrar**     Volumen  \\\n",
       "0     Apr 16, 2021  1.48000  1.52000    1.34000   1.42000  5692183858   \n",
       "1     Apr 15, 2021  1.45000  1.49000    1.42000   1.48000  5337358369   \n",
       "2     Apr 14, 2021  1.41000  1.56000    1.35000   1.46000  9596107541   \n",
       "3     Apr 13, 2021  1.31000  1.44000    1.28000   1.41000  5896543066   \n",
       "4     Apr 12, 2021  1.27000  1.35000    1.27000   1.32000  4918248258   \n",
       "...            ...      ...      ...        ...       ...         ...   \n",
       "1288  Oct 06, 2017  0.02136  0.02154    0.01836   0.01854     7780710   \n",
       "1289  Oct 05, 2017  0.02195  0.02215    0.02086   0.02149     5562510   \n",
       "1290  Oct 04, 2017  0.02086  0.02281    0.02086   0.02193     9000050   \n",
       "1291  Oct 03, 2017  0.02576  0.02743    0.02069   0.02082    16997800   \n",
       "1292  Oct 02, 2017  0.02461  0.03009    0.01997   0.02593    57641300   \n",
       "\n",
       "      Cap. de Mercado  \\\n",
       "0         45269118282   \n",
       "1         47334226350   \n",
       "2         46498212198   \n",
       "3         45104180472   \n",
       "4         42048031658   \n",
       "...               ...   \n",
       "1288        480664553   \n",
       "1289        557139041   \n",
       "1290        568619548   \n",
       "1291        539692715   \n",
       "1292        628899052   \n",
       "\n",
       "      Porcentaje Respecto al dia anterior en el abrir del mercado  \\\n",
       "0                                              2.068966             \n",
       "1                                              2.836879             \n",
       "2                                              7.633588             \n",
       "3                                              3.149606             \n",
       "4                                              4.098361             \n",
       "...                                                 ...             \n",
       "1288                                          -2.687927             \n",
       "1289                                           5.225312             \n",
       "1290                                         -19.021739             \n",
       "1291                                           4.672897             \n",
       "1292                                           0.000000             \n",
       "\n",
       "      Porcentaje de Volumen respecto al dia anterior  \\\n",
       "0                                           6.647961   \n",
       "1                                         -44.379965   \n",
       "2                                          62.741244   \n",
       "3                                          19.891123   \n",
       "4                                          35.236103   \n",
       "...                                              ...   \n",
       "1288                                       39.877681   \n",
       "1289                                      -38.194677   \n",
       "1290                                      -47.051677   \n",
       "1291                                      -70.511075   \n",
       "1292                                        0.000000   \n",
       "\n",
       "      Porcentaje Cap. De Mercado respecto al día anterior Ganancia Dia_semana  \\\n",
       "0                                             -4.362822         NO     Friday   \n",
       "1                                              1.797949         NO   Thursday   \n",
       "2                                              3.090693         SI  Wednesday   \n",
       "3                                              7.268233         NO    Tuesday   \n",
       "4                                              3.899182         SI     Monday   \n",
       "...                                                 ...        ...        ...   \n",
       "1288                                         -13.726284         NO     Friday   \n",
       "1289                                          -2.019014         SI   Thursday   \n",
       "1290                                           5.359871         NO  Wednesday   \n",
       "1291                                         -14.184524         SI    Tuesday   \n",
       "1292                                           0.000000         SI     Monday   \n",
       "\n",
       "      Dia  Mes   Año       TEST  \n",
       "0      16    4  2021  2021-4-16  \n",
       "1      15    4  2021  2021-4-15  \n",
       "2      14    4  2021  2021-4-14  \n",
       "3      13    4  2021  2021-4-13  \n",
       "4      12    4  2021  2021-4-12  \n",
       "...   ...  ...   ...        ...  \n",
       "1288    6   10  2017  2017-10-6  \n",
       "1289    5   10  2017  2017-10-5  \n",
       "1290    4   10  2017  2017-10-4  \n",
       "1291    3   10  2017  2017-10-3  \n",
       "1292    2   10  2017  2017-10-2  \n",
       "\n",
       "[1293 rows x 16 columns]"
      ]
     },
     "execution_count": 61,
     "metadata": {},
     "output_type": "execute_result"
    }
   ],
   "source": [
    "df['TEST']=df['Año'].apply(str) + \"-\" + df['Mes'].apply(str) + \"-\" + df['Dia'].apply(str)\n",
    "df"
   ]
  },
  {
   "cell_type": "code",
   "execution_count": 64,
   "metadata": {},
   "outputs": [
    {
     "data": {
      "text/html": [
       "<div>\n",
       "<style scoped>\n",
       "    .dataframe tbody tr th:only-of-type {\n",
       "        vertical-align: middle;\n",
       "    }\n",
       "\n",
       "    .dataframe tbody tr th {\n",
       "        vertical-align: top;\n",
       "    }\n",
       "\n",
       "    .dataframe thead th {\n",
       "        text-align: right;\n",
       "    }\n",
       "</style>\n",
       "<table border=\"1\" class=\"dataframe\">\n",
       "  <thead>\n",
       "    <tr style=\"text-align: right;\">\n",
       "      <th></th>\n",
       "      <th>Fecha</th>\n",
       "      <th>Abrir*</th>\n",
       "      <th>Elevar</th>\n",
       "      <th>Disminuir</th>\n",
       "      <th>Cerrar**</th>\n",
       "      <th>Volumen</th>\n",
       "      <th>Cap. de Mercado</th>\n",
       "      <th>Porcentaje Respecto al dia anterior en el abrir del mercado</th>\n",
       "      <th>Porcentaje de Volumen respecto al dia anterior</th>\n",
       "      <th>Porcentaje Cap. De Mercado respecto al día anterior</th>\n",
       "      <th>Ganancia</th>\n",
       "      <th>Dia_semana</th>\n",
       "      <th>Dia</th>\n",
       "      <th>Mes</th>\n",
       "      <th>Año</th>\n",
       "      <th>TEST</th>\n",
       "    </tr>\n",
       "  </thead>\n",
       "  <tbody>\n",
       "    <tr>\n",
       "      <th>0</th>\n",
       "      <td>Apr 16, 2021</td>\n",
       "      <td>1.48000</td>\n",
       "      <td>1.52000</td>\n",
       "      <td>1.34000</td>\n",
       "      <td>1.42000</td>\n",
       "      <td>5692183858</td>\n",
       "      <td>45269118282</td>\n",
       "      <td>2.068966</td>\n",
       "      <td>6.647961</td>\n",
       "      <td>-4.362822</td>\n",
       "      <td>NO</td>\n",
       "      <td>Friday</td>\n",
       "      <td>16</td>\n",
       "      <td>4</td>\n",
       "      <td>2021</td>\n",
       "      <td>2021-04-16</td>\n",
       "    </tr>\n",
       "    <tr>\n",
       "      <th>1</th>\n",
       "      <td>Apr 15, 2021</td>\n",
       "      <td>1.45000</td>\n",
       "      <td>1.49000</td>\n",
       "      <td>1.42000</td>\n",
       "      <td>1.48000</td>\n",
       "      <td>5337358369</td>\n",
       "      <td>47334226350</td>\n",
       "      <td>2.836879</td>\n",
       "      <td>-44.379965</td>\n",
       "      <td>1.797949</td>\n",
       "      <td>NO</td>\n",
       "      <td>Thursday</td>\n",
       "      <td>15</td>\n",
       "      <td>4</td>\n",
       "      <td>2021</td>\n",
       "      <td>2021-04-15</td>\n",
       "    </tr>\n",
       "    <tr>\n",
       "      <th>2</th>\n",
       "      <td>Apr 14, 2021</td>\n",
       "      <td>1.41000</td>\n",
       "      <td>1.56000</td>\n",
       "      <td>1.35000</td>\n",
       "      <td>1.46000</td>\n",
       "      <td>9596107541</td>\n",
       "      <td>46498212198</td>\n",
       "      <td>7.633588</td>\n",
       "      <td>62.741244</td>\n",
       "      <td>3.090693</td>\n",
       "      <td>SI</td>\n",
       "      <td>Wednesday</td>\n",
       "      <td>14</td>\n",
       "      <td>4</td>\n",
       "      <td>2021</td>\n",
       "      <td>2021-04-14</td>\n",
       "    </tr>\n",
       "    <tr>\n",
       "      <th>3</th>\n",
       "      <td>Apr 13, 2021</td>\n",
       "      <td>1.31000</td>\n",
       "      <td>1.44000</td>\n",
       "      <td>1.28000</td>\n",
       "      <td>1.41000</td>\n",
       "      <td>5896543066</td>\n",
       "      <td>45104180472</td>\n",
       "      <td>3.149606</td>\n",
       "      <td>19.891123</td>\n",
       "      <td>7.268233</td>\n",
       "      <td>NO</td>\n",
       "      <td>Tuesday</td>\n",
       "      <td>13</td>\n",
       "      <td>4</td>\n",
       "      <td>2021</td>\n",
       "      <td>2021-04-13</td>\n",
       "    </tr>\n",
       "    <tr>\n",
       "      <th>4</th>\n",
       "      <td>Apr 12, 2021</td>\n",
       "      <td>1.27000</td>\n",
       "      <td>1.35000</td>\n",
       "      <td>1.27000</td>\n",
       "      <td>1.32000</td>\n",
       "      <td>4918248258</td>\n",
       "      <td>42048031658</td>\n",
       "      <td>4.098361</td>\n",
       "      <td>35.236103</td>\n",
       "      <td>3.899182</td>\n",
       "      <td>SI</td>\n",
       "      <td>Monday</td>\n",
       "      <td>12</td>\n",
       "      <td>4</td>\n",
       "      <td>2021</td>\n",
       "      <td>2021-04-12</td>\n",
       "    </tr>\n",
       "    <tr>\n",
       "      <th>...</th>\n",
       "      <td>...</td>\n",
       "      <td>...</td>\n",
       "      <td>...</td>\n",
       "      <td>...</td>\n",
       "      <td>...</td>\n",
       "      <td>...</td>\n",
       "      <td>...</td>\n",
       "      <td>...</td>\n",
       "      <td>...</td>\n",
       "      <td>...</td>\n",
       "      <td>...</td>\n",
       "      <td>...</td>\n",
       "      <td>...</td>\n",
       "      <td>...</td>\n",
       "      <td>...</td>\n",
       "      <td>...</td>\n",
       "    </tr>\n",
       "    <tr>\n",
       "      <th>1288</th>\n",
       "      <td>Oct 06, 2017</td>\n",
       "      <td>0.02136</td>\n",
       "      <td>0.02154</td>\n",
       "      <td>0.01836</td>\n",
       "      <td>0.01854</td>\n",
       "      <td>7780710</td>\n",
       "      <td>480664553</td>\n",
       "      <td>-2.687927</td>\n",
       "      <td>39.877681</td>\n",
       "      <td>-13.726284</td>\n",
       "      <td>NO</td>\n",
       "      <td>Friday</td>\n",
       "      <td>6</td>\n",
       "      <td>10</td>\n",
       "      <td>2017</td>\n",
       "      <td>2017-10-06</td>\n",
       "    </tr>\n",
       "    <tr>\n",
       "      <th>1289</th>\n",
       "      <td>Oct 05, 2017</td>\n",
       "      <td>0.02195</td>\n",
       "      <td>0.02215</td>\n",
       "      <td>0.02086</td>\n",
       "      <td>0.02149</td>\n",
       "      <td>5562510</td>\n",
       "      <td>557139041</td>\n",
       "      <td>5.225312</td>\n",
       "      <td>-38.194677</td>\n",
       "      <td>-2.019014</td>\n",
       "      <td>SI</td>\n",
       "      <td>Thursday</td>\n",
       "      <td>5</td>\n",
       "      <td>10</td>\n",
       "      <td>2017</td>\n",
       "      <td>2017-10-05</td>\n",
       "    </tr>\n",
       "    <tr>\n",
       "      <th>1290</th>\n",
       "      <td>Oct 04, 2017</td>\n",
       "      <td>0.02086</td>\n",
       "      <td>0.02281</td>\n",
       "      <td>0.02086</td>\n",
       "      <td>0.02193</td>\n",
       "      <td>9000050</td>\n",
       "      <td>568619548</td>\n",
       "      <td>-19.021739</td>\n",
       "      <td>-47.051677</td>\n",
       "      <td>5.359871</td>\n",
       "      <td>NO</td>\n",
       "      <td>Wednesday</td>\n",
       "      <td>4</td>\n",
       "      <td>10</td>\n",
       "      <td>2017</td>\n",
       "      <td>2017-10-04</td>\n",
       "    </tr>\n",
       "    <tr>\n",
       "      <th>1291</th>\n",
       "      <td>Oct 03, 2017</td>\n",
       "      <td>0.02576</td>\n",
       "      <td>0.02743</td>\n",
       "      <td>0.02069</td>\n",
       "      <td>0.02082</td>\n",
       "      <td>16997800</td>\n",
       "      <td>539692715</td>\n",
       "      <td>4.672897</td>\n",
       "      <td>-70.511075</td>\n",
       "      <td>-14.184524</td>\n",
       "      <td>SI</td>\n",
       "      <td>Tuesday</td>\n",
       "      <td>3</td>\n",
       "      <td>10</td>\n",
       "      <td>2017</td>\n",
       "      <td>2017-10-03</td>\n",
       "    </tr>\n",
       "    <tr>\n",
       "      <th>1292</th>\n",
       "      <td>Oct 02, 2017</td>\n",
       "      <td>0.02461</td>\n",
       "      <td>0.03009</td>\n",
       "      <td>0.01997</td>\n",
       "      <td>0.02593</td>\n",
       "      <td>57641300</td>\n",
       "      <td>628899052</td>\n",
       "      <td>0.000000</td>\n",
       "      <td>0.000000</td>\n",
       "      <td>0.000000</td>\n",
       "      <td>SI</td>\n",
       "      <td>Monday</td>\n",
       "      <td>2</td>\n",
       "      <td>10</td>\n",
       "      <td>2017</td>\n",
       "      <td>2017-10-02</td>\n",
       "    </tr>\n",
       "  </tbody>\n",
       "</table>\n",
       "<p>1293 rows × 16 columns</p>\n",
       "</div>"
      ],
      "text/plain": [
       "             Fecha   Abrir*   Elevar  Disminuir  Cerrar**     Volumen  \\\n",
       "0     Apr 16, 2021  1.48000  1.52000    1.34000   1.42000  5692183858   \n",
       "1     Apr 15, 2021  1.45000  1.49000    1.42000   1.48000  5337358369   \n",
       "2     Apr 14, 2021  1.41000  1.56000    1.35000   1.46000  9596107541   \n",
       "3     Apr 13, 2021  1.31000  1.44000    1.28000   1.41000  5896543066   \n",
       "4     Apr 12, 2021  1.27000  1.35000    1.27000   1.32000  4918248258   \n",
       "...            ...      ...      ...        ...       ...         ...   \n",
       "1288  Oct 06, 2017  0.02136  0.02154    0.01836   0.01854     7780710   \n",
       "1289  Oct 05, 2017  0.02195  0.02215    0.02086   0.02149     5562510   \n",
       "1290  Oct 04, 2017  0.02086  0.02281    0.02086   0.02193     9000050   \n",
       "1291  Oct 03, 2017  0.02576  0.02743    0.02069   0.02082    16997800   \n",
       "1292  Oct 02, 2017  0.02461  0.03009    0.01997   0.02593    57641300   \n",
       "\n",
       "      Cap. de Mercado  \\\n",
       "0         45269118282   \n",
       "1         47334226350   \n",
       "2         46498212198   \n",
       "3         45104180472   \n",
       "4         42048031658   \n",
       "...               ...   \n",
       "1288        480664553   \n",
       "1289        557139041   \n",
       "1290        568619548   \n",
       "1291        539692715   \n",
       "1292        628899052   \n",
       "\n",
       "      Porcentaje Respecto al dia anterior en el abrir del mercado  \\\n",
       "0                                              2.068966             \n",
       "1                                              2.836879             \n",
       "2                                              7.633588             \n",
       "3                                              3.149606             \n",
       "4                                              4.098361             \n",
       "...                                                 ...             \n",
       "1288                                          -2.687927             \n",
       "1289                                           5.225312             \n",
       "1290                                         -19.021739             \n",
       "1291                                           4.672897             \n",
       "1292                                           0.000000             \n",
       "\n",
       "      Porcentaje de Volumen respecto al dia anterior  \\\n",
       "0                                           6.647961   \n",
       "1                                         -44.379965   \n",
       "2                                          62.741244   \n",
       "3                                          19.891123   \n",
       "4                                          35.236103   \n",
       "...                                              ...   \n",
       "1288                                       39.877681   \n",
       "1289                                      -38.194677   \n",
       "1290                                      -47.051677   \n",
       "1291                                      -70.511075   \n",
       "1292                                        0.000000   \n",
       "\n",
       "      Porcentaje Cap. De Mercado respecto al día anterior Ganancia Dia_semana  \\\n",
       "0                                             -4.362822         NO     Friday   \n",
       "1                                              1.797949         NO   Thursday   \n",
       "2                                              3.090693         SI  Wednesday   \n",
       "3                                              7.268233         NO    Tuesday   \n",
       "4                                              3.899182         SI     Monday   \n",
       "...                                                 ...        ...        ...   \n",
       "1288                                         -13.726284         NO     Friday   \n",
       "1289                                          -2.019014         SI   Thursday   \n",
       "1290                                           5.359871         NO  Wednesday   \n",
       "1291                                         -14.184524         SI    Tuesday   \n",
       "1292                                           0.000000         SI     Monday   \n",
       "\n",
       "      Dia  Mes   Año       TEST  \n",
       "0      16    4  2021 2021-04-16  \n",
       "1      15    4  2021 2021-04-15  \n",
       "2      14    4  2021 2021-04-14  \n",
       "3      13    4  2021 2021-04-13  \n",
       "4      12    4  2021 2021-04-12  \n",
       "...   ...  ...   ...        ...  \n",
       "1288    6   10  2017 2017-10-06  \n",
       "1289    5   10  2017 2017-10-05  \n",
       "1290    4   10  2017 2017-10-04  \n",
       "1291    3   10  2017 2017-10-03  \n",
       "1292    2   10  2017 2017-10-02  \n",
       "\n",
       "[1293 rows x 16 columns]"
      ]
     },
     "execution_count": 64,
     "metadata": {},
     "output_type": "execute_result"
    }
   ],
   "source": [
    "df['TEST'] = pd.to_datetime(df['TEST']) \n",
    "df"
   ]
  },
  {
   "cell_type": "code",
   "execution_count": 67,
   "metadata": {},
   "outputs": [
    {
     "data": {
      "text/plain": [
       "[<matplotlib.lines.Line2D at 0x1d139e0e828>]"
      ]
     },
     "execution_count": 67,
     "metadata": {},
     "output_type": "execute_result"
    },
    {
     "data": {
      "image/png": "[encoded data removed]",
      "text/plain": [
       "<Figure size 1152x576 with 1 Axes>"
      ]
     },
     "metadata": {
      "needs_background": "light"
     },
     "output_type": "display_data"
    }
   ],
   "source": [
    "#setting index as date\n",
    "#df['TEST'] = pd.to_datetime(df.Date,format='%Y-%m-%d')\n",
    "df.index = df['TEST']\n",
    "\n",
    "#plot\n",
    "plt.figure(figsize=(16,8))\n",
    "plt.plot(df['Cerrar**'], label='Close Price history')"
   ]
  },
  {
   "cell_type": "code",
   "execution_count": null,
   "metadata": {},
   "outputs": [],
   "source": []
  },
  {
   "cell_type": "code",
   "execution_count": null,
   "metadata": {},
   "outputs": [],
   "source": []
  },
  {
   "cell_type": "code",
   "execution_count": 34,
   "metadata": {},
   "outputs": [
    {
     "data": {
      "text/html": [
       "<div>\n",
       "<style scoped>\n",
       "    .dataframe tbody tr th:only-of-type {\n",
       "        vertical-align: middle;\n",
       "    }\n",
       "\n",
       "    .dataframe tbody tr th {\n",
       "        vertical-align: top;\n",
       "    }\n",
       "\n",
       "    .dataframe thead th {\n",
       "        text-align: right;\n",
       "    }\n",
       "</style>\n",
       "<table border=\"1\" class=\"dataframe\">\n",
       "  <thead>\n",
       "    <tr style=\"text-align: right;\">\n",
       "      <th></th>\n",
       "      <th>Fecha</th>\n",
       "      <th>Abrir*</th>\n",
       "      <th>Elevar</th>\n",
       "      <th>Disminuir</th>\n",
       "      <th>Cerrar**</th>\n",
       "      <th>Volumen</th>\n",
       "      <th>Cap. de Mercado</th>\n",
       "      <th>Porcentaje Respecto al dia anterior en el abrir del mercado</th>\n",
       "      <th>Porcentaje de Volumen respecto al dia anterior</th>\n",
       "      <th>Porcentaje Cap. De Mercado respecto al día anterior</th>\n",
       "      <th>Ganancia</th>\n",
       "      <th>Dia_semana</th>\n",
       "      <th>Dia</th>\n",
       "      <th>Mes</th>\n",
       "      <th>Año</th>\n",
       "    </tr>\n",
       "  </thead>\n",
       "  <tbody>\n",
       "    <tr>\n",
       "      <th>0</th>\n",
       "      <td>Apr 16, 2021</td>\n",
       "      <td>1.48000</td>\n",
       "      <td>1.52000</td>\n",
       "      <td>1.34000</td>\n",
       "      <td>1.42000</td>\n",
       "      <td>5692183858</td>\n",
       "      <td>45269118282</td>\n",
       "      <td>2.068966</td>\n",
       "      <td>6.647961</td>\n",
       "      <td>-4.362822</td>\n",
       "      <td>0</td>\n",
       "      <td>Friday</td>\n",
       "      <td>16</td>\n",
       "      <td>4</td>\n",
       "      <td>2021</td>\n",
       "    </tr>\n",
       "    <tr>\n",
       "      <th>1</th>\n",
       "      <td>Apr 15, 2021</td>\n",
       "      <td>1.45000</td>\n",
       "      <td>1.49000</td>\n",
       "      <td>1.42000</td>\n",
       "      <td>1.48000</td>\n",
       "      <td>5337358369</td>\n",
       "      <td>47334226350</td>\n",
       "      <td>2.836879</td>\n",
       "      <td>-44.379965</td>\n",
       "      <td>1.797949</td>\n",
       "      <td>0</td>\n",
       "      <td>Thursday</td>\n",
       "      <td>15</td>\n",
       "      <td>4</td>\n",
       "      <td>2021</td>\n",
       "    </tr>\n",
       "    <tr>\n",
       "      <th>2</th>\n",
       "      <td>Apr 14, 2021</td>\n",
       "      <td>1.41000</td>\n",
       "      <td>1.56000</td>\n",
       "      <td>1.35000</td>\n",
       "      <td>1.46000</td>\n",
       "      <td>9596107541</td>\n",
       "      <td>46498212198</td>\n",
       "      <td>7.633588</td>\n",
       "      <td>62.741244</td>\n",
       "      <td>3.090693</td>\n",
       "      <td>1</td>\n",
       "      <td>Wednesday</td>\n",
       "      <td>14</td>\n",
       "      <td>4</td>\n",
       "      <td>2021</td>\n",
       "    </tr>\n",
       "    <tr>\n",
       "      <th>3</th>\n",
       "      <td>Apr 13, 2021</td>\n",
       "      <td>1.31000</td>\n",
       "      <td>1.44000</td>\n",
       "      <td>1.28000</td>\n",
       "      <td>1.41000</td>\n",
       "      <td>5896543066</td>\n",
       "      <td>45104180472</td>\n",
       "      <td>3.149606</td>\n",
       "      <td>19.891123</td>\n",
       "      <td>7.268233</td>\n",
       "      <td>0</td>\n",
       "      <td>Tuesday</td>\n",
       "      <td>13</td>\n",
       "      <td>4</td>\n",
       "      <td>2021</td>\n",
       "    </tr>\n",
       "    <tr>\n",
       "      <th>4</th>\n",
       "      <td>Apr 12, 2021</td>\n",
       "      <td>1.27000</td>\n",
       "      <td>1.35000</td>\n",
       "      <td>1.27000</td>\n",
       "      <td>1.32000</td>\n",
       "      <td>4918248258</td>\n",
       "      <td>42048031658</td>\n",
       "      <td>4.098361</td>\n",
       "      <td>35.236103</td>\n",
       "      <td>3.899182</td>\n",
       "      <td>1</td>\n",
       "      <td>Monday</td>\n",
       "      <td>12</td>\n",
       "      <td>4</td>\n",
       "      <td>2021</td>\n",
       "    </tr>\n",
       "    <tr>\n",
       "      <th>...</th>\n",
       "      <td>...</td>\n",
       "      <td>...</td>\n",
       "      <td>...</td>\n",
       "      <td>...</td>\n",
       "      <td>...</td>\n",
       "      <td>...</td>\n",
       "      <td>...</td>\n",
       "      <td>...</td>\n",
       "      <td>...</td>\n",
       "      <td>...</td>\n",
       "      <td>...</td>\n",
       "      <td>...</td>\n",
       "      <td>...</td>\n",
       "      <td>...</td>\n",
       "      <td>...</td>\n",
       "    </tr>\n",
       "    <tr>\n",
       "      <th>1288</th>\n",
       "      <td>Oct 06, 2017</td>\n",
       "      <td>0.02136</td>\n",
       "      <td>0.02154</td>\n",
       "      <td>0.01836</td>\n",
       "      <td>0.01854</td>\n",
       "      <td>7780710</td>\n",
       "      <td>480664553</td>\n",
       "      <td>-2.687927</td>\n",
       "      <td>39.877681</td>\n",
       "      <td>-13.726284</td>\n",
       "      <td>0</td>\n",
       "      <td>Friday</td>\n",
       "      <td>6</td>\n",
       "      <td>10</td>\n",
       "      <td>2017</td>\n",
       "    </tr>\n",
       "    <tr>\n",
       "      <th>1289</th>\n",
       "      <td>Oct 05, 2017</td>\n",
       "      <td>0.02195</td>\n",
       "      <td>0.02215</td>\n",
       "      <td>0.02086</td>\n",
       "      <td>0.02149</td>\n",
       "      <td>5562510</td>\n",
       "      <td>557139041</td>\n",
       "      <td>5.225312</td>\n",
       "      <td>-38.194677</td>\n",
       "      <td>-2.019014</td>\n",
       "      <td>1</td>\n",
       "      <td>Thursday</td>\n",
       "      <td>5</td>\n",
       "      <td>10</td>\n",
       "      <td>2017</td>\n",
       "    </tr>\n",
       "    <tr>\n",
       "      <th>1290</th>\n",
       "      <td>Oct 04, 2017</td>\n",
       "      <td>0.02086</td>\n",
       "      <td>0.02281</td>\n",
       "      <td>0.02086</td>\n",
       "      <td>0.02193</td>\n",
       "      <td>9000050</td>\n",
       "      <td>568619548</td>\n",
       "      <td>-19.021739</td>\n",
       "      <td>-47.051677</td>\n",
       "      <td>5.359871</td>\n",
       "      <td>0</td>\n",
       "      <td>Wednesday</td>\n",
       "      <td>4</td>\n",
       "      <td>10</td>\n",
       "      <td>2017</td>\n",
       "    </tr>\n",
       "    <tr>\n",
       "      <th>1291</th>\n",
       "      <td>Oct 03, 2017</td>\n",
       "      <td>0.02576</td>\n",
       "      <td>0.02743</td>\n",
       "      <td>0.02069</td>\n",
       "      <td>0.02082</td>\n",
       "      <td>16997800</td>\n",
       "      <td>539692715</td>\n",
       "      <td>4.672897</td>\n",
       "      <td>-70.511075</td>\n",
       "      <td>-14.184524</td>\n",
       "      <td>1</td>\n",
       "      <td>Tuesday</td>\n",
       "      <td>3</td>\n",
       "      <td>10</td>\n",
       "      <td>2017</td>\n",
       "    </tr>\n",
       "    <tr>\n",
       "      <th>1292</th>\n",
       "      <td>Oct 02, 2017</td>\n",
       "      <td>0.02461</td>\n",
       "      <td>0.03009</td>\n",
       "      <td>0.01997</td>\n",
       "      <td>0.02593</td>\n",
       "      <td>57641300</td>\n",
       "      <td>628899052</td>\n",
       "      <td>0.000000</td>\n",
       "      <td>0.000000</td>\n",
       "      <td>0.000000</td>\n",
       "      <td>1</td>\n",
       "      <td>Monday</td>\n",
       "      <td>2</td>\n",
       "      <td>10</td>\n",
       "      <td>2017</td>\n",
       "    </tr>\n",
       "  </tbody>\n",
       "</table>\n",
       "<p>1293 rows × 15 columns</p>\n",
       "</div>"
      ],
      "text/plain": [
       "             Fecha   Abrir*   Elevar  Disminuir  Cerrar**     Volumen  \\\n",
       "0     Apr 16, 2021  1.48000  1.52000    1.34000   1.42000  5692183858   \n",
       "1     Apr 15, 2021  1.45000  1.49000    1.42000   1.48000  5337358369   \n",
       "2     Apr 14, 2021  1.41000  1.56000    1.35000   1.46000  9596107541   \n",
       "3     Apr 13, 2021  1.31000  1.44000    1.28000   1.41000  5896543066   \n",
       "4     Apr 12, 2021  1.27000  1.35000    1.27000   1.32000  4918248258   \n",
       "...            ...      ...      ...        ...       ...         ...   \n",
       "1288  Oct 06, 2017  0.02136  0.02154    0.01836   0.01854     7780710   \n",
       "1289  Oct 05, 2017  0.02195  0.02215    0.02086   0.02149     5562510   \n",
       "1290  Oct 04, 2017  0.02086  0.02281    0.02086   0.02193     9000050   \n",
       "1291  Oct 03, 2017  0.02576  0.02743    0.02069   0.02082    16997800   \n",
       "1292  Oct 02, 2017  0.02461  0.03009    0.01997   0.02593    57641300   \n",
       "\n",
       "      Cap. de Mercado  \\\n",
       "0         45269118282   \n",
       "1         47334226350   \n",
       "2         46498212198   \n",
       "3         45104180472   \n",
       "4         42048031658   \n",
       "...               ...   \n",
       "1288        480664553   \n",
       "1289        557139041   \n",
       "1290        568619548   \n",
       "1291        539692715   \n",
       "1292        628899052   \n",
       "\n",
       "      Porcentaje Respecto al dia anterior en el abrir del mercado  \\\n",
       "0                                              2.068966             \n",
       "1                                              2.836879             \n",
       "2                                              7.633588             \n",
       "3                                              3.149606             \n",
       "4                                              4.098361             \n",
       "...                                                 ...             \n",
       "1288                                          -2.687927             \n",
       "1289                                           5.225312             \n",
       "1290                                         -19.021739             \n",
       "1291                                           4.672897             \n",
       "1292                                           0.000000             \n",
       "\n",
       "      Porcentaje de Volumen respecto al dia anterior  \\\n",
       "0                                           6.647961   \n",
       "1                                         -44.379965   \n",
       "2                                          62.741244   \n",
       "3                                          19.891123   \n",
       "4                                          35.236103   \n",
       "...                                              ...   \n",
       "1288                                       39.877681   \n",
       "1289                                      -38.194677   \n",
       "1290                                      -47.051677   \n",
       "1291                                      -70.511075   \n",
       "1292                                        0.000000   \n",
       "\n",
       "      Porcentaje Cap. De Mercado respecto al día anterior  Ganancia  \\\n",
       "0                                             -4.362822           0   \n",
       "1                                              1.797949           0   \n",
       "2                                              3.090693           1   \n",
       "3                                              7.268233           0   \n",
       "4                                              3.899182           1   \n",
       "...                                                 ...         ...   \n",
       "1288                                         -13.726284           0   \n",
       "1289                                          -2.019014           1   \n",
       "1290                                           5.359871           0   \n",
       "1291                                         -14.184524           1   \n",
       "1292                                           0.000000           1   \n",
       "\n",
       "     Dia_semana  Dia  Mes   Año  \n",
       "0        Friday   16    4  2021  \n",
       "1      Thursday   15    4  2021  \n",
       "2     Wednesday   14    4  2021  \n",
       "3       Tuesday   13    4  2021  \n",
       "4        Monday   12    4  2021  \n",
       "...         ...  ...  ...   ...  \n",
       "1288     Friday    6   10  2017  \n",
       "1289   Thursday    5   10  2017  \n",
       "1290  Wednesday    4   10  2017  \n",
       "1291    Tuesday    3   10  2017  \n",
       "1292     Monday    2   10  2017  \n",
       "\n",
       "[1293 rows x 15 columns]"
      ]
     },
     "execution_count": 34,
     "metadata": {},
     "output_type": "execute_result"
    }
   ],
   "source": [
    "#Cambio los valores de la salida de ganancia por numericos\n",
    "dictionaries = []\n",
    "\n",
    "for columna in ['Ganancia']:\n",
    "    datos[columna], uniques = pd.factorize(datos[columna])\n",
    "    values = list(range(len(uniques)))\n",
    "    dictionaries.append(dict(zip(values, uniques)))\n",
    "datos"
   ]
  },
  {
   "cell_type": "code",
   "execution_count": 35,
   "metadata": {},
   "outputs": [
    {
     "data": {
      "application/vnd.plotly.v1+json": {
       "config": {
        "plotlyServerURL": "https://plot.ly"
       },
       "data": [
        {
         "coloraxis": "coloraxis",
         "hovertemplate": "x: %{x}<br>y: %{y}<br>color: %{z}<extra></extra>",
         "name": "0",
         "type": "heatmap",
         "x": [
          "Dia",
          "Mes",
          "Año"
         ],
         "xaxis": "x",
         "y": [
          "Dia",
          "Mes",
          "Año"
         ],
         "yaxis": "y",
         "z": [
          [
           1,
           0.019420740798457504,
           -0.024366907151990278
          ],
          [
           0.019420740798457504,
           1,
           -0.3382670234325949
          ],
          [
           -0.024366907151990278,
           -0.3382670234325949,
           1
          ]
         ]
        }
       ],
       "layout": {
        "coloraxis": {
         "colorscale": [
          [
           0,
           "#0d0887"
          ],
          [
           0.1111111111111111,
           "#46039f"
          ],
          [
           0.2222222222222222,
           "#7201a8"
          ],
          [
           0.3333333333333333,
           "#9c179e"
          ],
          [
           0.4444444444444444,
           "#bd3786"
          ],
          [
           0.5555555555555556,
           "#d8576b"
          ],
          [
           0.6666666666666666,
           "#ed7953"
          ],
          [
           0.7777777777777778,
           "#fb9f3a"
          ],
          [
           0.8888888888888888,
           "#fdca26"
          ],
          [
           1,
           "#f0f921"
          ]
         ]
        },
        "height": 250,
        "template": {
         "data": {
          "bar": [
           {
            "error_x": {
             "color": "#2a3f5f"
            },
            "error_y": {
             "color": "#2a3f5f"
            },
            "marker": {
             "line": {
              "color": "#E5ECF6",
              "width": 0.5
             }
            },
            "type": "bar"
           }
          ],
          "barpolar": [
           {
            "marker": {
             "line": {
              "color": "#E5ECF6",
              "width": 0.5
             }
            },
            "type": "barpolar"
           }
          ],
          "carpet": [
           {
            "aaxis": {
             "endlinecolor": "#2a3f5f",
             "gridcolor": "white",
             "linecolor": "white",
             "minorgridcolor": "white",
             "startlinecolor": "#2a3f5f"
            },
            "baxis": {
             "endlinecolor": "#2a3f5f",
             "gridcolor": "white",
             "linecolor": "white",
             "minorgridcolor": "white",
             "startlinecolor": "#2a3f5f"
            },
            "type": "carpet"
           }
          ],
          "choropleth": [
           {
            "colorbar": {
             "outlinewidth": 0,
             "ticks": ""
            },
            "type": "choropleth"
           }
          ],
          "contour": [
           {
            "colorbar": {
             "outlinewidth": 0,
             "ticks": ""
            },
            "colorscale": [
             [
              0,
              "#0d0887"
             ],
             [
              0.1111111111111111,
              "#46039f"
             ],
             [
              0.2222222222222222,
              "#7201a8"
             ],
             [
              0.3333333333333333,
              "#9c179e"
             ],
             [
              0.4444444444444444,
              "#bd3786"
             ],
             [
              0.5555555555555556,
              "#d8576b"
             ],
             [
              0.6666666666666666,
              "#ed7953"
             ],
             [
              0.7777777777777778,
              "#fb9f3a"
             ],
             [
              0.8888888888888888,
              "#fdca26"
             ],
             [
              1,
              "#f0f921"
             ]
            ],
            "type": "contour"
           }
          ],
          "contourcarpet": [
           {
            "colorbar": {
             "outlinewidth": 0,
             "ticks": ""
            },
            "type": "contourcarpet"
           }
          ],
          "heatmap": [
           {
            "colorbar": {
             "outlinewidth": 0,
             "ticks": ""
            },
            "colorscale": [
             [
              0,
              "#0d0887"
             ],
             [
              0.1111111111111111,
              "#46039f"
             ],
             [
              0.2222222222222222,
              "#7201a8"
             ],
             [
              0.3333333333333333,
              "#9c179e"
             ],
             [
              0.4444444444444444,
              "#bd3786"
             ],
             [
              0.5555555555555556,
              "#d8576b"
             ],
             [
              0.6666666666666666,
              "#ed7953"
             ],
             [
              0.7777777777777778,
              "#fb9f3a"
             ],
             [
              0.8888888888888888,
              "#fdca26"
             ],
             [
              1,
              "#f0f921"
             ]
            ],
            "type": "heatmap"
           }
          ],
          "heatmapgl": [
           {
            "colorbar": {
             "outlinewidth": 0,
             "ticks": ""
            },
            "colorscale": [
             [
              0,
              "#0d0887"
             ],
             [
              0.1111111111111111,
              "#46039f"
             ],
             [
              0.2222222222222222,
              "#7201a8"
             ],
             [
              0.3333333333333333,
              "#9c179e"
             ],
             [
              0.4444444444444444,
              "#bd3786"
             ],
             [
              0.5555555555555556,
              "#d8576b"
             ],
             [
              0.6666666666666666,
              "#ed7953"
             ],
             [
              0.7777777777777778,
              "#fb9f3a"
             ],
             [
              0.8888888888888888,
              "#fdca26"
             ],
             [
              1,
              "#f0f921"
             ]
            ],
            "type": "heatmapgl"
           }
          ],
          "histogram": [
           {
            "marker": {
             "colorbar": {
              "outlinewidth": 0,
              "ticks": ""
             }
            },
            "type": "histogram"
           }
          ],
          "histogram2d": [
           {
            "colorbar": {
             "outlinewidth": 0,
             "ticks": ""
            },
            "colorscale": [
             [
              0,
              "#0d0887"
             ],
             [
              0.1111111111111111,
              "#46039f"
             ],
             [
              0.2222222222222222,
              "#7201a8"
             ],
             [
              0.3333333333333333,
              "#9c179e"
             ],
             [
              0.4444444444444444,
              "#bd3786"
             ],
             [
              0.5555555555555556,
              "#d8576b"
             ],
             [
              0.6666666666666666,
              "#ed7953"
             ],
             [
              0.7777777777777778,
              "#fb9f3a"
             ],
             [
              0.8888888888888888,
              "#fdca26"
             ],
             [
              1,
              "#f0f921"
             ]
            ],
            "type": "histogram2d"
           }
          ],
          "histogram2dcontour": [
           {
            "colorbar": {
             "outlinewidth": 0,
             "ticks": ""
            },
            "colorscale": [
             [
              0,
              "#0d0887"
             ],
             [
              0.1111111111111111,
              "#46039f"
             ],
             [
              0.2222222222222222,
              "#7201a8"
             ],
             [
              0.3333333333333333,
              "#9c179e"
             ],
             [
              0.4444444444444444,
              "#bd3786"
             ],
             [
              0.5555555555555556,
              "#d8576b"
             ],
             [
              0.6666666666666666,
              "#ed7953"
             ],
             [
              0.7777777777777778,
              "#fb9f3a"
             ],
             [
              0.8888888888888888,
              "#fdca26"
             ],
             [
              1,
              "#f0f921"
             ]
            ],
            "type": "histogram2dcontour"
           }
          ],
          "mesh3d": [
           {
            "colorbar": {
             "outlinewidth": 0,
             "ticks": ""
            },
            "type": "mesh3d"
           }
          ],
          "parcoords": [
           {
            "line": {
             "colorbar": {
              "outlinewidth": 0,
              "ticks": ""
             }
            },
            "type": "parcoords"
           }
          ],
          "pie": [
           {
            "automargin": true,
            "type": "pie"
           }
          ],
          "scatter": [
           {
            "marker": {
             "colorbar": {
              "outlinewidth": 0,
              "ticks": ""
             }
            },
            "type": "scatter"
           }
          ],
          "scatter3d": [
           {
            "line": {
             "colorbar": {
              "outlinewidth": 0,
              "ticks": ""
             }
            },
            "marker": {
             "colorbar": {
              "outlinewidth": 0,
              "ticks": ""
             }
            },
            "type": "scatter3d"
           }
          ],
          "scattercarpet": [
           {
            "marker": {
             "colorbar": {
              "outlinewidth": 0,
              "ticks": ""
             }
            },
            "type": "scattercarpet"
           }
          ],
          "scattergeo": [
           {
            "marker": {
             "colorbar": {
              "outlinewidth": 0,
              "ticks": ""
             }
            },
            "type": "scattergeo"
           }
          ],
          "scattergl": [
           {
            "marker": {
             "colorbar": {
              "outlinewidth": 0,
              "ticks": ""
             }
            },
            "type": "scattergl"
           }
          ],
          "scattermapbox": [
           {
            "marker": {
             "colorbar": {
              "outlinewidth": 0,
              "ticks": ""
             }
            },
            "type": "scattermapbox"
           }
          ],
          "scatterpolar": [
           {
            "marker": {
             "colorbar": {
              "outlinewidth": 0,
              "ticks": ""
             }
            },
            "type": "scatterpolar"
           }
          ],
          "scatterpolargl": [
           {
            "marker": {
             "colorbar": {
              "outlinewidth": 0,
              "ticks": ""
             }
            },
            "type": "scatterpolargl"
           }
          ],
          "scatterternary": [
           {
            "marker": {
             "colorbar": {
              "outlinewidth": 0,
              "ticks": ""
             }
            },
            "type": "scatterternary"
           }
          ],
          "surface": [
           {
            "colorbar": {
             "outlinewidth": 0,
             "ticks": ""
            },
            "colorscale": [
             [
              0,
              "#0d0887"
             ],
             [
              0.1111111111111111,
              "#46039f"
             ],
             [
              0.2222222222222222,
              "#7201a8"
             ],
             [
              0.3333333333333333,
              "#9c179e"
             ],
             [
              0.4444444444444444,
              "#bd3786"
             ],
             [
              0.5555555555555556,
              "#d8576b"
             ],
             [
              0.6666666666666666,
              "#ed7953"
             ],
             [
              0.7777777777777778,
              "#fb9f3a"
             ],
             [
              0.8888888888888888,
              "#fdca26"
             ],
             [
              1,
              "#f0f921"
             ]
            ],
            "type": "surface"
           }
          ],
          "table": [
           {
            "cells": {
             "fill": {
              "color": "#EBF0F8"
             },
             "line": {
              "color": "white"
             }
            },
            "header": {
             "fill": {
              "color": "#C8D4E3"
             },
             "line": {
              "color": "white"
             }
            },
            "type": "table"
           }
          ]
         },
         "layout": {
          "annotationdefaults": {
           "arrowcolor": "#2a3f5f",
           "arrowhead": 0,
           "arrowwidth": 1
          },
          "autotypenumbers": "strict",
          "coloraxis": {
           "colorbar": {
            "outlinewidth": 0,
            "ticks": ""
           }
          },
          "colorscale": {
           "diverging": [
            [
             0,
             "#8e0152"
            ],
            [
             0.1,
             "#c51b7d"
            ],
            [
             0.2,
             "#de77ae"
            ],
            [
             0.3,
             "#f1b6da"
            ],
            [
             0.4,
             "#fde0ef"
            ],
            [
             0.5,
             "#f7f7f7"
            ],
            [
             0.6,
             "#e6f5d0"
            ],
            [
             0.7,
             "#b8e186"
            ],
            [
             0.8,
             "#7fbc41"
            ],
            [
             0.9,
             "#4d9221"
            ],
            [
             1,
             "#276419"
            ]
           ],
           "sequential": [
            [
             0,
             "#0d0887"
            ],
            [
             0.1111111111111111,
             "#46039f"
            ],
            [
             0.2222222222222222,
             "#7201a8"
            ],
            [
             0.3333333333333333,
             "#9c179e"
            ],
            [
             0.4444444444444444,
             "#bd3786"
            ],
            [
             0.5555555555555556,
             "#d8576b"
            ],
            [
             0.6666666666666666,
             "#ed7953"
            ],
            [
             0.7777777777777778,
             "#fb9f3a"
            ],
            [
             0.8888888888888888,
             "#fdca26"
            ],
            [
             1,
             "#f0f921"
            ]
           ],
           "sequentialminus": [
            [
             0,
             "#0d0887"
            ],
            [
             0.1111111111111111,
             "#46039f"
            ],
            [
             0.2222222222222222,
             "#7201a8"
            ],
            [
             0.3333333333333333,
             "#9c179e"
            ],
            [
             0.4444444444444444,
             "#bd3786"
            ],
            [
             0.5555555555555556,
             "#d8576b"
            ],
            [
             0.6666666666666666,
             "#ed7953"
            ],
            [
             0.7777777777777778,
             "#fb9f3a"
            ],
            [
             0.8888888888888888,
             "#fdca26"
            ],
            [
             1,
             "#f0f921"
            ]
           ]
          },
          "colorway": [
           "#636efa",
           "#EF553B",
           "#00cc96",
           "#ab63fa",
           "#FFA15A",
           "#19d3f3",
           "#FF6692",
           "#B6E880",
           "#FF97FF",
           "#FECB52"
          ],
          "font": {
           "color": "#2a3f5f"
          },
          "geo": {
           "bgcolor": "white",
           "lakecolor": "white",
           "landcolor": "#E5ECF6",
           "showlakes": true,
           "showland": true,
           "subunitcolor": "white"
          },
          "hoverlabel": {
           "align": "left"
          },
          "hovermode": "closest",
          "mapbox": {
           "style": "light"
          },
          "paper_bgcolor": "white",
          "plot_bgcolor": "#E5ECF6",
          "polar": {
           "angularaxis": {
            "gridcolor": "white",
            "linecolor": "white",
            "ticks": ""
           },
           "bgcolor": "#E5ECF6",
           "radialaxis": {
            "gridcolor": "white",
            "linecolor": "white",
            "ticks": ""
           }
          },
          "scene": {
           "xaxis": {
            "backgroundcolor": "#E5ECF6",
            "gridcolor": "white",
            "gridwidth": 2,
            "linecolor": "white",
            "showbackground": true,
            "ticks": "",
            "zerolinecolor": "white"
           },
           "yaxis": {
            "backgroundcolor": "#E5ECF6",
            "gridcolor": "white",
            "gridwidth": 2,
            "linecolor": "white",
            "showbackground": true,
            "ticks": "",
            "zerolinecolor": "white"
           },
           "zaxis": {
            "backgroundcolor": "#E5ECF6",
            "gridcolor": "white",
            "gridwidth": 2,
            "linecolor": "white",
            "showbackground": true,
            "ticks": "",
            "zerolinecolor": "white"
           }
          },
          "shapedefaults": {
           "line": {
            "color": "#2a3f5f"
           }
          },
          "ternary": {
           "aaxis": {
            "gridcolor": "white",
            "linecolor": "white",
            "ticks": ""
           },
           "baxis": {
            "gridcolor": "white",
            "linecolor": "white",
            "ticks": ""
           },
           "bgcolor": "#E5ECF6",
           "caxis": {
            "gridcolor": "white",
            "linecolor": "white",
            "ticks": ""
           }
          },
          "title": {
           "x": 0.05
          },
          "xaxis": {
           "automargin": true,
           "gridcolor": "white",
           "linecolor": "white",
           "ticks": "",
           "title": {
            "standoff": 15
           },
           "zerolinecolor": "white",
           "zerolinewidth": 2
          },
          "yaxis": {
           "automargin": true,
           "gridcolor": "white",
           "linecolor": "white",
           "ticks": "",
           "title": {
            "standoff": 15
           },
           "zerolinecolor": "white",
           "zerolinewidth": 2
          }
         }
        },
        "title": {
         "text": "Correlacion entre dias, meses y años"
        },
        "width": 250,
        "xaxis": {
         "anchor": "y",
         "constrain": "domain",
         "domain": [
          0,
          1
         ],
         "scaleanchor": "y"
        },
        "yaxis": {
         "anchor": "x",
         "autorange": "reversed",
         "constrain": "domain",
         "domain": [
          0,
          1
         ]
        }
       }
      },
      "text/html": [
       "<div>                            <div id=\"aaffc28f-f8de-4704-bd22-d48c0d23112b\" class=\"plotly-graph-div\" style=\"height:250px; width:250px;\"></div>            <script type=\"text/javascript\">                require([\"plotly\"], function(Plotly) {                    window.PLOTLYENV=window.PLOTLYENV || {};                                    if (document.getElementById(\"aaffc28f-f8de-4704-bd22-d48c0d23112b\")) {                    Plotly.newPlot(                        \"aaffc28f-f8de-4704-bd22-d48c0d23112b\",                        [{\"coloraxis\": \"coloraxis\", \"hovertemplate\": \"x: %{x}<br>y: %{y}<br>color: %{z}<extra></extra>\", \"name\": \"0\", \"type\": \"heatmap\", \"x\": [\"Dia\", \"Mes\", \"A\\u00f1o\"], \"xaxis\": \"x\", \"y\": [\"Dia\", \"Mes\", \"A\\u00f1o\"], \"yaxis\": \"y\", \"z\": [[1.0, 0.019420740798457504, -0.024366907151990278], [0.019420740798457504, 1.0, -0.3382670234325949], [-0.024366907151990278, -0.3382670234325949, 1.0]]}],                        {\"coloraxis\": {\"colorscale\": [[0.0, \"#0d0887\"], [0.1111111111111111, \"#46039f\"], [0.2222222222222222, \"#7201a8\"], [0.3333333333333333, \"#9c179e\"], [0.4444444444444444, \"#bd3786\"], [0.5555555555555556, \"#d8576b\"], [0.6666666666666666, \"#ed7953\"], [0.7777777777777778, \"#fb9f3a\"], [0.8888888888888888, \"#fdca26\"], [1.0, \"#f0f921\"]]}, \"height\": 250, \"template\": {\"data\": {\"bar\": [{\"error_x\": {\"color\": \"#2a3f5f\"}, \"error_y\": {\"color\": \"#2a3f5f\"}, \"marker\": {\"line\": {\"color\": \"#E5ECF6\", \"width\": 0.5}}, \"type\": \"bar\"}], \"barpolar\": [{\"marker\": {\"line\": {\"color\": \"#E5ECF6\", \"width\": 0.5}}, \"type\": \"barpolar\"}], \"carpet\": [{\"aaxis\": {\"endlinecolor\": \"#2a3f5f\", \"gridcolor\": \"white\", \"linecolor\": \"white\", \"minorgridcolor\": \"white\", \"startlinecolor\": \"#2a3f5f\"}, \"baxis\": {\"endlinecolor\": \"#2a3f5f\", \"gridcolor\": \"white\", \"linecolor\": \"white\", \"minorgridcolor\": \"white\", \"startlinecolor\": \"#2a3f5f\"}, \"type\": \"carpet\"}], \"choropleth\": [{\"colorbar\": {\"outlinewidth\": 0, \"ticks\": \"\"}, \"type\": \"choropleth\"}], \"contour\": [{\"colorbar\": {\"outlinewidth\": 0, \"ticks\": \"\"}, \"colorscale\": [[0.0, \"#0d0887\"], [0.1111111111111111, \"#46039f\"], [0.2222222222222222, \"#7201a8\"], [0.3333333333333333, \"#9c179e\"], [0.4444444444444444, \"#bd3786\"], [0.5555555555555556, \"#d8576b\"], [0.6666666666666666, \"#ed7953\"], [0.7777777777777778, \"#fb9f3a\"], [0.8888888888888888, \"#fdca26\"], [1.0, \"#f0f921\"]], \"type\": \"contour\"}], \"contourcarpet\": [{\"colorbar\": {\"outlinewidth\": 0, \"ticks\": \"\"}, \"type\": \"contourcarpet\"}], \"heatmap\": [{\"colorbar\": {\"outlinewidth\": 0, \"ticks\": \"\"}, \"colorscale\": [[0.0, \"#0d0887\"], [0.1111111111111111, \"#46039f\"], [0.2222222222222222, \"#7201a8\"], [0.3333333333333333, \"#9c179e\"], [0.4444444444444444, \"#bd3786\"], [0.5555555555555556, \"#d8576b\"], [0.6666666666666666, \"#ed7953\"], [0.7777777777777778, \"#fb9f3a\"], [0.8888888888888888, \"#fdca26\"], [1.0, \"#f0f921\"]], \"type\": \"heatmap\"}], \"heatmapgl\": [{\"colorbar\": {\"outlinewidth\": 0, \"ticks\": \"\"}, \"colorscale\": [[0.0, \"#0d0887\"], [0.1111111111111111, \"#46039f\"], [0.2222222222222222, \"#7201a8\"], [0.3333333333333333, \"#9c179e\"], [0.4444444444444444, \"#bd3786\"], [0.5555555555555556, \"#d8576b\"], [0.6666666666666666, \"#ed7953\"], [0.7777777777777778, \"#fb9f3a\"], [0.8888888888888888, \"#fdca26\"], [1.0, \"#f0f921\"]], \"type\": \"heatmapgl\"}], \"histogram\": [{\"marker\": {\"colorbar\": {\"outlinewidth\": 0, \"ticks\": \"\"}}, \"type\": \"histogram\"}], \"histogram2d\": [{\"colorbar\": {\"outlinewidth\": 0, \"ticks\": \"\"}, \"colorscale\": [[0.0, \"#0d0887\"], [0.1111111111111111, \"#46039f\"], [0.2222222222222222, \"#7201a8\"], [0.3333333333333333, \"#9c179e\"], [0.4444444444444444, \"#bd3786\"], [0.5555555555555556, \"#d8576b\"], [0.6666666666666666, \"#ed7953\"], [0.7777777777777778, \"#fb9f3a\"], [0.8888888888888888, \"#fdca26\"], [1.0, \"#f0f921\"]], \"type\": \"histogram2d\"}], \"histogram2dcontour\": [{\"colorbar\": {\"outlinewidth\": 0, \"ticks\": \"\"}, \"colorscale\": [[0.0, \"#0d0887\"], [0.1111111111111111, \"#46039f\"], [0.2222222222222222, \"#7201a8\"], [0.3333333333333333, \"#9c179e\"], [0.4444444444444444, \"#bd3786\"], [0.5555555555555556, \"#d8576b\"], [0.6666666666666666, \"#ed7953\"], [0.7777777777777778, \"#fb9f3a\"], [0.8888888888888888, \"#fdca26\"], [1.0, \"#f0f921\"]], \"type\": \"histogram2dcontour\"}], \"mesh3d\": [{\"colorbar\": {\"outlinewidth\": 0, \"ticks\": \"\"}, \"type\": \"mesh3d\"}], \"parcoords\": [{\"line\": {\"colorbar\": {\"outlinewidth\": 0, \"ticks\": \"\"}}, \"type\": \"parcoords\"}], \"pie\": [{\"automargin\": true, \"type\": \"pie\"}], \"scatter\": [{\"marker\": {\"colorbar\": {\"outlinewidth\": 0, \"ticks\": \"\"}}, \"type\": \"scatter\"}], \"scatter3d\": [{\"line\": {\"colorbar\": {\"outlinewidth\": 0, \"ticks\": \"\"}}, \"marker\": {\"colorbar\": {\"outlinewidth\": 0, \"ticks\": \"\"}}, \"type\": \"scatter3d\"}], \"scattercarpet\": [{\"marker\": {\"colorbar\": {\"outlinewidth\": 0, \"ticks\": \"\"}}, \"type\": \"scattercarpet\"}], \"scattergeo\": [{\"marker\": {\"colorbar\": {\"outlinewidth\": 0, \"ticks\": \"\"}}, \"type\": \"scattergeo\"}], \"scattergl\": [{\"marker\": {\"colorbar\": {\"outlinewidth\": 0, \"ticks\": \"\"}}, \"type\": \"scattergl\"}], \"scattermapbox\": [{\"marker\": {\"colorbar\": {\"outlinewidth\": 0, \"ticks\": \"\"}}, \"type\": \"scattermapbox\"}], \"scatterpolar\": [{\"marker\": {\"colorbar\": {\"outlinewidth\": 0, \"ticks\": \"\"}}, \"type\": \"scatterpolar\"}], \"scatterpolargl\": [{\"marker\": {\"colorbar\": {\"outlinewidth\": 0, \"ticks\": \"\"}}, \"type\": \"scatterpolargl\"}], \"scatterternary\": [{\"marker\": {\"colorbar\": {\"outlinewidth\": 0, \"ticks\": \"\"}}, \"type\": \"scatterternary\"}], \"surface\": [{\"colorbar\": {\"outlinewidth\": 0, \"ticks\": \"\"}, \"colorscale\": [[0.0, \"#0d0887\"], [0.1111111111111111, \"#46039f\"], [0.2222222222222222, \"#7201a8\"], [0.3333333333333333, \"#9c179e\"], [0.4444444444444444, \"#bd3786\"], [0.5555555555555556, \"#d8576b\"], [0.6666666666666666, \"#ed7953\"], [0.7777777777777778, \"#fb9f3a\"], [0.8888888888888888, \"#fdca26\"], [1.0, \"#f0f921\"]], \"type\": \"surface\"}], \"table\": [{\"cells\": {\"fill\": {\"color\": \"#EBF0F8\"}, \"line\": {\"color\": \"white\"}}, \"header\": {\"fill\": {\"color\": \"#C8D4E3\"}, \"line\": {\"color\": \"white\"}}, \"type\": \"table\"}]}, \"layout\": {\"annotationdefaults\": {\"arrowcolor\": \"#2a3f5f\", \"arrowhead\": 0, \"arrowwidth\": 1}, \"autotypenumbers\": \"strict\", \"coloraxis\": {\"colorbar\": {\"outlinewidth\": 0, \"ticks\": \"\"}}, \"colorscale\": {\"diverging\": [[0, \"#8e0152\"], [0.1, \"#c51b7d\"], [0.2, \"#de77ae\"], [0.3, \"#f1b6da\"], [0.4, \"#fde0ef\"], [0.5, \"#f7f7f7\"], [0.6, \"#e6f5d0\"], [0.7, \"#b8e186\"], [0.8, \"#7fbc41\"], [0.9, \"#4d9221\"], [1, \"#276419\"]], \"sequential\": [[0.0, \"#0d0887\"], [0.1111111111111111, \"#46039f\"], [0.2222222222222222, \"#7201a8\"], [0.3333333333333333, \"#9c179e\"], [0.4444444444444444, \"#bd3786\"], [0.5555555555555556, \"#d8576b\"], [0.6666666666666666, \"#ed7953\"], [0.7777777777777778, \"#fb9f3a\"], [0.8888888888888888, \"#fdca26\"], [1.0, \"#f0f921\"]], \"sequentialminus\": [[0.0, \"#0d0887\"], [0.1111111111111111, \"#46039f\"], [0.2222222222222222, \"#7201a8\"], [0.3333333333333333, \"#9c179e\"], [0.4444444444444444, \"#bd3786\"], [0.5555555555555556, \"#d8576b\"], [0.6666666666666666, \"#ed7953\"], [0.7777777777777778, \"#fb9f3a\"], [0.8888888888888888, \"#fdca26\"], [1.0, \"#f0f921\"]]}, \"colorway\": [\"#636efa\", \"#EF553B\", \"#00cc96\", \"#ab63fa\", \"#FFA15A\", \"#19d3f3\", \"#FF6692\", \"#B6E880\", \"#FF97FF\", \"#FECB52\"], \"font\": {\"color\": \"#2a3f5f\"}, \"geo\": {\"bgcolor\": \"white\", \"lakecolor\": \"white\", \"landcolor\": \"#E5ECF6\", \"showlakes\": true, \"showland\": true, \"subunitcolor\": \"white\"}, \"hoverlabel\": {\"align\": \"left\"}, \"hovermode\": \"closest\", \"mapbox\": {\"style\": \"light\"}, \"paper_bgcolor\": \"white\", \"plot_bgcolor\": \"#E5ECF6\", \"polar\": {\"angularaxis\": {\"gridcolor\": \"white\", \"linecolor\": \"white\", \"ticks\": \"\"}, \"bgcolor\": \"#E5ECF6\", \"radialaxis\": {\"gridcolor\": \"white\", \"linecolor\": \"white\", \"ticks\": \"\"}}, \"scene\": {\"xaxis\": {\"backgroundcolor\": \"#E5ECF6\", \"gridcolor\": \"white\", \"gridwidth\": 2, \"linecolor\": \"white\", \"showbackground\": true, \"ticks\": \"\", \"zerolinecolor\": \"white\"}, \"yaxis\": {\"backgroundcolor\": \"#E5ECF6\", \"gridcolor\": \"white\", \"gridwidth\": 2, \"linecolor\": \"white\", \"showbackground\": true, \"ticks\": \"\", \"zerolinecolor\": \"white\"}, \"zaxis\": {\"backgroundcolor\": \"#E5ECF6\", \"gridcolor\": \"white\", \"gridwidth\": 2, \"linecolor\": \"white\", \"showbackground\": true, \"ticks\": \"\", \"zerolinecolor\": \"white\"}}, \"shapedefaults\": {\"line\": {\"color\": \"#2a3f5f\"}}, \"ternary\": {\"aaxis\": {\"gridcolor\": \"white\", \"linecolor\": \"white\", \"ticks\": \"\"}, \"baxis\": {\"gridcolor\": \"white\", \"linecolor\": \"white\", \"ticks\": \"\"}, \"bgcolor\": \"#E5ECF6\", \"caxis\": {\"gridcolor\": \"white\", \"linecolor\": \"white\", \"ticks\": \"\"}}, \"title\": {\"x\": 0.05}, \"xaxis\": {\"automargin\": true, \"gridcolor\": \"white\", \"linecolor\": \"white\", \"ticks\": \"\", \"title\": {\"standoff\": 15}, \"zerolinecolor\": \"white\", \"zerolinewidth\": 2}, \"yaxis\": {\"automargin\": true, \"gridcolor\": \"white\", \"linecolor\": \"white\", \"ticks\": \"\", \"title\": {\"standoff\": 15}, \"zerolinecolor\": \"white\", \"zerolinewidth\": 2}}}, \"title\": {\"text\": \"Correlacion entre dias, meses y a\\u00f1os\"}, \"width\": 250, \"xaxis\": {\"anchor\": \"y\", \"constrain\": \"domain\", \"domain\": [0.0, 1.0], \"scaleanchor\": \"y\"}, \"yaxis\": {\"anchor\": \"x\", \"autorange\": \"reversed\", \"constrain\": \"domain\", \"domain\": [0.0, 1.0]}},                        {\"responsive\": true}                    ).then(function(){\n",
       "                            \n",
       "var gd = document.getElementById('aaffc28f-f8de-4704-bd22-d48c0d23112b');\n",
       "var x = new MutationObserver(function (mutations, observer) {{\n",
       "        var display = window.getComputedStyle(gd).display;\n",
       "        if (!display || display === 'none') {{\n",
       "            console.log([gd, 'removed!']);\n",
       "            Plotly.purge(gd);\n",
       "            observer.disconnect();\n",
       "        }}\n",
       "}});\n",
       "\n",
       "// Listen for the removal of the full notebook cells\n",
       "var notebookContainer = gd.closest('#notebook-container');\n",
       "if (notebookContainer) {{\n",
       "    x.observe(notebookContainer, {childList: true});\n",
       "}}\n",
       "\n",
       "// Listen for the clearing of the current output cell\n",
       "var outputEl = gd.closest('.output');\n",
       "if (outputEl) {{\n",
       "    x.observe(outputEl, {childList: true});\n",
       "}}\n",
       "\n",
       "                        })                };                });            </script>        </div>"
      ]
     },
     "metadata": {},
     "output_type": "display_data"
    }
   ],
   "source": [
    "Cor = df.iloc[:, [12,13,14]].corr()\n",
    "px.imshow(Cor,  width = 250, height = 250, \n",
    "          title = \"Correlacion entre dias, meses y años\")"
   ]
  },
  {
   "cell_type": "code",
   "execution_count": 36,
   "metadata": {},
   "outputs": [
    {
     "data": {
      "application/vnd.plotly.v1+json": {
       "config": {
        "plotlyServerURL": "https://plot.ly"
       },
       "data": [
        {
         "coloraxis": "coloraxis",
         "hovertemplate": "x: %{x}<br>y: %{y}<br>color: %{z}<extra></extra>",
         "name": "0",
         "type": "heatmap",
         "x": [
          "Abrir*",
          "Elevar",
          "Disminuir",
          "Cerrar**"
         ],
         "xaxis": "x",
         "y": [
          "Abrir*",
          "Elevar",
          "Disminuir",
          "Cerrar**"
         ],
         "yaxis": "y",
         "z": [
          [
           1,
           0.9964924340605232,
           0.9966811826773861,
           0.9954212293986564
          ],
          [
           0.9964924340605232,
           1,
           0.9946949346583204,
           0.998507681509752
          ],
          [
           0.9966811826773861,
           0.9946949346583204,
           1,
           0.9963290412252535
          ],
          [
           0.9954212293986564,
           0.998507681509752,
           0.9963290412252535,
           1
          ]
         ]
        }
       ],
       "layout": {
        "coloraxis": {
         "colorscale": [
          [
           0,
           "#0d0887"
          ],
          [
           0.1111111111111111,
           "#46039f"
          ],
          [
           0.2222222222222222,
           "#7201a8"
          ],
          [
           0.3333333333333333,
           "#9c179e"
          ],
          [
           0.4444444444444444,
           "#bd3786"
          ],
          [
           0.5555555555555556,
           "#d8576b"
          ],
          [
           0.6666666666666666,
           "#ed7953"
          ],
          [
           0.7777777777777778,
           "#fb9f3a"
          ],
          [
           0.8888888888888888,
           "#fdca26"
          ],
          [
           1,
           "#f0f921"
          ]
         ]
        },
        "height": 250,
        "margin": {
         "t": 60
        },
        "template": {
         "data": {
          "bar": [
           {
            "error_x": {
             "color": "#2a3f5f"
            },
            "error_y": {
             "color": "#2a3f5f"
            },
            "marker": {
             "line": {
              "color": "#E5ECF6",
              "width": 0.5
             }
            },
            "type": "bar"
           }
          ],
          "barpolar": [
           {
            "marker": {
             "line": {
              "color": "#E5ECF6",
              "width": 0.5
             }
            },
            "type": "barpolar"
           }
          ],
          "carpet": [
           {
            "aaxis": {
             "endlinecolor": "#2a3f5f",
             "gridcolor": "white",
             "linecolor": "white",
             "minorgridcolor": "white",
             "startlinecolor": "#2a3f5f"
            },
            "baxis": {
             "endlinecolor": "#2a3f5f",
             "gridcolor": "white",
             "linecolor": "white",
             "minorgridcolor": "white",
             "startlinecolor": "#2a3f5f"
            },
            "type": "carpet"
           }
          ],
          "choropleth": [
           {
            "colorbar": {
             "outlinewidth": 0,
             "ticks": ""
            },
            "type": "choropleth"
           }
          ],
          "contour": [
           {
            "colorbar": {
             "outlinewidth": 0,
             "ticks": ""
            },
            "colorscale": [
             [
              0,
              "#0d0887"
             ],
             [
              0.1111111111111111,
              "#46039f"
             ],
             [
              0.2222222222222222,
              "#7201a8"
             ],
             [
              0.3333333333333333,
              "#9c179e"
             ],
             [
              0.4444444444444444,
              "#bd3786"
             ],
             [
              0.5555555555555556,
              "#d8576b"
             ],
             [
              0.6666666666666666,
              "#ed7953"
             ],
             [
              0.7777777777777778,
              "#fb9f3a"
             ],
             [
              0.8888888888888888,
              "#fdca26"
             ],
             [
              1,
              "#f0f921"
             ]
            ],
            "type": "contour"
           }
          ],
          "contourcarpet": [
           {
            "colorbar": {
             "outlinewidth": 0,
             "ticks": ""
            },
            "type": "contourcarpet"
           }
          ],
          "heatmap": [
           {
            "colorbar": {
             "outlinewidth": 0,
             "ticks": ""
            },
            "colorscale": [
             [
              0,
              "#0d0887"
             ],
             [
              0.1111111111111111,
              "#46039f"
             ],
             [
              0.2222222222222222,
              "#7201a8"
             ],
             [
              0.3333333333333333,
              "#9c179e"
             ],
             [
              0.4444444444444444,
              "#bd3786"
             ],
             [
              0.5555555555555556,
              "#d8576b"
             ],
             [
              0.6666666666666666,
              "#ed7953"
             ],
             [
              0.7777777777777778,
              "#fb9f3a"
             ],
             [
              0.8888888888888888,
              "#fdca26"
             ],
             [
              1,
              "#f0f921"
             ]
            ],
            "type": "heatmap"
           }
          ],
          "heatmapgl": [
           {
            "colorbar": {
             "outlinewidth": 0,
             "ticks": ""
            },
            "colorscale": [
             [
              0,
              "#0d0887"
             ],
             [
              0.1111111111111111,
              "#46039f"
             ],
             [
              0.2222222222222222,
              "#7201a8"
             ],
             [
              0.3333333333333333,
              "#9c179e"
             ],
             [
              0.4444444444444444,
              "#bd3786"
             ],
             [
              0.5555555555555556,
              "#d8576b"
             ],
             [
              0.6666666666666666,
              "#ed7953"
             ],
             [
              0.7777777777777778,
              "#fb9f3a"
             ],
             [
              0.8888888888888888,
              "#fdca26"
             ],
             [
              1,
              "#f0f921"
             ]
            ],
            "type": "heatmapgl"
           }
          ],
          "histogram": [
           {
            "marker": {
             "colorbar": {
              "outlinewidth": 0,
              "ticks": ""
             }
            },
            "type": "histogram"
           }
          ],
          "histogram2d": [
           {
            "colorbar": {
             "outlinewidth": 0,
             "ticks": ""
            },
            "colorscale": [
             [
              0,
              "#0d0887"
             ],
             [
              0.1111111111111111,
              "#46039f"
             ],
             [
              0.2222222222222222,
              "#7201a8"
             ],
             [
              0.3333333333333333,
              "#9c179e"
             ],
             [
              0.4444444444444444,
              "#bd3786"
             ],
             [
              0.5555555555555556,
              "#d8576b"
             ],
             [
              0.6666666666666666,
              "#ed7953"
             ],
             [
              0.7777777777777778,
              "#fb9f3a"
             ],
             [
              0.8888888888888888,
              "#fdca26"
             ],
             [
              1,
              "#f0f921"
             ]
            ],
            "type": "histogram2d"
           }
          ],
          "histogram2dcontour": [
           {
            "colorbar": {
             "outlinewidth": 0,
             "ticks": ""
            },
            "colorscale": [
             [
              0,
              "#0d0887"
             ],
             [
              0.1111111111111111,
              "#46039f"
             ],
             [
              0.2222222222222222,
              "#7201a8"
             ],
             [
              0.3333333333333333,
              "#9c179e"
             ],
             [
              0.4444444444444444,
              "#bd3786"
             ],
             [
              0.5555555555555556,
              "#d8576b"
             ],
             [
              0.6666666666666666,
              "#ed7953"
             ],
             [
              0.7777777777777778,
              "#fb9f3a"
             ],
             [
              0.8888888888888888,
              "#fdca26"
             ],
             [
              1,
              "#f0f921"
             ]
            ],
            "type": "histogram2dcontour"
           }
          ],
          "mesh3d": [
           {
            "colorbar": {
             "outlinewidth": 0,
             "ticks": ""
            },
            "type": "mesh3d"
           }
          ],
          "parcoords": [
           {
            "line": {
             "colorbar": {
              "outlinewidth": 0,
              "ticks": ""
             }
            },
            "type": "parcoords"
           }
          ],
          "pie": [
           {
            "automargin": true,
            "type": "pie"
           }
          ],
          "scatter": [
           {
            "marker": {
             "colorbar": {
              "outlinewidth": 0,
              "ticks": ""
             }
            },
            "type": "scatter"
           }
          ],
          "scatter3d": [
           {
            "line": {
             "colorbar": {
              "outlinewidth": 0,
              "ticks": ""
             }
            },
            "marker": {
             "colorbar": {
              "outlinewidth": 0,
              "ticks": ""
             }
            },
            "type": "scatter3d"
           }
          ],
          "scattercarpet": [
           {
            "marker": {
             "colorbar": {
              "outlinewidth": 0,
              "ticks": ""
             }
            },
            "type": "scattercarpet"
           }
          ],
          "scattergeo": [
           {
            "marker": {
             "colorbar": {
              "outlinewidth": 0,
              "ticks": ""
             }
            },
            "type": "scattergeo"
           }
          ],
          "scattergl": [
           {
            "marker": {
             "colorbar": {
              "outlinewidth": 0,
              "ticks": ""
             }
            },
            "type": "scattergl"
           }
          ],
          "scattermapbox": [
           {
            "marker": {
             "colorbar": {
              "outlinewidth": 0,
              "ticks": ""
             }
            },
            "type": "scattermapbox"
           }
          ],
          "scatterpolar": [
           {
            "marker": {
             "colorbar": {
              "outlinewidth": 0,
              "ticks": ""
             }
            },
            "type": "scatterpolar"
           }
          ],
          "scatterpolargl": [
           {
            "marker": {
             "colorbar": {
              "outlinewidth": 0,
              "ticks": ""
             }
            },
            "type": "scatterpolargl"
           }
          ],
          "scatterternary": [
           {
            "marker": {
             "colorbar": {
              "outlinewidth": 0,
              "ticks": ""
             }
            },
            "type": "scatterternary"
           }
          ],
          "surface": [
           {
            "colorbar": {
             "outlinewidth": 0,
             "ticks": ""
            },
            "colorscale": [
             [
              0,
              "#0d0887"
             ],
             [
              0.1111111111111111,
              "#46039f"
             ],
             [
              0.2222222222222222,
              "#7201a8"
             ],
             [
              0.3333333333333333,
              "#9c179e"
             ],
             [
              0.4444444444444444,
              "#bd3786"
             ],
             [
              0.5555555555555556,
              "#d8576b"
             ],
             [
              0.6666666666666666,
              "#ed7953"
             ],
             [
              0.7777777777777778,
              "#fb9f3a"
             ],
             [
              0.8888888888888888,
              "#fdca26"
             ],
             [
              1,
              "#f0f921"
             ]
            ],
            "type": "surface"
           }
          ],
          "table": [
           {
            "cells": {
             "fill": {
              "color": "#EBF0F8"
             },
             "line": {
              "color": "white"
             }
            },
            "header": {
             "fill": {
              "color": "#C8D4E3"
             },
             "line": {
              "color": "white"
             }
            },
            "type": "table"
           }
          ]
         },
         "layout": {
          "annotationdefaults": {
           "arrowcolor": "#2a3f5f",
           "arrowhead": 0,
           "arrowwidth": 1
          },
          "autotypenumbers": "strict",
          "coloraxis": {
           "colorbar": {
            "outlinewidth": 0,
            "ticks": ""
           }
          },
          "colorscale": {
           "diverging": [
            [
             0,
             "#8e0152"
            ],
            [
             0.1,
             "#c51b7d"
            ],
            [
             0.2,
             "#de77ae"
            ],
            [
             0.3,
             "#f1b6da"
            ],
            [
             0.4,
             "#fde0ef"
            ],
            [
             0.5,
             "#f7f7f7"
            ],
            [
             0.6,
             "#e6f5d0"
            ],
            [
             0.7,
             "#b8e186"
            ],
            [
             0.8,
             "#7fbc41"
            ],
            [
             0.9,
             "#4d9221"
            ],
            [
             1,
             "#276419"
            ]
           ],
           "sequential": [
            [
             0,
             "#0d0887"
            ],
            [
             0.1111111111111111,
             "#46039f"
            ],
            [
             0.2222222222222222,
             "#7201a8"
            ],
            [
             0.3333333333333333,
             "#9c179e"
            ],
            [
             0.4444444444444444,
             "#bd3786"
            ],
            [
             0.5555555555555556,
             "#d8576b"
            ],
            [
             0.6666666666666666,
             "#ed7953"
            ],
            [
             0.7777777777777778,
             "#fb9f3a"
            ],
            [
             0.8888888888888888,
             "#fdca26"
            ],
            [
             1,
             "#f0f921"
            ]
           ],
           "sequentialminus": [
            [
             0,
             "#0d0887"
            ],
            [
             0.1111111111111111,
             "#46039f"
            ],
            [
             0.2222222222222222,
             "#7201a8"
            ],
            [
             0.3333333333333333,
             "#9c179e"
            ],
            [
             0.4444444444444444,
             "#bd3786"
            ],
            [
             0.5555555555555556,
             "#d8576b"
            ],
            [
             0.6666666666666666,
             "#ed7953"
            ],
            [
             0.7777777777777778,
             "#fb9f3a"
            ],
            [
             0.8888888888888888,
             "#fdca26"
            ],
            [
             1,
             "#f0f921"
            ]
           ]
          },
          "colorway": [
           "#636efa",
           "#EF553B",
           "#00cc96",
           "#ab63fa",
           "#FFA15A",
           "#19d3f3",
           "#FF6692",
           "#B6E880",
           "#FF97FF",
           "#FECB52"
          ],
          "font": {
           "color": "#2a3f5f"
          },
          "geo": {
           "bgcolor": "white",
           "lakecolor": "white",
           "landcolor": "#E5ECF6",
           "showlakes": true,
           "showland": true,
           "subunitcolor": "white"
          },
          "hoverlabel": {
           "align": "left"
          },
          "hovermode": "closest",
          "mapbox": {
           "style": "light"
          },
          "paper_bgcolor": "white",
          "plot_bgcolor": "#E5ECF6",
          "polar": {
           "angularaxis": {
            "gridcolor": "white",
            "linecolor": "white",
            "ticks": ""
           },
           "bgcolor": "#E5ECF6",
           "radialaxis": {
            "gridcolor": "white",
            "linecolor": "white",
            "ticks": ""
           }
          },
          "scene": {
           "xaxis": {
            "backgroundcolor": "#E5ECF6",
            "gridcolor": "white",
            "gridwidth": 2,
            "linecolor": "white",
            "showbackground": true,
            "ticks": "",
            "zerolinecolor": "white"
           },
           "yaxis": {
            "backgroundcolor": "#E5ECF6",
            "gridcolor": "white",
            "gridwidth": 2,
            "linecolor": "white",
            "showbackground": true,
            "ticks": "",
            "zerolinecolor": "white"
           },
           "zaxis": {
            "backgroundcolor": "#E5ECF6",
            "gridcolor": "white",
            "gridwidth": 2,
            "linecolor": "white",
            "showbackground": true,
            "ticks": "",
            "zerolinecolor": "white"
           }
          },
          "shapedefaults": {
           "line": {
            "color": "#2a3f5f"
           }
          },
          "ternary": {
           "aaxis": {
            "gridcolor": "white",
            "linecolor": "white",
            "ticks": ""
           },
           "baxis": {
            "gridcolor": "white",
            "linecolor": "white",
            "ticks": ""
           },
           "bgcolor": "#E5ECF6",
           "caxis": {
            "gridcolor": "white",
            "linecolor": "white",
            "ticks": ""
           }
          },
          "title": {
           "x": 0.05
          },
          "xaxis": {
           "automargin": true,
           "gridcolor": "white",
           "linecolor": "white",
           "ticks": "",
           "title": {
            "standoff": 15
           },
           "zerolinecolor": "white",
           "zerolinewidth": 2
          },
          "yaxis": {
           "automargin": true,
           "gridcolor": "white",
           "linecolor": "white",
           "ticks": "",
           "title": {
            "standoff": 15
           },
           "zerolinecolor": "white",
           "zerolinewidth": 2
          }
         }
        },
        "width": 250,
        "xaxis": {
         "anchor": "y",
         "constrain": "domain",
         "domain": [
          0,
          1
         ],
         "scaleanchor": "y"
        },
        "yaxis": {
         "anchor": "x",
         "autorange": "reversed",
         "constrain": "domain",
         "domain": [
          0,
          1
         ]
        }
       }
      },
      "text/html": [
       "<div>                            <div id=\"df419bcc-4b50-4fc8-8303-bfedf5b650b1\" class=\"plotly-graph-div\" style=\"height:250px; width:250px;\"></div>            <script type=\"text/javascript\">                require([\"plotly\"], function(Plotly) {                    window.PLOTLYENV=window.PLOTLYENV || {};                                    if (document.getElementById(\"df419bcc-4b50-4fc8-8303-bfedf5b650b1\")) {                    Plotly.newPlot(                        \"df419bcc-4b50-4fc8-8303-bfedf5b650b1\",                        [{\"coloraxis\": \"coloraxis\", \"hovertemplate\": \"x: %{x}<br>y: %{y}<br>color: %{z}<extra></extra>\", \"name\": \"0\", \"type\": \"heatmap\", \"x\": [\"Abrir*\", \"Elevar\", \"Disminuir\", \"Cerrar**\"], \"xaxis\": \"x\", \"y\": [\"Abrir*\", \"Elevar\", \"Disminuir\", \"Cerrar**\"], \"yaxis\": \"y\", \"z\": [[1.0, 0.9964924340605232, 0.9966811826773861, 0.9954212293986564], [0.9964924340605232, 1.0, 0.9946949346583204, 0.998507681509752], [0.9966811826773861, 0.9946949346583204, 1.0, 0.9963290412252535], [0.9954212293986564, 0.998507681509752, 0.9963290412252535, 1.0]]}],                        {\"coloraxis\": {\"colorscale\": [[0.0, \"#0d0887\"], [0.1111111111111111, \"#46039f\"], [0.2222222222222222, \"#7201a8\"], [0.3333333333333333, \"#9c179e\"], [0.4444444444444444, \"#bd3786\"], [0.5555555555555556, \"#d8576b\"], [0.6666666666666666, \"#ed7953\"], [0.7777777777777778, \"#fb9f3a\"], [0.8888888888888888, \"#fdca26\"], [1.0, \"#f0f921\"]]}, \"height\": 250, \"margin\": {\"t\": 60}, \"template\": {\"data\": {\"bar\": [{\"error_x\": {\"color\": \"#2a3f5f\"}, \"error_y\": {\"color\": \"#2a3f5f\"}, \"marker\": {\"line\": {\"color\": \"#E5ECF6\", \"width\": 0.5}}, \"type\": \"bar\"}], \"barpolar\": [{\"marker\": {\"line\": {\"color\": \"#E5ECF6\", \"width\": 0.5}}, \"type\": \"barpolar\"}], \"carpet\": [{\"aaxis\": {\"endlinecolor\": \"#2a3f5f\", \"gridcolor\": \"white\", \"linecolor\": \"white\", \"minorgridcolor\": \"white\", \"startlinecolor\": \"#2a3f5f\"}, \"baxis\": {\"endlinecolor\": \"#2a3f5f\", \"gridcolor\": \"white\", \"linecolor\": \"white\", \"minorgridcolor\": \"white\", \"startlinecolor\": \"#2a3f5f\"}, \"type\": \"carpet\"}], \"choropleth\": [{\"colorbar\": {\"outlinewidth\": 0, \"ticks\": \"\"}, \"type\": \"choropleth\"}], \"contour\": [{\"colorbar\": {\"outlinewidth\": 0, \"ticks\": \"\"}, \"colorscale\": [[0.0, \"#0d0887\"], [0.1111111111111111, \"#46039f\"], [0.2222222222222222, \"#7201a8\"], [0.3333333333333333, \"#9c179e\"], [0.4444444444444444, \"#bd3786\"], [0.5555555555555556, \"#d8576b\"], [0.6666666666666666, \"#ed7953\"], [0.7777777777777778, \"#fb9f3a\"], [0.8888888888888888, \"#fdca26\"], [1.0, \"#f0f921\"]], \"type\": \"contour\"}], \"contourcarpet\": [{\"colorbar\": {\"outlinewidth\": 0, \"ticks\": \"\"}, \"type\": \"contourcarpet\"}], \"heatmap\": [{\"colorbar\": {\"outlinewidth\": 0, \"ticks\": \"\"}, \"colorscale\": [[0.0, \"#0d0887\"], [0.1111111111111111, \"#46039f\"], [0.2222222222222222, \"#7201a8\"], [0.3333333333333333, \"#9c179e\"], [0.4444444444444444, \"#bd3786\"], [0.5555555555555556, \"#d8576b\"], [0.6666666666666666, \"#ed7953\"], [0.7777777777777778, \"#fb9f3a\"], [0.8888888888888888, \"#fdca26\"], [1.0, \"#f0f921\"]], \"type\": \"heatmap\"}], \"heatmapgl\": [{\"colorbar\": {\"outlinewidth\": 0, \"ticks\": \"\"}, \"colorscale\": [[0.0, \"#0d0887\"], [0.1111111111111111, \"#46039f\"], [0.2222222222222222, \"#7201a8\"], [0.3333333333333333, \"#9c179e\"], [0.4444444444444444, \"#bd3786\"], [0.5555555555555556, \"#d8576b\"], [0.6666666666666666, \"#ed7953\"], [0.7777777777777778, \"#fb9f3a\"], [0.8888888888888888, \"#fdca26\"], [1.0, \"#f0f921\"]], \"type\": \"heatmapgl\"}], \"histogram\": [{\"marker\": {\"colorbar\": {\"outlinewidth\": 0, \"ticks\": \"\"}}, \"type\": \"histogram\"}], \"histogram2d\": [{\"colorbar\": {\"outlinewidth\": 0, \"ticks\": \"\"}, \"colorscale\": [[0.0, \"#0d0887\"], [0.1111111111111111, \"#46039f\"], [0.2222222222222222, \"#7201a8\"], [0.3333333333333333, \"#9c179e\"], [0.4444444444444444, \"#bd3786\"], [0.5555555555555556, \"#d8576b\"], [0.6666666666666666, \"#ed7953\"], [0.7777777777777778, \"#fb9f3a\"], [0.8888888888888888, \"#fdca26\"], [1.0, \"#f0f921\"]], \"type\": \"histogram2d\"}], \"histogram2dcontour\": [{\"colorbar\": {\"outlinewidth\": 0, \"ticks\": \"\"}, \"colorscale\": [[0.0, \"#0d0887\"], [0.1111111111111111, \"#46039f\"], [0.2222222222222222, \"#7201a8\"], [0.3333333333333333, \"#9c179e\"], [0.4444444444444444, \"#bd3786\"], [0.5555555555555556, \"#d8576b\"], [0.6666666666666666, \"#ed7953\"], [0.7777777777777778, \"#fb9f3a\"], [0.8888888888888888, \"#fdca26\"], [1.0, \"#f0f921\"]], \"type\": \"histogram2dcontour\"}], \"mesh3d\": [{\"colorbar\": {\"outlinewidth\": 0, \"ticks\": \"\"}, \"type\": \"mesh3d\"}], \"parcoords\": [{\"line\": {\"colorbar\": {\"outlinewidth\": 0, \"ticks\": \"\"}}, \"type\": \"parcoords\"}], \"pie\": [{\"automargin\": true, \"type\": \"pie\"}], \"scatter\": [{\"marker\": {\"colorbar\": {\"outlinewidth\": 0, \"ticks\": \"\"}}, \"type\": \"scatter\"}], \"scatter3d\": [{\"line\": {\"colorbar\": {\"outlinewidth\": 0, \"ticks\": \"\"}}, \"marker\": {\"colorbar\": {\"outlinewidth\": 0, \"ticks\": \"\"}}, \"type\": \"scatter3d\"}], \"scattercarpet\": [{\"marker\": {\"colorbar\": {\"outlinewidth\": 0, \"ticks\": \"\"}}, \"type\": \"scattercarpet\"}], \"scattergeo\": [{\"marker\": {\"colorbar\": {\"outlinewidth\": 0, \"ticks\": \"\"}}, \"type\": \"scattergeo\"}], \"scattergl\": [{\"marker\": {\"colorbar\": {\"outlinewidth\": 0, \"ticks\": \"\"}}, \"type\": \"scattergl\"}], \"scattermapbox\": [{\"marker\": {\"colorbar\": {\"outlinewidth\": 0, \"ticks\": \"\"}}, \"type\": \"scattermapbox\"}], \"scatterpolar\": [{\"marker\": {\"colorbar\": {\"outlinewidth\": 0, \"ticks\": \"\"}}, \"type\": \"scatterpolar\"}], \"scatterpolargl\": [{\"marker\": {\"colorbar\": {\"outlinewidth\": 0, \"ticks\": \"\"}}, \"type\": \"scatterpolargl\"}], \"scatterternary\": [{\"marker\": {\"colorbar\": {\"outlinewidth\": 0, \"ticks\": \"\"}}, \"type\": \"scatterternary\"}], \"surface\": [{\"colorbar\": {\"outlinewidth\": 0, \"ticks\": \"\"}, \"colorscale\": [[0.0, \"#0d0887\"], [0.1111111111111111, \"#46039f\"], [0.2222222222222222, \"#7201a8\"], [0.3333333333333333, \"#9c179e\"], [0.4444444444444444, \"#bd3786\"], [0.5555555555555556, \"#d8576b\"], [0.6666666666666666, \"#ed7953\"], [0.7777777777777778, \"#fb9f3a\"], [0.8888888888888888, \"#fdca26\"], [1.0, \"#f0f921\"]], \"type\": \"surface\"}], \"table\": [{\"cells\": {\"fill\": {\"color\": \"#EBF0F8\"}, \"line\": {\"color\": \"white\"}}, \"header\": {\"fill\": {\"color\": \"#C8D4E3\"}, \"line\": {\"color\": \"white\"}}, \"type\": \"table\"}]}, \"layout\": {\"annotationdefaults\": {\"arrowcolor\": \"#2a3f5f\", \"arrowhead\": 0, \"arrowwidth\": 1}, \"autotypenumbers\": \"strict\", \"coloraxis\": {\"colorbar\": {\"outlinewidth\": 0, \"ticks\": \"\"}}, \"colorscale\": {\"diverging\": [[0, \"#8e0152\"], [0.1, \"#c51b7d\"], [0.2, \"#de77ae\"], [0.3, \"#f1b6da\"], [0.4, \"#fde0ef\"], [0.5, \"#f7f7f7\"], [0.6, \"#e6f5d0\"], [0.7, \"#b8e186\"], [0.8, \"#7fbc41\"], [0.9, \"#4d9221\"], [1, \"#276419\"]], \"sequential\": [[0.0, \"#0d0887\"], [0.1111111111111111, \"#46039f\"], [0.2222222222222222, \"#7201a8\"], [0.3333333333333333, \"#9c179e\"], [0.4444444444444444, \"#bd3786\"], [0.5555555555555556, \"#d8576b\"], [0.6666666666666666, \"#ed7953\"], [0.7777777777777778, \"#fb9f3a\"], [0.8888888888888888, \"#fdca26\"], [1.0, \"#f0f921\"]], \"sequentialminus\": [[0.0, \"#0d0887\"], [0.1111111111111111, \"#46039f\"], [0.2222222222222222, \"#7201a8\"], [0.3333333333333333, \"#9c179e\"], [0.4444444444444444, \"#bd3786\"], [0.5555555555555556, \"#d8576b\"], [0.6666666666666666, \"#ed7953\"], [0.7777777777777778, \"#fb9f3a\"], [0.8888888888888888, \"#fdca26\"], [1.0, \"#f0f921\"]]}, \"colorway\": [\"#636efa\", \"#EF553B\", \"#00cc96\", \"#ab63fa\", \"#FFA15A\", \"#19d3f3\", \"#FF6692\", \"#B6E880\", \"#FF97FF\", \"#FECB52\"], \"font\": {\"color\": \"#2a3f5f\"}, \"geo\": {\"bgcolor\": \"white\", \"lakecolor\": \"white\", \"landcolor\": \"#E5ECF6\", \"showlakes\": true, \"showland\": true, \"subunitcolor\": \"white\"}, \"hoverlabel\": {\"align\": \"left\"}, \"hovermode\": \"closest\", \"mapbox\": {\"style\": \"light\"}, \"paper_bgcolor\": \"white\", \"plot_bgcolor\": \"#E5ECF6\", \"polar\": {\"angularaxis\": {\"gridcolor\": \"white\", \"linecolor\": \"white\", \"ticks\": \"\"}, \"bgcolor\": \"#E5ECF6\", \"radialaxis\": {\"gridcolor\": \"white\", \"linecolor\": \"white\", \"ticks\": \"\"}}, \"scene\": {\"xaxis\": {\"backgroundcolor\": \"#E5ECF6\", \"gridcolor\": \"white\", \"gridwidth\": 2, \"linecolor\": \"white\", \"showbackground\": true, \"ticks\": \"\", \"zerolinecolor\": \"white\"}, \"yaxis\": {\"backgroundcolor\": \"#E5ECF6\", \"gridcolor\": \"white\", \"gridwidth\": 2, \"linecolor\": \"white\", \"showbackground\": true, \"ticks\": \"\", \"zerolinecolor\": \"white\"}, \"zaxis\": {\"backgroundcolor\": \"#E5ECF6\", \"gridcolor\": \"white\", \"gridwidth\": 2, \"linecolor\": \"white\", \"showbackground\": true, \"ticks\": \"\", \"zerolinecolor\": \"white\"}}, \"shapedefaults\": {\"line\": {\"color\": \"#2a3f5f\"}}, \"ternary\": {\"aaxis\": {\"gridcolor\": \"white\", \"linecolor\": \"white\", \"ticks\": \"\"}, \"baxis\": {\"gridcolor\": \"white\", \"linecolor\": \"white\", \"ticks\": \"\"}, \"bgcolor\": \"#E5ECF6\", \"caxis\": {\"gridcolor\": \"white\", \"linecolor\": \"white\", \"ticks\": \"\"}}, \"title\": {\"x\": 0.05}, \"xaxis\": {\"automargin\": true, \"gridcolor\": \"white\", \"linecolor\": \"white\", \"ticks\": \"\", \"title\": {\"standoff\": 15}, \"zerolinecolor\": \"white\", \"zerolinewidth\": 2}, \"yaxis\": {\"automargin\": true, \"gridcolor\": \"white\", \"linecolor\": \"white\", \"ticks\": \"\", \"title\": {\"standoff\": 15}, \"zerolinecolor\": \"white\", \"zerolinewidth\": 2}}}, \"width\": 250, \"xaxis\": {\"anchor\": \"y\", \"constrain\": \"domain\", \"domain\": [0.0, 1.0], \"scaleanchor\": \"y\"}, \"yaxis\": {\"anchor\": \"x\", \"autorange\": \"reversed\", \"constrain\": \"domain\", \"domain\": [0.0, 1.0]}},                        {\"responsive\": true}                    ).then(function(){\n",
       "                            \n",
       "var gd = document.getElementById('df419bcc-4b50-4fc8-8303-bfedf5b650b1');\n",
       "var x = new MutationObserver(function (mutations, observer) {{\n",
       "        var display = window.getComputedStyle(gd).display;\n",
       "        if (!display || display === 'none') {{\n",
       "            console.log([gd, 'removed!']);\n",
       "            Plotly.purge(gd);\n",
       "            observer.disconnect();\n",
       "        }}\n",
       "}});\n",
       "\n",
       "// Listen for the removal of the full notebook cells\n",
       "var notebookContainer = gd.closest('#notebook-container');\n",
       "if (notebookContainer) {{\n",
       "    x.observe(notebookContainer, {childList: true});\n",
       "}}\n",
       "\n",
       "// Listen for the clearing of the current output cell\n",
       "var outputEl = gd.closest('.output');\n",
       "if (outputEl) {{\n",
       "    x.observe(outputEl, {childList: true});\n",
       "}}\n",
       "\n",
       "                        })                };                });            </script>        </div>"
      ]
     },
     "metadata": {},
     "output_type": "display_data"
    }
   ],
   "source": [
    "Cor = df.iloc[:, [1,2,3,4]].corr()\n",
    "px.imshow(Cor,  width = 250, height = 250, \n",
    "          title = \"\")"
   ]
  },
  {
   "cell_type": "code",
   "execution_count": 37,
   "metadata": {
    "scrolled": true
   },
   "outputs": [
    {
     "data": {
      "text/plain": [
       "<seaborn.axisgrid.FacetGrid at 0x1d138556898>"
      ]
     },
     "execution_count": 37,
     "metadata": {},
     "output_type": "execute_result"
    },
    {
     "data": {
      "image/png": "[encoded data removed]",
      "text/plain": [
       "<Figure size 775.25x720 with 1 Axes>"
      ]
     },
     "metadata": {
      "needs_background": "light"
     },
     "output_type": "display_data"
    }
   ],
   "source": [
    "\n",
    "sns.catplot(data=df,kind=\"violin\",x = \"Dia_semana\", y = \"Cerrar**\", hue=\"Ganancia\", height=10)"
   ]
  },
  {
   "cell_type": "code",
   "execution_count": 38,
   "metadata": {},
   "outputs": [],
   "source": [
    "#Semana"
   ]
  },
  {
   "cell_type": "code",
   "execution_count": 39,
   "metadata": {
    "scrolled": true
   },
   "outputs": [
    {
     "data": {
      "text/html": [
       "<div>\n",
       "<style scoped>\n",
       "    .dataframe tbody tr th:only-of-type {\n",
       "        vertical-align: middle;\n",
       "    }\n",
       "\n",
       "    .dataframe tbody tr th {\n",
       "        vertical-align: top;\n",
       "    }\n",
       "\n",
       "    .dataframe thead th {\n",
       "        text-align: right;\n",
       "    }\n",
       "</style>\n",
       "<table border=\"1\" class=\"dataframe\">\n",
       "  <thead>\n",
       "    <tr style=\"text-align: right;\">\n",
       "      <th></th>\n",
       "      <th>Dia_semana</th>\n",
       "      <th>Ganancia</th>\n",
       "    </tr>\n",
       "  </thead>\n",
       "  <tbody>\n",
       "    <tr>\n",
       "      <th>0</th>\n",
       "      <td>Monday</td>\n",
       "      <td>0.437838</td>\n",
       "    </tr>\n",
       "    <tr>\n",
       "      <th>1</th>\n",
       "      <td>Tuesday</td>\n",
       "      <td>0.443243</td>\n",
       "    </tr>\n",
       "    <tr>\n",
       "      <th>2</th>\n",
       "      <td>Wednesday</td>\n",
       "      <td>0.481081</td>\n",
       "    </tr>\n",
       "    <tr>\n",
       "      <th>3</th>\n",
       "      <td>Thursday</td>\n",
       "      <td>0.486486</td>\n",
       "    </tr>\n",
       "    <tr>\n",
       "      <th>4</th>\n",
       "      <td>Friday</td>\n",
       "      <td>0.464865</td>\n",
       "    </tr>\n",
       "    <tr>\n",
       "      <th>5</th>\n",
       "      <td>Saturday</td>\n",
       "      <td>0.543478</td>\n",
       "    </tr>\n",
       "    <tr>\n",
       "      <th>6</th>\n",
       "      <td>Sunday</td>\n",
       "      <td>0.543478</td>\n",
       "    </tr>\n",
       "  </tbody>\n",
       "</table>\n",
       "</div>"
      ],
      "text/plain": [
       "  Dia_semana  Ganancia\n",
       "0     Monday  0.437838\n",
       "1    Tuesday  0.443243\n",
       "2  Wednesday  0.481081\n",
       "3   Thursday  0.486486\n",
       "4     Friday  0.464865\n",
       "5   Saturday  0.543478\n",
       "6     Sunday  0.543478"
      ]
     },
     "execution_count": 39,
     "metadata": {},
     "output_type": "execute_result"
    }
   ],
   "source": [
    "Gansem = df.iloc[:, [10,11]]\n",
    "Gansem=Gansem.groupby(['Dia_semana']).mean().reset_index()\n",
    "#Dia apartir de la fecha\n",
    "temp=pd.DataFrame(Gansem['Dia_semana'])\n",
    "nuevacolumna = []\n",
    "for i in range(0, len(Gansem['Dia_semana'])):\n",
    "        if Gansem.Dia_semana[i] == \"Monday\":  \n",
    "            nuevacolumna=1\n",
    "            temp['Dia_semana'][i]=nuevacolumna \n",
    "        elif Gansem.Dia_semana[i] == \"Tuesday\":  \n",
    "            nuevacolumna=2\n",
    "            temp['Dia_semana'][i]=nuevacolumna\n",
    "        elif Gansem.Dia_semana[i] == \"Wednesday\":  \n",
    "            nuevacolumna=3\n",
    "            temp['Dia_semana'][i]=nuevacolumna\n",
    "        elif Gansem.Dia_semana[i] == \"Thursday\":  \n",
    "            nuevacolumna=4\n",
    "            temp['Dia_semana'][i]=nuevacolumna\n",
    "        elif Gansem.Dia_semana[i] == \"Friday\":  \n",
    "            nuevacolumna=5\n",
    "            temp['Dia_semana'][i]=nuevacolumna\n",
    "        elif Gansem.Dia_semana[i] == \"Saturday\":  \n",
    "            nuevacolumna=6\n",
    "            temp['Dia_semana'][i]=nuevacolumna\n",
    "        elif Gansem.Dia_semana[i] == \"Sunday\":  \n",
    "            nuevacolumna=7\n",
    "            temp['Dia_semana'][i]=nuevacolumna\n",
    "        \n",
    "Gansem=Gansem.assign(Indice=temp)\n",
    "Gansem = Gansem.sort_values(['Indice']).reset_index(drop=True)\n",
    "Gansem=Gansem.drop(['Indice'], axis=1)\n",
    "Gansem  "
   ]
  },
  {
   "cell_type": "code",
   "execution_count": 40,
   "metadata": {},
   "outputs": [],
   "source": [
    "#Mes"
   ]
  },
  {
   "cell_type": "code",
   "execution_count": 41,
   "metadata": {},
   "outputs": [
    {
     "data": {
      "text/html": [
       "<div>\n",
       "<style scoped>\n",
       "    .dataframe tbody tr th:only-of-type {\n",
       "        vertical-align: middle;\n",
       "    }\n",
       "\n",
       "    .dataframe tbody tr th {\n",
       "        vertical-align: top;\n",
       "    }\n",
       "\n",
       "    .dataframe thead th {\n",
       "        text-align: right;\n",
       "    }\n",
       "</style>\n",
       "<table border=\"1\" class=\"dataframe\">\n",
       "  <thead>\n",
       "    <tr style=\"text-align: right;\">\n",
       "      <th></th>\n",
       "      <th>Mes</th>\n",
       "      <th>Ganancia</th>\n",
       "    </tr>\n",
       "  </thead>\n",
       "  <tbody>\n",
       "    <tr>\n",
       "      <th>0</th>\n",
       "      <td>1</td>\n",
       "      <td>0.508065</td>\n",
       "    </tr>\n",
       "    <tr>\n",
       "      <th>1</th>\n",
       "      <td>2</td>\n",
       "      <td>0.504425</td>\n",
       "    </tr>\n",
       "    <tr>\n",
       "      <th>2</th>\n",
       "      <td>3</td>\n",
       "      <td>0.459677</td>\n",
       "    </tr>\n",
       "    <tr>\n",
       "      <th>3</th>\n",
       "      <td>4</td>\n",
       "      <td>0.528302</td>\n",
       "    </tr>\n",
       "    <tr>\n",
       "      <th>4</th>\n",
       "      <td>5</td>\n",
       "      <td>0.483871</td>\n",
       "    </tr>\n",
       "    <tr>\n",
       "      <th>5</th>\n",
       "      <td>6</td>\n",
       "      <td>0.466667</td>\n",
       "    </tr>\n",
       "    <tr>\n",
       "      <th>6</th>\n",
       "      <td>7</td>\n",
       "      <td>0.462366</td>\n",
       "    </tr>\n",
       "    <tr>\n",
       "      <th>7</th>\n",
       "      <td>8</td>\n",
       "      <td>0.473118</td>\n",
       "    </tr>\n",
       "    <tr>\n",
       "      <th>8</th>\n",
       "      <td>9</td>\n",
       "      <td>0.466667</td>\n",
       "    </tr>\n",
       "    <tr>\n",
       "      <th>9</th>\n",
       "      <td>10</td>\n",
       "      <td>0.471545</td>\n",
       "    </tr>\n",
       "    <tr>\n",
       "      <th>10</th>\n",
       "      <td>11</td>\n",
       "      <td>0.533333</td>\n",
       "    </tr>\n",
       "    <tr>\n",
       "      <th>11</th>\n",
       "      <td>12</td>\n",
       "      <td>0.459677</td>\n",
       "    </tr>\n",
       "  </tbody>\n",
       "</table>\n",
       "</div>"
      ],
      "text/plain": [
       "    Mes  Ganancia\n",
       "0     1  0.508065\n",
       "1     2  0.504425\n",
       "2     3  0.459677\n",
       "3     4  0.528302\n",
       "4     5  0.483871\n",
       "5     6  0.466667\n",
       "6     7  0.462366\n",
       "7     8  0.473118\n",
       "8     9  0.466667\n",
       "9    10  0.471545\n",
       "10   11  0.533333\n",
       "11   12  0.459677"
      ]
     },
     "execution_count": 41,
     "metadata": {},
     "output_type": "execute_result"
    }
   ],
   "source": [
    "GanMes = df.iloc[:, [10,13]]\n",
    "GanMes=GanMes.groupby(['Mes']).mean().reset_index()\n",
    "GanMes "
   ]
  },
  {
   "cell_type": "code",
   "execution_count": 43,
   "metadata": {},
   "outputs": [
    {
     "data": {
      "image/png": "[encoded data removed]",
      "text/plain": [
       "<Figure size 1152x432 with 2 Axes>"
      ]
     },
     "metadata": {
      "needs_background": "light"
     },
     "output_type": "display_data"
    }
   ],
   "source": [
    "f, ax = plt.subplots(1,2,figsize=(16,6))\n",
    "\n",
    "a = sns.scatterplot( x = \"Mes\", y = \"Ganancia\", data=GanMes, ax=ax[0]);\n",
    "a.set_xlabel('Mes')\n",
    "a.set_ylabel('Ganancias')\n",
    "a.set_title('\\nMedia de Ganancias por Mes\\n\\n')\n",
    "a.grid(ls='-.', lw=.5)\n",
    "\n",
    "\n",
    "b = sns.scatterplot( x = \"Dia_semana\", y = \"Ganancia\", data=Gansem, ax=ax[1]);\n",
    "b.set_xlabel('Día de la semana')\n",
    "b.set_ylabel('Ganancias')\n",
    "b.set_title('\\nMedia de Ganancias por dia de la semana\\n\\n')\n",
    "b.grid(ls='-.', lw=.5)\n",
    "\n",
    "\n"
   ]
  },
  {
   "cell_type": "code",
   "execution_count": 44,
   "metadata": {},
   "outputs": [
    {
     "ename": "AttributeError",
     "evalue": "'DataFrame' object has no attribute 'Date'",
     "output_type": "error",
     "traceback": [
      "\u001b[1;31m---------------------------------------------------------------------------\u001b[0m",
      "\u001b[1;31mAttributeError\u001b[0m                            Traceback (most recent call last)",
      "\u001b[1;32m<ipython-input-44-1fc70cd13a4c>\u001b[0m in \u001b[0;36m<module>\u001b[1;34m\u001b[0m\n\u001b[0;32m      1\u001b[0m \u001b[1;31m#setting index as date\u001b[0m\u001b[1;33m\u001b[0m\u001b[1;33m\u001b[0m\u001b[1;33m\u001b[0m\u001b[0m\n\u001b[1;32m----> 2\u001b[1;33m \u001b[0mdf\u001b[0m\u001b[1;33m[\u001b[0m\u001b[1;34m'Fecha'\u001b[0m\u001b[1;33m]\u001b[0m \u001b[1;33m=\u001b[0m \u001b[0mpd\u001b[0m\u001b[1;33m.\u001b[0m\u001b[0mto_datetime\u001b[0m\u001b[1;33m(\u001b[0m\u001b[0mdf\u001b[0m\u001b[1;33m.\u001b[0m\u001b[0mDate\u001b[0m\u001b[1;33m,\u001b[0m\u001b[0mformat\u001b[0m\u001b[1;33m=\u001b[0m\u001b[1;34m'%Y-%m-%d'\u001b[0m\u001b[1;33m)\u001b[0m\u001b[1;33m\u001b[0m\u001b[1;33m\u001b[0m\u001b[0m\n\u001b[0m\u001b[0;32m      3\u001b[0m \u001b[0mdf\u001b[0m\u001b[1;33m.\u001b[0m\u001b[0mindex\u001b[0m \u001b[1;33m=\u001b[0m \u001b[0mdf\u001b[0m\u001b[1;33m[\u001b[0m\u001b[1;34m'Fecha'\u001b[0m\u001b[1;33m]\u001b[0m\u001b[1;33m\u001b[0m\u001b[1;33m\u001b[0m\u001b[0m\n\u001b[0;32m      4\u001b[0m \u001b[1;33m\u001b[0m\u001b[0m\n\u001b[0;32m      5\u001b[0m \u001b[1;31m#plot\u001b[0m\u001b[1;33m\u001b[0m\u001b[1;33m\u001b[0m\u001b[1;33m\u001b[0m\u001b[0m\n",
      "\u001b[1;32m~\\Anaconda2\\envs\\py36\\lib\\site-packages\\pandas\\core\\generic.py\u001b[0m in \u001b[0;36m__getattr__\u001b[1;34m(self, name)\u001b[0m\n\u001b[0;32m   5272\u001b[0m             \u001b[1;32mif\u001b[0m \u001b[0mself\u001b[0m\u001b[1;33m.\u001b[0m\u001b[0m_info_axis\u001b[0m\u001b[1;33m.\u001b[0m\u001b[0m_can_hold_identifiers_and_holds_name\u001b[0m\u001b[1;33m(\u001b[0m\u001b[0mname\u001b[0m\u001b[1;33m)\u001b[0m\u001b[1;33m:\u001b[0m\u001b[1;33m\u001b[0m\u001b[1;33m\u001b[0m\u001b[0m\n\u001b[0;32m   5273\u001b[0m                 \u001b[1;32mreturn\u001b[0m \u001b[0mself\u001b[0m\u001b[1;33m[\u001b[0m\u001b[0mname\u001b[0m\u001b[1;33m]\u001b[0m\u001b[1;33m\u001b[0m\u001b[1;33m\u001b[0m\u001b[0m\n\u001b[1;32m-> 5274\u001b[1;33m             \u001b[1;32mreturn\u001b[0m \u001b[0mobject\u001b[0m\u001b[1;33m.\u001b[0m\u001b[0m__getattribute__\u001b[0m\u001b[1;33m(\u001b[0m\u001b[0mself\u001b[0m\u001b[1;33m,\u001b[0m \u001b[0mname\u001b[0m\u001b[1;33m)\u001b[0m\u001b[1;33m\u001b[0m\u001b[1;33m\u001b[0m\u001b[0m\n\u001b[0m\u001b[0;32m   5275\u001b[0m \u001b[1;33m\u001b[0m\u001b[0m\n\u001b[0;32m   5276\u001b[0m     \u001b[1;32mdef\u001b[0m \u001b[0m__setattr__\u001b[0m\u001b[1;33m(\u001b[0m\u001b[0mself\u001b[0m\u001b[1;33m,\u001b[0m \u001b[0mname\u001b[0m\u001b[1;33m:\u001b[0m \u001b[0mstr\u001b[0m\u001b[1;33m,\u001b[0m \u001b[0mvalue\u001b[0m\u001b[1;33m)\u001b[0m \u001b[1;33m->\u001b[0m \u001b[1;32mNone\u001b[0m\u001b[1;33m:\u001b[0m\u001b[1;33m\u001b[0m\u001b[1;33m\u001b[0m\u001b[0m\n",
      "\u001b[1;31mAttributeError\u001b[0m: 'DataFrame' object has no attribute 'Date'"
     ]
    }
   ],
   "source": [
    "#setting index as date\n",
    "df['Fecha'] = pd.to_datetime(df.Date,format='%Y-%m-%d')\n",
    "df.index = df['Fecha']\n",
    "\n",
    "#plot\n",
    "plt.figure(figsize=(16,8))\n",
    "plt.plot(df['Cerrar**'], label='Close Price history')"
   ]
  },
  {
   "cell_type": "code",
   "execution_count": 16,
   "metadata": {},
   "outputs": [
    {
     "data": {
      "image/png": "[encoded data removed]",
      "text/plain": [
       "<Figure size 720x432 with 1 Axes>"
      ]
     },
     "metadata": {
      "needs_background": "light"
     },
     "output_type": "display_data"
    }
   ],
   "source": [
    "x=df['Fecha']\n",
    "y=df['Porcentaje Respecto al dia anterior en el abrir del mercado']\n",
    "plt.figure(figsize=(10,6))\n",
    "plt.plot( x , y)\n",
    "\n",
    "  \n",
    "# function to show the plot\n",
    "plt.show()\n"
   ]
  },
  {
   "cell_type": "code",
   "execution_count": 17,
   "metadata": {},
   "outputs": [],
   "source": [
    "#quito columnas\n",
    "datos=datos.drop(['Ganancia'], axis = 1)\n",
    "pl=datos"
   ]
  },
  {
   "cell_type": "code",
   "execution_count": 18,
   "metadata": {},
   "outputs": [
    {
     "data": {
      "application/vnd.plotly.v1+json": {
       "config": {
        "plotlyServerURL": "https://plot.ly"
       },
       "data": [
        {
         "coloraxis": "coloraxis",
         "hovertemplate": "x: %{x}<br>y: %{y}<br>color: %{z}<extra></extra>",
         "name": "0",
         "type": "heatmap",
         "x": [
          "Abrir*",
          "Elevar",
          "Disminuir",
          "Cerrar**",
          "Volumen",
          "Cap. de Mercado",
          "Porcentaje Respecto al dia anterior en el abrir del mercado",
          "Porcentaje de Volumen respecto al dia anterior",
          "Porcentaje Cap. De Mercado respecto al día anterior",
          "Dia",
          "Mes",
          "Año"
         ],
         "xaxis": "x",
         "y": [
          "Abrir*",
          "Elevar",
          "Disminuir",
          "Cerrar**",
          "Volumen",
          "Cap. de Mercado",
          "Porcentaje Respecto al dia anterior en el abrir del mercado",
          "Porcentaje de Volumen respecto al dia anterior",
          "Porcentaje Cap. De Mercado respecto al día anterior",
          "Dia",
          "Mes",
          "Año"
         ],
         "yaxis": "y",
         "z": [
          [
           1,
           0.9964924340605232,
           0.9966811826773861,
           0.9954212293986564,
           0.722013662315884,
           0.9909959481770079,
           0.06276985532053038,
           0.00015545778952175064,
           0.0004756049595200917,
           -0.02750895632375282,
           -0.3491131798633129,
           0.28411574672551476
          ],
          [
           0.9964924340605232,
           1,
           0.9946949346583204,
           0.998507681509752,
           0.7375741909178664,
           0.9927607907566074,
           0.0763257625708386,
           0.026213287959253973,
           0.04579349548207327,
           -0.02548106396319957,
           -0.34676680281866235,
           0.27860066089725305
          ],
          [
           0.9966811826773861,
           0.9946949346583204,
           1,
           0.9963290412252535,
           0.719859113856915,
           0.9943718442785099,
           0.06510007646271311,
           0.00014588212572880918,
           0.0224956662365221,
           -0.027268210918962376,
           -0.34414995756910555,
           0.29563525344627883
          ],
          [
           0.9954212293986564,
           0.998507681509752,
           0.9963290412252535,
           1,
           0.7374317261423317,
           0.9957258483183339,
           0.06684486442007065,
           0.02315350215438947,
           0.05924950698556824,
           -0.026049705665259697,
           -0.345781182685976,
           0.2870815742196163
          ],
          [
           0.722013662315884,
           0.7375741909178664,
           0.719859113856915,
           0.7374317261423317,
           1,
           0.7663447513530569,
           0.10224299387044734,
           0.04760859219915727,
           0.09814632695245415,
           -0.008816142216832032,
           -0.25931574600993024,
           0.5049853432814939
          ],
          [
           0.9909959481770079,
           0.9927607907566074,
           0.9943718442785099,
           0.9957258483183339,
           0.7663447513530569,
           1,
           0.06368419156481,
           0.017244602698896314,
           0.05689947089167242,
           -0.026329876217073934,
           -0.33118692720565746,
           0.33429275431907035
          ],
          [
           0.06276985532053038,
           0.0763257625708386,
           0.06510007646271311,
           0.06684486442007065,
           0.10224299387044734,
           0.06368419156481,
           1,
           0.030097512063225498,
           0.029874259121552157,
           0.04018495015343632,
           0.019321015336536268,
           -0.0046102978562345895
          ],
          [
           0.00015545778952175064,
           0.026213287959253973,
           0.00014588212572880918,
           0.02315350215438947,
           0.04760859219915727,
           0.017244602698896314,
           0.030097512063225498,
           1,
           0.3809536446892186,
           0.025274659482647826,
           0.005715837042341811,
           -0.0790249993261362
          ],
          [
           0.0004756049595200917,
           0.04579349548207327,
           0.0224956662365221,
           0.05924950698556824,
           0.09814632695245415,
           0.05689947089167242,
           0.029874259121552157,
           0.3809536446892186,
           1,
           0.036285386076527294,
           0.022363172882048223,
           -0.005569036328721297
          ],
          [
           -0.02750895632375282,
           -0.02548106396319957,
           -0.027268210918962376,
           -0.026049705665259697,
           -0.008816142216832032,
           -0.026329876217073934,
           0.04018495015343632,
           0.025274659482647826,
           0.036285386076527294,
           1,
           0.019420740798457504,
           -0.024366907151990278
          ],
          [
           -0.3491131798633129,
           -0.34676680281866235,
           -0.34414995756910555,
           -0.345781182685976,
           -0.25931574600993024,
           -0.33118692720565746,
           0.019321015336536268,
           0.005715837042341811,
           0.022363172882048223,
           0.019420740798457504,
           1,
           -0.3382670234325949
          ],
          [
           0.28411574672551476,
           0.27860066089725305,
           0.29563525344627883,
           0.2870815742196163,
           0.5049853432814939,
           0.33429275431907035,
           -0.0046102978562345895,
           -0.0790249993261362,
           -0.005569036328721297,
           -0.024366907151990278,
           -0.3382670234325949,
           1
          ]
         ]
        }
       ],
       "layout": {
        "coloraxis": {
         "colorscale": [
          [
           0,
           "#0d0887"
          ],
          [
           0.1111111111111111,
           "#46039f"
          ],
          [
           0.2222222222222222,
           "#7201a8"
          ],
          [
           0.3333333333333333,
           "#9c179e"
          ],
          [
           0.4444444444444444,
           "#bd3786"
          ],
          [
           0.5555555555555556,
           "#d8576b"
          ],
          [
           0.6666666666666666,
           "#ed7953"
          ],
          [
           0.7777777777777778,
           "#fb9f3a"
          ],
          [
           0.8888888888888888,
           "#fdca26"
          ],
          [
           1,
           "#f0f921"
          ]
         ]
        },
        "height": 750,
        "margin": {
         "t": 60
        },
        "template": {
         "data": {
          "bar": [
           {
            "error_x": {
             "color": "#2a3f5f"
            },
            "error_y": {
             "color": "#2a3f5f"
            },
            "marker": {
             "line": {
              "color": "#E5ECF6",
              "width": 0.5
             }
            },
            "type": "bar"
           }
          ],
          "barpolar": [
           {
            "marker": {
             "line": {
              "color": "#E5ECF6",
              "width": 0.5
             }
            },
            "type": "barpolar"
           }
          ],
          "carpet": [
           {
            "aaxis": {
             "endlinecolor": "#2a3f5f",
             "gridcolor": "white",
             "linecolor": "white",
             "minorgridcolor": "white",
             "startlinecolor": "#2a3f5f"
            },
            "baxis": {
             "endlinecolor": "#2a3f5f",
             "gridcolor": "white",
             "linecolor": "white",
             "minorgridcolor": "white",
             "startlinecolor": "#2a3f5f"
            },
            "type": "carpet"
           }
          ],
          "choropleth": [
           {
            "colorbar": {
             "outlinewidth": 0,
             "ticks": ""
            },
            "type": "choropleth"
           }
          ],
          "contour": [
           {
            "colorbar": {
             "outlinewidth": 0,
             "ticks": ""
            },
            "colorscale": [
             [
              0,
              "#0d0887"
             ],
             [
              0.1111111111111111,
              "#46039f"
             ],
             [
              0.2222222222222222,
              "#7201a8"
             ],
             [
              0.3333333333333333,
              "#9c179e"
             ],
             [
              0.4444444444444444,
              "#bd3786"
             ],
             [
              0.5555555555555556,
              "#d8576b"
             ],
             [
              0.6666666666666666,
              "#ed7953"
             ],
             [
              0.7777777777777778,
              "#fb9f3a"
             ],
             [
              0.8888888888888888,
              "#fdca26"
             ],
             [
              1,
              "#f0f921"
             ]
            ],
            "type": "contour"
           }
          ],
          "contourcarpet": [
           {
            "colorbar": {
             "outlinewidth": 0,
             "ticks": ""
            },
            "type": "contourcarpet"
           }
          ],
          "heatmap": [
           {
            "colorbar": {
             "outlinewidth": 0,
             "ticks": ""
            },
            "colorscale": [
             [
              0,
              "#0d0887"
             ],
             [
              0.1111111111111111,
              "#46039f"
             ],
             [
              0.2222222222222222,
              "#7201a8"
             ],
             [
              0.3333333333333333,
              "#9c179e"
             ],
             [
              0.4444444444444444,
              "#bd3786"
             ],
             [
              0.5555555555555556,
              "#d8576b"
             ],
             [
              0.6666666666666666,
              "#ed7953"
             ],
             [
              0.7777777777777778,
              "#fb9f3a"
             ],
             [
              0.8888888888888888,
              "#fdca26"
             ],
             [
              1,
              "#f0f921"
             ]
            ],
            "type": "heatmap"
           }
          ],
          "heatmapgl": [
           {
            "colorbar": {
             "outlinewidth": 0,
             "ticks": ""
            },
            "colorscale": [
             [
              0,
              "#0d0887"
             ],
             [
              0.1111111111111111,
              "#46039f"
             ],
             [
              0.2222222222222222,
              "#7201a8"
             ],
             [
              0.3333333333333333,
              "#9c179e"
             ],
             [
              0.4444444444444444,
              "#bd3786"
             ],
             [
              0.5555555555555556,
              "#d8576b"
             ],
             [
              0.6666666666666666,
              "#ed7953"
             ],
             [
              0.7777777777777778,
              "#fb9f3a"
             ],
             [
              0.8888888888888888,
              "#fdca26"
             ],
             [
              1,
              "#f0f921"
             ]
            ],
            "type": "heatmapgl"
           }
          ],
          "histogram": [
           {
            "marker": {
             "colorbar": {
              "outlinewidth": 0,
              "ticks": ""
             }
            },
            "type": "histogram"
           }
          ],
          "histogram2d": [
           {
            "colorbar": {
             "outlinewidth": 0,
             "ticks": ""
            },
            "colorscale": [
             [
              0,
              "#0d0887"
             ],
             [
              0.1111111111111111,
              "#46039f"
             ],
             [
              0.2222222222222222,
              "#7201a8"
             ],
             [
              0.3333333333333333,
              "#9c179e"
             ],
             [
              0.4444444444444444,
              "#bd3786"
             ],
             [
              0.5555555555555556,
              "#d8576b"
             ],
             [
              0.6666666666666666,
              "#ed7953"
             ],
             [
              0.7777777777777778,
              "#fb9f3a"
             ],
             [
              0.8888888888888888,
              "#fdca26"
             ],
             [
              1,
              "#f0f921"
             ]
            ],
            "type": "histogram2d"
           }
          ],
          "histogram2dcontour": [
           {
            "colorbar": {
             "outlinewidth": 0,
             "ticks": ""
            },
            "colorscale": [
             [
              0,
              "#0d0887"
             ],
             [
              0.1111111111111111,
              "#46039f"
             ],
             [
              0.2222222222222222,
              "#7201a8"
             ],
             [
              0.3333333333333333,
              "#9c179e"
             ],
             [
              0.4444444444444444,
              "#bd3786"
             ],
             [
              0.5555555555555556,
              "#d8576b"
             ],
             [
              0.6666666666666666,
              "#ed7953"
             ],
             [
              0.7777777777777778,
              "#fb9f3a"
             ],
             [
              0.8888888888888888,
              "#fdca26"
             ],
             [
              1,
              "#f0f921"
             ]
            ],
            "type": "histogram2dcontour"
           }
          ],
          "mesh3d": [
           {
            "colorbar": {
             "outlinewidth": 0,
             "ticks": ""
            },
            "type": "mesh3d"
           }
          ],
          "parcoords": [
           {
            "line": {
             "colorbar": {
              "outlinewidth": 0,
              "ticks": ""
             }
            },
            "type": "parcoords"
           }
          ],
          "pie": [
           {
            "automargin": true,
            "type": "pie"
           }
          ],
          "scatter": [
           {
            "marker": {
             "colorbar": {
              "outlinewidth": 0,
              "ticks": ""
             }
            },
            "type": "scatter"
           }
          ],
          "scatter3d": [
           {
            "line": {
             "colorbar": {
              "outlinewidth": 0,
              "ticks": ""
             }
            },
            "marker": {
             "colorbar": {
              "outlinewidth": 0,
              "ticks": ""
             }
            },
            "type": "scatter3d"
           }
          ],
          "scattercarpet": [
           {
            "marker": {
             "colorbar": {
              "outlinewidth": 0,
              "ticks": ""
             }
            },
            "type": "scattercarpet"
           }
          ],
          "scattergeo": [
           {
            "marker": {
             "colorbar": {
              "outlinewidth": 0,
              "ticks": ""
             }
            },
            "type": "scattergeo"
           }
          ],
          "scattergl": [
           {
            "marker": {
             "colorbar": {
              "outlinewidth": 0,
              "ticks": ""
             }
            },
            "type": "scattergl"
           }
          ],
          "scattermapbox": [
           {
            "marker": {
             "colorbar": {
              "outlinewidth": 0,
              "ticks": ""
             }
            },
            "type": "scattermapbox"
           }
          ],
          "scatterpolar": [
           {
            "marker": {
             "colorbar": {
              "outlinewidth": 0,
              "ticks": ""
             }
            },
            "type": "scatterpolar"
           }
          ],
          "scatterpolargl": [
           {
            "marker": {
             "colorbar": {
              "outlinewidth": 0,
              "ticks": ""
             }
            },
            "type": "scatterpolargl"
           }
          ],
          "scatterternary": [
           {
            "marker": {
             "colorbar": {
              "outlinewidth": 0,
              "ticks": ""
             }
            },
            "type": "scatterternary"
           }
          ],
          "surface": [
           {
            "colorbar": {
             "outlinewidth": 0,
             "ticks": ""
            },
            "colorscale": [
             [
              0,
              "#0d0887"
             ],
             [
              0.1111111111111111,
              "#46039f"
             ],
             [
              0.2222222222222222,
              "#7201a8"
             ],
             [
              0.3333333333333333,
              "#9c179e"
             ],
             [
              0.4444444444444444,
              "#bd3786"
             ],
             [
              0.5555555555555556,
              "#d8576b"
             ],
             [
              0.6666666666666666,
              "#ed7953"
             ],
             [
              0.7777777777777778,
              "#fb9f3a"
             ],
             [
              0.8888888888888888,
              "#fdca26"
             ],
             [
              1,
              "#f0f921"
             ]
            ],
            "type": "surface"
           }
          ],
          "table": [
           {
            "cells": {
             "fill": {
              "color": "#EBF0F8"
             },
             "line": {
              "color": "white"
             }
            },
            "header": {
             "fill": {
              "color": "#C8D4E3"
             },
             "line": {
              "color": "white"
             }
            },
            "type": "table"
           }
          ]
         },
         "layout": {
          "annotationdefaults": {
           "arrowcolor": "#2a3f5f",
           "arrowhead": 0,
           "arrowwidth": 1
          },
          "autotypenumbers": "strict",
          "coloraxis": {
           "colorbar": {
            "outlinewidth": 0,
            "ticks": ""
           }
          },
          "colorscale": {
           "diverging": [
            [
             0,
             "#8e0152"
            ],
            [
             0.1,
             "#c51b7d"
            ],
            [
             0.2,
             "#de77ae"
            ],
            [
             0.3,
             "#f1b6da"
            ],
            [
             0.4,
             "#fde0ef"
            ],
            [
             0.5,
             "#f7f7f7"
            ],
            [
             0.6,
             "#e6f5d0"
            ],
            [
             0.7,
             "#b8e186"
            ],
            [
             0.8,
             "#7fbc41"
            ],
            [
             0.9,
             "#4d9221"
            ],
            [
             1,
             "#276419"
            ]
           ],
           "sequential": [
            [
             0,
             "#0d0887"
            ],
            [
             0.1111111111111111,
             "#46039f"
            ],
            [
             0.2222222222222222,
             "#7201a8"
            ],
            [
             0.3333333333333333,
             "#9c179e"
            ],
            [
             0.4444444444444444,
             "#bd3786"
            ],
            [
             0.5555555555555556,
             "#d8576b"
            ],
            [
             0.6666666666666666,
             "#ed7953"
            ],
            [
             0.7777777777777778,
             "#fb9f3a"
            ],
            [
             0.8888888888888888,
             "#fdca26"
            ],
            [
             1,
             "#f0f921"
            ]
           ],
           "sequentialminus": [
            [
             0,
             "#0d0887"
            ],
            [
             0.1111111111111111,
             "#46039f"
            ],
            [
             0.2222222222222222,
             "#7201a8"
            ],
            [
             0.3333333333333333,
             "#9c179e"
            ],
            [
             0.4444444444444444,
             "#bd3786"
            ],
            [
             0.5555555555555556,
             "#d8576b"
            ],
            [
             0.6666666666666666,
             "#ed7953"
            ],
            [
             0.7777777777777778,
             "#fb9f3a"
            ],
            [
             0.8888888888888888,
             "#fdca26"
            ],
            [
             1,
             "#f0f921"
            ]
           ]
          },
          "colorway": [
           "#636efa",
           "#EF553B",
           "#00cc96",
           "#ab63fa",
           "#FFA15A",
           "#19d3f3",
           "#FF6692",
           "#B6E880",
           "#FF97FF",
           "#FECB52"
          ],
          "font": {
           "color": "#2a3f5f"
          },
          "geo": {
           "bgcolor": "white",
           "lakecolor": "white",
           "landcolor": "#E5ECF6",
           "showlakes": true,
           "showland": true,
           "subunitcolor": "white"
          },
          "hoverlabel": {
           "align": "left"
          },
          "hovermode": "closest",
          "mapbox": {
           "style": "light"
          },
          "paper_bgcolor": "white",
          "plot_bgcolor": "#E5ECF6",
          "polar": {
           "angularaxis": {
            "gridcolor": "white",
            "linecolor": "white",
            "ticks": ""
           },
           "bgcolor": "#E5ECF6",
           "radialaxis": {
            "gridcolor": "white",
            "linecolor": "white",
            "ticks": ""
           }
          },
          "scene": {
           "xaxis": {
            "backgroundcolor": "#E5ECF6",
            "gridcolor": "white",
            "gridwidth": 2,
            "linecolor": "white",
            "showbackground": true,
            "ticks": "",
            "zerolinecolor": "white"
           },
           "yaxis": {
            "backgroundcolor": "#E5ECF6",
            "gridcolor": "white",
            "gridwidth": 2,
            "linecolor": "white",
            "showbackground": true,
            "ticks": "",
            "zerolinecolor": "white"
           },
           "zaxis": {
            "backgroundcolor": "#E5ECF6",
            "gridcolor": "white",
            "gridwidth": 2,
            "linecolor": "white",
            "showbackground": true,
            "ticks": "",
            "zerolinecolor": "white"
           }
          },
          "shapedefaults": {
           "line": {
            "color": "#2a3f5f"
           }
          },
          "ternary": {
           "aaxis": {
            "gridcolor": "white",
            "linecolor": "white",
            "ticks": ""
           },
           "baxis": {
            "gridcolor": "white",
            "linecolor": "white",
            "ticks": ""
           },
           "bgcolor": "#E5ECF6",
           "caxis": {
            "gridcolor": "white",
            "linecolor": "white",
            "ticks": ""
           }
          },
          "title": {
           "x": 0.05
          },
          "xaxis": {
           "automargin": true,
           "gridcolor": "white",
           "linecolor": "white",
           "ticks": "",
           "title": {
            "standoff": 15
           },
           "zerolinecolor": "white",
           "zerolinewidth": 2
          },
          "yaxis": {
           "automargin": true,
           "gridcolor": "white",
           "linecolor": "white",
           "ticks": "",
           "title": {
            "standoff": 15
           },
           "zerolinecolor": "white",
           "zerolinewidth": 2
          }
         }
        },
        "width": 750,
        "xaxis": {
         "anchor": "y",
         "constrain": "domain",
         "domain": [
          0,
          1
         ],
         "scaleanchor": "y"
        },
        "yaxis": {
         "anchor": "x",
         "autorange": "reversed",
         "constrain": "domain",
         "domain": [
          0,
          1
         ]
        }
       }
      },
      "text/html": [
       "<div>                            <div id=\"9fc63c79-31c6-4e3f-a10c-211b51719c2f\" class=\"plotly-graph-div\" style=\"height:750px; width:750px;\"></div>            <script type=\"text/javascript\">                require([\"plotly\"], function(Plotly) {                    window.PLOTLYENV=window.PLOTLYENV || {};                                    if (document.getElementById(\"9fc63c79-31c6-4e3f-a10c-211b51719c2f\")) {                    Plotly.newPlot(                        \"9fc63c79-31c6-4e3f-a10c-211b51719c2f\",                        [{\"coloraxis\": \"coloraxis\", \"hovertemplate\": \"x: %{x}<br>y: %{y}<br>color: %{z}<extra></extra>\", \"name\": \"0\", \"type\": \"heatmap\", \"x\": [\"Abrir*\", \"Elevar\", \"Disminuir\", \"Cerrar**\", \"Volumen\", \"Cap. de Mercado\", \"Porcentaje Respecto al dia anterior en el abrir del mercado\", \"Porcentaje de Volumen respecto al dia anterior\", \"Porcentaje Cap. De Mercado respecto al d\\u00eda anterior\", \"Dia\", \"Mes\", \"A\\u00f1o\"], \"xaxis\": \"x\", \"y\": [\"Abrir*\", \"Elevar\", \"Disminuir\", \"Cerrar**\", \"Volumen\", \"Cap. de Mercado\", \"Porcentaje Respecto al dia anterior en el abrir del mercado\", \"Porcentaje de Volumen respecto al dia anterior\", \"Porcentaje Cap. De Mercado respecto al d\\u00eda anterior\", \"Dia\", \"Mes\", \"A\\u00f1o\"], \"yaxis\": \"y\", \"z\": [[1.0, 0.9964924340605232, 0.9966811826773861, 0.9954212293986564, 0.722013662315884, 0.9909959481770079, 0.06276985532053038, 0.00015545778952175064, 0.0004756049595200917, -0.02750895632375282, -0.3491131798633129, 0.28411574672551476], [0.9964924340605232, 1.0, 0.9946949346583204, 0.998507681509752, 0.7375741909178664, 0.9927607907566074, 0.0763257625708386, 0.026213287959253973, 0.04579349548207327, -0.02548106396319957, -0.34676680281866235, 0.27860066089725305], [0.9966811826773861, 0.9946949346583204, 1.0, 0.9963290412252535, 0.719859113856915, 0.9943718442785099, 0.06510007646271311, 0.00014588212572880918, 0.0224956662365221, -0.027268210918962376, -0.34414995756910555, 0.29563525344627883], [0.9954212293986564, 0.998507681509752, 0.9963290412252535, 1.0, 0.7374317261423317, 0.9957258483183339, 0.06684486442007065, 0.02315350215438947, 0.05924950698556824, -0.026049705665259697, -0.345781182685976, 0.2870815742196163], [0.722013662315884, 0.7375741909178664, 0.719859113856915, 0.7374317261423317, 1.0, 0.7663447513530569, 0.10224299387044734, 0.04760859219915727, 0.09814632695245415, -0.008816142216832032, -0.25931574600993024, 0.5049853432814939], [0.9909959481770079, 0.9927607907566074, 0.9943718442785099, 0.9957258483183339, 0.7663447513530569, 1.0, 0.06368419156481, 0.017244602698896314, 0.05689947089167242, -0.026329876217073934, -0.33118692720565746, 0.33429275431907035], [0.06276985532053038, 0.0763257625708386, 0.06510007646271311, 0.06684486442007065, 0.10224299387044734, 0.06368419156481, 1.0, 0.030097512063225498, 0.029874259121552157, 0.04018495015343632, 0.019321015336536268, -0.0046102978562345895], [0.00015545778952175064, 0.026213287959253973, 0.00014588212572880918, 0.02315350215438947, 0.04760859219915727, 0.017244602698896314, 0.030097512063225498, 1.0, 0.3809536446892186, 0.025274659482647826, 0.005715837042341811, -0.0790249993261362], [0.0004756049595200917, 0.04579349548207327, 0.0224956662365221, 0.05924950698556824, 0.09814632695245415, 0.05689947089167242, 0.029874259121552157, 0.3809536446892186, 1.0, 0.036285386076527294, 0.022363172882048223, -0.005569036328721297], [-0.02750895632375282, -0.02548106396319957, -0.027268210918962376, -0.026049705665259697, -0.008816142216832032, -0.026329876217073934, 0.04018495015343632, 0.025274659482647826, 0.036285386076527294, 1.0, 0.019420740798457504, -0.024366907151990278], [-0.3491131798633129, -0.34676680281866235, -0.34414995756910555, -0.345781182685976, -0.25931574600993024, -0.33118692720565746, 0.019321015336536268, 0.005715837042341811, 0.022363172882048223, 0.019420740798457504, 1.0, -0.3382670234325949], [0.28411574672551476, 0.27860066089725305, 0.29563525344627883, 0.2870815742196163, 0.5049853432814939, 0.33429275431907035, -0.0046102978562345895, -0.0790249993261362, -0.005569036328721297, -0.024366907151990278, -0.3382670234325949, 1.0]]}],                        {\"coloraxis\": {\"colorscale\": [[0.0, \"#0d0887\"], [0.1111111111111111, \"#46039f\"], [0.2222222222222222, \"#7201a8\"], [0.3333333333333333, \"#9c179e\"], [0.4444444444444444, \"#bd3786\"], [0.5555555555555556, \"#d8576b\"], [0.6666666666666666, \"#ed7953\"], [0.7777777777777778, \"#fb9f3a\"], [0.8888888888888888, \"#fdca26\"], [1.0, \"#f0f921\"]]}, \"height\": 750, \"margin\": {\"t\": 60}, \"template\": {\"data\": {\"bar\": [{\"error_x\": {\"color\": \"#2a3f5f\"}, \"error_y\": {\"color\": \"#2a3f5f\"}, \"marker\": {\"line\": {\"color\": \"#E5ECF6\", \"width\": 0.5}}, \"type\": \"bar\"}], \"barpolar\": [{\"marker\": {\"line\": {\"color\": \"#E5ECF6\", \"width\": 0.5}}, \"type\": \"barpolar\"}], \"carpet\": [{\"aaxis\": {\"endlinecolor\": \"#2a3f5f\", \"gridcolor\": \"white\", \"linecolor\": \"white\", \"minorgridcolor\": \"white\", \"startlinecolor\": \"#2a3f5f\"}, \"baxis\": {\"endlinecolor\": \"#2a3f5f\", \"gridcolor\": \"white\", \"linecolor\": \"white\", \"minorgridcolor\": \"white\", \"startlinecolor\": \"#2a3f5f\"}, \"type\": \"carpet\"}], \"choropleth\": [{\"colorbar\": {\"outlinewidth\": 0, \"ticks\": \"\"}, \"type\": \"choropleth\"}], \"contour\": [{\"colorbar\": {\"outlinewidth\": 0, \"ticks\": \"\"}, \"colorscale\": [[0.0, \"#0d0887\"], [0.1111111111111111, \"#46039f\"], [0.2222222222222222, \"#7201a8\"], [0.3333333333333333, \"#9c179e\"], [0.4444444444444444, \"#bd3786\"], [0.5555555555555556, \"#d8576b\"], [0.6666666666666666, \"#ed7953\"], [0.7777777777777778, \"#fb9f3a\"], [0.8888888888888888, \"#fdca26\"], [1.0, \"#f0f921\"]], \"type\": \"contour\"}], \"contourcarpet\": [{\"colorbar\": {\"outlinewidth\": 0, \"ticks\": \"\"}, \"type\": \"contourcarpet\"}], \"heatmap\": [{\"colorbar\": {\"outlinewidth\": 0, \"ticks\": \"\"}, \"colorscale\": [[0.0, \"#0d0887\"], [0.1111111111111111, \"#46039f\"], [0.2222222222222222, \"#7201a8\"], [0.3333333333333333, \"#9c179e\"], [0.4444444444444444, \"#bd3786\"], [0.5555555555555556, \"#d8576b\"], [0.6666666666666666, \"#ed7953\"], [0.7777777777777778, \"#fb9f3a\"], [0.8888888888888888, \"#fdca26\"], [1.0, \"#f0f921\"]], \"type\": \"heatmap\"}], \"heatmapgl\": [{\"colorbar\": {\"outlinewidth\": 0, \"ticks\": \"\"}, \"colorscale\": [[0.0, \"#0d0887\"], [0.1111111111111111, \"#46039f\"], [0.2222222222222222, \"#7201a8\"], [0.3333333333333333, \"#9c179e\"], [0.4444444444444444, \"#bd3786\"], [0.5555555555555556, \"#d8576b\"], [0.6666666666666666, \"#ed7953\"], [0.7777777777777778, \"#fb9f3a\"], [0.8888888888888888, \"#fdca26\"], [1.0, \"#f0f921\"]], \"type\": \"heatmapgl\"}], \"histogram\": [{\"marker\": {\"colorbar\": {\"outlinewidth\": 0, \"ticks\": \"\"}}, \"type\": \"histogram\"}], \"histogram2d\": [{\"colorbar\": {\"outlinewidth\": 0, \"ticks\": \"\"}, \"colorscale\": [[0.0, \"#0d0887\"], [0.1111111111111111, \"#46039f\"], [0.2222222222222222, \"#7201a8\"], [0.3333333333333333, \"#9c179e\"], [0.4444444444444444, \"#bd3786\"], [0.5555555555555556, \"#d8576b\"], [0.6666666666666666, \"#ed7953\"], [0.7777777777777778, \"#fb9f3a\"], [0.8888888888888888, \"#fdca26\"], [1.0, \"#f0f921\"]], \"type\": \"histogram2d\"}], \"histogram2dcontour\": [{\"colorbar\": {\"outlinewidth\": 0, \"ticks\": \"\"}, \"colorscale\": [[0.0, \"#0d0887\"], [0.1111111111111111, \"#46039f\"], [0.2222222222222222, \"#7201a8\"], [0.3333333333333333, \"#9c179e\"], [0.4444444444444444, \"#bd3786\"], [0.5555555555555556, \"#d8576b\"], [0.6666666666666666, \"#ed7953\"], [0.7777777777777778, \"#fb9f3a\"], [0.8888888888888888, \"#fdca26\"], [1.0, \"#f0f921\"]], \"type\": \"histogram2dcontour\"}], \"mesh3d\": [{\"colorbar\": {\"outlinewidth\": 0, \"ticks\": \"\"}, \"type\": \"mesh3d\"}], \"parcoords\": [{\"line\": {\"colorbar\": {\"outlinewidth\": 0, \"ticks\": \"\"}}, \"type\": \"parcoords\"}], \"pie\": [{\"automargin\": true, \"type\": \"pie\"}], \"scatter\": [{\"marker\": {\"colorbar\": {\"outlinewidth\": 0, \"ticks\": \"\"}}, \"type\": \"scatter\"}], \"scatter3d\": [{\"line\": {\"colorbar\": {\"outlinewidth\": 0, \"ticks\": \"\"}}, \"marker\": {\"colorbar\": {\"outlinewidth\": 0, \"ticks\": \"\"}}, \"type\": \"scatter3d\"}], \"scattercarpet\": [{\"marker\": {\"colorbar\": {\"outlinewidth\": 0, \"ticks\": \"\"}}, \"type\": \"scattercarpet\"}], \"scattergeo\": [{\"marker\": {\"colorbar\": {\"outlinewidth\": 0, \"ticks\": \"\"}}, \"type\": \"scattergeo\"}], \"scattergl\": [{\"marker\": {\"colorbar\": {\"outlinewidth\": 0, \"ticks\": \"\"}}, \"type\": \"scattergl\"}], \"scattermapbox\": [{\"marker\": {\"colorbar\": {\"outlinewidth\": 0, \"ticks\": \"\"}}, \"type\": \"scattermapbox\"}], \"scatterpolar\": [{\"marker\": {\"colorbar\": {\"outlinewidth\": 0, \"ticks\": \"\"}}, \"type\": \"scatterpolar\"}], \"scatterpolargl\": [{\"marker\": {\"colorbar\": {\"outlinewidth\": 0, \"ticks\": \"\"}}, \"type\": \"scatterpolargl\"}], \"scatterternary\": [{\"marker\": {\"colorbar\": {\"outlinewidth\": 0, \"ticks\": \"\"}}, \"type\": \"scatterternary\"}], \"surface\": [{\"colorbar\": {\"outlinewidth\": 0, \"ticks\": \"\"}, \"colorscale\": [[0.0, \"#0d0887\"], [0.1111111111111111, \"#46039f\"], [0.2222222222222222, \"#7201a8\"], [0.3333333333333333, \"#9c179e\"], [0.4444444444444444, \"#bd3786\"], [0.5555555555555556, \"#d8576b\"], [0.6666666666666666, \"#ed7953\"], [0.7777777777777778, \"#fb9f3a\"], [0.8888888888888888, \"#fdca26\"], [1.0, \"#f0f921\"]], \"type\": \"surface\"}], \"table\": [{\"cells\": {\"fill\": {\"color\": \"#EBF0F8\"}, \"line\": {\"color\": \"white\"}}, \"header\": {\"fill\": {\"color\": \"#C8D4E3\"}, \"line\": {\"color\": \"white\"}}, \"type\": \"table\"}]}, \"layout\": {\"annotationdefaults\": {\"arrowcolor\": \"#2a3f5f\", \"arrowhead\": 0, \"arrowwidth\": 1}, \"autotypenumbers\": \"strict\", \"coloraxis\": {\"colorbar\": {\"outlinewidth\": 0, \"ticks\": \"\"}}, \"colorscale\": {\"diverging\": [[0, \"#8e0152\"], [0.1, \"#c51b7d\"], [0.2, \"#de77ae\"], [0.3, \"#f1b6da\"], [0.4, \"#fde0ef\"], [0.5, \"#f7f7f7\"], [0.6, \"#e6f5d0\"], [0.7, \"#b8e186\"], [0.8, \"#7fbc41\"], [0.9, \"#4d9221\"], [1, \"#276419\"]], \"sequential\": [[0.0, \"#0d0887\"], [0.1111111111111111, \"#46039f\"], [0.2222222222222222, \"#7201a8\"], [0.3333333333333333, \"#9c179e\"], [0.4444444444444444, \"#bd3786\"], [0.5555555555555556, \"#d8576b\"], [0.6666666666666666, \"#ed7953\"], [0.7777777777777778, \"#fb9f3a\"], [0.8888888888888888, \"#fdca26\"], [1.0, \"#f0f921\"]], \"sequentialminus\": [[0.0, \"#0d0887\"], [0.1111111111111111, \"#46039f\"], [0.2222222222222222, \"#7201a8\"], [0.3333333333333333, \"#9c179e\"], [0.4444444444444444, \"#bd3786\"], [0.5555555555555556, \"#d8576b\"], [0.6666666666666666, \"#ed7953\"], [0.7777777777777778, \"#fb9f3a\"], [0.8888888888888888, \"#fdca26\"], [1.0, \"#f0f921\"]]}, \"colorway\": [\"#636efa\", \"#EF553B\", \"#00cc96\", \"#ab63fa\", \"#FFA15A\", \"#19d3f3\", \"#FF6692\", \"#B6E880\", \"#FF97FF\", \"#FECB52\"], \"font\": {\"color\": \"#2a3f5f\"}, \"geo\": {\"bgcolor\": \"white\", \"lakecolor\": \"white\", \"landcolor\": \"#E5ECF6\", \"showlakes\": true, \"showland\": true, \"subunitcolor\": \"white\"}, \"hoverlabel\": {\"align\": \"left\"}, \"hovermode\": \"closest\", \"mapbox\": {\"style\": \"light\"}, \"paper_bgcolor\": \"white\", \"plot_bgcolor\": \"#E5ECF6\", \"polar\": {\"angularaxis\": {\"gridcolor\": \"white\", \"linecolor\": \"white\", \"ticks\": \"\"}, \"bgcolor\": \"#E5ECF6\", \"radialaxis\": {\"gridcolor\": \"white\", \"linecolor\": \"white\", \"ticks\": \"\"}}, \"scene\": {\"xaxis\": {\"backgroundcolor\": \"#E5ECF6\", \"gridcolor\": \"white\", \"gridwidth\": 2, \"linecolor\": \"white\", \"showbackground\": true, \"ticks\": \"\", \"zerolinecolor\": \"white\"}, \"yaxis\": {\"backgroundcolor\": \"#E5ECF6\", \"gridcolor\": \"white\", \"gridwidth\": 2, \"linecolor\": \"white\", \"showbackground\": true, \"ticks\": \"\", \"zerolinecolor\": \"white\"}, \"zaxis\": {\"backgroundcolor\": \"#E5ECF6\", \"gridcolor\": \"white\", \"gridwidth\": 2, \"linecolor\": \"white\", \"showbackground\": true, \"ticks\": \"\", \"zerolinecolor\": \"white\"}}, \"shapedefaults\": {\"line\": {\"color\": \"#2a3f5f\"}}, \"ternary\": {\"aaxis\": {\"gridcolor\": \"white\", \"linecolor\": \"white\", \"ticks\": \"\"}, \"baxis\": {\"gridcolor\": \"white\", \"linecolor\": \"white\", \"ticks\": \"\"}, \"bgcolor\": \"#E5ECF6\", \"caxis\": {\"gridcolor\": \"white\", \"linecolor\": \"white\", \"ticks\": \"\"}}, \"title\": {\"x\": 0.05}, \"xaxis\": {\"automargin\": true, \"gridcolor\": \"white\", \"linecolor\": \"white\", \"ticks\": \"\", \"title\": {\"standoff\": 15}, \"zerolinecolor\": \"white\", \"zerolinewidth\": 2}, \"yaxis\": {\"automargin\": true, \"gridcolor\": \"white\", \"linecolor\": \"white\", \"ticks\": \"\", \"title\": {\"standoff\": 15}, \"zerolinecolor\": \"white\", \"zerolinewidth\": 2}}}, \"width\": 750, \"xaxis\": {\"anchor\": \"y\", \"constrain\": \"domain\", \"domain\": [0.0, 1.0], \"scaleanchor\": \"y\"}, \"yaxis\": {\"anchor\": \"x\", \"autorange\": \"reversed\", \"constrain\": \"domain\", \"domain\": [0.0, 1.0]}},                        {\"responsive\": true}                    ).then(function(){\n",
       "                            \n",
       "var gd = document.getElementById('9fc63c79-31c6-4e3f-a10c-211b51719c2f');\n",
       "var x = new MutationObserver(function (mutations, observer) {{\n",
       "        var display = window.getComputedStyle(gd).display;\n",
       "        if (!display || display === 'none') {{\n",
       "            console.log([gd, 'removed!']);\n",
       "            Plotly.purge(gd);\n",
       "            observer.disconnect();\n",
       "        }}\n",
       "}});\n",
       "\n",
       "// Listen for the removal of the full notebook cells\n",
       "var notebookContainer = gd.closest('#notebook-container');\n",
       "if (notebookContainer) {{\n",
       "    x.observe(notebookContainer, {childList: true});\n",
       "}}\n",
       "\n",
       "// Listen for the clearing of the current output cell\n",
       "var outputEl = gd.closest('.output');\n",
       "if (outputEl) {{\n",
       "    x.observe(outputEl, {childList: true});\n",
       "}}\n",
       "\n",
       "                        })                };                });            </script>        </div>"
      ]
     },
     "metadata": {},
     "output_type": "display_data"
    }
   ],
   "source": [
    "px.imshow(datos.corr(),  width = 750, height = 750, \n",
    "          title = \"\")\n"
   ]
  },
  {
   "cell_type": "markdown",
   "metadata": {},
   "source": [
    "El valor del índice de correlación varía en el intervalo [-1,1], indicando el signo el sentido de la relación:\n",
    "\n",
    "Si r = 1, existe una correlación positiva perfecta. (dependencia total) Cuando una de ellas aumenta, la otra también lo hace en proporción constante.\n",
    "\n",
    "Si 0 < r < 1, existe una correlación positiva.\n",
    "\n",
    "Si r = 0, no existe relación lineal.\n",
    "\n",
    "Si -1 < r < 0, existe una correlación negativa.\n",
    "\n",
    "Si r = -1, existe una correlación negativa perfecta. (dependencia total inversa) Cuando una de ellas aumenta, la otra disminuye en proporción constante."
   ]
  },
  {
   "cell_type": "code",
   "execution_count": 19,
   "metadata": {},
   "outputs": [
    {
     "data": {
      "text/html": [
       "<div>\n",
       "<style scoped>\n",
       "    .dataframe tbody tr th:only-of-type {\n",
       "        vertical-align: middle;\n",
       "    }\n",
       "\n",
       "    .dataframe tbody tr th {\n",
       "        vertical-align: top;\n",
       "    }\n",
       "\n",
       "    .dataframe thead th {\n",
       "        text-align: right;\n",
       "    }\n",
       "</style>\n",
       "<table border=\"1\" class=\"dataframe\">\n",
       "  <thead>\n",
       "    <tr style=\"text-align: right;\">\n",
       "      <th></th>\n",
       "      <th>Abrir*</th>\n",
       "      <th>Volumen</th>\n",
       "      <th>Cap. de Mercado</th>\n",
       "      <th>Dia</th>\n",
       "      <th>Mes</th>\n",
       "      <th>Año</th>\n",
       "    </tr>\n",
       "  </thead>\n",
       "  <tbody>\n",
       "    <tr>\n",
       "      <th>0</th>\n",
       "      <td>1.48000</td>\n",
       "      <td>5692183858</td>\n",
       "      <td>45269118282</td>\n",
       "      <td>16</td>\n",
       "      <td>4</td>\n",
       "      <td>2021</td>\n",
       "    </tr>\n",
       "    <tr>\n",
       "      <th>1</th>\n",
       "      <td>1.45000</td>\n",
       "      <td>5337358369</td>\n",
       "      <td>47334226350</td>\n",
       "      <td>15</td>\n",
       "      <td>4</td>\n",
       "      <td>2021</td>\n",
       "    </tr>\n",
       "    <tr>\n",
       "      <th>2</th>\n",
       "      <td>1.41000</td>\n",
       "      <td>9596107541</td>\n",
       "      <td>46498212198</td>\n",
       "      <td>14</td>\n",
       "      <td>4</td>\n",
       "      <td>2021</td>\n",
       "    </tr>\n",
       "    <tr>\n",
       "      <th>3</th>\n",
       "      <td>1.31000</td>\n",
       "      <td>5896543066</td>\n",
       "      <td>45104180472</td>\n",
       "      <td>13</td>\n",
       "      <td>4</td>\n",
       "      <td>2021</td>\n",
       "    </tr>\n",
       "    <tr>\n",
       "      <th>4</th>\n",
       "      <td>1.27000</td>\n",
       "      <td>4918248258</td>\n",
       "      <td>42048031658</td>\n",
       "      <td>12</td>\n",
       "      <td>4</td>\n",
       "      <td>2021</td>\n",
       "    </tr>\n",
       "    <tr>\n",
       "      <th>...</th>\n",
       "      <td>...</td>\n",
       "      <td>...</td>\n",
       "      <td>...</td>\n",
       "      <td>...</td>\n",
       "      <td>...</td>\n",
       "      <td>...</td>\n",
       "    </tr>\n",
       "    <tr>\n",
       "      <th>1288</th>\n",
       "      <td>0.02136</td>\n",
       "      <td>7780710</td>\n",
       "      <td>480664553</td>\n",
       "      <td>6</td>\n",
       "      <td>10</td>\n",
       "      <td>2017</td>\n",
       "    </tr>\n",
       "    <tr>\n",
       "      <th>1289</th>\n",
       "      <td>0.02195</td>\n",
       "      <td>5562510</td>\n",
       "      <td>557139041</td>\n",
       "      <td>5</td>\n",
       "      <td>10</td>\n",
       "      <td>2017</td>\n",
       "    </tr>\n",
       "    <tr>\n",
       "      <th>1290</th>\n",
       "      <td>0.02086</td>\n",
       "      <td>9000050</td>\n",
       "      <td>568619548</td>\n",
       "      <td>4</td>\n",
       "      <td>10</td>\n",
       "      <td>2017</td>\n",
       "    </tr>\n",
       "    <tr>\n",
       "      <th>1291</th>\n",
       "      <td>0.02576</td>\n",
       "      <td>16997800</td>\n",
       "      <td>539692715</td>\n",
       "      <td>3</td>\n",
       "      <td>10</td>\n",
       "      <td>2017</td>\n",
       "    </tr>\n",
       "    <tr>\n",
       "      <th>1292</th>\n",
       "      <td>0.02461</td>\n",
       "      <td>57641300</td>\n",
       "      <td>628899052</td>\n",
       "      <td>2</td>\n",
       "      <td>10</td>\n",
       "      <td>2017</td>\n",
       "    </tr>\n",
       "  </tbody>\n",
       "</table>\n",
       "<p>1293 rows × 6 columns</p>\n",
       "</div>"
      ],
      "text/plain": [
       "       Abrir*     Volumen  Cap. de Mercado  Dia  Mes   Año\n",
       "0     1.48000  5692183858      45269118282   16    4  2021\n",
       "1     1.45000  5337358369      47334226350   15    4  2021\n",
       "2     1.41000  9596107541      46498212198   14    4  2021\n",
       "3     1.31000  5896543066      45104180472   13    4  2021\n",
       "4     1.27000  4918248258      42048031658   12    4  2021\n",
       "...       ...         ...              ...  ...  ...   ...\n",
       "1288  0.02136     7780710        480664553    6   10  2017\n",
       "1289  0.02195     5562510        557139041    5   10  2017\n",
       "1290  0.02086     9000050        568619548    4   10  2017\n",
       "1291  0.02576    16997800        539692715    3   10  2017\n",
       "1292  0.02461    57641300        628899052    2   10  2017\n",
       "\n",
       "[1293 rows x 6 columns]"
      ]
     },
     "execution_count": 19,
     "metadata": {},
     "output_type": "execute_result"
    }
   ],
   "source": [
    "#ENTRADAS\n",
    "X = datos.iloc[:,[1,5,6,11,12,13]]\n",
    "X#.values.tolist()"
   ]
  },
  {
   "cell_type": "code",
   "execution_count": 20,
   "metadata": {
    "scrolled": true
   },
   "outputs": [
    {
     "data": {
      "text/html": [
       "<div>\n",
       "<style scoped>\n",
       "    .dataframe tbody tr th:only-of-type {\n",
       "        vertical-align: middle;\n",
       "    }\n",
       "\n",
       "    .dataframe tbody tr th {\n",
       "        vertical-align: top;\n",
       "    }\n",
       "\n",
       "    .dataframe thead th {\n",
       "        text-align: right;\n",
       "    }\n",
       "</style>\n",
       "<table border=\"1\" class=\"dataframe\">\n",
       "  <thead>\n",
       "    <tr style=\"text-align: right;\">\n",
       "      <th></th>\n",
       "      <th>Elevar</th>\n",
       "      <th>Disminuir</th>\n",
       "      <th>Cerrar**</th>\n",
       "    </tr>\n",
       "  </thead>\n",
       "  <tbody>\n",
       "    <tr>\n",
       "      <th>0</th>\n",
       "      <td>1.52000</td>\n",
       "      <td>1.34000</td>\n",
       "      <td>1.42000</td>\n",
       "    </tr>\n",
       "    <tr>\n",
       "      <th>1</th>\n",
       "      <td>1.49000</td>\n",
       "      <td>1.42000</td>\n",
       "      <td>1.48000</td>\n",
       "    </tr>\n",
       "    <tr>\n",
       "      <th>2</th>\n",
       "      <td>1.56000</td>\n",
       "      <td>1.35000</td>\n",
       "      <td>1.46000</td>\n",
       "    </tr>\n",
       "    <tr>\n",
       "      <th>3</th>\n",
       "      <td>1.44000</td>\n",
       "      <td>1.28000</td>\n",
       "      <td>1.41000</td>\n",
       "    </tr>\n",
       "    <tr>\n",
       "      <th>4</th>\n",
       "      <td>1.35000</td>\n",
       "      <td>1.27000</td>\n",
       "      <td>1.32000</td>\n",
       "    </tr>\n",
       "    <tr>\n",
       "      <th>...</th>\n",
       "      <td>...</td>\n",
       "      <td>...</td>\n",
       "      <td>...</td>\n",
       "    </tr>\n",
       "    <tr>\n",
       "      <th>1288</th>\n",
       "      <td>0.02154</td>\n",
       "      <td>0.01836</td>\n",
       "      <td>0.01854</td>\n",
       "    </tr>\n",
       "    <tr>\n",
       "      <th>1289</th>\n",
       "      <td>0.02215</td>\n",
       "      <td>0.02086</td>\n",
       "      <td>0.02149</td>\n",
       "    </tr>\n",
       "    <tr>\n",
       "      <th>1290</th>\n",
       "      <td>0.02281</td>\n",
       "      <td>0.02086</td>\n",
       "      <td>0.02193</td>\n",
       "    </tr>\n",
       "    <tr>\n",
       "      <th>1291</th>\n",
       "      <td>0.02743</td>\n",
       "      <td>0.02069</td>\n",
       "      <td>0.02082</td>\n",
       "    </tr>\n",
       "    <tr>\n",
       "      <th>1292</th>\n",
       "      <td>0.03009</td>\n",
       "      <td>0.01997</td>\n",
       "      <td>0.02593</td>\n",
       "    </tr>\n",
       "  </tbody>\n",
       "</table>\n",
       "<p>1293 rows × 3 columns</p>\n",
       "</div>"
      ],
      "text/plain": [
       "       Elevar  Disminuir  Cerrar**\n",
       "0     1.52000    1.34000   1.42000\n",
       "1     1.49000    1.42000   1.48000\n",
       "2     1.56000    1.35000   1.46000\n",
       "3     1.44000    1.28000   1.41000\n",
       "4     1.35000    1.27000   1.32000\n",
       "...       ...        ...       ...\n",
       "1288  0.02154    0.01836   0.01854\n",
       "1289  0.02215    0.02086   0.02149\n",
       "1290  0.02281    0.02086   0.02193\n",
       "1291  0.02743    0.02069   0.02082\n",
       "1292  0.03009    0.01997   0.02593\n",
       "\n",
       "[1293 rows x 3 columns]"
      ]
     },
     "execution_count": 20,
     "metadata": {},
     "output_type": "execute_result"
    }
   ],
   "source": [
    "#SALIDAS\n",
    "y= datos.iloc[:,[2,3,4]]\n",
    "y#.values.tolist()"
   ]
  },
  {
   "cell_type": "code",
   "execution_count": 21,
   "metadata": {},
   "outputs": [],
   "source": [
    "#Separación ntre entrenamiento y prueba\n",
    "X_train, X_test, y_train, y_test = train_test_split(X, y, test_size=0.2)"
   ]
  },
  {
   "cell_type": "code",
   "execution_count": 22,
   "metadata": {},
   "outputs": [
    {
     "data": {
      "text/plain": [
       "LinearRegression()"
      ]
     },
     "execution_count": 22,
     "metadata": {},
     "output_type": "execute_result"
    }
   ],
   "source": [
    "modelo1 = linear_model.LinearRegression()\n",
    "modelo1.fit(X_train, y_train)"
   ]
  },
  {
   "cell_type": "code",
   "execution_count": 23,
   "metadata": {},
   "outputs": [
    {
     "name": "stdout",
     "output_type": "stream",
     "text": [
      "DATOS DEL MODELO REGRESIÓN LINEAL MULTIPLE\n",
      "\n",
      "Valor de las pendientes o coeficientes \"a\":\n",
      "[[ 6.88147442e-01  2.37564974e-12  1.17297968e-11 -3.40225504e-05\n",
      "  -1.17882749e-03 -9.29018068e-03]\n",
      " [ 4.56536623e-01 -9.95448324e-12  1.69799884e-11 -9.13166654e-06\n",
      "  -3.59481700e-04  2.64721913e-04]\n",
      " [ 3.46428733e-01 -1.60212069e-12  2.15926495e-11 -2.42911549e-05\n",
      "  -1.39780756e-03 -9.20131335e-03]]\n",
      "Valor de la intersección o coeficiente \"b\":\n",
      "[18.76947928 -0.52533601 18.5956219 ]\n",
      "Precisión del modelo:\n",
      "0.9963462328920866\n"
     ]
    }
   ],
   "source": [
    "#Realizo una predicción\n",
    "Y_pred_multiple = modelo1.predict(X_test)\n",
    "print('DATOS DEL MODELO REGRESIÓN LINEAL MULTIPLE')\n",
    "print()\n",
    "print('Valor de las pendientes o coeficientes \"a\":')\n",
    "print(modelo1.coef_)\n",
    "print('Valor de la intersección o coeficiente \"b\":')\n",
    "print(modelo1.intercept_)\n",
    "print('Precisión del modelo:')\n",
    "print(modelo1.score(X_train, y_train))"
   ]
  },
  {
   "cell_type": "code",
   "execution_count": 24,
   "metadata": {},
   "outputs": [],
   "source": [
    "#parametros abre del mercado,volumen, cap, dia ,mes y año ppara sacar maximo, minimo y cierre del mercado"
   ]
  },
  {
   "cell_type": "code",
   "execution_count": 25,
   "metadata": {},
   "outputs": [],
   "source": [
    "predictedADA = modelo1.predict([[1.15,6162344367,33685700798,18,4,2021]])"
   ]
  },
  {
   "cell_type": "code",
   "execution_count": 26,
   "metadata": {},
   "outputs": [
    {
     "data": {
      "text/plain": [
       "array([[1.18983197, 1.04372165, 1.1096229 ]])"
      ]
     },
     "execution_count": 26,
     "metadata": {},
     "output_type": "execute_result"
    }
   ],
   "source": [
    "predictedADA"
   ]
  },
  {
   "cell_type": "code",
   "execution_count": null,
   "metadata": {},
   "outputs": [],
   "source": []
  },
  {
   "cell_type": "code",
   "execution_count": null,
   "metadata": {},
   "outputs": [],
   "source": []
  },
  {
   "cell_type": "code",
   "execution_count": null,
   "metadata": {},
   "outputs": [],
   "source": []
  }
 ],
 "metadata": {
  "kernelspec": {
   "display_name": "Python 3",
   "language": "python",
   "name": "python3"
  },
  "language_info": {
   "codemirror_mode": {
    "name": "ipython",
    "version": 3
   },
   "file_extension": ".py",
   "mimetype": "text/x-python",
   "name": "python",
   "nbconvert_exporter": "python",
   "pygments_lexer": "ipython3",
   "version": "3.6.10"
  }
 },
 "nbformat": 4,
 "nbformat_minor": 4
}
