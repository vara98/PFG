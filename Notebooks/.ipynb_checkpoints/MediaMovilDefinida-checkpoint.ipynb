{
 "cells": [
  {
   "cell_type": "code",
   "execution_count": 36,
   "metadata": {},
   "outputs": [],
   "source": [
    "\n",
    "import numpy as np\n",
    "import pandas as pd\n",
    "import calendar\n",
    "import seaborn as sns\n",
    "from sklearn import linear_model, svm\n",
    "from sklearn.metrics import mean_squared_error, r2_score\n",
    "from sklearn.model_selection import train_test_split\n",
    "import plotly.express as px\n",
    "from matplotlib import pyplot as plt\n",
    "from mpl_toolkits.mplot3d import Axes3D\n",
    "df = pd.read_excel('Datos_finanzas/ETHEREUM.xlsx')\n",
    "temp=pd.DataFrame(df['Fecha'])\n",
    "nuevacolumna = []\n",
    "for i in range(0, len(df['Fecha'])):\n",
    "    nuevacolumna=pd.Timestamp(temp['Fecha'][i]).day_name()\n",
    "    temp['Fecha'][i]=nuevacolumna \n",
    "df=df.assign(Dia_semana=temp)\n",
    "#Nuevas columnas Dia, Mes y Año\n",
    "df['Dia'] = pd.DatetimeIndex(df['Fecha']).day\n",
    "df['Mes'] = pd.DatetimeIndex(df['Fecha']).month\n",
    "df['Año'] = pd.DatetimeIndex(df['Fecha']).year\n",
    "#Transformación de la fecha\n",
    "df['fecha']=df['Año'].apply(str) + \"-\" + df['Mes'].apply(str) + \"-\" + df['Dia'].apply(str)\n",
    "df['fecha'] = pd.to_datetime(df['fecha']) \n",
    "df.index = df['fecha']\n",
    "datos=df\n",
    "dictionaries = []\n",
    "\n",
    "for columna in ['Ganancia','Dia_semana']:\n",
    "    datos[columna], uniques = pd.factorize(datos[columna])\n",
    "    values = list(range(len(uniques)))\n",
    "    dictionaries.append(dict(zip(values, uniques)))\n",
    "\n",
    "datos=datos.drop(columns=['fecha','Fecha'])\n",
    "datos\n",
    "datos=df\n",
    "#Ordeno las fechas\n",
    "datos = datos.sort_index(ascending=True, axis=0)\n",
    "#Obtengo los datos para media movil (en este caso utilizo el cierre del mercado y la fecha)\n"
   ]
  },
  {
   "cell_type": "code",
   "execution_count": 37,
   "metadata": {},
   "outputs": [
    {
     "data": {
      "text/html": [
       "<div>\n",
       "<style scoped>\n",
       "    .dataframe tbody tr th:only-of-type {\n",
       "        vertical-align: middle;\n",
       "    }\n",
       "\n",
       "    .dataframe tbody tr th {\n",
       "        vertical-align: top;\n",
       "    }\n",
       "\n",
       "    .dataframe thead th {\n",
       "        text-align: right;\n",
       "    }\n",
       "</style>\n",
       "<table border=\"1\" class=\"dataframe\">\n",
       "  <thead>\n",
       "    <tr style=\"text-align: right;\">\n",
       "      <th></th>\n",
       "      <th>Abrir*</th>\n",
       "      <th>Elevar</th>\n",
       "      <th>Disminuir</th>\n",
       "      <th>Cerrar**</th>\n",
       "      <th>Volumen</th>\n",
       "      <th>Cap. de Mercado</th>\n",
       "    </tr>\n",
       "    <tr>\n",
       "      <th>fecha</th>\n",
       "      <th></th>\n",
       "      <th></th>\n",
       "      <th></th>\n",
       "      <th></th>\n",
       "      <th></th>\n",
       "      <th></th>\n",
       "    </tr>\n",
       "  </thead>\n",
       "  <tbody>\n",
       "    <tr>\n",
       "      <th>2015-08-07</th>\n",
       "      <td>2.59</td>\n",
       "      <td>3.24</td>\n",
       "      <td>2.31</td>\n",
       "      <td>2.54</td>\n",
       "      <td>150429</td>\n",
       "      <td>152517901</td>\n",
       "    </tr>\n",
       "    <tr>\n",
       "      <th>2015-08-08</th>\n",
       "      <td>2.55</td>\n",
       "      <td>2.55</td>\n",
       "      <td>0.65</td>\n",
       "      <td>0.69</td>\n",
       "      <td>614518</td>\n",
       "      <td>41461028</td>\n",
       "    </tr>\n",
       "    <tr>\n",
       "      <th>2015-08-09</th>\n",
       "      <td>0.64</td>\n",
       "      <td>0.80</td>\n",
       "      <td>0.57</td>\n",
       "      <td>0.64</td>\n",
       "      <td>485070</td>\n",
       "      <td>38646954</td>\n",
       "    </tr>\n",
       "    <tr>\n",
       "      <th>2015-08-10</th>\n",
       "      <td>0.65</td>\n",
       "      <td>0.67</td>\n",
       "      <td>0.58</td>\n",
       "      <td>0.65</td>\n",
       "      <td>369818</td>\n",
       "      <td>39071416</td>\n",
       "    </tr>\n",
       "    <tr>\n",
       "      <th>2015-08-11</th>\n",
       "      <td>0.64</td>\n",
       "      <td>1.03</td>\n",
       "      <td>0.60</td>\n",
       "      <td>0.97</td>\n",
       "      <td>1327918</td>\n",
       "      <td>58603457</td>\n",
       "    </tr>\n",
       "    <tr>\n",
       "      <th>...</th>\n",
       "      <td>...</td>\n",
       "      <td>...</td>\n",
       "      <td>...</td>\n",
       "      <td>...</td>\n",
       "      <td>...</td>\n",
       "      <td>...</td>\n",
       "    </tr>\n",
       "    <tr>\n",
       "      <th>2021-05-27</th>\n",
       "      <td>2369.48</td>\n",
       "      <td>2369.48</td>\n",
       "      <td>2167.59</td>\n",
       "      <td>2244.59</td>\n",
       "      <td>27374557472</td>\n",
       "      <td>260486033577</td>\n",
       "    </tr>\n",
       "    <tr>\n",
       "      <th>2021-05-28</th>\n",
       "      <td>2249.92</td>\n",
       "      <td>2265.42</td>\n",
       "      <td>1916.75</td>\n",
       "      <td>1985.29</td>\n",
       "      <td>32815193787</td>\n",
       "      <td>230420369985</td>\n",
       "    </tr>\n",
       "    <tr>\n",
       "      <th>2021-05-29</th>\n",
       "      <td>1979.95</td>\n",
       "      <td>2105.33</td>\n",
       "      <td>1811.34</td>\n",
       "      <td>1869.60</td>\n",
       "      <td>27700293434</td>\n",
       "      <td>217018090789</td>\n",
       "    </tr>\n",
       "    <tr>\n",
       "      <th>2021-05-30</th>\n",
       "      <td>1868.59</td>\n",
       "      <td>2027.62</td>\n",
       "      <td>1795.22</td>\n",
       "      <td>1960.46</td>\n",
       "      <td>21223304586</td>\n",
       "      <td>227592258847</td>\n",
       "    </tr>\n",
       "    <tr>\n",
       "      <th>2021-05-31</th>\n",
       "      <td>1958.87</td>\n",
       "      <td>2228.56</td>\n",
       "      <td>1870.50</td>\n",
       "      <td>2227.81</td>\n",
       "      <td>25443852421</td>\n",
       "      <td>258659102253</td>\n",
       "    </tr>\n",
       "  </tbody>\n",
       "</table>\n",
       "<p>2125 rows × 6 columns</p>\n",
       "</div>"
      ],
      "text/plain": [
       "             Abrir*   Elevar  Disminuir  Cerrar**      Volumen  \\\n",
       "fecha                                                            \n",
       "2015-08-07     2.59     3.24       2.31      2.54       150429   \n",
       "2015-08-08     2.55     2.55       0.65      0.69       614518   \n",
       "2015-08-09     0.64     0.80       0.57      0.64       485070   \n",
       "2015-08-10     0.65     0.67       0.58      0.65       369818   \n",
       "2015-08-11     0.64     1.03       0.60      0.97      1327918   \n",
       "...             ...      ...        ...       ...          ...   \n",
       "2021-05-27  2369.48  2369.48    2167.59   2244.59  27374557472   \n",
       "2021-05-28  2249.92  2265.42    1916.75   1985.29  32815193787   \n",
       "2021-05-29  1979.95  2105.33    1811.34   1869.60  27700293434   \n",
       "2021-05-30  1868.59  2027.62    1795.22   1960.46  21223304586   \n",
       "2021-05-31  1958.87  2228.56    1870.50   2227.81  25443852421   \n",
       "\n",
       "            Cap. de Mercado  \n",
       "fecha                        \n",
       "2015-08-07        152517901  \n",
       "2015-08-08         41461028  \n",
       "2015-08-09         38646954  \n",
       "2015-08-10         39071416  \n",
       "2015-08-11         58603457  \n",
       "...                     ...  \n",
       "2021-05-27     260486033577  \n",
       "2021-05-28     230420369985  \n",
       "2021-05-29     217018090789  \n",
       "2021-05-30     227592258847  \n",
       "2021-05-31     258659102253  \n",
       "\n",
       "[2125 rows x 6 columns]"
      ]
     },
     "execution_count": 37,
     "metadata": {},
     "output_type": "execute_result"
    }
   ],
   "source": [
    "MediaMovil=datos.iloc[:,[1,2,3,4,5,6]]\n",
    "MediaMovil"
   ]
  },
  {
   "cell_type": "code",
   "execution_count": 38,
   "metadata": {},
   "outputs": [],
   "source": [
    "#Establecemos una ventana de 15 dias para la media movil de 15 dias\n",
    "MediaMovil15 = MediaMovil['Cerrar**'].rolling(window = 15).mean() \n",
    "MediaMovil30 = MediaMovil['Cerrar**'].rolling(window = 30).mean()\n",
    "MediaMovil45 = MediaMovil['Cerrar**'].rolling(window = 45).mean()\n",
    "MediaMovil150 = MediaMovil['Cerrar**'].rolling(window = 150).mean()"
   ]
  },
  {
   "cell_type": "code",
   "execution_count": 40,
   "metadata": {},
   "outputs": [],
   "source": [
    "def corte(minimo, maximo):\n",
    "#funcion para calcular los cruces\n",
    "    puntos = {}\n",
    "    for i in zip(minimo, maximo):\n",
    "        if i[0] >= i[1]:\n",
    "        #si es mayor o igual al siguiente entonces hay un minimo en ese punto\n",
    "            fecha = minimo[minimo == i[0]].index[0]\n",
    "            puntos[fecha] = i[0]\n",
    "            \n",
    "    puntos = pd.Series(puntos, name='Puntos clave')\n",
    "    puntos.index.name = 'fecha'\n",
    "            \n",
    "    return puntos\n",
    "puntos_MediaMovil30 = corte(MediaMovil15, MediaMovil30)"
   ]
  },
  {
   "cell_type": "code",
   "execution_count": 41,
   "metadata": {},
   "outputs": [],
   "source": [
    "MediaMovil15 = MediaMovil15.reset_index()\n",
    "MediaMovil30 = MediaMovil30.reset_index()"
   ]
  },
  {
   "cell_type": "code",
   "execution_count": 42,
   "metadata": {},
   "outputs": [
    {
     "name": "stderr",
     "output_type": "stream",
     "text": [
      "C:\\Users\\mivar\\Anaconda2\\envs\\py36\\lib\\site-packages\\ipykernel_launcher.py:12: SettingWithCopyWarning:\n",
      "\n",
      "\n",
      "A value is trying to be set on a copy of a slice from a DataFrame\n",
      "\n",
      "See the caveats in the documentation: https://pandas.pydata.org/pandas-docs/stable/user_guide/indexing.html#returning-a-view-versus-a-copy\n",
      "\n"
     ]
    }
   ],
   "source": [
    "cruce = pd.DataFrame()\n",
    "#creaccion nuevo Dataframe\n",
    "cruce['fecha'] = MediaMovil15['fecha']\n",
    "cruce['precio'] = [i for i in MediaMovil['Cerrar**']]\n",
    "cruce['MediaMovil15'] = MediaMovil15['Cerrar**']\n",
    "cruce['MediaMovil30'] = MediaMovil30['Cerrar**']\n",
    "cruce['posicion'] = cruce['MediaMovil15'] >= cruce['MediaMovil30']\n",
    "#guardamos donde en la MediaMovil15 sea mayor o igual a la MediaMovil de 30\n",
    "cruce['posicionant'] = cruce['posicion'].shift(1)\n",
    "#shift para convertir a NaN\n",
    "cruce['cruce'] = np.where(cruce['posicion'] == cruce['posicionant'], False, True)\n",
    "cruce['cruce'][0] = False\n"
   ]
  },
  {
   "cell_type": "code",
   "execution_count": 43,
   "metadata": {},
   "outputs": [
    {
     "name": "stderr",
     "output_type": "stream",
     "text": [
      "C:\\Users\\mivar\\Anaconda2\\envs\\py36\\lib\\site-packages\\ipykernel_launcher.py:10: SettingWithCopyWarning:\n",
      "\n",
      "\n",
      "A value is trying to be set on a copy of a slice from a DataFrame\n",
      "\n",
      "See the caveats in the documentation: https://pandas.pydata.org/pandas-docs/stable/user_guide/indexing.html#returning-a-view-versus-a-copy\n",
      "\n",
      "C:\\Users\\mivar\\Anaconda2\\envs\\py36\\lib\\site-packages\\ipykernel_launcher.py:11: SettingWithCopyWarning:\n",
      "\n",
      "\n",
      "A value is trying to be set on a copy of a slice from a DataFrame\n",
      "\n",
      "See the caveats in the documentation: https://pandas.pydata.org/pandas-docs/stable/user_guide/indexing.html#returning-a-view-versus-a-copy\n",
      "\n",
      "C:\\Users\\mivar\\Anaconda2\\envs\\py36\\lib\\site-packages\\pandas\\core\\indexing.py:671: SettingWithCopyWarning:\n",
      "\n",
      "\n",
      "A value is trying to be set on a copy of a slice from a DataFrame\n",
      "\n",
      "See the caveats in the documentation: https://pandas.pydata.org/pandas-docs/stable/user_guide/indexing.html#returning-a-view-versus-a-copy\n",
      "\n",
      "C:\\Users\\mivar\\Anaconda2\\envs\\py36\\lib\\site-packages\\ipykernel_launcher.py:13: SettingWithCopyWarning:\n",
      "\n",
      "\n",
      "A value is trying to be set on a copy of a slice from a DataFrame\n",
      "\n",
      "See the caveats in the documentation: https://pandas.pydata.org/pandas-docs/stable/user_guide/indexing.html#returning-a-view-versus-a-copy\n",
      "\n"
     ]
    }
   ],
   "source": [
    "cruce = cruce.loc[cruce['cruce'] == True]\n",
    "cruce = cruce.reset_index()\n",
    "cruce = cruce.drop(['posicion', 'posicionant', 'cruce', 'index'], axis=1)\n",
    "cruce['salida'] = np.nan\n",
    "#para crear salida de compra o venta\n",
    "cruce['salidabin'] = 0.0\n",
    "#salida 0 o 1 que determina el comportamiento\n",
    "for i in range(len(cruce['MediaMovil15'])):\n",
    "    if cruce['MediaMovil15'][i] > cruce['MediaMovil30'][i]:\n",
    "        cruce['salidabin'][i] = 1.0\n",
    "        cruce['salida'][i] = 'comprar'\n",
    "    else:\n",
    "        cruce['salida'][i] = 'vender'\n",
    "    #si la media movil a corto plazo es mayor que una de mayor plazo seña de compra\n",
    "#print(cruce)"
   ]
  },
  {
   "cell_type": "code",
   "execution_count": 115,
   "metadata": {},
   "outputs": [
    {
     "data": {
      "text/plain": [
       "'2018-1-1'"
      ]
     },
     "execution_count": 115,
     "metadata": {},
     "output_type": "execute_result"
    }
   ],
   "source": [
    "x1=2018\n",
    "x2=1\n",
    "x3=1\n",
    "#num=x1.apply(str) + \"-\" + x2.apply(str) + \"-\" + x3.apply(str)\n",
    "num=str(x1) + \"-\" +str(x2)+ \"-\" + str(x3)\n",
    "num"
   ]
  },
  {
   "cell_type": "code",
   "execution_count": 116,
   "metadata": {},
   "outputs": [],
   "source": [
    "test=MediaMovil15['fecha']==num"
   ]
  },
  {
   "cell_type": "code",
   "execution_count": 117,
   "metadata": {},
   "outputs": [
    {
     "data": {
      "text/plain": [
       "1247"
      ]
     },
     "execution_count": 117,
     "metadata": {},
     "output_type": "execute_result"
    }
   ],
   "source": [
    "test = test.loc[test == True]\n",
    "test2=len(MediaMovil15)-test.index[0]"
   ]
  },
  {
   "cell_type": "code",
   "execution_count": 130,
   "metadata": {},
   "outputs": [
    {
     "data": {
      "text/plain": [
       "22"
      ]
     },
     "execution_count": 130,
     "metadata": {},
     "output_type": "execute_result"
    }
   ],
   "source": [
    "p=cruce.loc[cruce.salida == 'comprar']['fecha']>=num\n",
    "tt = p.loc[p == True]\n",
    "dimc=len(tt)\n",
    "\n",
    "pp=cruce.loc[cruce.salida == 'vender']['fecha']>=num\n",
    "ttt = pp.loc[pp == True]\n",
    "dimv=len(ttt)\n"
   ]
  },
  {
   "cell_type": "code",
   "execution_count": 128,
   "metadata": {},
   "outputs": [
    {
     "data": {
      "text/plain": [
       "21"
      ]
     },
     "execution_count": 128,
     "metadata": {},
     "output_type": "execute_result"
    }
   ],
   "source": [
    "tt = p.loc[p == True]\n",
    "dimc=len(tt)\n"
   ]
  },
  {
   "cell_type": "code",
   "execution_count": null,
   "metadata": {},
   "outputs": [],
   "source": []
  },
  {
   "cell_type": "code",
   "execution_count": null,
   "metadata": {},
   "outputs": [],
   "source": []
  },
  {
   "cell_type": "code",
   "execution_count": null,
   "metadata": {},
   "outputs": [],
   "source": []
  },
  {
   "cell_type": "code",
   "execution_count": null,
   "metadata": {},
   "outputs": [],
   "source": []
  },
  {
   "cell_type": "code",
   "execution_count": 12,
   "metadata": {},
   "outputs": [
    {
     "data": {
      "image/png": "[encoded data removed]",
      "text/plain": [
       "<Figure size 1152x432 with 1 Axes>"
      ]
     },
     "metadata": {
      "needs_background": "light"
     },
     "output_type": "display_data"
    }
   ],
   "source": [
    "MediaMovil15 = MediaMovil['Cerrar**'].rolling(window=15).mean()\n",
    "MediaMovil30 = MediaMovil['Cerrar**'].rolling(window=30).mean()\n",
    "#historico desde 2017\n",
    "plt.figure(figsize=(16, 6))\n",
    "plt.title('Historico con puntos de compra/venta')\n",
    "plt.plot(MediaMovil['Cerrar**'][-1247:], label='Historico desde 2018')\n",
    "plt.plot(MediaMovil15[-1247:], label='Media Movil 15 días',color='green')\n",
    "plt.plot(MediaMovil30[-1247:], label='Media Movil 30 días',color='red')\n",
    "plt.plot(cruce.loc[cruce.salida == 'comprar']['fecha'][-21:], cruce['MediaMovil15'][cruce.salida == 'comprar'][-21:],\n",
    "         #cruce.loc[cruce.salida == 'comprar']['fecha'] para ver todos los puntos de compra\n",
    "         #le pongo 21 porque estoy estudiando hasta el año 2018\n",
    "        '^', markersize=8, color='green', label='compra')\n",
    "plt.plot(cruce.loc[cruce.salida == 'vender']['fecha'][-22:], cruce['MediaMovil15'][cruce.salida == 'vender'][-22:],\n",
    "        'v', markersize=8, color='red', label='vender')\n",
    "plt.xlabel('Fecha')\n",
    "plt.ylabel('Cierre')\n",
    "plt.legend(loc='upper left',fontsize=12)\n",
    "plt.grid()"
   ]
  },
  {
   "cell_type": "code",
   "execution_count": null,
   "metadata": {},
   "outputs": [],
   "source": [
    "import numpy as np\n",
    "import pandas as pd\n",
    "import calendar\n",
    "import seaborn as sns\n",
    "from sklearn import linear_model, svm\n",
    "from sklearn.metrics import mean_squared_error, r2_score\n",
    "from sklearn.model_selection import train_test_split\n",
    "import plotly.express as px\n",
    "from matplotlib import pyplot as plt\n",
    "from mpl_toolkits.mplot3d import Axes3D\n",
    "\n",
    "\n",
    "def MMA(x1,x2,x3):\n",
    "\n",
    "\n",
    "    df = pd.read_excel('Datos_finanzas/ETHEREUM.xlsx')\n",
    "    temp=pd.DataFrame(df['Fecha'])\n",
    "    nuevacolumna = []\n",
    "    for i in range(0, len(df['Fecha'])):\n",
    "        nuevacolumna=pd.Timestamp(temp['Fecha'][i]).day_name()\n",
    "        temp['Fecha'][i]=nuevacolumna \n",
    "    df=df.assign(Dia_semana=temp)\n",
    "    #Nuevas columnas Dia, Mes y Año\n",
    "    df['Dia'] = pd.DatetimeIndex(df['Fecha']).day\n",
    "    df['Mes'] = pd.DatetimeIndex(df['Fecha']).month\n",
    "    df['Año'] = pd.DatetimeIndex(df['Fecha']).year\n",
    "    #Transformación de la fecha\n",
    "    df['fecha']=df['Año'].apply(str) + \"-\" + df['Mes'].apply(str) + \"-\" + df['Dia'].apply(str)\n",
    "    df['fecha'] = pd.to_datetime(df['fecha']) \n",
    "    df.index = df['fecha']\n",
    "    datos=df\n",
    "    dictionaries = []\n",
    "\n",
    "    for columna in ['Ganancia','Dia_semana']:\n",
    "        datos[columna], uniques = pd.factorize(datos[columna])\n",
    "        values = list(range(len(uniques)))\n",
    "        dictionaries.append(dict(zip(values, uniques)))\n",
    "\n",
    "    datos=datos.drop(columns=['fecha','Fecha'])\n",
    "    datos\n",
    "    datos=df\n",
    "    #Ordeno las fechas\n",
    "    datos = datos.sort_index(ascending=True, axis=0)\n",
    "    #Obtengo los datos para media movil (en este caso utilizo el cierre del mercado y la fecha)\n",
    "    MediaMovil=datos.iloc[:,[1,2,3,4,5,6]]\n",
    "    \n",
    "    \n",
    "    \n",
    "    \n",
    "    #Establecemos una ventana de 15 dias para la media movil de 15 dias\n",
    "    MediaMovil15 = MediaMovil['Cerrar**'].rolling(window = 15).mean() \n",
    "    MediaMovil30 = MediaMovil['Cerrar**'].rolling(window = 30).mean()\n",
    "    MediaMovil45 = MediaMovil['Cerrar**'].rolling(window = 45).mean()\n",
    "    MediaMovil150 = MediaMovil['Cerrar**'].rolling(window = 150).mean()\n",
    "    def corte(minimo, maximo):\n",
    "    #funcion para calcular los cruces\n",
    "        puntos = {}\n",
    "        for i in zip(minimo, maximo):\n",
    "            if i[0] >= i[1]:\n",
    "            #si es mayor o igual al siguiente entonces hay un minimo en ese punto\n",
    "                fecha = minimo[minimo == i[0]].index[0]\n",
    "                puntos[fecha] = i[0]\n",
    "\n",
    "        puntos = pd.Series(puntos, name='Puntos clave')\n",
    "        puntos.index.name = 'fecha'\n",
    "\n",
    "        return puntos\n",
    "    puntos_MediaMovil30 = corte(MediaMovil15, MediaMovil30)\n",
    "    MediaMovil15 = MediaMovil15.reset_index()\n",
    "    MediaMovil30 = MediaMovil30.reset_index()\n",
    "    cruce = pd.DataFrame()\n",
    "    #creaccion nuevo Dataframe\n",
    "    cruce['fecha'] = MediaMovil15['fecha']\n",
    "    cruce['precio'] = [i for i in MediaMovil['Cerrar**']]\n",
    "    cruce['MediaMovil15'] = MediaMovil15['Cerrar**']\n",
    "    cruce['MediaMovil30'] = MediaMovil30['Cerrar**']\n",
    "    cruce['posicion'] = cruce['MediaMovil15'] >= cruce['MediaMovil30']\n",
    "    #guardamos donde en la MediaMovil15 sea mayor o igual a la MediaMovil de 30\n",
    "    cruce['posicionant'] = cruce['posicion'].shift(1)\n",
    "    #shift para convertir a NaN\n",
    "    cruce['cruce'] = np.where(cruce['posicion'] == cruce['posicionant'], False, True)\n",
    "    cruce['cruce'][0] = False\n",
    "    cruce = cruce.loc[cruce['cruce'] == True]\n",
    "    cruce = cruce.reset_index()\n",
    "    cruce = cruce.drop(['posicion', 'posicionant', 'cruce', 'index'], axis=1)\n",
    "    cruce['salida'] = np.nan\n",
    "    #para crear salida de compra o venta\n",
    "    cruce['salidabin'] = 0.0\n",
    "    #salida 0 o 1 que determina el comportamiento\n",
    "    for i in range(len(cruce['MediaMovil15'])):\n",
    "        if cruce['MediaMovil15'][i] > cruce['MediaMovil30'][i]:\n",
    "            cruce['salidabin'][i] = 1.0\n",
    "            cruce['salida'][i] = 'comprar'\n",
    "        else:\n",
    "            cruce['salida'][i] = 'vender'\n",
    "        #si la media movil a corto plazo es mayor que una de mayor plazo seña de compra\n",
    "    #print(cruce)\n",
    "        \n",
    "    num=str(x1) + \"-\" +str(x2)+ \"-\" + str(x3)\n",
    "    test=MediaMovil15['fecha']==num\n",
    "    test = test.loc[test == True]\n",
    "    test2=len(MediaMovil15)-test.index[0]\n",
    "    p=cruce.loc[cruce.salida == 'comprar']['fecha']>=num\n",
    "    tt = p.loc[p == True]\n",
    "    dimc=len(tt)\n",
    "\n",
    "    pp=cruce.loc[cruce.salida == 'vender']['fecha']>=num\n",
    "    ttt = pp.loc[pp == True]\n",
    "    dimv=len(ttt)\n",
    "    \n",
    "    MediaMovil15 = MediaMovil['Cerrar**'].rolling(window=15).mean()\n",
    "    MediaMovil30 = MediaMovil['Cerrar**'].rolling(window=30).mean()\n",
    "     \n",
    "    fige = Figure(figsize=(16,6))\n",
    "    a = fige.add_subplot(111)\n",
    "    a.set_title('Historico con puntos de compra/venta')\n",
    "    a.plot(MediaMovil['Cerrar**'][-test2:], label='Historico desde 2018')\n",
    "    a.plot(MediaMovil15[-test2:], label='Media Movil 15 días',color='green')\n",
    "    a.plot(MediaMovil30[-test2:], label='Media Movil 30 días',color='red')\n",
    "    a.plot(cruce.loc[cruce.salida == 'comprar']['fecha'][-dimc:], cruce['MediaMovil15'][cruce.salida == 'comprar'][-dimc:],\n",
    "             #cruce.loc[cruce.salida == 'comprar']['fecha'] para ver todos los puntos de compra\n",
    "            '^', markersize=8, color='green', label='compra')\n",
    "    a.plot(cruce.loc[cruce.salida == 'vender']['fecha'][-dimv:], cruce['MediaMovil15'][cruce.salida == 'vender'][-dimv:],\n",
    "            'v', markersize=8, color='red', label='vender')\n",
    "    a.set_xlabel('Fecha')\n",
    "    a.set_ylabel('Cierre')\n",
    "    a.legend(loc='upper left',fontsize=12)\n",
    "    a.grid()\n",
    "    return fige\n",
    "    \n",
    "    \n",
    "    \n",
    "    \n",
    "    "
   ]
  }
 ],
 "metadata": {
  "colab": {
   "collapsed_sections": [],
   "name": "PFG_ADA -fecha.ipynb",
   "provenance": []
  },
  "kernelspec": {
   "display_name": "Python 3",
   "language": "python",
   "name": "python3"
  },
  "language_info": {
   "codemirror_mode": {
    "name": "ipython",
    "version": 3
   },
   "file_extension": ".py",
   "mimetype": "text/x-python",
   "name": "python",
   "nbconvert_exporter": "python",
   "pygments_lexer": "ipython3",
   "version": "3.6.10"
  }
 },
 "nbformat": 4,
 "nbformat_minor": 1
}
