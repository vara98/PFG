{
 "cells": [
  {
   "cell_type": "markdown",
   "metadata": {},
   "source": [
    "#### PFG CARGA DE DATOS DE CARDANO"
   ]
  },
  {
   "cell_type": "code",
   "execution_count": 818,
   "metadata": {},
   "outputs": [
    {
     "name": "stdout",
     "output_type": "stream",
     "text": [
      "Once deleted, variables cannot be recovered. Proceed (y/[n])? Y\n"
     ]
    }
   ],
   "source": [
    "%reset\n",
    "\n",
    "import numpy as np\n",
    "import pandas as pd\n",
    "import calendar\n",
    "import seaborn as sns\n",
    "from sklearn import linear_model\n",
    "from sklearn.metrics import mean_squared_error, r2_score\n",
    "from sklearn.model_selection import train_test_split\n",
    "from matplotlib import pyplot as plt\n",
    "from mpl_toolkits.mplot3d import Axes3D\n",
    "from sklearn.preprocessing import MinMaxScaler\n",
    "from sklearn.model_selection import cross_validate\n",
    "from sklearn import preprocessing, svm "
   ]
  },
  {
   "cell_type": "code",
   "execution_count": 819,
   "metadata": {},
   "outputs": [
    {
     "data": {
      "text/html": [
       "<div>\n",
       "<style scoped>\n",
       "    .dataframe tbody tr th:only-of-type {\n",
       "        vertical-align: middle;\n",
       "    }\n",
       "\n",
       "    .dataframe tbody tr th {\n",
       "        vertical-align: top;\n",
       "    }\n",
       "\n",
       "    .dataframe thead th {\n",
       "        text-align: right;\n",
       "    }\n",
       "</style>\n",
       "<table border=\"1\" class=\"dataframe\">\n",
       "  <thead>\n",
       "    <tr style=\"text-align: right;\">\n",
       "      <th></th>\n",
       "      <th>Fecha</th>\n",
       "      <th>Abrir*</th>\n",
       "      <th>Elevar</th>\n",
       "      <th>Disminuir</th>\n",
       "      <th>Cerrar**</th>\n",
       "      <th>Volumen</th>\n",
       "      <th>Cap. de Mercado</th>\n",
       "      <th>Porcentaje Respecto al dia anterior en el abrir del mercado</th>\n",
       "      <th>Porcentaje de Volumen respecto al dia anterior</th>\n",
       "      <th>Porcentaje Cap. De Mercado respecto al día anterior</th>\n",
       "      <th>Ganancia</th>\n",
       "    </tr>\n",
       "  </thead>\n",
       "  <tbody>\n",
       "    <tr>\n",
       "      <th>0</th>\n",
       "      <td>May 31, 2021</td>\n",
       "      <td>1958.87</td>\n",
       "      <td>2228.56</td>\n",
       "      <td>1870.50</td>\n",
       "      <td>2227.81</td>\n",
       "      <td>25443852421</td>\n",
       "      <td>258659102253</td>\n",
       "      <td>4.831450</td>\n",
       "      <td>19.886384</td>\n",
       "      <td>13.650220</td>\n",
       "      <td>SI</td>\n",
       "    </tr>\n",
       "    <tr>\n",
       "      <th>1</th>\n",
       "      <td>May 30, 2021</td>\n",
       "      <td>1868.59</td>\n",
       "      <td>2027.62</td>\n",
       "      <td>1795.22</td>\n",
       "      <td>1960.46</td>\n",
       "      <td>21223304586</td>\n",
       "      <td>227592258847</td>\n",
       "      <td>-5.624384</td>\n",
       "      <td>-23.382384</td>\n",
       "      <td>4.872482</td>\n",
       "      <td>NO</td>\n",
       "    </tr>\n",
       "    <tr>\n",
       "      <th>2</th>\n",
       "      <td>May 29, 2021</td>\n",
       "      <td>1979.95</td>\n",
       "      <td>2105.33</td>\n",
       "      <td>1811.34</td>\n",
       "      <td>1869.60</td>\n",
       "      <td>27700293434</td>\n",
       "      <td>217018090789</td>\n",
       "      <td>-11.999093</td>\n",
       "      <td>-15.586988</td>\n",
       "      <td>-5.816447</td>\n",
       "      <td>NO</td>\n",
       "    </tr>\n",
       "    <tr>\n",
       "      <th>3</th>\n",
       "      <td>May 28, 2021</td>\n",
       "      <td>2249.92</td>\n",
       "      <td>2265.42</td>\n",
       "      <td>1916.75</td>\n",
       "      <td>1985.29</td>\n",
       "      <td>32815193787</td>\n",
       "      <td>230420369985</td>\n",
       "      <td>-5.045833</td>\n",
       "      <td>19.874792</td>\n",
       "      <td>-11.542140</td>\n",
       "      <td>NO</td>\n",
       "    </tr>\n",
       "    <tr>\n",
       "      <th>4</th>\n",
       "      <td>May 27, 2021</td>\n",
       "      <td>2369.48</td>\n",
       "      <td>2369.48</td>\n",
       "      <td>2167.59</td>\n",
       "      <td>2244.59</td>\n",
       "      <td>27374557472</td>\n",
       "      <td>260486033577</td>\n",
       "      <td>7.232787</td>\n",
       "      <td>-21.089998</td>\n",
       "      <td>-4.795720</td>\n",
       "      <td>SI</td>\n",
       "    </tr>\n",
       "  </tbody>\n",
       "</table>\n",
       "</div>"
      ],
      "text/plain": [
       "          Fecha   Abrir*   Elevar  Disminuir  Cerrar**      Volumen  \\\n",
       "0  May 31, 2021  1958.87  2228.56    1870.50   2227.81  25443852421   \n",
       "1  May 30, 2021  1868.59  2027.62    1795.22   1960.46  21223304586   \n",
       "2  May 29, 2021  1979.95  2105.33    1811.34   1869.60  27700293434   \n",
       "3  May 28, 2021  2249.92  2265.42    1916.75   1985.29  32815193787   \n",
       "4  May 27, 2021  2369.48  2369.48    2167.59   2244.59  27374557472   \n",
       "\n",
       "   Cap. de Mercado  \\\n",
       "0     258659102253   \n",
       "1     227592258847   \n",
       "2     217018090789   \n",
       "3     230420369985   \n",
       "4     260486033577   \n",
       "\n",
       "   Porcentaje Respecto al dia anterior en el abrir del mercado  \\\n",
       "0                                           4.831450             \n",
       "1                                          -5.624384             \n",
       "2                                         -11.999093             \n",
       "3                                          -5.045833             \n",
       "4                                           7.232787             \n",
       "\n",
       "   Porcentaje de Volumen respecto al dia anterior  \\\n",
       "0                                       19.886384   \n",
       "1                                      -23.382384   \n",
       "2                                      -15.586988   \n",
       "3                                       19.874792   \n",
       "4                                      -21.089998   \n",
       "\n",
       "   Porcentaje Cap. De Mercado respecto al día anterior Ganancia  \n",
       "0                                          13.650220         SI  \n",
       "1                                           4.872482         NO  \n",
       "2                                          -5.816447         NO  \n",
       "3                                         -11.542140         NO  \n",
       "4                                          -4.795720         SI  "
      ]
     },
     "execution_count": 819,
     "metadata": {},
     "output_type": "execute_result"
    }
   ],
   "source": [
    "#Read the data\n",
    "df = pd.read_excel('Datos_finanzas/ETHEREUM.xlsx')\n",
    "df.head()"
   ]
  },
  {
   "cell_type": "code",
   "execution_count": 820,
   "metadata": {},
   "outputs": [],
   "source": [
    "temp=pd.DataFrame(df['Fecha'])\n",
    "nuevacolumna = []\n",
    "for i in range(0, len(df['Fecha'])):\n",
    "    nuevacolumna=pd.Timestamp(temp['Fecha'][i]).day_name()\n",
    "    temp['Fecha'][i]=nuevacolumna \n",
    "df=df.assign(Dia_semana=temp)\n",
    "#Nuevas columnas Dia, Mes y Año\n",
    "df['Dia'] = pd.DatetimeIndex(df['Fecha']).day\n",
    "df['Mes'] = pd.DatetimeIndex(df['Fecha']).month\n",
    "df['Año'] = pd.DatetimeIndex(df['Fecha']).year\n",
    "#Transformación de la fecha\n",
    "df['fecha']=df['Año'].apply(str) + \"-\" + df['Mes'].apply(str) + \"-\" + df['Dia'].apply(str)\n",
    "df['fecha'] = pd.to_datetime(df['fecha']) \n",
    "df.index = df['fecha']\n",
    "datos=df\n",
    "dictionaries = []\n",
    "\n",
    "for columna in ['Ganancia','Dia_semana']:\n",
    "    datos[columna], uniques = pd.factorize(datos[columna])\n",
    "    values = list(range(len(uniques)))\n",
    "    dictionaries.append(dict(zip(values, uniques)))\n",
    "datos=datos.drop(columns=['fecha','Fecha'])\n",
    "datos=df\n",
    "datos = datos.sort_index(ascending=True, axis=0)"
   ]
  },
  {
   "cell_type": "code",
   "execution_count": 821,
   "metadata": {},
   "outputs": [
    {
     "data": {
      "text/html": [
       "<div>\n",
       "<style scoped>\n",
       "    .dataframe tbody tr th:only-of-type {\n",
       "        vertical-align: middle;\n",
       "    }\n",
       "\n",
       "    .dataframe tbody tr th {\n",
       "        vertical-align: top;\n",
       "    }\n",
       "\n",
       "    .dataframe thead th {\n",
       "        text-align: right;\n",
       "    }\n",
       "</style>\n",
       "<table border=\"1\" class=\"dataframe\">\n",
       "  <thead>\n",
       "    <tr style=\"text-align: right;\">\n",
       "      <th></th>\n",
       "      <th>Abrir*</th>\n",
       "      <th>Elevar</th>\n",
       "      <th>Disminuir</th>\n",
       "      <th>Cerrar**</th>\n",
       "      <th>Volumen</th>\n",
       "      <th>Cap. de Mercado</th>\n",
       "      <th>Dia</th>\n",
       "      <th>Mes</th>\n",
       "      <th>Año</th>\n",
       "    </tr>\n",
       "    <tr>\n",
       "      <th>fecha</th>\n",
       "      <th></th>\n",
       "      <th></th>\n",
       "      <th></th>\n",
       "      <th></th>\n",
       "      <th></th>\n",
       "      <th></th>\n",
       "      <th></th>\n",
       "      <th></th>\n",
       "      <th></th>\n",
       "    </tr>\n",
       "  </thead>\n",
       "  <tbody>\n",
       "    <tr>\n",
       "      <th>2015-08-07</th>\n",
       "      <td>2.59</td>\n",
       "      <td>3.24</td>\n",
       "      <td>2.31</td>\n",
       "      <td>2.54</td>\n",
       "      <td>150429</td>\n",
       "      <td>152517901</td>\n",
       "      <td>7</td>\n",
       "      <td>8</td>\n",
       "      <td>2015</td>\n",
       "    </tr>\n",
       "    <tr>\n",
       "      <th>2015-08-08</th>\n",
       "      <td>2.55</td>\n",
       "      <td>2.55</td>\n",
       "      <td>0.65</td>\n",
       "      <td>0.69</td>\n",
       "      <td>614518</td>\n",
       "      <td>41461028</td>\n",
       "      <td>8</td>\n",
       "      <td>8</td>\n",
       "      <td>2015</td>\n",
       "    </tr>\n",
       "    <tr>\n",
       "      <th>2015-08-09</th>\n",
       "      <td>0.64</td>\n",
       "      <td>0.80</td>\n",
       "      <td>0.57</td>\n",
       "      <td>0.64</td>\n",
       "      <td>485070</td>\n",
       "      <td>38646954</td>\n",
       "      <td>9</td>\n",
       "      <td>8</td>\n",
       "      <td>2015</td>\n",
       "    </tr>\n",
       "    <tr>\n",
       "      <th>2015-08-10</th>\n",
       "      <td>0.65</td>\n",
       "      <td>0.67</td>\n",
       "      <td>0.58</td>\n",
       "      <td>0.65</td>\n",
       "      <td>369818</td>\n",
       "      <td>39071416</td>\n",
       "      <td>10</td>\n",
       "      <td>8</td>\n",
       "      <td>2015</td>\n",
       "    </tr>\n",
       "    <tr>\n",
       "      <th>2015-08-11</th>\n",
       "      <td>0.64</td>\n",
       "      <td>1.03</td>\n",
       "      <td>0.60</td>\n",
       "      <td>0.97</td>\n",
       "      <td>1327918</td>\n",
       "      <td>58603457</td>\n",
       "      <td>11</td>\n",
       "      <td>8</td>\n",
       "      <td>2015</td>\n",
       "    </tr>\n",
       "    <tr>\n",
       "      <th>2015-08-12</th>\n",
       "      <td>0.96</td>\n",
       "      <td>1.17</td>\n",
       "      <td>0.80</td>\n",
       "      <td>1.10</td>\n",
       "      <td>1947673</td>\n",
       "      <td>66695355</td>\n",
       "      <td>12</td>\n",
       "      <td>8</td>\n",
       "      <td>2015</td>\n",
       "    </tr>\n",
       "    <tr>\n",
       "      <th>2015-08-13</th>\n",
       "      <td>1.10</td>\n",
       "      <td>1.76</td>\n",
       "      <td>1.05</td>\n",
       "      <td>1.64</td>\n",
       "      <td>3646751</td>\n",
       "      <td>99137037</td>\n",
       "      <td>13</td>\n",
       "      <td>8</td>\n",
       "      <td>2015</td>\n",
       "    </tr>\n",
       "    <tr>\n",
       "      <th>2015-08-14</th>\n",
       "      <td>1.62</td>\n",
       "      <td>2.03</td>\n",
       "      <td>1.57</td>\n",
       "      <td>1.64</td>\n",
       "      <td>4157280</td>\n",
       "      <td>99222092</td>\n",
       "      <td>14</td>\n",
       "      <td>8</td>\n",
       "      <td>2015</td>\n",
       "    </tr>\n",
       "    <tr>\n",
       "      <th>2015-08-15</th>\n",
       "      <td>1.62</td>\n",
       "      <td>1.69</td>\n",
       "      <td>1.41</td>\n",
       "      <td>1.52</td>\n",
       "      <td>2299775</td>\n",
       "      <td>92107327</td>\n",
       "      <td>15</td>\n",
       "      <td>8</td>\n",
       "      <td>2015</td>\n",
       "    </tr>\n",
       "    <tr>\n",
       "      <th>2015-08-16</th>\n",
       "      <td>1.52</td>\n",
       "      <td>1.53</td>\n",
       "      <td>0.98</td>\n",
       "      <td>1.41</td>\n",
       "      <td>3196894</td>\n",
       "      <td>85442519</td>\n",
       "      <td>16</td>\n",
       "      <td>8</td>\n",
       "      <td>2015</td>\n",
       "    </tr>\n",
       "  </tbody>\n",
       "</table>\n",
       "</div>"
      ],
      "text/plain": [
       "            Abrir*  Elevar  Disminuir  Cerrar**  Volumen  Cap. de Mercado  \\\n",
       "fecha                                                                       \n",
       "2015-08-07    2.59    3.24       2.31      2.54   150429        152517901   \n",
       "2015-08-08    2.55    2.55       0.65      0.69   614518         41461028   \n",
       "2015-08-09    0.64    0.80       0.57      0.64   485070         38646954   \n",
       "2015-08-10    0.65    0.67       0.58      0.65   369818         39071416   \n",
       "2015-08-11    0.64    1.03       0.60      0.97  1327918         58603457   \n",
       "2015-08-12    0.96    1.17       0.80      1.10  1947673         66695355   \n",
       "2015-08-13    1.10    1.76       1.05      1.64  3646751         99137037   \n",
       "2015-08-14    1.62    2.03       1.57      1.64  4157280         99222092   \n",
       "2015-08-15    1.62    1.69       1.41      1.52  2299775         92107327   \n",
       "2015-08-16    1.52    1.53       0.98      1.41  3196894         85442519   \n",
       "\n",
       "            Dia  Mes   Año  \n",
       "fecha                       \n",
       "2015-08-07    7    8  2015  \n",
       "2015-08-08    8    8  2015  \n",
       "2015-08-09    9    8  2015  \n",
       "2015-08-10   10    8  2015  \n",
       "2015-08-11   11    8  2015  \n",
       "2015-08-12   12    8  2015  \n",
       "2015-08-13   13    8  2015  \n",
       "2015-08-14   14    8  2015  \n",
       "2015-08-15   15    8  2015  \n",
       "2015-08-16   16    8  2015  "
      ]
     },
     "execution_count": 821,
     "metadata": {},
     "output_type": "execute_result"
    }
   ],
   "source": [
    "#ENTRADAS\n",
    "X4 = datos.iloc[:,[1,2,3,4,5,6,12,13,14]]\n",
    "X4.head(10)"
   ]
  },
  {
   "cell_type": "code",
   "execution_count": 822,
   "metadata": {},
   "outputs": [],
   "source": [
    "X = datos.iloc[:,[1,12,13,14]]\n",
    "Y = datos.iloc[:,[4]]"
   ]
  },
  {
   "cell_type": "code",
   "execution_count": 823,
   "metadata": {},
   "outputs": [],
   "source": [
    "#normalizacion\n",
    "sc = MinMaxScaler(feature_range = (0, 1))"
   ]
  },
  {
   "cell_type": "code",
   "execution_count": 824,
   "metadata": {},
   "outputs": [
    {
     "data": {
      "text/html": [
       "<div>\n",
       "<style scoped>\n",
       "    .dataframe tbody tr th:only-of-type {\n",
       "        vertical-align: middle;\n",
       "    }\n",
       "\n",
       "    .dataframe tbody tr th {\n",
       "        vertical-align: top;\n",
       "    }\n",
       "\n",
       "    .dataframe thead th {\n",
       "        text-align: right;\n",
       "    }\n",
       "</style>\n",
       "<table border=\"1\" class=\"dataframe\">\n",
       "  <thead>\n",
       "    <tr style=\"text-align: right;\">\n",
       "      <th></th>\n",
       "      <th>Abrir*</th>\n",
       "      <th>Dia</th>\n",
       "      <th>Mes</th>\n",
       "      <th>Año</th>\n",
       "    </tr>\n",
       "    <tr>\n",
       "      <th>fecha</th>\n",
       "      <th></th>\n",
       "      <th></th>\n",
       "      <th></th>\n",
       "      <th></th>\n",
       "    </tr>\n",
       "  </thead>\n",
       "  <tbody>\n",
       "    <tr>\n",
       "      <th>2015-08-07</th>\n",
       "      <td>2.59</td>\n",
       "      <td>7</td>\n",
       "      <td>8</td>\n",
       "      <td>2015</td>\n",
       "    </tr>\n",
       "    <tr>\n",
       "      <th>2015-08-08</th>\n",
       "      <td>2.55</td>\n",
       "      <td>8</td>\n",
       "      <td>8</td>\n",
       "      <td>2015</td>\n",
       "    </tr>\n",
       "    <tr>\n",
       "      <th>2015-08-09</th>\n",
       "      <td>0.64</td>\n",
       "      <td>9</td>\n",
       "      <td>8</td>\n",
       "      <td>2015</td>\n",
       "    </tr>\n",
       "    <tr>\n",
       "      <th>2015-08-10</th>\n",
       "      <td>0.65</td>\n",
       "      <td>10</td>\n",
       "      <td>8</td>\n",
       "      <td>2015</td>\n",
       "    </tr>\n",
       "    <tr>\n",
       "      <th>2015-08-11</th>\n",
       "      <td>0.64</td>\n",
       "      <td>11</td>\n",
       "      <td>8</td>\n",
       "      <td>2015</td>\n",
       "    </tr>\n",
       "    <tr>\n",
       "      <th>...</th>\n",
       "      <td>...</td>\n",
       "      <td>...</td>\n",
       "      <td>...</td>\n",
       "      <td>...</td>\n",
       "    </tr>\n",
       "    <tr>\n",
       "      <th>2021-05-27</th>\n",
       "      <td>2369.48</td>\n",
       "      <td>27</td>\n",
       "      <td>5</td>\n",
       "      <td>2021</td>\n",
       "    </tr>\n",
       "    <tr>\n",
       "      <th>2021-05-28</th>\n",
       "      <td>2249.92</td>\n",
       "      <td>28</td>\n",
       "      <td>5</td>\n",
       "      <td>2021</td>\n",
       "    </tr>\n",
       "    <tr>\n",
       "      <th>2021-05-29</th>\n",
       "      <td>1979.95</td>\n",
       "      <td>29</td>\n",
       "      <td>5</td>\n",
       "      <td>2021</td>\n",
       "    </tr>\n",
       "    <tr>\n",
       "      <th>2021-05-30</th>\n",
       "      <td>1868.59</td>\n",
       "      <td>30</td>\n",
       "      <td>5</td>\n",
       "      <td>2021</td>\n",
       "    </tr>\n",
       "    <tr>\n",
       "      <th>2021-05-31</th>\n",
       "      <td>1958.87</td>\n",
       "      <td>31</td>\n",
       "      <td>5</td>\n",
       "      <td>2021</td>\n",
       "    </tr>\n",
       "  </tbody>\n",
       "</table>\n",
       "<p>2125 rows × 4 columns</p>\n",
       "</div>"
      ],
      "text/plain": [
       "             Abrir*  Dia  Mes   Año\n",
       "fecha                              \n",
       "2015-08-07     2.59    7    8  2015\n",
       "2015-08-08     2.55    8    8  2015\n",
       "2015-08-09     0.64    9    8  2015\n",
       "2015-08-10     0.65   10    8  2015\n",
       "2015-08-11     0.64   11    8  2015\n",
       "...             ...  ...  ...   ...\n",
       "2021-05-27  2369.48   27    5  2021\n",
       "2021-05-28  2249.92   28    5  2021\n",
       "2021-05-29  1979.95   29    5  2021\n",
       "2021-05-30  1868.59   30    5  2021\n",
       "2021-05-31  1958.87   31    5  2021\n",
       "\n",
       "[2125 rows x 4 columns]"
      ]
     },
     "execution_count": 824,
     "metadata": {},
     "output_type": "execute_result"
    }
   ],
   "source": [
    "X"
   ]
  },
  {
   "cell_type": "code",
   "execution_count": 825,
   "metadata": {},
   "outputs": [],
   "source": [
    "X = sc.fit_transform(X)"
   ]
  },
  {
   "cell_type": "code",
   "execution_count": 826,
   "metadata": {},
   "outputs": [
    {
     "data": {
      "text/plain": [
       "(2125, 4)"
      ]
     },
     "execution_count": 826,
     "metadata": {},
     "output_type": "execute_result"
    }
   ],
   "source": [
    "X.shape"
   ]
  },
  {
   "cell_type": "code",
   "execution_count": 827,
   "metadata": {},
   "outputs": [],
   "source": [
    "x_trainSVR,x_validSVR,y_trainSVR,y_validSVR=train_test_split(X,np.array(Y),test_size=0.2,random_state=233)"
   ]
  },
  {
   "cell_type": "code",
   "execution_count": 828,
   "metadata": {},
   "outputs": [],
   "source": [
    "#clf = svm.SVR(kernel='rbf', C=1e10, gamma=0.0000001) btc\n",
    "#clf = svm.SVR(kernel='rbf', C=1e8, gamma=0.00001) eth"
   ]
  },
  {
   "cell_type": "code",
   "execution_count": 829,
   "metadata": {
    "scrolled": true
   },
   "outputs": [
    {
     "name": "stdout",
     "output_type": "stream",
     "text": [
      "0.9896705497676062\n"
     ]
    }
   ],
   "source": [
    "clf = svm.SVR(kernel='rbf',  C=1e7, gamma= 0.00001)\n",
    "clf.fit(x_trainSVR,y_trainSVR.ravel())\n",
    "#accuracy = mean_squared_error(x_validSVR, y_validSVR.ravel())\n",
    "accuracy = clf.score(x_validSVR,y_validSVR.ravel())\n",
    "print (accuracy)"
   ]
  },
  {
   "cell_type": "code",
   "execution_count": 830,
   "metadata": {},
   "outputs": [
    {
     "data": {
      "text/plain": [
       "(425, 4)"
      ]
     },
     "execution_count": 830,
     "metadata": {},
     "output_type": "execute_result"
    }
   ],
   "source": [
    "x_validSVR.shape"
   ]
  },
  {
   "cell_type": "code",
   "execution_count": 831,
   "metadata": {},
   "outputs": [],
   "source": [
    "predicionSVM = clf.predict(x_validSVR)"
   ]
  },
  {
   "cell_type": "code",
   "execution_count": 832,
   "metadata": {},
   "outputs": [],
   "source": [
    "YY=pd.DataFrame(Y)\n",
    "YY=predicionSVM"
   ]
  },
  {
   "cell_type": "code",
   "execution_count": 833,
   "metadata": {},
   "outputs": [],
   "source": [
    "y_validSVR =pd.DataFrame(y_validSVR)\n",
    "y_validSVR['Cerrar**']=y_validSVR"
   ]
  },
  {
   "cell_type": "code",
   "execution_count": 834,
   "metadata": {},
   "outputs": [],
   "source": [
    "y_validSVR= pd.DataFrame(y_validSVR)\n",
    "y_validSVR['predicionSVM'] = 0\n",
    "y_validSVR['predicionSVM'] = YY\n",
    "y_validSVR=y_validSVR.iloc[:,[1,2]]\n"
   ]
  },
  {
   "cell_type": "code",
   "execution_count": 835,
   "metadata": {
    "scrolled": true
   },
   "outputs": [],
   "source": [
    "y_trainSVR= pd.DataFrame(y_trainSVR)\n",
    "y_trainSVR['Cerrar**']=y_trainSVR\n",
    "y_trainSVR=y_trainSVR.iloc[:,[1]]"
   ]
  },
  {
   "cell_type": "code",
   "execution_count": 836,
   "metadata": {},
   "outputs": [
    {
     "data": {
      "image/png": "[encoded data removed]",
      "text/plain": [
       "<Figure size 1152x432 with 1 Axes>"
      ]
     },
     "metadata": {
      "needs_background": "light"
     },
     "output_type": "display_data"
    }
   ],
   "source": [
    "#Visualización del resultado\n",
    "\n",
    "plt.figure(figsize=(16,6))\n",
    "plt.title('SVR PREDICCION')\n",
    "#plt.plot(y_trainSVR['Cerrar**'],color='blue',label='entrenamiento')\n",
    "plt.plot(y_validSVR['Cerrar**'],color='red',label='Cierre real')\n",
    "plt.plot(y_validSVR['predicionSVM'],color='green',label='Cierre predicción')\n",
    "plt.xlabel('Casos')\n",
    "plt.ylabel('Cierre')\n",
    "plt.legend(loc='upper left',fontsize=12)\n",
    "plt.grid()"
   ]
  },
  {
   "cell_type": "code",
   "execution_count": 837,
   "metadata": {},
   "outputs": [],
   "source": [
    "X_test = np.array([[3000,1,6,2021]])"
   ]
  },
  {
   "cell_type": "code",
   "execution_count": 838,
   "metadata": {},
   "outputs": [
    {
     "data": {
      "text/plain": [
       "array([[0.87277414, 0.        , 0.45454545, 1.        ]])"
      ]
     },
     "execution_count": 838,
     "metadata": {},
     "output_type": "execute_result"
    }
   ],
   "source": [
    "X_test = sc.transform(X_test)\n",
    "X_test"
   ]
  },
  {
   "cell_type": "code",
   "execution_count": 839,
   "metadata": {},
   "outputs": [],
   "source": [
    "predictedtest=clf.predict(X_test)"
   ]
  },
  {
   "cell_type": "code",
   "execution_count": 840,
   "metadata": {},
   "outputs": [
    {
     "data": {
      "text/plain": [
       "array([2961.02437732])"
      ]
     },
     "execution_count": 840,
     "metadata": {},
     "output_type": "execute_result"
    }
   ],
   "source": [
    "predictedtest"
   ]
  },
  {
   "cell_type": "code",
   "execution_count": null,
   "metadata": {},
   "outputs": [],
   "source": []
  }
 ],
 "metadata": {
  "kernelspec": {
   "display_name": "Python 3",
   "language": "python",
   "name": "python3"
  },
  "language_info": {
   "codemirror_mode": {
    "name": "ipython",
    "version": 3
   },
   "file_extension": ".py",
   "mimetype": "text/x-python",
   "name": "python",
   "nbconvert_exporter": "python",
   "pygments_lexer": "ipython3",
   "version": "3.6.10"
  }
 },
 "nbformat": 4,
 "nbformat_minor": 4
}
