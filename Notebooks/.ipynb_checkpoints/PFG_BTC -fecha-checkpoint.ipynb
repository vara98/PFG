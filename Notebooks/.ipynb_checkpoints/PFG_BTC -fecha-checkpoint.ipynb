{
 "cells": [
  {
   "cell_type": "markdown",
   "metadata": {},
   "source": [
    "#### PFG CARGA DE DATOS DE CARDANO"
   ]
  },
  {
   "cell_type": "code",
   "execution_count": 209,
   "metadata": {},
   "outputs": [
    {
     "name": "stdout",
     "output_type": "stream",
     "text": [
      "Once deleted, variables cannot be recovered. Proceed (y/[n])? y\n"
     ]
    }
   ],
   "source": [
    "%reset\n",
    "\n",
    "import numpy as np\n",
    "import pandas as pd\n",
    "import calendar\n",
    "import seaborn as sns\n",
    "from sklearn import linear_model, svm\n",
    "from sklearn.metrics import mean_squared_error, r2_score\n",
    "from sklearn.model_selection import train_test_split\n",
    "import plotly.express as px\n",
    "from matplotlib import pyplot as plt\n",
    "from mpl_toolkits.mplot3d import Axes3D"
   ]
  },
  {
   "cell_type": "markdown",
   "metadata": {},
   "source": [
    "## Lectura de los datos "
   ]
  },
  {
   "cell_type": "code",
   "execution_count": 210,
   "metadata": {
    "scrolled": true
   },
   "outputs": [
    {
     "data": {
      "text/html": [
       "<div>\n",
       "<style scoped>\n",
       "    .dataframe tbody tr th:only-of-type {\n",
       "        vertical-align: middle;\n",
       "    }\n",
       "\n",
       "    .dataframe tbody tr th {\n",
       "        vertical-align: top;\n",
       "    }\n",
       "\n",
       "    .dataframe thead th {\n",
       "        text-align: right;\n",
       "    }\n",
       "</style>\n",
       "<table border=\"1\" class=\"dataframe\">\n",
       "  <thead>\n",
       "    <tr style=\"text-align: right;\">\n",
       "      <th></th>\n",
       "      <th>Fecha</th>\n",
       "      <th>Abrir*</th>\n",
       "      <th>Elevar</th>\n",
       "      <th>Disminuir</th>\n",
       "      <th>Cerrar**</th>\n",
       "      <th>Volumen</th>\n",
       "      <th>Cap. de Mercado</th>\n",
       "      <th>Porcentaje Respecto al dia anterior en el abrir del mercado</th>\n",
       "      <th>Porcentaje de Volumen respecto al dia anterior</th>\n",
       "      <th>Porcentaje Cap. De Mercado respecto al día anterior</th>\n",
       "      <th>Ganancia</th>\n",
       "    </tr>\n",
       "  </thead>\n",
       "  <tbody>\n",
       "    <tr>\n",
       "      <th>0</th>\n",
       "      <td>May 19, 2021</td>\n",
       "      <td>42944.98</td>\n",
       "      <td>43546.12</td>\n",
       "      <td>30681.50</td>\n",
       "      <td>37002.44</td>\n",
       "      <td>126358098747</td>\n",
       "      <td>692452570147</td>\n",
       "      <td>-1.248803</td>\n",
       "      <td>124.887034</td>\n",
       "      <td>-13.764048</td>\n",
       "      <td>SI</td>\n",
       "    </tr>\n",
       "    <tr>\n",
       "      <th>1</th>\n",
       "      <td>May 18, 2021</td>\n",
       "      <td>43488.06</td>\n",
       "      <td>45812.46</td>\n",
       "      <td>42367.83</td>\n",
       "      <td>42909.40</td>\n",
       "      <td>56187365084</td>\n",
       "      <td>802974346863</td>\n",
       "      <td>-6.307838</td>\n",
       "      <td>-24.987135</td>\n",
       "      <td>-1.439459</td>\n",
       "      <td>NO</td>\n",
       "    </tr>\n",
       "    <tr>\n",
       "      <th>2</th>\n",
       "      <td>May 17, 2021</td>\n",
       "      <td>46415.90</td>\n",
       "      <td>46623.56</td>\n",
       "      <td>42207.29</td>\n",
       "      <td>43537.51</td>\n",
       "      <td>74903638450</td>\n",
       "      <td>814701646509</td>\n",
       "      <td>-0.643753</td>\n",
       "      <td>16.949458</td>\n",
       "      <td>-6.278470</td>\n",
       "      <td>SI</td>\n",
       "    </tr>\n",
       "    <tr>\n",
       "      <th>3</th>\n",
       "      <td>May 16, 2021</td>\n",
       "      <td>46716.64</td>\n",
       "      <td>49720.04</td>\n",
       "      <td>43963.35</td>\n",
       "      <td>46456.06</td>\n",
       "      <td>64047871555</td>\n",
       "      <td>869279076502</td>\n",
       "      <td>-6.295896</td>\n",
       "      <td>8.260205</td>\n",
       "      <td>-0.645987</td>\n",
       "      <td>NO</td>\n",
       "    </tr>\n",
       "    <tr>\n",
       "      <th>4</th>\n",
       "      <td>May 15, 2021</td>\n",
       "      <td>49855.49</td>\n",
       "      <td>50639.67</td>\n",
       "      <td>46664.14</td>\n",
       "      <td>46760.19</td>\n",
       "      <td>59161047474</td>\n",
       "      <td>874931019742</td>\n",
       "      <td>0.347222</td>\n",
       "      <td>6.142274</td>\n",
       "      <td>-6.251722</td>\n",
       "      <td>SI</td>\n",
       "    </tr>\n",
       "    <tr>\n",
       "      <th>...</th>\n",
       "      <td>...</td>\n",
       "      <td>...</td>\n",
       "      <td>...</td>\n",
       "      <td>...</td>\n",
       "      <td>...</td>\n",
       "      <td>...</td>\n",
       "      <td>...</td>\n",
       "      <td>...</td>\n",
       "      <td>...</td>\n",
       "      <td>...</td>\n",
       "      <td>...</td>\n",
       "    </tr>\n",
       "    <tr>\n",
       "      <th>2906</th>\n",
       "      <td>May 03, 2013</td>\n",
       "      <td>106.25</td>\n",
       "      <td>108.13</td>\n",
       "      <td>79.10</td>\n",
       "      <td>97.75</td>\n",
       "      <td>0</td>\n",
       "      <td>1085995169</td>\n",
       "      <td>-8.704245</td>\n",
       "      <td>0.000000</td>\n",
       "      <td>-7.062139</td>\n",
       "      <td>SI</td>\n",
       "    </tr>\n",
       "    <tr>\n",
       "      <th>2907</th>\n",
       "      <td>May 02, 2013</td>\n",
       "      <td>116.38</td>\n",
       "      <td>125.60</td>\n",
       "      <td>92.28</td>\n",
       "      <td>105.21</td>\n",
       "      <td>0</td>\n",
       "      <td>1168517495</td>\n",
       "      <td>-16.273381</td>\n",
       "      <td>0.000000</td>\n",
       "      <td>-10.041698</td>\n",
       "      <td>NO</td>\n",
       "    </tr>\n",
       "    <tr>\n",
       "      <th>2908</th>\n",
       "      <td>May 01, 2013</td>\n",
       "      <td>139.00</td>\n",
       "      <td>139.89</td>\n",
       "      <td>107.72</td>\n",
       "      <td>116.99</td>\n",
       "      <td>0</td>\n",
       "      <td>1298954594</td>\n",
       "      <td>-3.472222</td>\n",
       "      <td>0.000000</td>\n",
       "      <td>-15.806096</td>\n",
       "      <td>NO</td>\n",
       "    </tr>\n",
       "    <tr>\n",
       "      <th>2909</th>\n",
       "      <td>Apr 30, 2013</td>\n",
       "      <td>144.00</td>\n",
       "      <td>146.93</td>\n",
       "      <td>134.05</td>\n",
       "      <td>139.00</td>\n",
       "      <td>0</td>\n",
       "      <td>1542813125</td>\n",
       "      <td>7.110979</td>\n",
       "      <td>0.000000</td>\n",
       "      <td>-3.800781</td>\n",
       "      <td>SI</td>\n",
       "    </tr>\n",
       "    <tr>\n",
       "      <th>2910</th>\n",
       "      <td>Apr 29, 2013</td>\n",
       "      <td>134.44</td>\n",
       "      <td>147.49</td>\n",
       "      <td>134.00</td>\n",
       "      <td>144.54</td>\n",
       "      <td>0</td>\n",
       "      <td>1603768865</td>\n",
       "      <td>0.000000</td>\n",
       "      <td>0.000000</td>\n",
       "      <td>0.000000</td>\n",
       "      <td>SI</td>\n",
       "    </tr>\n",
       "  </tbody>\n",
       "</table>\n",
       "<p>2911 rows × 11 columns</p>\n",
       "</div>"
      ],
      "text/plain": [
       "             Fecha    Abrir*    Elevar  Disminuir  Cerrar**       Volumen  \\\n",
       "0     May 19, 2021  42944.98  43546.12   30681.50  37002.44  126358098747   \n",
       "1     May 18, 2021  43488.06  45812.46   42367.83  42909.40   56187365084   \n",
       "2     May 17, 2021  46415.90  46623.56   42207.29  43537.51   74903638450   \n",
       "3     May 16, 2021  46716.64  49720.04   43963.35  46456.06   64047871555   \n",
       "4     May 15, 2021  49855.49  50639.67   46664.14  46760.19   59161047474   \n",
       "...            ...       ...       ...        ...       ...           ...   \n",
       "2906  May 03, 2013    106.25    108.13      79.10     97.75             0   \n",
       "2907  May 02, 2013    116.38    125.60      92.28    105.21             0   \n",
       "2908  May 01, 2013    139.00    139.89     107.72    116.99             0   \n",
       "2909  Apr 30, 2013    144.00    146.93     134.05    139.00             0   \n",
       "2910  Apr 29, 2013    134.44    147.49     134.00    144.54             0   \n",
       "\n",
       "      Cap. de Mercado  \\\n",
       "0        692452570147   \n",
       "1        802974346863   \n",
       "2        814701646509   \n",
       "3        869279076502   \n",
       "4        874931019742   \n",
       "...               ...   \n",
       "2906       1085995169   \n",
       "2907       1168517495   \n",
       "2908       1298954594   \n",
       "2909       1542813125   \n",
       "2910       1603768865   \n",
       "\n",
       "      Porcentaje Respecto al dia anterior en el abrir del mercado  \\\n",
       "0                                             -1.248803             \n",
       "1                                             -6.307838             \n",
       "2                                             -0.643753             \n",
       "3                                             -6.295896             \n",
       "4                                              0.347222             \n",
       "...                                                 ...             \n",
       "2906                                          -8.704245             \n",
       "2907                                         -16.273381             \n",
       "2908                                          -3.472222             \n",
       "2909                                           7.110979             \n",
       "2910                                           0.000000             \n",
       "\n",
       "      Porcentaje de Volumen respecto al dia anterior  \\\n",
       "0                                         124.887034   \n",
       "1                                         -24.987135   \n",
       "2                                          16.949458   \n",
       "3                                           8.260205   \n",
       "4                                           6.142274   \n",
       "...                                              ...   \n",
       "2906                                        0.000000   \n",
       "2907                                        0.000000   \n",
       "2908                                        0.000000   \n",
       "2909                                        0.000000   \n",
       "2910                                        0.000000   \n",
       "\n",
       "      Porcentaje Cap. De Mercado respecto al día anterior Ganancia  \n",
       "0                                            -13.764048         SI  \n",
       "1                                             -1.439459         NO  \n",
       "2                                             -6.278470         SI  \n",
       "3                                             -0.645987         NO  \n",
       "4                                             -6.251722         SI  \n",
       "...                                                 ...        ...  \n",
       "2906                                          -7.062139         SI  \n",
       "2907                                         -10.041698         NO  \n",
       "2908                                         -15.806096         NO  \n",
       "2909                                          -3.800781         SI  \n",
       "2910                                           0.000000         SI  \n",
       "\n",
       "[2911 rows x 11 columns]"
      ]
     },
     "execution_count": 210,
     "metadata": {},
     "output_type": "execute_result"
    }
   ],
   "source": [
    "df = pd.read_excel('Datos_finanzas/BITCOIN.xlsx')\n",
    "df"
   ]
  },
  {
   "cell_type": "markdown",
   "metadata": {},
   "source": [
    "#### Creación de una nueva columan para investigar correlación en funcion del dia de la semana"
   ]
  },
  {
   "cell_type": "code",
   "execution_count": 211,
   "metadata": {},
   "outputs": [
    {
     "data": {
      "text/html": [
       "<div>\n",
       "<style scoped>\n",
       "    .dataframe tbody tr th:only-of-type {\n",
       "        vertical-align: middle;\n",
       "    }\n",
       "\n",
       "    .dataframe tbody tr th {\n",
       "        vertical-align: top;\n",
       "    }\n",
       "\n",
       "    .dataframe thead th {\n",
       "        text-align: right;\n",
       "    }\n",
       "</style>\n",
       "<table border=\"1\" class=\"dataframe\">\n",
       "  <thead>\n",
       "    <tr style=\"text-align: right;\">\n",
       "      <th></th>\n",
       "      <th>Fecha</th>\n",
       "      <th>Abrir*</th>\n",
       "      <th>Elevar</th>\n",
       "      <th>Disminuir</th>\n",
       "      <th>Cerrar**</th>\n",
       "      <th>Volumen</th>\n",
       "      <th>Cap. de Mercado</th>\n",
       "      <th>Porcentaje Respecto al dia anterior en el abrir del mercado</th>\n",
       "      <th>Porcentaje de Volumen respecto al dia anterior</th>\n",
       "      <th>Porcentaje Cap. De Mercado respecto al día anterior</th>\n",
       "      <th>Ganancia</th>\n",
       "      <th>Dia_semana</th>\n",
       "    </tr>\n",
       "  </thead>\n",
       "  <tbody>\n",
       "    <tr>\n",
       "      <th>0</th>\n",
       "      <td>May 19, 2021</td>\n",
       "      <td>42944.98</td>\n",
       "      <td>43546.12</td>\n",
       "      <td>30681.50</td>\n",
       "      <td>37002.44</td>\n",
       "      <td>126358098747</td>\n",
       "      <td>692452570147</td>\n",
       "      <td>-1.248803</td>\n",
       "      <td>124.887034</td>\n",
       "      <td>-13.764048</td>\n",
       "      <td>SI</td>\n",
       "      <td>Wednesday</td>\n",
       "    </tr>\n",
       "    <tr>\n",
       "      <th>1</th>\n",
       "      <td>May 18, 2021</td>\n",
       "      <td>43488.06</td>\n",
       "      <td>45812.46</td>\n",
       "      <td>42367.83</td>\n",
       "      <td>42909.40</td>\n",
       "      <td>56187365084</td>\n",
       "      <td>802974346863</td>\n",
       "      <td>-6.307838</td>\n",
       "      <td>-24.987135</td>\n",
       "      <td>-1.439459</td>\n",
       "      <td>NO</td>\n",
       "      <td>Tuesday</td>\n",
       "    </tr>\n",
       "    <tr>\n",
       "      <th>2</th>\n",
       "      <td>May 17, 2021</td>\n",
       "      <td>46415.90</td>\n",
       "      <td>46623.56</td>\n",
       "      <td>42207.29</td>\n",
       "      <td>43537.51</td>\n",
       "      <td>74903638450</td>\n",
       "      <td>814701646509</td>\n",
       "      <td>-0.643753</td>\n",
       "      <td>16.949458</td>\n",
       "      <td>-6.278470</td>\n",
       "      <td>SI</td>\n",
       "      <td>Monday</td>\n",
       "    </tr>\n",
       "    <tr>\n",
       "      <th>3</th>\n",
       "      <td>May 16, 2021</td>\n",
       "      <td>46716.64</td>\n",
       "      <td>49720.04</td>\n",
       "      <td>43963.35</td>\n",
       "      <td>46456.06</td>\n",
       "      <td>64047871555</td>\n",
       "      <td>869279076502</td>\n",
       "      <td>-6.295896</td>\n",
       "      <td>8.260205</td>\n",
       "      <td>-0.645987</td>\n",
       "      <td>NO</td>\n",
       "      <td>Sunday</td>\n",
       "    </tr>\n",
       "    <tr>\n",
       "      <th>4</th>\n",
       "      <td>May 15, 2021</td>\n",
       "      <td>49855.49</td>\n",
       "      <td>50639.67</td>\n",
       "      <td>46664.14</td>\n",
       "      <td>46760.19</td>\n",
       "      <td>59161047474</td>\n",
       "      <td>874931019742</td>\n",
       "      <td>0.347222</td>\n",
       "      <td>6.142274</td>\n",
       "      <td>-6.251722</td>\n",
       "      <td>SI</td>\n",
       "      <td>Saturday</td>\n",
       "    </tr>\n",
       "    <tr>\n",
       "      <th>...</th>\n",
       "      <td>...</td>\n",
       "      <td>...</td>\n",
       "      <td>...</td>\n",
       "      <td>...</td>\n",
       "      <td>...</td>\n",
       "      <td>...</td>\n",
       "      <td>...</td>\n",
       "      <td>...</td>\n",
       "      <td>...</td>\n",
       "      <td>...</td>\n",
       "      <td>...</td>\n",
       "      <td>...</td>\n",
       "    </tr>\n",
       "    <tr>\n",
       "      <th>2906</th>\n",
       "      <td>May 03, 2013</td>\n",
       "      <td>106.25</td>\n",
       "      <td>108.13</td>\n",
       "      <td>79.10</td>\n",
       "      <td>97.75</td>\n",
       "      <td>0</td>\n",
       "      <td>1085995169</td>\n",
       "      <td>-8.704245</td>\n",
       "      <td>0.000000</td>\n",
       "      <td>-7.062139</td>\n",
       "      <td>SI</td>\n",
       "      <td>Friday</td>\n",
       "    </tr>\n",
       "    <tr>\n",
       "      <th>2907</th>\n",
       "      <td>May 02, 2013</td>\n",
       "      <td>116.38</td>\n",
       "      <td>125.60</td>\n",
       "      <td>92.28</td>\n",
       "      <td>105.21</td>\n",
       "      <td>0</td>\n",
       "      <td>1168517495</td>\n",
       "      <td>-16.273381</td>\n",
       "      <td>0.000000</td>\n",
       "      <td>-10.041698</td>\n",
       "      <td>NO</td>\n",
       "      <td>Thursday</td>\n",
       "    </tr>\n",
       "    <tr>\n",
       "      <th>2908</th>\n",
       "      <td>May 01, 2013</td>\n",
       "      <td>139.00</td>\n",
       "      <td>139.89</td>\n",
       "      <td>107.72</td>\n",
       "      <td>116.99</td>\n",
       "      <td>0</td>\n",
       "      <td>1298954594</td>\n",
       "      <td>-3.472222</td>\n",
       "      <td>0.000000</td>\n",
       "      <td>-15.806096</td>\n",
       "      <td>NO</td>\n",
       "      <td>Wednesday</td>\n",
       "    </tr>\n",
       "    <tr>\n",
       "      <th>2909</th>\n",
       "      <td>Apr 30, 2013</td>\n",
       "      <td>144.00</td>\n",
       "      <td>146.93</td>\n",
       "      <td>134.05</td>\n",
       "      <td>139.00</td>\n",
       "      <td>0</td>\n",
       "      <td>1542813125</td>\n",
       "      <td>7.110979</td>\n",
       "      <td>0.000000</td>\n",
       "      <td>-3.800781</td>\n",
       "      <td>SI</td>\n",
       "      <td>Tuesday</td>\n",
       "    </tr>\n",
       "    <tr>\n",
       "      <th>2910</th>\n",
       "      <td>Apr 29, 2013</td>\n",
       "      <td>134.44</td>\n",
       "      <td>147.49</td>\n",
       "      <td>134.00</td>\n",
       "      <td>144.54</td>\n",
       "      <td>0</td>\n",
       "      <td>1603768865</td>\n",
       "      <td>0.000000</td>\n",
       "      <td>0.000000</td>\n",
       "      <td>0.000000</td>\n",
       "      <td>SI</td>\n",
       "      <td>Monday</td>\n",
       "    </tr>\n",
       "  </tbody>\n",
       "</table>\n",
       "<p>2911 rows × 12 columns</p>\n",
       "</div>"
      ],
      "text/plain": [
       "             Fecha    Abrir*    Elevar  Disminuir  Cerrar**       Volumen  \\\n",
       "0     May 19, 2021  42944.98  43546.12   30681.50  37002.44  126358098747   \n",
       "1     May 18, 2021  43488.06  45812.46   42367.83  42909.40   56187365084   \n",
       "2     May 17, 2021  46415.90  46623.56   42207.29  43537.51   74903638450   \n",
       "3     May 16, 2021  46716.64  49720.04   43963.35  46456.06   64047871555   \n",
       "4     May 15, 2021  49855.49  50639.67   46664.14  46760.19   59161047474   \n",
       "...            ...       ...       ...        ...       ...           ...   \n",
       "2906  May 03, 2013    106.25    108.13      79.10     97.75             0   \n",
       "2907  May 02, 2013    116.38    125.60      92.28    105.21             0   \n",
       "2908  May 01, 2013    139.00    139.89     107.72    116.99             0   \n",
       "2909  Apr 30, 2013    144.00    146.93     134.05    139.00             0   \n",
       "2910  Apr 29, 2013    134.44    147.49     134.00    144.54             0   \n",
       "\n",
       "      Cap. de Mercado  \\\n",
       "0        692452570147   \n",
       "1        802974346863   \n",
       "2        814701646509   \n",
       "3        869279076502   \n",
       "4        874931019742   \n",
       "...               ...   \n",
       "2906       1085995169   \n",
       "2907       1168517495   \n",
       "2908       1298954594   \n",
       "2909       1542813125   \n",
       "2910       1603768865   \n",
       "\n",
       "      Porcentaje Respecto al dia anterior en el abrir del mercado  \\\n",
       "0                                             -1.248803             \n",
       "1                                             -6.307838             \n",
       "2                                             -0.643753             \n",
       "3                                             -6.295896             \n",
       "4                                              0.347222             \n",
       "...                                                 ...             \n",
       "2906                                          -8.704245             \n",
       "2907                                         -16.273381             \n",
       "2908                                          -3.472222             \n",
       "2909                                           7.110979             \n",
       "2910                                           0.000000             \n",
       "\n",
       "      Porcentaje de Volumen respecto al dia anterior  \\\n",
       "0                                         124.887034   \n",
       "1                                         -24.987135   \n",
       "2                                          16.949458   \n",
       "3                                           8.260205   \n",
       "4                                           6.142274   \n",
       "...                                              ...   \n",
       "2906                                        0.000000   \n",
       "2907                                        0.000000   \n",
       "2908                                        0.000000   \n",
       "2909                                        0.000000   \n",
       "2910                                        0.000000   \n",
       "\n",
       "      Porcentaje Cap. De Mercado respecto al día anterior Ganancia Dia_semana  \n",
       "0                                            -13.764048         SI  Wednesday  \n",
       "1                                             -1.439459         NO    Tuesday  \n",
       "2                                             -6.278470         SI     Monday  \n",
       "3                                             -0.645987         NO     Sunday  \n",
       "4                                             -6.251722         SI   Saturday  \n",
       "...                                                 ...        ...        ...  \n",
       "2906                                          -7.062139         SI     Friday  \n",
       "2907                                         -10.041698         NO   Thursday  \n",
       "2908                                         -15.806096         NO  Wednesday  \n",
       "2909                                          -3.800781         SI    Tuesday  \n",
       "2910                                           0.000000         SI     Monday  \n",
       "\n",
       "[2911 rows x 12 columns]"
      ]
     },
     "execution_count": 211,
     "metadata": {},
     "output_type": "execute_result"
    }
   ],
   "source": [
    "temp=pd.DataFrame(df['Fecha'])\n",
    "nuevacolumna = []\n",
    "for i in range(0, len(df['Fecha'])):\n",
    "    nuevacolumna=pd.Timestamp(temp['Fecha'][i]).day_name()\n",
    "    temp['Fecha'][i]=nuevacolumna \n",
    "df=df.assign(Dia_semana=temp)\n",
    "df   "
   ]
  },
  {
   "cell_type": "markdown",
   "metadata": {},
   "source": [
    "#### Voy a transformar la fecha para poder tratarla mejor"
   ]
  },
  {
   "cell_type": "code",
   "execution_count": 212,
   "metadata": {
    "scrolled": true
   },
   "outputs": [],
   "source": [
    "#Nuevas columnas Dia, Mes y Año\n",
    "df['Dia'] = pd.DatetimeIndex(df['Fecha']).day\n",
    "df['Mes'] = pd.DatetimeIndex(df['Fecha']).month\n",
    "df['Año'] = pd.DatetimeIndex(df['Fecha']).year"
   ]
  },
  {
   "cell_type": "code",
   "execution_count": 213,
   "metadata": {},
   "outputs": [],
   "source": [
    "#Transformación de la fecha\n",
    "df['fecha']=df['Año'].apply(str) + \"-\" + df['Mes'].apply(str) + \"-\" + df['Dia'].apply(str)\n",
    "df['fecha'] = pd.to_datetime(df['fecha']) "
   ]
  },
  {
   "cell_type": "code",
   "execution_count": 214,
   "metadata": {},
   "outputs": [
    {
     "data": {
      "image/png": "[encoded data removed]",
      "text/plain": [
       "<Figure size 1152x432 with 1 Axes>"
      ]
     },
     "metadata": {
      "needs_background": "light"
     },
     "output_type": "display_data"
    }
   ],
   "source": [
    "#Grafica\n",
    "df.index = df['fecha']\n",
    "plt.figure(figsize=(16,6))\n",
    "plt.title('Cierre del precio en función de la fecha')\n",
    "plt.xlabel('Fecha')\n",
    "plt.ylabel('Cierra')\n",
    "plt.plot(df['Cerrar**'], color='red')\n",
    "plt.grid()"
   ]
  },
  {
   "cell_type": "code",
   "execution_count": 215,
   "metadata": {},
   "outputs": [
    {
     "data": {
      "image/png": "[encoded data removed]",
      "text/plain": [
       "<Figure size 1152x432 with 1 Axes>"
      ]
     },
     "metadata": {
      "needs_background": "light"
     },
     "output_type": "display_data"
    }
   ],
   "source": [
    "#Grafica\n",
    "df.index = df['fecha']\n",
    "plt.figure(figsize=(16,6))\n",
    "plt.title('Volumne en función de la fecha')\n",
    "plt.xlabel('Fecha')\n",
    "plt.ylabel('Volumen')\n",
    "plt.plot(df['Volumen'], color='red')\n",
    "plt.grid()"
   ]
  },
  {
   "cell_type": "code",
   "execution_count": 216,
   "metadata": {},
   "outputs": [
    {
     "data": {
      "text/html": [
       "<div>\n",
       "<style scoped>\n",
       "    .dataframe tbody tr th:only-of-type {\n",
       "        vertical-align: middle;\n",
       "    }\n",
       "\n",
       "    .dataframe tbody tr th {\n",
       "        vertical-align: top;\n",
       "    }\n",
       "\n",
       "    .dataframe thead th {\n",
       "        text-align: right;\n",
       "    }\n",
       "</style>\n",
       "<table border=\"1\" class=\"dataframe\">\n",
       "  <thead>\n",
       "    <tr style=\"text-align: right;\">\n",
       "      <th></th>\n",
       "      <th>Fecha</th>\n",
       "      <th>Abrir*</th>\n",
       "      <th>Elevar</th>\n",
       "      <th>Disminuir</th>\n",
       "      <th>Cerrar**</th>\n",
       "      <th>Volumen</th>\n",
       "      <th>Cap. de Mercado</th>\n",
       "      <th>Porcentaje Respecto al dia anterior en el abrir del mercado</th>\n",
       "      <th>Porcentaje de Volumen respecto al dia anterior</th>\n",
       "      <th>Porcentaje Cap. De Mercado respecto al día anterior</th>\n",
       "      <th>Ganancia</th>\n",
       "      <th>Dia_semana</th>\n",
       "      <th>Dia</th>\n",
       "      <th>Mes</th>\n",
       "      <th>Año</th>\n",
       "      <th>fecha</th>\n",
       "    </tr>\n",
       "    <tr>\n",
       "      <th>fecha</th>\n",
       "      <th></th>\n",
       "      <th></th>\n",
       "      <th></th>\n",
       "      <th></th>\n",
       "      <th></th>\n",
       "      <th></th>\n",
       "      <th></th>\n",
       "      <th></th>\n",
       "      <th></th>\n",
       "      <th></th>\n",
       "      <th></th>\n",
       "      <th></th>\n",
       "      <th></th>\n",
       "      <th></th>\n",
       "      <th></th>\n",
       "      <th></th>\n",
       "    </tr>\n",
       "  </thead>\n",
       "  <tbody>\n",
       "    <tr>\n",
       "      <th>2021-05-19</th>\n",
       "      <td>May 19, 2021</td>\n",
       "      <td>42944.98</td>\n",
       "      <td>43546.12</td>\n",
       "      <td>30681.50</td>\n",
       "      <td>37002.44</td>\n",
       "      <td>126358098747</td>\n",
       "      <td>692452570147</td>\n",
       "      <td>-1.248803</td>\n",
       "      <td>124.887034</td>\n",
       "      <td>-13.764048</td>\n",
       "      <td>0</td>\n",
       "      <td>0</td>\n",
       "      <td>19</td>\n",
       "      <td>5</td>\n",
       "      <td>2021</td>\n",
       "      <td>2021-05-19</td>\n",
       "    </tr>\n",
       "    <tr>\n",
       "      <th>2021-05-18</th>\n",
       "      <td>May 18, 2021</td>\n",
       "      <td>43488.06</td>\n",
       "      <td>45812.46</td>\n",
       "      <td>42367.83</td>\n",
       "      <td>42909.40</td>\n",
       "      <td>56187365084</td>\n",
       "      <td>802974346863</td>\n",
       "      <td>-6.307838</td>\n",
       "      <td>-24.987135</td>\n",
       "      <td>-1.439459</td>\n",
       "      <td>1</td>\n",
       "      <td>1</td>\n",
       "      <td>18</td>\n",
       "      <td>5</td>\n",
       "      <td>2021</td>\n",
       "      <td>2021-05-18</td>\n",
       "    </tr>\n",
       "    <tr>\n",
       "      <th>2021-05-17</th>\n",
       "      <td>May 17, 2021</td>\n",
       "      <td>46415.90</td>\n",
       "      <td>46623.56</td>\n",
       "      <td>42207.29</td>\n",
       "      <td>43537.51</td>\n",
       "      <td>74903638450</td>\n",
       "      <td>814701646509</td>\n",
       "      <td>-0.643753</td>\n",
       "      <td>16.949458</td>\n",
       "      <td>-6.278470</td>\n",
       "      <td>0</td>\n",
       "      <td>2</td>\n",
       "      <td>17</td>\n",
       "      <td>5</td>\n",
       "      <td>2021</td>\n",
       "      <td>2021-05-17</td>\n",
       "    </tr>\n",
       "    <tr>\n",
       "      <th>2021-05-16</th>\n",
       "      <td>May 16, 2021</td>\n",
       "      <td>46716.64</td>\n",
       "      <td>49720.04</td>\n",
       "      <td>43963.35</td>\n",
       "      <td>46456.06</td>\n",
       "      <td>64047871555</td>\n",
       "      <td>869279076502</td>\n",
       "      <td>-6.295896</td>\n",
       "      <td>8.260205</td>\n",
       "      <td>-0.645987</td>\n",
       "      <td>1</td>\n",
       "      <td>3</td>\n",
       "      <td>16</td>\n",
       "      <td>5</td>\n",
       "      <td>2021</td>\n",
       "      <td>2021-05-16</td>\n",
       "    </tr>\n",
       "    <tr>\n",
       "      <th>2021-05-15</th>\n",
       "      <td>May 15, 2021</td>\n",
       "      <td>49855.49</td>\n",
       "      <td>50639.67</td>\n",
       "      <td>46664.14</td>\n",
       "      <td>46760.19</td>\n",
       "      <td>59161047474</td>\n",
       "      <td>874931019742</td>\n",
       "      <td>0.347222</td>\n",
       "      <td>6.142274</td>\n",
       "      <td>-6.251722</td>\n",
       "      <td>0</td>\n",
       "      <td>4</td>\n",
       "      <td>15</td>\n",
       "      <td>5</td>\n",
       "      <td>2021</td>\n",
       "      <td>2021-05-15</td>\n",
       "    </tr>\n",
       "    <tr>\n",
       "      <th>...</th>\n",
       "      <td>...</td>\n",
       "      <td>...</td>\n",
       "      <td>...</td>\n",
       "      <td>...</td>\n",
       "      <td>...</td>\n",
       "      <td>...</td>\n",
       "      <td>...</td>\n",
       "      <td>...</td>\n",
       "      <td>...</td>\n",
       "      <td>...</td>\n",
       "      <td>...</td>\n",
       "      <td>...</td>\n",
       "      <td>...</td>\n",
       "      <td>...</td>\n",
       "      <td>...</td>\n",
       "      <td>...</td>\n",
       "    </tr>\n",
       "    <tr>\n",
       "      <th>2013-05-03</th>\n",
       "      <td>May 03, 2013</td>\n",
       "      <td>106.25</td>\n",
       "      <td>108.13</td>\n",
       "      <td>79.10</td>\n",
       "      <td>97.75</td>\n",
       "      <td>0</td>\n",
       "      <td>1085995169</td>\n",
       "      <td>-8.704245</td>\n",
       "      <td>0.000000</td>\n",
       "      <td>-7.062139</td>\n",
       "      <td>0</td>\n",
       "      <td>5</td>\n",
       "      <td>3</td>\n",
       "      <td>5</td>\n",
       "      <td>2013</td>\n",
       "      <td>2013-05-03</td>\n",
       "    </tr>\n",
       "    <tr>\n",
       "      <th>2013-05-02</th>\n",
       "      <td>May 02, 2013</td>\n",
       "      <td>116.38</td>\n",
       "      <td>125.60</td>\n",
       "      <td>92.28</td>\n",
       "      <td>105.21</td>\n",
       "      <td>0</td>\n",
       "      <td>1168517495</td>\n",
       "      <td>-16.273381</td>\n",
       "      <td>0.000000</td>\n",
       "      <td>-10.041698</td>\n",
       "      <td>1</td>\n",
       "      <td>6</td>\n",
       "      <td>2</td>\n",
       "      <td>5</td>\n",
       "      <td>2013</td>\n",
       "      <td>2013-05-02</td>\n",
       "    </tr>\n",
       "    <tr>\n",
       "      <th>2013-05-01</th>\n",
       "      <td>May 01, 2013</td>\n",
       "      <td>139.00</td>\n",
       "      <td>139.89</td>\n",
       "      <td>107.72</td>\n",
       "      <td>116.99</td>\n",
       "      <td>0</td>\n",
       "      <td>1298954594</td>\n",
       "      <td>-3.472222</td>\n",
       "      <td>0.000000</td>\n",
       "      <td>-15.806096</td>\n",
       "      <td>1</td>\n",
       "      <td>0</td>\n",
       "      <td>1</td>\n",
       "      <td>5</td>\n",
       "      <td>2013</td>\n",
       "      <td>2013-05-01</td>\n",
       "    </tr>\n",
       "    <tr>\n",
       "      <th>2013-04-30</th>\n",
       "      <td>Apr 30, 2013</td>\n",
       "      <td>144.00</td>\n",
       "      <td>146.93</td>\n",
       "      <td>134.05</td>\n",
       "      <td>139.00</td>\n",
       "      <td>0</td>\n",
       "      <td>1542813125</td>\n",
       "      <td>7.110979</td>\n",
       "      <td>0.000000</td>\n",
       "      <td>-3.800781</td>\n",
       "      <td>0</td>\n",
       "      <td>1</td>\n",
       "      <td>30</td>\n",
       "      <td>4</td>\n",
       "      <td>2013</td>\n",
       "      <td>2013-04-30</td>\n",
       "    </tr>\n",
       "    <tr>\n",
       "      <th>2013-04-29</th>\n",
       "      <td>Apr 29, 2013</td>\n",
       "      <td>134.44</td>\n",
       "      <td>147.49</td>\n",
       "      <td>134.00</td>\n",
       "      <td>144.54</td>\n",
       "      <td>0</td>\n",
       "      <td>1603768865</td>\n",
       "      <td>0.000000</td>\n",
       "      <td>0.000000</td>\n",
       "      <td>0.000000</td>\n",
       "      <td>0</td>\n",
       "      <td>2</td>\n",
       "      <td>29</td>\n",
       "      <td>4</td>\n",
       "      <td>2013</td>\n",
       "      <td>2013-04-29</td>\n",
       "    </tr>\n",
       "  </tbody>\n",
       "</table>\n",
       "<p>2911 rows × 16 columns</p>\n",
       "</div>"
      ],
      "text/plain": [
       "                   Fecha    Abrir*    Elevar  Disminuir  Cerrar**  \\\n",
       "fecha                                                               \n",
       "2021-05-19  May 19, 2021  42944.98  43546.12   30681.50  37002.44   \n",
       "2021-05-18  May 18, 2021  43488.06  45812.46   42367.83  42909.40   \n",
       "2021-05-17  May 17, 2021  46415.90  46623.56   42207.29  43537.51   \n",
       "2021-05-16  May 16, 2021  46716.64  49720.04   43963.35  46456.06   \n",
       "2021-05-15  May 15, 2021  49855.49  50639.67   46664.14  46760.19   \n",
       "...                  ...       ...       ...        ...       ...   \n",
       "2013-05-03  May 03, 2013    106.25    108.13      79.10     97.75   \n",
       "2013-05-02  May 02, 2013    116.38    125.60      92.28    105.21   \n",
       "2013-05-01  May 01, 2013    139.00    139.89     107.72    116.99   \n",
       "2013-04-30  Apr 30, 2013    144.00    146.93     134.05    139.00   \n",
       "2013-04-29  Apr 29, 2013    134.44    147.49     134.00    144.54   \n",
       "\n",
       "                 Volumen  Cap. de Mercado  \\\n",
       "fecha                                       \n",
       "2021-05-19  126358098747     692452570147   \n",
       "2021-05-18   56187365084     802974346863   \n",
       "2021-05-17   74903638450     814701646509   \n",
       "2021-05-16   64047871555     869279076502   \n",
       "2021-05-15   59161047474     874931019742   \n",
       "...                  ...              ...   \n",
       "2013-05-03             0       1085995169   \n",
       "2013-05-02             0       1168517495   \n",
       "2013-05-01             0       1298954594   \n",
       "2013-04-30             0       1542813125   \n",
       "2013-04-29             0       1603768865   \n",
       "\n",
       "            Porcentaje Respecto al dia anterior en el abrir del mercado  \\\n",
       "fecha                                                                     \n",
       "2021-05-19                                          -1.248803             \n",
       "2021-05-18                                          -6.307838             \n",
       "2021-05-17                                          -0.643753             \n",
       "2021-05-16                                          -6.295896             \n",
       "2021-05-15                                           0.347222             \n",
       "...                                                       ...             \n",
       "2013-05-03                                          -8.704245             \n",
       "2013-05-02                                         -16.273381             \n",
       "2013-05-01                                          -3.472222             \n",
       "2013-04-30                                           7.110979             \n",
       "2013-04-29                                           0.000000             \n",
       "\n",
       "            Porcentaje de Volumen respecto al dia anterior  \\\n",
       "fecha                                                        \n",
       "2021-05-19                                      124.887034   \n",
       "2021-05-18                                      -24.987135   \n",
       "2021-05-17                                       16.949458   \n",
       "2021-05-16                                        8.260205   \n",
       "2021-05-15                                        6.142274   \n",
       "...                                                    ...   \n",
       "2013-05-03                                        0.000000   \n",
       "2013-05-02                                        0.000000   \n",
       "2013-05-01                                        0.000000   \n",
       "2013-04-30                                        0.000000   \n",
       "2013-04-29                                        0.000000   \n",
       "\n",
       "            Porcentaje Cap. De Mercado respecto al día anterior  Ganancia  \\\n",
       "fecha                                                                       \n",
       "2021-05-19                                         -13.764048           0   \n",
       "2021-05-18                                          -1.439459           1   \n",
       "2021-05-17                                          -6.278470           0   \n",
       "2021-05-16                                          -0.645987           1   \n",
       "2021-05-15                                          -6.251722           0   \n",
       "...                                                       ...         ...   \n",
       "2013-05-03                                          -7.062139           0   \n",
       "2013-05-02                                         -10.041698           1   \n",
       "2013-05-01                                         -15.806096           1   \n",
       "2013-04-30                                          -3.800781           0   \n",
       "2013-04-29                                           0.000000           0   \n",
       "\n",
       "            Dia_semana  Dia  Mes   Año      fecha  \n",
       "fecha                                              \n",
       "2021-05-19           0   19    5  2021 2021-05-19  \n",
       "2021-05-18           1   18    5  2021 2021-05-18  \n",
       "2021-05-17           2   17    5  2021 2021-05-17  \n",
       "2021-05-16           3   16    5  2021 2021-05-16  \n",
       "2021-05-15           4   15    5  2021 2021-05-15  \n",
       "...                ...  ...  ...   ...        ...  \n",
       "2013-05-03           5    3    5  2013 2013-05-03  \n",
       "2013-05-02           6    2    5  2013 2013-05-02  \n",
       "2013-05-01           0    1    5  2013 2013-05-01  \n",
       "2013-04-30           1   30    4  2013 2013-04-30  \n",
       "2013-04-29           2   29    4  2013 2013-04-29  \n",
       "\n",
       "[2911 rows x 16 columns]"
      ]
     },
     "execution_count": 216,
     "metadata": {},
     "output_type": "execute_result"
    }
   ],
   "source": [
    "\n",
    "datos=df\n",
    "dictionaries = []\n",
    "\n",
    "for columna in ['Ganancia','Dia_semana']:\n",
    "    datos[columna], uniques = pd.factorize(datos[columna])\n",
    "    values = list(range(len(uniques)))\n",
    "    dictionaries.append(dict(zip(values, uniques)))\n",
    "datos"
   ]
  },
  {
   "cell_type": "code",
   "execution_count": 217,
   "metadata": {},
   "outputs": [
    {
     "data": {
      "text/html": [
       "<div>\n",
       "<style scoped>\n",
       "    .dataframe tbody tr th:only-of-type {\n",
       "        vertical-align: middle;\n",
       "    }\n",
       "\n",
       "    .dataframe tbody tr th {\n",
       "        vertical-align: top;\n",
       "    }\n",
       "\n",
       "    .dataframe thead th {\n",
       "        text-align: right;\n",
       "    }\n",
       "</style>\n",
       "<table border=\"1\" class=\"dataframe\">\n",
       "  <thead>\n",
       "    <tr style=\"text-align: right;\">\n",
       "      <th></th>\n",
       "      <th>Abrir*</th>\n",
       "      <th>Elevar</th>\n",
       "      <th>Disminuir</th>\n",
       "      <th>Cerrar**</th>\n",
       "      <th>Volumen</th>\n",
       "      <th>Cap. de Mercado</th>\n",
       "      <th>Porcentaje Respecto al dia anterior en el abrir del mercado</th>\n",
       "      <th>Porcentaje de Volumen respecto al dia anterior</th>\n",
       "      <th>Porcentaje Cap. De Mercado respecto al día anterior</th>\n",
       "      <th>Ganancia</th>\n",
       "      <th>Dia_semana</th>\n",
       "      <th>Dia</th>\n",
       "      <th>Mes</th>\n",
       "      <th>Año</th>\n",
       "    </tr>\n",
       "    <tr>\n",
       "      <th>fecha</th>\n",
       "      <th></th>\n",
       "      <th></th>\n",
       "      <th></th>\n",
       "      <th></th>\n",
       "      <th></th>\n",
       "      <th></th>\n",
       "      <th></th>\n",
       "      <th></th>\n",
       "      <th></th>\n",
       "      <th></th>\n",
       "      <th></th>\n",
       "      <th></th>\n",
       "      <th></th>\n",
       "      <th></th>\n",
       "    </tr>\n",
       "  </thead>\n",
       "  <tbody>\n",
       "    <tr>\n",
       "      <th>2021-05-19</th>\n",
       "      <td>42944.98</td>\n",
       "      <td>43546.12</td>\n",
       "      <td>30681.50</td>\n",
       "      <td>37002.44</td>\n",
       "      <td>126358098747</td>\n",
       "      <td>692452570147</td>\n",
       "      <td>-1.248803</td>\n",
       "      <td>124.887034</td>\n",
       "      <td>-13.764048</td>\n",
       "      <td>0</td>\n",
       "      <td>0</td>\n",
       "      <td>19</td>\n",
       "      <td>5</td>\n",
       "      <td>2021</td>\n",
       "    </tr>\n",
       "    <tr>\n",
       "      <th>2021-05-18</th>\n",
       "      <td>43488.06</td>\n",
       "      <td>45812.46</td>\n",
       "      <td>42367.83</td>\n",
       "      <td>42909.40</td>\n",
       "      <td>56187365084</td>\n",
       "      <td>802974346863</td>\n",
       "      <td>-6.307838</td>\n",
       "      <td>-24.987135</td>\n",
       "      <td>-1.439459</td>\n",
       "      <td>1</td>\n",
       "      <td>1</td>\n",
       "      <td>18</td>\n",
       "      <td>5</td>\n",
       "      <td>2021</td>\n",
       "    </tr>\n",
       "    <tr>\n",
       "      <th>2021-05-17</th>\n",
       "      <td>46415.90</td>\n",
       "      <td>46623.56</td>\n",
       "      <td>42207.29</td>\n",
       "      <td>43537.51</td>\n",
       "      <td>74903638450</td>\n",
       "      <td>814701646509</td>\n",
       "      <td>-0.643753</td>\n",
       "      <td>16.949458</td>\n",
       "      <td>-6.278470</td>\n",
       "      <td>0</td>\n",
       "      <td>2</td>\n",
       "      <td>17</td>\n",
       "      <td>5</td>\n",
       "      <td>2021</td>\n",
       "    </tr>\n",
       "    <tr>\n",
       "      <th>2021-05-16</th>\n",
       "      <td>46716.64</td>\n",
       "      <td>49720.04</td>\n",
       "      <td>43963.35</td>\n",
       "      <td>46456.06</td>\n",
       "      <td>64047871555</td>\n",
       "      <td>869279076502</td>\n",
       "      <td>-6.295896</td>\n",
       "      <td>8.260205</td>\n",
       "      <td>-0.645987</td>\n",
       "      <td>1</td>\n",
       "      <td>3</td>\n",
       "      <td>16</td>\n",
       "      <td>5</td>\n",
       "      <td>2021</td>\n",
       "    </tr>\n",
       "    <tr>\n",
       "      <th>2021-05-15</th>\n",
       "      <td>49855.49</td>\n",
       "      <td>50639.67</td>\n",
       "      <td>46664.14</td>\n",
       "      <td>46760.19</td>\n",
       "      <td>59161047474</td>\n",
       "      <td>874931019742</td>\n",
       "      <td>0.347222</td>\n",
       "      <td>6.142274</td>\n",
       "      <td>-6.251722</td>\n",
       "      <td>0</td>\n",
       "      <td>4</td>\n",
       "      <td>15</td>\n",
       "      <td>5</td>\n",
       "      <td>2021</td>\n",
       "    </tr>\n",
       "    <tr>\n",
       "      <th>...</th>\n",
       "      <td>...</td>\n",
       "      <td>...</td>\n",
       "      <td>...</td>\n",
       "      <td>...</td>\n",
       "      <td>...</td>\n",
       "      <td>...</td>\n",
       "      <td>...</td>\n",
       "      <td>...</td>\n",
       "      <td>...</td>\n",
       "      <td>...</td>\n",
       "      <td>...</td>\n",
       "      <td>...</td>\n",
       "      <td>...</td>\n",
       "      <td>...</td>\n",
       "    </tr>\n",
       "    <tr>\n",
       "      <th>2013-05-03</th>\n",
       "      <td>106.25</td>\n",
       "      <td>108.13</td>\n",
       "      <td>79.10</td>\n",
       "      <td>97.75</td>\n",
       "      <td>0</td>\n",
       "      <td>1085995169</td>\n",
       "      <td>-8.704245</td>\n",
       "      <td>0.000000</td>\n",
       "      <td>-7.062139</td>\n",
       "      <td>0</td>\n",
       "      <td>5</td>\n",
       "      <td>3</td>\n",
       "      <td>5</td>\n",
       "      <td>2013</td>\n",
       "    </tr>\n",
       "    <tr>\n",
       "      <th>2013-05-02</th>\n",
       "      <td>116.38</td>\n",
       "      <td>125.60</td>\n",
       "      <td>92.28</td>\n",
       "      <td>105.21</td>\n",
       "      <td>0</td>\n",
       "      <td>1168517495</td>\n",
       "      <td>-16.273381</td>\n",
       "      <td>0.000000</td>\n",
       "      <td>-10.041698</td>\n",
       "      <td>1</td>\n",
       "      <td>6</td>\n",
       "      <td>2</td>\n",
       "      <td>5</td>\n",
       "      <td>2013</td>\n",
       "    </tr>\n",
       "    <tr>\n",
       "      <th>2013-05-01</th>\n",
       "      <td>139.00</td>\n",
       "      <td>139.89</td>\n",
       "      <td>107.72</td>\n",
       "      <td>116.99</td>\n",
       "      <td>0</td>\n",
       "      <td>1298954594</td>\n",
       "      <td>-3.472222</td>\n",
       "      <td>0.000000</td>\n",
       "      <td>-15.806096</td>\n",
       "      <td>1</td>\n",
       "      <td>0</td>\n",
       "      <td>1</td>\n",
       "      <td>5</td>\n",
       "      <td>2013</td>\n",
       "    </tr>\n",
       "    <tr>\n",
       "      <th>2013-04-30</th>\n",
       "      <td>144.00</td>\n",
       "      <td>146.93</td>\n",
       "      <td>134.05</td>\n",
       "      <td>139.00</td>\n",
       "      <td>0</td>\n",
       "      <td>1542813125</td>\n",
       "      <td>7.110979</td>\n",
       "      <td>0.000000</td>\n",
       "      <td>-3.800781</td>\n",
       "      <td>0</td>\n",
       "      <td>1</td>\n",
       "      <td>30</td>\n",
       "      <td>4</td>\n",
       "      <td>2013</td>\n",
       "    </tr>\n",
       "    <tr>\n",
       "      <th>2013-04-29</th>\n",
       "      <td>134.44</td>\n",
       "      <td>147.49</td>\n",
       "      <td>134.00</td>\n",
       "      <td>144.54</td>\n",
       "      <td>0</td>\n",
       "      <td>1603768865</td>\n",
       "      <td>0.000000</td>\n",
       "      <td>0.000000</td>\n",
       "      <td>0.000000</td>\n",
       "      <td>0</td>\n",
       "      <td>2</td>\n",
       "      <td>29</td>\n",
       "      <td>4</td>\n",
       "      <td>2013</td>\n",
       "    </tr>\n",
       "  </tbody>\n",
       "</table>\n",
       "<p>2911 rows × 14 columns</p>\n",
       "</div>"
      ],
      "text/plain": [
       "              Abrir*    Elevar  Disminuir  Cerrar**       Volumen  \\\n",
       "fecha                                                               \n",
       "2021-05-19  42944.98  43546.12   30681.50  37002.44  126358098747   \n",
       "2021-05-18  43488.06  45812.46   42367.83  42909.40   56187365084   \n",
       "2021-05-17  46415.90  46623.56   42207.29  43537.51   74903638450   \n",
       "2021-05-16  46716.64  49720.04   43963.35  46456.06   64047871555   \n",
       "2021-05-15  49855.49  50639.67   46664.14  46760.19   59161047474   \n",
       "...              ...       ...        ...       ...           ...   \n",
       "2013-05-03    106.25    108.13      79.10     97.75             0   \n",
       "2013-05-02    116.38    125.60      92.28    105.21             0   \n",
       "2013-05-01    139.00    139.89     107.72    116.99             0   \n",
       "2013-04-30    144.00    146.93     134.05    139.00             0   \n",
       "2013-04-29    134.44    147.49     134.00    144.54             0   \n",
       "\n",
       "            Cap. de Mercado  \\\n",
       "fecha                         \n",
       "2021-05-19     692452570147   \n",
       "2021-05-18     802974346863   \n",
       "2021-05-17     814701646509   \n",
       "2021-05-16     869279076502   \n",
       "2021-05-15     874931019742   \n",
       "...                     ...   \n",
       "2013-05-03       1085995169   \n",
       "2013-05-02       1168517495   \n",
       "2013-05-01       1298954594   \n",
       "2013-04-30       1542813125   \n",
       "2013-04-29       1603768865   \n",
       "\n",
       "            Porcentaje Respecto al dia anterior en el abrir del mercado  \\\n",
       "fecha                                                                     \n",
       "2021-05-19                                          -1.248803             \n",
       "2021-05-18                                          -6.307838             \n",
       "2021-05-17                                          -0.643753             \n",
       "2021-05-16                                          -6.295896             \n",
       "2021-05-15                                           0.347222             \n",
       "...                                                       ...             \n",
       "2013-05-03                                          -8.704245             \n",
       "2013-05-02                                         -16.273381             \n",
       "2013-05-01                                          -3.472222             \n",
       "2013-04-30                                           7.110979             \n",
       "2013-04-29                                           0.000000             \n",
       "\n",
       "            Porcentaje de Volumen respecto al dia anterior  \\\n",
       "fecha                                                        \n",
       "2021-05-19                                      124.887034   \n",
       "2021-05-18                                      -24.987135   \n",
       "2021-05-17                                       16.949458   \n",
       "2021-05-16                                        8.260205   \n",
       "2021-05-15                                        6.142274   \n",
       "...                                                    ...   \n",
       "2013-05-03                                        0.000000   \n",
       "2013-05-02                                        0.000000   \n",
       "2013-05-01                                        0.000000   \n",
       "2013-04-30                                        0.000000   \n",
       "2013-04-29                                        0.000000   \n",
       "\n",
       "            Porcentaje Cap. De Mercado respecto al día anterior  Ganancia  \\\n",
       "fecha                                                                       \n",
       "2021-05-19                                         -13.764048           0   \n",
       "2021-05-18                                          -1.439459           1   \n",
       "2021-05-17                                          -6.278470           0   \n",
       "2021-05-16                                          -0.645987           1   \n",
       "2021-05-15                                          -6.251722           0   \n",
       "...                                                       ...         ...   \n",
       "2013-05-03                                          -7.062139           0   \n",
       "2013-05-02                                         -10.041698           1   \n",
       "2013-05-01                                         -15.806096           1   \n",
       "2013-04-30                                          -3.800781           0   \n",
       "2013-04-29                                           0.000000           0   \n",
       "\n",
       "            Dia_semana  Dia  Mes   Año  \n",
       "fecha                                   \n",
       "2021-05-19           0   19    5  2021  \n",
       "2021-05-18           1   18    5  2021  \n",
       "2021-05-17           2   17    5  2021  \n",
       "2021-05-16           3   16    5  2021  \n",
       "2021-05-15           4   15    5  2021  \n",
       "...                ...  ...  ...   ...  \n",
       "2013-05-03           5    3    5  2013  \n",
       "2013-05-02           6    2    5  2013  \n",
       "2013-05-01           0    1    5  2013  \n",
       "2013-04-30           1   30    4  2013  \n",
       "2013-04-29           2   29    4  2013  \n",
       "\n",
       "[2911 rows x 14 columns]"
      ]
     },
     "execution_count": 217,
     "metadata": {},
     "output_type": "execute_result"
    }
   ],
   "source": [
    "datos=datos.drop(columns=['fecha','Fecha'])\n",
    "datos"
   ]
  },
  {
   "cell_type": "code",
   "execution_count": 218,
   "metadata": {},
   "outputs": [],
   "source": [
    "datos=df"
   ]
  },
  {
   "cell_type": "markdown",
   "metadata": {},
   "source": [
    "# Media Movil"
   ]
  },
  {
   "cell_type": "markdown",
   "metadata": {},
   "source": [
    "Tecnica muy usada en trading basada en un valor que se calcula de manera continua \n",
    "de la media aritmética del precio durante un determinado tiempo.\n",
    "\n",
    "El objetivo es suavizar las fluctuaciones de los precios para poder observar las tendencias a largo plazo del mercado"
   ]
  },
  {
   "cell_type": "code",
   "execution_count": 219,
   "metadata": {},
   "outputs": [],
   "source": [
    "#El primer paso consiste en filttrar las columnas necesarias para nuestro analisis"
   ]
  },
  {
   "cell_type": "code",
   "execution_count": 220,
   "metadata": {},
   "outputs": [
    {
     "data": {
      "text/html": [
       "<div>\n",
       "<style scoped>\n",
       "    .dataframe tbody tr th:only-of-type {\n",
       "        vertical-align: middle;\n",
       "    }\n",
       "\n",
       "    .dataframe tbody tr th {\n",
       "        vertical-align: top;\n",
       "    }\n",
       "\n",
       "    .dataframe thead th {\n",
       "        text-align: right;\n",
       "    }\n",
       "</style>\n",
       "<table border=\"1\" class=\"dataframe\">\n",
       "  <thead>\n",
       "    <tr style=\"text-align: right;\">\n",
       "      <th></th>\n",
       "      <th>Fecha</th>\n",
       "      <th>Abrir*</th>\n",
       "      <th>Elevar</th>\n",
       "      <th>Disminuir</th>\n",
       "      <th>Cerrar**</th>\n",
       "      <th>Volumen</th>\n",
       "      <th>Cap. de Mercado</th>\n",
       "      <th>Porcentaje Respecto al dia anterior en el abrir del mercado</th>\n",
       "      <th>Porcentaje de Volumen respecto al dia anterior</th>\n",
       "      <th>Porcentaje Cap. De Mercado respecto al día anterior</th>\n",
       "      <th>Ganancia</th>\n",
       "      <th>Dia_semana</th>\n",
       "      <th>Dia</th>\n",
       "      <th>Mes</th>\n",
       "      <th>Año</th>\n",
       "      <th>fecha</th>\n",
       "    </tr>\n",
       "    <tr>\n",
       "      <th>fecha</th>\n",
       "      <th></th>\n",
       "      <th></th>\n",
       "      <th></th>\n",
       "      <th></th>\n",
       "      <th></th>\n",
       "      <th></th>\n",
       "      <th></th>\n",
       "      <th></th>\n",
       "      <th></th>\n",
       "      <th></th>\n",
       "      <th></th>\n",
       "      <th></th>\n",
       "      <th></th>\n",
       "      <th></th>\n",
       "      <th></th>\n",
       "      <th></th>\n",
       "    </tr>\n",
       "  </thead>\n",
       "  <tbody>\n",
       "    <tr>\n",
       "      <th>2013-04-29</th>\n",
       "      <td>Apr 29, 2013</td>\n",
       "      <td>134.44</td>\n",
       "      <td>147.49</td>\n",
       "      <td>134.00</td>\n",
       "      <td>144.54</td>\n",
       "      <td>0</td>\n",
       "      <td>1603768865</td>\n",
       "      <td>0.000000</td>\n",
       "      <td>0.000000</td>\n",
       "      <td>0.000000</td>\n",
       "      <td>0</td>\n",
       "      <td>2</td>\n",
       "      <td>29</td>\n",
       "      <td>4</td>\n",
       "      <td>2013</td>\n",
       "      <td>2013-04-29</td>\n",
       "    </tr>\n",
       "    <tr>\n",
       "      <th>2013-04-30</th>\n",
       "      <td>Apr 30, 2013</td>\n",
       "      <td>144.00</td>\n",
       "      <td>146.93</td>\n",
       "      <td>134.05</td>\n",
       "      <td>139.00</td>\n",
       "      <td>0</td>\n",
       "      <td>1542813125</td>\n",
       "      <td>7.110979</td>\n",
       "      <td>0.000000</td>\n",
       "      <td>-3.800781</td>\n",
       "      <td>0</td>\n",
       "      <td>1</td>\n",
       "      <td>30</td>\n",
       "      <td>4</td>\n",
       "      <td>2013</td>\n",
       "      <td>2013-04-30</td>\n",
       "    </tr>\n",
       "    <tr>\n",
       "      <th>2013-05-01</th>\n",
       "      <td>May 01, 2013</td>\n",
       "      <td>139.00</td>\n",
       "      <td>139.89</td>\n",
       "      <td>107.72</td>\n",
       "      <td>116.99</td>\n",
       "      <td>0</td>\n",
       "      <td>1298954594</td>\n",
       "      <td>-3.472222</td>\n",
       "      <td>0.000000</td>\n",
       "      <td>-15.806096</td>\n",
       "      <td>1</td>\n",
       "      <td>0</td>\n",
       "      <td>1</td>\n",
       "      <td>5</td>\n",
       "      <td>2013</td>\n",
       "      <td>2013-05-01</td>\n",
       "    </tr>\n",
       "    <tr>\n",
       "      <th>2013-05-02</th>\n",
       "      <td>May 02, 2013</td>\n",
       "      <td>116.38</td>\n",
       "      <td>125.60</td>\n",
       "      <td>92.28</td>\n",
       "      <td>105.21</td>\n",
       "      <td>0</td>\n",
       "      <td>1168517495</td>\n",
       "      <td>-16.273381</td>\n",
       "      <td>0.000000</td>\n",
       "      <td>-10.041698</td>\n",
       "      <td>1</td>\n",
       "      <td>6</td>\n",
       "      <td>2</td>\n",
       "      <td>5</td>\n",
       "      <td>2013</td>\n",
       "      <td>2013-05-02</td>\n",
       "    </tr>\n",
       "    <tr>\n",
       "      <th>2013-05-03</th>\n",
       "      <td>May 03, 2013</td>\n",
       "      <td>106.25</td>\n",
       "      <td>108.13</td>\n",
       "      <td>79.10</td>\n",
       "      <td>97.75</td>\n",
       "      <td>0</td>\n",
       "      <td>1085995169</td>\n",
       "      <td>-8.704245</td>\n",
       "      <td>0.000000</td>\n",
       "      <td>-7.062139</td>\n",
       "      <td>0</td>\n",
       "      <td>5</td>\n",
       "      <td>3</td>\n",
       "      <td>5</td>\n",
       "      <td>2013</td>\n",
       "      <td>2013-05-03</td>\n",
       "    </tr>\n",
       "    <tr>\n",
       "      <th>...</th>\n",
       "      <td>...</td>\n",
       "      <td>...</td>\n",
       "      <td>...</td>\n",
       "      <td>...</td>\n",
       "      <td>...</td>\n",
       "      <td>...</td>\n",
       "      <td>...</td>\n",
       "      <td>...</td>\n",
       "      <td>...</td>\n",
       "      <td>...</td>\n",
       "      <td>...</td>\n",
       "      <td>...</td>\n",
       "      <td>...</td>\n",
       "      <td>...</td>\n",
       "      <td>...</td>\n",
       "      <td>...</td>\n",
       "    </tr>\n",
       "    <tr>\n",
       "      <th>2021-05-15</th>\n",
       "      <td>May 15, 2021</td>\n",
       "      <td>49855.49</td>\n",
       "      <td>50639.67</td>\n",
       "      <td>46664.14</td>\n",
       "      <td>46760.19</td>\n",
       "      <td>59161047474</td>\n",
       "      <td>874931019742</td>\n",
       "      <td>0.347222</td>\n",
       "      <td>6.142274</td>\n",
       "      <td>-6.251722</td>\n",
       "      <td>0</td>\n",
       "      <td>4</td>\n",
       "      <td>15</td>\n",
       "      <td>5</td>\n",
       "      <td>2021</td>\n",
       "      <td>2021-05-15</td>\n",
       "    </tr>\n",
       "    <tr>\n",
       "      <th>2021-05-16</th>\n",
       "      <td>May 16, 2021</td>\n",
       "      <td>46716.64</td>\n",
       "      <td>49720.04</td>\n",
       "      <td>43963.35</td>\n",
       "      <td>46456.06</td>\n",
       "      <td>64047871555</td>\n",
       "      <td>869279076502</td>\n",
       "      <td>-6.295896</td>\n",
       "      <td>8.260205</td>\n",
       "      <td>-0.645987</td>\n",
       "      <td>1</td>\n",
       "      <td>3</td>\n",
       "      <td>16</td>\n",
       "      <td>5</td>\n",
       "      <td>2021</td>\n",
       "      <td>2021-05-16</td>\n",
       "    </tr>\n",
       "    <tr>\n",
       "      <th>2021-05-17</th>\n",
       "      <td>May 17, 2021</td>\n",
       "      <td>46415.90</td>\n",
       "      <td>46623.56</td>\n",
       "      <td>42207.29</td>\n",
       "      <td>43537.51</td>\n",
       "      <td>74903638450</td>\n",
       "      <td>814701646509</td>\n",
       "      <td>-0.643753</td>\n",
       "      <td>16.949458</td>\n",
       "      <td>-6.278470</td>\n",
       "      <td>0</td>\n",
       "      <td>2</td>\n",
       "      <td>17</td>\n",
       "      <td>5</td>\n",
       "      <td>2021</td>\n",
       "      <td>2021-05-17</td>\n",
       "    </tr>\n",
       "    <tr>\n",
       "      <th>2021-05-18</th>\n",
       "      <td>May 18, 2021</td>\n",
       "      <td>43488.06</td>\n",
       "      <td>45812.46</td>\n",
       "      <td>42367.83</td>\n",
       "      <td>42909.40</td>\n",
       "      <td>56187365084</td>\n",
       "      <td>802974346863</td>\n",
       "      <td>-6.307838</td>\n",
       "      <td>-24.987135</td>\n",
       "      <td>-1.439459</td>\n",
       "      <td>1</td>\n",
       "      <td>1</td>\n",
       "      <td>18</td>\n",
       "      <td>5</td>\n",
       "      <td>2021</td>\n",
       "      <td>2021-05-18</td>\n",
       "    </tr>\n",
       "    <tr>\n",
       "      <th>2021-05-19</th>\n",
       "      <td>May 19, 2021</td>\n",
       "      <td>42944.98</td>\n",
       "      <td>43546.12</td>\n",
       "      <td>30681.50</td>\n",
       "      <td>37002.44</td>\n",
       "      <td>126358098747</td>\n",
       "      <td>692452570147</td>\n",
       "      <td>-1.248803</td>\n",
       "      <td>124.887034</td>\n",
       "      <td>-13.764048</td>\n",
       "      <td>0</td>\n",
       "      <td>0</td>\n",
       "      <td>19</td>\n",
       "      <td>5</td>\n",
       "      <td>2021</td>\n",
       "      <td>2021-05-19</td>\n",
       "    </tr>\n",
       "  </tbody>\n",
       "</table>\n",
       "<p>2911 rows × 16 columns</p>\n",
       "</div>"
      ],
      "text/plain": [
       "                   Fecha    Abrir*    Elevar  Disminuir  Cerrar**  \\\n",
       "fecha                                                               \n",
       "2013-04-29  Apr 29, 2013    134.44    147.49     134.00    144.54   \n",
       "2013-04-30  Apr 30, 2013    144.00    146.93     134.05    139.00   \n",
       "2013-05-01  May 01, 2013    139.00    139.89     107.72    116.99   \n",
       "2013-05-02  May 02, 2013    116.38    125.60      92.28    105.21   \n",
       "2013-05-03  May 03, 2013    106.25    108.13      79.10     97.75   \n",
       "...                  ...       ...       ...        ...       ...   \n",
       "2021-05-15  May 15, 2021  49855.49  50639.67   46664.14  46760.19   \n",
       "2021-05-16  May 16, 2021  46716.64  49720.04   43963.35  46456.06   \n",
       "2021-05-17  May 17, 2021  46415.90  46623.56   42207.29  43537.51   \n",
       "2021-05-18  May 18, 2021  43488.06  45812.46   42367.83  42909.40   \n",
       "2021-05-19  May 19, 2021  42944.98  43546.12   30681.50  37002.44   \n",
       "\n",
       "                 Volumen  Cap. de Mercado  \\\n",
       "fecha                                       \n",
       "2013-04-29             0       1603768865   \n",
       "2013-04-30             0       1542813125   \n",
       "2013-05-01             0       1298954594   \n",
       "2013-05-02             0       1168517495   \n",
       "2013-05-03             0       1085995169   \n",
       "...                  ...              ...   \n",
       "2021-05-15   59161047474     874931019742   \n",
       "2021-05-16   64047871555     869279076502   \n",
       "2021-05-17   74903638450     814701646509   \n",
       "2021-05-18   56187365084     802974346863   \n",
       "2021-05-19  126358098747     692452570147   \n",
       "\n",
       "            Porcentaje Respecto al dia anterior en el abrir del mercado  \\\n",
       "fecha                                                                     \n",
       "2013-04-29                                           0.000000             \n",
       "2013-04-30                                           7.110979             \n",
       "2013-05-01                                          -3.472222             \n",
       "2013-05-02                                         -16.273381             \n",
       "2013-05-03                                          -8.704245             \n",
       "...                                                       ...             \n",
       "2021-05-15                                           0.347222             \n",
       "2021-05-16                                          -6.295896             \n",
       "2021-05-17                                          -0.643753             \n",
       "2021-05-18                                          -6.307838             \n",
       "2021-05-19                                          -1.248803             \n",
       "\n",
       "            Porcentaje de Volumen respecto al dia anterior  \\\n",
       "fecha                                                        \n",
       "2013-04-29                                        0.000000   \n",
       "2013-04-30                                        0.000000   \n",
       "2013-05-01                                        0.000000   \n",
       "2013-05-02                                        0.000000   \n",
       "2013-05-03                                        0.000000   \n",
       "...                                                    ...   \n",
       "2021-05-15                                        6.142274   \n",
       "2021-05-16                                        8.260205   \n",
       "2021-05-17                                       16.949458   \n",
       "2021-05-18                                      -24.987135   \n",
       "2021-05-19                                      124.887034   \n",
       "\n",
       "            Porcentaje Cap. De Mercado respecto al día anterior  Ganancia  \\\n",
       "fecha                                                                       \n",
       "2013-04-29                                           0.000000           0   \n",
       "2013-04-30                                          -3.800781           0   \n",
       "2013-05-01                                         -15.806096           1   \n",
       "2013-05-02                                         -10.041698           1   \n",
       "2013-05-03                                          -7.062139           0   \n",
       "...                                                       ...         ...   \n",
       "2021-05-15                                          -6.251722           0   \n",
       "2021-05-16                                          -0.645987           1   \n",
       "2021-05-17                                          -6.278470           0   \n",
       "2021-05-18                                          -1.439459           1   \n",
       "2021-05-19                                         -13.764048           0   \n",
       "\n",
       "            Dia_semana  Dia  Mes   Año      fecha  \n",
       "fecha                                              \n",
       "2013-04-29           2   29    4  2013 2013-04-29  \n",
       "2013-04-30           1   30    4  2013 2013-04-30  \n",
       "2013-05-01           0    1    5  2013 2013-05-01  \n",
       "2013-05-02           6    2    5  2013 2013-05-02  \n",
       "2013-05-03           5    3    5  2013 2013-05-03  \n",
       "...                ...  ...  ...   ...        ...  \n",
       "2021-05-15           4   15    5  2021 2021-05-15  \n",
       "2021-05-16           3   16    5  2021 2021-05-16  \n",
       "2021-05-17           2   17    5  2021 2021-05-17  \n",
       "2021-05-18           1   18    5  2021 2021-05-18  \n",
       "2021-05-19           0   19    5  2021 2021-05-19  \n",
       "\n",
       "[2911 rows x 16 columns]"
      ]
     },
     "execution_count": 220,
     "metadata": {},
     "output_type": "execute_result"
    }
   ],
   "source": [
    "#Ordeno las fechas\n",
    "datos = datos.sort_index(ascending=True, axis=0)\n",
    "datos"
   ]
  },
  {
   "cell_type": "code",
   "execution_count": 221,
   "metadata": {},
   "outputs": [
    {
     "data": {
      "text/plain": [
       "(2911, 2)"
      ]
     },
     "execution_count": 221,
     "metadata": {},
     "output_type": "execute_result"
    }
   ],
   "source": [
    "#Obtengo los datos\n",
    "MediaMovil=datos.iloc[:,[4,15]]\n",
    "MediaMovil.shape"
   ]
  },
  {
   "cell_type": "code",
   "execution_count": 222,
   "metadata": {},
   "outputs": [],
   "source": [
    "#no puedo utilizar train_test_split porque quiero seguir el orden de las fechas"
   ]
  },
  {
   "cell_type": "code",
   "execution_count": 223,
   "metadata": {},
   "outputs": [],
   "source": [
    "#Cantidad de datos por año"
   ]
  },
  {
   "cell_type": "code",
   "execution_count": 224,
   "metadata": {},
   "outputs": [
    {
     "data": {
      "text/html": [
       "<div>\n",
       "<style scoped>\n",
       "    .dataframe tbody tr th:only-of-type {\n",
       "        vertical-align: middle;\n",
       "    }\n",
       "\n",
       "    .dataframe tbody tr th {\n",
       "        vertical-align: top;\n",
       "    }\n",
       "\n",
       "    .dataframe thead th {\n",
       "        text-align: right;\n",
       "    }\n",
       "</style>\n",
       "<table border=\"1\" class=\"dataframe\">\n",
       "  <thead>\n",
       "    <tr style=\"text-align: right;\">\n",
       "      <th></th>\n",
       "      <th>Año</th>\n",
       "      <th>count</th>\n",
       "    </tr>\n",
       "  </thead>\n",
       "  <tbody>\n",
       "    <tr>\n",
       "      <th>0</th>\n",
       "      <td>2013</td>\n",
       "      <td>247</td>\n",
       "    </tr>\n",
       "    <tr>\n",
       "      <th>1</th>\n",
       "      <td>2014</td>\n",
       "      <td>365</td>\n",
       "    </tr>\n",
       "    <tr>\n",
       "      <th>2</th>\n",
       "      <td>2015</td>\n",
       "      <td>365</td>\n",
       "    </tr>\n",
       "    <tr>\n",
       "      <th>3</th>\n",
       "      <td>2016</td>\n",
       "      <td>366</td>\n",
       "    </tr>\n",
       "    <tr>\n",
       "      <th>4</th>\n",
       "      <td>2017</td>\n",
       "      <td>365</td>\n",
       "    </tr>\n",
       "    <tr>\n",
       "      <th>5</th>\n",
       "      <td>2018</td>\n",
       "      <td>365</td>\n",
       "    </tr>\n",
       "    <tr>\n",
       "      <th>6</th>\n",
       "      <td>2019</td>\n",
       "      <td>365</td>\n",
       "    </tr>\n",
       "    <tr>\n",
       "      <th>7</th>\n",
       "      <td>2020</td>\n",
       "      <td>366</td>\n",
       "    </tr>\n",
       "    <tr>\n",
       "      <th>8</th>\n",
       "      <td>2021</td>\n",
       "      <td>107</td>\n",
       "    </tr>\n",
       "  </tbody>\n",
       "</table>\n",
       "</div>"
      ],
      "text/plain": [
       "    Año  count\n",
       "0  2013    247\n",
       "1  2014    365\n",
       "2  2015    365\n",
       "3  2016    366\n",
       "4  2017    365\n",
       "5  2018    365\n",
       "6  2019    365\n",
       "7  2020    366\n",
       "8  2021    107"
      ]
     },
     "execution_count": 224,
     "metadata": {},
     "output_type": "execute_result"
    }
   ],
   "source": [
    "caño=datos.groupby('Año')['Año'].count().reset_index(name = 'count')\n",
    "caño"
   ]
  },
  {
   "cell_type": "code",
   "execution_count": 225,
   "metadata": {},
   "outputs": [
    {
     "data": {
      "application/vnd.plotly.v1+json": {
       "config": {
        "plotlyServerURL": "https://plot.ly"
       },
       "data": [
        {
         "domain": {
          "x": [
           0,
           1
          ],
          "y": [
           0,
           1
          ]
         },
         "hovertemplate": "Año=%{label}<br>count=%{value}<extra></extra>",
         "labels": [
          2013,
          2014,
          2015,
          2016,
          2017,
          2018,
          2019,
          2020,
          2021
         ],
         "legendgroup": "",
         "name": "",
         "showlegend": true,
         "type": "pie",
         "values": [
          247,
          365,
          365,
          366,
          365,
          365,
          365,
          366,
          107
         ]
        }
       ],
       "layout": {
        "legend": {
         "tracegroupgap": 0
        },
        "template": {
         "data": {
          "bar": [
           {
            "error_x": {
             "color": "#2a3f5f"
            },
            "error_y": {
             "color": "#2a3f5f"
            },
            "marker": {
             "line": {
              "color": "#E5ECF6",
              "width": 0.5
             }
            },
            "type": "bar"
           }
          ],
          "barpolar": [
           {
            "marker": {
             "line": {
              "color": "#E5ECF6",
              "width": 0.5
             }
            },
            "type": "barpolar"
           }
          ],
          "carpet": [
           {
            "aaxis": {
             "endlinecolor": "#2a3f5f",
             "gridcolor": "white",
             "linecolor": "white",
             "minorgridcolor": "white",
             "startlinecolor": "#2a3f5f"
            },
            "baxis": {
             "endlinecolor": "#2a3f5f",
             "gridcolor": "white",
             "linecolor": "white",
             "minorgridcolor": "white",
             "startlinecolor": "#2a3f5f"
            },
            "type": "carpet"
           }
          ],
          "choropleth": [
           {
            "colorbar": {
             "outlinewidth": 0,
             "ticks": ""
            },
            "type": "choropleth"
           }
          ],
          "contour": [
           {
            "colorbar": {
             "outlinewidth": 0,
             "ticks": ""
            },
            "colorscale": [
             [
              0,
              "#0d0887"
             ],
             [
              0.1111111111111111,
              "#46039f"
             ],
             [
              0.2222222222222222,
              "#7201a8"
             ],
             [
              0.3333333333333333,
              "#9c179e"
             ],
             [
              0.4444444444444444,
              "#bd3786"
             ],
             [
              0.5555555555555556,
              "#d8576b"
             ],
             [
              0.6666666666666666,
              "#ed7953"
             ],
             [
              0.7777777777777778,
              "#fb9f3a"
             ],
             [
              0.8888888888888888,
              "#fdca26"
             ],
             [
              1,
              "#f0f921"
             ]
            ],
            "type": "contour"
           }
          ],
          "contourcarpet": [
           {
            "colorbar": {
             "outlinewidth": 0,
             "ticks": ""
            },
            "type": "contourcarpet"
           }
          ],
          "heatmap": [
           {
            "colorbar": {
             "outlinewidth": 0,
             "ticks": ""
            },
            "colorscale": [
             [
              0,
              "#0d0887"
             ],
             [
              0.1111111111111111,
              "#46039f"
             ],
             [
              0.2222222222222222,
              "#7201a8"
             ],
             [
              0.3333333333333333,
              "#9c179e"
             ],
             [
              0.4444444444444444,
              "#bd3786"
             ],
             [
              0.5555555555555556,
              "#d8576b"
             ],
             [
              0.6666666666666666,
              "#ed7953"
             ],
             [
              0.7777777777777778,
              "#fb9f3a"
             ],
             [
              0.8888888888888888,
              "#fdca26"
             ],
             [
              1,
              "#f0f921"
             ]
            ],
            "type": "heatmap"
           }
          ],
          "heatmapgl": [
           {
            "colorbar": {
             "outlinewidth": 0,
             "ticks": ""
            },
            "colorscale": [
             [
              0,
              "#0d0887"
             ],
             [
              0.1111111111111111,
              "#46039f"
             ],
             [
              0.2222222222222222,
              "#7201a8"
             ],
             [
              0.3333333333333333,
              "#9c179e"
             ],
             [
              0.4444444444444444,
              "#bd3786"
             ],
             [
              0.5555555555555556,
              "#d8576b"
             ],
             [
              0.6666666666666666,
              "#ed7953"
             ],
             [
              0.7777777777777778,
              "#fb9f3a"
             ],
             [
              0.8888888888888888,
              "#fdca26"
             ],
             [
              1,
              "#f0f921"
             ]
            ],
            "type": "heatmapgl"
           }
          ],
          "histogram": [
           {
            "marker": {
             "colorbar": {
              "outlinewidth": 0,
              "ticks": ""
             }
            },
            "type": "histogram"
           }
          ],
          "histogram2d": [
           {
            "colorbar": {
             "outlinewidth": 0,
             "ticks": ""
            },
            "colorscale": [
             [
              0,
              "#0d0887"
             ],
             [
              0.1111111111111111,
              "#46039f"
             ],
             [
              0.2222222222222222,
              "#7201a8"
             ],
             [
              0.3333333333333333,
              "#9c179e"
             ],
             [
              0.4444444444444444,
              "#bd3786"
             ],
             [
              0.5555555555555556,
              "#d8576b"
             ],
             [
              0.6666666666666666,
              "#ed7953"
             ],
             [
              0.7777777777777778,
              "#fb9f3a"
             ],
             [
              0.8888888888888888,
              "#fdca26"
             ],
             [
              1,
              "#f0f921"
             ]
            ],
            "type": "histogram2d"
           }
          ],
          "histogram2dcontour": [
           {
            "colorbar": {
             "outlinewidth": 0,
             "ticks": ""
            },
            "colorscale": [
             [
              0,
              "#0d0887"
             ],
             [
              0.1111111111111111,
              "#46039f"
             ],
             [
              0.2222222222222222,
              "#7201a8"
             ],
             [
              0.3333333333333333,
              "#9c179e"
             ],
             [
              0.4444444444444444,
              "#bd3786"
             ],
             [
              0.5555555555555556,
              "#d8576b"
             ],
             [
              0.6666666666666666,
              "#ed7953"
             ],
             [
              0.7777777777777778,
              "#fb9f3a"
             ],
             [
              0.8888888888888888,
              "#fdca26"
             ],
             [
              1,
              "#f0f921"
             ]
            ],
            "type": "histogram2dcontour"
           }
          ],
          "mesh3d": [
           {
            "colorbar": {
             "outlinewidth": 0,
             "ticks": ""
            },
            "type": "mesh3d"
           }
          ],
          "parcoords": [
           {
            "line": {
             "colorbar": {
              "outlinewidth": 0,
              "ticks": ""
             }
            },
            "type": "parcoords"
           }
          ],
          "pie": [
           {
            "automargin": true,
            "type": "pie"
           }
          ],
          "scatter": [
           {
            "marker": {
             "colorbar": {
              "outlinewidth": 0,
              "ticks": ""
             }
            },
            "type": "scatter"
           }
          ],
          "scatter3d": [
           {
            "line": {
             "colorbar": {
              "outlinewidth": 0,
              "ticks": ""
             }
            },
            "marker": {
             "colorbar": {
              "outlinewidth": 0,
              "ticks": ""
             }
            },
            "type": "scatter3d"
           }
          ],
          "scattercarpet": [
           {
            "marker": {
             "colorbar": {
              "outlinewidth": 0,
              "ticks": ""
             }
            },
            "type": "scattercarpet"
           }
          ],
          "scattergeo": [
           {
            "marker": {
             "colorbar": {
              "outlinewidth": 0,
              "ticks": ""
             }
            },
            "type": "scattergeo"
           }
          ],
          "scattergl": [
           {
            "marker": {
             "colorbar": {
              "outlinewidth": 0,
              "ticks": ""
             }
            },
            "type": "scattergl"
           }
          ],
          "scattermapbox": [
           {
            "marker": {
             "colorbar": {
              "outlinewidth": 0,
              "ticks": ""
             }
            },
            "type": "scattermapbox"
           }
          ],
          "scatterpolar": [
           {
            "marker": {
             "colorbar": {
              "outlinewidth": 0,
              "ticks": ""
             }
            },
            "type": "scatterpolar"
           }
          ],
          "scatterpolargl": [
           {
            "marker": {
             "colorbar": {
              "outlinewidth": 0,
              "ticks": ""
             }
            },
            "type": "scatterpolargl"
           }
          ],
          "scatterternary": [
           {
            "marker": {
             "colorbar": {
              "outlinewidth": 0,
              "ticks": ""
             }
            },
            "type": "scatterternary"
           }
          ],
          "surface": [
           {
            "colorbar": {
             "outlinewidth": 0,
             "ticks": ""
            },
            "colorscale": [
             [
              0,
              "#0d0887"
             ],
             [
              0.1111111111111111,
              "#46039f"
             ],
             [
              0.2222222222222222,
              "#7201a8"
             ],
             [
              0.3333333333333333,
              "#9c179e"
             ],
             [
              0.4444444444444444,
              "#bd3786"
             ],
             [
              0.5555555555555556,
              "#d8576b"
             ],
             [
              0.6666666666666666,
              "#ed7953"
             ],
             [
              0.7777777777777778,
              "#fb9f3a"
             ],
             [
              0.8888888888888888,
              "#fdca26"
             ],
             [
              1,
              "#f0f921"
             ]
            ],
            "type": "surface"
           }
          ],
          "table": [
           {
            "cells": {
             "fill": {
              "color": "#EBF0F8"
             },
             "line": {
              "color": "white"
             }
            },
            "header": {
             "fill": {
              "color": "#C8D4E3"
             },
             "line": {
              "color": "white"
             }
            },
            "type": "table"
           }
          ]
         },
         "layout": {
          "annotationdefaults": {
           "arrowcolor": "#2a3f5f",
           "arrowhead": 0,
           "arrowwidth": 1
          },
          "autotypenumbers": "strict",
          "coloraxis": {
           "colorbar": {
            "outlinewidth": 0,
            "ticks": ""
           }
          },
          "colorscale": {
           "diverging": [
            [
             0,
             "#8e0152"
            ],
            [
             0.1,
             "#c51b7d"
            ],
            [
             0.2,
             "#de77ae"
            ],
            [
             0.3,
             "#f1b6da"
            ],
            [
             0.4,
             "#fde0ef"
            ],
            [
             0.5,
             "#f7f7f7"
            ],
            [
             0.6,
             "#e6f5d0"
            ],
            [
             0.7,
             "#b8e186"
            ],
            [
             0.8,
             "#7fbc41"
            ],
            [
             0.9,
             "#4d9221"
            ],
            [
             1,
             "#276419"
            ]
           ],
           "sequential": [
            [
             0,
             "#0d0887"
            ],
            [
             0.1111111111111111,
             "#46039f"
            ],
            [
             0.2222222222222222,
             "#7201a8"
            ],
            [
             0.3333333333333333,
             "#9c179e"
            ],
            [
             0.4444444444444444,
             "#bd3786"
            ],
            [
             0.5555555555555556,
             "#d8576b"
            ],
            [
             0.6666666666666666,
             "#ed7953"
            ],
            [
             0.7777777777777778,
             "#fb9f3a"
            ],
            [
             0.8888888888888888,
             "#fdca26"
            ],
            [
             1,
             "#f0f921"
            ]
           ],
           "sequentialminus": [
            [
             0,
             "#0d0887"
            ],
            [
             0.1111111111111111,
             "#46039f"
            ],
            [
             0.2222222222222222,
             "#7201a8"
            ],
            [
             0.3333333333333333,
             "#9c179e"
            ],
            [
             0.4444444444444444,
             "#bd3786"
            ],
            [
             0.5555555555555556,
             "#d8576b"
            ],
            [
             0.6666666666666666,
             "#ed7953"
            ],
            [
             0.7777777777777778,
             "#fb9f3a"
            ],
            [
             0.8888888888888888,
             "#fdca26"
            ],
            [
             1,
             "#f0f921"
            ]
           ]
          },
          "colorway": [
           "#636efa",
           "#EF553B",
           "#00cc96",
           "#ab63fa",
           "#FFA15A",
           "#19d3f3",
           "#FF6692",
           "#B6E880",
           "#FF97FF",
           "#FECB52"
          ],
          "font": {
           "color": "#2a3f5f"
          },
          "geo": {
           "bgcolor": "white",
           "lakecolor": "white",
           "landcolor": "#E5ECF6",
           "showlakes": true,
           "showland": true,
           "subunitcolor": "white"
          },
          "hoverlabel": {
           "align": "left"
          },
          "hovermode": "closest",
          "mapbox": {
           "style": "light"
          },
          "paper_bgcolor": "white",
          "plot_bgcolor": "#E5ECF6",
          "polar": {
           "angularaxis": {
            "gridcolor": "white",
            "linecolor": "white",
            "ticks": ""
           },
           "bgcolor": "#E5ECF6",
           "radialaxis": {
            "gridcolor": "white",
            "linecolor": "white",
            "ticks": ""
           }
          },
          "scene": {
           "xaxis": {
            "backgroundcolor": "#E5ECF6",
            "gridcolor": "white",
            "gridwidth": 2,
            "linecolor": "white",
            "showbackground": true,
            "ticks": "",
            "zerolinecolor": "white"
           },
           "yaxis": {
            "backgroundcolor": "#E5ECF6",
            "gridcolor": "white",
            "gridwidth": 2,
            "linecolor": "white",
            "showbackground": true,
            "ticks": "",
            "zerolinecolor": "white"
           },
           "zaxis": {
            "backgroundcolor": "#E5ECF6",
            "gridcolor": "white",
            "gridwidth": 2,
            "linecolor": "white",
            "showbackground": true,
            "ticks": "",
            "zerolinecolor": "white"
           }
          },
          "shapedefaults": {
           "line": {
            "color": "#2a3f5f"
           }
          },
          "ternary": {
           "aaxis": {
            "gridcolor": "white",
            "linecolor": "white",
            "ticks": ""
           },
           "baxis": {
            "gridcolor": "white",
            "linecolor": "white",
            "ticks": ""
           },
           "bgcolor": "#E5ECF6",
           "caxis": {
            "gridcolor": "white",
            "linecolor": "white",
            "ticks": ""
           }
          },
          "title": {
           "x": 0.05
          },
          "xaxis": {
           "automargin": true,
           "gridcolor": "white",
           "linecolor": "white",
           "ticks": "",
           "title": {
            "standoff": 15
           },
           "zerolinecolor": "white",
           "zerolinewidth": 2
          },
          "yaxis": {
           "automargin": true,
           "gridcolor": "white",
           "linecolor": "white",
           "ticks": "",
           "title": {
            "standoff": 15
           },
           "zerolinecolor": "white",
           "zerolinewidth": 2
          }
         }
        },
        "title": {
         "text": "Año"
        }
       }
      },
      "text/html": [
       "<div>                            <div id=\"f23b74a6-3bdb-448e-a203-169838de2605\" class=\"plotly-graph-div\" style=\"height:525px; width:100%;\"></div>            <script type=\"text/javascript\">                require([\"plotly\"], function(Plotly) {                    window.PLOTLYENV=window.PLOTLYENV || {};                                    if (document.getElementById(\"f23b74a6-3bdb-448e-a203-169838de2605\")) {                    Plotly.newPlot(                        \"f23b74a6-3bdb-448e-a203-169838de2605\",                        [{\"domain\": {\"x\": [0.0, 1.0], \"y\": [0.0, 1.0]}, \"hovertemplate\": \"A\\u00f1o=%{label}<br>count=%{value}<extra></extra>\", \"labels\": [2013, 2014, 2015, 2016, 2017, 2018, 2019, 2020, 2021], \"legendgroup\": \"\", \"name\": \"\", \"showlegend\": true, \"type\": \"pie\", \"values\": [247, 365, 365, 366, 365, 365, 365, 366, 107]}],                        {\"legend\": {\"tracegroupgap\": 0}, \"template\": {\"data\": {\"bar\": [{\"error_x\": {\"color\": \"#2a3f5f\"}, \"error_y\": {\"color\": \"#2a3f5f\"}, \"marker\": {\"line\": {\"color\": \"#E5ECF6\", \"width\": 0.5}}, \"type\": \"bar\"}], \"barpolar\": [{\"marker\": {\"line\": {\"color\": \"#E5ECF6\", \"width\": 0.5}}, \"type\": \"barpolar\"}], \"carpet\": [{\"aaxis\": {\"endlinecolor\": \"#2a3f5f\", \"gridcolor\": \"white\", \"linecolor\": \"white\", \"minorgridcolor\": \"white\", \"startlinecolor\": \"#2a3f5f\"}, \"baxis\": {\"endlinecolor\": \"#2a3f5f\", \"gridcolor\": \"white\", \"linecolor\": \"white\", \"minorgridcolor\": \"white\", \"startlinecolor\": \"#2a3f5f\"}, \"type\": \"carpet\"}], \"choropleth\": [{\"colorbar\": {\"outlinewidth\": 0, \"ticks\": \"\"}, \"type\": \"choropleth\"}], \"contour\": [{\"colorbar\": {\"outlinewidth\": 0, \"ticks\": \"\"}, \"colorscale\": [[0.0, \"#0d0887\"], [0.1111111111111111, \"#46039f\"], [0.2222222222222222, \"#7201a8\"], [0.3333333333333333, \"#9c179e\"], [0.4444444444444444, \"#bd3786\"], [0.5555555555555556, \"#d8576b\"], [0.6666666666666666, \"#ed7953\"], [0.7777777777777778, \"#fb9f3a\"], [0.8888888888888888, \"#fdca26\"], [1.0, \"#f0f921\"]], \"type\": \"contour\"}], \"contourcarpet\": [{\"colorbar\": {\"outlinewidth\": 0, \"ticks\": \"\"}, \"type\": \"contourcarpet\"}], \"heatmap\": [{\"colorbar\": {\"outlinewidth\": 0, \"ticks\": \"\"}, \"colorscale\": [[0.0, \"#0d0887\"], [0.1111111111111111, \"#46039f\"], [0.2222222222222222, \"#7201a8\"], [0.3333333333333333, \"#9c179e\"], [0.4444444444444444, \"#bd3786\"], [0.5555555555555556, \"#d8576b\"], [0.6666666666666666, \"#ed7953\"], [0.7777777777777778, \"#fb9f3a\"], [0.8888888888888888, \"#fdca26\"], [1.0, \"#f0f921\"]], \"type\": \"heatmap\"}], \"heatmapgl\": [{\"colorbar\": {\"outlinewidth\": 0, \"ticks\": \"\"}, \"colorscale\": [[0.0, \"#0d0887\"], [0.1111111111111111, \"#46039f\"], [0.2222222222222222, \"#7201a8\"], [0.3333333333333333, \"#9c179e\"], [0.4444444444444444, \"#bd3786\"], [0.5555555555555556, \"#d8576b\"], [0.6666666666666666, \"#ed7953\"], [0.7777777777777778, \"#fb9f3a\"], [0.8888888888888888, \"#fdca26\"], [1.0, \"#f0f921\"]], \"type\": \"heatmapgl\"}], \"histogram\": [{\"marker\": {\"colorbar\": {\"outlinewidth\": 0, \"ticks\": \"\"}}, \"type\": \"histogram\"}], \"histogram2d\": [{\"colorbar\": {\"outlinewidth\": 0, \"ticks\": \"\"}, \"colorscale\": [[0.0, \"#0d0887\"], [0.1111111111111111, \"#46039f\"], [0.2222222222222222, \"#7201a8\"], [0.3333333333333333, \"#9c179e\"], [0.4444444444444444, \"#bd3786\"], [0.5555555555555556, \"#d8576b\"], [0.6666666666666666, \"#ed7953\"], [0.7777777777777778, \"#fb9f3a\"], [0.8888888888888888, \"#fdca26\"], [1.0, \"#f0f921\"]], \"type\": \"histogram2d\"}], \"histogram2dcontour\": [{\"colorbar\": {\"outlinewidth\": 0, \"ticks\": \"\"}, \"colorscale\": [[0.0, \"#0d0887\"], [0.1111111111111111, \"#46039f\"], [0.2222222222222222, \"#7201a8\"], [0.3333333333333333, \"#9c179e\"], [0.4444444444444444, \"#bd3786\"], [0.5555555555555556, \"#d8576b\"], [0.6666666666666666, \"#ed7953\"], [0.7777777777777778, \"#fb9f3a\"], [0.8888888888888888, \"#fdca26\"], [1.0, \"#f0f921\"]], \"type\": \"histogram2dcontour\"}], \"mesh3d\": [{\"colorbar\": {\"outlinewidth\": 0, \"ticks\": \"\"}, \"type\": \"mesh3d\"}], \"parcoords\": [{\"line\": {\"colorbar\": {\"outlinewidth\": 0, \"ticks\": \"\"}}, \"type\": \"parcoords\"}], \"pie\": [{\"automargin\": true, \"type\": \"pie\"}], \"scatter\": [{\"marker\": {\"colorbar\": {\"outlinewidth\": 0, \"ticks\": \"\"}}, \"type\": \"scatter\"}], \"scatter3d\": [{\"line\": {\"colorbar\": {\"outlinewidth\": 0, \"ticks\": \"\"}}, \"marker\": {\"colorbar\": {\"outlinewidth\": 0, \"ticks\": \"\"}}, \"type\": \"scatter3d\"}], \"scattercarpet\": [{\"marker\": {\"colorbar\": {\"outlinewidth\": 0, \"ticks\": \"\"}}, \"type\": \"scattercarpet\"}], \"scattergeo\": [{\"marker\": {\"colorbar\": {\"outlinewidth\": 0, \"ticks\": \"\"}}, \"type\": \"scattergeo\"}], \"scattergl\": [{\"marker\": {\"colorbar\": {\"outlinewidth\": 0, \"ticks\": \"\"}}, \"type\": \"scattergl\"}], \"scattermapbox\": [{\"marker\": {\"colorbar\": {\"outlinewidth\": 0, \"ticks\": \"\"}}, \"type\": \"scattermapbox\"}], \"scatterpolar\": [{\"marker\": {\"colorbar\": {\"outlinewidth\": 0, \"ticks\": \"\"}}, \"type\": \"scatterpolar\"}], \"scatterpolargl\": [{\"marker\": {\"colorbar\": {\"outlinewidth\": 0, \"ticks\": \"\"}}, \"type\": \"scatterpolargl\"}], \"scatterternary\": [{\"marker\": {\"colorbar\": {\"outlinewidth\": 0, \"ticks\": \"\"}}, \"type\": \"scatterternary\"}], \"surface\": [{\"colorbar\": {\"outlinewidth\": 0, \"ticks\": \"\"}, \"colorscale\": [[0.0, \"#0d0887\"], [0.1111111111111111, \"#46039f\"], [0.2222222222222222, \"#7201a8\"], [0.3333333333333333, \"#9c179e\"], [0.4444444444444444, \"#bd3786\"], [0.5555555555555556, \"#d8576b\"], [0.6666666666666666, \"#ed7953\"], [0.7777777777777778, \"#fb9f3a\"], [0.8888888888888888, \"#fdca26\"], [1.0, \"#f0f921\"]], \"type\": \"surface\"}], \"table\": [{\"cells\": {\"fill\": {\"color\": \"#EBF0F8\"}, \"line\": {\"color\": \"white\"}}, \"header\": {\"fill\": {\"color\": \"#C8D4E3\"}, \"line\": {\"color\": \"white\"}}, \"type\": \"table\"}]}, \"layout\": {\"annotationdefaults\": {\"arrowcolor\": \"#2a3f5f\", \"arrowhead\": 0, \"arrowwidth\": 1}, \"autotypenumbers\": \"strict\", \"coloraxis\": {\"colorbar\": {\"outlinewidth\": 0, \"ticks\": \"\"}}, \"colorscale\": {\"diverging\": [[0, \"#8e0152\"], [0.1, \"#c51b7d\"], [0.2, \"#de77ae\"], [0.3, \"#f1b6da\"], [0.4, \"#fde0ef\"], [0.5, \"#f7f7f7\"], [0.6, \"#e6f5d0\"], [0.7, \"#b8e186\"], [0.8, \"#7fbc41\"], [0.9, \"#4d9221\"], [1, \"#276419\"]], \"sequential\": [[0.0, \"#0d0887\"], [0.1111111111111111, \"#46039f\"], [0.2222222222222222, \"#7201a8\"], [0.3333333333333333, \"#9c179e\"], [0.4444444444444444, \"#bd3786\"], [0.5555555555555556, \"#d8576b\"], [0.6666666666666666, \"#ed7953\"], [0.7777777777777778, \"#fb9f3a\"], [0.8888888888888888, \"#fdca26\"], [1.0, \"#f0f921\"]], \"sequentialminus\": [[0.0, \"#0d0887\"], [0.1111111111111111, \"#46039f\"], [0.2222222222222222, \"#7201a8\"], [0.3333333333333333, \"#9c179e\"], [0.4444444444444444, \"#bd3786\"], [0.5555555555555556, \"#d8576b\"], [0.6666666666666666, \"#ed7953\"], [0.7777777777777778, \"#fb9f3a\"], [0.8888888888888888, \"#fdca26\"], [1.0, \"#f0f921\"]]}, \"colorway\": [\"#636efa\", \"#EF553B\", \"#00cc96\", \"#ab63fa\", \"#FFA15A\", \"#19d3f3\", \"#FF6692\", \"#B6E880\", \"#FF97FF\", \"#FECB52\"], \"font\": {\"color\": \"#2a3f5f\"}, \"geo\": {\"bgcolor\": \"white\", \"lakecolor\": \"white\", \"landcolor\": \"#E5ECF6\", \"showlakes\": true, \"showland\": true, \"subunitcolor\": \"white\"}, \"hoverlabel\": {\"align\": \"left\"}, \"hovermode\": \"closest\", \"mapbox\": {\"style\": \"light\"}, \"paper_bgcolor\": \"white\", \"plot_bgcolor\": \"#E5ECF6\", \"polar\": {\"angularaxis\": {\"gridcolor\": \"white\", \"linecolor\": \"white\", \"ticks\": \"\"}, \"bgcolor\": \"#E5ECF6\", \"radialaxis\": {\"gridcolor\": \"white\", \"linecolor\": \"white\", \"ticks\": \"\"}}, \"scene\": {\"xaxis\": {\"backgroundcolor\": \"#E5ECF6\", \"gridcolor\": \"white\", \"gridwidth\": 2, \"linecolor\": \"white\", \"showbackground\": true, \"ticks\": \"\", \"zerolinecolor\": \"white\"}, \"yaxis\": {\"backgroundcolor\": \"#E5ECF6\", \"gridcolor\": \"white\", \"gridwidth\": 2, \"linecolor\": \"white\", \"showbackground\": true, \"ticks\": \"\", \"zerolinecolor\": \"white\"}, \"zaxis\": {\"backgroundcolor\": \"#E5ECF6\", \"gridcolor\": \"white\", \"gridwidth\": 2, \"linecolor\": \"white\", \"showbackground\": true, \"ticks\": \"\", \"zerolinecolor\": \"white\"}}, \"shapedefaults\": {\"line\": {\"color\": \"#2a3f5f\"}}, \"ternary\": {\"aaxis\": {\"gridcolor\": \"white\", \"linecolor\": \"white\", \"ticks\": \"\"}, \"baxis\": {\"gridcolor\": \"white\", \"linecolor\": \"white\", \"ticks\": \"\"}, \"bgcolor\": \"#E5ECF6\", \"caxis\": {\"gridcolor\": \"white\", \"linecolor\": \"white\", \"ticks\": \"\"}}, \"title\": {\"x\": 0.05}, \"xaxis\": {\"automargin\": true, \"gridcolor\": \"white\", \"linecolor\": \"white\", \"ticks\": \"\", \"title\": {\"standoff\": 15}, \"zerolinecolor\": \"white\", \"zerolinewidth\": 2}, \"yaxis\": {\"automargin\": true, \"gridcolor\": \"white\", \"linecolor\": \"white\", \"ticks\": \"\", \"title\": {\"standoff\": 15}, \"zerolinecolor\": \"white\", \"zerolinewidth\": 2}}}, \"title\": {\"text\": \"A\\u00f1o\"}},                        {\"responsive\": true}                    ).then(function(){\n",
       "                            \n",
       "var gd = document.getElementById('f23b74a6-3bdb-448e-a203-169838de2605');\n",
       "var x = new MutationObserver(function (mutations, observer) {{\n",
       "        var display = window.getComputedStyle(gd).display;\n",
       "        if (!display || display === 'none') {{\n",
       "            console.log([gd, 'removed!']);\n",
       "            Plotly.purge(gd);\n",
       "            observer.disconnect();\n",
       "        }}\n",
       "}});\n",
       "\n",
       "// Listen for the removal of the full notebook cells\n",
       "var notebookContainer = gd.closest('#notebook-container');\n",
       "if (notebookContainer) {{\n",
       "    x.observe(notebookContainer, {childList: true});\n",
       "}}\n",
       "\n",
       "// Listen for the clearing of the current output cell\n",
       "var outputEl = gd.closest('.output');\n",
       "if (outputEl) {{\n",
       "    x.observe(outputEl, {childList: true});\n",
       "}}\n",
       "\n",
       "                        })                };                });            </script>        </div>"
      ]
     },
     "metadata": {},
     "output_type": "display_data"
    }
   ],
   "source": [
    "fig = px.pie(caño, values='count', names='Año', title='Año')\n",
    "fig.show()"
   ]
  },
  {
   "cell_type": "markdown",
   "metadata": {},
   "source": [
    "#### Como el total son 2910 voy a dividir 2328 para entrenar y 582 para validacion (80,20)\n"
   ]
  },
  {
   "cell_type": "code",
   "execution_count": 226,
   "metadata": {},
   "outputs": [],
   "source": [
    "entrenamiento = MediaMovil[:2328]\n",
    "validacion = MediaMovil[2328:]"
   ]
  },
  {
   "cell_type": "code",
   "execution_count": 227,
   "metadata": {},
   "outputs": [
    {
     "data": {
      "text/plain": [
       "(2328, 2)"
      ]
     },
     "execution_count": 227,
     "metadata": {},
     "output_type": "execute_result"
    }
   ],
   "source": [
    "#comprobación de las dimensiones de los datos de entrenamiento\n",
    "entrenamiento.shape"
   ]
  },
  {
   "cell_type": "code",
   "execution_count": 228,
   "metadata": {},
   "outputs": [
    {
     "data": {
      "text/plain": [
       "(583, 2)"
      ]
     },
     "execution_count": 228,
     "metadata": {},
     "output_type": "execute_result"
    }
   ],
   "source": [
    "#comprobación de las dimensiones de los datos de validacion\n",
    "validacion.shape"
   ]
  },
  {
   "cell_type": "markdown",
   "metadata": {},
   "source": [
    "#### Se va a utilizar el RMSE o raiz del error cuadratico medio para verificar los valores"
   ]
  },
  {
   "cell_type": "code",
   "execution_count": 229,
   "metadata": {},
   "outputs": [],
   "source": [
    "######METER FORMULAS AQUI? MEMORIA SI"
   ]
  },
  {
   "cell_type": "code",
   "execution_count": 230,
   "metadata": {},
   "outputs": [],
   "source": [
    "#Prediccion\n",
    "PrediccionMM = []"
   ]
  },
  {
   "cell_type": "code",
   "execution_count": 231,
   "metadata": {},
   "outputs": [],
   "source": [
    "\n",
    "#validacion.shape[0] = 582\n",
    "for i in range(0,validacion.shape[0]):\n",
    "    #2328-582+i:\n",
    "    a = entrenamiento['Cerrar**'][len(entrenamiento)-582+i:].sum() + sum(PrediccionMM)\n",
    "    b = a/582\n",
    "    PrediccionMM.append(b)\n",
    "#Comprobacion de RMSE\n",
    "rmse=np.sqrt(np.mean(np.power((np.array(validacion['Cerrar**'])-PrediccionMM),2)))\n"
   ]
  },
  {
   "cell_type": "markdown",
   "metadata": {},
   "source": [
    "<img src=\"https://miro.medium.com/max/700/1*qYxwsMuaYfhINbq3EteRYQ.png\">"
   ]
  },
  {
   "cell_type": "code",
   "execution_count": 232,
   "metadata": {},
   "outputs": [
    {
     "name": "stdout",
     "output_type": "stream",
     "text": [
      "\n",
      " RMSE value on validation set:\n",
      "17718.953571288766\n"
     ]
    }
   ],
   "source": [
    "print('\\n RMSE value on validation set:')\n",
    "print(rmse)"
   ]
  },
  {
   "cell_type": "code",
   "execution_count": 273,
   "metadata": {},
   "outputs": [
    {
     "name": "stderr",
     "output_type": "stream",
     "text": [
      "C:\\Users\\mivar\\Anaconda2\\envs\\py36\\lib\\site-packages\\ipykernel_launcher.py:4: SettingWithCopyWarning:\n",
      "\n",
      "\n",
      "A value is trying to be set on a copy of a slice from a DataFrame.\n",
      "Try using .loc[row_indexer,col_indexer] = value instead\n",
      "\n",
      "See the caveats in the documentation: https://pandas.pydata.org/pandas-docs/stable/user_guide/indexing.html#returning-a-view-versus-a-copy\n",
      "\n",
      "C:\\Users\\mivar\\Anaconda2\\envs\\py36\\lib\\site-packages\\ipykernel_launcher.py:5: SettingWithCopyWarning:\n",
      "\n",
      "\n",
      "A value is trying to be set on a copy of a slice from a DataFrame.\n",
      "Try using .loc[row_indexer,col_indexer] = value instead\n",
      "\n",
      "See the caveats in the documentation: https://pandas.pydata.org/pandas-docs/stable/user_guide/indexing.html#returning-a-view-versus-a-copy\n",
      "\n"
     ]
    },
    {
     "data": {
      "image/png": "[encoded data removed]",
      "text/plain": [
       "<Figure size 1152x432 with 1 Axes>"
      ]
     },
     "metadata": {
      "needs_background": "light"
     },
     "output_type": "display_data"
    }
   ],
   "source": [
    "#Visualización del resultado\n",
    "plt.figure(figsize=(16,6))\n",
    "plt.title('Media Movil')\n",
    "validacion['Predicion'] = 0\n",
    "validacion['Predicion'] = PrediccionMM\n",
    "plt.plot(entrenamiento['Cerrar**'],color='blue')\n",
    "plt.plot(validacion['Cerrar**'],color='green')\n",
    "plt.plot(validacion['Predicion'],color='red')\n",
    "plt.xlabel('Fecha')\n",
    "plt.ylabel('Cierre')\n",
    "\n",
    "plt.grid()"
   ]
  },
  {
   "cell_type": "code",
   "execution_count": null,
   "metadata": {},
   "outputs": [],
   "source": []
  },
  {
   "cell_type": "markdown",
   "metadata": {},
   "source": [
    "# Regresión lineal simple"
   ]
  },
  {
   "cell_type": "markdown",
   "metadata": {},
   "source": [
    "El objetivo es tratar de explicar la relación que existe entre una variable dependiente (Y - variable respuesta) y una variable independiente (X - variable explicativa)\n",
    "\n",
    "El modelo de regresión lineal simple tiene la siguiente expresión:\n",
    "                    \n",
    "                    Y = a + bX\n",
    "\n",
    "En donde:\n",
    "- a es la ordenada en el origen \n",
    "- b es la pendiente de la recta \n",
    "\n",
    "Usaremos para resolverlo el método de mínimos cuadrados, que consiste en minimizar la suma de los cuadrados de los errores."
   ]
  },
  {
   "cell_type": "markdown",
   "metadata": {},
   "source": [
    "#### Como entrada usaremos el Dia de la semana"
   ]
  },
  {
   "cell_type": "code",
   "execution_count": 234,
   "metadata": {},
   "outputs": [
    {
     "data": {
      "text/html": [
       "<div>\n",
       "<style scoped>\n",
       "    .dataframe tbody tr th:only-of-type {\n",
       "        vertical-align: middle;\n",
       "    }\n",
       "\n",
       "    .dataframe tbody tr th {\n",
       "        vertical-align: top;\n",
       "    }\n",
       "\n",
       "    .dataframe thead th {\n",
       "        text-align: right;\n",
       "    }\n",
       "</style>\n",
       "<table border=\"1\" class=\"dataframe\">\n",
       "  <thead>\n",
       "    <tr style=\"text-align: right;\">\n",
       "      <th></th>\n",
       "      <th>Dia_semana</th>\n",
       "    </tr>\n",
       "    <tr>\n",
       "      <th>fecha</th>\n",
       "      <th></th>\n",
       "    </tr>\n",
       "  </thead>\n",
       "  <tbody>\n",
       "    <tr>\n",
       "      <th>2013-04-29</th>\n",
       "      <td>2</td>\n",
       "    </tr>\n",
       "    <tr>\n",
       "      <th>2013-04-30</th>\n",
       "      <td>1</td>\n",
       "    </tr>\n",
       "    <tr>\n",
       "      <th>2013-05-01</th>\n",
       "      <td>0</td>\n",
       "    </tr>\n",
       "    <tr>\n",
       "      <th>2013-05-02</th>\n",
       "      <td>6</td>\n",
       "    </tr>\n",
       "    <tr>\n",
       "      <th>2013-05-03</th>\n",
       "      <td>5</td>\n",
       "    </tr>\n",
       "    <tr>\n",
       "      <th>2013-05-04</th>\n",
       "      <td>4</td>\n",
       "    </tr>\n",
       "    <tr>\n",
       "      <th>2013-05-05</th>\n",
       "      <td>3</td>\n",
       "    </tr>\n",
       "    <tr>\n",
       "      <th>2013-05-06</th>\n",
       "      <td>2</td>\n",
       "    </tr>\n",
       "    <tr>\n",
       "      <th>2013-05-07</th>\n",
       "      <td>1</td>\n",
       "    </tr>\n",
       "    <tr>\n",
       "      <th>2013-05-08</th>\n",
       "      <td>0</td>\n",
       "    </tr>\n",
       "  </tbody>\n",
       "</table>\n",
       "</div>"
      ],
      "text/plain": [
       "            Dia_semana\n",
       "fecha                 \n",
       "2013-04-29           2\n",
       "2013-04-30           1\n",
       "2013-05-01           0\n",
       "2013-05-02           6\n",
       "2013-05-03           5\n",
       "2013-05-04           4\n",
       "2013-05-05           3\n",
       "2013-05-06           2\n",
       "2013-05-07           1\n",
       "2013-05-08           0"
      ]
     },
     "execution_count": 234,
     "metadata": {},
     "output_type": "execute_result"
    }
   ],
   "source": [
    "#ENTRADAS\n",
    "X = datos.iloc[:,[11]]\n",
    "X.head(10)"
   ]
  },
  {
   "cell_type": "code",
   "execution_count": 235,
   "metadata": {
    "scrolled": true
   },
   "outputs": [
    {
     "data": {
      "text/html": [
       "<div>\n",
       "<style scoped>\n",
       "    .dataframe tbody tr th:only-of-type {\n",
       "        vertical-align: middle;\n",
       "    }\n",
       "\n",
       "    .dataframe tbody tr th {\n",
       "        vertical-align: top;\n",
       "    }\n",
       "\n",
       "    .dataframe thead th {\n",
       "        text-align: right;\n",
       "    }\n",
       "</style>\n",
       "<table border=\"1\" class=\"dataframe\">\n",
       "  <thead>\n",
       "    <tr style=\"text-align: right;\">\n",
       "      <th></th>\n",
       "      <th>Porcentaje Respecto al dia anterior en el abrir del mercado</th>\n",
       "    </tr>\n",
       "    <tr>\n",
       "      <th>fecha</th>\n",
       "      <th></th>\n",
       "    </tr>\n",
       "  </thead>\n",
       "  <tbody>\n",
       "    <tr>\n",
       "      <th>2013-04-29</th>\n",
       "      <td>0.000000</td>\n",
       "    </tr>\n",
       "    <tr>\n",
       "      <th>2013-04-30</th>\n",
       "      <td>7.110979</td>\n",
       "    </tr>\n",
       "    <tr>\n",
       "      <th>2013-05-01</th>\n",
       "      <td>-3.472222</td>\n",
       "    </tr>\n",
       "    <tr>\n",
       "      <th>2013-05-02</th>\n",
       "      <td>-16.273381</td>\n",
       "    </tr>\n",
       "    <tr>\n",
       "      <th>2013-05-03</th>\n",
       "      <td>-8.704245</td>\n",
       "    </tr>\n",
       "    <tr>\n",
       "      <th>2013-05-04</th>\n",
       "      <td>-7.670588</td>\n",
       "    </tr>\n",
       "    <tr>\n",
       "      <th>2013-05-05</th>\n",
       "      <td>15.086646</td>\n",
       "    </tr>\n",
       "    <tr>\n",
       "      <th>2013-05-06</th>\n",
       "      <td>2.728078</td>\n",
       "    </tr>\n",
       "    <tr>\n",
       "      <th>2013-05-07</th>\n",
       "      <td>-3.216072</td>\n",
       "    </tr>\n",
       "    <tr>\n",
       "      <th>2013-05-08</th>\n",
       "      <td>-2.360802</td>\n",
       "    </tr>\n",
       "  </tbody>\n",
       "</table>\n",
       "</div>"
      ],
      "text/plain": [
       "            Porcentaje Respecto al dia anterior en el abrir del mercado\n",
       "fecha                                                                  \n",
       "2013-04-29                                           0.000000          \n",
       "2013-04-30                                           7.110979          \n",
       "2013-05-01                                          -3.472222          \n",
       "2013-05-02                                         -16.273381          \n",
       "2013-05-03                                          -8.704245          \n",
       "2013-05-04                                          -7.670588          \n",
       "2013-05-05                                          15.086646          \n",
       "2013-05-06                                           2.728078          \n",
       "2013-05-07                                          -3.216072          \n",
       "2013-05-08                                          -2.360802          "
      ]
     },
     "execution_count": 235,
     "metadata": {},
     "output_type": "execute_result"
    }
   ],
   "source": [
    "#SALIDAS\n",
    "y= datos.iloc[:,[7]]\n",
    "y.head(10)"
   ]
  },
  {
   "cell_type": "code",
   "execution_count": 236,
   "metadata": {},
   "outputs": [
    {
     "data": {
      "text/html": [
       "<div>\n",
       "<style scoped>\n",
       "    .dataframe tbody tr th:only-of-type {\n",
       "        vertical-align: middle;\n",
       "    }\n",
       "\n",
       "    .dataframe tbody tr th {\n",
       "        vertical-align: top;\n",
       "    }\n",
       "\n",
       "    .dataframe thead th {\n",
       "        text-align: right;\n",
       "    }\n",
       "</style>\n",
       "<table border=\"1\" class=\"dataframe\">\n",
       "  <thead>\n",
       "    <tr style=\"text-align: right;\">\n",
       "      <th></th>\n",
       "      <th>Dia_semana</th>\n",
       "      <th>Porcentaje Respecto al dia anterior en el abrir del mercado</th>\n",
       "    </tr>\n",
       "    <tr>\n",
       "      <th>fecha</th>\n",
       "      <th></th>\n",
       "      <th></th>\n",
       "    </tr>\n",
       "  </thead>\n",
       "  <tbody>\n",
       "    <tr>\n",
       "      <th>2013-04-29</th>\n",
       "      <td>2</td>\n",
       "      <td>0.000000</td>\n",
       "    </tr>\n",
       "    <tr>\n",
       "      <th>2013-04-30</th>\n",
       "      <td>1</td>\n",
       "      <td>7.110979</td>\n",
       "    </tr>\n",
       "    <tr>\n",
       "      <th>2013-05-01</th>\n",
       "      <td>0</td>\n",
       "      <td>-3.472222</td>\n",
       "    </tr>\n",
       "    <tr>\n",
       "      <th>2013-05-02</th>\n",
       "      <td>6</td>\n",
       "      <td>-16.273381</td>\n",
       "    </tr>\n",
       "    <tr>\n",
       "      <th>2013-05-03</th>\n",
       "      <td>5</td>\n",
       "      <td>-8.704245</td>\n",
       "    </tr>\n",
       "    <tr>\n",
       "      <th>...</th>\n",
       "      <td>...</td>\n",
       "      <td>...</td>\n",
       "    </tr>\n",
       "    <tr>\n",
       "      <th>2021-05-15</th>\n",
       "      <td>4</td>\n",
       "      <td>0.347222</td>\n",
       "    </tr>\n",
       "    <tr>\n",
       "      <th>2021-05-16</th>\n",
       "      <td>3</td>\n",
       "      <td>-6.295896</td>\n",
       "    </tr>\n",
       "    <tr>\n",
       "      <th>2021-05-17</th>\n",
       "      <td>2</td>\n",
       "      <td>-0.643753</td>\n",
       "    </tr>\n",
       "    <tr>\n",
       "      <th>2021-05-18</th>\n",
       "      <td>1</td>\n",
       "      <td>-6.307838</td>\n",
       "    </tr>\n",
       "    <tr>\n",
       "      <th>2021-05-19</th>\n",
       "      <td>0</td>\n",
       "      <td>-1.248803</td>\n",
       "    </tr>\n",
       "  </tbody>\n",
       "</table>\n",
       "<p>2911 rows × 2 columns</p>\n",
       "</div>"
      ],
      "text/plain": [
       "            Dia_semana  \\\n",
       "fecha                    \n",
       "2013-04-29           2   \n",
       "2013-04-30           1   \n",
       "2013-05-01           0   \n",
       "2013-05-02           6   \n",
       "2013-05-03           5   \n",
       "...                ...   \n",
       "2021-05-15           4   \n",
       "2021-05-16           3   \n",
       "2021-05-17           2   \n",
       "2021-05-18           1   \n",
       "2021-05-19           0   \n",
       "\n",
       "            Porcentaje Respecto al dia anterior en el abrir del mercado  \n",
       "fecha                                                                    \n",
       "2013-04-29                                           0.000000            \n",
       "2013-04-30                                           7.110979            \n",
       "2013-05-01                                          -3.472222            \n",
       "2013-05-02                                         -16.273381            \n",
       "2013-05-03                                          -8.704245            \n",
       "...                                                       ...            \n",
       "2021-05-15                                           0.347222            \n",
       "2021-05-16                                          -6.295896            \n",
       "2021-05-17                                          -0.643753            \n",
       "2021-05-18                                          -6.307838            \n",
       "2021-05-19                                          -1.248803            \n",
       "\n",
       "[2911 rows x 2 columns]"
      ]
     },
     "execution_count": 236,
     "metadata": {},
     "output_type": "execute_result"
    }
   ],
   "source": [
    "#Juntamos el nuevo Dataframe\n",
    "datasetmrs = pd.DataFrame()\n",
    "datasetmrs = pd.concat([datos.iloc[:,[11]], datos.iloc[:,[7]]], axis=1)\n",
    "datasetmrs"
   ]
  },
  {
   "cell_type": "code",
   "execution_count": 237,
   "metadata": {},
   "outputs": [
    {
     "data": {
      "text/html": [
       "<div>\n",
       "<style scoped>\n",
       "    .dataframe tbody tr th:only-of-type {\n",
       "        vertical-align: middle;\n",
       "    }\n",
       "\n",
       "    .dataframe tbody tr th {\n",
       "        vertical-align: top;\n",
       "    }\n",
       "\n",
       "    .dataframe thead th {\n",
       "        text-align: right;\n",
       "    }\n",
       "</style>\n",
       "<table border=\"1\" class=\"dataframe\">\n",
       "  <thead>\n",
       "    <tr style=\"text-align: right;\">\n",
       "      <th></th>\n",
       "      <th>Dia_semana</th>\n",
       "      <th>Porcentaje Respecto al dia anterior en el abrir del mercado</th>\n",
       "    </tr>\n",
       "  </thead>\n",
       "  <tbody>\n",
       "    <tr>\n",
       "      <th>Dia_semana</th>\n",
       "      <td>1.000000</td>\n",
       "      <td>-0.025228</td>\n",
       "    </tr>\n",
       "    <tr>\n",
       "      <th>Porcentaje Respecto al dia anterior en el abrir del mercado</th>\n",
       "      <td>-0.025228</td>\n",
       "      <td>1.000000</td>\n",
       "    </tr>\n",
       "  </tbody>\n",
       "</table>\n",
       "</div>"
      ],
      "text/plain": [
       "                                                    Dia_semana  \\\n",
       "Dia_semana                                            1.000000   \n",
       "Porcentaje Respecto al dia anterior en el abrir...   -0.025228   \n",
       "\n",
       "                                                    Porcentaje Respecto al dia anterior en el abrir del mercado  \n",
       "Dia_semana                                                                                  -0.025228            \n",
       "Porcentaje Respecto al dia anterior en el abrir...                                           1.000000            "
      ]
     },
     "execution_count": 237,
     "metadata": {},
     "output_type": "execute_result"
    }
   ],
   "source": [
    "datasetmrs.corr()"
   ]
  },
  {
   "cell_type": "code",
   "execution_count": 238,
   "metadata": {},
   "outputs": [],
   "source": [
    "#Creacción del modelo de regresion lineal\n",
    "modelo1 = linear_model.LinearRegression()\n",
    "#Entrenamiento del modelo\n",
    "modelo1.fit(X, y)\n",
    "#Predicción\n",
    "y_modelo1=modelo1.predict(X)"
   ]
  },
  {
   "cell_type": "markdown",
   "metadata": {},
   "source": [
    "#### Variables significativas"
   ]
  },
  {
   "cell_type": "code",
   "execution_count": 239,
   "metadata": {},
   "outputs": [
    {
     "name": "stdout",
     "output_type": "stream",
     "text": [
      "Pendiente (valor b) es: \n",
      " [[-0.0537581]]\n",
      "\n",
      "Ordenada (valor a) es: \n",
      " [0.45016652]\n",
      "\n",
      "El error cuadrático medio es: 18.14\n",
      "\n",
      "Varianza es: 0.00\n"
     ]
    }
   ],
   "source": [
    "# Pendiente\n",
    "print('Pendiente (valor b) es: \\n', modelo1.coef_)\n",
    "print()\n",
    "# Valor donde corta el eje Y (en X=0) \n",
    "print('Ordenada (valor a) es: \\n', modelo1.intercept_)\n",
    "print()\n",
    "\n",
    "# Error Cuadrado Medio\n",
    "print('El error cuadrático medio es: %.2f' % mean_squared_error(y, y_modelo1))\n",
    "print()\n",
    "# Puntaje de Varianza. El mejor puntaje es un 1.0, Precisión del modelo\n",
    "print('Varianza es: %.2f' % r2_score(y, y_modelo1))"
   ]
  },
  {
   "cell_type": "markdown",
   "metadata": {},
   "source": [
    "Ecuación de la recta y= a + bX, salen:\n",
    "\n",
    "- b (coeficiente, pendiente) = 0.01842602\n",
    "- a (término independiente) = 0.24641968\n",
    "\n",
    "El error cuadrático medio =  18.00 \n",
    "Esto significa que al ser un error alto, es un mal modelo de entrenamiento.\n"
   ]
  },
  {
   "cell_type": "code",
   "execution_count": 240,
   "metadata": {},
   "outputs": [
    {
     "data": {
      "image/png": "[encoded data removed]",
      "text/plain": [
       "<Figure size 720x504 with 1 Axes>"
      ]
     },
     "metadata": {
      "needs_background": "light"
     },
     "output_type": "display_data"
    }
   ],
   "source": [
    "fig = plt.figure(figsize=(10,7))\n",
    "plt.scatter(datasetmrs['Dia_semana'], datasetmrs['Porcentaje Respecto al dia anterior en el abrir del mercado'])\n",
    "plt.plot(X, y_modelo1, color='red')\n",
    "plt.xlabel('Días')\n",
    "plt.ylabel('Porcentaje Respecto al dia anterior en el abrir del mercado')\n",
    "plt.grid()"
   ]
  },
  {
   "cell_type": "code",
   "execution_count": 241,
   "metadata": {},
   "outputs": [
    {
     "data": {
      "text/plain": [
       "array([[0.28889221]])"
      ]
     },
     "execution_count": 241,
     "metadata": {},
     "output_type": "execute_result"
    }
   ],
   "source": [
    "predictedBTC = modelo1.predict([[3]])\n",
    "predictedBTC"
   ]
  },
  {
   "cell_type": "code",
   "execution_count": 242,
   "metadata": {},
   "outputs": [],
   "source": [
    "### PROBLEMA MUY COMPLEJO PARA REGRESION LINEAL SIMPLE "
   ]
  },
  {
   "cell_type": "markdown",
   "metadata": {},
   "source": [
    "# Regresión lineal multiple "
   ]
  },
  {
   "cell_type": "markdown",
   "metadata": {},
   "source": [
    "## Tres variables de entrada y salida porcentaje de ganancia"
   ]
  },
  {
   "cell_type": "markdown",
   "metadata": {},
   "source": [
    "En la regresión lineal multiple la ecuación de la recta es de la siguiente manera:\n",
    "\n",
    "                                    Y = b + m1 X1 + m2 X2 + … + m(n) X(n)\n",
    "                       \n",
    "Donde \"b\" es el término independiente y m(n) son los diferentes coeficientes según el número de variables empleadas en nuestra regresión."
   ]
  },
  {
   "cell_type": "code",
   "execution_count": 243,
   "metadata": {},
   "outputs": [
    {
     "data": {
      "text/html": [
       "<div>\n",
       "<style scoped>\n",
       "    .dataframe tbody tr th:only-of-type {\n",
       "        vertical-align: middle;\n",
       "    }\n",
       "\n",
       "    .dataframe tbody tr th {\n",
       "        vertical-align: top;\n",
       "    }\n",
       "\n",
       "    .dataframe thead th {\n",
       "        text-align: right;\n",
       "    }\n",
       "</style>\n",
       "<table border=\"1\" class=\"dataframe\">\n",
       "  <thead>\n",
       "    <tr style=\"text-align: right;\">\n",
       "      <th></th>\n",
       "      <th>Dia</th>\n",
       "      <th>Mes</th>\n",
       "      <th>Año</th>\n",
       "      <th>Cerrar**</th>\n",
       "    </tr>\n",
       "    <tr>\n",
       "      <th>fecha</th>\n",
       "      <th></th>\n",
       "      <th></th>\n",
       "      <th></th>\n",
       "      <th></th>\n",
       "    </tr>\n",
       "  </thead>\n",
       "  <tbody>\n",
       "    <tr>\n",
       "      <th>2013-04-29</th>\n",
       "      <td>29</td>\n",
       "      <td>4</td>\n",
       "      <td>2013</td>\n",
       "      <td>144.54</td>\n",
       "    </tr>\n",
       "    <tr>\n",
       "      <th>2013-04-30</th>\n",
       "      <td>30</td>\n",
       "      <td>4</td>\n",
       "      <td>2013</td>\n",
       "      <td>139.00</td>\n",
       "    </tr>\n",
       "    <tr>\n",
       "      <th>2013-05-01</th>\n",
       "      <td>1</td>\n",
       "      <td>5</td>\n",
       "      <td>2013</td>\n",
       "      <td>116.99</td>\n",
       "    </tr>\n",
       "    <tr>\n",
       "      <th>2013-05-02</th>\n",
       "      <td>2</td>\n",
       "      <td>5</td>\n",
       "      <td>2013</td>\n",
       "      <td>105.21</td>\n",
       "    </tr>\n",
       "    <tr>\n",
       "      <th>2013-05-03</th>\n",
       "      <td>3</td>\n",
       "      <td>5</td>\n",
       "      <td>2013</td>\n",
       "      <td>97.75</td>\n",
       "    </tr>\n",
       "    <tr>\n",
       "      <th>2013-05-04</th>\n",
       "      <td>4</td>\n",
       "      <td>5</td>\n",
       "      <td>2013</td>\n",
       "      <td>112.50</td>\n",
       "    </tr>\n",
       "    <tr>\n",
       "      <th>2013-05-05</th>\n",
       "      <td>5</td>\n",
       "      <td>5</td>\n",
       "      <td>2013</td>\n",
       "      <td>115.91</td>\n",
       "    </tr>\n",
       "    <tr>\n",
       "      <th>2013-05-06</th>\n",
       "      <td>6</td>\n",
       "      <td>5</td>\n",
       "      <td>2013</td>\n",
       "      <td>112.30</td>\n",
       "    </tr>\n",
       "    <tr>\n",
       "      <th>2013-05-07</th>\n",
       "      <td>7</td>\n",
       "      <td>5</td>\n",
       "      <td>2013</td>\n",
       "      <td>111.50</td>\n",
       "    </tr>\n",
       "    <tr>\n",
       "      <th>2013-05-08</th>\n",
       "      <td>8</td>\n",
       "      <td>5</td>\n",
       "      <td>2013</td>\n",
       "      <td>113.57</td>\n",
       "    </tr>\n",
       "  </tbody>\n",
       "</table>\n",
       "</div>"
      ],
      "text/plain": [
       "            Dia  Mes   Año  Cerrar**\n",
       "fecha                               \n",
       "2013-04-29   29    4  2013    144.54\n",
       "2013-04-30   30    4  2013    139.00\n",
       "2013-05-01    1    5  2013    116.99\n",
       "2013-05-02    2    5  2013    105.21\n",
       "2013-05-03    3    5  2013     97.75\n",
       "2013-05-04    4    5  2013    112.50\n",
       "2013-05-05    5    5  2013    115.91\n",
       "2013-05-06    6    5  2013    112.30\n",
       "2013-05-07    7    5  2013    111.50\n",
       "2013-05-08    8    5  2013    113.57"
      ]
     },
     "execution_count": 243,
     "metadata": {},
     "output_type": "execute_result"
    }
   ],
   "source": [
    "#Dataset para mi estudio\n",
    "RLM = datos.iloc[:,[12,13,14,4]]\n",
    "RLM.head(10)"
   ]
  },
  {
   "cell_type": "code",
   "execution_count": 244,
   "metadata": {},
   "outputs": [],
   "source": [
    "#### Como el total son 2910 voy a dividir 2328 para entrenar y 582 para validacion (80,20)\n"
   ]
  },
  {
   "cell_type": "code",
   "execution_count": 245,
   "metadata": {},
   "outputs": [
    {
     "data": {
      "text/plain": [
       "(2911, 4)"
      ]
     },
     "execution_count": 245,
     "metadata": {},
     "output_type": "execute_result"
    }
   ],
   "source": [
    "RLM.shape"
   ]
  },
  {
   "cell_type": "code",
   "execution_count": 246,
   "metadata": {},
   "outputs": [],
   "source": [
    "entrenamientoRLM = RLM[:2328]\n",
    "validacionRLM = RLM[2328:]"
   ]
  },
  {
   "cell_type": "code",
   "execution_count": 247,
   "metadata": {},
   "outputs": [],
   "source": [
    "x_trainRLM = entrenamientoRLM.drop('Cerrar**', axis=1)\n",
    "y_trainRLM = entrenamientoRLM['Cerrar**']\n",
    "x_validRLM = validacionRLM.drop('Cerrar**', axis=1)\n",
    "y_validRLM = validacionRLM['Cerrar**']"
   ]
  },
  {
   "cell_type": "code",
   "execution_count": 248,
   "metadata": {},
   "outputs": [
    {
     "name": "stdout",
     "output_type": "stream",
     "text": [
      "Coeficientes: [1.01487537e+00 1.68161178e+02 1.48050619e+03]\n",
      "Intersección :\n",
      "-2983003.4364422625\n",
      "Precisión del modelo:\n",
      "0.5466002019064957\n"
     ]
    }
   ],
   "source": [
    "# Creamos el modelo de regresion lineal\n",
    "modelo2 = linear_model.LinearRegression()\n",
    " \n",
    "# Entrenamos el modelo\n",
    "modelo2.fit(x_trainRLM, y_trainRLM)\n",
    " \n",
    "# Hacemos la prediccion\n",
    "y_modelo2 = modelo2.predict(x_validRLM)\n",
    " \n",
    "# Imprimimos los coeficientes\n",
    "print('Coeficientes:', modelo2.coef_)\n",
    "\n",
    "print('Intersección :')\n",
    "print(modelo2.intercept_)\n",
    "\n",
    "# Precision del modelo\n",
    "print('Precisión del modelo:')\n",
    "print(modelo2.score(x_trainRLM, y_trainRLM))"
   ]
  },
  {
   "cell_type": "code",
   "execution_count": 249,
   "metadata": {},
   "outputs": [
    {
     "data": {
      "text/plain": [
       "16497.803537808133"
      ]
     },
     "execution_count": 249,
     "metadata": {},
     "output_type": "execute_result"
    }
   ],
   "source": [
    "#RMSE\n",
    "predicionRML = modelo2.predict(x_validRLM)\n",
    "rmse=np.sqrt(np.mean(np.power((np.array(y_validRLM)-np.array(predicionRML)),2)))\n",
    "rmse"
   ]
  },
  {
   "cell_type": "code",
   "execution_count": 274,
   "metadata": {},
   "outputs": [
    {
     "name": "stderr",
     "output_type": "stream",
     "text": [
      "C:\\Users\\mivar\\Anaconda2\\envs\\py36\\lib\\site-packages\\ipykernel_launcher.py:4: SettingWithCopyWarning:\n",
      "\n",
      "\n",
      "A value is trying to be set on a copy of a slice from a DataFrame.\n",
      "Try using .loc[row_indexer,col_indexer] = value instead\n",
      "\n",
      "See the caveats in the documentation: https://pandas.pydata.org/pandas-docs/stable/user_guide/indexing.html#returning-a-view-versus-a-copy\n",
      "\n",
      "C:\\Users\\mivar\\Anaconda2\\envs\\py36\\lib\\site-packages\\ipykernel_launcher.py:5: SettingWithCopyWarning:\n",
      "\n",
      "\n",
      "A value is trying to be set on a copy of a slice from a DataFrame.\n",
      "Try using .loc[row_indexer,col_indexer] = value instead\n",
      "\n",
      "See the caveats in the documentation: https://pandas.pydata.org/pandas-docs/stable/user_guide/indexing.html#returning-a-view-versus-a-copy\n",
      "\n"
     ]
    },
    {
     "data": {
      "image/png": "[encoded data removed]",
      "text/plain": [
       "<Figure size 1152x432 with 1 Axes>"
      ]
     },
     "metadata": {
      "needs_background": "light"
     },
     "output_type": "display_data"
    }
   ],
   "source": [
    "#Visualización del resultado\n",
    "plt.figure(figsize=(16,6))\n",
    "plt.title('RLM DIA,MES Y AÑO')\n",
    "validacionRLM['predicionRML'] = 0\n",
    "validacionRLM['predicionRML'] = predicionRML\n",
    "plt.plot(entrenamientoRLM['Cerrar**'],color='blue')\n",
    "plt.plot(validacionRLM['Cerrar**'],color='green')\n",
    "plt.plot(validacionRLM['predicionRML'],color='red')\n",
    "plt.xlabel('Fecha')\n",
    "plt.ylabel('Cierre')\n",
    "\n",
    "plt.grid()"
   ]
  },
  {
   "cell_type": "code",
   "execution_count": null,
   "metadata": {},
   "outputs": [],
   "source": []
  },
  {
   "cell_type": "code",
   "execution_count": 251,
   "metadata": {},
   "outputs": [],
   "source": [
    "#basura"
   ]
  },
  {
   "cell_type": "code",
   "execution_count": 252,
   "metadata": {},
   "outputs": [
    {
     "name": "stdout",
     "output_type": "stream",
     "text": [
      "El porcentaje respecto al día anterior será [11794.21510366]\n"
     ]
    }
   ],
   "source": [
    "predictedBTC2 = modelo2.predict([[4,16,2021]])\n",
    "print('El porcentaje respecto al día anterior será',predictedBTC2)"
   ]
  },
  {
   "cell_type": "markdown",
   "metadata": {},
   "source": [
    "## Cuatro variables de entrada y salida cierre del mercado"
   ]
  },
  {
   "cell_type": "code",
   "execution_count": 253,
   "metadata": {},
   "outputs": [
    {
     "data": {
      "text/html": [
       "<div>\n",
       "<style scoped>\n",
       "    .dataframe tbody tr th:only-of-type {\n",
       "        vertical-align: middle;\n",
       "    }\n",
       "\n",
       "    .dataframe tbody tr th {\n",
       "        vertical-align: top;\n",
       "    }\n",
       "\n",
       "    .dataframe thead th {\n",
       "        text-align: right;\n",
       "    }\n",
       "</style>\n",
       "<table border=\"1\" class=\"dataframe\">\n",
       "  <thead>\n",
       "    <tr style=\"text-align: right;\">\n",
       "      <th></th>\n",
       "      <th>Abrir*</th>\n",
       "      <th>Dia</th>\n",
       "      <th>Mes</th>\n",
       "      <th>Año</th>\n",
       "      <th>Cerrar**</th>\n",
       "    </tr>\n",
       "    <tr>\n",
       "      <th>fecha</th>\n",
       "      <th></th>\n",
       "      <th></th>\n",
       "      <th></th>\n",
       "      <th></th>\n",
       "      <th></th>\n",
       "    </tr>\n",
       "  </thead>\n",
       "  <tbody>\n",
       "    <tr>\n",
       "      <th>2013-04-29</th>\n",
       "      <td>134.44</td>\n",
       "      <td>29</td>\n",
       "      <td>4</td>\n",
       "      <td>2013</td>\n",
       "      <td>144.54</td>\n",
       "    </tr>\n",
       "    <tr>\n",
       "      <th>2013-04-30</th>\n",
       "      <td>144.00</td>\n",
       "      <td>30</td>\n",
       "      <td>4</td>\n",
       "      <td>2013</td>\n",
       "      <td>139.00</td>\n",
       "    </tr>\n",
       "    <tr>\n",
       "      <th>2013-05-01</th>\n",
       "      <td>139.00</td>\n",
       "      <td>1</td>\n",
       "      <td>5</td>\n",
       "      <td>2013</td>\n",
       "      <td>116.99</td>\n",
       "    </tr>\n",
       "    <tr>\n",
       "      <th>2013-05-02</th>\n",
       "      <td>116.38</td>\n",
       "      <td>2</td>\n",
       "      <td>5</td>\n",
       "      <td>2013</td>\n",
       "      <td>105.21</td>\n",
       "    </tr>\n",
       "    <tr>\n",
       "      <th>2013-05-03</th>\n",
       "      <td>106.25</td>\n",
       "      <td>3</td>\n",
       "      <td>5</td>\n",
       "      <td>2013</td>\n",
       "      <td>97.75</td>\n",
       "    </tr>\n",
       "    <tr>\n",
       "      <th>2013-05-04</th>\n",
       "      <td>98.10</td>\n",
       "      <td>4</td>\n",
       "      <td>5</td>\n",
       "      <td>2013</td>\n",
       "      <td>112.50</td>\n",
       "    </tr>\n",
       "    <tr>\n",
       "      <th>2013-05-05</th>\n",
       "      <td>112.90</td>\n",
       "      <td>5</td>\n",
       "      <td>5</td>\n",
       "      <td>2013</td>\n",
       "      <td>115.91</td>\n",
       "    </tr>\n",
       "    <tr>\n",
       "      <th>2013-05-06</th>\n",
       "      <td>115.98</td>\n",
       "      <td>6</td>\n",
       "      <td>5</td>\n",
       "      <td>2013</td>\n",
       "      <td>112.30</td>\n",
       "    </tr>\n",
       "    <tr>\n",
       "      <th>2013-05-07</th>\n",
       "      <td>112.25</td>\n",
       "      <td>7</td>\n",
       "      <td>5</td>\n",
       "      <td>2013</td>\n",
       "      <td>111.50</td>\n",
       "    </tr>\n",
       "    <tr>\n",
       "      <th>2013-05-08</th>\n",
       "      <td>109.60</td>\n",
       "      <td>8</td>\n",
       "      <td>5</td>\n",
       "      <td>2013</td>\n",
       "      <td>113.57</td>\n",
       "    </tr>\n",
       "  </tbody>\n",
       "</table>\n",
       "</div>"
      ],
      "text/plain": [
       "            Abrir*  Dia  Mes   Año  Cerrar**\n",
       "fecha                                       \n",
       "2013-04-29  134.44   29    4  2013    144.54\n",
       "2013-04-30  144.00   30    4  2013    139.00\n",
       "2013-05-01  139.00    1    5  2013    116.99\n",
       "2013-05-02  116.38    2    5  2013    105.21\n",
       "2013-05-03  106.25    3    5  2013     97.75\n",
       "2013-05-04   98.10    4    5  2013    112.50\n",
       "2013-05-05  112.90    5    5  2013    115.91\n",
       "2013-05-06  115.98    6    5  2013    112.30\n",
       "2013-05-07  112.25    7    5  2013    111.50\n",
       "2013-05-08  109.60    8    5  2013    113.57"
      ]
     },
     "execution_count": 253,
     "metadata": {},
     "output_type": "execute_result"
    }
   ],
   "source": [
    "#Dataset para mi estudio\n",
    "RLM2 = datos.iloc[:,[1,12,13,14,4]]\n",
    "RLM2.head(10)"
   ]
  },
  {
   "cell_type": "code",
   "execution_count": 254,
   "metadata": {},
   "outputs": [],
   "source": [
    "#### Como el total son 2910 voy a dividir 2328 para entrenar y 582 para validacion (80,20)"
   ]
  },
  {
   "cell_type": "code",
   "execution_count": 255,
   "metadata": {},
   "outputs": [
    {
     "data": {
      "text/plain": [
       "(2911, 5)"
      ]
     },
     "execution_count": 255,
     "metadata": {},
     "output_type": "execute_result"
    }
   ],
   "source": [
    "RLM2.shape"
   ]
  },
  {
   "cell_type": "code",
   "execution_count": 256,
   "metadata": {},
   "outputs": [],
   "source": [
    "entrenamientoRLM2 = RLM2[:2328]\n",
    "validacionRLM2 = RLM2[2328:]"
   ]
  },
  {
   "cell_type": "code",
   "execution_count": 257,
   "metadata": {},
   "outputs": [],
   "source": [
    "x_trainRLM2 = entrenamientoRLM2.drop('Cerrar**', axis=1)\n",
    "y_trainRLM2 = entrenamientoRLM2['Cerrar**']\n",
    "x_validRLM2 = validacionRLM2.drop('Cerrar**', axis=1)\n",
    "y_validRLM2 = validacionRLM2['Cerrar**']"
   ]
  },
  {
   "cell_type": "code",
   "execution_count": 258,
   "metadata": {},
   "outputs": [
    {
     "name": "stdout",
     "output_type": "stream",
     "text": [
      "Coeficientes: [ 0.99487931 -0.63209742  3.22024651  9.73515924]\n",
      "Intersección :\n",
      "-19618.537828548735\n",
      "Precisión del modelo:\n",
      "0.9954527554621042\n"
     ]
    }
   ],
   "source": [
    "# Creamos el modelo de regresion lineal\n",
    "modelo3 = linear_model.LinearRegression()\n",
    " \n",
    "# Entrenamos el modelo\n",
    "modelo3.fit(x_trainRLM2, y_trainRLM2)\n",
    " \n",
    "# Hacemos la prediccion\n",
    "y_modelo3 = modelo3.predict(x_validRLM2)\n",
    " \n",
    "# Imprimimos los coeficientes\n",
    "print('Coeficientes:', modelo3.coef_)\n",
    "\n",
    "print('Intersección :')\n",
    "print(modelo3.intercept_)\n",
    "\n",
    "# Precision del modelo\n",
    "print('Precisión del modelo:')\n",
    "print(modelo3.score(x_trainRLM2, y_trainRLM2))"
   ]
  },
  {
   "cell_type": "code",
   "execution_count": 259,
   "metadata": {},
   "outputs": [
    {
     "data": {
      "text/plain": [
       "1056.740604677609"
      ]
     },
     "execution_count": 259,
     "metadata": {},
     "output_type": "execute_result"
    }
   ],
   "source": [
    "#RMSE\n",
    "predicionRML2 = modelo3.predict(x_validRLM2)\n",
    "rmse2=np.sqrt(np.mean(np.power((np.array(y_validRLM2)-np.array(predicionRML2)),2)))\n",
    "rmse2"
   ]
  },
  {
   "cell_type": "code",
   "execution_count": 275,
   "metadata": {},
   "outputs": [
    {
     "name": "stderr",
     "output_type": "stream",
     "text": [
      "C:\\Users\\mivar\\Anaconda2\\envs\\py36\\lib\\site-packages\\ipykernel_launcher.py:4: SettingWithCopyWarning:\n",
      "\n",
      "\n",
      "A value is trying to be set on a copy of a slice from a DataFrame.\n",
      "Try using .loc[row_indexer,col_indexer] = value instead\n",
      "\n",
      "See the caveats in the documentation: https://pandas.pydata.org/pandas-docs/stable/user_guide/indexing.html#returning-a-view-versus-a-copy\n",
      "\n",
      "C:\\Users\\mivar\\Anaconda2\\envs\\py36\\lib\\site-packages\\ipykernel_launcher.py:5: SettingWithCopyWarning:\n",
      "\n",
      "\n",
      "A value is trying to be set on a copy of a slice from a DataFrame.\n",
      "Try using .loc[row_indexer,col_indexer] = value instead\n",
      "\n",
      "See the caveats in the documentation: https://pandas.pydata.org/pandas-docs/stable/user_guide/indexing.html#returning-a-view-versus-a-copy\n",
      "\n"
     ]
    },
    {
     "data": {
      "image/png": "[encoded data removed]",
      "text/plain": [
       "<Figure size 1152x432 with 1 Axes>"
      ]
     },
     "metadata": {
      "needs_background": "light"
     },
     "output_type": "display_data"
    }
   ],
   "source": [
    "#Visualización del resultado\n",
    "plt.figure(figsize=(16,6))\n",
    "plt.title('RLM ABRIR, DIA, MES Y AÑO')\n",
    "validacionRLM2['predicionRML2'] = 0\n",
    "validacionRLM2['predicionRML2'] = predicionRML2\n",
    "plt.plot(entrenamientoRLM2['Cerrar**'],color='blue')\n",
    "plt.plot(validacionRLM2['Cerrar**'],color='green')\n",
    "plt.plot(validacionRLM2['predicionRML2'],color='red')\n",
    "plt.xlabel('Fecha')\n",
    "plt.ylabel('Cierre')\n",
    "\n",
    "plt.grid()"
   ]
  },
  {
   "cell_type": "markdown",
   "metadata": {},
   "source": [
    "# $$"
   ]
  },
  {
   "cell_type": "code",
   "execution_count": 276,
   "metadata": {},
   "outputs": [
    {
     "name": "stdout",
     "output_type": "stream",
     "text": [
      "El porcentaje respecto al día anterior será [368158.5404066]\n"
     ]
    }
   ],
   "source": [
    "predictedBTC3 = modelo3.predict([[370002.44,4,29,2021]])\n",
    "print('El porcentaje respecto al día anterior será',predictedBTC3)"
   ]
  },
  {
   "cell_type": "code",
   "execution_count": 277,
   "metadata": {},
   "outputs": [],
   "source": [
    "### sobreentrenamiento?????????????????????"
   ]
  },
  {
   "cell_type": "markdown",
   "metadata": {},
   "source": [
    "# SUPPORT VECTOR REGRESSION"
   ]
  },
  {
   "cell_type": "code",
   "execution_count": 278,
   "metadata": {},
   "outputs": [
    {
     "data": {
      "text/html": [
       "<div>\n",
       "<style scoped>\n",
       "    .dataframe tbody tr th:only-of-type {\n",
       "        vertical-align: middle;\n",
       "    }\n",
       "\n",
       "    .dataframe tbody tr th {\n",
       "        vertical-align: top;\n",
       "    }\n",
       "\n",
       "    .dataframe thead th {\n",
       "        text-align: right;\n",
       "    }\n",
       "</style>\n",
       "<table border=\"1\" class=\"dataframe\">\n",
       "  <thead>\n",
       "    <tr style=\"text-align: right;\">\n",
       "      <th></th>\n",
       "      <th>Abrir*</th>\n",
       "      <th>Mes</th>\n",
       "      <th>Dia</th>\n",
       "      <th>Año</th>\n",
       "      <th>Cerrar**</th>\n",
       "    </tr>\n",
       "    <tr>\n",
       "      <th>fecha</th>\n",
       "      <th></th>\n",
       "      <th></th>\n",
       "      <th></th>\n",
       "      <th></th>\n",
       "      <th></th>\n",
       "    </tr>\n",
       "  </thead>\n",
       "  <tbody>\n",
       "    <tr>\n",
       "      <th>2013-04-29</th>\n",
       "      <td>134.44</td>\n",
       "      <td>4</td>\n",
       "      <td>29</td>\n",
       "      <td>2013</td>\n",
       "      <td>144.54</td>\n",
       "    </tr>\n",
       "    <tr>\n",
       "      <th>2013-04-30</th>\n",
       "      <td>144.00</td>\n",
       "      <td>4</td>\n",
       "      <td>30</td>\n",
       "      <td>2013</td>\n",
       "      <td>139.00</td>\n",
       "    </tr>\n",
       "    <tr>\n",
       "      <th>2013-05-01</th>\n",
       "      <td>139.00</td>\n",
       "      <td>5</td>\n",
       "      <td>1</td>\n",
       "      <td>2013</td>\n",
       "      <td>116.99</td>\n",
       "    </tr>\n",
       "    <tr>\n",
       "      <th>2013-05-02</th>\n",
       "      <td>116.38</td>\n",
       "      <td>5</td>\n",
       "      <td>2</td>\n",
       "      <td>2013</td>\n",
       "      <td>105.21</td>\n",
       "    </tr>\n",
       "    <tr>\n",
       "      <th>2013-05-03</th>\n",
       "      <td>106.25</td>\n",
       "      <td>5</td>\n",
       "      <td>3</td>\n",
       "      <td>2013</td>\n",
       "      <td>97.75</td>\n",
       "    </tr>\n",
       "    <tr>\n",
       "      <th>2013-05-04</th>\n",
       "      <td>98.10</td>\n",
       "      <td>5</td>\n",
       "      <td>4</td>\n",
       "      <td>2013</td>\n",
       "      <td>112.50</td>\n",
       "    </tr>\n",
       "    <tr>\n",
       "      <th>2013-05-05</th>\n",
       "      <td>112.90</td>\n",
       "      <td>5</td>\n",
       "      <td>5</td>\n",
       "      <td>2013</td>\n",
       "      <td>115.91</td>\n",
       "    </tr>\n",
       "    <tr>\n",
       "      <th>2013-05-06</th>\n",
       "      <td>115.98</td>\n",
       "      <td>5</td>\n",
       "      <td>6</td>\n",
       "      <td>2013</td>\n",
       "      <td>112.30</td>\n",
       "    </tr>\n",
       "    <tr>\n",
       "      <th>2013-05-07</th>\n",
       "      <td>112.25</td>\n",
       "      <td>5</td>\n",
       "      <td>7</td>\n",
       "      <td>2013</td>\n",
       "      <td>111.50</td>\n",
       "    </tr>\n",
       "    <tr>\n",
       "      <th>2013-05-08</th>\n",
       "      <td>109.60</td>\n",
       "      <td>5</td>\n",
       "      <td>8</td>\n",
       "      <td>2013</td>\n",
       "      <td>113.57</td>\n",
       "    </tr>\n",
       "  </tbody>\n",
       "</table>\n",
       "</div>"
      ],
      "text/plain": [
       "            Abrir*  Mes  Dia   Año  Cerrar**\n",
       "fecha                                       \n",
       "2013-04-29  134.44    4   29  2013    144.54\n",
       "2013-04-30  144.00    4   30  2013    139.00\n",
       "2013-05-01  139.00    5    1  2013    116.99\n",
       "2013-05-02  116.38    5    2  2013    105.21\n",
       "2013-05-03  106.25    5    3  2013     97.75\n",
       "2013-05-04   98.10    5    4  2013    112.50\n",
       "2013-05-05  112.90    5    5  2013    115.91\n",
       "2013-05-06  115.98    5    6  2013    112.30\n",
       "2013-05-07  112.25    5    7  2013    111.50\n",
       "2013-05-08  109.60    5    8  2013    113.57"
      ]
     },
     "execution_count": 278,
     "metadata": {},
     "output_type": "execute_result"
    }
   ],
   "source": [
    "#ENTRADAS\n",
    "X4 = datos.iloc[:,[1,13,12,14,4]]\n",
    "X4.head(10)"
   ]
  },
  {
   "cell_type": "code",
   "execution_count": 279,
   "metadata": {},
   "outputs": [],
   "source": [
    "entrenamientoSVR = X4[:2328]\n",
    "validacionSVR = X4[2328:]"
   ]
  },
  {
   "cell_type": "code",
   "execution_count": 265,
   "metadata": {},
   "outputs": [],
   "source": [
    "x_trainSVR = entrenamientoSVR.drop('Cerrar**', axis=1)\n",
    "y_trainSVR = entrenamientoSVR['Cerrar**']\n",
    "x_validSVR = validacionSVR.drop('Cerrar**', axis=1)\n",
    "y_validSVR = validacionSVR['Cerrar**']"
   ]
  },
  {
   "cell_type": "code",
   "execution_count": 266,
   "metadata": {},
   "outputs": [
    {
     "name": "stdout",
     "output_type": "stream",
     "text": [
      "Coeficientes: [ 0.99487931  3.22024651 -0.63209742  9.73515924]\n",
      "Intersección :\n",
      "-19618.537828548742\n",
      "Precisión del modelo:\n",
      "0.9954527554621042\n"
     ]
    }
   ],
   "source": [
    "# Creamos el modelo de regresion lineal\n",
    "clasificar2 = svm.SVC()\n",
    " \n",
    "# Entrenamos el modelo\n",
    "modelo3.fit(x_trainSVR, y_trainSVR)\n",
    " \n",
    "# Hacemos la prediccion\n",
    "y_modelo3 = modelo3.predict(x_validSVR)\n",
    " \n",
    "# Imprimimos los coeficientes\n",
    "print('Coeficientes:', modelo3.coef_)\n",
    "\n",
    "print('Intersección :')\n",
    "print(modelo3.intercept_)\n",
    "\n",
    "# Precision del modelo\n",
    "print('Precisión del modelo:')\n",
    "print(modelo3.score(x_trainSVR, y_trainSVR))"
   ]
  },
  {
   "cell_type": "code",
   "execution_count": 267,
   "metadata": {},
   "outputs": [
    {
     "data": {
      "text/plain": [
       "1056.740604677609"
      ]
     },
     "execution_count": 267,
     "metadata": {},
     "output_type": "execute_result"
    }
   ],
   "source": [
    "#RMSE\n",
    "predicionSVM = modelo3.predict(x_validSVR)\n",
    "rmse3=np.sqrt(np.mean(np.power((np.array(y_validSVR)-np.array(predicionSVM)),2)))\n",
    "rmse3"
   ]
  },
  {
   "cell_type": "code",
   "execution_count": 280,
   "metadata": {},
   "outputs": [
    {
     "name": "stderr",
     "output_type": "stream",
     "text": [
      "C:\\Users\\mivar\\Anaconda2\\envs\\py36\\lib\\site-packages\\ipykernel_launcher.py:4: SettingWithCopyWarning:\n",
      "\n",
      "\n",
      "A value is trying to be set on a copy of a slice from a DataFrame.\n",
      "Try using .loc[row_indexer,col_indexer] = value instead\n",
      "\n",
      "See the caveats in the documentation: https://pandas.pydata.org/pandas-docs/stable/user_guide/indexing.html#returning-a-view-versus-a-copy\n",
      "\n",
      "C:\\Users\\mivar\\Anaconda2\\envs\\py36\\lib\\site-packages\\ipykernel_launcher.py:5: SettingWithCopyWarning:\n",
      "\n",
      "\n",
      "A value is trying to be set on a copy of a slice from a DataFrame.\n",
      "Try using .loc[row_indexer,col_indexer] = value instead\n",
      "\n",
      "See the caveats in the documentation: https://pandas.pydata.org/pandas-docs/stable/user_guide/indexing.html#returning-a-view-versus-a-copy\n",
      "\n"
     ]
    },
    {
     "data": {
      "image/png": "[encoded data removed]",
      "text/plain": [
       "<Figure size 1152x432 with 1 Axes>"
      ]
     },
     "metadata": {
      "needs_background": "light"
     },
     "output_type": "display_data"
    }
   ],
   "source": [
    "#Visualización del resultado\n",
    "plt.figure(figsize=(16,6))\n",
    "plt.title('SVM ABRIR, DIA, MES Y AÑO')\n",
    "validacionSVR['predicionSVM'] = 0\n",
    "validacionSVR['predicionSVM'] = predicionSVM\n",
    "plt.plot(entrenamientoSVR['Cerrar**'],color='blue')\n",
    "plt.plot(validacionSVR['Cerrar**'],color='green')\n",
    "plt.plot(validacionSVR['predicionSVM'],color='red')\n",
    "plt.xlabel('Fecha')\n",
    "plt.ylabel('Cerrar**')\n",
    "\n",
    "plt.grid()"
   ]
  },
  {
   "cell_type": "code",
   "execution_count": 270,
   "metadata": {},
   "outputs": [
    {
     "name": "stdout",
     "output_type": "stream",
     "text": [
      "El porcentaje respecto al día anterior será [368158.5404066]\n"
     ]
    }
   ],
   "source": [
    "predictedBTC4 = modelo3.predict([[370002.44,4,29,2021]])\n",
    "print('El porcentaje respecto al día anterior será',predictedBTC4)"
   ]
  },
  {
   "cell_type": "code",
   "execution_count": null,
   "metadata": {},
   "outputs": [],
   "source": []
  }
 ],
 "metadata": {
  "kernelspec": {
   "display_name": "Python 3",
   "language": "python",
   "name": "python3"
  },
  "language_info": {
   "codemirror_mode": {
    "name": "ipython",
    "version": 3
   },
   "file_extension": ".py",
   "mimetype": "text/x-python",
   "name": "python",
   "nbconvert_exporter": "python",
   "pygments_lexer": "ipython3",
   "version": "3.6.10"
  }
 },
 "nbformat": 4,
 "nbformat_minor": 4
}
