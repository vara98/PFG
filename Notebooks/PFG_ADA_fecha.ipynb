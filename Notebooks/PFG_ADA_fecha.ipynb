{
 "cells": [
  {
   "cell_type": "markdown",
   "metadata": {
    "id": "pwpJTbbEbzvN"
   },
   "source": [
    "#### PFG CARGA DE DATOS DE CARDANO"
   ]
  },
  {
   "cell_type": "code",
   "execution_count": 43,
   "metadata": {
    "colab": {
     "base_uri": "https://localhost:8080/"
    },
    "id": "XGrID5rpbzvR",
    "outputId": "9babc5a4-2fb6-4025-dc33-f06ce2a54ee2"
   },
   "outputs": [
    {
     "name": "stdout",
     "output_type": "stream",
     "text": [
      "Once deleted, variables cannot be recovered. Proceed (y/[n])? Y\n"
     ]
    }
   ],
   "source": [
    "%reset\n",
    "\n",
    "import numpy as np\n",
    "import pandas as pd\n",
    "import calendar\n",
    "import seaborn as sns\n",
    "from sklearn import linear_model\n",
    "from sklearn.metrics import mean_squared_error, r2_score\n",
    "from sklearn.model_selection import train_test_split\n",
    "import plotly.express as px\n",
    "from matplotlib import pyplot as plt\n",
    "from mpl_toolkits.mplot3d import Axes3D\n",
    "from sklearn.preprocessing import MinMaxScaler\n",
    "from sklearn.model_selection import cross_validate\n",
    "from sklearn import preprocessing, svm "
   ]
  },
  {
   "cell_type": "markdown",
   "metadata": {
    "id": "2Msx6aPibzvT"
   },
   "source": [
    "## Lectura de los datos "
   ]
  },
  {
   "cell_type": "code",
   "execution_count": 124,
   "metadata": {
    "colab": {
     "base_uri": "https://localhost:8080/",
     "height": 881
    },
    "id": "ZTr1oFzAbzvT",
    "outputId": "45f36c74-46d2-41c3-c64c-202478627943",
    "scrolled": true
   },
   "outputs": [
    {
     "data": {
      "text/html": [
       "<div>\n",
       "<style scoped>\n",
       "    .dataframe tbody tr th:only-of-type {\n",
       "        vertical-align: middle;\n",
       "    }\n",
       "\n",
       "    .dataframe tbody tr th {\n",
       "        vertical-align: top;\n",
       "    }\n",
       "\n",
       "    .dataframe thead th {\n",
       "        text-align: right;\n",
       "    }\n",
       "</style>\n",
       "<table border=\"1\" class=\"dataframe\">\n",
       "  <thead>\n",
       "    <tr style=\"text-align: right;\">\n",
       "      <th></th>\n",
       "      <th>Fecha</th>\n",
       "      <th>Abrir*</th>\n",
       "      <th>Elevar</th>\n",
       "      <th>Disminuir</th>\n",
       "      <th>Cerrar**</th>\n",
       "      <th>Volumen</th>\n",
       "      <th>Cap. de Mercado</th>\n",
       "      <th>Porcentaje Respecto al dia anterior en el abrir del mercado</th>\n",
       "      <th>Porcentaje de Volumen respecto al dia anterior</th>\n",
       "      <th>Porcentaje Cap. De Mercado respecto al día anterior</th>\n",
       "      <th>Ganancia</th>\n",
       "    </tr>\n",
       "  </thead>\n",
       "  <tbody>\n",
       "    <tr>\n",
       "      <th>0</th>\n",
       "      <td>May 31, 2021</td>\n",
       "      <td>1958.87</td>\n",
       "      <td>2228.56</td>\n",
       "      <td>1870.50</td>\n",
       "      <td>2227.81</td>\n",
       "      <td>25443852421</td>\n",
       "      <td>258659102253</td>\n",
       "      <td>4.831450</td>\n",
       "      <td>19.886384</td>\n",
       "      <td>13.650220</td>\n",
       "      <td>SI</td>\n",
       "    </tr>\n",
       "    <tr>\n",
       "      <th>1</th>\n",
       "      <td>May 30, 2021</td>\n",
       "      <td>1868.59</td>\n",
       "      <td>2027.62</td>\n",
       "      <td>1795.22</td>\n",
       "      <td>1960.46</td>\n",
       "      <td>21223304586</td>\n",
       "      <td>227592258847</td>\n",
       "      <td>-5.624384</td>\n",
       "      <td>-23.382384</td>\n",
       "      <td>4.872482</td>\n",
       "      <td>NO</td>\n",
       "    </tr>\n",
       "    <tr>\n",
       "      <th>2</th>\n",
       "      <td>May 29, 2021</td>\n",
       "      <td>1979.95</td>\n",
       "      <td>2105.33</td>\n",
       "      <td>1811.34</td>\n",
       "      <td>1869.60</td>\n",
       "      <td>27700293434</td>\n",
       "      <td>217018090789</td>\n",
       "      <td>-11.999093</td>\n",
       "      <td>-15.586988</td>\n",
       "      <td>-5.816447</td>\n",
       "      <td>NO</td>\n",
       "    </tr>\n",
       "    <tr>\n",
       "      <th>3</th>\n",
       "      <td>May 28, 2021</td>\n",
       "      <td>2249.92</td>\n",
       "      <td>2265.42</td>\n",
       "      <td>1916.75</td>\n",
       "      <td>1985.29</td>\n",
       "      <td>32815193787</td>\n",
       "      <td>230420369985</td>\n",
       "      <td>-5.045833</td>\n",
       "      <td>19.874792</td>\n",
       "      <td>-11.542140</td>\n",
       "      <td>NO</td>\n",
       "    </tr>\n",
       "    <tr>\n",
       "      <th>4</th>\n",
       "      <td>May 27, 2021</td>\n",
       "      <td>2369.48</td>\n",
       "      <td>2369.48</td>\n",
       "      <td>2167.59</td>\n",
       "      <td>2244.59</td>\n",
       "      <td>27374557472</td>\n",
       "      <td>260486033577</td>\n",
       "      <td>7.232787</td>\n",
       "      <td>-21.089998</td>\n",
       "      <td>-4.795720</td>\n",
       "      <td>SI</td>\n",
       "    </tr>\n",
       "    <tr>\n",
       "      <th>...</th>\n",
       "      <td>...</td>\n",
       "      <td>...</td>\n",
       "      <td>...</td>\n",
       "      <td>...</td>\n",
       "      <td>...</td>\n",
       "      <td>...</td>\n",
       "      <td>...</td>\n",
       "      <td>...</td>\n",
       "      <td>...</td>\n",
       "      <td>...</td>\n",
       "      <td>...</td>\n",
       "    </tr>\n",
       "    <tr>\n",
       "      <th>2120</th>\n",
       "      <td>Aug 11, 2015</td>\n",
       "      <td>0.64</td>\n",
       "      <td>1.03</td>\n",
       "      <td>0.60</td>\n",
       "      <td>0.97</td>\n",
       "      <td>1327918</td>\n",
       "      <td>58603457</td>\n",
       "      <td>-1.538462</td>\n",
       "      <td>259.073382</td>\n",
       "      <td>49.990615</td>\n",
       "      <td>NO</td>\n",
       "    </tr>\n",
       "    <tr>\n",
       "      <th>2121</th>\n",
       "      <td>Aug 10, 2015</td>\n",
       "      <td>0.65</td>\n",
       "      <td>0.67</td>\n",
       "      <td>0.58</td>\n",
       "      <td>0.65</td>\n",
       "      <td>369818</td>\n",
       "      <td>39071416</td>\n",
       "      <td>1.562500</td>\n",
       "      <td>-23.759870</td>\n",
       "      <td>1.098306</td>\n",
       "      <td>SI</td>\n",
       "    </tr>\n",
       "    <tr>\n",
       "      <th>2122</th>\n",
       "      <td>Aug 09, 2015</td>\n",
       "      <td>0.64</td>\n",
       "      <td>0.80</td>\n",
       "      <td>0.57</td>\n",
       "      <td>0.64</td>\n",
       "      <td>485070</td>\n",
       "      <td>38646954</td>\n",
       "      <td>-74.901961</td>\n",
       "      <td>-21.064965</td>\n",
       "      <td>-6.787275</td>\n",
       "      <td>NO</td>\n",
       "    </tr>\n",
       "    <tr>\n",
       "      <th>2123</th>\n",
       "      <td>Aug 08, 2015</td>\n",
       "      <td>2.55</td>\n",
       "      <td>2.55</td>\n",
       "      <td>0.65</td>\n",
       "      <td>0.69</td>\n",
       "      <td>614518</td>\n",
       "      <td>41461028</td>\n",
       "      <td>-1.544402</td>\n",
       "      <td>308.510327</td>\n",
       "      <td>-72.815632</td>\n",
       "      <td>NO</td>\n",
       "    </tr>\n",
       "    <tr>\n",
       "      <th>2124</th>\n",
       "      <td>Aug 07, 2015</td>\n",
       "      <td>2.59</td>\n",
       "      <td>3.24</td>\n",
       "      <td>2.31</td>\n",
       "      <td>2.54</td>\n",
       "      <td>150429</td>\n",
       "      <td>152517901</td>\n",
       "      <td>0.000000</td>\n",
       "      <td>0.000000</td>\n",
       "      <td>0.000000</td>\n",
       "      <td>SI</td>\n",
       "    </tr>\n",
       "  </tbody>\n",
       "</table>\n",
       "<p>2125 rows × 11 columns</p>\n",
       "</div>"
      ],
      "text/plain": [
       "             Fecha   Abrir*   Elevar  Disminuir  Cerrar**      Volumen  \\\n",
       "0     May 31, 2021  1958.87  2228.56    1870.50   2227.81  25443852421   \n",
       "1     May 30, 2021  1868.59  2027.62    1795.22   1960.46  21223304586   \n",
       "2     May 29, 2021  1979.95  2105.33    1811.34   1869.60  27700293434   \n",
       "3     May 28, 2021  2249.92  2265.42    1916.75   1985.29  32815193787   \n",
       "4     May 27, 2021  2369.48  2369.48    2167.59   2244.59  27374557472   \n",
       "...            ...      ...      ...        ...       ...          ...   \n",
       "2120  Aug 11, 2015     0.64     1.03       0.60      0.97      1327918   \n",
       "2121  Aug 10, 2015     0.65     0.67       0.58      0.65       369818   \n",
       "2122  Aug 09, 2015     0.64     0.80       0.57      0.64       485070   \n",
       "2123  Aug 08, 2015     2.55     2.55       0.65      0.69       614518   \n",
       "2124  Aug 07, 2015     2.59     3.24       2.31      2.54       150429   \n",
       "\n",
       "      Cap. de Mercado  \\\n",
       "0        258659102253   \n",
       "1        227592258847   \n",
       "2        217018090789   \n",
       "3        230420369985   \n",
       "4        260486033577   \n",
       "...               ...   \n",
       "2120         58603457   \n",
       "2121         39071416   \n",
       "2122         38646954   \n",
       "2123         41461028   \n",
       "2124        152517901   \n",
       "\n",
       "      Porcentaje Respecto al dia anterior en el abrir del mercado  \\\n",
       "0                                              4.831450             \n",
       "1                                             -5.624384             \n",
       "2                                            -11.999093             \n",
       "3                                             -5.045833             \n",
       "4                                              7.232787             \n",
       "...                                                 ...             \n",
       "2120                                          -1.538462             \n",
       "2121                                           1.562500             \n",
       "2122                                         -74.901961             \n",
       "2123                                          -1.544402             \n",
       "2124                                           0.000000             \n",
       "\n",
       "      Porcentaje de Volumen respecto al dia anterior  \\\n",
       "0                                          19.886384   \n",
       "1                                         -23.382384   \n",
       "2                                         -15.586988   \n",
       "3                                          19.874792   \n",
       "4                                         -21.089998   \n",
       "...                                              ...   \n",
       "2120                                      259.073382   \n",
       "2121                                      -23.759870   \n",
       "2122                                      -21.064965   \n",
       "2123                                      308.510327   \n",
       "2124                                        0.000000   \n",
       "\n",
       "      Porcentaje Cap. De Mercado respecto al día anterior Ganancia  \n",
       "0                                             13.650220         SI  \n",
       "1                                              4.872482         NO  \n",
       "2                                             -5.816447         NO  \n",
       "3                                            -11.542140         NO  \n",
       "4                                             -4.795720         SI  \n",
       "...                                                 ...        ...  \n",
       "2120                                          49.990615         NO  \n",
       "2121                                           1.098306         SI  \n",
       "2122                                          -6.787275         NO  \n",
       "2123                                         -72.815632         NO  \n",
       "2124                                           0.000000         SI  \n",
       "\n",
       "[2125 rows x 11 columns]"
      ]
     },
     "execution_count": 124,
     "metadata": {},
     "output_type": "execute_result"
    }
   ],
   "source": [
    "df = pd.read_excel('Datos_finanzas/ETHEREUM.xlsx')\n",
    "#df = pd.read_excel('CARDANO.xlsx')\n",
    "df"
   ]
  },
  {
   "cell_type": "code",
   "execution_count": 125,
   "metadata": {},
   "outputs": [
    {
     "data": {
      "text/html": [
       "<div>\n",
       "<style scoped>\n",
       "    .dataframe tbody tr th:only-of-type {\n",
       "        vertical-align: middle;\n",
       "    }\n",
       "\n",
       "    .dataframe tbody tr th {\n",
       "        vertical-align: top;\n",
       "    }\n",
       "\n",
       "    .dataframe thead th {\n",
       "        text-align: right;\n",
       "    }\n",
       "</style>\n",
       "<table border=\"1\" class=\"dataframe\">\n",
       "  <thead>\n",
       "    <tr style=\"text-align: right;\">\n",
       "      <th></th>\n",
       "      <th>Abrir*</th>\n",
       "      <th>Elevar</th>\n",
       "      <th>Disminuir</th>\n",
       "      <th>Cerrar**</th>\n",
       "      <th>Volumen</th>\n",
       "      <th>Cap. de Mercado</th>\n",
       "      <th>Porcentaje Respecto al dia anterior en el abrir del mercado</th>\n",
       "      <th>Porcentaje de Volumen respecto al dia anterior</th>\n",
       "      <th>Porcentaje Cap. De Mercado respecto al día anterior</th>\n",
       "    </tr>\n",
       "  </thead>\n",
       "  <tbody>\n",
       "    <tr>\n",
       "      <th>count</th>\n",
       "      <td>2125.000000</td>\n",
       "      <td>2125.000000</td>\n",
       "      <td>2125.000000</td>\n",
       "      <td>2125.000000</td>\n",
       "      <td>2.125000e+03</td>\n",
       "      <td>2.125000e+03</td>\n",
       "      <td>2125.000000</td>\n",
       "      <td>2125.000000</td>\n",
       "      <td>2125.000000</td>\n",
       "    </tr>\n",
       "    <tr>\n",
       "      <th>mean</th>\n",
       "      <td>295.663727</td>\n",
       "      <td>307.607172</td>\n",
       "      <td>282.556104</td>\n",
       "      <td>296.704471</td>\n",
       "      <td>5.782951e+09</td>\n",
       "      <td>3.197281e+10</td>\n",
       "      <td>0.533730</td>\n",
       "      <td>8.668929</td>\n",
       "      <td>0.571747</td>\n",
       "    </tr>\n",
       "    <tr>\n",
       "      <th>std</th>\n",
       "      <td>451.809563</td>\n",
       "      <td>474.403409</td>\n",
       "      <td>426.507618</td>\n",
       "      <td>453.790802</td>\n",
       "      <td>8.734680e+09</td>\n",
       "      <td>5.189818e+10</td>\n",
       "      <td>6.461220</td>\n",
       "      <td>50.611433</td>\n",
       "      <td>6.503101</td>\n",
       "    </tr>\n",
       "    <tr>\n",
       "      <th>min</th>\n",
       "      <td>0.380000</td>\n",
       "      <td>0.430000</td>\n",
       "      <td>0.370000</td>\n",
       "      <td>0.380000</td>\n",
       "      <td>8.992500e+04</td>\n",
       "      <td>2.844219e+07</td>\n",
       "      <td>-74.901961</td>\n",
       "      <td>-80.119277</td>\n",
       "      <td>-72.815632</td>\n",
       "    </tr>\n",
       "    <tr>\n",
       "      <th>25%</th>\n",
       "      <td>12.090000</td>\n",
       "      <td>12.520000</td>\n",
       "      <td>11.740000</td>\n",
       "      <td>12.140000</td>\n",
       "      <td>3.287847e+07</td>\n",
       "      <td>1.002612e+09</td>\n",
       "      <td>-2.242917</td>\n",
       "      <td>-16.193241</td>\n",
       "      <td>-2.302408</td>\n",
       "    </tr>\n",
       "    <tr>\n",
       "      <th>50%</th>\n",
       "      <td>172.900000</td>\n",
       "      <td>178.030000</td>\n",
       "      <td>167.310000</td>\n",
       "      <td>172.970000</td>\n",
       "      <td>1.752103e+09</td>\n",
       "      <td>1.821442e+10</td>\n",
       "      <td>0.080054</td>\n",
       "      <td>-1.054320</td>\n",
       "      <td>0.068820</td>\n",
       "    </tr>\n",
       "    <tr>\n",
       "      <th>75%</th>\n",
       "      <td>317.430000</td>\n",
       "      <td>326.930000</td>\n",
       "      <td>306.690000</td>\n",
       "      <td>317.090000</td>\n",
       "      <td>8.124814e+09</td>\n",
       "      <td>3.399335e+10</td>\n",
       "      <td>2.841957</td>\n",
       "      <td>17.569384</td>\n",
       "      <td>2.991290</td>\n",
       "    </tr>\n",
       "    <tr>\n",
       "      <th>max</th>\n",
       "      <td>3437.260000</td>\n",
       "      <td>3591.820000</td>\n",
       "      <td>3117.140000</td>\n",
       "      <td>3433.890000</td>\n",
       "      <td>6.912561e+10</td>\n",
       "      <td>3.977653e+11</td>\n",
       "      <td>50.000000</td>\n",
       "      <td>495.806830</td>\n",
       "      <td>49.990615</td>\n",
       "    </tr>\n",
       "  </tbody>\n",
       "</table>\n",
       "</div>"
      ],
      "text/plain": [
       "            Abrir*       Elevar    Disminuir     Cerrar**       Volumen  \\\n",
       "count  2125.000000  2125.000000  2125.000000  2125.000000  2.125000e+03   \n",
       "mean    295.663727   307.607172   282.556104   296.704471  5.782951e+09   \n",
       "std     451.809563   474.403409   426.507618   453.790802  8.734680e+09   \n",
       "min       0.380000     0.430000     0.370000     0.380000  8.992500e+04   \n",
       "25%      12.090000    12.520000    11.740000    12.140000  3.287847e+07   \n",
       "50%     172.900000   178.030000   167.310000   172.970000  1.752103e+09   \n",
       "75%     317.430000   326.930000   306.690000   317.090000  8.124814e+09   \n",
       "max    3437.260000  3591.820000  3117.140000  3433.890000  6.912561e+10   \n",
       "\n",
       "       Cap. de Mercado  \\\n",
       "count     2.125000e+03   \n",
       "mean      3.197281e+10   \n",
       "std       5.189818e+10   \n",
       "min       2.844219e+07   \n",
       "25%       1.002612e+09   \n",
       "50%       1.821442e+10   \n",
       "75%       3.399335e+10   \n",
       "max       3.977653e+11   \n",
       "\n",
       "       Porcentaje Respecto al dia anterior en el abrir del mercado  \\\n",
       "count                                        2125.000000             \n",
       "mean                                            0.533730             \n",
       "std                                             6.461220             \n",
       "min                                           -74.901961             \n",
       "25%                                            -2.242917             \n",
       "50%                                             0.080054             \n",
       "75%                                             2.841957             \n",
       "max                                            50.000000             \n",
       "\n",
       "       Porcentaje de Volumen respecto al dia anterior  \\\n",
       "count                                     2125.000000   \n",
       "mean                                         8.668929   \n",
       "std                                         50.611433   \n",
       "min                                        -80.119277   \n",
       "25%                                        -16.193241   \n",
       "50%                                         -1.054320   \n",
       "75%                                         17.569384   \n",
       "max                                        495.806830   \n",
       "\n",
       "       Porcentaje Cap. De Mercado respecto al día anterior  \n",
       "count                                        2125.000000    \n",
       "mean                                            0.571747    \n",
       "std                                             6.503101    \n",
       "min                                           -72.815632    \n",
       "25%                                            -2.302408    \n",
       "50%                                             0.068820    \n",
       "75%                                             2.991290    \n",
       "max                                            49.990615    "
      ]
     },
     "execution_count": 125,
     "metadata": {},
     "output_type": "execute_result"
    }
   ],
   "source": [
    "df.describe()"
   ]
  },
  {
   "cell_type": "markdown",
   "metadata": {
    "id": "FmajOTXAbzvU"
   },
   "source": [
    "#### Creación de una nueva columan para investigar correlación en funcion del dia de la semana"
   ]
  },
  {
   "cell_type": "code",
   "execution_count": 126,
   "metadata": {
    "colab": {
     "base_uri": "https://localhost:8080/",
     "height": 881
    },
    "id": "4551fS5vbzvU",
    "outputId": "677b07ed-88ac-407b-a82e-9e21177ee4a0"
   },
   "outputs": [
    {
     "data": {
      "text/html": [
       "<div>\n",
       "<style scoped>\n",
       "    .dataframe tbody tr th:only-of-type {\n",
       "        vertical-align: middle;\n",
       "    }\n",
       "\n",
       "    .dataframe tbody tr th {\n",
       "        vertical-align: top;\n",
       "    }\n",
       "\n",
       "    .dataframe thead th {\n",
       "        text-align: right;\n",
       "    }\n",
       "</style>\n",
       "<table border=\"1\" class=\"dataframe\">\n",
       "  <thead>\n",
       "    <tr style=\"text-align: right;\">\n",
       "      <th></th>\n",
       "      <th>Fecha</th>\n",
       "      <th>Abrir*</th>\n",
       "      <th>Elevar</th>\n",
       "      <th>Disminuir</th>\n",
       "      <th>Cerrar**</th>\n",
       "      <th>Volumen</th>\n",
       "      <th>Cap. de Mercado</th>\n",
       "      <th>Porcentaje Respecto al dia anterior en el abrir del mercado</th>\n",
       "      <th>Porcentaje de Volumen respecto al dia anterior</th>\n",
       "      <th>Porcentaje Cap. De Mercado respecto al día anterior</th>\n",
       "      <th>Ganancia</th>\n",
       "      <th>Dia_semana</th>\n",
       "    </tr>\n",
       "  </thead>\n",
       "  <tbody>\n",
       "    <tr>\n",
       "      <th>0</th>\n",
       "      <td>May 31, 2021</td>\n",
       "      <td>1958.87</td>\n",
       "      <td>2228.56</td>\n",
       "      <td>1870.50</td>\n",
       "      <td>2227.81</td>\n",
       "      <td>25443852421</td>\n",
       "      <td>258659102253</td>\n",
       "      <td>4.831450</td>\n",
       "      <td>19.886384</td>\n",
       "      <td>13.650220</td>\n",
       "      <td>SI</td>\n",
       "      <td>Monday</td>\n",
       "    </tr>\n",
       "    <tr>\n",
       "      <th>1</th>\n",
       "      <td>May 30, 2021</td>\n",
       "      <td>1868.59</td>\n",
       "      <td>2027.62</td>\n",
       "      <td>1795.22</td>\n",
       "      <td>1960.46</td>\n",
       "      <td>21223304586</td>\n",
       "      <td>227592258847</td>\n",
       "      <td>-5.624384</td>\n",
       "      <td>-23.382384</td>\n",
       "      <td>4.872482</td>\n",
       "      <td>NO</td>\n",
       "      <td>Sunday</td>\n",
       "    </tr>\n",
       "    <tr>\n",
       "      <th>2</th>\n",
       "      <td>May 29, 2021</td>\n",
       "      <td>1979.95</td>\n",
       "      <td>2105.33</td>\n",
       "      <td>1811.34</td>\n",
       "      <td>1869.60</td>\n",
       "      <td>27700293434</td>\n",
       "      <td>217018090789</td>\n",
       "      <td>-11.999093</td>\n",
       "      <td>-15.586988</td>\n",
       "      <td>-5.816447</td>\n",
       "      <td>NO</td>\n",
       "      <td>Saturday</td>\n",
       "    </tr>\n",
       "    <tr>\n",
       "      <th>3</th>\n",
       "      <td>May 28, 2021</td>\n",
       "      <td>2249.92</td>\n",
       "      <td>2265.42</td>\n",
       "      <td>1916.75</td>\n",
       "      <td>1985.29</td>\n",
       "      <td>32815193787</td>\n",
       "      <td>230420369985</td>\n",
       "      <td>-5.045833</td>\n",
       "      <td>19.874792</td>\n",
       "      <td>-11.542140</td>\n",
       "      <td>NO</td>\n",
       "      <td>Friday</td>\n",
       "    </tr>\n",
       "    <tr>\n",
       "      <th>4</th>\n",
       "      <td>May 27, 2021</td>\n",
       "      <td>2369.48</td>\n",
       "      <td>2369.48</td>\n",
       "      <td>2167.59</td>\n",
       "      <td>2244.59</td>\n",
       "      <td>27374557472</td>\n",
       "      <td>260486033577</td>\n",
       "      <td>7.232787</td>\n",
       "      <td>-21.089998</td>\n",
       "      <td>-4.795720</td>\n",
       "      <td>SI</td>\n",
       "      <td>Thursday</td>\n",
       "    </tr>\n",
       "    <tr>\n",
       "      <th>...</th>\n",
       "      <td>...</td>\n",
       "      <td>...</td>\n",
       "      <td>...</td>\n",
       "      <td>...</td>\n",
       "      <td>...</td>\n",
       "      <td>...</td>\n",
       "      <td>...</td>\n",
       "      <td>...</td>\n",
       "      <td>...</td>\n",
       "      <td>...</td>\n",
       "      <td>...</td>\n",
       "      <td>...</td>\n",
       "    </tr>\n",
       "    <tr>\n",
       "      <th>2120</th>\n",
       "      <td>Aug 11, 2015</td>\n",
       "      <td>0.64</td>\n",
       "      <td>1.03</td>\n",
       "      <td>0.60</td>\n",
       "      <td>0.97</td>\n",
       "      <td>1327918</td>\n",
       "      <td>58603457</td>\n",
       "      <td>-1.538462</td>\n",
       "      <td>259.073382</td>\n",
       "      <td>49.990615</td>\n",
       "      <td>NO</td>\n",
       "      <td>Tuesday</td>\n",
       "    </tr>\n",
       "    <tr>\n",
       "      <th>2121</th>\n",
       "      <td>Aug 10, 2015</td>\n",
       "      <td>0.65</td>\n",
       "      <td>0.67</td>\n",
       "      <td>0.58</td>\n",
       "      <td>0.65</td>\n",
       "      <td>369818</td>\n",
       "      <td>39071416</td>\n",
       "      <td>1.562500</td>\n",
       "      <td>-23.759870</td>\n",
       "      <td>1.098306</td>\n",
       "      <td>SI</td>\n",
       "      <td>Monday</td>\n",
       "    </tr>\n",
       "    <tr>\n",
       "      <th>2122</th>\n",
       "      <td>Aug 09, 2015</td>\n",
       "      <td>0.64</td>\n",
       "      <td>0.80</td>\n",
       "      <td>0.57</td>\n",
       "      <td>0.64</td>\n",
       "      <td>485070</td>\n",
       "      <td>38646954</td>\n",
       "      <td>-74.901961</td>\n",
       "      <td>-21.064965</td>\n",
       "      <td>-6.787275</td>\n",
       "      <td>NO</td>\n",
       "      <td>Sunday</td>\n",
       "    </tr>\n",
       "    <tr>\n",
       "      <th>2123</th>\n",
       "      <td>Aug 08, 2015</td>\n",
       "      <td>2.55</td>\n",
       "      <td>2.55</td>\n",
       "      <td>0.65</td>\n",
       "      <td>0.69</td>\n",
       "      <td>614518</td>\n",
       "      <td>41461028</td>\n",
       "      <td>-1.544402</td>\n",
       "      <td>308.510327</td>\n",
       "      <td>-72.815632</td>\n",
       "      <td>NO</td>\n",
       "      <td>Saturday</td>\n",
       "    </tr>\n",
       "    <tr>\n",
       "      <th>2124</th>\n",
       "      <td>Aug 07, 2015</td>\n",
       "      <td>2.59</td>\n",
       "      <td>3.24</td>\n",
       "      <td>2.31</td>\n",
       "      <td>2.54</td>\n",
       "      <td>150429</td>\n",
       "      <td>152517901</td>\n",
       "      <td>0.000000</td>\n",
       "      <td>0.000000</td>\n",
       "      <td>0.000000</td>\n",
       "      <td>SI</td>\n",
       "      <td>Friday</td>\n",
       "    </tr>\n",
       "  </tbody>\n",
       "</table>\n",
       "<p>2125 rows × 12 columns</p>\n",
       "</div>"
      ],
      "text/plain": [
       "             Fecha   Abrir*   Elevar  Disminuir  Cerrar**      Volumen  \\\n",
       "0     May 31, 2021  1958.87  2228.56    1870.50   2227.81  25443852421   \n",
       "1     May 30, 2021  1868.59  2027.62    1795.22   1960.46  21223304586   \n",
       "2     May 29, 2021  1979.95  2105.33    1811.34   1869.60  27700293434   \n",
       "3     May 28, 2021  2249.92  2265.42    1916.75   1985.29  32815193787   \n",
       "4     May 27, 2021  2369.48  2369.48    2167.59   2244.59  27374557472   \n",
       "...            ...      ...      ...        ...       ...          ...   \n",
       "2120  Aug 11, 2015     0.64     1.03       0.60      0.97      1327918   \n",
       "2121  Aug 10, 2015     0.65     0.67       0.58      0.65       369818   \n",
       "2122  Aug 09, 2015     0.64     0.80       0.57      0.64       485070   \n",
       "2123  Aug 08, 2015     2.55     2.55       0.65      0.69       614518   \n",
       "2124  Aug 07, 2015     2.59     3.24       2.31      2.54       150429   \n",
       "\n",
       "      Cap. de Mercado  \\\n",
       "0        258659102253   \n",
       "1        227592258847   \n",
       "2        217018090789   \n",
       "3        230420369985   \n",
       "4        260486033577   \n",
       "...               ...   \n",
       "2120         58603457   \n",
       "2121         39071416   \n",
       "2122         38646954   \n",
       "2123         41461028   \n",
       "2124        152517901   \n",
       "\n",
       "      Porcentaje Respecto al dia anterior en el abrir del mercado  \\\n",
       "0                                              4.831450             \n",
       "1                                             -5.624384             \n",
       "2                                            -11.999093             \n",
       "3                                             -5.045833             \n",
       "4                                              7.232787             \n",
       "...                                                 ...             \n",
       "2120                                          -1.538462             \n",
       "2121                                           1.562500             \n",
       "2122                                         -74.901961             \n",
       "2123                                          -1.544402             \n",
       "2124                                           0.000000             \n",
       "\n",
       "      Porcentaje de Volumen respecto al dia anterior  \\\n",
       "0                                          19.886384   \n",
       "1                                         -23.382384   \n",
       "2                                         -15.586988   \n",
       "3                                          19.874792   \n",
       "4                                         -21.089998   \n",
       "...                                              ...   \n",
       "2120                                      259.073382   \n",
       "2121                                      -23.759870   \n",
       "2122                                      -21.064965   \n",
       "2123                                      308.510327   \n",
       "2124                                        0.000000   \n",
       "\n",
       "      Porcentaje Cap. De Mercado respecto al día anterior Ganancia Dia_semana  \n",
       "0                                             13.650220         SI     Monday  \n",
       "1                                              4.872482         NO     Sunday  \n",
       "2                                             -5.816447         NO   Saturday  \n",
       "3                                            -11.542140         NO     Friday  \n",
       "4                                             -4.795720         SI   Thursday  \n",
       "...                                                 ...        ...        ...  \n",
       "2120                                          49.990615         NO    Tuesday  \n",
       "2121                                           1.098306         SI     Monday  \n",
       "2122                                          -6.787275         NO     Sunday  \n",
       "2123                                         -72.815632         NO   Saturday  \n",
       "2124                                           0.000000         SI     Friday  \n",
       "\n",
       "[2125 rows x 12 columns]"
      ]
     },
     "execution_count": 126,
     "metadata": {},
     "output_type": "execute_result"
    }
   ],
   "source": [
    "temp=pd.DataFrame(df['Fecha'])\n",
    "nuevacolumna = []\n",
    "for i in range(0, len(df['Fecha'])):\n",
    "    nuevacolumna=pd.Timestamp(temp['Fecha'][i]).day_name()\n",
    "    temp['Fecha'][i]=nuevacolumna \n",
    "df=df.assign(Dia_semana=temp)\n",
    "df   "
   ]
  },
  {
   "cell_type": "markdown",
   "metadata": {
    "id": "VqnuyO7dbzvV"
   },
   "source": [
    "#### Voy a transformar la fecha para poder tratarla mejor"
   ]
  },
  {
   "cell_type": "code",
   "execution_count": 127,
   "metadata": {
    "id": "OH5HeIeabzvV",
    "scrolled": true
   },
   "outputs": [],
   "source": [
    "#Nuevas columnas Dia, Mes y Año\n",
    "df['Dia'] = pd.DatetimeIndex(df['Fecha']).day\n",
    "df['Mes'] = pd.DatetimeIndex(df['Fecha']).month\n",
    "df['Año'] = pd.DatetimeIndex(df['Fecha']).year"
   ]
  },
  {
   "cell_type": "code",
   "execution_count": 128,
   "metadata": {
    "id": "o8N047TmbzvW"
   },
   "outputs": [],
   "source": [
    "#Transformación de la fecha\n",
    "df['fecha']=df['Año'].apply(str) + \"-\" + df['Mes'].apply(str) + \"-\" + df['Dia'].apply(str)\n",
    "df['fecha'] = pd.to_datetime(df['fecha']) "
   ]
  },
  {
   "cell_type": "code",
   "execution_count": 129,
   "metadata": {
    "colab": {
     "base_uri": "https://localhost:8080/",
     "height": 273
    },
    "id": "XFBDlrUgbzvW",
    "outputId": "0ae8e76f-0fb2-4bf5-a3fa-2409fa208d0b"
   },
   "outputs": [
    {
     "data": {
      "image/png": "[encoded data removed]",
      "text/plain": [
       "<Figure size 1152x432 with 1 Axes>"
      ]
     },
     "metadata": {
      "needs_background": "light"
     },
     "output_type": "display_data"
    }
   ],
   "source": [
    "#Grafica del cierre de Cardano hasta el día 31 de Mayo de 2021\n",
    "df.index = df['fecha']\n",
    "plt.figure(figsize=(16,6))\n",
    "plt.title('Cierre del precio en función de la fecha')\n",
    "plt.xlabel('Fecha')\n",
    "plt.ylabel('Cierra')\n",
    "plt.plot(df['Cerrar**'], color='red')\n",
    "plt.grid()"
   ]
  },
  {
   "cell_type": "code",
   "execution_count": 130,
   "metadata": {
    "colab": {
     "base_uri": "https://localhost:8080/",
     "height": 273
    },
    "id": "MVBmOH_h9zvS",
    "outputId": "2b0521e5-6aeb-4c02-c114-d93c74cfc262"
   },
   "outputs": [
    {
     "data": {
      "image/png": "[encoded data removed]",
      "text/plain": [
       "<Figure size 1152x432 with 1 Axes>"
      ]
     },
     "metadata": {
      "needs_background": "light"
     },
     "output_type": "display_data"
    }
   ],
   "source": [
    "df.index = df['fecha']\n",
    "plt.figure(figsize=(16,6))\n",
    "plt.title('Apertura del precio en función de la fecha')\n",
    "plt.xlabel('Fecha')\n",
    "plt.ylabel('Abrir')\n",
    "plt.plot(df['Abrir*'], color='blue')\n",
    "plt.grid()"
   ]
  },
  {
   "cell_type": "code",
   "execution_count": 131,
   "metadata": {
    "colab": {
     "base_uri": "https://localhost:8080/",
     "height": 275
    },
    "id": "UBOJjrh3bzvX",
    "outputId": "c15f3b4e-0b2b-460f-e982-eaa54a4d492f"
   },
   "outputs": [
    {
     "data": {
      "image/png": "[encoded data removed]",
      "text/plain": [
       "<Figure size 1152x432 with 1 Axes>"
      ]
     },
     "metadata": {
      "needs_background": "light"
     },
     "output_type": "display_data"
    }
   ],
   "source": [
    "#Grafica\n",
    "df.index = df['fecha']\n",
    "plt.figure(figsize=(16,6))\n",
    "plt.title('Volumen en función de la fecha')\n",
    "plt.xlabel('Fecha')\n",
    "plt.ylabel('Volumen')\n",
    "plt.plot(df['Volumen'], color='green')\n",
    "plt.grid()"
   ]
  },
  {
   "cell_type": "code",
   "execution_count": 132,
   "metadata": {},
   "outputs": [
    {
     "data": {
      "image/png": "[encoded data removed]",
      "text/plain": [
       "<Figure size 1152x432 with 1 Axes>"
      ]
     },
     "metadata": {
      "needs_background": "light"
     },
     "output_type": "display_data"
    }
   ],
   "source": [
    "#Grafica\n",
    "df.index = df['fecha']\n",
    "plt.figure(figsize=(16,6))\n",
    "plt.title('Cap. de Mercado en función de la fecha')\n",
    "plt.xlabel('Fecha')\n",
    "plt.ylabel('Cap. de Mercado')\n",
    "plt.plot(df['Cap. de Mercado'], color='orange')\n",
    "plt.grid()"
   ]
  },
  {
   "cell_type": "code",
   "execution_count": 133,
   "metadata": {},
   "outputs": [
    {
     "data": {
      "image/png": "[encoded data removed]",
      "text/plain": [
       "<Figure size 1152x576 with 1 Axes>"
      ]
     },
     "metadata": {
      "needs_background": "light"
     },
     "output_type": "display_data"
    }
   ],
   "source": [
    "#Grafica\n",
    "df.index = df['fecha']\n",
    "plt.figure(figsize=(16,8))\n",
    "plt.title('Porcentaje respecto al dia anterior ')\n",
    "plt.xlabel('Fecha')\n",
    "plt.ylabel('Porcentaje ')\n",
    "plt.plot(df['Porcentaje de Volumen respecto al dia anterior']\n",
    "         ,label='Porcentaje de volumen respecto al dia anterior',color='red')\n",
    "plt.plot(df['Porcentaje Respecto al dia anterior en el abrir del mercado'],\n",
    "         label='Porcentaje en la apertura del mercado respecto al dia anterior', color='blue')\n",
    "plt.plot(df['Porcentaje Cap. De Mercado respecto al día anterior'],\n",
    "         label='Porcentaje cap. de mercado respecto al día anterior', color='green')\n",
    "plt.legend(loc='upper left',fontsize=12)\n",
    "\n",
    "plt.grid()"
   ]
  },
  {
   "cell_type": "code",
   "execution_count": 134,
   "metadata": {
    "colab": {
     "base_uri": "https://localhost:8080/",
     "height": 912
    },
    "id": "MusKH1hPbzvX",
    "outputId": "24819256-a758-4749-80f9-6ef099c1ca73"
   },
   "outputs": [
    {
     "data": {
      "text/html": [
       "<div>\n",
       "<style scoped>\n",
       "    .dataframe tbody tr th:only-of-type {\n",
       "        vertical-align: middle;\n",
       "    }\n",
       "\n",
       "    .dataframe tbody tr th {\n",
       "        vertical-align: top;\n",
       "    }\n",
       "\n",
       "    .dataframe thead th {\n",
       "        text-align: right;\n",
       "    }\n",
       "</style>\n",
       "<table border=\"1\" class=\"dataframe\">\n",
       "  <thead>\n",
       "    <tr style=\"text-align: right;\">\n",
       "      <th></th>\n",
       "      <th>Fecha</th>\n",
       "      <th>Abrir*</th>\n",
       "      <th>Elevar</th>\n",
       "      <th>Disminuir</th>\n",
       "      <th>Cerrar**</th>\n",
       "      <th>Volumen</th>\n",
       "      <th>Cap. de Mercado</th>\n",
       "      <th>Porcentaje Respecto al dia anterior en el abrir del mercado</th>\n",
       "      <th>Porcentaje de Volumen respecto al dia anterior</th>\n",
       "      <th>Porcentaje Cap. De Mercado respecto al día anterior</th>\n",
       "      <th>Ganancia</th>\n",
       "      <th>Dia_semana</th>\n",
       "      <th>Dia</th>\n",
       "      <th>Mes</th>\n",
       "      <th>Año</th>\n",
       "      <th>fecha</th>\n",
       "    </tr>\n",
       "    <tr>\n",
       "      <th>fecha</th>\n",
       "      <th></th>\n",
       "      <th></th>\n",
       "      <th></th>\n",
       "      <th></th>\n",
       "      <th></th>\n",
       "      <th></th>\n",
       "      <th></th>\n",
       "      <th></th>\n",
       "      <th></th>\n",
       "      <th></th>\n",
       "      <th></th>\n",
       "      <th></th>\n",
       "      <th></th>\n",
       "      <th></th>\n",
       "      <th></th>\n",
       "      <th></th>\n",
       "    </tr>\n",
       "  </thead>\n",
       "  <tbody>\n",
       "    <tr>\n",
       "      <th>2021-05-31</th>\n",
       "      <td>May 31, 2021</td>\n",
       "      <td>1958.87</td>\n",
       "      <td>2228.56</td>\n",
       "      <td>1870.50</td>\n",
       "      <td>2227.81</td>\n",
       "      <td>25443852421</td>\n",
       "      <td>258659102253</td>\n",
       "      <td>4.831450</td>\n",
       "      <td>19.886384</td>\n",
       "      <td>13.650220</td>\n",
       "      <td>0</td>\n",
       "      <td>0</td>\n",
       "      <td>31</td>\n",
       "      <td>5</td>\n",
       "      <td>2021</td>\n",
       "      <td>2021-05-31</td>\n",
       "    </tr>\n",
       "    <tr>\n",
       "      <th>2021-05-30</th>\n",
       "      <td>May 30, 2021</td>\n",
       "      <td>1868.59</td>\n",
       "      <td>2027.62</td>\n",
       "      <td>1795.22</td>\n",
       "      <td>1960.46</td>\n",
       "      <td>21223304586</td>\n",
       "      <td>227592258847</td>\n",
       "      <td>-5.624384</td>\n",
       "      <td>-23.382384</td>\n",
       "      <td>4.872482</td>\n",
       "      <td>1</td>\n",
       "      <td>1</td>\n",
       "      <td>30</td>\n",
       "      <td>5</td>\n",
       "      <td>2021</td>\n",
       "      <td>2021-05-30</td>\n",
       "    </tr>\n",
       "    <tr>\n",
       "      <th>2021-05-29</th>\n",
       "      <td>May 29, 2021</td>\n",
       "      <td>1979.95</td>\n",
       "      <td>2105.33</td>\n",
       "      <td>1811.34</td>\n",
       "      <td>1869.60</td>\n",
       "      <td>27700293434</td>\n",
       "      <td>217018090789</td>\n",
       "      <td>-11.999093</td>\n",
       "      <td>-15.586988</td>\n",
       "      <td>-5.816447</td>\n",
       "      <td>1</td>\n",
       "      <td>2</td>\n",
       "      <td>29</td>\n",
       "      <td>5</td>\n",
       "      <td>2021</td>\n",
       "      <td>2021-05-29</td>\n",
       "    </tr>\n",
       "    <tr>\n",
       "      <th>2021-05-28</th>\n",
       "      <td>May 28, 2021</td>\n",
       "      <td>2249.92</td>\n",
       "      <td>2265.42</td>\n",
       "      <td>1916.75</td>\n",
       "      <td>1985.29</td>\n",
       "      <td>32815193787</td>\n",
       "      <td>230420369985</td>\n",
       "      <td>-5.045833</td>\n",
       "      <td>19.874792</td>\n",
       "      <td>-11.542140</td>\n",
       "      <td>1</td>\n",
       "      <td>3</td>\n",
       "      <td>28</td>\n",
       "      <td>5</td>\n",
       "      <td>2021</td>\n",
       "      <td>2021-05-28</td>\n",
       "    </tr>\n",
       "    <tr>\n",
       "      <th>2021-05-27</th>\n",
       "      <td>May 27, 2021</td>\n",
       "      <td>2369.48</td>\n",
       "      <td>2369.48</td>\n",
       "      <td>2167.59</td>\n",
       "      <td>2244.59</td>\n",
       "      <td>27374557472</td>\n",
       "      <td>260486033577</td>\n",
       "      <td>7.232787</td>\n",
       "      <td>-21.089998</td>\n",
       "      <td>-4.795720</td>\n",
       "      <td>0</td>\n",
       "      <td>4</td>\n",
       "      <td>27</td>\n",
       "      <td>5</td>\n",
       "      <td>2021</td>\n",
       "      <td>2021-05-27</td>\n",
       "    </tr>\n",
       "    <tr>\n",
       "      <th>...</th>\n",
       "      <td>...</td>\n",
       "      <td>...</td>\n",
       "      <td>...</td>\n",
       "      <td>...</td>\n",
       "      <td>...</td>\n",
       "      <td>...</td>\n",
       "      <td>...</td>\n",
       "      <td>...</td>\n",
       "      <td>...</td>\n",
       "      <td>...</td>\n",
       "      <td>...</td>\n",
       "      <td>...</td>\n",
       "      <td>...</td>\n",
       "      <td>...</td>\n",
       "      <td>...</td>\n",
       "      <td>...</td>\n",
       "    </tr>\n",
       "    <tr>\n",
       "      <th>2015-08-11</th>\n",
       "      <td>Aug 11, 2015</td>\n",
       "      <td>0.64</td>\n",
       "      <td>1.03</td>\n",
       "      <td>0.60</td>\n",
       "      <td>0.97</td>\n",
       "      <td>1327918</td>\n",
       "      <td>58603457</td>\n",
       "      <td>-1.538462</td>\n",
       "      <td>259.073382</td>\n",
       "      <td>49.990615</td>\n",
       "      <td>1</td>\n",
       "      <td>6</td>\n",
       "      <td>11</td>\n",
       "      <td>8</td>\n",
       "      <td>2015</td>\n",
       "      <td>2015-08-11</td>\n",
       "    </tr>\n",
       "    <tr>\n",
       "      <th>2015-08-10</th>\n",
       "      <td>Aug 10, 2015</td>\n",
       "      <td>0.65</td>\n",
       "      <td>0.67</td>\n",
       "      <td>0.58</td>\n",
       "      <td>0.65</td>\n",
       "      <td>369818</td>\n",
       "      <td>39071416</td>\n",
       "      <td>1.562500</td>\n",
       "      <td>-23.759870</td>\n",
       "      <td>1.098306</td>\n",
       "      <td>0</td>\n",
       "      <td>0</td>\n",
       "      <td>10</td>\n",
       "      <td>8</td>\n",
       "      <td>2015</td>\n",
       "      <td>2015-08-10</td>\n",
       "    </tr>\n",
       "    <tr>\n",
       "      <th>2015-08-09</th>\n",
       "      <td>Aug 09, 2015</td>\n",
       "      <td>0.64</td>\n",
       "      <td>0.80</td>\n",
       "      <td>0.57</td>\n",
       "      <td>0.64</td>\n",
       "      <td>485070</td>\n",
       "      <td>38646954</td>\n",
       "      <td>-74.901961</td>\n",
       "      <td>-21.064965</td>\n",
       "      <td>-6.787275</td>\n",
       "      <td>1</td>\n",
       "      <td>1</td>\n",
       "      <td>9</td>\n",
       "      <td>8</td>\n",
       "      <td>2015</td>\n",
       "      <td>2015-08-09</td>\n",
       "    </tr>\n",
       "    <tr>\n",
       "      <th>2015-08-08</th>\n",
       "      <td>Aug 08, 2015</td>\n",
       "      <td>2.55</td>\n",
       "      <td>2.55</td>\n",
       "      <td>0.65</td>\n",
       "      <td>0.69</td>\n",
       "      <td>614518</td>\n",
       "      <td>41461028</td>\n",
       "      <td>-1.544402</td>\n",
       "      <td>308.510327</td>\n",
       "      <td>-72.815632</td>\n",
       "      <td>1</td>\n",
       "      <td>2</td>\n",
       "      <td>8</td>\n",
       "      <td>8</td>\n",
       "      <td>2015</td>\n",
       "      <td>2015-08-08</td>\n",
       "    </tr>\n",
       "    <tr>\n",
       "      <th>2015-08-07</th>\n",
       "      <td>Aug 07, 2015</td>\n",
       "      <td>2.59</td>\n",
       "      <td>3.24</td>\n",
       "      <td>2.31</td>\n",
       "      <td>2.54</td>\n",
       "      <td>150429</td>\n",
       "      <td>152517901</td>\n",
       "      <td>0.000000</td>\n",
       "      <td>0.000000</td>\n",
       "      <td>0.000000</td>\n",
       "      <td>0</td>\n",
       "      <td>3</td>\n",
       "      <td>7</td>\n",
       "      <td>8</td>\n",
       "      <td>2015</td>\n",
       "      <td>2015-08-07</td>\n",
       "    </tr>\n",
       "  </tbody>\n",
       "</table>\n",
       "<p>2125 rows × 16 columns</p>\n",
       "</div>"
      ],
      "text/plain": [
       "                   Fecha   Abrir*   Elevar  Disminuir  Cerrar**      Volumen  \\\n",
       "fecha                                                                          \n",
       "2021-05-31  May 31, 2021  1958.87  2228.56    1870.50   2227.81  25443852421   \n",
       "2021-05-30  May 30, 2021  1868.59  2027.62    1795.22   1960.46  21223304586   \n",
       "2021-05-29  May 29, 2021  1979.95  2105.33    1811.34   1869.60  27700293434   \n",
       "2021-05-28  May 28, 2021  2249.92  2265.42    1916.75   1985.29  32815193787   \n",
       "2021-05-27  May 27, 2021  2369.48  2369.48    2167.59   2244.59  27374557472   \n",
       "...                  ...      ...      ...        ...       ...          ...   \n",
       "2015-08-11  Aug 11, 2015     0.64     1.03       0.60      0.97      1327918   \n",
       "2015-08-10  Aug 10, 2015     0.65     0.67       0.58      0.65       369818   \n",
       "2015-08-09  Aug 09, 2015     0.64     0.80       0.57      0.64       485070   \n",
       "2015-08-08  Aug 08, 2015     2.55     2.55       0.65      0.69       614518   \n",
       "2015-08-07  Aug 07, 2015     2.59     3.24       2.31      2.54       150429   \n",
       "\n",
       "            Cap. de Mercado  \\\n",
       "fecha                         \n",
       "2021-05-31     258659102253   \n",
       "2021-05-30     227592258847   \n",
       "2021-05-29     217018090789   \n",
       "2021-05-28     230420369985   \n",
       "2021-05-27     260486033577   \n",
       "...                     ...   \n",
       "2015-08-11         58603457   \n",
       "2015-08-10         39071416   \n",
       "2015-08-09         38646954   \n",
       "2015-08-08         41461028   \n",
       "2015-08-07        152517901   \n",
       "\n",
       "            Porcentaje Respecto al dia anterior en el abrir del mercado  \\\n",
       "fecha                                                                     \n",
       "2021-05-31                                           4.831450             \n",
       "2021-05-30                                          -5.624384             \n",
       "2021-05-29                                         -11.999093             \n",
       "2021-05-28                                          -5.045833             \n",
       "2021-05-27                                           7.232787             \n",
       "...                                                       ...             \n",
       "2015-08-11                                          -1.538462             \n",
       "2015-08-10                                           1.562500             \n",
       "2015-08-09                                         -74.901961             \n",
       "2015-08-08                                          -1.544402             \n",
       "2015-08-07                                           0.000000             \n",
       "\n",
       "            Porcentaje de Volumen respecto al dia anterior  \\\n",
       "fecha                                                        \n",
       "2021-05-31                                       19.886384   \n",
       "2021-05-30                                      -23.382384   \n",
       "2021-05-29                                      -15.586988   \n",
       "2021-05-28                                       19.874792   \n",
       "2021-05-27                                      -21.089998   \n",
       "...                                                    ...   \n",
       "2015-08-11                                      259.073382   \n",
       "2015-08-10                                      -23.759870   \n",
       "2015-08-09                                      -21.064965   \n",
       "2015-08-08                                      308.510327   \n",
       "2015-08-07                                        0.000000   \n",
       "\n",
       "            Porcentaje Cap. De Mercado respecto al día anterior  Ganancia  \\\n",
       "fecha                                                                       \n",
       "2021-05-31                                          13.650220           0   \n",
       "2021-05-30                                           4.872482           1   \n",
       "2021-05-29                                          -5.816447           1   \n",
       "2021-05-28                                         -11.542140           1   \n",
       "2021-05-27                                          -4.795720           0   \n",
       "...                                                       ...         ...   \n",
       "2015-08-11                                          49.990615           1   \n",
       "2015-08-10                                           1.098306           0   \n",
       "2015-08-09                                          -6.787275           1   \n",
       "2015-08-08                                         -72.815632           1   \n",
       "2015-08-07                                           0.000000           0   \n",
       "\n",
       "            Dia_semana  Dia  Mes   Año      fecha  \n",
       "fecha                                              \n",
       "2021-05-31           0   31    5  2021 2021-05-31  \n",
       "2021-05-30           1   30    5  2021 2021-05-30  \n",
       "2021-05-29           2   29    5  2021 2021-05-29  \n",
       "2021-05-28           3   28    5  2021 2021-05-28  \n",
       "2021-05-27           4   27    5  2021 2021-05-27  \n",
       "...                ...  ...  ...   ...        ...  \n",
       "2015-08-11           6   11    8  2015 2015-08-11  \n",
       "2015-08-10           0   10    8  2015 2015-08-10  \n",
       "2015-08-09           1    9    8  2015 2015-08-09  \n",
       "2015-08-08           2    8    8  2015 2015-08-08  \n",
       "2015-08-07           3    7    8  2015 2015-08-07  \n",
       "\n",
       "[2125 rows x 16 columns]"
      ]
     },
     "execution_count": 134,
     "metadata": {},
     "output_type": "execute_result"
    }
   ],
   "source": [
    "datos=df\n",
    "dictionaries = []\n",
    "\n",
    "for columna in ['Ganancia','Dia_semana']:\n",
    "    datos[columna], uniques = pd.factorize(datos[columna])\n",
    "    values = list(range(len(uniques)))\n",
    "    dictionaries.append(dict(zip(values, uniques)))\n",
    "datos"
   ]
  },
  {
   "cell_type": "code",
   "execution_count": 135,
   "metadata": {
    "colab": {
     "base_uri": "https://localhost:8080/",
     "height": 742
    },
    "id": "JrkdkEtWbzvX",
    "outputId": "d8f2d0cc-2bf3-467c-ec5e-e583167ac9c5"
   },
   "outputs": [
    {
     "data": {
      "text/html": [
       "<div>\n",
       "<style scoped>\n",
       "    .dataframe tbody tr th:only-of-type {\n",
       "        vertical-align: middle;\n",
       "    }\n",
       "\n",
       "    .dataframe tbody tr th {\n",
       "        vertical-align: top;\n",
       "    }\n",
       "\n",
       "    .dataframe thead th {\n",
       "        text-align: right;\n",
       "    }\n",
       "</style>\n",
       "<table border=\"1\" class=\"dataframe\">\n",
       "  <thead>\n",
       "    <tr style=\"text-align: right;\">\n",
       "      <th></th>\n",
       "      <th>Abrir*</th>\n",
       "      <th>Elevar</th>\n",
       "      <th>Disminuir</th>\n",
       "      <th>Cerrar**</th>\n",
       "      <th>Volumen</th>\n",
       "      <th>Cap. de Mercado</th>\n",
       "      <th>Porcentaje Respecto al dia anterior en el abrir del mercado</th>\n",
       "      <th>Porcentaje de Volumen respecto al dia anterior</th>\n",
       "      <th>Porcentaje Cap. De Mercado respecto al día anterior</th>\n",
       "      <th>Ganancia</th>\n",
       "      <th>Dia_semana</th>\n",
       "      <th>Dia</th>\n",
       "      <th>Mes</th>\n",
       "      <th>Año</th>\n",
       "    </tr>\n",
       "    <tr>\n",
       "      <th>fecha</th>\n",
       "      <th></th>\n",
       "      <th></th>\n",
       "      <th></th>\n",
       "      <th></th>\n",
       "      <th></th>\n",
       "      <th></th>\n",
       "      <th></th>\n",
       "      <th></th>\n",
       "      <th></th>\n",
       "      <th></th>\n",
       "      <th></th>\n",
       "      <th></th>\n",
       "      <th></th>\n",
       "      <th></th>\n",
       "    </tr>\n",
       "  </thead>\n",
       "  <tbody>\n",
       "    <tr>\n",
       "      <th>2021-05-31</th>\n",
       "      <td>1958.87</td>\n",
       "      <td>2228.56</td>\n",
       "      <td>1870.50</td>\n",
       "      <td>2227.81</td>\n",
       "      <td>25443852421</td>\n",
       "      <td>258659102253</td>\n",
       "      <td>4.831450</td>\n",
       "      <td>19.886384</td>\n",
       "      <td>13.650220</td>\n",
       "      <td>0</td>\n",
       "      <td>0</td>\n",
       "      <td>31</td>\n",
       "      <td>5</td>\n",
       "      <td>2021</td>\n",
       "    </tr>\n",
       "    <tr>\n",
       "      <th>2021-05-30</th>\n",
       "      <td>1868.59</td>\n",
       "      <td>2027.62</td>\n",
       "      <td>1795.22</td>\n",
       "      <td>1960.46</td>\n",
       "      <td>21223304586</td>\n",
       "      <td>227592258847</td>\n",
       "      <td>-5.624384</td>\n",
       "      <td>-23.382384</td>\n",
       "      <td>4.872482</td>\n",
       "      <td>1</td>\n",
       "      <td>1</td>\n",
       "      <td>30</td>\n",
       "      <td>5</td>\n",
       "      <td>2021</td>\n",
       "    </tr>\n",
       "    <tr>\n",
       "      <th>2021-05-29</th>\n",
       "      <td>1979.95</td>\n",
       "      <td>2105.33</td>\n",
       "      <td>1811.34</td>\n",
       "      <td>1869.60</td>\n",
       "      <td>27700293434</td>\n",
       "      <td>217018090789</td>\n",
       "      <td>-11.999093</td>\n",
       "      <td>-15.586988</td>\n",
       "      <td>-5.816447</td>\n",
       "      <td>1</td>\n",
       "      <td>2</td>\n",
       "      <td>29</td>\n",
       "      <td>5</td>\n",
       "      <td>2021</td>\n",
       "    </tr>\n",
       "    <tr>\n",
       "      <th>2021-05-28</th>\n",
       "      <td>2249.92</td>\n",
       "      <td>2265.42</td>\n",
       "      <td>1916.75</td>\n",
       "      <td>1985.29</td>\n",
       "      <td>32815193787</td>\n",
       "      <td>230420369985</td>\n",
       "      <td>-5.045833</td>\n",
       "      <td>19.874792</td>\n",
       "      <td>-11.542140</td>\n",
       "      <td>1</td>\n",
       "      <td>3</td>\n",
       "      <td>28</td>\n",
       "      <td>5</td>\n",
       "      <td>2021</td>\n",
       "    </tr>\n",
       "    <tr>\n",
       "      <th>2021-05-27</th>\n",
       "      <td>2369.48</td>\n",
       "      <td>2369.48</td>\n",
       "      <td>2167.59</td>\n",
       "      <td>2244.59</td>\n",
       "      <td>27374557472</td>\n",
       "      <td>260486033577</td>\n",
       "      <td>7.232787</td>\n",
       "      <td>-21.089998</td>\n",
       "      <td>-4.795720</td>\n",
       "      <td>0</td>\n",
       "      <td>4</td>\n",
       "      <td>27</td>\n",
       "      <td>5</td>\n",
       "      <td>2021</td>\n",
       "    </tr>\n",
       "    <tr>\n",
       "      <th>...</th>\n",
       "      <td>...</td>\n",
       "      <td>...</td>\n",
       "      <td>...</td>\n",
       "      <td>...</td>\n",
       "      <td>...</td>\n",
       "      <td>...</td>\n",
       "      <td>...</td>\n",
       "      <td>...</td>\n",
       "      <td>...</td>\n",
       "      <td>...</td>\n",
       "      <td>...</td>\n",
       "      <td>...</td>\n",
       "      <td>...</td>\n",
       "      <td>...</td>\n",
       "    </tr>\n",
       "    <tr>\n",
       "      <th>2015-08-11</th>\n",
       "      <td>0.64</td>\n",
       "      <td>1.03</td>\n",
       "      <td>0.60</td>\n",
       "      <td>0.97</td>\n",
       "      <td>1327918</td>\n",
       "      <td>58603457</td>\n",
       "      <td>-1.538462</td>\n",
       "      <td>259.073382</td>\n",
       "      <td>49.990615</td>\n",
       "      <td>1</td>\n",
       "      <td>6</td>\n",
       "      <td>11</td>\n",
       "      <td>8</td>\n",
       "      <td>2015</td>\n",
       "    </tr>\n",
       "    <tr>\n",
       "      <th>2015-08-10</th>\n",
       "      <td>0.65</td>\n",
       "      <td>0.67</td>\n",
       "      <td>0.58</td>\n",
       "      <td>0.65</td>\n",
       "      <td>369818</td>\n",
       "      <td>39071416</td>\n",
       "      <td>1.562500</td>\n",
       "      <td>-23.759870</td>\n",
       "      <td>1.098306</td>\n",
       "      <td>0</td>\n",
       "      <td>0</td>\n",
       "      <td>10</td>\n",
       "      <td>8</td>\n",
       "      <td>2015</td>\n",
       "    </tr>\n",
       "    <tr>\n",
       "      <th>2015-08-09</th>\n",
       "      <td>0.64</td>\n",
       "      <td>0.80</td>\n",
       "      <td>0.57</td>\n",
       "      <td>0.64</td>\n",
       "      <td>485070</td>\n",
       "      <td>38646954</td>\n",
       "      <td>-74.901961</td>\n",
       "      <td>-21.064965</td>\n",
       "      <td>-6.787275</td>\n",
       "      <td>1</td>\n",
       "      <td>1</td>\n",
       "      <td>9</td>\n",
       "      <td>8</td>\n",
       "      <td>2015</td>\n",
       "    </tr>\n",
       "    <tr>\n",
       "      <th>2015-08-08</th>\n",
       "      <td>2.55</td>\n",
       "      <td>2.55</td>\n",
       "      <td>0.65</td>\n",
       "      <td>0.69</td>\n",
       "      <td>614518</td>\n",
       "      <td>41461028</td>\n",
       "      <td>-1.544402</td>\n",
       "      <td>308.510327</td>\n",
       "      <td>-72.815632</td>\n",
       "      <td>1</td>\n",
       "      <td>2</td>\n",
       "      <td>8</td>\n",
       "      <td>8</td>\n",
       "      <td>2015</td>\n",
       "    </tr>\n",
       "    <tr>\n",
       "      <th>2015-08-07</th>\n",
       "      <td>2.59</td>\n",
       "      <td>3.24</td>\n",
       "      <td>2.31</td>\n",
       "      <td>2.54</td>\n",
       "      <td>150429</td>\n",
       "      <td>152517901</td>\n",
       "      <td>0.000000</td>\n",
       "      <td>0.000000</td>\n",
       "      <td>0.000000</td>\n",
       "      <td>0</td>\n",
       "      <td>3</td>\n",
       "      <td>7</td>\n",
       "      <td>8</td>\n",
       "      <td>2015</td>\n",
       "    </tr>\n",
       "  </tbody>\n",
       "</table>\n",
       "<p>2125 rows × 14 columns</p>\n",
       "</div>"
      ],
      "text/plain": [
       "             Abrir*   Elevar  Disminuir  Cerrar**      Volumen  \\\n",
       "fecha                                                            \n",
       "2021-05-31  1958.87  2228.56    1870.50   2227.81  25443852421   \n",
       "2021-05-30  1868.59  2027.62    1795.22   1960.46  21223304586   \n",
       "2021-05-29  1979.95  2105.33    1811.34   1869.60  27700293434   \n",
       "2021-05-28  2249.92  2265.42    1916.75   1985.29  32815193787   \n",
       "2021-05-27  2369.48  2369.48    2167.59   2244.59  27374557472   \n",
       "...             ...      ...        ...       ...          ...   \n",
       "2015-08-11     0.64     1.03       0.60      0.97      1327918   \n",
       "2015-08-10     0.65     0.67       0.58      0.65       369818   \n",
       "2015-08-09     0.64     0.80       0.57      0.64       485070   \n",
       "2015-08-08     2.55     2.55       0.65      0.69       614518   \n",
       "2015-08-07     2.59     3.24       2.31      2.54       150429   \n",
       "\n",
       "            Cap. de Mercado  \\\n",
       "fecha                         \n",
       "2021-05-31     258659102253   \n",
       "2021-05-30     227592258847   \n",
       "2021-05-29     217018090789   \n",
       "2021-05-28     230420369985   \n",
       "2021-05-27     260486033577   \n",
       "...                     ...   \n",
       "2015-08-11         58603457   \n",
       "2015-08-10         39071416   \n",
       "2015-08-09         38646954   \n",
       "2015-08-08         41461028   \n",
       "2015-08-07        152517901   \n",
       "\n",
       "            Porcentaje Respecto al dia anterior en el abrir del mercado  \\\n",
       "fecha                                                                     \n",
       "2021-05-31                                           4.831450             \n",
       "2021-05-30                                          -5.624384             \n",
       "2021-05-29                                         -11.999093             \n",
       "2021-05-28                                          -5.045833             \n",
       "2021-05-27                                           7.232787             \n",
       "...                                                       ...             \n",
       "2015-08-11                                          -1.538462             \n",
       "2015-08-10                                           1.562500             \n",
       "2015-08-09                                         -74.901961             \n",
       "2015-08-08                                          -1.544402             \n",
       "2015-08-07                                           0.000000             \n",
       "\n",
       "            Porcentaje de Volumen respecto al dia anterior  \\\n",
       "fecha                                                        \n",
       "2021-05-31                                       19.886384   \n",
       "2021-05-30                                      -23.382384   \n",
       "2021-05-29                                      -15.586988   \n",
       "2021-05-28                                       19.874792   \n",
       "2021-05-27                                      -21.089998   \n",
       "...                                                    ...   \n",
       "2015-08-11                                      259.073382   \n",
       "2015-08-10                                      -23.759870   \n",
       "2015-08-09                                      -21.064965   \n",
       "2015-08-08                                      308.510327   \n",
       "2015-08-07                                        0.000000   \n",
       "\n",
       "            Porcentaje Cap. De Mercado respecto al día anterior  Ganancia  \\\n",
       "fecha                                                                       \n",
       "2021-05-31                                          13.650220           0   \n",
       "2021-05-30                                           4.872482           1   \n",
       "2021-05-29                                          -5.816447           1   \n",
       "2021-05-28                                         -11.542140           1   \n",
       "2021-05-27                                          -4.795720           0   \n",
       "...                                                       ...         ...   \n",
       "2015-08-11                                          49.990615           1   \n",
       "2015-08-10                                           1.098306           0   \n",
       "2015-08-09                                          -6.787275           1   \n",
       "2015-08-08                                         -72.815632           1   \n",
       "2015-08-07                                           0.000000           0   \n",
       "\n",
       "            Dia_semana  Dia  Mes   Año  \n",
       "fecha                                   \n",
       "2021-05-31           0   31    5  2021  \n",
       "2021-05-30           1   30    5  2021  \n",
       "2021-05-29           2   29    5  2021  \n",
       "2021-05-28           3   28    5  2021  \n",
       "2021-05-27           4   27    5  2021  \n",
       "...                ...  ...  ...   ...  \n",
       "2015-08-11           6   11    8  2015  \n",
       "2015-08-10           0   10    8  2015  \n",
       "2015-08-09           1    9    8  2015  \n",
       "2015-08-08           2    8    8  2015  \n",
       "2015-08-07           3    7    8  2015  \n",
       "\n",
       "[2125 rows x 14 columns]"
      ]
     },
     "execution_count": 135,
     "metadata": {},
     "output_type": "execute_result"
    }
   ],
   "source": [
    "datos=datos.drop(columns=['fecha','Fecha'])\n",
    "datos"
   ]
  },
  {
   "cell_type": "code",
   "execution_count": 136,
   "metadata": {
    "id": "0DJtIX_qbzvY"
   },
   "outputs": [],
   "source": [
    "datos=df"
   ]
  },
  {
   "cell_type": "markdown",
   "metadata": {
    "id": "xoh9ggJQbzvY"
   },
   "source": [
    "# Media Movil"
   ]
  },
  {
   "cell_type": "markdown",
   "metadata": {
    "id": "u3flcczObzvY"
   },
   "source": [
    "Tecnica muy usada en trading basada en un valor que se calcula de manera continua \n",
    "de la media aritmética del precio durante un determinado tiempo.\n",
    "\n",
    "El objetivo es suavizar las fluctuaciones de los precios para poder observar las tendencias a largo plazo del mercado"
   ]
  },
  {
   "cell_type": "code",
   "execution_count": 137,
   "metadata": {
    "id": "T4DPhqzBbzvZ"
   },
   "outputs": [],
   "source": [
    "#El primer paso consiste en filtrar las columnas necesarias para nuestro analisis"
   ]
  },
  {
   "cell_type": "code",
   "execution_count": 138,
   "metadata": {
    "colab": {
     "base_uri": "https://localhost:8080/",
     "height": 912
    },
    "id": "a-TlVT4pbzvZ",
    "outputId": "dc697d9d-6da1-45da-bc0c-1eac8476e991"
   },
   "outputs": [
    {
     "data": {
      "text/html": [
       "<div>\n",
       "<style scoped>\n",
       "    .dataframe tbody tr th:only-of-type {\n",
       "        vertical-align: middle;\n",
       "    }\n",
       "\n",
       "    .dataframe tbody tr th {\n",
       "        vertical-align: top;\n",
       "    }\n",
       "\n",
       "    .dataframe thead th {\n",
       "        text-align: right;\n",
       "    }\n",
       "</style>\n",
       "<table border=\"1\" class=\"dataframe\">\n",
       "  <thead>\n",
       "    <tr style=\"text-align: right;\">\n",
       "      <th></th>\n",
       "      <th>Fecha</th>\n",
       "      <th>Abrir*</th>\n",
       "      <th>Elevar</th>\n",
       "      <th>Disminuir</th>\n",
       "      <th>Cerrar**</th>\n",
       "      <th>Volumen</th>\n",
       "      <th>Cap. de Mercado</th>\n",
       "      <th>Porcentaje Respecto al dia anterior en el abrir del mercado</th>\n",
       "      <th>Porcentaje de Volumen respecto al dia anterior</th>\n",
       "      <th>Porcentaje Cap. De Mercado respecto al día anterior</th>\n",
       "      <th>Ganancia</th>\n",
       "      <th>Dia_semana</th>\n",
       "      <th>Dia</th>\n",
       "      <th>Mes</th>\n",
       "      <th>Año</th>\n",
       "      <th>fecha</th>\n",
       "    </tr>\n",
       "    <tr>\n",
       "      <th>fecha</th>\n",
       "      <th></th>\n",
       "      <th></th>\n",
       "      <th></th>\n",
       "      <th></th>\n",
       "      <th></th>\n",
       "      <th></th>\n",
       "      <th></th>\n",
       "      <th></th>\n",
       "      <th></th>\n",
       "      <th></th>\n",
       "      <th></th>\n",
       "      <th></th>\n",
       "      <th></th>\n",
       "      <th></th>\n",
       "      <th></th>\n",
       "      <th></th>\n",
       "    </tr>\n",
       "  </thead>\n",
       "  <tbody>\n",
       "    <tr>\n",
       "      <th>2015-08-07</th>\n",
       "      <td>Aug 07, 2015</td>\n",
       "      <td>2.59</td>\n",
       "      <td>3.24</td>\n",
       "      <td>2.31</td>\n",
       "      <td>2.54</td>\n",
       "      <td>150429</td>\n",
       "      <td>152517901</td>\n",
       "      <td>0.000000</td>\n",
       "      <td>0.000000</td>\n",
       "      <td>0.000000</td>\n",
       "      <td>0</td>\n",
       "      <td>3</td>\n",
       "      <td>7</td>\n",
       "      <td>8</td>\n",
       "      <td>2015</td>\n",
       "      <td>2015-08-07</td>\n",
       "    </tr>\n",
       "    <tr>\n",
       "      <th>2015-08-08</th>\n",
       "      <td>Aug 08, 2015</td>\n",
       "      <td>2.55</td>\n",
       "      <td>2.55</td>\n",
       "      <td>0.65</td>\n",
       "      <td>0.69</td>\n",
       "      <td>614518</td>\n",
       "      <td>41461028</td>\n",
       "      <td>-1.544402</td>\n",
       "      <td>308.510327</td>\n",
       "      <td>-72.815632</td>\n",
       "      <td>1</td>\n",
       "      <td>2</td>\n",
       "      <td>8</td>\n",
       "      <td>8</td>\n",
       "      <td>2015</td>\n",
       "      <td>2015-08-08</td>\n",
       "    </tr>\n",
       "    <tr>\n",
       "      <th>2015-08-09</th>\n",
       "      <td>Aug 09, 2015</td>\n",
       "      <td>0.64</td>\n",
       "      <td>0.80</td>\n",
       "      <td>0.57</td>\n",
       "      <td>0.64</td>\n",
       "      <td>485070</td>\n",
       "      <td>38646954</td>\n",
       "      <td>-74.901961</td>\n",
       "      <td>-21.064965</td>\n",
       "      <td>-6.787275</td>\n",
       "      <td>1</td>\n",
       "      <td>1</td>\n",
       "      <td>9</td>\n",
       "      <td>8</td>\n",
       "      <td>2015</td>\n",
       "      <td>2015-08-09</td>\n",
       "    </tr>\n",
       "    <tr>\n",
       "      <th>2015-08-10</th>\n",
       "      <td>Aug 10, 2015</td>\n",
       "      <td>0.65</td>\n",
       "      <td>0.67</td>\n",
       "      <td>0.58</td>\n",
       "      <td>0.65</td>\n",
       "      <td>369818</td>\n",
       "      <td>39071416</td>\n",
       "      <td>1.562500</td>\n",
       "      <td>-23.759870</td>\n",
       "      <td>1.098306</td>\n",
       "      <td>0</td>\n",
       "      <td>0</td>\n",
       "      <td>10</td>\n",
       "      <td>8</td>\n",
       "      <td>2015</td>\n",
       "      <td>2015-08-10</td>\n",
       "    </tr>\n",
       "    <tr>\n",
       "      <th>2015-08-11</th>\n",
       "      <td>Aug 11, 2015</td>\n",
       "      <td>0.64</td>\n",
       "      <td>1.03</td>\n",
       "      <td>0.60</td>\n",
       "      <td>0.97</td>\n",
       "      <td>1327918</td>\n",
       "      <td>58603457</td>\n",
       "      <td>-1.538462</td>\n",
       "      <td>259.073382</td>\n",
       "      <td>49.990615</td>\n",
       "      <td>1</td>\n",
       "      <td>6</td>\n",
       "      <td>11</td>\n",
       "      <td>8</td>\n",
       "      <td>2015</td>\n",
       "      <td>2015-08-11</td>\n",
       "    </tr>\n",
       "    <tr>\n",
       "      <th>...</th>\n",
       "      <td>...</td>\n",
       "      <td>...</td>\n",
       "      <td>...</td>\n",
       "      <td>...</td>\n",
       "      <td>...</td>\n",
       "      <td>...</td>\n",
       "      <td>...</td>\n",
       "      <td>...</td>\n",
       "      <td>...</td>\n",
       "      <td>...</td>\n",
       "      <td>...</td>\n",
       "      <td>...</td>\n",
       "      <td>...</td>\n",
       "      <td>...</td>\n",
       "      <td>...</td>\n",
       "      <td>...</td>\n",
       "    </tr>\n",
       "    <tr>\n",
       "      <th>2021-05-27</th>\n",
       "      <td>May 27, 2021</td>\n",
       "      <td>2369.48</td>\n",
       "      <td>2369.48</td>\n",
       "      <td>2167.59</td>\n",
       "      <td>2244.59</td>\n",
       "      <td>27374557472</td>\n",
       "      <td>260486033577</td>\n",
       "      <td>7.232787</td>\n",
       "      <td>-21.089998</td>\n",
       "      <td>-4.795720</td>\n",
       "      <td>0</td>\n",
       "      <td>4</td>\n",
       "      <td>27</td>\n",
       "      <td>5</td>\n",
       "      <td>2021</td>\n",
       "      <td>2021-05-27</td>\n",
       "    </tr>\n",
       "    <tr>\n",
       "      <th>2021-05-28</th>\n",
       "      <td>May 28, 2021</td>\n",
       "      <td>2249.92</td>\n",
       "      <td>2265.42</td>\n",
       "      <td>1916.75</td>\n",
       "      <td>1985.29</td>\n",
       "      <td>32815193787</td>\n",
       "      <td>230420369985</td>\n",
       "      <td>-5.045833</td>\n",
       "      <td>19.874792</td>\n",
       "      <td>-11.542140</td>\n",
       "      <td>1</td>\n",
       "      <td>3</td>\n",
       "      <td>28</td>\n",
       "      <td>5</td>\n",
       "      <td>2021</td>\n",
       "      <td>2021-05-28</td>\n",
       "    </tr>\n",
       "    <tr>\n",
       "      <th>2021-05-29</th>\n",
       "      <td>May 29, 2021</td>\n",
       "      <td>1979.95</td>\n",
       "      <td>2105.33</td>\n",
       "      <td>1811.34</td>\n",
       "      <td>1869.60</td>\n",
       "      <td>27700293434</td>\n",
       "      <td>217018090789</td>\n",
       "      <td>-11.999093</td>\n",
       "      <td>-15.586988</td>\n",
       "      <td>-5.816447</td>\n",
       "      <td>1</td>\n",
       "      <td>2</td>\n",
       "      <td>29</td>\n",
       "      <td>5</td>\n",
       "      <td>2021</td>\n",
       "      <td>2021-05-29</td>\n",
       "    </tr>\n",
       "    <tr>\n",
       "      <th>2021-05-30</th>\n",
       "      <td>May 30, 2021</td>\n",
       "      <td>1868.59</td>\n",
       "      <td>2027.62</td>\n",
       "      <td>1795.22</td>\n",
       "      <td>1960.46</td>\n",
       "      <td>21223304586</td>\n",
       "      <td>227592258847</td>\n",
       "      <td>-5.624384</td>\n",
       "      <td>-23.382384</td>\n",
       "      <td>4.872482</td>\n",
       "      <td>1</td>\n",
       "      <td>1</td>\n",
       "      <td>30</td>\n",
       "      <td>5</td>\n",
       "      <td>2021</td>\n",
       "      <td>2021-05-30</td>\n",
       "    </tr>\n",
       "    <tr>\n",
       "      <th>2021-05-31</th>\n",
       "      <td>May 31, 2021</td>\n",
       "      <td>1958.87</td>\n",
       "      <td>2228.56</td>\n",
       "      <td>1870.50</td>\n",
       "      <td>2227.81</td>\n",
       "      <td>25443852421</td>\n",
       "      <td>258659102253</td>\n",
       "      <td>4.831450</td>\n",
       "      <td>19.886384</td>\n",
       "      <td>13.650220</td>\n",
       "      <td>0</td>\n",
       "      <td>0</td>\n",
       "      <td>31</td>\n",
       "      <td>5</td>\n",
       "      <td>2021</td>\n",
       "      <td>2021-05-31</td>\n",
       "    </tr>\n",
       "  </tbody>\n",
       "</table>\n",
       "<p>2125 rows × 16 columns</p>\n",
       "</div>"
      ],
      "text/plain": [
       "                   Fecha   Abrir*   Elevar  Disminuir  Cerrar**      Volumen  \\\n",
       "fecha                                                                          \n",
       "2015-08-07  Aug 07, 2015     2.59     3.24       2.31      2.54       150429   \n",
       "2015-08-08  Aug 08, 2015     2.55     2.55       0.65      0.69       614518   \n",
       "2015-08-09  Aug 09, 2015     0.64     0.80       0.57      0.64       485070   \n",
       "2015-08-10  Aug 10, 2015     0.65     0.67       0.58      0.65       369818   \n",
       "2015-08-11  Aug 11, 2015     0.64     1.03       0.60      0.97      1327918   \n",
       "...                  ...      ...      ...        ...       ...          ...   \n",
       "2021-05-27  May 27, 2021  2369.48  2369.48    2167.59   2244.59  27374557472   \n",
       "2021-05-28  May 28, 2021  2249.92  2265.42    1916.75   1985.29  32815193787   \n",
       "2021-05-29  May 29, 2021  1979.95  2105.33    1811.34   1869.60  27700293434   \n",
       "2021-05-30  May 30, 2021  1868.59  2027.62    1795.22   1960.46  21223304586   \n",
       "2021-05-31  May 31, 2021  1958.87  2228.56    1870.50   2227.81  25443852421   \n",
       "\n",
       "            Cap. de Mercado  \\\n",
       "fecha                         \n",
       "2015-08-07        152517901   \n",
       "2015-08-08         41461028   \n",
       "2015-08-09         38646954   \n",
       "2015-08-10         39071416   \n",
       "2015-08-11         58603457   \n",
       "...                     ...   \n",
       "2021-05-27     260486033577   \n",
       "2021-05-28     230420369985   \n",
       "2021-05-29     217018090789   \n",
       "2021-05-30     227592258847   \n",
       "2021-05-31     258659102253   \n",
       "\n",
       "            Porcentaje Respecto al dia anterior en el abrir del mercado  \\\n",
       "fecha                                                                     \n",
       "2015-08-07                                           0.000000             \n",
       "2015-08-08                                          -1.544402             \n",
       "2015-08-09                                         -74.901961             \n",
       "2015-08-10                                           1.562500             \n",
       "2015-08-11                                          -1.538462             \n",
       "...                                                       ...             \n",
       "2021-05-27                                           7.232787             \n",
       "2021-05-28                                          -5.045833             \n",
       "2021-05-29                                         -11.999093             \n",
       "2021-05-30                                          -5.624384             \n",
       "2021-05-31                                           4.831450             \n",
       "\n",
       "            Porcentaje de Volumen respecto al dia anterior  \\\n",
       "fecha                                                        \n",
       "2015-08-07                                        0.000000   \n",
       "2015-08-08                                      308.510327   \n",
       "2015-08-09                                      -21.064965   \n",
       "2015-08-10                                      -23.759870   \n",
       "2015-08-11                                      259.073382   \n",
       "...                                                    ...   \n",
       "2021-05-27                                      -21.089998   \n",
       "2021-05-28                                       19.874792   \n",
       "2021-05-29                                      -15.586988   \n",
       "2021-05-30                                      -23.382384   \n",
       "2021-05-31                                       19.886384   \n",
       "\n",
       "            Porcentaje Cap. De Mercado respecto al día anterior  Ganancia  \\\n",
       "fecha                                                                       \n",
       "2015-08-07                                           0.000000           0   \n",
       "2015-08-08                                         -72.815632           1   \n",
       "2015-08-09                                          -6.787275           1   \n",
       "2015-08-10                                           1.098306           0   \n",
       "2015-08-11                                          49.990615           1   \n",
       "...                                                       ...         ...   \n",
       "2021-05-27                                          -4.795720           0   \n",
       "2021-05-28                                         -11.542140           1   \n",
       "2021-05-29                                          -5.816447           1   \n",
       "2021-05-30                                           4.872482           1   \n",
       "2021-05-31                                          13.650220           0   \n",
       "\n",
       "            Dia_semana  Dia  Mes   Año      fecha  \n",
       "fecha                                              \n",
       "2015-08-07           3    7    8  2015 2015-08-07  \n",
       "2015-08-08           2    8    8  2015 2015-08-08  \n",
       "2015-08-09           1    9    8  2015 2015-08-09  \n",
       "2015-08-10           0   10    8  2015 2015-08-10  \n",
       "2015-08-11           6   11    8  2015 2015-08-11  \n",
       "...                ...  ...  ...   ...        ...  \n",
       "2021-05-27           4   27    5  2021 2021-05-27  \n",
       "2021-05-28           3   28    5  2021 2021-05-28  \n",
       "2021-05-29           2   29    5  2021 2021-05-29  \n",
       "2021-05-30           1   30    5  2021 2021-05-30  \n",
       "2021-05-31           0   31    5  2021 2021-05-31  \n",
       "\n",
       "[2125 rows x 16 columns]"
      ]
     },
     "execution_count": 138,
     "metadata": {},
     "output_type": "execute_result"
    }
   ],
   "source": [
    "#Ordeno las fechas\n",
    "datos = datos.sort_index(ascending=True, axis=0)\n",
    "datos"
   ]
  },
  {
   "cell_type": "code",
   "execution_count": 139,
   "metadata": {
    "colab": {
     "base_uri": "https://localhost:8080/"
    },
    "id": "gPl59Un5bzvZ",
    "outputId": "796fe35f-52d4-4efd-d23a-1ed1379b9cfc"
   },
   "outputs": [
    {
     "data": {
      "text/plain": [
       "(2125, 2)"
      ]
     },
     "execution_count": 139,
     "metadata": {},
     "output_type": "execute_result"
    }
   ],
   "source": [
    "#Obtengo los datos para media movil (en este caso utilizo el cierre del mercado y la fecha)\n",
    "MediaMovil=datos.iloc[:,[4,15]]\n",
    "MediaMovil.shape"
   ]
  },
  {
   "cell_type": "code",
   "execution_count": 140,
   "metadata": {
    "id": "UyRRUiJWbzvZ"
   },
   "outputs": [],
   "source": [
    "#no puedo utilizar train_test_split porque quiero seguir el orden de las fechas"
   ]
  },
  {
   "cell_type": "code",
   "execution_count": 141,
   "metadata": {
    "id": "MiexHrbRbzva"
   },
   "outputs": [],
   "source": [
    "#Cantidad de datos por año"
   ]
  },
  {
   "cell_type": "code",
   "execution_count": 142,
   "metadata": {
    "colab": {
     "base_uri": "https://localhost:8080/",
     "height": 204
    },
    "id": "iGIX78h8bzva",
    "outputId": "3f7aeb9a-8f11-4020-d6d5-8a732522a428"
   },
   "outputs": [
    {
     "data": {
      "text/html": [
       "<div>\n",
       "<style scoped>\n",
       "    .dataframe tbody tr th:only-of-type {\n",
       "        vertical-align: middle;\n",
       "    }\n",
       "\n",
       "    .dataframe tbody tr th {\n",
       "        vertical-align: top;\n",
       "    }\n",
       "\n",
       "    .dataframe thead th {\n",
       "        text-align: right;\n",
       "    }\n",
       "</style>\n",
       "<table border=\"1\" class=\"dataframe\">\n",
       "  <thead>\n",
       "    <tr style=\"text-align: right;\">\n",
       "      <th></th>\n",
       "      <th>Año</th>\n",
       "      <th>count</th>\n",
       "    </tr>\n",
       "  </thead>\n",
       "  <tbody>\n",
       "    <tr>\n",
       "      <th>0</th>\n",
       "      <td>2015</td>\n",
       "      <td>147</td>\n",
       "    </tr>\n",
       "    <tr>\n",
       "      <th>1</th>\n",
       "      <td>2016</td>\n",
       "      <td>366</td>\n",
       "    </tr>\n",
       "    <tr>\n",
       "      <th>2</th>\n",
       "      <td>2017</td>\n",
       "      <td>365</td>\n",
       "    </tr>\n",
       "    <tr>\n",
       "      <th>3</th>\n",
       "      <td>2018</td>\n",
       "      <td>365</td>\n",
       "    </tr>\n",
       "    <tr>\n",
       "      <th>4</th>\n",
       "      <td>2019</td>\n",
       "      <td>365</td>\n",
       "    </tr>\n",
       "    <tr>\n",
       "      <th>5</th>\n",
       "      <td>2020</td>\n",
       "      <td>366</td>\n",
       "    </tr>\n",
       "    <tr>\n",
       "      <th>6</th>\n",
       "      <td>2021</td>\n",
       "      <td>151</td>\n",
       "    </tr>\n",
       "  </tbody>\n",
       "</table>\n",
       "</div>"
      ],
      "text/plain": [
       "    Año  count\n",
       "0  2015    147\n",
       "1  2016    366\n",
       "2  2017    365\n",
       "3  2018    365\n",
       "4  2019    365\n",
       "5  2020    366\n",
       "6  2021    151"
      ]
     },
     "execution_count": 142,
     "metadata": {},
     "output_type": "execute_result"
    }
   ],
   "source": [
    "caño=datos.groupby('Año')['Año'].count().reset_index(name = 'count')\n",
    "caño"
   ]
  },
  {
   "cell_type": "code",
   "execution_count": 63,
   "metadata": {
    "colab": {
     "base_uri": "https://localhost:8080/",
     "height": 542
    },
    "id": "yPm3wJRPbzva",
    "outputId": "54aabef8-6eb1-40da-ad12-03a8948d2a7c"
   },
   "outputs": [
    {
     "data": {
      "application/vnd.plotly.v1+json": {
       "config": {
        "plotlyServerURL": "https://plot.ly"
       },
       "data": [
        {
         "domain": {
          "x": [
           0,
           1
          ],
          "y": [
           0,
           1
          ]
         },
         "hovertemplate": "Año=%{label}<br>count=%{value}<extra></extra>",
         "labels": [
          2017,
          2018,
          2019,
          2020,
          2021
         ],
         "legendgroup": "",
         "name": "",
         "showlegend": true,
         "type": "pie",
         "values": [
          92,
          365,
          365,
          366,
          151
         ]
        }
       ],
       "layout": {
        "legend": {
         "tracegroupgap": 0
        },
        "template": {
         "data": {
          "bar": [
           {
            "error_x": {
             "color": "#2a3f5f"
            },
            "error_y": {
             "color": "#2a3f5f"
            },
            "marker": {
             "line": {
              "color": "#E5ECF6",
              "width": 0.5
             }
            },
            "type": "bar"
           }
          ],
          "barpolar": [
           {
            "marker": {
             "line": {
              "color": "#E5ECF6",
              "width": 0.5
             }
            },
            "type": "barpolar"
           }
          ],
          "carpet": [
           {
            "aaxis": {
             "endlinecolor": "#2a3f5f",
             "gridcolor": "white",
             "linecolor": "white",
             "minorgridcolor": "white",
             "startlinecolor": "#2a3f5f"
            },
            "baxis": {
             "endlinecolor": "#2a3f5f",
             "gridcolor": "white",
             "linecolor": "white",
             "minorgridcolor": "white",
             "startlinecolor": "#2a3f5f"
            },
            "type": "carpet"
           }
          ],
          "choropleth": [
           {
            "colorbar": {
             "outlinewidth": 0,
             "ticks": ""
            },
            "type": "choropleth"
           }
          ],
          "contour": [
           {
            "colorbar": {
             "outlinewidth": 0,
             "ticks": ""
            },
            "colorscale": [
             [
              0,
              "#0d0887"
             ],
             [
              0.1111111111111111,
              "#46039f"
             ],
             [
              0.2222222222222222,
              "#7201a8"
             ],
             [
              0.3333333333333333,
              "#9c179e"
             ],
             [
              0.4444444444444444,
              "#bd3786"
             ],
             [
              0.5555555555555556,
              "#d8576b"
             ],
             [
              0.6666666666666666,
              "#ed7953"
             ],
             [
              0.7777777777777778,
              "#fb9f3a"
             ],
             [
              0.8888888888888888,
              "#fdca26"
             ],
             [
              1,
              "#f0f921"
             ]
            ],
            "type": "contour"
           }
          ],
          "contourcarpet": [
           {
            "colorbar": {
             "outlinewidth": 0,
             "ticks": ""
            },
            "type": "contourcarpet"
           }
          ],
          "heatmap": [
           {
            "colorbar": {
             "outlinewidth": 0,
             "ticks": ""
            },
            "colorscale": [
             [
              0,
              "#0d0887"
             ],
             [
              0.1111111111111111,
              "#46039f"
             ],
             [
              0.2222222222222222,
              "#7201a8"
             ],
             [
              0.3333333333333333,
              "#9c179e"
             ],
             [
              0.4444444444444444,
              "#bd3786"
             ],
             [
              0.5555555555555556,
              "#d8576b"
             ],
             [
              0.6666666666666666,
              "#ed7953"
             ],
             [
              0.7777777777777778,
              "#fb9f3a"
             ],
             [
              0.8888888888888888,
              "#fdca26"
             ],
             [
              1,
              "#f0f921"
             ]
            ],
            "type": "heatmap"
           }
          ],
          "heatmapgl": [
           {
            "colorbar": {
             "outlinewidth": 0,
             "ticks": ""
            },
            "colorscale": [
             [
              0,
              "#0d0887"
             ],
             [
              0.1111111111111111,
              "#46039f"
             ],
             [
              0.2222222222222222,
              "#7201a8"
             ],
             [
              0.3333333333333333,
              "#9c179e"
             ],
             [
              0.4444444444444444,
              "#bd3786"
             ],
             [
              0.5555555555555556,
              "#d8576b"
             ],
             [
              0.6666666666666666,
              "#ed7953"
             ],
             [
              0.7777777777777778,
              "#fb9f3a"
             ],
             [
              0.8888888888888888,
              "#fdca26"
             ],
             [
              1,
              "#f0f921"
             ]
            ],
            "type": "heatmapgl"
           }
          ],
          "histogram": [
           {
            "marker": {
             "colorbar": {
              "outlinewidth": 0,
              "ticks": ""
             }
            },
            "type": "histogram"
           }
          ],
          "histogram2d": [
           {
            "colorbar": {
             "outlinewidth": 0,
             "ticks": ""
            },
            "colorscale": [
             [
              0,
              "#0d0887"
             ],
             [
              0.1111111111111111,
              "#46039f"
             ],
             [
              0.2222222222222222,
              "#7201a8"
             ],
             [
              0.3333333333333333,
              "#9c179e"
             ],
             [
              0.4444444444444444,
              "#bd3786"
             ],
             [
              0.5555555555555556,
              "#d8576b"
             ],
             [
              0.6666666666666666,
              "#ed7953"
             ],
             [
              0.7777777777777778,
              "#fb9f3a"
             ],
             [
              0.8888888888888888,
              "#fdca26"
             ],
             [
              1,
              "#f0f921"
             ]
            ],
            "type": "histogram2d"
           }
          ],
          "histogram2dcontour": [
           {
            "colorbar": {
             "outlinewidth": 0,
             "ticks": ""
            },
            "colorscale": [
             [
              0,
              "#0d0887"
             ],
             [
              0.1111111111111111,
              "#46039f"
             ],
             [
              0.2222222222222222,
              "#7201a8"
             ],
             [
              0.3333333333333333,
              "#9c179e"
             ],
             [
              0.4444444444444444,
              "#bd3786"
             ],
             [
              0.5555555555555556,
              "#d8576b"
             ],
             [
              0.6666666666666666,
              "#ed7953"
             ],
             [
              0.7777777777777778,
              "#fb9f3a"
             ],
             [
              0.8888888888888888,
              "#fdca26"
             ],
             [
              1,
              "#f0f921"
             ]
            ],
            "type": "histogram2dcontour"
           }
          ],
          "mesh3d": [
           {
            "colorbar": {
             "outlinewidth": 0,
             "ticks": ""
            },
            "type": "mesh3d"
           }
          ],
          "parcoords": [
           {
            "line": {
             "colorbar": {
              "outlinewidth": 0,
              "ticks": ""
             }
            },
            "type": "parcoords"
           }
          ],
          "pie": [
           {
            "automargin": true,
            "type": "pie"
           }
          ],
          "scatter": [
           {
            "marker": {
             "colorbar": {
              "outlinewidth": 0,
              "ticks": ""
             }
            },
            "type": "scatter"
           }
          ],
          "scatter3d": [
           {
            "line": {
             "colorbar": {
              "outlinewidth": 0,
              "ticks": ""
             }
            },
            "marker": {
             "colorbar": {
              "outlinewidth": 0,
              "ticks": ""
             }
            },
            "type": "scatter3d"
           }
          ],
          "scattercarpet": [
           {
            "marker": {
             "colorbar": {
              "outlinewidth": 0,
              "ticks": ""
             }
            },
            "type": "scattercarpet"
           }
          ],
          "scattergeo": [
           {
            "marker": {
             "colorbar": {
              "outlinewidth": 0,
              "ticks": ""
             }
            },
            "type": "scattergeo"
           }
          ],
          "scattergl": [
           {
            "marker": {
             "colorbar": {
              "outlinewidth": 0,
              "ticks": ""
             }
            },
            "type": "scattergl"
           }
          ],
          "scattermapbox": [
           {
            "marker": {
             "colorbar": {
              "outlinewidth": 0,
              "ticks": ""
             }
            },
            "type": "scattermapbox"
           }
          ],
          "scatterpolar": [
           {
            "marker": {
             "colorbar": {
              "outlinewidth": 0,
              "ticks": ""
             }
            },
            "type": "scatterpolar"
           }
          ],
          "scatterpolargl": [
           {
            "marker": {
             "colorbar": {
              "outlinewidth": 0,
              "ticks": ""
             }
            },
            "type": "scatterpolargl"
           }
          ],
          "scatterternary": [
           {
            "marker": {
             "colorbar": {
              "outlinewidth": 0,
              "ticks": ""
             }
            },
            "type": "scatterternary"
           }
          ],
          "surface": [
           {
            "colorbar": {
             "outlinewidth": 0,
             "ticks": ""
            },
            "colorscale": [
             [
              0,
              "#0d0887"
             ],
             [
              0.1111111111111111,
              "#46039f"
             ],
             [
              0.2222222222222222,
              "#7201a8"
             ],
             [
              0.3333333333333333,
              "#9c179e"
             ],
             [
              0.4444444444444444,
              "#bd3786"
             ],
             [
              0.5555555555555556,
              "#d8576b"
             ],
             [
              0.6666666666666666,
              "#ed7953"
             ],
             [
              0.7777777777777778,
              "#fb9f3a"
             ],
             [
              0.8888888888888888,
              "#fdca26"
             ],
             [
              1,
              "#f0f921"
             ]
            ],
            "type": "surface"
           }
          ],
          "table": [
           {
            "cells": {
             "fill": {
              "color": "#EBF0F8"
             },
             "line": {
              "color": "white"
             }
            },
            "header": {
             "fill": {
              "color": "#C8D4E3"
             },
             "line": {
              "color": "white"
             }
            },
            "type": "table"
           }
          ]
         },
         "layout": {
          "annotationdefaults": {
           "arrowcolor": "#2a3f5f",
           "arrowhead": 0,
           "arrowwidth": 1
          },
          "autotypenumbers": "strict",
          "coloraxis": {
           "colorbar": {
            "outlinewidth": 0,
            "ticks": ""
           }
          },
          "colorscale": {
           "diverging": [
            [
             0,
             "#8e0152"
            ],
            [
             0.1,
             "#c51b7d"
            ],
            [
             0.2,
             "#de77ae"
            ],
            [
             0.3,
             "#f1b6da"
            ],
            [
             0.4,
             "#fde0ef"
            ],
            [
             0.5,
             "#f7f7f7"
            ],
            [
             0.6,
             "#e6f5d0"
            ],
            [
             0.7,
             "#b8e186"
            ],
            [
             0.8,
             "#7fbc41"
            ],
            [
             0.9,
             "#4d9221"
            ],
            [
             1,
             "#276419"
            ]
           ],
           "sequential": [
            [
             0,
             "#0d0887"
            ],
            [
             0.1111111111111111,
             "#46039f"
            ],
            [
             0.2222222222222222,
             "#7201a8"
            ],
            [
             0.3333333333333333,
             "#9c179e"
            ],
            [
             0.4444444444444444,
             "#bd3786"
            ],
            [
             0.5555555555555556,
             "#d8576b"
            ],
            [
             0.6666666666666666,
             "#ed7953"
            ],
            [
             0.7777777777777778,
             "#fb9f3a"
            ],
            [
             0.8888888888888888,
             "#fdca26"
            ],
            [
             1,
             "#f0f921"
            ]
           ],
           "sequentialminus": [
            [
             0,
             "#0d0887"
            ],
            [
             0.1111111111111111,
             "#46039f"
            ],
            [
             0.2222222222222222,
             "#7201a8"
            ],
            [
             0.3333333333333333,
             "#9c179e"
            ],
            [
             0.4444444444444444,
             "#bd3786"
            ],
            [
             0.5555555555555556,
             "#d8576b"
            ],
            [
             0.6666666666666666,
             "#ed7953"
            ],
            [
             0.7777777777777778,
             "#fb9f3a"
            ],
            [
             0.8888888888888888,
             "#fdca26"
            ],
            [
             1,
             "#f0f921"
            ]
           ]
          },
          "colorway": [
           "#636efa",
           "#EF553B",
           "#00cc96",
           "#ab63fa",
           "#FFA15A",
           "#19d3f3",
           "#FF6692",
           "#B6E880",
           "#FF97FF",
           "#FECB52"
          ],
          "font": {
           "color": "#2a3f5f"
          },
          "geo": {
           "bgcolor": "white",
           "lakecolor": "white",
           "landcolor": "#E5ECF6",
           "showlakes": true,
           "showland": true,
           "subunitcolor": "white"
          },
          "hoverlabel": {
           "align": "left"
          },
          "hovermode": "closest",
          "mapbox": {
           "style": "light"
          },
          "paper_bgcolor": "white",
          "plot_bgcolor": "#E5ECF6",
          "polar": {
           "angularaxis": {
            "gridcolor": "white",
            "linecolor": "white",
            "ticks": ""
           },
           "bgcolor": "#E5ECF6",
           "radialaxis": {
            "gridcolor": "white",
            "linecolor": "white",
            "ticks": ""
           }
          },
          "scene": {
           "xaxis": {
            "backgroundcolor": "#E5ECF6",
            "gridcolor": "white",
            "gridwidth": 2,
            "linecolor": "white",
            "showbackground": true,
            "ticks": "",
            "zerolinecolor": "white"
           },
           "yaxis": {
            "backgroundcolor": "#E5ECF6",
            "gridcolor": "white",
            "gridwidth": 2,
            "linecolor": "white",
            "showbackground": true,
            "ticks": "",
            "zerolinecolor": "white"
           },
           "zaxis": {
            "backgroundcolor": "#E5ECF6",
            "gridcolor": "white",
            "gridwidth": 2,
            "linecolor": "white",
            "showbackground": true,
            "ticks": "",
            "zerolinecolor": "white"
           }
          },
          "shapedefaults": {
           "line": {
            "color": "#2a3f5f"
           }
          },
          "ternary": {
           "aaxis": {
            "gridcolor": "white",
            "linecolor": "white",
            "ticks": ""
           },
           "baxis": {
            "gridcolor": "white",
            "linecolor": "white",
            "ticks": ""
           },
           "bgcolor": "#E5ECF6",
           "caxis": {
            "gridcolor": "white",
            "linecolor": "white",
            "ticks": ""
           }
          },
          "title": {
           "x": 0.05
          },
          "xaxis": {
           "automargin": true,
           "gridcolor": "white",
           "linecolor": "white",
           "ticks": "",
           "title": {
            "standoff": 15
           },
           "zerolinecolor": "white",
           "zerolinewidth": 2
          },
          "yaxis": {
           "automargin": true,
           "gridcolor": "white",
           "linecolor": "white",
           "ticks": "",
           "title": {
            "standoff": 15
           },
           "zerolinecolor": "white",
           "zerolinewidth": 2
          }
         }
        },
        "title": {
         "text": "Año"
        }
       }
      },
      "text/html": [
       "<div>                            <div id=\"0cc4e48f-bc58-423e-ad62-b145766a7532\" class=\"plotly-graph-div\" style=\"height:525px; width:100%;\"></div>            <script type=\"text/javascript\">                require([\"plotly\"], function(Plotly) {                    window.PLOTLYENV=window.PLOTLYENV || {};                                    if (document.getElementById(\"0cc4e48f-bc58-423e-ad62-b145766a7532\")) {                    Plotly.newPlot(                        \"0cc4e48f-bc58-423e-ad62-b145766a7532\",                        [{\"domain\": {\"x\": [0.0, 1.0], \"y\": [0.0, 1.0]}, \"hovertemplate\": \"A\\u00f1o=%{label}<br>count=%{value}<extra></extra>\", \"labels\": [2017, 2018, 2019, 2020, 2021], \"legendgroup\": \"\", \"name\": \"\", \"showlegend\": true, \"type\": \"pie\", \"values\": [92, 365, 365, 366, 151]}],                        {\"legend\": {\"tracegroupgap\": 0}, \"template\": {\"data\": {\"bar\": [{\"error_x\": {\"color\": \"#2a3f5f\"}, \"error_y\": {\"color\": \"#2a3f5f\"}, \"marker\": {\"line\": {\"color\": \"#E5ECF6\", \"width\": 0.5}}, \"type\": \"bar\"}], \"barpolar\": [{\"marker\": {\"line\": {\"color\": \"#E5ECF6\", \"width\": 0.5}}, \"type\": \"barpolar\"}], \"carpet\": [{\"aaxis\": {\"endlinecolor\": \"#2a3f5f\", \"gridcolor\": \"white\", \"linecolor\": \"white\", \"minorgridcolor\": \"white\", \"startlinecolor\": \"#2a3f5f\"}, \"baxis\": {\"endlinecolor\": \"#2a3f5f\", \"gridcolor\": \"white\", \"linecolor\": \"white\", \"minorgridcolor\": \"white\", \"startlinecolor\": \"#2a3f5f\"}, \"type\": \"carpet\"}], \"choropleth\": [{\"colorbar\": {\"outlinewidth\": 0, \"ticks\": \"\"}, \"type\": \"choropleth\"}], \"contour\": [{\"colorbar\": {\"outlinewidth\": 0, \"ticks\": \"\"}, \"colorscale\": [[0.0, \"#0d0887\"], [0.1111111111111111, \"#46039f\"], [0.2222222222222222, \"#7201a8\"], [0.3333333333333333, \"#9c179e\"], [0.4444444444444444, \"#bd3786\"], [0.5555555555555556, \"#d8576b\"], [0.6666666666666666, \"#ed7953\"], [0.7777777777777778, \"#fb9f3a\"], [0.8888888888888888, \"#fdca26\"], [1.0, \"#f0f921\"]], \"type\": \"contour\"}], \"contourcarpet\": [{\"colorbar\": {\"outlinewidth\": 0, \"ticks\": \"\"}, \"type\": \"contourcarpet\"}], \"heatmap\": [{\"colorbar\": {\"outlinewidth\": 0, \"ticks\": \"\"}, \"colorscale\": [[0.0, \"#0d0887\"], [0.1111111111111111, \"#46039f\"], [0.2222222222222222, \"#7201a8\"], [0.3333333333333333, \"#9c179e\"], [0.4444444444444444, \"#bd3786\"], [0.5555555555555556, \"#d8576b\"], [0.6666666666666666, \"#ed7953\"], [0.7777777777777778, \"#fb9f3a\"], [0.8888888888888888, \"#fdca26\"], [1.0, \"#f0f921\"]], \"type\": \"heatmap\"}], \"heatmapgl\": [{\"colorbar\": {\"outlinewidth\": 0, \"ticks\": \"\"}, \"colorscale\": [[0.0, \"#0d0887\"], [0.1111111111111111, \"#46039f\"], [0.2222222222222222, \"#7201a8\"], [0.3333333333333333, \"#9c179e\"], [0.4444444444444444, \"#bd3786\"], [0.5555555555555556, \"#d8576b\"], [0.6666666666666666, \"#ed7953\"], [0.7777777777777778, \"#fb9f3a\"], [0.8888888888888888, \"#fdca26\"], [1.0, \"#f0f921\"]], \"type\": \"heatmapgl\"}], \"histogram\": [{\"marker\": {\"colorbar\": {\"outlinewidth\": 0, \"ticks\": \"\"}}, \"type\": \"histogram\"}], \"histogram2d\": [{\"colorbar\": {\"outlinewidth\": 0, \"ticks\": \"\"}, \"colorscale\": [[0.0, \"#0d0887\"], [0.1111111111111111, \"#46039f\"], [0.2222222222222222, \"#7201a8\"], [0.3333333333333333, \"#9c179e\"], [0.4444444444444444, \"#bd3786\"], [0.5555555555555556, \"#d8576b\"], [0.6666666666666666, \"#ed7953\"], [0.7777777777777778, \"#fb9f3a\"], [0.8888888888888888, \"#fdca26\"], [1.0, \"#f0f921\"]], \"type\": \"histogram2d\"}], \"histogram2dcontour\": [{\"colorbar\": {\"outlinewidth\": 0, \"ticks\": \"\"}, \"colorscale\": [[0.0, \"#0d0887\"], [0.1111111111111111, \"#46039f\"], [0.2222222222222222, \"#7201a8\"], [0.3333333333333333, \"#9c179e\"], [0.4444444444444444, \"#bd3786\"], [0.5555555555555556, \"#d8576b\"], [0.6666666666666666, \"#ed7953\"], [0.7777777777777778, \"#fb9f3a\"], [0.8888888888888888, \"#fdca26\"], [1.0, \"#f0f921\"]], \"type\": \"histogram2dcontour\"}], \"mesh3d\": [{\"colorbar\": {\"outlinewidth\": 0, \"ticks\": \"\"}, \"type\": \"mesh3d\"}], \"parcoords\": [{\"line\": {\"colorbar\": {\"outlinewidth\": 0, \"ticks\": \"\"}}, \"type\": \"parcoords\"}], \"pie\": [{\"automargin\": true, \"type\": \"pie\"}], \"scatter\": [{\"marker\": {\"colorbar\": {\"outlinewidth\": 0, \"ticks\": \"\"}}, \"type\": \"scatter\"}], \"scatter3d\": [{\"line\": {\"colorbar\": {\"outlinewidth\": 0, \"ticks\": \"\"}}, \"marker\": {\"colorbar\": {\"outlinewidth\": 0, \"ticks\": \"\"}}, \"type\": \"scatter3d\"}], \"scattercarpet\": [{\"marker\": {\"colorbar\": {\"outlinewidth\": 0, \"ticks\": \"\"}}, \"type\": \"scattercarpet\"}], \"scattergeo\": [{\"marker\": {\"colorbar\": {\"outlinewidth\": 0, \"ticks\": \"\"}}, \"type\": \"scattergeo\"}], \"scattergl\": [{\"marker\": {\"colorbar\": {\"outlinewidth\": 0, \"ticks\": \"\"}}, \"type\": \"scattergl\"}], \"scattermapbox\": [{\"marker\": {\"colorbar\": {\"outlinewidth\": 0, \"ticks\": \"\"}}, \"type\": \"scattermapbox\"}], \"scatterpolar\": [{\"marker\": {\"colorbar\": {\"outlinewidth\": 0, \"ticks\": \"\"}}, \"type\": \"scatterpolar\"}], \"scatterpolargl\": [{\"marker\": {\"colorbar\": {\"outlinewidth\": 0, \"ticks\": \"\"}}, \"type\": \"scatterpolargl\"}], \"scatterternary\": [{\"marker\": {\"colorbar\": {\"outlinewidth\": 0, \"ticks\": \"\"}}, \"type\": \"scatterternary\"}], \"surface\": [{\"colorbar\": {\"outlinewidth\": 0, \"ticks\": \"\"}, \"colorscale\": [[0.0, \"#0d0887\"], [0.1111111111111111, \"#46039f\"], [0.2222222222222222, \"#7201a8\"], [0.3333333333333333, \"#9c179e\"], [0.4444444444444444, \"#bd3786\"], [0.5555555555555556, \"#d8576b\"], [0.6666666666666666, \"#ed7953\"], [0.7777777777777778, \"#fb9f3a\"], [0.8888888888888888, \"#fdca26\"], [1.0, \"#f0f921\"]], \"type\": \"surface\"}], \"table\": [{\"cells\": {\"fill\": {\"color\": \"#EBF0F8\"}, \"line\": {\"color\": \"white\"}}, \"header\": {\"fill\": {\"color\": \"#C8D4E3\"}, \"line\": {\"color\": \"white\"}}, \"type\": \"table\"}]}, \"layout\": {\"annotationdefaults\": {\"arrowcolor\": \"#2a3f5f\", \"arrowhead\": 0, \"arrowwidth\": 1}, \"autotypenumbers\": \"strict\", \"coloraxis\": {\"colorbar\": {\"outlinewidth\": 0, \"ticks\": \"\"}}, \"colorscale\": {\"diverging\": [[0, \"#8e0152\"], [0.1, \"#c51b7d\"], [0.2, \"#de77ae\"], [0.3, \"#f1b6da\"], [0.4, \"#fde0ef\"], [0.5, \"#f7f7f7\"], [0.6, \"#e6f5d0\"], [0.7, \"#b8e186\"], [0.8, \"#7fbc41\"], [0.9, \"#4d9221\"], [1, \"#276419\"]], \"sequential\": [[0.0, \"#0d0887\"], [0.1111111111111111, \"#46039f\"], [0.2222222222222222, \"#7201a8\"], [0.3333333333333333, \"#9c179e\"], [0.4444444444444444, \"#bd3786\"], [0.5555555555555556, \"#d8576b\"], [0.6666666666666666, \"#ed7953\"], [0.7777777777777778, \"#fb9f3a\"], [0.8888888888888888, \"#fdca26\"], [1.0, \"#f0f921\"]], \"sequentialminus\": [[0.0, \"#0d0887\"], [0.1111111111111111, \"#46039f\"], [0.2222222222222222, \"#7201a8\"], [0.3333333333333333, \"#9c179e\"], [0.4444444444444444, \"#bd3786\"], [0.5555555555555556, \"#d8576b\"], [0.6666666666666666, \"#ed7953\"], [0.7777777777777778, \"#fb9f3a\"], [0.8888888888888888, \"#fdca26\"], [1.0, \"#f0f921\"]]}, \"colorway\": [\"#636efa\", \"#EF553B\", \"#00cc96\", \"#ab63fa\", \"#FFA15A\", \"#19d3f3\", \"#FF6692\", \"#B6E880\", \"#FF97FF\", \"#FECB52\"], \"font\": {\"color\": \"#2a3f5f\"}, \"geo\": {\"bgcolor\": \"white\", \"lakecolor\": \"white\", \"landcolor\": \"#E5ECF6\", \"showlakes\": true, \"showland\": true, \"subunitcolor\": \"white\"}, \"hoverlabel\": {\"align\": \"left\"}, \"hovermode\": \"closest\", \"mapbox\": {\"style\": \"light\"}, \"paper_bgcolor\": \"white\", \"plot_bgcolor\": \"#E5ECF6\", \"polar\": {\"angularaxis\": {\"gridcolor\": \"white\", \"linecolor\": \"white\", \"ticks\": \"\"}, \"bgcolor\": \"#E5ECF6\", \"radialaxis\": {\"gridcolor\": \"white\", \"linecolor\": \"white\", \"ticks\": \"\"}}, \"scene\": {\"xaxis\": {\"backgroundcolor\": \"#E5ECF6\", \"gridcolor\": \"white\", \"gridwidth\": 2, \"linecolor\": \"white\", \"showbackground\": true, \"ticks\": \"\", \"zerolinecolor\": \"white\"}, \"yaxis\": {\"backgroundcolor\": \"#E5ECF6\", \"gridcolor\": \"white\", \"gridwidth\": 2, \"linecolor\": \"white\", \"showbackground\": true, \"ticks\": \"\", \"zerolinecolor\": \"white\"}, \"zaxis\": {\"backgroundcolor\": \"#E5ECF6\", \"gridcolor\": \"white\", \"gridwidth\": 2, \"linecolor\": \"white\", \"showbackground\": true, \"ticks\": \"\", \"zerolinecolor\": \"white\"}}, \"shapedefaults\": {\"line\": {\"color\": \"#2a3f5f\"}}, \"ternary\": {\"aaxis\": {\"gridcolor\": \"white\", \"linecolor\": \"white\", \"ticks\": \"\"}, \"baxis\": {\"gridcolor\": \"white\", \"linecolor\": \"white\", \"ticks\": \"\"}, \"bgcolor\": \"#E5ECF6\", \"caxis\": {\"gridcolor\": \"white\", \"linecolor\": \"white\", \"ticks\": \"\"}}, \"title\": {\"x\": 0.05}, \"xaxis\": {\"automargin\": true, \"gridcolor\": \"white\", \"linecolor\": \"white\", \"ticks\": \"\", \"title\": {\"standoff\": 15}, \"zerolinecolor\": \"white\", \"zerolinewidth\": 2}, \"yaxis\": {\"automargin\": true, \"gridcolor\": \"white\", \"linecolor\": \"white\", \"ticks\": \"\", \"title\": {\"standoff\": 15}, \"zerolinecolor\": \"white\", \"zerolinewidth\": 2}}}, \"title\": {\"text\": \"A\\u00f1o\"}},                        {\"responsive\": true}                    ).then(function(){\n",
       "                            \n",
       "var gd = document.getElementById('0cc4e48f-bc58-423e-ad62-b145766a7532');\n",
       "var x = new MutationObserver(function (mutations, observer) {{\n",
       "        var display = window.getComputedStyle(gd).display;\n",
       "        if (!display || display === 'none') {{\n",
       "            console.log([gd, 'removed!']);\n",
       "            Plotly.purge(gd);\n",
       "            observer.disconnect();\n",
       "        }}\n",
       "}});\n",
       "\n",
       "// Listen for the removal of the full notebook cells\n",
       "var notebookContainer = gd.closest('#notebook-container');\n",
       "if (notebookContainer) {{\n",
       "    x.observe(notebookContainer, {childList: true});\n",
       "}}\n",
       "\n",
       "// Listen for the clearing of the current output cell\n",
       "var outputEl = gd.closest('.output');\n",
       "if (outputEl) {{\n",
       "    x.observe(outputEl, {childList: true});\n",
       "}}\n",
       "\n",
       "                        })                };                });            </script>        </div>"
      ]
     },
     "metadata": {},
     "output_type": "display_data"
    }
   ],
   "source": [
    "fig = px.pie(caño, values='count', names='Año', title='Año')\n",
    "fig.show()"
   ]
  },
  {
   "cell_type": "markdown",
   "metadata": {
    "id": "syrEp5Wpbzve"
   },
   "source": [
    "#### Como el total son 1339 voy a dividir 1071 para entrenar y 268 para validacion, es decir,(80,20)\n"
   ]
  },
  {
   "cell_type": "code",
   "execution_count": 64,
   "metadata": {
    "id": "59hqQLEZ-5CO"
   },
   "outputs": [],
   "source": [
    "#round(len(MediaMovil)*0.8)"
   ]
  },
  {
   "cell_type": "code",
   "execution_count": 65,
   "metadata": {
    "id": "Z2AuO7imbzvf"
   },
   "outputs": [],
   "source": [
    "entrenamiento = MediaMovil[:round(len(MediaMovil)*0.8)]\n",
    "validacion = MediaMovil[round(len(MediaMovil)*0.8):]"
   ]
  },
  {
   "cell_type": "code",
   "execution_count": 66,
   "metadata": {
    "colab": {
     "base_uri": "https://localhost:8080/"
    },
    "id": "10SEUWIVbzvf",
    "outputId": "c557217e-b1d6-41d6-ee92-923ca15ef924"
   },
   "outputs": [
    {
     "data": {
      "text/plain": [
       "(1071, 2)"
      ]
     },
     "execution_count": 66,
     "metadata": {},
     "output_type": "execute_result"
    }
   ],
   "source": [
    "#comprobación de las dimensiones de los datos de entrenamiento\n",
    "entrenamiento.shape"
   ]
  },
  {
   "cell_type": "code",
   "execution_count": 67,
   "metadata": {
    "colab": {
     "base_uri": "https://localhost:8080/"
    },
    "id": "iUGWjg_6bzvf",
    "outputId": "bc227ae3-a523-4704-d825-e5aa462bed47"
   },
   "outputs": [
    {
     "data": {
      "text/plain": [
       "(268, 2)"
      ]
     },
     "execution_count": 67,
     "metadata": {},
     "output_type": "execute_result"
    }
   ],
   "source": [
    "#comprobación de las dimensiones de los datos de validacion\n",
    "validacion.shape"
   ]
  },
  {
   "cell_type": "markdown",
   "metadata": {
    "id": "-3py35rSbzvf"
   },
   "source": [
    "#### Se va a utilizar el RMSE o raiz del error cuadratico medio para verificar los valores"
   ]
  },
  {
   "cell_type": "code",
   "execution_count": 68,
   "metadata": {
    "id": "2zLkC0yBbzvg"
   },
   "outputs": [],
   "source": [
    "#Prediccion\n",
    "PrediccionMM = []"
   ]
  },
  {
   "cell_type": "code",
   "execution_count": 69,
   "metadata": {
    "id": "QjZ_rceqbzvg"
   },
   "outputs": [],
   "source": [
    "\n",
    "#len(validacion) = 268\n",
    "for i in range(0,validacion.shape[0]):\n",
    "    #1070-267+i:\n",
    "    #tiene que ser uno menos porque estoy usando la media movil\n",
    "    a = entrenamiento['Cerrar**'][len(entrenamiento)-(len(validacion)-1)+i:].sum() + sum(PrediccionMM)\n",
    "    b = a/(len(validacion)-1)\n",
    "    PrediccionMM.append(b)\n",
    "#Comprobacion de RMSE\n",
    "rmse=np.sqrt(np.mean(np.power((np.array(validacion['Cerrar**'])-PrediccionMM),2)))\n"
   ]
  },
  {
   "cell_type": "markdown",
   "metadata": {
    "id": "GeR-UqD9bzvg"
   },
   "source": [
    "<img src=\"https://miro.medium.com/max/700/1*qYxwsMuaYfhINbq3EteRYQ.png\">"
   ]
  },
  {
   "cell_type": "code",
   "execution_count": 70,
   "metadata": {
    "colab": {
     "base_uri": "https://localhost:8080/"
    },
    "id": "zimvguwbbzvg",
    "outputId": "ed0a99e7-4f70-4f2e-c57c-ae2e66f268bf"
   },
   "outputs": [
    {
     "name": "stdout",
     "output_type": "stream",
     "text": [
      "\n",
      " RMSE value on validation set:\n",
      "0.670973878735047\n"
     ]
    }
   ],
   "source": [
    "print('\\n RMSE value on validation set:')\n",
    "print(rmse)"
   ]
  },
  {
   "cell_type": "code",
   "execution_count": 71,
   "metadata": {
    "colab": {
     "base_uri": "https://localhost:8080/",
     "height": 565
    },
    "id": "A7wX8UOhbzvh",
    "outputId": "ed38ddba-6cc6-42ea-9f84-c4cf40209e5d"
   },
   "outputs": [
    {
     "name": "stderr",
     "output_type": "stream",
     "text": [
      "C:\\Users\\mivar\\Anaconda2\\envs\\py36\\lib\\site-packages\\ipykernel_launcher.py:4: SettingWithCopyWarning:\n",
      "\n",
      "\n",
      "A value is trying to be set on a copy of a slice from a DataFrame.\n",
      "Try using .loc[row_indexer,col_indexer] = value instead\n",
      "\n",
      "See the caveats in the documentation: https://pandas.pydata.org/pandas-docs/stable/user_guide/indexing.html#returning-a-view-versus-a-copy\n",
      "\n",
      "C:\\Users\\mivar\\Anaconda2\\envs\\py36\\lib\\site-packages\\ipykernel_launcher.py:5: SettingWithCopyWarning:\n",
      "\n",
      "\n",
      "A value is trying to be set on a copy of a slice from a DataFrame.\n",
      "Try using .loc[row_indexer,col_indexer] = value instead\n",
      "\n",
      "See the caveats in the documentation: https://pandas.pydata.org/pandas-docs/stable/user_guide/indexing.html#returning-a-view-versus-a-copy\n",
      "\n"
     ]
    },
    {
     "data": {
      "image/png": "[encoded data removed]",
      "text/plain": [
       "<Figure size 1152x432 with 1 Axes>"
      ]
     },
     "metadata": {
      "needs_background": "light"
     },
     "output_type": "display_data"
    }
   ],
   "source": [
    "#Visualización del resultado\n",
    "plt.figure(figsize=(16,6))\n",
    "plt.title('Media Movil')\n",
    "validacion['Predicion'] = 0\n",
    "validacion['Predicion'] = PrediccionMM\n",
    "plt.plot(entrenamiento['Cerrar**'],color='blue')\n",
    "plt.plot(validacion[['Cerrar**', 'Predicion']],color='red')\n",
    "plt.xlabel('Fecha')\n",
    "plt.ylabel('Cierre')\n",
    "\n",
    "plt.grid()"
   ]
  },
  {
   "cell_type": "code",
   "execution_count": 72,
   "metadata": {
    "id": "oyDf5H3ebzvh"
   },
   "outputs": [],
   "source": [
    "#TENDENDCIA ALCISTA"
   ]
  },
  {
   "cell_type": "markdown",
   "metadata": {
    "id": "QKsd2lNMbzvh"
   },
   "source": [
    "# Regresión lineal simple"
   ]
  },
  {
   "cell_type": "markdown",
   "metadata": {
    "id": "usArzBTqbzvi"
   },
   "source": [
    "El objetivo es tratar de explicar la relación que existe entre una variable dependiente (Y - variable respuesta) y una variable independiente (X - variable explicativa)\n",
    "\n",
    "El modelo de regresión lineal simple tiene la siguiente expresión:\n",
    "                    \n",
    "                    Y = a + bX\n",
    "\n",
    "En donde:\n",
    "- a es la ordenada en el origen \n",
    "- b es la pendiente de la recta \n",
    "\n",
    "Usaremos para resolverlo el método de mínimos cuadrados, que consiste en minimizar la suma de los cuadrados de los errores."
   ]
  },
  {
   "cell_type": "code",
   "execution_count": 73,
   "metadata": {},
   "outputs": [],
   "source": [
    "sc = MinMaxScaler(feature_range = (0, 1))\n"
   ]
  },
  {
   "cell_type": "markdown",
   "metadata": {
    "id": "cDFW-Y9Mbzvi"
   },
   "source": [
    "#### Como entrada usaremos el Dia de la semana"
   ]
  },
  {
   "cell_type": "code",
   "execution_count": 74,
   "metadata": {
    "colab": {
     "base_uri": "https://localhost:8080/",
     "height": 390
    },
    "id": "3BBaxD9Ybzvi",
    "outputId": "b63ce56b-80b4-489a-db2d-5225c7ce7f5f"
   },
   "outputs": [
    {
     "data": {
      "text/html": [
       "<div>\n",
       "<style scoped>\n",
       "    .dataframe tbody tr th:only-of-type {\n",
       "        vertical-align: middle;\n",
       "    }\n",
       "\n",
       "    .dataframe tbody tr th {\n",
       "        vertical-align: top;\n",
       "    }\n",
       "\n",
       "    .dataframe thead th {\n",
       "        text-align: right;\n",
       "    }\n",
       "</style>\n",
       "<table border=\"1\" class=\"dataframe\">\n",
       "  <thead>\n",
       "    <tr style=\"text-align: right;\">\n",
       "      <th></th>\n",
       "      <th>Dia_semana</th>\n",
       "    </tr>\n",
       "    <tr>\n",
       "      <th>fecha</th>\n",
       "      <th></th>\n",
       "    </tr>\n",
       "  </thead>\n",
       "  <tbody>\n",
       "    <tr>\n",
       "      <th>2017-10-01</th>\n",
       "      <td>1</td>\n",
       "    </tr>\n",
       "    <tr>\n",
       "      <th>2017-10-02</th>\n",
       "      <td>0</td>\n",
       "    </tr>\n",
       "    <tr>\n",
       "      <th>2017-10-03</th>\n",
       "      <td>6</td>\n",
       "    </tr>\n",
       "    <tr>\n",
       "      <th>2017-10-04</th>\n",
       "      <td>5</td>\n",
       "    </tr>\n",
       "    <tr>\n",
       "      <th>2017-10-05</th>\n",
       "      <td>4</td>\n",
       "    </tr>\n",
       "    <tr>\n",
       "      <th>2017-10-06</th>\n",
       "      <td>3</td>\n",
       "    </tr>\n",
       "    <tr>\n",
       "      <th>2017-10-07</th>\n",
       "      <td>2</td>\n",
       "    </tr>\n",
       "    <tr>\n",
       "      <th>2017-10-08</th>\n",
       "      <td>1</td>\n",
       "    </tr>\n",
       "    <tr>\n",
       "      <th>2017-10-09</th>\n",
       "      <td>0</td>\n",
       "    </tr>\n",
       "    <tr>\n",
       "      <th>2017-10-10</th>\n",
       "      <td>6</td>\n",
       "    </tr>\n",
       "  </tbody>\n",
       "</table>\n",
       "</div>"
      ],
      "text/plain": [
       "            Dia_semana\n",
       "fecha                 \n",
       "2017-10-01           1\n",
       "2017-10-02           0\n",
       "2017-10-03           6\n",
       "2017-10-04           5\n",
       "2017-10-05           4\n",
       "2017-10-06           3\n",
       "2017-10-07           2\n",
       "2017-10-08           1\n",
       "2017-10-09           0\n",
       "2017-10-10           6"
      ]
     },
     "execution_count": 74,
     "metadata": {},
     "output_type": "execute_result"
    }
   ],
   "source": [
    "#ENTRADAS\n",
    "X = datos.iloc[:,[11]]\n",
    "X.head(10)"
   ]
  },
  {
   "cell_type": "code",
   "execution_count": 75,
   "metadata": {},
   "outputs": [],
   "source": [
    "datos_NX = sc.fit_transform(X)"
   ]
  },
  {
   "cell_type": "code",
   "execution_count": 76,
   "metadata": {
    "colab": {
     "base_uri": "https://localhost:8080/",
     "height": 390
    },
    "id": "S9YStx-Nbzvi",
    "outputId": "3b61b0a1-36a6-4ab5-de9a-255af6d69de7",
    "scrolled": true
   },
   "outputs": [
    {
     "data": {
      "text/html": [
       "<div>\n",
       "<style scoped>\n",
       "    .dataframe tbody tr th:only-of-type {\n",
       "        vertical-align: middle;\n",
       "    }\n",
       "\n",
       "    .dataframe tbody tr th {\n",
       "        vertical-align: top;\n",
       "    }\n",
       "\n",
       "    .dataframe thead th {\n",
       "        text-align: right;\n",
       "    }\n",
       "</style>\n",
       "<table border=\"1\" class=\"dataframe\">\n",
       "  <thead>\n",
       "    <tr style=\"text-align: right;\">\n",
       "      <th></th>\n",
       "      <th>Cerrar**</th>\n",
       "    </tr>\n",
       "    <tr>\n",
       "      <th>fecha</th>\n",
       "      <th></th>\n",
       "    </tr>\n",
       "  </thead>\n",
       "  <tbody>\n",
       "    <tr>\n",
       "      <th>2017-10-01</th>\n",
       "      <td>0.02</td>\n",
       "    </tr>\n",
       "    <tr>\n",
       "      <th>2017-10-02</th>\n",
       "      <td>0.02</td>\n",
       "    </tr>\n",
       "    <tr>\n",
       "      <th>2017-10-03</th>\n",
       "      <td>0.02</td>\n",
       "    </tr>\n",
       "    <tr>\n",
       "      <th>2017-10-04</th>\n",
       "      <td>0.02</td>\n",
       "    </tr>\n",
       "    <tr>\n",
       "      <th>2017-10-05</th>\n",
       "      <td>0.02</td>\n",
       "    </tr>\n",
       "    <tr>\n",
       "      <th>2017-10-06</th>\n",
       "      <td>0.02</td>\n",
       "    </tr>\n",
       "    <tr>\n",
       "      <th>2017-10-07</th>\n",
       "      <td>0.02</td>\n",
       "    </tr>\n",
       "    <tr>\n",
       "      <th>2017-10-08</th>\n",
       "      <td>0.02</td>\n",
       "    </tr>\n",
       "    <tr>\n",
       "      <th>2017-10-09</th>\n",
       "      <td>0.02</td>\n",
       "    </tr>\n",
       "    <tr>\n",
       "      <th>2017-10-10</th>\n",
       "      <td>0.02</td>\n",
       "    </tr>\n",
       "  </tbody>\n",
       "</table>\n",
       "</div>"
      ],
      "text/plain": [
       "            Cerrar**\n",
       "fecha               \n",
       "2017-10-01      0.02\n",
       "2017-10-02      0.02\n",
       "2017-10-03      0.02\n",
       "2017-10-04      0.02\n",
       "2017-10-05      0.02\n",
       "2017-10-06      0.02\n",
       "2017-10-07      0.02\n",
       "2017-10-08      0.02\n",
       "2017-10-09      0.02\n",
       "2017-10-10      0.02"
      ]
     },
     "execution_count": 76,
     "metadata": {},
     "output_type": "execute_result"
    }
   ],
   "source": [
    "#SALIDAS\n",
    "y= datos.iloc[:,[4]]\n",
    "y.head(10)"
   ]
  },
  {
   "cell_type": "code",
   "execution_count": 77,
   "metadata": {},
   "outputs": [],
   "source": [
    "datos_NY = sc.fit_transform(y)"
   ]
  },
  {
   "cell_type": "code",
   "execution_count": 78,
   "metadata": {
    "colab": {
     "base_uri": "https://localhost:8080/",
     "height": 450
    },
    "id": "bLpO6f9-bzvj",
    "outputId": "9728a848-3a19-4cd2-9a56-69fdf3399086"
   },
   "outputs": [
    {
     "data": {
      "text/html": [
       "<div>\n",
       "<style scoped>\n",
       "    .dataframe tbody tr th:only-of-type {\n",
       "        vertical-align: middle;\n",
       "    }\n",
       "\n",
       "    .dataframe tbody tr th {\n",
       "        vertical-align: top;\n",
       "    }\n",
       "\n",
       "    .dataframe thead th {\n",
       "        text-align: right;\n",
       "    }\n",
       "</style>\n",
       "<table border=\"1\" class=\"dataframe\">\n",
       "  <thead>\n",
       "    <tr style=\"text-align: right;\">\n",
       "      <th></th>\n",
       "      <th>Dia_semana</th>\n",
       "      <th>Cerrar**</th>\n",
       "    </tr>\n",
       "    <tr>\n",
       "      <th>fecha</th>\n",
       "      <th></th>\n",
       "      <th></th>\n",
       "    </tr>\n",
       "  </thead>\n",
       "  <tbody>\n",
       "    <tr>\n",
       "      <th>2017-10-01</th>\n",
       "      <td>1</td>\n",
       "      <td>0.02</td>\n",
       "    </tr>\n",
       "    <tr>\n",
       "      <th>2017-10-02</th>\n",
       "      <td>0</td>\n",
       "      <td>0.02</td>\n",
       "    </tr>\n",
       "    <tr>\n",
       "      <th>2017-10-03</th>\n",
       "      <td>6</td>\n",
       "      <td>0.02</td>\n",
       "    </tr>\n",
       "    <tr>\n",
       "      <th>2017-10-04</th>\n",
       "      <td>5</td>\n",
       "      <td>0.02</td>\n",
       "    </tr>\n",
       "    <tr>\n",
       "      <th>2017-10-05</th>\n",
       "      <td>4</td>\n",
       "      <td>0.02</td>\n",
       "    </tr>\n",
       "    <tr>\n",
       "      <th>...</th>\n",
       "      <td>...</td>\n",
       "      <td>...</td>\n",
       "    </tr>\n",
       "    <tr>\n",
       "      <th>2021-05-27</th>\n",
       "      <td>4</td>\n",
       "      <td>1.35</td>\n",
       "    </tr>\n",
       "    <tr>\n",
       "      <th>2021-05-28</th>\n",
       "      <td>3</td>\n",
       "      <td>1.24</td>\n",
       "    </tr>\n",
       "    <tr>\n",
       "      <th>2021-05-29</th>\n",
       "      <td>2</td>\n",
       "      <td>1.15</td>\n",
       "    </tr>\n",
       "    <tr>\n",
       "      <th>2021-05-30</th>\n",
       "      <td>1</td>\n",
       "      <td>1.29</td>\n",
       "    </tr>\n",
       "    <tr>\n",
       "      <th>2021-05-31</th>\n",
       "      <td>0</td>\n",
       "      <td>1.43</td>\n",
       "    </tr>\n",
       "  </tbody>\n",
       "</table>\n",
       "<p>1339 rows × 2 columns</p>\n",
       "</div>"
      ],
      "text/plain": [
       "            Dia_semana  Cerrar**\n",
       "fecha                           \n",
       "2017-10-01           1      0.02\n",
       "2017-10-02           0      0.02\n",
       "2017-10-03           6      0.02\n",
       "2017-10-04           5      0.02\n",
       "2017-10-05           4      0.02\n",
       "...                ...       ...\n",
       "2021-05-27           4      1.35\n",
       "2021-05-28           3      1.24\n",
       "2021-05-29           2      1.15\n",
       "2021-05-30           1      1.29\n",
       "2021-05-31           0      1.43\n",
       "\n",
       "[1339 rows x 2 columns]"
      ]
     },
     "execution_count": 78,
     "metadata": {},
     "output_type": "execute_result"
    }
   ],
   "source": [
    "#Juntamos el nuevo Dataframe\n",
    "datasetmrs = pd.DataFrame()\n",
    "datasetmrs = pd.concat([datos.iloc[:,[11]], datos.iloc[:,[4]]], axis=1)\n",
    "datasetmrs"
   ]
  },
  {
   "cell_type": "code",
   "execution_count": 79,
   "metadata": {},
   "outputs": [],
   "source": [
    "#normalización"
   ]
  },
  {
   "cell_type": "code",
   "execution_count": 80,
   "metadata": {},
   "outputs": [
    {
     "data": {
      "text/plain": [
       "array([[0.16666667, 0.        ],\n",
       "       [0.        , 0.        ],\n",
       "       [1.        , 0.        ],\n",
       "       ...,\n",
       "       [0.33333333, 0.60106383],\n",
       "       [0.16666667, 0.67553191],\n",
       "       [0.        , 0.75      ]])"
      ]
     },
     "execution_count": 80,
     "metadata": {},
     "output_type": "execute_result"
    }
   ],
   "source": [
    "\n",
    "datos_N = sc.fit_transform(datasetmrs)\n",
    "datos_N"
   ]
  },
  {
   "cell_type": "code",
   "execution_count": 81,
   "metadata": {
    "colab": {
     "base_uri": "https://localhost:8080/",
     "height": 111
    },
    "id": "-rUNyN4cbzvj",
    "outputId": "b6fc92c1-bec7-479e-cff7-dfde36d15c0c"
   },
   "outputs": [
    {
     "data": {
      "text/html": [
       "<div>\n",
       "<style scoped>\n",
       "    .dataframe tbody tr th:only-of-type {\n",
       "        vertical-align: middle;\n",
       "    }\n",
       "\n",
       "    .dataframe tbody tr th {\n",
       "        vertical-align: top;\n",
       "    }\n",
       "\n",
       "    .dataframe thead th {\n",
       "        text-align: right;\n",
       "    }\n",
       "</style>\n",
       "<table border=\"1\" class=\"dataframe\">\n",
       "  <thead>\n",
       "    <tr style=\"text-align: right;\">\n",
       "      <th></th>\n",
       "      <th>Dia_semana</th>\n",
       "      <th>Cerrar**</th>\n",
       "    </tr>\n",
       "  </thead>\n",
       "  <tbody>\n",
       "    <tr>\n",
       "      <th>Dia_semana</th>\n",
       "      <td>1.000000</td>\n",
       "      <td>-0.006646</td>\n",
       "    </tr>\n",
       "    <tr>\n",
       "      <th>Cerrar**</th>\n",
       "      <td>-0.006646</td>\n",
       "      <td>1.000000</td>\n",
       "    </tr>\n",
       "  </tbody>\n",
       "</table>\n",
       "</div>"
      ],
      "text/plain": [
       "            Dia_semana  Cerrar**\n",
       "Dia_semana    1.000000 -0.006646\n",
       "Cerrar**     -0.006646  1.000000"
      ]
     },
     "execution_count": 81,
     "metadata": {},
     "output_type": "execute_result"
    }
   ],
   "source": [
    "datasetmrs.corr()"
   ]
  },
  {
   "cell_type": "code",
   "execution_count": 82,
   "metadata": {
    "id": "Y2O5-nBybzvj"
   },
   "outputs": [],
   "source": [
    "#Creacción del modelo de regresion lineal\n",
    "modelo1 = linear_model.LinearRegression()\n",
    "#Entrenamiento del modelo\n",
    "modelo1.fit(X, y)\n",
    "#Predicción\n",
    "y_modelo1=modelo1.predict(X)\n"
   ]
  },
  {
   "cell_type": "markdown",
   "metadata": {
    "id": "XCJzfpuWbzvj"
   },
   "source": [
    "#### Variables significativas"
   ]
  },
  {
   "cell_type": "code",
   "execution_count": 83,
   "metadata": {
    "colab": {
     "base_uri": "https://localhost:8080/"
    },
    "id": "c8Y2CnhIbzvk",
    "outputId": "a7684162-9317-4c75-d1b0-61e8a493feba"
   },
   "outputs": [
    {
     "name": "stdout",
     "output_type": "stream",
     "text": [
      "Pendiente (valor b) es: \n",
      " [[-0.00099452]]\n",
      "\n",
      "Ordenada (valor a) es: \n",
      " [0.19065722]\n",
      "\n",
      "El error cuadrático medio es: 0.09\n",
      "\n",
      "Varianza es: 0.00\n"
     ]
    }
   ],
   "source": [
    "# Pendiente\n",
    "print('Pendiente (valor b) es: \\n', modelo1.coef_)\n",
    "print()\n",
    "# Valor donde corta el eje Y (en X=0) \n",
    "print('Ordenada (valor a) es: \\n', modelo1.intercept_)\n",
    "print()\n",
    "\n",
    "# Error Cuadrado Medio\n",
    "print('El error cuadrático medio es: %.2f' % mean_squared_error(y, y_modelo1))\n",
    "print()\n",
    "# Puntaje de Varianza. El mejor puntaje es un 1.0, Precisión del modelo\n",
    "print('Varianza es: %.2f' % r2_score(y, y_modelo1))"
   ]
  },
  {
   "cell_type": "markdown",
   "metadata": {
    "id": "BE04mz19bzvk"
   },
   "source": [
    "Ecuación de la recta y= a + bX, salen:\n",
    "\n",
    "- b (coeficiente, pendiente) = 0.24237151\n",
    "- a (término independiente) = -0.12453437\n",
    "\n",
    "Como se puede observar el modelo obtenido no es lo suficiente complejo para abordar el problema.\n"
   ]
  },
  {
   "cell_type": "code",
   "execution_count": 84,
   "metadata": {
    "colab": {
     "base_uri": "https://localhost:8080/",
     "height": 442
    },
    "id": "zLh1nuujbzvk",
    "outputId": "7857e747-0ae1-4d92-840e-00a0e7c7ca3f"
   },
   "outputs": [
    {
     "data": {
      "image/png": "[encoded data removed]",
      "text/plain": [
       "<Figure size 720x504 with 1 Axes>"
      ]
     },
     "metadata": {
      "needs_background": "light"
     },
     "output_type": "display_data"
    }
   ],
   "source": [
    "fig = plt.figure(figsize=(10,7))\n",
    "plt.scatter(datasetmrs['Dia_semana'], datasetmrs['Cerrar**'])\n",
    "plt.plot(X, y_modelo1, color='red')\n",
    "plt.xlabel('Días')\n",
    "plt.ylabel('Cerrar**')\n",
    "plt.grid()"
   ]
  },
  {
   "cell_type": "code",
   "execution_count": 85,
   "metadata": {},
   "outputs": [
    {
     "name": "stdout",
     "output_type": "stream",
     "text": [
      "Precisión del modelo:\n",
      "4.4173950319414956e-05\n"
     ]
    }
   ],
   "source": [
    "# Precision del modelo\n",
    "print('Precisión del modelo:')\n",
    "print(modelo1.score(X, y))"
   ]
  },
  {
   "cell_type": "code",
   "execution_count": 86,
   "metadata": {
    "colab": {
     "base_uri": "https://localhost:8080/"
    },
    "id": "qsw0ZzKPbzvl",
    "outputId": "9ecc0bc4-cbab-46b8-e42a-4422289adbb3"
   },
   "outputs": [
    {
     "data": {
      "text/plain": [
       "array([[0.18767366]])"
      ]
     },
     "execution_count": 86,
     "metadata": {},
     "output_type": "execute_result"
    }
   ],
   "source": [
    "#Prediccion para los jueves\n",
    "predictedADA = modelo1.predict([[3]])\n",
    "predictedADA"
   ]
  },
  {
   "cell_type": "markdown",
   "metadata": {
    "id": "2RlE1nV9Dzkb"
   },
   "source": [
    "El problema es demasiado complejo para poder resolverse utilizando una regresion lineal simple,\n",
    " a continuancion se utilizarán técnicas mas complejas para las predicciones"
   ]
  },
  {
   "cell_type": "markdown",
   "metadata": {
    "id": "y77ekPyibzvm"
   },
   "source": [
    "# Regresión lineal multiple "
   ]
  },
  {
   "cell_type": "markdown",
   "metadata": {
    "id": "gcWZ4zidbzvm"
   },
   "source": [
    "## Tres variables de entrada y salida cierre del mercado"
   ]
  },
  {
   "cell_type": "markdown",
   "metadata": {
    "id": "Cs8f9kR2bzvm"
   },
   "source": [
    "En la regresión lineal multiple la ecuación de la recta es de la siguiente manera:\n",
    "\n",
    "                                    Y = b + m1 X1 + m2 X2 + … + m(n) X(n)\n",
    "                       \n",
    "Donde \"b\" es el término independiente y m(n) son los diferentes coeficientes según el número de variables empleadas en nuestra regresión."
   ]
  },
  {
   "cell_type": "code",
   "execution_count": 87,
   "metadata": {
    "colab": {
     "base_uri": "https://localhost:8080/",
     "height": 390
    },
    "id": "AMsMKpHEbzvn",
    "outputId": "622561fd-2d65-401b-eea8-5ba95c76eb07"
   },
   "outputs": [
    {
     "data": {
      "text/html": [
       "<div>\n",
       "<style scoped>\n",
       "    .dataframe tbody tr th:only-of-type {\n",
       "        vertical-align: middle;\n",
       "    }\n",
       "\n",
       "    .dataframe tbody tr th {\n",
       "        vertical-align: top;\n",
       "    }\n",
       "\n",
       "    .dataframe thead th {\n",
       "        text-align: right;\n",
       "    }\n",
       "</style>\n",
       "<table border=\"1\" class=\"dataframe\">\n",
       "  <thead>\n",
       "    <tr style=\"text-align: right;\">\n",
       "      <th></th>\n",
       "      <th>Dia</th>\n",
       "      <th>Mes</th>\n",
       "      <th>Año</th>\n",
       "      <th>Cerrar**</th>\n",
       "    </tr>\n",
       "    <tr>\n",
       "      <th>fecha</th>\n",
       "      <th></th>\n",
       "      <th></th>\n",
       "      <th></th>\n",
       "      <th></th>\n",
       "    </tr>\n",
       "  </thead>\n",
       "  <tbody>\n",
       "    <tr>\n",
       "      <th>2017-10-01</th>\n",
       "      <td>1</td>\n",
       "      <td>10</td>\n",
       "      <td>2017</td>\n",
       "      <td>0.02</td>\n",
       "    </tr>\n",
       "    <tr>\n",
       "      <th>2017-10-02</th>\n",
       "      <td>2</td>\n",
       "      <td>10</td>\n",
       "      <td>2017</td>\n",
       "      <td>0.02</td>\n",
       "    </tr>\n",
       "    <tr>\n",
       "      <th>2017-10-03</th>\n",
       "      <td>3</td>\n",
       "      <td>10</td>\n",
       "      <td>2017</td>\n",
       "      <td>0.02</td>\n",
       "    </tr>\n",
       "    <tr>\n",
       "      <th>2017-10-04</th>\n",
       "      <td>4</td>\n",
       "      <td>10</td>\n",
       "      <td>2017</td>\n",
       "      <td>0.02</td>\n",
       "    </tr>\n",
       "    <tr>\n",
       "      <th>2017-10-05</th>\n",
       "      <td>5</td>\n",
       "      <td>10</td>\n",
       "      <td>2017</td>\n",
       "      <td>0.02</td>\n",
       "    </tr>\n",
       "    <tr>\n",
       "      <th>2017-10-06</th>\n",
       "      <td>6</td>\n",
       "      <td>10</td>\n",
       "      <td>2017</td>\n",
       "      <td>0.02</td>\n",
       "    </tr>\n",
       "    <tr>\n",
       "      <th>2017-10-07</th>\n",
       "      <td>7</td>\n",
       "      <td>10</td>\n",
       "      <td>2017</td>\n",
       "      <td>0.02</td>\n",
       "    </tr>\n",
       "    <tr>\n",
       "      <th>2017-10-08</th>\n",
       "      <td>8</td>\n",
       "      <td>10</td>\n",
       "      <td>2017</td>\n",
       "      <td>0.02</td>\n",
       "    </tr>\n",
       "    <tr>\n",
       "      <th>2017-10-09</th>\n",
       "      <td>9</td>\n",
       "      <td>10</td>\n",
       "      <td>2017</td>\n",
       "      <td>0.02</td>\n",
       "    </tr>\n",
       "    <tr>\n",
       "      <th>2017-10-10</th>\n",
       "      <td>10</td>\n",
       "      <td>10</td>\n",
       "      <td>2017</td>\n",
       "      <td>0.02</td>\n",
       "    </tr>\n",
       "  </tbody>\n",
       "</table>\n",
       "</div>"
      ],
      "text/plain": [
       "            Dia  Mes   Año  Cerrar**\n",
       "fecha                               \n",
       "2017-10-01    1   10  2017      0.02\n",
       "2017-10-02    2   10  2017      0.02\n",
       "2017-10-03    3   10  2017      0.02\n",
       "2017-10-04    4   10  2017      0.02\n",
       "2017-10-05    5   10  2017      0.02\n",
       "2017-10-06    6   10  2017      0.02\n",
       "2017-10-07    7   10  2017      0.02\n",
       "2017-10-08    8   10  2017      0.02\n",
       "2017-10-09    9   10  2017      0.02\n",
       "2017-10-10   10   10  2017      0.02"
      ]
     },
     "execution_count": 87,
     "metadata": {},
     "output_type": "execute_result"
    }
   ],
   "source": [
    "#Dataset para mi estudio\n",
    "RLM = datos.iloc[:,[12,13,14,4]]\n",
    "RLM.head(10)"
   ]
  },
  {
   "cell_type": "code",
   "execution_count": 88,
   "metadata": {
    "colab": {
     "base_uri": "https://localhost:8080/"
    },
    "id": "SvnVAOFjbzvn",
    "outputId": "e6c50421-5a2e-4ac3-a49a-7880c08f7655"
   },
   "outputs": [
    {
     "data": {
      "text/plain": [
       "(1339, 4)"
      ]
     },
     "execution_count": 88,
     "metadata": {},
     "output_type": "execute_result"
    }
   ],
   "source": [
    "RLM.shape"
   ]
  },
  {
   "cell_type": "code",
   "execution_count": 89,
   "metadata": {
    "id": "a_I2IX35bzvn"
   },
   "outputs": [],
   "source": [
    "entrenamientoRLM = RLM[:round(len(RLM)*0.8)]\n",
    "validacionRLM = RLM[round(len(RLM)*0.8):]"
   ]
  },
  {
   "cell_type": "code",
   "execution_count": 90,
   "metadata": {
    "id": "5nYgbGgBbzvo"
   },
   "outputs": [],
   "source": [
    "x_trainRLM = entrenamientoRLM.drop('Cerrar**', axis=1)\n",
    "y_trainRLM = entrenamientoRLM['Cerrar**']\n",
    "x_validRLM = validacionRLM.drop('Cerrar**', axis=1)\n",
    "y_validRLM = validacionRLM['Cerrar**']"
   ]
  },
  {
   "cell_type": "code",
   "execution_count": null,
   "metadata": {},
   "outputs": [],
   "source": []
  },
  {
   "cell_type": "code",
   "execution_count": 91,
   "metadata": {
    "colab": {
     "base_uri": "https://localhost:8080/"
    },
    "id": "hIDfseXubzvo",
    "outputId": "5ff89ed1-6e54-4d62-d397-ac617d7b4fcc"
   },
   "outputs": [
    {
     "name": "stdout",
     "output_type": "stream",
     "text": [
      "Coeficientes: [-0.00020447 -0.01616368 -0.06552914]\n",
      "Intersección :\n",
      "132.49282214508705\n",
      "Precisión del modelo:\n",
      "0.293103076155645\n"
     ]
    }
   ],
   "source": [
    "# Creamos el modelo de regresion lineal\n",
    "modelo2 = linear_model.LinearRegression()\n",
    " \n",
    "# Entrenamos el modelo\n",
    "modelo2.fit(x_trainRLM, y_trainRLM)\n",
    " \n",
    "# Hacemos la prediccion\n",
    "y_modelo2 = modelo2.predict(x_validRLM)\n",
    " \n",
    "# Imprimimos los coeficientes\n",
    "print('Coeficientes:', modelo2.coef_)\n",
    "\n",
    "print('Intersección :')\n",
    "print(modelo2.intercept_)\n",
    "\n",
    "# Precision del modelo\n",
    "print('Precisión del modelo:')\n",
    "print(modelo2.score(x_trainRLM, y_trainRLM))"
   ]
  },
  {
   "cell_type": "code",
   "execution_count": 92,
   "metadata": {
    "colab": {
     "base_uri": "https://localhost:8080/"
    },
    "id": "ZYBWedQfbzvo",
    "outputId": "24311d58-4129-41a7-edb0-48a8f84b4c08"
   },
   "outputs": [
    {
     "data": {
      "text/plain": [
       "0.7326501260779432"
      ]
     },
     "execution_count": 92,
     "metadata": {},
     "output_type": "execute_result"
    }
   ],
   "source": [
    "#RMSE\n",
    "predicionRML = modelo2.predict(x_validRLM)\n",
    "rmse=np.sqrt(np.mean(np.power((np.array(y_validRLM)-np.array(predicionRML)),2)))\n",
    "rmse"
   ]
  },
  {
   "cell_type": "code",
   "execution_count": 93,
   "metadata": {
    "colab": {
     "base_uri": "https://localhost:8080/",
     "height": 565
    },
    "id": "-qIIabSEbzvo",
    "outputId": "abf98239-0b12-4769-80f2-fd8ed024b599"
   },
   "outputs": [
    {
     "name": "stderr",
     "output_type": "stream",
     "text": [
      "C:\\Users\\mivar\\Anaconda2\\envs\\py36\\lib\\site-packages\\ipykernel_launcher.py:5: SettingWithCopyWarning:\n",
      "\n",
      "\n",
      "A value is trying to be set on a copy of a slice from a DataFrame.\n",
      "Try using .loc[row_indexer,col_indexer] = value instead\n",
      "\n",
      "See the caveats in the documentation: https://pandas.pydata.org/pandas-docs/stable/user_guide/indexing.html#returning-a-view-versus-a-copy\n",
      "\n"
     ]
    },
    {
     "data": {
      "image/png": "[encoded data removed]",
      "text/plain": [
       "<Figure size 1152x432 with 1 Axes>"
      ]
     },
     "metadata": {
      "needs_background": "light"
     },
     "output_type": "display_data"
    }
   ],
   "source": [
    "#Visualización del resultado\n",
    "plt.figure(figsize=(16,6))\n",
    "plt.title('RLM DIA,MES Y AÑO')\n",
    "#validacionRLM['predicionRML'] = 0\n",
    "validacionRLM['predicionRML'] = predicionRML\n",
    "plt.plot(entrenamientoRLM['Cerrar**'],color='blue')\n",
    "plt.plot(validacionRLM['Cerrar**'],color='red')\n",
    "plt.plot(validacionRLM['predicionRML'],color='green')\n",
    "plt.xlabel('Fecha')\n",
    "plt.ylabel('Cierre')\n",
    "\n",
    "plt.grid()"
   ]
  },
  {
   "cell_type": "code",
   "execution_count": 94,
   "metadata": {
    "id": "VyjAkOJZbzvp"
   },
   "outputs": [],
   "source": [
    "#Prediccion basada solo en la futura fecha del dia 16 del 4 de 2021"
   ]
  },
  {
   "cell_type": "code",
   "execution_count": 95,
   "metadata": {
    "colab": {
     "base_uri": "https://localhost:8080/"
    },
    "id": "-bnlhIAvbzvp",
    "outputId": "8d7e9ae1-36ae-45b2-e8f4-647cf20e0331"
   },
   "outputs": [
    {
     "name": "stdout",
     "output_type": "stream",
     "text": [
      "El porcentaje respecto al día anterior será [-0.03875263]\n"
     ]
    }
   ],
   "source": [
    "predictedADA2 = modelo2.predict([[1,6,2021]])\n",
    "print('El porcentaje respecto al día anterior será',predictedADA2)"
   ]
  },
  {
   "cell_type": "code",
   "execution_count": 96,
   "metadata": {},
   "outputs": [
    {
     "data": {
      "text/plain": [
       "1071"
      ]
     },
     "execution_count": 96,
     "metadata": {},
     "output_type": "execute_result"
    }
   ],
   "source": [
    "len(entrenamientoRLM)"
   ]
  },
  {
   "cell_type": "markdown",
   "metadata": {
    "id": "zVj7piW9bzvq"
   },
   "source": [
    "## Cuatro variables de entrada y salida cierre del mercado"
   ]
  },
  {
   "cell_type": "code",
   "execution_count": 97,
   "metadata": {
    "colab": {
     "base_uri": "https://localhost:8080/",
     "height": 390
    },
    "id": "gDruNK_ubzvr",
    "outputId": "984f3ff0-d274-4192-9ddf-1a1147462790"
   },
   "outputs": [
    {
     "data": {
      "text/html": [
       "<div>\n",
       "<style scoped>\n",
       "    .dataframe tbody tr th:only-of-type {\n",
       "        vertical-align: middle;\n",
       "    }\n",
       "\n",
       "    .dataframe tbody tr th {\n",
       "        vertical-align: top;\n",
       "    }\n",
       "\n",
       "    .dataframe thead th {\n",
       "        text-align: right;\n",
       "    }\n",
       "</style>\n",
       "<table border=\"1\" class=\"dataframe\">\n",
       "  <thead>\n",
       "    <tr style=\"text-align: right;\">\n",
       "      <th></th>\n",
       "      <th>Abrir*</th>\n",
       "      <th>Dia</th>\n",
       "      <th>Mes</th>\n",
       "      <th>Año</th>\n",
       "      <th>Cerrar**</th>\n",
       "    </tr>\n",
       "    <tr>\n",
       "      <th>fecha</th>\n",
       "      <th></th>\n",
       "      <th></th>\n",
       "      <th></th>\n",
       "      <th></th>\n",
       "      <th></th>\n",
       "    </tr>\n",
       "  </thead>\n",
       "  <tbody>\n",
       "    <tr>\n",
       "      <th>2017-10-01</th>\n",
       "      <td>0.02</td>\n",
       "      <td>1</td>\n",
       "      <td>10</td>\n",
       "      <td>2017</td>\n",
       "      <td>0.02</td>\n",
       "    </tr>\n",
       "    <tr>\n",
       "      <th>2017-10-02</th>\n",
       "      <td>0.02</td>\n",
       "      <td>2</td>\n",
       "      <td>10</td>\n",
       "      <td>2017</td>\n",
       "      <td>0.02</td>\n",
       "    </tr>\n",
       "    <tr>\n",
       "      <th>2017-10-03</th>\n",
       "      <td>0.02</td>\n",
       "      <td>3</td>\n",
       "      <td>10</td>\n",
       "      <td>2017</td>\n",
       "      <td>0.02</td>\n",
       "    </tr>\n",
       "    <tr>\n",
       "      <th>2017-10-04</th>\n",
       "      <td>0.02</td>\n",
       "      <td>4</td>\n",
       "      <td>10</td>\n",
       "      <td>2017</td>\n",
       "      <td>0.02</td>\n",
       "    </tr>\n",
       "    <tr>\n",
       "      <th>2017-10-05</th>\n",
       "      <td>0.02</td>\n",
       "      <td>5</td>\n",
       "      <td>10</td>\n",
       "      <td>2017</td>\n",
       "      <td>0.02</td>\n",
       "    </tr>\n",
       "    <tr>\n",
       "      <th>2017-10-06</th>\n",
       "      <td>0.02</td>\n",
       "      <td>6</td>\n",
       "      <td>10</td>\n",
       "      <td>2017</td>\n",
       "      <td>0.02</td>\n",
       "    </tr>\n",
       "    <tr>\n",
       "      <th>2017-10-07</th>\n",
       "      <td>0.02</td>\n",
       "      <td>7</td>\n",
       "      <td>10</td>\n",
       "      <td>2017</td>\n",
       "      <td>0.02</td>\n",
       "    </tr>\n",
       "    <tr>\n",
       "      <th>2017-10-08</th>\n",
       "      <td>0.02</td>\n",
       "      <td>8</td>\n",
       "      <td>10</td>\n",
       "      <td>2017</td>\n",
       "      <td>0.02</td>\n",
       "    </tr>\n",
       "    <tr>\n",
       "      <th>2017-10-09</th>\n",
       "      <td>0.02</td>\n",
       "      <td>9</td>\n",
       "      <td>10</td>\n",
       "      <td>2017</td>\n",
       "      <td>0.02</td>\n",
       "    </tr>\n",
       "    <tr>\n",
       "      <th>2017-10-10</th>\n",
       "      <td>0.02</td>\n",
       "      <td>10</td>\n",
       "      <td>10</td>\n",
       "      <td>2017</td>\n",
       "      <td>0.02</td>\n",
       "    </tr>\n",
       "  </tbody>\n",
       "</table>\n",
       "</div>"
      ],
      "text/plain": [
       "            Abrir*  Dia  Mes   Año  Cerrar**\n",
       "fecha                                       \n",
       "2017-10-01    0.02    1   10  2017      0.02\n",
       "2017-10-02    0.02    2   10  2017      0.02\n",
       "2017-10-03    0.02    3   10  2017      0.02\n",
       "2017-10-04    0.02    4   10  2017      0.02\n",
       "2017-10-05    0.02    5   10  2017      0.02\n",
       "2017-10-06    0.02    6   10  2017      0.02\n",
       "2017-10-07    0.02    7   10  2017      0.02\n",
       "2017-10-08    0.02    8   10  2017      0.02\n",
       "2017-10-09    0.02    9   10  2017      0.02\n",
       "2017-10-10    0.02   10   10  2017      0.02"
      ]
     },
     "execution_count": 97,
     "metadata": {},
     "output_type": "execute_result"
    }
   ],
   "source": [
    "#Dataset para mi estudio\n",
    "RLM2 = datos.iloc[:,[1,12,13,14,4]]\n",
    "RLM2.head(10)"
   ]
  },
  {
   "cell_type": "code",
   "execution_count": 98,
   "metadata": {
    "colab": {
     "base_uri": "https://localhost:8080/"
    },
    "id": "fgUtqPgubzvr",
    "outputId": "16cf676c-17bb-4a63-f518-a945a0afe15e"
   },
   "outputs": [
    {
     "data": {
      "text/plain": [
       "(1339, 5)"
      ]
     },
     "execution_count": 98,
     "metadata": {},
     "output_type": "execute_result"
    }
   ],
   "source": [
    "RLM2.shape"
   ]
  },
  {
   "cell_type": "code",
   "execution_count": 99,
   "metadata": {
    "id": "d5qblkmEbzvr"
   },
   "outputs": [],
   "source": [
    "entrenamientoRLM2 = RLM2[:round(len(RLM2)*0.8)]\n",
    "validacionRLM2 = RLM2[round(len(RLM2)*0.8):]"
   ]
  },
  {
   "cell_type": "code",
   "execution_count": 100,
   "metadata": {},
   "outputs": [],
   "source": [
    "x_trainRLM2 = entrenamientoRLM2.drop('Cerrar**', axis=1)\n",
    "y_trainRLM2 = entrenamientoRLM2['Cerrar**']\n",
    "x_validRLM2 = validacionRLM2.drop('Cerrar**', axis=1)\n",
    "y_validRLM2 = validacionRLM2['Cerrar**']"
   ]
  },
  {
   "cell_type": "code",
   "execution_count": 101,
   "metadata": {
    "colab": {
     "base_uri": "https://localhost:8080/"
    },
    "id": "KYOL4ekobzvs",
    "outputId": "f4029a16-4a69-4832-e399-d9ba89dc4f19"
   },
   "outputs": [
    {
     "name": "stdout",
     "output_type": "stream",
     "text": [
      "Coeficientes: [ 9.86744264e-01  3.50961139e-05  1.46460582e-04 -8.46823261e-04]\n",
      "Intersección :\n",
      "1.7093756751625249\n",
      "Precisión del modelo:\n",
      "0.979134546436275\n"
     ]
    }
   ],
   "source": [
    "# Creamos el modelo de regresion lineal\n",
    "modelo3 = linear_model.LinearRegression()\n",
    " \n",
    "# Entrenamos el modelo\n",
    "modelo3.fit(x_trainRLM2, y_trainRLM2)\n",
    " \n",
    "# Hacemos la prediccion\n",
    "y_modelo3 = modelo3.predict(x_validRLM2)\n",
    " \n",
    "# Imprimimos los coeficientes\n",
    "print('Coeficientes:', modelo3.coef_)\n",
    "\n",
    "print('Intersección :')\n",
    "print(modelo3.intercept_)\n",
    "\n",
    "# Precision del modelo\n",
    "print('Precisión del modelo:')\n",
    "print(modelo3.score(x_trainRLM2, y_trainRLM2))"
   ]
  },
  {
   "cell_type": "code",
   "execution_count": 102,
   "metadata": {
    "colab": {
     "base_uri": "https://localhost:8080/"
    },
    "id": "eQf4M04ebzvs",
    "outputId": "5c0d3879-fe0d-4c70-eab6-b7fa129f56d1"
   },
   "outputs": [
    {
     "data": {
      "text/plain": [
       "0.06532784581944721"
      ]
     },
     "execution_count": 102,
     "metadata": {},
     "output_type": "execute_result"
    }
   ],
   "source": [
    "#RMSE\n",
    "predicionRML2 = modelo3.predict(x_validRLM2)\n",
    "rmse2=np.sqrt(np.mean(np.power((np.array(y_validRLM2)-np.array(predicionRML2)),2)))\n",
    "rmse2"
   ]
  },
  {
   "cell_type": "code",
   "execution_count": 103,
   "metadata": {},
   "outputs": [
    {
     "data": {
      "text/plain": [
       "(268,)"
      ]
     },
     "execution_count": 103,
     "metadata": {},
     "output_type": "execute_result"
    }
   ],
   "source": [
    "y_validRLM2.shape"
   ]
  },
  {
   "cell_type": "code",
   "execution_count": 104,
   "metadata": {
    "colab": {
     "base_uri": "https://localhost:8080/",
     "height": 565
    },
    "id": "8Z6-2DBLbzvs",
    "outputId": "17b5ebf6-ea58-4f04-888f-f93b6c11748d"
   },
   "outputs": [
    {
     "name": "stderr",
     "output_type": "stream",
     "text": [
      "C:\\Users\\mivar\\Anaconda2\\envs\\py36\\lib\\site-packages\\ipykernel_launcher.py:4: SettingWithCopyWarning:\n",
      "\n",
      "\n",
      "A value is trying to be set on a copy of a slice from a DataFrame.\n",
      "Try using .loc[row_indexer,col_indexer] = value instead\n",
      "\n",
      "See the caveats in the documentation: https://pandas.pydata.org/pandas-docs/stable/user_guide/indexing.html#returning-a-view-versus-a-copy\n",
      "\n",
      "C:\\Users\\mivar\\Anaconda2\\envs\\py36\\lib\\site-packages\\ipykernel_launcher.py:5: SettingWithCopyWarning:\n",
      "\n",
      "\n",
      "A value is trying to be set on a copy of a slice from a DataFrame.\n",
      "Try using .loc[row_indexer,col_indexer] = value instead\n",
      "\n",
      "See the caveats in the documentation: https://pandas.pydata.org/pandas-docs/stable/user_guide/indexing.html#returning-a-view-versus-a-copy\n",
      "\n"
     ]
    },
    {
     "data": {
      "image/png": "[encoded data removed]",
      "text/plain": [
       "<Figure size 1152x432 with 1 Axes>"
      ]
     },
     "metadata": {
      "needs_background": "light"
     },
     "output_type": "display_data"
    }
   ],
   "source": [
    "#Visualización del resultado\n",
    "plt.figure(figsize=(16,6))\n",
    "plt.title('RLM con cierre, día, mes y año')\n",
    "validacionRLM2['predicionRML2'] = 0\n",
    "validacionRLM2['predicionRML2'] = predicionRML2\n",
    "plt.plot(entrenamientoRLM2['Cerrar**'],color='blue',label='entrenamiento')\n",
    "plt.plot(validacionRLM2['Cerrar**'],color='red',label='validacion')\n",
    "plt.plot(validacionRLM2['predicionRML2'],color='green',label='predicción')\n",
    "plt.xlabel('Fecha')\n",
    "plt.ylabel('Cierre')\n",
    "plt.legend(loc='upper left',fontsize=12)\n",
    "plt.grid()"
   ]
  },
  {
   "cell_type": "markdown",
   "metadata": {
    "id": "iM30xBg3bzvt"
   },
   "source": [
    "# Prediccion usando el modelo de regresión lineal multiple"
   ]
  },
  {
   "cell_type": "code",
   "execution_count": 105,
   "metadata": {
    "colab": {
     "base_uri": "https://localhost:8080/"
    },
    "id": "B0eSYeqobzvt",
    "outputId": "ab897e52-d80a-4fcb-8103-51bf24dbe2ef"
   },
   "outputs": [
    {
     "name": "stdout",
     "output_type": "stream",
     "text": [
      "La prediccion es:  [1.27266625]\n"
     ]
    }
   ],
   "source": [
    "predictedADA3 = modelo3.predict([[1.29,31,5,2021]])\n",
    "print('La prediccion es: ',predictedADA3)"
   ]
  },
  {
   "cell_type": "code",
   "execution_count": null,
   "metadata": {},
   "outputs": [],
   "source": []
  },
  {
   "cell_type": "markdown",
   "metadata": {
    "id": "VeEE31F9bzvt"
   },
   "source": [
    "# SUPPORT VECTOR REGRESSION"
   ]
  },
  {
   "cell_type": "code",
   "execution_count": 106,
   "metadata": {
    "colab": {
     "base_uri": "https://localhost:8080/",
     "height": 390
    },
    "id": "oybyS6Uqbzvu",
    "outputId": "7d01fe71-e707-489f-88eb-1db5d0cb3629"
   },
   "outputs": [
    {
     "data": {
      "text/html": [
       "<div>\n",
       "<style scoped>\n",
       "    .dataframe tbody tr th:only-of-type {\n",
       "        vertical-align: middle;\n",
       "    }\n",
       "\n",
       "    .dataframe tbody tr th {\n",
       "        vertical-align: top;\n",
       "    }\n",
       "\n",
       "    .dataframe thead th {\n",
       "        text-align: right;\n",
       "    }\n",
       "</style>\n",
       "<table border=\"1\" class=\"dataframe\">\n",
       "  <thead>\n",
       "    <tr style=\"text-align: right;\">\n",
       "      <th></th>\n",
       "      <th>Abrir*</th>\n",
       "      <th>Elevar</th>\n",
       "      <th>Disminuir</th>\n",
       "      <th>Cerrar**</th>\n",
       "      <th>Volumen</th>\n",
       "      <th>Cap. de Mercado</th>\n",
       "      <th>Dia</th>\n",
       "      <th>Mes</th>\n",
       "      <th>Año</th>\n",
       "    </tr>\n",
       "    <tr>\n",
       "      <th>fecha</th>\n",
       "      <th></th>\n",
       "      <th></th>\n",
       "      <th></th>\n",
       "      <th></th>\n",
       "      <th></th>\n",
       "      <th></th>\n",
       "      <th></th>\n",
       "      <th></th>\n",
       "      <th></th>\n",
       "    </tr>\n",
       "  </thead>\n",
       "  <tbody>\n",
       "    <tr>\n",
       "      <th>2017-10-01</th>\n",
       "      <td>0.02</td>\n",
       "      <td>0.03</td>\n",
       "      <td>0.01</td>\n",
       "      <td>0.02</td>\n",
       "      <td>42387995</td>\n",
       "      <td>0</td>\n",
       "      <td>1</td>\n",
       "      <td>10</td>\n",
       "      <td>2017</td>\n",
       "    </tr>\n",
       "    <tr>\n",
       "      <th>2017-10-02</th>\n",
       "      <td>0.02</td>\n",
       "      <td>0.03</td>\n",
       "      <td>0.02</td>\n",
       "      <td>0.02</td>\n",
       "      <td>48840281</td>\n",
       "      <td>532874980</td>\n",
       "      <td>2</td>\n",
       "      <td>10</td>\n",
       "      <td>2017</td>\n",
       "    </tr>\n",
       "    <tr>\n",
       "      <th>2017-10-03</th>\n",
       "      <td>0.02</td>\n",
       "      <td>0.02</td>\n",
       "      <td>0.02</td>\n",
       "      <td>0.02</td>\n",
       "      <td>14490878</td>\n",
       "      <td>460096091</td>\n",
       "      <td>3</td>\n",
       "      <td>10</td>\n",
       "      <td>2017</td>\n",
       "    </tr>\n",
       "    <tr>\n",
       "      <th>2017-10-04</th>\n",
       "      <td>0.02</td>\n",
       "      <td>0.02</td>\n",
       "      <td>0.02</td>\n",
       "      <td>0.02</td>\n",
       "      <td>7660921</td>\n",
       "      <td>484013915</td>\n",
       "      <td>4</td>\n",
       "      <td>10</td>\n",
       "      <td>2017</td>\n",
       "    </tr>\n",
       "    <tr>\n",
       "      <th>2017-10-05</th>\n",
       "      <td>0.02</td>\n",
       "      <td>0.02</td>\n",
       "      <td>0.02</td>\n",
       "      <td>0.02</td>\n",
       "      <td>4732440</td>\n",
       "      <td>473999524</td>\n",
       "      <td>5</td>\n",
       "      <td>10</td>\n",
       "      <td>2017</td>\n",
       "    </tr>\n",
       "    <tr>\n",
       "      <th>2017-10-06</th>\n",
       "      <td>0.02</td>\n",
       "      <td>0.02</td>\n",
       "      <td>0.02</td>\n",
       "      <td>0.02</td>\n",
       "      <td>6644500</td>\n",
       "      <td>410473573</td>\n",
       "      <td>6</td>\n",
       "      <td>10</td>\n",
       "      <td>2017</td>\n",
       "    </tr>\n",
       "    <tr>\n",
       "      <th>2017-10-07</th>\n",
       "      <td>0.02</td>\n",
       "      <td>0.02</td>\n",
       "      <td>0.02</td>\n",
       "      <td>0.02</td>\n",
       "      <td>6316577</td>\n",
       "      <td>462742855</td>\n",
       "      <td>7</td>\n",
       "      <td>10</td>\n",
       "      <td>2017</td>\n",
       "    </tr>\n",
       "    <tr>\n",
       "      <th>2017-10-08</th>\n",
       "      <td>0.02</td>\n",
       "      <td>0.02</td>\n",
       "      <td>0.02</td>\n",
       "      <td>0.02</td>\n",
       "      <td>6586091</td>\n",
       "      <td>452496215</td>\n",
       "      <td>8</td>\n",
       "      <td>10</td>\n",
       "      <td>2017</td>\n",
       "    </tr>\n",
       "    <tr>\n",
       "      <th>2017-10-09</th>\n",
       "      <td>0.02</td>\n",
       "      <td>0.02</td>\n",
       "      <td>0.02</td>\n",
       "      <td>0.02</td>\n",
       "      <td>3971478</td>\n",
       "      <td>488284330</td>\n",
       "      <td>9</td>\n",
       "      <td>10</td>\n",
       "      <td>2017</td>\n",
       "    </tr>\n",
       "    <tr>\n",
       "      <th>2017-10-10</th>\n",
       "      <td>0.02</td>\n",
       "      <td>0.02</td>\n",
       "      <td>0.02</td>\n",
       "      <td>0.02</td>\n",
       "      <td>2321042</td>\n",
       "      <td>475384087</td>\n",
       "      <td>10</td>\n",
       "      <td>10</td>\n",
       "      <td>2017</td>\n",
       "    </tr>\n",
       "  </tbody>\n",
       "</table>\n",
       "</div>"
      ],
      "text/plain": [
       "            Abrir*  Elevar  Disminuir  Cerrar**   Volumen  Cap. de Mercado  \\\n",
       "fecha                                                                        \n",
       "2017-10-01    0.02    0.03       0.01      0.02  42387995                0   \n",
       "2017-10-02    0.02    0.03       0.02      0.02  48840281        532874980   \n",
       "2017-10-03    0.02    0.02       0.02      0.02  14490878        460096091   \n",
       "2017-10-04    0.02    0.02       0.02      0.02   7660921        484013915   \n",
       "2017-10-05    0.02    0.02       0.02      0.02   4732440        473999524   \n",
       "2017-10-06    0.02    0.02       0.02      0.02   6644500        410473573   \n",
       "2017-10-07    0.02    0.02       0.02      0.02   6316577        462742855   \n",
       "2017-10-08    0.02    0.02       0.02      0.02   6586091        452496215   \n",
       "2017-10-09    0.02    0.02       0.02      0.02   3971478        488284330   \n",
       "2017-10-10    0.02    0.02       0.02      0.02   2321042        475384087   \n",
       "\n",
       "            Dia  Mes   Año  \n",
       "fecha                       \n",
       "2017-10-01    1   10  2017  \n",
       "2017-10-02    2   10  2017  \n",
       "2017-10-03    3   10  2017  \n",
       "2017-10-04    4   10  2017  \n",
       "2017-10-05    5   10  2017  \n",
       "2017-10-06    6   10  2017  \n",
       "2017-10-07    7   10  2017  \n",
       "2017-10-08    8   10  2017  \n",
       "2017-10-09    9   10  2017  \n",
       "2017-10-10   10   10  2017  "
      ]
     },
     "execution_count": 106,
     "metadata": {},
     "output_type": "execute_result"
    }
   ],
   "source": [
    "#ENTRADAS\n",
    "X4 = datos.iloc[:,[1,2,3,4,5,6,12,13,14]]\n",
    "X4.head(10)"
   ]
  },
  {
   "cell_type": "code",
   "execution_count": null,
   "metadata": {},
   "outputs": [],
   "source": []
  },
  {
   "cell_type": "code",
   "execution_count": 107,
   "metadata": {
    "id": "8Nl2SED8bzvu"
   },
   "outputs": [],
   "source": [
    "X = datos.iloc[:,[1,2,3,12,13,14]]\n",
    "Y = datos.iloc[:,[4]]"
   ]
  },
  {
   "cell_type": "code",
   "execution_count": 108,
   "metadata": {},
   "outputs": [
    {
     "data": {
      "text/html": [
       "<div>\n",
       "<style scoped>\n",
       "    .dataframe tbody tr th:only-of-type {\n",
       "        vertical-align: middle;\n",
       "    }\n",
       "\n",
       "    .dataframe tbody tr th {\n",
       "        vertical-align: top;\n",
       "    }\n",
       "\n",
       "    .dataframe thead th {\n",
       "        text-align: right;\n",
       "    }\n",
       "</style>\n",
       "<table border=\"1\" class=\"dataframe\">\n",
       "  <thead>\n",
       "    <tr style=\"text-align: right;\">\n",
       "      <th></th>\n",
       "      <th>Abrir*</th>\n",
       "      <th>Elevar</th>\n",
       "      <th>Disminuir</th>\n",
       "      <th>Dia</th>\n",
       "      <th>Mes</th>\n",
       "      <th>Año</th>\n",
       "    </tr>\n",
       "    <tr>\n",
       "      <th>fecha</th>\n",
       "      <th></th>\n",
       "      <th></th>\n",
       "      <th></th>\n",
       "      <th></th>\n",
       "      <th></th>\n",
       "      <th></th>\n",
       "    </tr>\n",
       "  </thead>\n",
       "  <tbody>\n",
       "    <tr>\n",
       "      <th>2017-10-01</th>\n",
       "      <td>0.02</td>\n",
       "      <td>0.03</td>\n",
       "      <td>0.01</td>\n",
       "      <td>1</td>\n",
       "      <td>10</td>\n",
       "      <td>2017</td>\n",
       "    </tr>\n",
       "    <tr>\n",
       "      <th>2017-10-02</th>\n",
       "      <td>0.02</td>\n",
       "      <td>0.03</td>\n",
       "      <td>0.02</td>\n",
       "      <td>2</td>\n",
       "      <td>10</td>\n",
       "      <td>2017</td>\n",
       "    </tr>\n",
       "    <tr>\n",
       "      <th>2017-10-03</th>\n",
       "      <td>0.02</td>\n",
       "      <td>0.02</td>\n",
       "      <td>0.02</td>\n",
       "      <td>3</td>\n",
       "      <td>10</td>\n",
       "      <td>2017</td>\n",
       "    </tr>\n",
       "    <tr>\n",
       "      <th>2017-10-04</th>\n",
       "      <td>0.02</td>\n",
       "      <td>0.02</td>\n",
       "      <td>0.02</td>\n",
       "      <td>4</td>\n",
       "      <td>10</td>\n",
       "      <td>2017</td>\n",
       "    </tr>\n",
       "    <tr>\n",
       "      <th>2017-10-05</th>\n",
       "      <td>0.02</td>\n",
       "      <td>0.02</td>\n",
       "      <td>0.02</td>\n",
       "      <td>5</td>\n",
       "      <td>10</td>\n",
       "      <td>2017</td>\n",
       "    </tr>\n",
       "    <tr>\n",
       "      <th>...</th>\n",
       "      <td>...</td>\n",
       "      <td>...</td>\n",
       "      <td>...</td>\n",
       "      <td>...</td>\n",
       "      <td>...</td>\n",
       "      <td>...</td>\n",
       "    </tr>\n",
       "    <tr>\n",
       "      <th>2021-05-27</th>\n",
       "      <td>1.46</td>\n",
       "      <td>1.47</td>\n",
       "      <td>1.32</td>\n",
       "      <td>27</td>\n",
       "      <td>5</td>\n",
       "      <td>2021</td>\n",
       "    </tr>\n",
       "    <tr>\n",
       "      <th>2021-05-28</th>\n",
       "      <td>1.35</td>\n",
       "      <td>1.38</td>\n",
       "      <td>1.19</td>\n",
       "      <td>28</td>\n",
       "      <td>5</td>\n",
       "      <td>2021</td>\n",
       "    </tr>\n",
       "    <tr>\n",
       "      <th>2021-05-29</th>\n",
       "      <td>1.24</td>\n",
       "      <td>1.28</td>\n",
       "      <td>1.10</td>\n",
       "      <td>29</td>\n",
       "      <td>5</td>\n",
       "      <td>2021</td>\n",
       "    </tr>\n",
       "    <tr>\n",
       "      <th>2021-05-30</th>\n",
       "      <td>1.15</td>\n",
       "      <td>1.39</td>\n",
       "      <td>1.11</td>\n",
       "      <td>30</td>\n",
       "      <td>5</td>\n",
       "      <td>2021</td>\n",
       "    </tr>\n",
       "    <tr>\n",
       "      <th>2021-05-31</th>\n",
       "      <td>1.29</td>\n",
       "      <td>1.44</td>\n",
       "      <td>1.25</td>\n",
       "      <td>31</td>\n",
       "      <td>5</td>\n",
       "      <td>2021</td>\n",
       "    </tr>\n",
       "  </tbody>\n",
       "</table>\n",
       "<p>1339 rows × 6 columns</p>\n",
       "</div>"
      ],
      "text/plain": [
       "            Abrir*  Elevar  Disminuir  Dia  Mes   Año\n",
       "fecha                                                \n",
       "2017-10-01    0.02    0.03       0.01    1   10  2017\n",
       "2017-10-02    0.02    0.03       0.02    2   10  2017\n",
       "2017-10-03    0.02    0.02       0.02    3   10  2017\n",
       "2017-10-04    0.02    0.02       0.02    4   10  2017\n",
       "2017-10-05    0.02    0.02       0.02    5   10  2017\n",
       "...            ...     ...        ...  ...  ...   ...\n",
       "2021-05-27    1.46    1.47       1.32   27    5  2021\n",
       "2021-05-28    1.35    1.38       1.19   28    5  2021\n",
       "2021-05-29    1.24    1.28       1.10   29    5  2021\n",
       "2021-05-30    1.15    1.39       1.11   30    5  2021\n",
       "2021-05-31    1.29    1.44       1.25   31    5  2021\n",
       "\n",
       "[1339 rows x 6 columns]"
      ]
     },
     "execution_count": 108,
     "metadata": {},
     "output_type": "execute_result"
    }
   ],
   "source": [
    "X"
   ]
  },
  {
   "cell_type": "code",
   "execution_count": 109,
   "metadata": {},
   "outputs": [
    {
     "data": {
      "text/html": [
       "<div>\n",
       "<style scoped>\n",
       "    .dataframe tbody tr th:only-of-type {\n",
       "        vertical-align: middle;\n",
       "    }\n",
       "\n",
       "    .dataframe tbody tr th {\n",
       "        vertical-align: top;\n",
       "    }\n",
       "\n",
       "    .dataframe thead th {\n",
       "        text-align: right;\n",
       "    }\n",
       "</style>\n",
       "<table border=\"1\" class=\"dataframe\">\n",
       "  <thead>\n",
       "    <tr style=\"text-align: right;\">\n",
       "      <th></th>\n",
       "      <th>Cerrar**</th>\n",
       "    </tr>\n",
       "    <tr>\n",
       "      <th>fecha</th>\n",
       "      <th></th>\n",
       "    </tr>\n",
       "  </thead>\n",
       "  <tbody>\n",
       "    <tr>\n",
       "      <th>2017-10-01</th>\n",
       "      <td>0.02</td>\n",
       "    </tr>\n",
       "    <tr>\n",
       "      <th>2017-10-02</th>\n",
       "      <td>0.02</td>\n",
       "    </tr>\n",
       "    <tr>\n",
       "      <th>2017-10-03</th>\n",
       "      <td>0.02</td>\n",
       "    </tr>\n",
       "    <tr>\n",
       "      <th>2017-10-04</th>\n",
       "      <td>0.02</td>\n",
       "    </tr>\n",
       "    <tr>\n",
       "      <th>2017-10-05</th>\n",
       "      <td>0.02</td>\n",
       "    </tr>\n",
       "    <tr>\n",
       "      <th>...</th>\n",
       "      <td>...</td>\n",
       "    </tr>\n",
       "    <tr>\n",
       "      <th>2021-05-27</th>\n",
       "      <td>1.35</td>\n",
       "    </tr>\n",
       "    <tr>\n",
       "      <th>2021-05-28</th>\n",
       "      <td>1.24</td>\n",
       "    </tr>\n",
       "    <tr>\n",
       "      <th>2021-05-29</th>\n",
       "      <td>1.15</td>\n",
       "    </tr>\n",
       "    <tr>\n",
       "      <th>2021-05-30</th>\n",
       "      <td>1.29</td>\n",
       "    </tr>\n",
       "    <tr>\n",
       "      <th>2021-05-31</th>\n",
       "      <td>1.43</td>\n",
       "    </tr>\n",
       "  </tbody>\n",
       "</table>\n",
       "<p>1339 rows × 1 columns</p>\n",
       "</div>"
      ],
      "text/plain": [
       "            Cerrar**\n",
       "fecha               \n",
       "2017-10-01      0.02\n",
       "2017-10-02      0.02\n",
       "2017-10-03      0.02\n",
       "2017-10-04      0.02\n",
       "2017-10-05      0.02\n",
       "...              ...\n",
       "2021-05-27      1.35\n",
       "2021-05-28      1.24\n",
       "2021-05-29      1.15\n",
       "2021-05-30      1.29\n",
       "2021-05-31      1.43\n",
       "\n",
       "[1339 rows x 1 columns]"
      ]
     },
     "execution_count": 109,
     "metadata": {},
     "output_type": "execute_result"
    }
   ],
   "source": [
    "Y"
   ]
  },
  {
   "cell_type": "code",
   "execution_count": 110,
   "metadata": {},
   "outputs": [
    {
     "data": {
      "text/plain": [
       "pandas.core.frame.DataFrame"
      ]
     },
     "execution_count": 110,
     "metadata": {},
     "output_type": "execute_result"
    }
   ],
   "source": [
    "type(Y)"
   ]
  },
  {
   "cell_type": "code",
   "execution_count": 111,
   "metadata": {},
   "outputs": [
    {
     "data": {
      "text/plain": [
       "array([[0.02],\n",
       "       [0.02],\n",
       "       [0.02],\n",
       "       ...,\n",
       "       [1.15],\n",
       "       [1.29],\n",
       "       [1.43]])"
      ]
     },
     "execution_count": 111,
     "metadata": {},
     "output_type": "execute_result"
    }
   ],
   "source": [
    "Y=np.array(Y)\n",
    "Y"
   ]
  },
  {
   "cell_type": "code",
   "execution_count": 112,
   "metadata": {},
   "outputs": [
    {
     "data": {
      "text/plain": [
       "numpy.ndarray"
      ]
     },
     "execution_count": 112,
     "metadata": {},
     "output_type": "execute_result"
    }
   ],
   "source": [
    "type(Y)"
   ]
  },
  {
   "cell_type": "code",
   "execution_count": 113,
   "metadata": {},
   "outputs": [],
   "source": [
    " x_trainSVR,x_validSVR,y_trainSVR,y_validSVR=train_test_split(X,Y,test_size=0.2,random_state=233)"
   ]
  },
  {
   "cell_type": "code",
   "execution_count": 114,
   "metadata": {},
   "outputs": [
    {
     "name": "stdout",
     "output_type": "stream",
     "text": [
      "-0.004713718906514286\n"
     ]
    }
   ],
   "source": [
    "clf = svm.SVR()\n",
    "clf.fit(x_trainSVR,y_trainSVR.ravel())\n",
    "accuracy = clf.score(x_validSVR,y_validSVR)\n",
    "print (accuracy)"
   ]
  },
  {
   "cell_type": "code",
   "execution_count": 115,
   "metadata": {},
   "outputs": [],
   "source": [
    "predicionSVM = clf.predict(x_validSVR)\n"
   ]
  },
  {
   "cell_type": "code",
   "execution_count": 116,
   "metadata": {},
   "outputs": [
    {
     "data": {
      "text/plain": [
       "array([0.13705041, 0.14025622, 0.13848439, 0.13763693, 0.13753167,\n",
       "       0.14054781, 0.14048754, 0.13744882, 0.13768511, 0.14057361,\n",
       "       0.1397436 , 0.13746819, 0.13694221, 0.13987363, 0.13755339,\n",
       "       0.14044808, 0.13782107, 0.13851748, 0.13740364, 0.14048156,\n",
       "       0.13723721, 0.13967533, 0.13951263, 0.13785537, 0.137171  ,\n",
       "       0.13937779, 0.13741932, 0.13829824, 0.13736581, 0.13969471,\n",
       "       0.13943077, 0.14012358, 0.1393943 , 0.1374727 , 0.13802205,\n",
       "       0.13718594, 0.14028739, 0.13727033, 0.1396698 , 0.14003873,\n",
       "       0.13673584, 0.13878923, 0.13928251, 0.13695879, 0.13966083,\n",
       "       0.13688476, 0.140222  , 0.13873782, 0.13681549, 0.1378542 ,\n",
       "       0.13947148, 0.13818886, 0.14049812, 0.1383652 , 0.13822842,\n",
       "       0.13877712, 0.13658036, 0.14034079, 0.14053892, 0.13711654,\n",
       "       0.13763697, 0.13757512, 0.1407541 , 0.13738866, 0.13733905,\n",
       "       0.13812265, 0.13896483, 0.13680201, 0.13805647, 0.13758896,\n",
       "       0.13795583, 0.13760225, 0.14058574, 0.14068551, 0.1400621 ,\n",
       "       0.13878273, 0.13866316, 0.13946461, 0.1398781 , 0.13745688,\n",
       "       0.13732251, 0.13676653, 0.14012029, 0.13949775, 0.13838704,\n",
       "       0.13750292, 0.13882563, 0.13713192, 0.13714849, 0.13880404,\n",
       "       0.13869794, 0.13890421, 0.14032133, 0.14008718, 0.13923209,\n",
       "       0.13887197, 0.14036857, 0.14102863, 0.14010611, 0.14090953,\n",
       "       0.14069523, 0.13950582, 0.14018986, 0.13723321, 0.13815656,\n",
       "       0.13698489, 0.14053312, 0.13852953, 0.13790478, 0.13852389,\n",
       "       0.13813608, 0.13827244, 0.14048882, 0.14019538, 0.13817756,\n",
       "       0.1368428 , 0.13800549, 0.13833209, 0.13711839, 0.14035326,\n",
       "       0.13987605, 0.13676   , 0.14080501, 0.13770168, 0.1367193 ,\n",
       "       0.1373035 , 0.1407872 , 0.13896359, 0.14051653, 0.14050581,\n",
       "       0.1376535 , 0.13911293, 0.13768822, 0.13917153, 0.13980449,\n",
       "       0.13690394, 0.13898011, 0.14013922, 0.13757069, 0.13748388,\n",
       "       0.14043959, 0.13819578, 0.14030175, 0.14021193, 0.13907334,\n",
       "       0.13911468, 0.13983172, 0.13724961, 0.13715445, 0.13945326,\n",
       "       0.13849165, 0.13949412, 0.14037336, 0.13931396, 0.13698286,\n",
       "       0.13958958, 0.13725377, 0.13708308, 0.14041706, 0.13698905,\n",
       "       0.13969641, 0.13758654, 0.14046591, 0.13971049, 0.13823766,\n",
       "       0.1390532 , 0.13749853, 0.14029033, 0.14011585, 0.13875044,\n",
       "       0.14077065, 0.1372041 , 0.14061401, 0.1375151 , 0.13960268,\n",
       "       0.13892806, 0.13726878, 0.13768663, 0.13723137, 0.14018343,\n",
       "       0.14057203, 0.13653945, 0.13696834, 0.14042003, 0.13930172,\n",
       "       0.14051468, 0.14013026, 0.13950981, 0.13854609, 0.13940852,\n",
       "       0.13914613, 0.13655129, 0.1375082 , 0.13845539, 0.13932579,\n",
       "       0.13747512, 0.13826272, 0.13726147, 0.14033788, 0.13792216,\n",
       "       0.14005407, 0.13977672, 0.13964674, 0.1404727 , 0.14086931,\n",
       "       0.1370337 , 0.13920465, 0.14095288, 0.13843069, 0.13999433,\n",
       "       0.13802412, 0.13791915, 0.13803906, 0.13838068, 0.13861275,\n",
       "       0.13762118, 0.14049474, 0.13947877, 0.13884808, 0.13773712,\n",
       "       0.13977911, 0.13752549, 0.13688737, 0.14065816, 0.13946222,\n",
       "       0.1371829 , 0.13854655, 0.13784973, 0.13864868, 0.13943993,\n",
       "       0.1389627 , 0.13716742, 0.13971371, 0.13712067, 0.13821019,\n",
       "       0.13884047, 0.14002334, 0.13767006, 0.13726875, 0.13957898,\n",
       "       0.13999189, 0.13954573, 0.13748196, 0.13911942, 0.13881149,\n",
       "       0.13692803, 0.13761882, 0.13679237, 0.14040617, 0.13997225,\n",
       "       0.136951  , 0.13904882, 0.13856596, 0.13944641, 0.13711868,\n",
       "       0.13979566, 0.1380398 , 0.13728324, 0.14080375, 0.13857976,\n",
       "       0.13982315, 0.13697623, 0.13786704, 0.13869838, 0.13912058,\n",
       "       0.1377032 , 0.13699942, 0.13729979])"
      ]
     },
     "execution_count": 116,
     "metadata": {},
     "output_type": "execute_result"
    }
   ],
   "source": [
    "predicionSVM"
   ]
  },
  {
   "cell_type": "code",
   "execution_count": 117,
   "metadata": {},
   "outputs": [
    {
     "data": {
      "text/html": [
       "<div>\n",
       "<style scoped>\n",
       "    .dataframe tbody tr th:only-of-type {\n",
       "        vertical-align: middle;\n",
       "    }\n",
       "\n",
       "    .dataframe tbody tr th {\n",
       "        vertical-align: top;\n",
       "    }\n",
       "\n",
       "    .dataframe thead th {\n",
       "        text-align: right;\n",
       "    }\n",
       "</style>\n",
       "<table border=\"1\" class=\"dataframe\">\n",
       "  <thead>\n",
       "    <tr style=\"text-align: right;\">\n",
       "      <th></th>\n",
       "      <th>Abrir*</th>\n",
       "      <th>Elevar</th>\n",
       "      <th>Disminuir</th>\n",
       "      <th>Dia</th>\n",
       "      <th>Mes</th>\n",
       "      <th>Año</th>\n",
       "    </tr>\n",
       "    <tr>\n",
       "      <th>fecha</th>\n",
       "      <th></th>\n",
       "      <th></th>\n",
       "      <th></th>\n",
       "      <th></th>\n",
       "      <th></th>\n",
       "      <th></th>\n",
       "    </tr>\n",
       "  </thead>\n",
       "  <tbody>\n",
       "    <tr>\n",
       "      <th>2019-12-06</th>\n",
       "      <td>0.03</td>\n",
       "      <td>0.03</td>\n",
       "      <td>0.03</td>\n",
       "      <td>6</td>\n",
       "      <td>12</td>\n",
       "      <td>2019</td>\n",
       "    </tr>\n",
       "    <tr>\n",
       "      <th>2021-03-21</th>\n",
       "      <td>1.01</td>\n",
       "      <td>1.04</td>\n",
       "      <td>0.97</td>\n",
       "      <td>21</td>\n",
       "      <td>3</td>\n",
       "      <td>2021</td>\n",
       "    </tr>\n",
       "    <tr>\n",
       "      <th>2020-07-28</th>\n",
       "      <td>0.12</td>\n",
       "      <td>0.13</td>\n",
       "      <td>0.12</td>\n",
       "      <td>28</td>\n",
       "      <td>7</td>\n",
       "      <td>2020</td>\n",
       "    </tr>\n",
       "    <tr>\n",
       "      <th>2019-10-11</th>\n",
       "      <td>0.04</td>\n",
       "      <td>0.04</td>\n",
       "      <td>0.04</td>\n",
       "      <td>11</td>\n",
       "      <td>10</td>\n",
       "      <td>2019</td>\n",
       "    </tr>\n",
       "    <tr>\n",
       "      <th>2017-10-04</th>\n",
       "      <td>0.02</td>\n",
       "      <td>0.02</td>\n",
       "      <td>0.02</td>\n",
       "      <td>4</td>\n",
       "      <td>10</td>\n",
       "      <td>2017</td>\n",
       "    </tr>\n",
       "    <tr>\n",
       "      <th>...</th>\n",
       "      <td>...</td>\n",
       "      <td>...</td>\n",
       "      <td>...</td>\n",
       "      <td>...</td>\n",
       "      <td>...</td>\n",
       "      <td>...</td>\n",
       "    </tr>\n",
       "    <tr>\n",
       "      <th>2019-06-28</th>\n",
       "      <td>0.08</td>\n",
       "      <td>0.08</td>\n",
       "      <td>0.07</td>\n",
       "      <td>28</td>\n",
       "      <td>6</td>\n",
       "      <td>2019</td>\n",
       "    </tr>\n",
       "    <tr>\n",
       "      <th>2018-05-18</th>\n",
       "      <td>0.21</td>\n",
       "      <td>0.21</td>\n",
       "      <td>0.20</td>\n",
       "      <td>18</td>\n",
       "      <td>5</td>\n",
       "      <td>2018</td>\n",
       "    </tr>\n",
       "    <tr>\n",
       "      <th>2019-10-07</th>\n",
       "      <td>0.04</td>\n",
       "      <td>0.04</td>\n",
       "      <td>0.04</td>\n",
       "      <td>7</td>\n",
       "      <td>10</td>\n",
       "      <td>2019</td>\n",
       "    </tr>\n",
       "    <tr>\n",
       "      <th>2017-11-16</th>\n",
       "      <td>0.02</td>\n",
       "      <td>0.02</td>\n",
       "      <td>0.02</td>\n",
       "      <td>16</td>\n",
       "      <td>11</td>\n",
       "      <td>2017</td>\n",
       "    </tr>\n",
       "    <tr>\n",
       "      <th>2017-10-18</th>\n",
       "      <td>0.02</td>\n",
       "      <td>0.02</td>\n",
       "      <td>0.02</td>\n",
       "      <td>18</td>\n",
       "      <td>10</td>\n",
       "      <td>2017</td>\n",
       "    </tr>\n",
       "  </tbody>\n",
       "</table>\n",
       "<p>268 rows × 6 columns</p>\n",
       "</div>"
      ],
      "text/plain": [
       "            Abrir*  Elevar  Disminuir  Dia  Mes   Año\n",
       "fecha                                                \n",
       "2019-12-06    0.03    0.03       0.03    6   12  2019\n",
       "2021-03-21    1.01    1.04       0.97   21    3  2021\n",
       "2020-07-28    0.12    0.13       0.12   28    7  2020\n",
       "2019-10-11    0.04    0.04       0.04   11   10  2019\n",
       "2017-10-04    0.02    0.02       0.02    4   10  2017\n",
       "...            ...     ...        ...  ...  ...   ...\n",
       "2019-06-28    0.08    0.08       0.07   28    6  2019\n",
       "2018-05-18    0.21    0.21       0.20   18    5  2018\n",
       "2019-10-07    0.04    0.04       0.04    7   10  2019\n",
       "2017-11-16    0.02    0.02       0.02   16   11  2017\n",
       "2017-10-18    0.02    0.02       0.02   18   10  2017\n",
       "\n",
       "[268 rows x 6 columns]"
      ]
     },
     "execution_count": 117,
     "metadata": {},
     "output_type": "execute_result"
    }
   ],
   "source": [
    "x_validSVR"
   ]
  },
  {
   "cell_type": "code",
   "execution_count": 118,
   "metadata": {},
   "outputs": [
    {
     "data": {
      "text/plain": [
       "(268, 1)"
      ]
     },
     "execution_count": 118,
     "metadata": {},
     "output_type": "execute_result"
    }
   ],
   "source": [
    "y_validSVR.shape"
   ]
  },
  {
   "cell_type": "code",
   "execution_count": 119,
   "metadata": {},
   "outputs": [
    {
     "data": {
      "text/plain": [
       "array([0.13705041, 0.14025622, 0.13848439, 0.13763693, 0.13753167,\n",
       "       0.14054781, 0.14048754, 0.13744882, 0.13768511, 0.14057361,\n",
       "       0.1397436 , 0.13746819, 0.13694221, 0.13987363, 0.13755339,\n",
       "       0.14044808, 0.13782107, 0.13851748, 0.13740364, 0.14048156,\n",
       "       0.13723721, 0.13967533, 0.13951263, 0.13785537, 0.137171  ,\n",
       "       0.13937779, 0.13741932, 0.13829824, 0.13736581, 0.13969471,\n",
       "       0.13943077, 0.14012358, 0.1393943 , 0.1374727 , 0.13802205,\n",
       "       0.13718594, 0.14028739, 0.13727033, 0.1396698 , 0.14003873,\n",
       "       0.13673584, 0.13878923, 0.13928251, 0.13695879, 0.13966083,\n",
       "       0.13688476, 0.140222  , 0.13873782, 0.13681549, 0.1378542 ,\n",
       "       0.13947148, 0.13818886, 0.14049812, 0.1383652 , 0.13822842,\n",
       "       0.13877712, 0.13658036, 0.14034079, 0.14053892, 0.13711654,\n",
       "       0.13763697, 0.13757512, 0.1407541 , 0.13738866, 0.13733905,\n",
       "       0.13812265, 0.13896483, 0.13680201, 0.13805647, 0.13758896,\n",
       "       0.13795583, 0.13760225, 0.14058574, 0.14068551, 0.1400621 ,\n",
       "       0.13878273, 0.13866316, 0.13946461, 0.1398781 , 0.13745688,\n",
       "       0.13732251, 0.13676653, 0.14012029, 0.13949775, 0.13838704,\n",
       "       0.13750292, 0.13882563, 0.13713192, 0.13714849, 0.13880404,\n",
       "       0.13869794, 0.13890421, 0.14032133, 0.14008718, 0.13923209,\n",
       "       0.13887197, 0.14036857, 0.14102863, 0.14010611, 0.14090953,\n",
       "       0.14069523, 0.13950582, 0.14018986, 0.13723321, 0.13815656,\n",
       "       0.13698489, 0.14053312, 0.13852953, 0.13790478, 0.13852389,\n",
       "       0.13813608, 0.13827244, 0.14048882, 0.14019538, 0.13817756,\n",
       "       0.1368428 , 0.13800549, 0.13833209, 0.13711839, 0.14035326,\n",
       "       0.13987605, 0.13676   , 0.14080501, 0.13770168, 0.1367193 ,\n",
       "       0.1373035 , 0.1407872 , 0.13896359, 0.14051653, 0.14050581,\n",
       "       0.1376535 , 0.13911293, 0.13768822, 0.13917153, 0.13980449,\n",
       "       0.13690394, 0.13898011, 0.14013922, 0.13757069, 0.13748388,\n",
       "       0.14043959, 0.13819578, 0.14030175, 0.14021193, 0.13907334,\n",
       "       0.13911468, 0.13983172, 0.13724961, 0.13715445, 0.13945326,\n",
       "       0.13849165, 0.13949412, 0.14037336, 0.13931396, 0.13698286,\n",
       "       0.13958958, 0.13725377, 0.13708308, 0.14041706, 0.13698905,\n",
       "       0.13969641, 0.13758654, 0.14046591, 0.13971049, 0.13823766,\n",
       "       0.1390532 , 0.13749853, 0.14029033, 0.14011585, 0.13875044,\n",
       "       0.14077065, 0.1372041 , 0.14061401, 0.1375151 , 0.13960268,\n",
       "       0.13892806, 0.13726878, 0.13768663, 0.13723137, 0.14018343,\n",
       "       0.14057203, 0.13653945, 0.13696834, 0.14042003, 0.13930172,\n",
       "       0.14051468, 0.14013026, 0.13950981, 0.13854609, 0.13940852,\n",
       "       0.13914613, 0.13655129, 0.1375082 , 0.13845539, 0.13932579,\n",
       "       0.13747512, 0.13826272, 0.13726147, 0.14033788, 0.13792216,\n",
       "       0.14005407, 0.13977672, 0.13964674, 0.1404727 , 0.14086931,\n",
       "       0.1370337 , 0.13920465, 0.14095288, 0.13843069, 0.13999433,\n",
       "       0.13802412, 0.13791915, 0.13803906, 0.13838068, 0.13861275,\n",
       "       0.13762118, 0.14049474, 0.13947877, 0.13884808, 0.13773712,\n",
       "       0.13977911, 0.13752549, 0.13688737, 0.14065816, 0.13946222,\n",
       "       0.1371829 , 0.13854655, 0.13784973, 0.13864868, 0.13943993,\n",
       "       0.1389627 , 0.13716742, 0.13971371, 0.13712067, 0.13821019,\n",
       "       0.13884047, 0.14002334, 0.13767006, 0.13726875, 0.13957898,\n",
       "       0.13999189, 0.13954573, 0.13748196, 0.13911942, 0.13881149,\n",
       "       0.13692803, 0.13761882, 0.13679237, 0.14040617, 0.13997225,\n",
       "       0.136951  , 0.13904882, 0.13856596, 0.13944641, 0.13711868,\n",
       "       0.13979566, 0.1380398 , 0.13728324, 0.14080375, 0.13857976,\n",
       "       0.13982315, 0.13697623, 0.13786704, 0.13869838, 0.13912058,\n",
       "       0.1377032 , 0.13699942, 0.13729979])"
      ]
     },
     "execution_count": 119,
     "metadata": {},
     "output_type": "execute_result"
    }
   ],
   "source": [
    "YY=pd.DataFrame(Y)\n",
    "YY=predicionSVM\n",
    "YY"
   ]
  },
  {
   "cell_type": "code",
   "execution_count": 120,
   "metadata": {},
   "outputs": [
    {
     "data": {
      "text/html": [
       "<div>\n",
       "<style scoped>\n",
       "    .dataframe tbody tr th:only-of-type {\n",
       "        vertical-align: middle;\n",
       "    }\n",
       "\n",
       "    .dataframe tbody tr th {\n",
       "        vertical-align: top;\n",
       "    }\n",
       "\n",
       "    .dataframe thead th {\n",
       "        text-align: right;\n",
       "    }\n",
       "</style>\n",
       "<table border=\"1\" class=\"dataframe\">\n",
       "  <thead>\n",
       "    <tr style=\"text-align: right;\">\n",
       "      <th></th>\n",
       "      <th>0</th>\n",
       "    </tr>\n",
       "  </thead>\n",
       "  <tbody>\n",
       "    <tr>\n",
       "      <th>0</th>\n",
       "      <td>0.137050</td>\n",
       "    </tr>\n",
       "    <tr>\n",
       "      <th>1</th>\n",
       "      <td>0.140256</td>\n",
       "    </tr>\n",
       "    <tr>\n",
       "      <th>2</th>\n",
       "      <td>0.138484</td>\n",
       "    </tr>\n",
       "    <tr>\n",
       "      <th>3</th>\n",
       "      <td>0.137637</td>\n",
       "    </tr>\n",
       "    <tr>\n",
       "      <th>4</th>\n",
       "      <td>0.137532</td>\n",
       "    </tr>\n",
       "    <tr>\n",
       "      <th>...</th>\n",
       "      <td>...</td>\n",
       "    </tr>\n",
       "    <tr>\n",
       "      <th>263</th>\n",
       "      <td>0.138698</td>\n",
       "    </tr>\n",
       "    <tr>\n",
       "      <th>264</th>\n",
       "      <td>0.139121</td>\n",
       "    </tr>\n",
       "    <tr>\n",
       "      <th>265</th>\n",
       "      <td>0.137703</td>\n",
       "    </tr>\n",
       "    <tr>\n",
       "      <th>266</th>\n",
       "      <td>0.136999</td>\n",
       "    </tr>\n",
       "    <tr>\n",
       "      <th>267</th>\n",
       "      <td>0.137300</td>\n",
       "    </tr>\n",
       "  </tbody>\n",
       "</table>\n",
       "<p>268 rows × 1 columns</p>\n",
       "</div>"
      ],
      "text/plain": [
       "            0\n",
       "0    0.137050\n",
       "1    0.140256\n",
       "2    0.138484\n",
       "3    0.137637\n",
       "4    0.137532\n",
       "..        ...\n",
       "263  0.138698\n",
       "264  0.139121\n",
       "265  0.137703\n",
       "266  0.136999\n",
       "267  0.137300\n",
       "\n",
       "[268 rows x 1 columns]"
      ]
     },
     "execution_count": 120,
     "metadata": {},
     "output_type": "execute_result"
    }
   ],
   "source": [
    "YY=pd.DataFrame(YY)\n",
    "YY"
   ]
  },
  {
   "cell_type": "code",
   "execution_count": 121,
   "metadata": {},
   "outputs": [
    {
     "data": {
      "image/png": "[encoded data removed]",
      "text/plain": [
       "<Figure size 1152x432 with 1 Axes>"
      ]
     },
     "metadata": {
      "needs_background": "light"
     },
     "output_type": "display_data"
    }
   ],
   "source": [
    "\n",
    "plt.figure(figsize=(16,6))\n",
    "plt.title('Cap. de Mercado en función de la fecha')\n",
    "plt.xlabel('dias')\n",
    "plt.ylabel('Cap. de Mercado')\n",
    "plt.plot(y_validSVR,color='red',label='cierre')\n",
    "plt.legend(loc='upper left',fontsize=12)\n",
    "plt.grid()"
   ]
  },
  {
   "cell_type": "code",
   "execution_count": 122,
   "metadata": {
    "colab": {
     "base_uri": "https://localhost:8080/",
     "height": 565
    },
    "id": "tMVHvCg9bzvv",
    "outputId": "eba30fb7-673a-4fae-ac09-32eeb1079437"
   },
   "outputs": [
    {
     "data": {
      "image/png": "[encoded data removed]",
      "text/plain": [
       "<Figure size 1152x432 with 1 Axes>"
      ]
     },
     "metadata": {
      "needs_background": "light"
     },
     "output_type": "display_data"
    }
   ],
   "source": [
    "\n",
    "plt.figure(figsize=(16,6))\n",
    "plt.title('Cap. de Mercado en función de la fecha')\n",
    "plt.xlabel('dias')\n",
    "plt.ylabel('Cap. de Mercado')\n",
    "plt.plot(YY,color='blue',label='prediccion')\n",
    "plt.legend(loc='upper left',fontsize=12)\n",
    "plt.grid()"
   ]
  },
  {
   "cell_type": "code",
   "execution_count": 123,
   "metadata": {},
   "outputs": [
    {
     "ename": "ValueError",
     "evalue": "X.shape[1] = 4 should be equal to 6, the number of features at training time",
     "output_type": "error",
     "traceback": [
      "\u001b[1;31m---------------------------------------------------------------------------\u001b[0m",
      "\u001b[1;31mValueError\u001b[0m                                Traceback (most recent call last)",
      "\u001b[1;32m<ipython-input-123-bd0bb97e8018>\u001b[0m in \u001b[0;36m<module>\u001b[1;34m\u001b[0m\n\u001b[1;32m----> 1\u001b[1;33m \u001b[0mpredictedtest\u001b[0m \u001b[1;33m=\u001b[0m \u001b[0mclf\u001b[0m\u001b[1;33m.\u001b[0m\u001b[0mpredict\u001b[0m\u001b[1;33m(\u001b[0m\u001b[1;33m[\u001b[0m\u001b[1;33m[\u001b[0m\u001b[1;36m1.38\u001b[0m\u001b[1;33m,\u001b[0m\u001b[1;36m7\u001b[0m\u001b[1;33m,\u001b[0m\u001b[1;36m6\u001b[0m\u001b[1;33m,\u001b[0m\u001b[1;36m2021\u001b[0m\u001b[1;33m]\u001b[0m\u001b[1;33m]\u001b[0m\u001b[1;33m)\u001b[0m\u001b[1;33m\u001b[0m\u001b[1;33m\u001b[0m\u001b[0m\n\u001b[0m\u001b[0;32m      2\u001b[0m \u001b[0mprint\u001b[0m\u001b[1;33m(\u001b[0m\u001b[1;34m'El porcentaje respecto al día anterior será'\u001b[0m\u001b[1;33m,\u001b[0m\u001b[0mpredictedtest\u001b[0m\u001b[1;33m)\u001b[0m\u001b[1;33m\u001b[0m\u001b[1;33m\u001b[0m\u001b[0m\n",
      "\u001b[1;32m~\\Anaconda2\\envs\\py36\\lib\\site-packages\\sklearn\\svm\\_base.py\u001b[0m in \u001b[0;36mpredict\u001b[1;34m(self, X)\u001b[0m\n\u001b[0;32m    331\u001b[0m         \u001b[0my_pred\u001b[0m \u001b[1;33m:\u001b[0m \u001b[0mndarray\u001b[0m \u001b[0mof\u001b[0m \u001b[0mshape\u001b[0m \u001b[1;33m(\u001b[0m\u001b[0mn_samples\u001b[0m\u001b[1;33m,\u001b[0m\u001b[1;33m)\u001b[0m\u001b[1;33m\u001b[0m\u001b[1;33m\u001b[0m\u001b[0m\n\u001b[0;32m    332\u001b[0m         \"\"\"\n\u001b[1;32m--> 333\u001b[1;33m         \u001b[0mX\u001b[0m \u001b[1;33m=\u001b[0m \u001b[0mself\u001b[0m\u001b[1;33m.\u001b[0m\u001b[0m_validate_for_predict\u001b[0m\u001b[1;33m(\u001b[0m\u001b[0mX\u001b[0m\u001b[1;33m)\u001b[0m\u001b[1;33m\u001b[0m\u001b[1;33m\u001b[0m\u001b[0m\n\u001b[0m\u001b[0;32m    334\u001b[0m         \u001b[0mpredict\u001b[0m \u001b[1;33m=\u001b[0m \u001b[0mself\u001b[0m\u001b[1;33m.\u001b[0m\u001b[0m_sparse_predict\u001b[0m \u001b[1;32mif\u001b[0m \u001b[0mself\u001b[0m\u001b[1;33m.\u001b[0m\u001b[0m_sparse\u001b[0m \u001b[1;32melse\u001b[0m \u001b[0mself\u001b[0m\u001b[1;33m.\u001b[0m\u001b[0m_dense_predict\u001b[0m\u001b[1;33m\u001b[0m\u001b[1;33m\u001b[0m\u001b[0m\n\u001b[0;32m    335\u001b[0m         \u001b[1;32mreturn\u001b[0m \u001b[0mpredict\u001b[0m\u001b[1;33m(\u001b[0m\u001b[0mX\u001b[0m\u001b[1;33m)\u001b[0m\u001b[1;33m\u001b[0m\u001b[1;33m\u001b[0m\u001b[0m\n",
      "\u001b[1;32m~\\Anaconda2\\envs\\py36\\lib\\site-packages\\sklearn\\svm\\_base.py\u001b[0m in \u001b[0;36m_validate_for_predict\u001b[1;34m(self, X)\u001b[0m\n\u001b[0;32m    484\u001b[0m             raise ValueError(\"X.shape[1] = %d should be equal to %d, \"\n\u001b[0;32m    485\u001b[0m                              \u001b[1;34m\"the number of features at training time\"\u001b[0m \u001b[1;33m%\u001b[0m\u001b[1;33m\u001b[0m\u001b[1;33m\u001b[0m\u001b[0m\n\u001b[1;32m--> 486\u001b[1;33m                              (X.shape[1], self.shape_fit_[1]))\n\u001b[0m\u001b[0;32m    487\u001b[0m         \u001b[1;32mreturn\u001b[0m \u001b[0mX\u001b[0m\u001b[1;33m\u001b[0m\u001b[1;33m\u001b[0m\u001b[0m\n\u001b[0;32m    488\u001b[0m \u001b[1;33m\u001b[0m\u001b[0m\n",
      "\u001b[1;31mValueError\u001b[0m: X.shape[1] = 4 should be equal to 6, the number of features at training time"
     ]
    }
   ],
   "source": [
    "predictedtest = clf.predict([[1.38,7,6,2021]])\n",
    "print('El porcentaje respecto al día anterior será',predictedtest)"
   ]
  },
  {
   "cell_type": "code",
   "execution_count": null,
   "metadata": {},
   "outputs": [],
   "source": []
  }
 ],
 "metadata": {
  "colab": {
   "collapsed_sections": [],
   "name": "PFG_ADA -fecha.ipynb",
   "provenance": []
  },
  "kernelspec": {
   "display_name": "Python 3",
   "language": "python",
   "name": "python3"
  },
  "language_info": {
   "codemirror_mode": {
    "name": "ipython",
    "version": 3
   },
   "file_extension": ".py",
   "mimetype": "text/x-python",
   "name": "python",
   "nbconvert_exporter": "python",
   "pygments_lexer": "ipython3",
   "version": "3.6.10"
  }
 },
 "nbformat": 4,
 "nbformat_minor": 1
}
